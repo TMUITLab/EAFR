{
  "cells": [
    {
      "cell_type": "markdown",
      "metadata": {
        "id": "view-in-github",
        "colab_type": "text"
      },
      "source": [
        "<a href=\"https://colab.research.google.com/github/TMUITLab/EAFR/blob/master/EA4.ipynb\" target=\"_parent\"><img src=\"https://colab.research.google.com/assets/colab-badge.svg\" alt=\"Open In Colab\"/></a>"
      ]
    },
    {
      "cell_type": "code",
      "execution_count": null,
      "metadata": {
        "id": "Mv8gecYb39Zy"
      },
      "outputs": [],
      "source": [
        "!git clone https://github.com/TMUITLab/EAFR\n",
        "!wget -O 'data.zip' 'https://efsgpq-ch3301.files.1drv.com/y4muoyVficiYL6mAlmm7s9m65fhNRboLtxg7FmaufA9QzY2tVhsyi-nXNtgahgN8NhrumVKCHB-d_lfi_5OTy1e5NFe2walhCu2Z1zF3zcp_hammSHuJHk5BeG6YbT7STynmA3SDPP39sNzn9V2Iv2suqlHkIrDRvRuvvM_r6IKuiRmJ35YirCUrY_Rojf5d-oQrxyQTj86Wz70JyiwrAYxfA'\n",
        "!unzip '/content/data.zip' -d '/content/EAFR'\n",
        "\n",
        "!pip install torch-scatter -f https://data.pyg.org/whl/torch-1.10.0+cu111.html\n",
        "!pip install torch-sparse -f https://data.pyg.org/whl/torch-1.10.0+cu111.html\n",
        "!pip install torch-geometric\n",
        "\n",
        "!pip install igraph\n",
        "!git pull https://github.com/TMUITLab/EAFR"
      ]
    },
    {
      "cell_type": "code",
      "execution_count": null,
      "metadata": {
        "id": "6NSkNdKdtj1a"
      },
      "outputs": [],
      "source": [
        "%cd '/content/EAFR'\n",
        "!CUDA_VISIBLE_DEVICES=0 python3 run.py"
      ]
    },
    {
      "cell_type": "code",
      "execution_count": null,
      "metadata": {
        "id": "5h5lXsCs4mR3"
      },
      "outputs": [],
      "source": [
        "!fuser -v /dev/nvidia*"
      ]
    },
    {
      "cell_type": "code",
      "execution_count": null,
      "metadata": {
        "id": "7Z4iLewwRq_u"
      },
      "outputs": [],
      "source": [
        "!kill -9 1661 "
      ]
    },
    {
      "cell_type": "code",
      "execution_count": null,
      "metadata": {
        "id": "kCsR8niV5tpH"
      },
      "outputs": [],
      "source": [
        "!nvcc --version https://github.com/MaoXinn/RREA"
      ]
    },
    {
      "cell_type": "code",
      "execution_count": null,
      "metadata": {
        "id": "hwZ9zE0n-vpZ",
        "colab": {
          "base_uri": "https://localhost:8080/"
        },
        "outputId": "587eb546-e80c-439b-c42a-2e10e7771dc3"
      },
      "outputs": [
        {
          "output_type": "stream",
          "name": "stdout",
          "text": [
            "1.10.0+cu111\n",
            "11.1\n"
          ]
        }
      ],
      "source": [
        "!python -c \"import torch; print(torch.__version__)\"\n",
        "!python -c \"import torch; print(torch.version.cuda)\""
      ]
    },
    {
      "cell_type": "code",
      "execution_count": null,
      "metadata": {
        "id": "ijyhjY1p5EnG"
      },
      "outputs": [],
      "source": [
        "!git pull https://github.com/TMUITLab/EAFR"
      ]
    },
    {
      "cell_type": "code",
      "execution_count": null,
      "metadata": {
        "id": "nim_lcF35NhG"
      },
      "outputs": [],
      "source": [
        "%cd '/content/EAFR'\n",
        "!CUDA_VISIBLE_DEVICES=0 python3 run.py"
      ]
    },
    {
      "cell_type": "code",
      "execution_count": null,
      "metadata": {
        "id": "m_DHAfBCiV1r"
      },
      "outputs": [],
      "source": [
        "!git clone 'https://github.com/vinhsuhi/EMGCN'"
      ]
    },
    {
      "cell_type": "code",
      "execution_count": null,
      "metadata": {
        "id": "Uvfm_eLo-hdT"
      },
      "outputs": [],
      "source": [
        "import requests\n",
        "\n",
        "def download_file_from_google_drive(id, destination):\n",
        "    URL = \"https://docs.google.com/uc?export=download\"\n",
        "\n",
        "    session = requests.Session()\n",
        "\n",
        "    response = session.get(URL, params = { 'id' : id }, stream = True)\n",
        "    token = get_confirm_token(response)\n",
        "\n",
        "    if token:\n",
        "        params = { 'id' : id, 'confirm' : token }\n",
        "        response = session.get(URL, params = params, stream = True)\n",
        "\n",
        "    save_response_content(response, destination)    \n",
        "\n",
        "def get_confirm_token(response):\n",
        "    for key, value in response.cookies.items():\n",
        "        if key.startswith('download_warning'):\n",
        "            return value\n",
        "\n",
        "    return None\n",
        "\n",
        "def save_response_content(response, destination):\n",
        "    CHUNK_SIZE = 32768\n",
        "\n",
        "    with open(destination, \"wb\") as f:\n",
        "        for chunk in response.iter_content(CHUNK_SIZE):\n",
        "            if chunk: # filter out keep-alive new chunks\n",
        "                f.write(chunk)"
      ]
    },
    {
      "cell_type": "code",
      "execution_count": null,
      "metadata": {
        "id": "p_lCpFlo95Z0"
      },
      "outputs": [],
      "source": [
        "%cd /content/\n",
        "download_file_from_google_drive('12XL08tB8zplCNhzLE-9qbsFFum7RoV6r','emgcn.rar')\n",
        "!pip install patool\n",
        "import patoolib\n",
        "patoolib.extract_archive(\"/content/emgcn.rar\", outdir=\"/content/EMGCN/\")"
      ]
    },
    {
      "cell_type": "code",
      "execution_count": null,
      "metadata": {
        "id": "IMQwyPaP-TQI"
      },
      "outputs": [],
      "source": [
        "%cd '/content/EMGCN'\n",
        "!python -u network_alignment.py --dataset_name zh_en --source_dataset data/networkx/zh_enDI/zh/graphsage/ --target_dataset data/networkx/zh_enDI/en/graphsage --groundtruth data/networkx/zh_enDI/dictionaries/groundtruth EMGCN --sparse --log "
      ]
    },
    {
      "cell_type": "code",
      "source": [
        "\n",
        "!pip install torch-scatter -f https://data.pyg.org/whl/torch-1.10.0+cu111.html\n",
        "!pip install torch-sparse -f https://data.pyg.org/whl/torch-1.10.0+cu111.html\n",
        "!pip install torch-geometric"
      ],
      "metadata": {
        "id": "p-rVgHOzSMNK"
      },
      "execution_count": null,
      "outputs": []
    },
    {
      "cell_type": "code",
      "execution_count": null,
      "metadata": {
        "id": "Eotb-M7RyvfH"
      },
      "outputs": [],
      "source": [
        "%cd '/content'\n",
        "!git clone https://github.com/zhurboo/RAGA"
      ]
    },
    {
      "cell_type": "code",
      "source": [
        "download_file_from_google_drive('1uJ2omzIs0NCtJsGQsyFCBHCXUhoK1mkO','/content/RAGA/data.tar.gz')"
      ],
      "metadata": {
        "id": "6aw346iWS4CL"
      },
      "execution_count": null,
      "outputs": []
    },
    {
      "cell_type": "code",
      "source": [
        "%cd '/content/RAGA'\n",
        "!tar -xf data.tar.gz"
      ],
      "metadata": {
        "id": "Qh-_IAUFTOzV",
        "outputId": "aa6da7be-03a7-49de-a53d-fbb02bff94af",
        "colab": {
          "base_uri": "https://localhost:8080/"
        }
      },
      "execution_count": null,
      "outputs": [
        {
          "output_type": "stream",
          "name": "stdout",
          "text": [
            "/content/RAGA\n"
          ]
        }
      ]
    },
    {
      "cell_type": "code",
      "source": [
        "\n",
        "%%writefi!le setup.sh\n",
        "\n",
        "git clone https://github.com/NVIDIA/apex\n",
        "pip install -v --no-cache-dir --global-option=\"--cpp_ext\" --global-option=\"--cuda_ext\" ./apex"
      ],
      "metadata": {
        "id": "tIshNjf2OnKv",
        "outputId": "95441fa7-ae6e-4877-bb17-5c03191430bb",
        "colab": {
          "base_uri": "https://localhost:8080/"
        }
      },
      "execution_count": null,
      "outputs": [
        {
          "output_type": "stream",
          "name": "stdout",
          "text": [
            "Writing setup.sh\n"
          ]
        }
      ]
    },
    {
      "cell_type": "code",
      "source": [
        "!sh setup.sh\n"
      ],
      "metadata": {
        "id": "IVdwj8EhXAkv"
      },
      "execution_count": null,
      "outputs": []
    },
    {
      "cell_type": "code",
      "source": [
        "%cd '/content/RAGA'\n",
        "!python train.py"
      ],
      "metadata": {
        "id": "wFL8jtmeOakt"
      },
      "execution_count": null,
      "outputs": []
    },
    {
      "cell_type": "code",
      "execution_count": 1,
      "metadata": {
        "colab": {
          "base_uri": "https://localhost:8080/"
        },
        "id": "WjActARX7sCY",
        "outputId": "0c9e9f7e-244f-4e25-caf3-529a5e811988"
      },
      "outputs": [
        {
          "output_type": "stream",
          "name": "stdout",
          "text": [
            "/content\n",
            "Cloning into 'GCN-Align'...\n",
            "remote: Enumerating objects: 53, done.\u001b[K\n",
            "remote: Total 53 (delta 0), reused 0 (delta 0), pack-reused 53\u001b[K\n",
            "Unpacking objects: 100% (53/53), done.\n"
          ]
        }
      ],
      "source": [
        "%cd '/content'\n",
        "!git clone https://github.com/1049451037/GCN-Align"
      ]
    },
    {
      "cell_type": "code",
      "execution_count": 2,
      "metadata": {
        "colab": {
          "base_uri": "https://localhost:8080/"
        },
        "id": "0G6_LeBQ3PFb",
        "outputId": "f60ea575-2aca-4091-fc88-4b334e2b4b53"
      },
      "outputs": [
        {
          "output_type": "stream",
          "name": "stdout",
          "text": [
            "/content\n",
            "Cloning into 'RREA'...\n",
            "remote: Enumerating objects: 32, done.\u001b[K\n",
            "remote: Counting objects: 100% (32/32), done.\u001b[K\n",
            "remote: Compressing objects: 100% (30/30), done.\u001b[K\n",
            "remote: Total 32 (delta 4), reused 0 (delta 0), pack-reused 0\u001b[K\n",
            "Unpacking objects: 100% (32/32), done.\n"
          ]
        }
      ],
      "source": [
        "%cd '/content'\n",
        "!git clone https://github.com/MaoXinn/RREA"
      ]
    },
    {
      "cell_type": "code",
      "execution_count": 3,
      "metadata": {
        "id": "ZB2YBVkb4pYB"
      },
      "outputs": [],
      "source": [
        "import warnings\n",
        "warnings.filterwarnings('ignore')\n",
        "\n",
        "\n",
        "from importlib.machinery import SourceFileLoader\n",
        " \n",
        "layer = SourceFileLoader(\"layer\", \"/content/RREA/CIKM/layer.py\").load_module()\n",
        "utils = SourceFileLoader(\"utils\", \"/content/RREA/CIKM/utils.py\").load_module()\n",
        "CSLS = SourceFileLoader(\"CSLS\", \"/content/RREA/CIKM/CSLS.py\").load_module()\n",
        "import tensorflow as tf\n",
        "import os\n",
        "import random\n",
        "import keras\n",
        "from tqdm import *\n",
        "import numpy as np\n",
        "from utils import *\n",
        "from CSLS import *\n",
        "import tensorflow as tf\n",
        "import keras.backend as K\n",
        "from keras.layers import *\n",
        "from layer import NR_GraphAttention\n",
        "\n",
        "os.environ[\"CUDA_VISIBLE_DEVICES\"] = \"0\"\n",
        "os.environ[\"TF_CPP_MIN_LOG_LEVEL\"]=\"2\"\n",
        "tf.compat.v1.logging.set_verbosity(tf.compat.v1.logging.ERROR)\n",
        "\n",
        " "
      ]
    },
    {
      "cell_type": "code",
      "execution_count": 4,
      "metadata": {
        "colab": {
          "base_uri": "https://localhost:8080/"
        },
        "id": "oYvCCmAe62rP",
        "outputId": "eb9e18dc-06da-4d99-eed1-6e3410b9e544"
      },
      "outputs": [
        {
          "output_type": "stream",
          "name": "stdout",
          "text": [
            "38960 3024\n"
          ]
        }
      ],
      "source": [
        "lang = 'zh'\n",
        "radj,train_pair,dev_pair,adj_matrix,r_index,r_val,adj_features,rel_features = load_data('/content/GCN-Align/data/%s_en/'%lang,train_ratio=0.30)\n",
        "train_pair_main=train_pair\n",
        "adj_matrix = np.stack(adj_matrix.nonzero(),axis = 1)\n",
        "rel_matrix,rel_val = np.stack(rel_features.nonzero(),axis = 1),rel_features.data\n",
        "ent_matrix,ent_val = np.stack(adj_features.nonzero(),axis = 1),adj_features.data"
      ]
    },
    {
      "cell_type": "code",
      "source": [
        "print(r_index[:,0].max(),adj_matrix.shape,r_val.__len__())"
      ],
      "metadata": {
        "colab": {
          "base_uri": "https://localhost:8080/"
        },
        "id": "CGPkuTC4lYS6",
        "outputId": "82316204-2df7-4c19-b914-e5e940f0da19"
      },
      "execution_count": null,
      "outputs": [
        {
          "output_type": "stream",
          "name": "stdout",
          "text": [
            "331111 (259545, 2) 331112\n"
          ]
        }
      ]
    },
    {
      "cell_type": "code",
      "source": [
        "entity1, rel1, triples1 = load_triples('/content/GCN-Align/data/%s_en/'%lang + 'triples_1')\n",
        "num_entity_1 = len(entity1)\n",
        "num_rel_1 = len(rel1)"
      ],
      "metadata": {
        "id": "qjqNt7oeBXjK"
      },
      "execution_count": 5,
      "outputs": []
    },
    {
      "cell_type": "code",
      "execution_count": 39,
      "metadata": {
        "id": "t29mIfJT68i3"
      },
      "outputs": [],
      "source": [
        "layer = SourceFileLoader(\"layer\", \"/content/RREA/CIKM/layer.py\").load_module()\n",
        "\n",
        "from layer import NR_GraphAttention,N3\n",
        "tf.keras.backend.clear_session()\n",
        "\n",
        "node_size = adj_features.shape[0]\n",
        "rel_size = rel_features.shape[1]\n",
        "triple_size = len(adj_matrix)\n",
        "batch_size = node_size\n",
        "\n",
        "\n",
        "class TokenEmbedding(keras.layers.Embedding):\n",
        "    \"\"\"Embedding layer with weights returned.\"\"\"\n",
        "\n",
        "    def compute_output_shape(self, input_shape):\n",
        "        return self.input_dim, self.output_dim\n",
        "\n",
        "    def compute_mask(self, inputs, mask=None):\n",
        "        return None\n",
        "\n",
        "    def call(self, inputs):\n",
        "        return self.embeddings\n",
        "    \n",
        "def get_embedding():\n",
        "    inputs = [adj_matrix,r_index,r_val,rel_matrix,ent_matrix,radj]\n",
        "    inputs = [np.expand_dims(item,axis=0) for item in inputs]\n",
        "    return get_emb.predict_on_batch(inputs)\n",
        "\n",
        "def test(wrank = None):\n",
        "    vec = get_embedding()\n",
        "    return  get_hits(vec,dev_pair,wrank=wrank)\n",
        "\n",
        "def CSLS_test(thread_number = 16, csls=10,accurate = True):\n",
        "    vec = get_embedding()\n",
        "    Lvec = np.array([vec[e1] for e1, e2 in dev_pair])\n",
        "    Rvec = np.array([vec[e2] for e1, e2 in dev_pair])\n",
        "    Lvec = Lvec / np.linalg.norm(Lvec,axis=-1,keepdims=True)\n",
        "    Rvec = Rvec / np.linalg.norm(Rvec,axis=-1,keepdims=True)\n",
        "    eval_alignment_by_sim_mat(Lvec, Rvec, [1, 5, 10], thread_number, csls=csls, accurate=accurate)\n",
        "    return None\n",
        "\n",
        "def get_train_set(batch_size = batch_size):\n",
        "    negative_ratio =  batch_size // len(train_pair) + 1\n",
        "    train_set = np.reshape(np.repeat(np.expand_dims(train_pair,axis=0),axis=0,repeats=negative_ratio),newshape=(-1,2))\n",
        "    np.random.shuffle(train_set); train_set = train_set[:batch_size]\n",
        "    train_set = np.concatenate([train_set,np.random.randint(0,node_size,train_set.shape)],axis = -1)\n",
        "    return train_set\n",
        "\n",
        "def get_train_set1(batch_size = batch_size):\n",
        "    train_set = train_pair\n",
        "    np.random.shuffle(train_set);\n",
        "    train_set = np.concatenate([train_set,np.random.randint(0,node_size,train_set.shape)],axis = -1)\n",
        "    return train_set\n",
        "\n",
        "def get_trgat(node_size,rel_size,node_hidden,rel_hidden,triple_size,n_attn_heads = 2,dropout_rate = 0,gamma = 3,lr = 0.005,depth = 2):\n",
        "    adj_input = Input(shape=(None,2))\n",
        "    index_input = Input(shape=(None,2),dtype='int64')\n",
        "    val_input = Input(shape = (None,))\n",
        "    rel_adj = Input(shape=(None,2))\n",
        "    ent_adj = Input(shape=(None,2))\n",
        "    radj = Input(shape=(None,3),dtype='int64')\n",
        "    \n",
        "    ent_emb = TokenEmbedding(node_size,node_hidden,trainable = True)(val_input) \n",
        "    rel_emb = TokenEmbedding(rel_size,node_hidden,trainable = True)(val_input)\n",
        "    # rel_emb1 = TokenEmbedding(rel_size,node_hidden,trainable = True)(val_input)\n",
        "    # rel_emb2 = TokenEmbedding(rel_size,node_hidden,trainable = True)(val_input)\n",
        "    E = TokenEmbedding(node_hidden,node_hidden,trainable = True)(val_input)\n",
        "    R = TokenEmbedding(node_hidden,node_hidden,trainable = True)(val_input)\n",
        "    \n",
        "\n",
        "    # E = tf.linalg.expm(E - tf.transpose(E))\n",
        "    # R = tf.linalg.expm(R - tf.transpose(R))\n",
        "\n",
        "    # ent_emb = tf.concat([tf.matmul(ent_emb[:num_entity_1,:] ,E),ent_emb[num_entity_1:,:]],axis=0)\n",
        "    # rel_emb = tf.concat([tf.matmul(rel_emb[:num_rel_1,:] ,R),rel_emb[num_rel_1:,:]],axis=0)\n",
        "\n",
        "    \n",
        "    def avg(tensor,size,highway = None):\n",
        "        adj = K.cast(K.squeeze(tensor[0],axis = 0),dtype = \"int64\")   \n",
        "        adj = tf.SparseTensor(indices=adj, values=tf.ones_like(adj[:,0],dtype = 'float32'), dense_shape=(node_size,size)) \n",
        "        adj = tf.compat.v1.sparse_softmax(adj) \n",
        "        l_adj = tf.compat.v1.sparse_tensor_dense_matmul(adj,tensor[1])\n",
        "        if highway != None:\n",
        "            #l_adj = highway([l_adj,tensor[1]])\n",
        "            l_adj = 0.5 * l_adj + 0.5 * tensor[1]\n",
        "        return l_adj\n",
        "    \n",
        "    # h1 = [Highway(),Highway()]\n",
        "    # h2 = [Highway(),Highway()]\n",
        "\n",
        "    rel_feature = Lambda(avg,arguments={'size':rel_size})([rel_adj,rel_emb])\n",
        "    #rel_feature1 = Lambda(avg,arguments={'size':rel_size})([rel_adj,rel_emb1])\n",
        "    # rel_feature2 = Lambda(avg,arguments={'size':rel_size})([rel_adj,rel_emb2])\n",
        "\n",
        "    # rel_feature2 = Lambda(avg,arguments={'size':node_size})([ent_adj,rel_feature,h1[0]])\n",
        "    # rel_feature3 = Lambda(avg,arguments={'size':node_size})([ent_adj,rel_feature2,h1[1]])\n",
        "    ent_feature = Lambda(avg,arguments={'size':node_size})([ent_adj,ent_emb])\n",
        "    # new_ent = ent_feature * rel_feature\n",
        "    #new_ent1 = tf.math.atan2(rel_feature,ent_feature)\n",
        "    # ent_feature2 = Lambda(avg,arguments={'size':node_size})([ent_adj,ent_feature,h2[0]])\n",
        "    # ent_feature3 = Lambda(avg,arguments={'size':node_size})([ent_adj,ent_feature2,h2[1]])\n",
        "    # rel_feature1 = Lambda(avg,arguments={'size':rel_size})([rel_adj,rel_emb1])\n",
        "    # rel_feature1 = rel_feature[:,:node_hidden]\n",
        "    # rel_feature2 = rel_feature[:,node_hidden:]\n",
        "    # rel_emb1 = rel_emb[:,:node_hidden]\n",
        "    # rel_emb2 = rel_emb[:,node_hidden:]\n",
        "    \n",
        "    # r1 = h1[0]([ent_feature,rel_feature])\n",
        "    # r2 = h2[2]([h2[0]([ent_feature,ent_emb]),h2[1]([ent_feature,ent_emb])])\n",
        "\n",
        "    # tot_feature = tf.concat([rel_feature,ent_feature],axis=-1)\n",
        "\n",
        "    \n",
        "    encoder = NR_GraphAttention(node_size,activation=\"relu\",\n",
        "                                       rel_size = rel_size,\n",
        "                                       depth = depth,\n",
        "                                       attn_heads=n_attn_heads,\n",
        "                                       triple_size = triple_size,\n",
        "                                       attn_heads_reduction='average',   \n",
        "                                       dropout_rate=dropout_rate)\n",
        "    \n",
        "    encoder1 = NR_GraphAttention(node_size,activation=\"relu\",\n",
        "                                    rel_size = rel_size,\n",
        "                                    depth = depth,\n",
        "                                    attn_heads=n_attn_heads,\n",
        "                                    triple_size = triple_size,\n",
        "                                    attn_heads_reduction='average',   \n",
        "                                    dropout_rate=dropout_rate)\n",
        "    encoder2 = NR_GraphAttention(node_size,activation=\"relu\",\n",
        "                                rel_size = rel_size,\n",
        "                                depth = depth,\n",
        "                                attn_heads=n_attn_heads,\n",
        "                                triple_size = triple_size,\n",
        "                                attn_heads_reduction='average',   \n",
        "                                dropout_rate=dropout_rate)\n",
        "        \n",
        "    opt1 = [rel_emb,adj_input,index_input,val_input,radj]\n",
        "    # opt2 = [rel_emb1,adj_input,index_input,val_input,ent_emb]\n",
        "\n",
        "    #att = Attention((node_size,node_size))\n",
        "    elements = [0.1 * ent_emb] + encoder([rel_feature]+opt1)+encoder([ent_feature]+opt1)\n",
        "    num_el = elements.__len__()\n",
        "    # coef = (num_el)*[1]\n",
        "    # m = np.zeros([self.depth+1,self.depth+1])\n",
        "    # for i in range(num_el):\n",
        "    #     coef[i] = 1.0\n",
        "    # coef = tf.Variable(coef,dtype=np.float32)\n",
        "    # coef = tf.nn.softmax(coef)\n",
        "    # for i in range(num_el):\n",
        "    #     elements[i] *= coef [i]\n",
        "    \n",
        "    #x = [tf.keras.utils.normalize(x) for el in elemetns]\n",
        "    out_feature = Concatenate(-1)(elements)\n",
        "    out_feature = Dropout(dropout_rate)(out_feature)\n",
        "    \n",
        "    alignment_input = Input(shape=(None,4),dtype = \"int32\") \n",
        "    find = Lambda(lambda x:K.gather(reference=x[0],indices=K.cast(K.squeeze(x[1],axis=0), 'int32')))([out_feature,alignment_input])\n",
        "\n",
        "    n3 = N3()\n",
        "    # def N3(x):\n",
        "    #     return tf.reduce_mean(tf.math.pow(tf.math.square(x[:,:node_hidden//2])+tf.math.square(x[:,node_hidden//2:]),1.5))\n",
        "\n",
        "    # reg_term = Lambda(lambda x:K.gather(reference=x[0],indices=K.cast(K.squeeze(x[1],axis=0), 'int32')))([ent_emb,alignment_input])\n",
        "    # #reg_term_n3 = [tf.math.pow(tf.math.square(x[:,:node_hidden//2])+tf.math.square(x[:,node_hidden//2:]),1.5) for x in reg_term]\n",
        "    # reg = (N3(reg_term[0])+N3(reg_term[1])+N3(reg_term[2])+N3(reg_term[3]))\n",
        "\n",
        "    # ent_mean_1 = tf.reduce_mean(ent_emb[:num_entity_1,:],axis=0)\n",
        "    # ent_mean_2 = tf.reduce_mean(ent_emb[num_entity_1:,:],axis=0)\n",
        "    # rel_mean_1 = tf.reduce_mean(rel_emb[:num_rel_1,:],axis=0)\n",
        "    # rel_mean_2 = tf.reduce_mean(rel_emb[num_rel_1:,:],axis=0)\n",
        "    # # rel_mean1_1 = tf.reduce_mean(rel_emb1[:num_rel_1,:],axis=0)\n",
        "    # # rel_mean1_2 = tf.reduce_mean(rel_emb1[num_rel_1:,:],axis=0)\n",
        "    # entf_mean_1 = tf.reduce_mean(ent_feature[:num_entity_1,:],axis=0)\n",
        "    # entf_mean_2 = tf.reduce_mean(ent_feature[num_entity_1:,:],axis=0)\n",
        "    # relf_mean_1 = tf.reduce_mean(rel_feature[:num_rel_1,:],axis=0)\n",
        "    # relf_mean_2 = tf.reduce_mean(rel_feature[num_rel_1:,:],axis=0)\n",
        "\n",
        "    # reg += K.sum(tf.square(ent_mean_1-ent_mean_2)) + K.sum(tf.square(rel_mean_1-rel_mean_2)) #+ K.sum(tf.square(rel_mean1_1-rel_mean1_2)) \n",
        "    # reg += K.sum(tf.square(entf_mean_1-entf_mean_2)) +  K.sum(tf.square(relf_mean_1-relf_mean_2));\n",
        "\n",
        "    def align_loss(tensor):\n",
        "        def _cosine(x):\n",
        "            dot1 = K.batch_dot(x[0], x[1], axes=1)\n",
        "            dot2 = K.batch_dot(x[0], x[0], axes=1)\n",
        "            dot3 = K.batch_dot(x[1], x[1], axes=1)\n",
        "            max_ = K.maximum(K.sqrt(dot2 * dot3), K.epsilon())\n",
        "            return dot1 / max_\n",
        "        \n",
        "        def l1(ll,rr):\n",
        "            return K.sum(K.abs(ll-rr),axis=-1,keepdims=True)\n",
        "        \n",
        "        def l2(ll,rr):\n",
        "            return K.sum(K.square(ll-rr),axis=-1,keepdims=True)\n",
        "        \n",
        "        l,r,fl,fr = [tensor[:,0,:],tensor[:,1,:],tensor[:,2 ,:],tensor[:,3,:]]\n",
        "        loss = K.relu(gamma + l1(l,r) - l1(l,fr)) + K.relu(gamma + l1(l,r) - l1(fl,r))\n",
        "        return tf.compat.v1.reduce_sum(loss,keep_dims=True) / (batch_size)\n",
        "    I = K.squeeze(alignment_input,axis=0)\n",
        "    # A = K.sum(K.abs(K.gather(out_feature,I[:,0])-K.gather(out_feature,I[:,1])),axis=-1,keepdims=True)\n",
        "    # B = K.sum(K.abs(K.gather(out_feature,I[:,0])-K.gather(out_feature,I[:,3])),axis=-1,keepdims=True)\n",
        "    # C = K.sum(K.abs(K.gather(out_feature,I[:,2])-K.gather(out_feature,I[:,1])),axis=-1,keepdims=True)\n",
        "\n",
        "    reg = n3(K.gather(out_feature,I[:,0])) + n3(K.gather(out_feature,I[:,1])) #+ n3(K.gather(out_feature,I[:,2])) + n3(K.gather(out_feature,I[:,3]))\n",
        "\n",
        "    # loss =  K.relu(gamma + A - B) + K.relu(gamma + A-C)\n",
        "    # loss =  tf.compat.v1.reduce_sum(loss,keep_dims=True) / (batch_size)    \n",
        "\n",
        "    # loss += 0.1 * reg\n",
        "    loss = 0.0\n",
        "    scce = tf.keras.losses.SparseCategoricalCrossentropy(reduction=tf.keras.losses.Reduction.NONE,from_logits=True)\n",
        "    E2 = out_feature[num_entity_1:,:]\n",
        "    y_pred = tf.matmul(K.gather(out_feature,I[:,0]),tf.transpose(E2))\n",
        "    loss += tf.reduce_mean(scce(I[:,1]-num_entity_1, y_pred)) + 0.1 * reg\n",
        "    #loss = Lambda(align_loss)(find) #+ 0.2 * reg\n",
        "   \n",
        "    inputs = [adj_input,index_input,val_input,rel_adj,ent_adj,radj]\n",
        "    train_model = keras.Model(inputs = inputs + [alignment_input],outputs = loss)\n",
        "    \n",
        "    train_model.compile(loss=lambda y_true,y_pred: y_pred,optimizer=tf.keras.optimizers.Adam(lr=lr))\n",
        "    \n",
        "    feature_model = keras.Model(inputs = inputs,outputs = out_feature)\n",
        "    return train_model,feature_model\n"
      ]
    },
    {
      "cell_type": "code",
      "execution_count": 40,
      "metadata": {
        "colab": {
          "base_uri": "https://localhost:8080/"
        },
        "id": "Nwoj1iWf69WX",
        "outputId": "fade0765-38b5-4303-d46c-0e889f8b83e8"
      },
      "outputs": [
        {
          "output_type": "stream",
          "name": "stdout",
          "text": [
            "Model: \"model\"\n",
            "__________________________________________________________________________________________________\n",
            " Layer (type)                   Output Shape         Param #     Connected to                     \n",
            "==================================================================================================\n",
            " input_3 (InputLayer)           [(None, None)]       0           []                               \n",
            "                                                                                                  \n",
            " token_embedding (TokenEmbeddin  (38960, 100)        3896000     ['input_3[0][0]']                \n",
            " g)                                                                                               \n",
            "                                                                                                  \n",
            " input_4 (InputLayer)           [(None, None, 2)]    0           []                               \n",
            "                                                                                                  \n",
            " token_embedding_1 (TokenEmbedd  (6048, 100)         604800      ['input_3[0][0]']                \n",
            " ing)                                                                                             \n",
            "                                                                                                  \n",
            " input_5 (InputLayer)           [(None, None, 2)]    0           []                               \n",
            "                                                                                                  \n",
            " lambda (Lambda)                (38960, 100)         0           ['input_4[0][0]',                \n",
            "                                                                  'token_embedding_1[0][0]']      \n",
            "                                                                                                  \n",
            " input_1 (InputLayer)           [(None, None, 2)]    0           []                               \n",
            "                                                                                                  \n",
            " input_2 (InputLayer)           [(None, None, 2)]    0           []                               \n",
            "                                                                                                  \n",
            " input_6 (InputLayer)           [(None, None, 3)]    0           []                               \n",
            "                                                                                                  \n",
            " lambda_1 (Lambda)              (38960, 100)         0           ['input_5[0][0]',                \n",
            "                                                                  'token_embedding[0][0]']        \n",
            "                                                                                                  \n",
            " tf.math.multiply (TFOpLambda)  (38960, 100)         0           ['token_embedding[0][0]']        \n",
            "                                                                                                  \n",
            " nr__graph_attention (NR_GraphA  [(38960, 100),      601         ['lambda[0][0]',                 \n",
            " ttention)                       (None, 100),                     'token_embedding_1[0][0]',      \n",
            "                                 (None, 100)]                     'input_1[0][0]',                \n",
            "                                                                  'input_2[0][0]',                \n",
            "                                                                  'input_3[0][0]',                \n",
            "                                                                  'input_6[0][0]',                \n",
            "                                                                  'lambda_1[0][0]',               \n",
            "                                                                  'token_embedding_1[0][0]',      \n",
            "                                                                  'input_1[0][0]',                \n",
            "                                                                  'input_2[0][0]',                \n",
            "                                                                  'input_3[0][0]',                \n",
            "                                                                  'input_6[0][0]']                \n",
            "                                                                                                  \n",
            " input_7 (InputLayer)           [(None, None, 4)]    0           []                               \n",
            "                                                                                                  \n",
            " concatenate (Concatenate)      (38960, 700)         0           ['tf.math.multiply[0][0]',       \n",
            "                                                                  'nr__graph_attention[0][0]',    \n",
            "                                                                  'nr__graph_attention[0][1]',    \n",
            "                                                                  'nr__graph_attention[0][2]',    \n",
            "                                                                  'nr__graph_attention[1][0]',    \n",
            "                                                                  'nr__graph_attention[1][1]',    \n",
            "                                                                  'nr__graph_attention[1][2]']    \n",
            "                                                                                                  \n",
            " tf.compat.v1.squeeze (TFOpLamb  (None, 4)           0           ['input_7[0][0]']                \n",
            " da)                                                                                              \n",
            "                                                                                                  \n",
            " dropout (Dropout)              (38960, 700)         0           ['concatenate[0][0]']            \n",
            "                                                                                                  \n",
            " tf.__operators__.getitem_3 (Sl  (None,)             0           ['tf.compat.v1.squeeze[0][0]']   \n",
            " icingOpLambda)                                                                                   \n",
            "                                                                                                  \n",
            " tf.__operators__.getitem_2 (Sl  (19572, 700)        0           ['dropout[0][0]']                \n",
            " icingOpLambda)                                                                                   \n",
            "                                                                                                  \n",
            " tf.__operators__.getitem_4 (Sl  (None,)             0           ['tf.compat.v1.squeeze[0][0]']   \n",
            " icingOpLambda)                                                                                   \n",
            "                                                                                                  \n",
            " tf.compat.v1.gather_2 (TFOpLam  (None, 700)         0           ['dropout[0][0]',                \n",
            " bda)                                                             'tf.__operators__.getitem_3[0][0\n",
            "                                                                 ]']                              \n",
            "                                                                                                  \n",
            " tf.compat.v1.transpose (TFOpLa  (700, 19572)        0           ['tf.__operators__.getitem_2[0][0\n",
            " mbda)                                                           ]']                              \n",
            "                                                                                                  \n",
            " tf.math.subtract (TFOpLambda)  (None,)              0           ['tf.__operators__.getitem_4[0][0\n",
            "                                                                 ]']                              \n",
            "                                                                                                  \n",
            " tf.linalg.matmul (TFOpLambda)  (None, 19572)        0           ['tf.compat.v1.gather_2[0][0]',  \n",
            "                                                                  'tf.compat.v1.transpose[0][0]'] \n",
            "                                                                                                  \n",
            " tf.convert_to_tensor_1 (TFOpLa  (None,)             0           ['tf.math.subtract[0][0]']       \n",
            " mbda)                                                                                            \n",
            "                                                                                                  \n",
            " tf.convert_to_tensor (TFOpLamb  (None, 19572)       0           ['tf.linalg.matmul[0][0]']       \n",
            " da)                                                                                              \n",
            "                                                                                                  \n",
            " tf.cast (TFOpLambda)           (None,)              0           ['tf.convert_to_tensor_1[0][0]'] \n",
            "                                                                                                  \n",
            " tf.convert_to_tensor_2 (TFOpLa  (None, 19572)       0           ['tf.convert_to_tensor[0][0]']   \n",
            " mbda)                                                                                            \n",
            "                                                                                                  \n",
            " tf.nn.sparse_softmax_cross_ent  (None,)             0           ['tf.cast[0][0]',                \n",
            " ropy_with_logits (TFOpLambda)                                    'tf.convert_to_tensor_2[0][0]'] \n",
            "                                                                                                  \n",
            " tf.__operators__.getitem (Slic  (None,)             0           ['tf.compat.v1.squeeze[0][0]']   \n",
            " ingOpLambda)                                                                                     \n",
            "                                                                                                  \n",
            " tf.__operators__.getitem_1 (Sl  (None,)             0           ['tf.compat.v1.squeeze[0][0]']   \n",
            " icingOpLambda)                                                                                   \n",
            "                                                                                                  \n",
            " tf.cast_1 (TFOpLambda)         (None,)              0           ['tf.nn.sparse_softmax_cross_entr\n",
            "                                                                 opy_with_logits[0][0]']          \n",
            "                                                                                                  \n",
            " tf.compat.v1.gather (TFOpLambd  (None, 700)         0           ['dropout[0][0]',                \n",
            " a)                                                               'tf.__operators__.getitem[0][0]'\n",
            "                                                                 ]                                \n",
            "                                                                                                  \n",
            " tf.compat.v1.gather_1 (TFOpLam  (None, 700)         0           ['dropout[0][0]',                \n",
            " bda)                                                             'tf.__operators__.getitem_1[0][0\n",
            "                                                                 ]']                              \n",
            "                                                                                                  \n",
            " tf.math.multiply_1 (TFOpLambda  (None,)             0           ['tf.cast_1[0][0]']              \n",
            " )                                                                                                \n",
            "                                                                                                  \n",
            " n3 (N3)                        ()                   0           ['tf.compat.v1.gather[0][0]',    \n",
            "                                                                  'tf.compat.v1.gather_1[0][0]']  \n",
            "                                                                                                  \n",
            " tf.cast_2 (TFOpLambda)         (None,)              0           ['tf.math.multiply_1[0][0]']     \n",
            "                                                                                                  \n",
            " tf.__operators__.add (TFOpLamb  ()                  0           ['n3[0][0]',                     \n",
            " da)                                                              'n3[1][0]']                     \n",
            "                                                                                                  \n",
            " tf.math.reduce_mean (TFOpLambd  ()                  0           ['tf.cast_2[0][0]']              \n",
            " a)                                                                                               \n",
            "                                                                                                  \n",
            " tf.math.multiply_2 (TFOpLambda  ()                  0           ['tf.__operators__.add[0][0]']   \n",
            " )                                                                                                \n",
            "                                                                                                  \n",
            " tf.__operators__.add_1 (TFOpLa  ()                  0           ['tf.math.reduce_mean[0][0]',    \n",
            " mbda)                                                            'tf.math.multiply_2[0][0]']     \n",
            "                                                                                                  \n",
            " tf.__operators__.add_2 (TFOpLa  ()                  0           ['tf.__operators__.add_1[0][0]'] \n",
            " mbda)                                                                                            \n",
            "                                                                                                  \n",
            "==================================================================================================\n",
            "Total params: 4,501,401\n",
            "Trainable params: 4,501,400\n",
            "Non-trainable params: 1\n",
            "__________________________________________________________________________________________________\n"
          ]
        }
      ],
      "source": [
        "model,get_emb = get_trgat(lr=0.075,dropout_rate=0.30,node_size=node_size,rel_size=rel_size,n_attn_heads = 1,depth=2,gamma =3,node_hidden=100,rel_hidden = 100,triple_size = triple_size)\n",
        "model.summary(); initial_weights = model.get_weights()"
      ]
    },
    {
      "cell_type": "code",
      "execution_count": null,
      "metadata": {
        "colab": {
          "base_uri": "https://localhost:8080/"
        },
        "id": "lMdo-YeF7Hp_",
        "outputId": "f3ed23b7-25f3-48ee-c83b-8aee2e393353"
      },
      "outputs": [
        {
          "output_type": "stream",
          "name": "stdout",
          "text": [
            "iteration 0 start.\n"
          ]
        },
        {
          "output_type": "stream",
          "name": "stderr",
          "text": [
            "  0%|          | 5/1200 [00:11<36:50,  1.85s/it]"
          ]
        }
      ],
      "source": [
        "train_pair = train_pair_main\n",
        "tf.keras.backend.clear_session()\n",
        "config = tf.compat.v1.ConfigProto()\n",
        "config.gpu_options.allow_growth=True  \n",
        "sess = tf.compat.v1.Session(config=config) \n",
        "\n",
        "rest_set_1 = [e1 for e1, e2 in dev_pair]\n",
        "rest_set_2 = [e2 for e1, e2 in dev_pair]\n",
        "np.random.shuffle(rest_set_1)\n",
        "np.random.shuffle(rest_set_2)\n",
        "\n",
        "epoch = 1200\n",
        "for turn in range(5):\n",
        "    print(\"iteration %d start.\"%turn)\n",
        "    for i in trange(epoch):\n",
        "        train_set = get_train_set1()\n",
        "        inputs = [adj_matrix,r_index,r_val,rel_matrix,ent_matrix,radj,train_set]\n",
        "        inputs = [np.expand_dims(item,axis=0) for item in inputs]\n",
        "        model.train_on_batch(inputs,np.zeros((1,1)))\n",
        "        if i%100 == 99:\n",
        "            CSLS_test()\n",
        "\n",
        "    new_pair = []\n",
        "    vec = get_embedding()\n",
        "    Lvec = np.array([vec[e] for e in rest_set_1])\n",
        "    Rvec = np.array([vec[e] for e in rest_set_2])\n",
        "    Lvec = Lvec / np.linalg.norm(Lvec,axis=-1,keepdims=True)\n",
        "    Rvec = Rvec / np.linalg.norm(Rvec,axis=-1,keepdims=True)\n",
        "    A,_ = eval_alignment_by_sim_mat(Lvec, Rvec, [1, 5, 10], 16,10,True,False)\n",
        "    B,_ = eval_alignment_by_sim_mat(Rvec, Lvec,[1, 5, 10], 16,10,True,False)\n",
        "    A = sorted(list(A)); B = sorted(list(B))\n",
        "    for a,b in A:\n",
        "        if  B[b][1] == a:\n",
        "            new_pair.append([rest_set_1[a],rest_set_2[b]])\n",
        "    print(\"generate new semi-pairs: %d.\" % len(new_pair))\n",
        "    train_pair = np.concatenate([train_pair,np.array(new_pair)],axis = 0)\n",
        "    for e1,e2 in new_pair:\n",
        "        if e1 in rest_set_1:\n",
        "            rest_set_1.remove(e1) \n",
        "        \n",
        "    for e1,e2 in new_pair:\n",
        "        if e2 in rest_set_2:\n",
        "            rest_set_2.remove(e2) "
      ]
    },
    {
      "cell_type": "code",
      "source": [
        "!git clone https://github.com/MaoXinn/MRAEA"
      ],
      "metadata": {
        "id": "WB2inR--Jwyy",
        "outputId": "d0b2d3c5-0dbc-47ca-c546-1b8f77de9b56",
        "colab": {
          "base_uri": "https://localhost:8080/"
        }
      },
      "execution_count": null,
      "outputs": [
        {
          "output_type": "stream",
          "name": "stdout",
          "text": [
            "Cloning into 'MRAEA'...\n",
            "remote: Enumerating objects: 17, done.\u001b[K\n",
            "remote: Counting objects: 100% (17/17), done.\u001b[K\n",
            "remote: Compressing objects: 100% (16/16), done.\u001b[K\n",
            "remote: Total 17 (delta 4), reused 0 (delta 0), pack-reused 0\u001b[K\n",
            "Unpacking objects: 100% (17/17), done.\n"
          ]
        }
      ]
    },
    {
      "cell_type": "code",
      "source": [
        ""
      ],
      "metadata": {
        "id": "83YKGWHdVOLz"
      },
      "execution_count": null,
      "outputs": []
    },
    {
      "cell_type": "code",
      "execution_count": null,
      "metadata": {
        "id": "QjQ1F-zW-VvX"
      },
      "outputs": [],
      "source": [
        "import os\n",
        "import tqdm\n",
        "import numpy as np\n",
        "import tensorflow as tf\n",
        "import keras\n",
        "\n",
        "from importlib.machinery import SourceFileLoader\n",
        " \n",
        "utils = SourceFileLoader(\"utils\", \"/content/MRAEA/utils.py\").load_module()\n",
        "model = SourceFileLoader(\"model\", \"/content/MRAEA/model.py\").load_module()\n",
        "\n",
        "from utils import *\n",
        "from model import *\n",
        "\n",
        "\n",
        "\n",
        "os.environ[\"CUDA_VISIBLE_DEVICES\"] = \"0\"\n",
        "os.environ[\"TF_CPP_MIN_LOG_LEVEL\"]=\"2\"\n",
        "tf.compat.v1.logging.set_verbosity(tf.compat.v1.logging.ERROR)\n",
        "\n",
        "config = tf.compat.v1.ConfigProto()\n",
        "config.gpu_options.allow_growth=True  \n",
        "sess = tf.compat.v1.Session(config=config) "
      ]
    },
    {
      "cell_type": "code",
      "source": [
        "lang = 'zh'\n",
        "train_pair,test_pair,adj_matrix,r_index,r_val,adj_features,rel_features = load_data('/content/GCN-Align/data/%s_en/'%lang,train_ratio=0.3)\n",
        "adj_matrix = np.stack(adj_matrix.nonzero(),axis = 1)\n",
        "rel_matrix,rel_val = np.stack(rel_features.nonzero(),axis = 1),rel_features.data\n",
        "ent_matrix,ent_val = np.stack(adj_features.nonzero(),axis = 1),adj_features.data"
      ],
      "metadata": {
        "id": "fWmEVYhMJ0-s",
        "outputId": "2082368b-5f75-4948-8331-a9ff8a7279cd",
        "colab": {
          "base_uri": "https://localhost:8080/"
        }
      },
      "execution_count": null,
      "outputs": [
        {
          "output_type": "stream",
          "name": "stdout",
          "text": [
            "38960 3025\n"
          ]
        }
      ]
    },
    {
      "cell_type": "code",
      "source": [
        "model = SourceFileLoader(\"model\", \"/content/MRAEA/model.py\").load_module()\n",
        "node_size = adj_features.shape[1]\n",
        "rel_size = rel_features.shape[1]\n",
        "triple_size = len(adj_matrix)\n",
        "batch_size = node_size\n",
        "model,get_emb = get_model(lr=0.001,dropout_rate=0.30,node_size=node_size,rel_size=rel_size,n_attn_heads = 2,\n",
        "                          depth=2,gamma = 3,node_hidden=100,rel_hidden = 100,triple_size = triple_size,batch_size = batch_size)\n",
        "model.summary();"
      ],
      "metadata": {
        "id": "1OROgbA2J2fa",
        "outputId": "45effb85-0cc3-4761-a041-006da6a9004b",
        "colab": {
          "base_uri": "https://localhost:8080/"
        }
      },
      "execution_count": null,
      "outputs": [
        {
          "output_type": "stream",
          "name": "stdout",
          "text": [
            "Model: \"model_9\"\n",
            "__________________________________________________________________________________________________\n",
            " Layer (type)                   Output Shape         Param #     Connected to                     \n",
            "==================================================================================================\n",
            " input_82 (InputLayer)          [(None, None)]       0           []                               \n",
            "                                                                                                  \n",
            " token_embedding_28 (TokenEmbed  (38960, 100)        3896000     ['input_82[0][0]']               \n",
            " ding)                                                                                            \n",
            "                                                                                                  \n",
            " token_embedding_29 (TokenEmbed  (6050, 100)         605000      ['input_82[0][0]']               \n",
            " ding)                                                                                            \n",
            "                                                                                                  \n",
            " input_80 (InputLayer)          [(None, None, 2)]    0           []                               \n",
            "                                                                                                  \n",
            " input_81 (InputLayer)          [(None, None, 2)]    0           []                               \n",
            "                                                                                                  \n",
            " input_83 (InputLayer)          [(None, None, 2)]    0           []                               \n",
            "                                                                                                  \n",
            " input_84 (InputLayer)          [(None, None, 2)]    0           []                               \n",
            "                                                                                                  \n",
            " tr__graph_attention_14 (TR_Gra  [(38960, 600),      1000        ['token_embedding_28[0][0]',     \n",
            " phAttention)                    (None, 2),                       'token_embedding_29[0][0]',     \n",
            "                                 (None,)]                         'input_80[0][0]',               \n",
            "                                                                  'input_81[0][0]',               \n",
            "                                                                  'input_82[0][0]',               \n",
            "                                                                  'input_83[0][0]',               \n",
            "                                                                  'input_84[0][0]']               \n",
            "                                                                                                  \n",
            " dropout_9 (Dropout)            (38960, 600)         0           ['tr__graph_attention_14[0][0]'] \n",
            "                                                                                                  \n",
            " input_85 (InputLayer)          [(None, None, 4)]    0           []                               \n",
            "                                                                                                  \n",
            " lambda_18 (Lambda)             (None, 4, 600)       0           ['dropout_9[0][0]',              \n",
            "                                                                  'input_85[0][0]']               \n",
            "                                                                                                  \n",
            " lambda_19 (Lambda)             (1, 1)               0           ['lambda_18[0][0]']              \n",
            "                                                                                                  \n",
            "==================================================================================================\n",
            "Total params: 4,502,000\n",
            "Trainable params: 4,502,000\n",
            "Non-trainable params: 0\n",
            "__________________________________________________________________________________________________\n"
          ]
        },
        {
          "output_type": "stream",
          "name": "stderr",
          "text": [
            "/usr/local/lib/python3.7/dist-packages/keras/optimizer_v2/rmsprop.py:130: UserWarning: The `lr` argument is deprecated, use `learning_rate` instead.\n",
            "  super(RMSprop, self).__init__(name, **kwargs)\n"
          ]
        }
      ]
    },
    {
      "cell_type": "code",
      "source": [
        "def get_train_set(batch_size,train_pair):\n",
        "    negative_ratio =  batch_size // len(train_pair) + 1\n",
        "    train_set = np.reshape(np.repeat(np.expand_dims(train_pair,axis=0),axis=0,repeats=negative_ratio),newshape=(-1,2))\n",
        "    np.random.shuffle(train_set); train_set = train_set[:batch_size]\n",
        "    train_set = np.concatenate([train_set,np.random.randint(0,node_size,train_set.shape)],axis = -1)\n",
        "    return train_set\n",
        "\n",
        "def test():\n",
        "    inputs = [adj_matrix,r_index,r_val,rel_matrix,ent_matrix]\n",
        "    inputs = [np.expand_dims(item,axis=0) for item in inputs]\n",
        "    se_vec = get_emb.predict_on_batch(inputs)\n",
        "    get_hits(se_vec,test_pair)\n",
        "    print()\n",
        "    return se_vec\n",
        "\n",
        "for epoch in tqdm.tnrange(5000):\n",
        "    train_set = get_train_set(batch_size,train_pair)\n",
        "    inputs = [adj_matrix,r_index,r_val,rel_matrix,ent_matrix,train_set]\n",
        "    inputs = [np.expand_dims(item,axis=0) for item in inputs]\n",
        "    model.train_on_batch(inputs,np.zeros((1,1)))\n",
        "    if (epoch%1000 == 999):\n",
        "        test()"
      ],
      "metadata": {
        "id": "_EFRVgwIJ3yT"
      },
      "execution_count": null,
      "outputs": []
    },
    {
      "cell_type": "code",
      "source": [
        "!git clone https://github.com/MaoXinn/Dual-AMN"
      ],
      "metadata": {
        "id": "piOgQ6jLVPVa",
        "outputId": "2570e659-3f92-4266-d56c-3cbbef7e3896",
        "colab": {
          "base_uri": "https://localhost:8080/"
        }
      },
      "execution_count": null,
      "outputs": [
        {
          "output_type": "stream",
          "name": "stdout",
          "text": [
            "Cloning into 'Dual-AMN'...\n",
            "remote: Enumerating objects: 90, done.\u001b[K\n",
            "remote: Counting objects: 100% (90/90), done.\u001b[K\n",
            "remote: Compressing objects: 100% (81/81), done.\u001b[K\n",
            "remote: Total 90 (delta 22), reused 0 (delta 0), pack-reused 0\u001b[K\n",
            "Unpacking objects: 100% (90/90), done.\n"
          ]
        }
      ]
    },
    {
      "cell_type": "code",
      "source": [
        "import warnings\n",
        "warnings.filterwarnings('ignore')\n",
        "\n",
        "from importlib.machinery import SourceFileLoader\n",
        " \n",
        "utils = SourceFileLoader(\"utils\", \"/content/Dual-AMN/utils.py\").load_module()\n",
        "evaluate = SourceFileLoader(\"evaluate\", \"/content/Dual-AMN/evaluate.py\").load_module()\n",
        "layer = SourceFileLoader(\"layer\", \"/content/Dual-AMN/layer.py\").load_module()\n",
        "import os\n",
        "import keras\n",
        "import numpy as np\n",
        "import numba as nb\n",
        "from utils import *\n",
        "from tqdm import *\n",
        "from evaluate import evaluate\n",
        "import tensorflow as tf\n",
        "import keras.backend as K\n",
        "from keras.layers import *\n",
        "from layer import NR_GraphAttention\n",
        "\n",
        "os.environ[\"CUDA_VISIBLE_DEVICES\"] = \"0\"\n",
        "os.environ[\"TF_CPP_MIN_LOG_LEVEL\"]=\"2\"\n",
        "tf.compat.v1.logging.set_verbosity(tf.compat.v1.logging.ERROR)\n",
        "\n",
        "config = tf.compat.v1.ConfigProto()\n",
        "config.gpu_options.allow_growth=True  \n",
        "sess = tf.compat.v1.Session(config=config)  \n",
        "\n",
        "seed = 12306\n",
        "np.random.seed(seed)\n",
        "tf.compat.v1.set_random_seed(seed)"
      ],
      "metadata": {
        "id": "aVawtMnSVT6i"
      },
      "execution_count": null,
      "outputs": []
    },
    {
      "cell_type": "code",
      "source": [
        "train_pair,dev_pair,adj_matrix,r_index,r_val,adj_features,rel_features = load_data(\"/content/GCN-Align/data/zh_en/\",train_ratio=0.30)\n",
        "adj_matrix = np.stack(adj_matrix.nonzero(),axis = 1)\n",
        "rel_matrix,rel_val = np.stack(rel_features.nonzero(),axis = 1),rel_features.data\n",
        "ent_matrix,ent_val = np.stack(adj_features.nonzero(),axis = 1),adj_features.data"
      ],
      "metadata": {
        "id": "qd3oaK-AWBkF",
        "outputId": "eac5a4df-91e7-4d11-9e4f-18be1dbfb61e",
        "colab": {
          "base_uri": "https://localhost:8080/"
        }
      },
      "execution_count": null,
      "outputs": [
        {
          "output_type": "stream",
          "name": "stdout",
          "text": [
            "38960 3024\n"
          ]
        }
      ]
    },
    {
      "cell_type": "code",
      "source": [
        "node_size = adj_features.shape[0]\n",
        "rel_size = rel_features.shape[1]\n",
        "triple_size = len(adj_matrix)\n",
        "node_hidden = 100\n",
        "rel_hidden = 100\n",
        "batch_size = 1024\n",
        "dropout_rate = 0.3\n",
        "lr = 0.005\n",
        "gamma = 1\n",
        "depth = 2"
      ],
      "metadata": {
        "id": "Cryqiq2FWMFd"
      },
      "execution_count": null,
      "outputs": []
    },
    {
      "cell_type": "code",
      "source": [
        "layer = SourceFileLoader(\"layer\", \"/content/Dual-AMN/layer.py\").load_module()\n",
        "from layer import NR_GraphAttention\n",
        "def get_embedding(index_a,index_b,vec = None):\n",
        "    if vec is None:\n",
        "        inputs = [adj_matrix,r_index,r_val,rel_matrix,ent_matrix]\n",
        "        inputs = [np.expand_dims(item,axis=0) for item in inputs]\n",
        "        vec = get_emb.predict_on_batch(inputs)\n",
        "    Lvec = np.array([vec[e] for e in index_a])\n",
        "    Rvec = np.array([vec[e] for e in index_b])\n",
        "    Lvec = Lvec / (np.linalg.norm(Lvec,axis=-1,keepdims=True)+1e-5)\n",
        "    Rvec = Rvec / (np.linalg.norm(Rvec,axis=-1,keepdims=True)+1e-5)\n",
        "    return Lvec,Rvec\n",
        "\n",
        "class TokenEmbedding(keras.layers.Embedding):\n",
        "    \"\"\"Embedding layer with weights returned.\"\"\"\n",
        "\n",
        "    def compute_output_shape(self, input_shape):\n",
        "        return self.input_dim, self.output_dim\n",
        "\n",
        "    def compute_mask(self, inputs, mask=None):\n",
        "        return None\n",
        "\n",
        "    def call(self, inputs):\n",
        "        return self.embeddings\n",
        "    \n",
        "def get_trgat(node_hidden,rel_hidden,triple_size=triple_size,node_size=node_size,rel_size=rel_size,dropout_rate = 0,gamma = 3,lr = 0.005,depth = 2):\n",
        "    adj_input = Input(shape=(None,2))\n",
        "    index_input = Input(shape=(None,2),dtype='int64')\n",
        "    val_input = Input(shape = (None,))\n",
        "    rel_adj = Input(shape=(None,2))\n",
        "    ent_adj = Input(shape=(None,2))\n",
        "    \n",
        "    ent_emb = TokenEmbedding(node_size,node_hidden,trainable = True)(val_input) \n",
        "    rel_emb = TokenEmbedding(rel_size,node_hidden,trainable = True)(val_input)\n",
        "    \n",
        "    def avg(tensor,size):\n",
        "        adj = K.cast(K.squeeze(tensor[0],axis = 0),dtype = \"int64\")   \n",
        "        adj = tf.SparseTensor(indices=adj, values=tf.ones_like(adj[:,0],dtype = 'float32'), dense_shape=(node_size,size)) \n",
        "        adj = tf.compat.v1.sparse_softmax(adj) \n",
        "        return tf.compat.v1.sparse_tensor_dense_matmul(adj,tensor[1])\n",
        "    \n",
        "    opt = [rel_emb,adj_input,index_input,val_input]\n",
        "    ent_feature = Lambda(avg,arguments={'size':node_size})([ent_adj,ent_emb])\n",
        "    rel_feature = Lambda(avg,arguments={'size':rel_size})([rel_adj,rel_emb])\n",
        "    \n",
        "    e_encoder = NR_GraphAttention(node_size,activation=\"tanh\",\n",
        "                                       rel_size = rel_size,\n",
        "                                       use_bias = True,\n",
        "                                       depth = depth,\n",
        "                                       triple_size = triple_size)\n",
        "    \n",
        "    r_encoder = NR_GraphAttention(node_size,activation=\"tanh\",\n",
        "                                       rel_size = rel_size,\n",
        "                                       use_bias = True,\n",
        "                                       depth = depth,\n",
        "                                       triple_size = triple_size)\n",
        "    \n",
        "    out_feature = Concatenate(-1)([e_encoder([ent_feature]+opt),r_encoder([rel_feature]+opt)])\n",
        "    out_feature = Dropout(dropout_rate)(out_feature)\n",
        "    \n",
        "    alignment_input = Input(shape=(None,2))\n",
        "    \n",
        "    def align_loss(tensor): \n",
        "        \n",
        "        def squared_dist(x):\n",
        "            A,B = x\n",
        "            row_norms_A = tf.reduce_sum(tf.square(A), axis=1)\n",
        "            row_norms_A = tf.reshape(row_norms_A, [-1, 1])  # Column vector.\n",
        "            row_norms_B = tf.reduce_sum(tf.square(B), axis=1)\n",
        "            row_norms_B = tf.reshape(row_norms_B, [1, -1])  # Row vector.\n",
        "            return row_norms_A + row_norms_B - 2 * tf.matmul(A, B,transpose_b=True) \n",
        "        \n",
        "        emb = tensor[1]\n",
        "        l,r = K.cast(tensor[0][0,:,0],'int32'),K.cast(tensor[0][0,:,1],'int32')\n",
        "        l_emb,r_emb = K.gather(reference=emb,indices=l),K.gather(reference=emb,indices=r)\n",
        "        \n",
        "        pos_dis = K.sum(K.square(l_emb-r_emb),axis=-1,keepdims=True)\n",
        "        r_neg_dis = squared_dist([r_emb,emb])\n",
        "        l_neg_dis = squared_dist([l_emb,emb])\n",
        "        \n",
        "        l_loss = pos_dis - l_neg_dis + gamma\n",
        "        l_loss = l_loss *(1 - K.one_hot(indices=l,num_classes=node_size) - K.one_hot(indices=r,num_classes=node_size))\n",
        "        \n",
        "        r_loss = pos_dis - r_neg_dis + gamma\n",
        "        r_loss = r_loss *(1 - K.one_hot(indices=l,num_classes=node_size) - K.one_hot(indices=r,num_classes=node_size))\n",
        "        \n",
        "        r_loss = (r_loss - K.stop_gradient(K.mean(r_loss,axis=-1,keepdims=True))) / K.stop_gradient(K.std(r_loss,axis=-1,keepdims=True))\n",
        "        l_loss = (l_loss - K.stop_gradient(K.mean(l_loss,axis=-1,keepdims=True))) / K.stop_gradient(K.std(l_loss,axis=-1,keepdims=True))\n",
        "        \n",
        "        lamb,tau = 30, 10\n",
        "        l_loss = K.logsumexp(lamb*l_loss+tau,axis=-1)\n",
        "        r_loss = K.logsumexp(lamb*r_loss+tau,axis=-1)\n",
        "        return K.mean(l_loss + r_loss)\n",
        "\n",
        "    loss = Lambda(align_loss)([alignment_input,out_feature])\n",
        "\n",
        "    inputs = [adj_input,index_input,val_input,rel_adj,ent_adj]\n",
        "    train_model = keras.Model(inputs = inputs + [alignment_input],outputs = loss)\n",
        "    train_model.compile(loss=lambda y_true,y_pred: y_pred,optimizer=tf.keras.optimizers.RMSprop(lr))\n",
        "    \n",
        "    feature_model = keras.Model(inputs = inputs,outputs = out_feature)\n",
        "    \n",
        "    return train_model,feature_model"
      ],
      "metadata": {
        "id": "7GvbgAPbWNNN",
        "colab": {
          "base_uri": "https://localhost:8080/",
          "height": 293
        },
        "outputId": "4bcebd13-e058-498e-df93-0effdc72caf5"
      },
      "execution_count": null,
      "outputs": [
        {
          "output_type": "error",
          "ename": "FileNotFoundError",
          "evalue": "ignored",
          "traceback": [
            "\u001b[0;31m---------------------------------------------------------------------------\u001b[0m",
            "\u001b[0;31mFileNotFoundError\u001b[0m                         Traceback (most recent call last)",
            "\u001b[0;32m<ipython-input-15-c6a7122d4180>\u001b[0m in \u001b[0;36m<module>\u001b[0;34m()\u001b[0m\n\u001b[0;32m----> 1\u001b[0;31m \u001b[0mlayer\u001b[0m \u001b[0;34m=\u001b[0m \u001b[0mSourceFileLoader\u001b[0m\u001b[0;34m(\u001b[0m\u001b[0;34m\"layer\"\u001b[0m\u001b[0;34m,\u001b[0m \u001b[0;34m\"/content/Dual-AMN/layer.py\"\u001b[0m\u001b[0;34m)\u001b[0m\u001b[0;34m.\u001b[0m\u001b[0mload_module\u001b[0m\u001b[0;34m(\u001b[0m\u001b[0;34m)\u001b[0m\u001b[0;34m\u001b[0m\u001b[0;34m\u001b[0m\u001b[0m\n\u001b[0m\u001b[1;32m      2\u001b[0m \u001b[0;32mfrom\u001b[0m \u001b[0mlayer\u001b[0m \u001b[0;32mimport\u001b[0m \u001b[0mNR_GraphAttention\u001b[0m\u001b[0;34m\u001b[0m\u001b[0;34m\u001b[0m\u001b[0m\n\u001b[1;32m      3\u001b[0m \u001b[0;32mdef\u001b[0m \u001b[0mget_embedding\u001b[0m\u001b[0;34m(\u001b[0m\u001b[0mindex_a\u001b[0m\u001b[0;34m,\u001b[0m\u001b[0mindex_b\u001b[0m\u001b[0;34m,\u001b[0m\u001b[0mvec\u001b[0m \u001b[0;34m=\u001b[0m \u001b[0;32mNone\u001b[0m\u001b[0;34m)\u001b[0m\u001b[0;34m:\u001b[0m\u001b[0;34m\u001b[0m\u001b[0;34m\u001b[0m\u001b[0m\n\u001b[1;32m      4\u001b[0m     \u001b[0;32mif\u001b[0m \u001b[0mvec\u001b[0m \u001b[0;32mis\u001b[0m \u001b[0;32mNone\u001b[0m\u001b[0;34m:\u001b[0m\u001b[0;34m\u001b[0m\u001b[0;34m\u001b[0m\u001b[0m\n\u001b[1;32m      5\u001b[0m         \u001b[0minputs\u001b[0m \u001b[0;34m=\u001b[0m \u001b[0;34m[\u001b[0m\u001b[0madj_matrix\u001b[0m\u001b[0;34m,\u001b[0m\u001b[0mr_index\u001b[0m\u001b[0;34m,\u001b[0m\u001b[0mr_val\u001b[0m\u001b[0;34m,\u001b[0m\u001b[0mrel_matrix\u001b[0m\u001b[0;34m,\u001b[0m\u001b[0ment_matrix\u001b[0m\u001b[0;34m]\u001b[0m\u001b[0;34m\u001b[0m\u001b[0;34m\u001b[0m\u001b[0m\n",
            "\u001b[0;32m/usr/lib/python3.7/importlib/_bootstrap_external.py\u001b[0m in \u001b[0;36m_check_name_wrapper\u001b[0;34m(self, name, *args, **kwargs)\u001b[0m\n",
            "\u001b[0;32m/usr/lib/python3.7/importlib/_bootstrap_external.py\u001b[0m in \u001b[0;36mload_module\u001b[0;34m(self, fullname)\u001b[0m\n",
            "\u001b[0;32m/usr/lib/python3.7/importlib/_bootstrap_external.py\u001b[0m in \u001b[0;36mload_module\u001b[0;34m(self, fullname)\u001b[0m\n",
            "\u001b[0;32m/usr/lib/python3.7/importlib/_bootstrap.py\u001b[0m in \u001b[0;36m_load_module_shim\u001b[0;34m(self, fullname)\u001b[0m\n",
            "\u001b[0;32m/usr/lib/python3.7/importlib/_bootstrap.py\u001b[0m in \u001b[0;36m_exec\u001b[0;34m(spec, module)\u001b[0m\n",
            "\u001b[0;32m/usr/lib/python3.7/importlib/_bootstrap_external.py\u001b[0m in \u001b[0;36mexec_module\u001b[0;34m(self, module)\u001b[0m\n",
            "\u001b[0;32m/usr/lib/python3.7/importlib/_bootstrap_external.py\u001b[0m in \u001b[0;36mget_code\u001b[0;34m(self, fullname)\u001b[0m\n",
            "\u001b[0;32m/usr/lib/python3.7/importlib/_bootstrap_external.py\u001b[0m in \u001b[0;36mget_data\u001b[0;34m(self, path)\u001b[0m\n",
            "\u001b[0;31mFileNotFoundError\u001b[0m: [Errno 2] No such file or directory: '/content/Dual-AMN/layer.py'"
          ]
        }
      ]
    },
    {
      "cell_type": "code",
      "source": [
        "model,get_emb = get_trgat(dropout_rate=dropout_rate,\n",
        "                          node_size=node_size,\n",
        "                          rel_size=rel_size,\n",
        "                          depth=depth,\n",
        "                          gamma =gamma,\n",
        "                          node_hidden=node_hidden,\n",
        "                          rel_hidden=rel_hidden,\n",
        "                          lr=lr)\n",
        "\n",
        "evaluater = evaluate(dev_pair)\n",
        "\n",
        "model.summary()"
      ],
      "metadata": {
        "id": "nOEzAJqbWUwt",
        "outputId": "a209cc6e-9c88-41b0-aee1-3a4bcecee0f7",
        "colab": {
          "base_uri": "https://localhost:8080/"
        }
      },
      "execution_count": null,
      "outputs": [
        {
          "output_type": "stream",
          "name": "stdout",
          "text": [
            "Model: \"model_25\"\n",
            "__________________________________________________________________________________________________\n",
            " Layer (type)                   Output Shape         Param #     Connected to                     \n",
            "==================================================================================================\n",
            " input_179 (InputLayer)         [(None, None)]       0           []                               \n",
            "                                                                                                  \n",
            " input_181 (InputLayer)         [(None, None, 2)]    0           []                               \n",
            "                                                                                                  \n",
            " token_embedding_56 (TokenEmbed  (38960, 100)        3896000     ['input_179[0][0]']              \n",
            " ding)                                                                                            \n",
            "                                                                                                  \n",
            " token_embedding_57 (TokenEmbed  (6050, 100)         605000      ['input_179[0][0]']              \n",
            " ding)                                                                                            \n",
            "                                                                                                  \n",
            " input_180 (InputLayer)         [(None, None, 2)]    0           []                               \n",
            "                                                                                                  \n",
            " lambda_56 (Lambda)             (38960, 100)         0           ['input_181[0][0]',              \n",
            "                                                                  'token_embedding_56[0][0]']     \n",
            "                                                                                                  \n",
            " input_177 (InputLayer)         [(None, None, 2)]    0           []                               \n",
            "                                                                                                  \n",
            " input_178 (InputLayer)         [(None, None, 2)]    0           []                               \n",
            "                                                                                                  \n",
            " lambda_57 (Lambda)             (38960, 100)         0           ['input_180[0][0]',              \n",
            "                                                                  'token_embedding_57[0][0]']     \n",
            "                                                                                                  \n",
            " nr__graph_attention_18 (NR_Gra  (38960, 300)        109700      ['lambda_56[0][0]',              \n",
            " phAttention)                                                     'token_embedding_57[0][0]',     \n",
            "                                                                  'input_177[0][0]',              \n",
            "                                                                  'input_178[0][0]',              \n",
            "                                                                  'input_179[0][0]']              \n",
            "                                                                                                  \n",
            " nr__graph_attention_19 (NR_Gra  (38960, 300)        109700      ['lambda_57[0][0]',              \n",
            " phAttention)                                                     'token_embedding_57[0][0]',     \n",
            "                                                                  'input_177[0][0]',              \n",
            "                                                                  'input_178[0][0]',              \n",
            "                                                                  'input_179[0][0]']              \n",
            "                                                                                                  \n",
            " concatenate_9 (Concatenate)    (38960, 600)         0           ['nr__graph_attention_18[0][0]', \n",
            "                                                                  'nr__graph_attention_19[0][0]'] \n",
            "                                                                                                  \n",
            " input_182 (InputLayer)         [(None, None, 2)]    0           []                               \n",
            "                                                                                                  \n",
            " dropout_14 (Dropout)           (38960, 600)         0           ['concatenate_9[0][0]']          \n",
            "                                                                                                  \n",
            " lambda_58 (Lambda)             ()                   0           ['input_182[0][0]',              \n",
            "                                                                  'dropout_14[0][0]']             \n",
            "                                                                                                  \n",
            "==================================================================================================\n",
            "Total params: 4,720,400\n",
            "Trainable params: 4,720,400\n",
            "Non-trainable params: 0\n",
            "__________________________________________________________________________________________________\n"
          ]
        }
      ]
    },
    {
      "cell_type": "markdown",
      "source": [
        ""
      ],
      "metadata": {
        "id": "rofNjxmJXeZb"
      }
    },
    {
      "cell_type": "code",
      "source": [
        "rest_set_1 = [e1 for e1, e2 in dev_pair]\n",
        "rest_set_2 = [e2 for e1, e2 in dev_pair]\n",
        "np.random.shuffle(rest_set_1)\n",
        "np.random.shuffle(rest_set_2)\n",
        "\n",
        "epoch = 20\n",
        "for turn in range(10):\n",
        "    for i in trange(epoch):\n",
        "        np.random.shuffle(train_pair)\n",
        "        for pairs in [train_pair[i*batch_size:(i+1)*batch_size] for i in range(len(train_pair)//batch_size + 1)]:\n",
        "            if len(pairs) == 0:\n",
        "                continue\n",
        "            inputs = [adj_matrix,r_index,r_val,rel_matrix,ent_matrix,pairs]\n",
        "            inputs = [np.expand_dims(item,axis=0) for item in inputs]\n",
        "            model.train_on_batch(inputs,np.zeros((1,1)))\n",
        "        if i==epoch-1:\n",
        "            Lvec,Rvec = get_embedding(dev_pair[:,0],dev_pair[:,1])\n",
        "            evaluater.test(Lvec,Rvec)\n",
        "        new_pair = []   \n",
        "    Lvec,Rvec = get_embedding(rest_set_1,rest_set_2)\n",
        "    A,B = evaluater.CSLS_cal(Lvec,Rvec,False)\n",
        "    for i,j in enumerate(A):\n",
        "        if  B[j] == i:\n",
        "            new_pair.append([rest_set_1[j],rest_set_2[i]])\n",
        "    \n",
        "    train_pair = np.concatenate([train_pair,np.array(new_pair)],axis = 0)\n",
        "    for e1,e2 in new_pair:\n",
        "        if e1 in rest_set_1:\n",
        "            rest_set_1.remove(e1) \n",
        "        \n",
        "    for e1,e2 in new_pair:\n",
        "        if e2 in rest_set_2:\n",
        "            rest_set_2.remove(e2)\n",
        "    epoch = 5"
      ],
      "metadata": {
        "id": "vaq-VKGCWXWU",
        "outputId": "5696af3d-d30e-4ae0-ba7f-26a6ee59263e",
        "colab": {
          "base_uri": "https://localhost:8080/",
          "height": 675
        }
      },
      "execution_count": null,
      "outputs": [
        {
          "output_type": "stream",
          "name": "stderr",
          "text": [
            "  0%|          | 0/20 [00:00<?, ?it/s]\n"
          ]
        },
        {
          "output_type": "error",
          "ename": "ValueError",
          "evalue": "ignored",
          "traceback": [
            "\u001b[0;31m---------------------------------------------------------------------------\u001b[0m",
            "\u001b[0;31mValueError\u001b[0m                                Traceback (most recent call last)",
            "\u001b[0;32m<ipython-input-14-ce5da584027e>\u001b[0m in \u001b[0;36m<module>\u001b[0;34m()\u001b[0m\n\u001b[1;32m     13\u001b[0m             \u001b[0minputs\u001b[0m \u001b[0;34m=\u001b[0m \u001b[0;34m[\u001b[0m\u001b[0madj_matrix\u001b[0m\u001b[0;34m,\u001b[0m\u001b[0mr_index\u001b[0m\u001b[0;34m,\u001b[0m\u001b[0mr_val\u001b[0m\u001b[0;34m,\u001b[0m\u001b[0mrel_matrix\u001b[0m\u001b[0;34m,\u001b[0m\u001b[0ment_matrix\u001b[0m\u001b[0;34m,\u001b[0m\u001b[0mpairs\u001b[0m\u001b[0;34m]\u001b[0m\u001b[0;34m\u001b[0m\u001b[0;34m\u001b[0m\u001b[0m\n\u001b[1;32m     14\u001b[0m             \u001b[0minputs\u001b[0m \u001b[0;34m=\u001b[0m \u001b[0;34m[\u001b[0m\u001b[0mnp\u001b[0m\u001b[0;34m.\u001b[0m\u001b[0mexpand_dims\u001b[0m\u001b[0;34m(\u001b[0m\u001b[0mitem\u001b[0m\u001b[0;34m,\u001b[0m\u001b[0maxis\u001b[0m\u001b[0;34m=\u001b[0m\u001b[0;36m0\u001b[0m\u001b[0;34m)\u001b[0m \u001b[0;32mfor\u001b[0m \u001b[0mitem\u001b[0m \u001b[0;32min\u001b[0m \u001b[0minputs\u001b[0m\u001b[0;34m]\u001b[0m\u001b[0;34m\u001b[0m\u001b[0;34m\u001b[0m\u001b[0m\n\u001b[0;32m---> 15\u001b[0;31m             \u001b[0mmodel\u001b[0m\u001b[0;34m.\u001b[0m\u001b[0mtrain_on_batch\u001b[0m\u001b[0;34m(\u001b[0m\u001b[0minputs\u001b[0m\u001b[0;34m,\u001b[0m\u001b[0mnp\u001b[0m\u001b[0;34m.\u001b[0m\u001b[0mzeros\u001b[0m\u001b[0;34m(\u001b[0m\u001b[0;34m(\u001b[0m\u001b[0;36m1\u001b[0m\u001b[0;34m,\u001b[0m\u001b[0;36m1\u001b[0m\u001b[0;34m)\u001b[0m\u001b[0;34m)\u001b[0m\u001b[0;34m)\u001b[0m\u001b[0;34m\u001b[0m\u001b[0;34m\u001b[0m\u001b[0m\n\u001b[0m\u001b[1;32m     16\u001b[0m         \u001b[0;32mif\u001b[0m \u001b[0mi\u001b[0m\u001b[0;34m==\u001b[0m\u001b[0mepoch\u001b[0m\u001b[0;34m-\u001b[0m\u001b[0;36m1\u001b[0m\u001b[0;34m:\u001b[0m\u001b[0;34m\u001b[0m\u001b[0;34m\u001b[0m\u001b[0m\n\u001b[1;32m     17\u001b[0m             \u001b[0mLvec\u001b[0m\u001b[0;34m,\u001b[0m\u001b[0mRvec\u001b[0m \u001b[0;34m=\u001b[0m \u001b[0mget_embedding\u001b[0m\u001b[0;34m(\u001b[0m\u001b[0mdev_pair\u001b[0m\u001b[0;34m[\u001b[0m\u001b[0;34m:\u001b[0m\u001b[0;34m,\u001b[0m\u001b[0;36m0\u001b[0m\u001b[0;34m]\u001b[0m\u001b[0;34m,\u001b[0m\u001b[0mdev_pair\u001b[0m\u001b[0;34m[\u001b[0m\u001b[0;34m:\u001b[0m\u001b[0;34m,\u001b[0m\u001b[0;36m1\u001b[0m\u001b[0;34m]\u001b[0m\u001b[0;34m)\u001b[0m\u001b[0;34m\u001b[0m\u001b[0;34m\u001b[0m\u001b[0m\n",
            "\u001b[0;32m/usr/local/lib/python3.7/dist-packages/keras/engine/training.py\u001b[0m in \u001b[0;36mtrain_on_batch\u001b[0;34m(self, x, y, sample_weight, class_weight, reset_metrics, return_dict)\u001b[0m\n\u001b[1;32m   1898\u001b[0m                                                     class_weight)\n\u001b[1;32m   1899\u001b[0m       \u001b[0mself\u001b[0m\u001b[0;34m.\u001b[0m\u001b[0mtrain_function\u001b[0m \u001b[0;34m=\u001b[0m \u001b[0mself\u001b[0m\u001b[0;34m.\u001b[0m\u001b[0mmake_train_function\u001b[0m\u001b[0;34m(\u001b[0m\u001b[0;34m)\u001b[0m\u001b[0;34m\u001b[0m\u001b[0;34m\u001b[0m\u001b[0m\n\u001b[0;32m-> 1900\u001b[0;31m       \u001b[0mlogs\u001b[0m \u001b[0;34m=\u001b[0m \u001b[0mself\u001b[0m\u001b[0;34m.\u001b[0m\u001b[0mtrain_function\u001b[0m\u001b[0;34m(\u001b[0m\u001b[0miterator\u001b[0m\u001b[0;34m)\u001b[0m\u001b[0;34m\u001b[0m\u001b[0;34m\u001b[0m\u001b[0m\n\u001b[0m\u001b[1;32m   1901\u001b[0m \u001b[0;34m\u001b[0m\u001b[0m\n\u001b[1;32m   1902\u001b[0m     \u001b[0mlogs\u001b[0m \u001b[0;34m=\u001b[0m \u001b[0mtf_utils\u001b[0m\u001b[0;34m.\u001b[0m\u001b[0msync_to_numpy_or_python_type\u001b[0m\u001b[0;34m(\u001b[0m\u001b[0mlogs\u001b[0m\u001b[0;34m)\u001b[0m\u001b[0;34m\u001b[0m\u001b[0;34m\u001b[0m\u001b[0m\n",
            "\u001b[0;32m/usr/local/lib/python3.7/dist-packages/tensorflow/python/util/traceback_utils.py\u001b[0m in \u001b[0;36merror_handler\u001b[0;34m(*args, **kwargs)\u001b[0m\n\u001b[1;32m    151\u001b[0m     \u001b[0;32mexcept\u001b[0m \u001b[0mException\u001b[0m \u001b[0;32mas\u001b[0m \u001b[0me\u001b[0m\u001b[0;34m:\u001b[0m\u001b[0;34m\u001b[0m\u001b[0;34m\u001b[0m\u001b[0m\n\u001b[1;32m    152\u001b[0m       \u001b[0mfiltered_tb\u001b[0m \u001b[0;34m=\u001b[0m \u001b[0m_process_traceback_frames\u001b[0m\u001b[0;34m(\u001b[0m\u001b[0me\u001b[0m\u001b[0;34m.\u001b[0m\u001b[0m__traceback__\u001b[0m\u001b[0;34m)\u001b[0m\u001b[0;34m\u001b[0m\u001b[0;34m\u001b[0m\u001b[0m\n\u001b[0;32m--> 153\u001b[0;31m       \u001b[0;32mraise\u001b[0m \u001b[0me\u001b[0m\u001b[0;34m.\u001b[0m\u001b[0mwith_traceback\u001b[0m\u001b[0;34m(\u001b[0m\u001b[0mfiltered_tb\u001b[0m\u001b[0;34m)\u001b[0m \u001b[0;32mfrom\u001b[0m \u001b[0;32mNone\u001b[0m\u001b[0;34m\u001b[0m\u001b[0;34m\u001b[0m\u001b[0m\n\u001b[0m\u001b[1;32m    154\u001b[0m     \u001b[0;32mfinally\u001b[0m\u001b[0;34m:\u001b[0m\u001b[0;34m\u001b[0m\u001b[0;34m\u001b[0m\u001b[0m\n\u001b[1;32m    155\u001b[0m       \u001b[0;32mdel\u001b[0m \u001b[0mfiltered_tb\u001b[0m\u001b[0;34m\u001b[0m\u001b[0;34m\u001b[0m\u001b[0m\n",
            "\u001b[0;32m/usr/local/lib/python3.7/dist-packages/tensorflow/python/framework/func_graph.py\u001b[0m in \u001b[0;36mautograph_handler\u001b[0;34m(*args, **kwargs)\u001b[0m\n\u001b[1;32m   1127\u001b[0m           \u001b[0;32mexcept\u001b[0m \u001b[0mException\u001b[0m \u001b[0;32mas\u001b[0m \u001b[0me\u001b[0m\u001b[0;34m:\u001b[0m  \u001b[0;31m# pylint:disable=broad-except\u001b[0m\u001b[0;34m\u001b[0m\u001b[0;34m\u001b[0m\u001b[0m\n\u001b[1;32m   1128\u001b[0m             \u001b[0;32mif\u001b[0m \u001b[0mhasattr\u001b[0m\u001b[0;34m(\u001b[0m\u001b[0me\u001b[0m\u001b[0;34m,\u001b[0m \u001b[0;34m\"ag_error_metadata\"\u001b[0m\u001b[0;34m)\u001b[0m\u001b[0;34m:\u001b[0m\u001b[0;34m\u001b[0m\u001b[0;34m\u001b[0m\u001b[0m\n\u001b[0;32m-> 1129\u001b[0;31m               \u001b[0;32mraise\u001b[0m \u001b[0me\u001b[0m\u001b[0;34m.\u001b[0m\u001b[0mag_error_metadata\u001b[0m\u001b[0;34m.\u001b[0m\u001b[0mto_exception\u001b[0m\u001b[0;34m(\u001b[0m\u001b[0me\u001b[0m\u001b[0;34m)\u001b[0m\u001b[0;34m\u001b[0m\u001b[0;34m\u001b[0m\u001b[0m\n\u001b[0m\u001b[1;32m   1130\u001b[0m             \u001b[0;32melse\u001b[0m\u001b[0;34m:\u001b[0m\u001b[0;34m\u001b[0m\u001b[0;34m\u001b[0m\u001b[0m\n\u001b[1;32m   1131\u001b[0m               \u001b[0;32mraise\u001b[0m\u001b[0;34m\u001b[0m\u001b[0;34m\u001b[0m\u001b[0m\n",
            "\u001b[0;31mValueError\u001b[0m: in user code:\n\n    File \"/usr/local/lib/python3.7/dist-packages/keras/engine/training.py\", line 878, in train_function  *\n        return step_function(self, iterator)\n    File \"/usr/local/lib/python3.7/dist-packages/keras/engine/training.py\", line 867, in step_function  **\n        outputs = model.distribute_strategy.run(run_step, args=(data,))\n    File \"/usr/local/lib/python3.7/dist-packages/keras/engine/training.py\", line 860, in run_step  **\n        outputs = model.train_step(data)\n    File \"/usr/local/lib/python3.7/dist-packages/keras/engine/training.py\", line 808, in train_step\n        y_pred = self(x, training=True)\n    File \"/usr/local/lib/python3.7/dist-packages/keras/utils/traceback_utils.py\", line 67, in error_handler\n        raise e.with_traceback(filtered_tb) from None\n    File \"/usr/local/lib/python3.7/dist-packages/keras/engine/input_spec.py\", line 263, in assert_input_compatibility\n        raise ValueError(f'Input {input_index} of layer \"{layer_name}\" is '\n\n    ValueError: Input 5 of layer \"model\" is incompatible with the layer: expected shape=(None, None, 4), found shape=(1, 4500, 2)\n"
          ]
        }
      ]
    }
  ],
  "metadata": {
    "accelerator": "GPU",
    "colab": {
      "collapsed_sections": [],
      "name": "EA.ipynb",
      "provenance": [],
      "include_colab_link": true
    },
    "kernelspec": {
      "display_name": "Python 3",
      "name": "python3"
    },
    "language_info": {
      "name": "python"
    }
  },
  "nbformat": 4,
  "nbformat_minor": 0
}