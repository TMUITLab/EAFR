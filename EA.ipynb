{
  "nbformat": 4,
  "nbformat_minor": 0,
  "metadata": {
    "accelerator": "GPU",
    "colab": {
      "name": "Untitled20.ipynb",
      "provenance": [],
      "collapsed_sections": [],
      "authorship_tag": "ABX9TyOy/6oJiuFCdV43xUA2YcjB",
      "include_colab_link": true
    },
    "kernelspec": {
      "display_name": "Python 3",
      "name": "python3"
    },
    "language_info": {
      "name": "python"
    }
  },
  "cells": [
    {
      "cell_type": "markdown",
      "metadata": {
        "id": "view-in-github",
        "colab_type": "text"
      },
      "source": [
        "<a href=\"https://colab.research.google.com/github/TMUITLab/EAFR/blob/main/EA.ipynb\" target=\"_parent\"><img src=\"https://colab.research.google.com/assets/colab-badge.svg\" alt=\"Open In Colab\"/></a>"
      ]
    },
    {
      "cell_type": "code",
      "metadata": {
        "id": "Mv8gecYb39Zy"
      },
      "source": [
        "!git clone https://github.com/TMUITLab/EAFR\n",
        "!wget -O 'data.zip' 'https://efsgpq-ch3301.files.1drv.com/y4muoyVficiYL6mAlmm7s9m65fhNRboLtxg7FmaufA9QzY2tVhsyi-nXNtgahgN8NhrumVKCHB-d_lfi_5OTy1e5NFe2walhCu2Z1zF3zcp_hammSHuJHk5BeG6YbT7STynmA3SDPP39sNzn9V2Iv2suqlHkIrDRvRuvvM_r6IKuiRmJ35YirCUrY_Rojf5d-oQrxyQTj86Wz70JyiwrAYxfA'\n",
        "!unzip '/content/data.zip' -d '/content/EAFR'\n",
        "\n",
        "!pip install torch-scatter -f https://data.pyg.org/whl/torch-1.10.0+cu111.html\n",
        "!pip install torch-sparse -f https://data.pyg.org/whl/torch-1.10.0+cu111.html\n",
        "!pip install torch-geometric\n",
        "\n",
        "!pip install igraph\n",
        "!git pull https://github.com/TMUITLab/EAFR"
      ],
      "execution_count": null,
      "outputs": []
    },
    {
      "cell_type": "code",
      "metadata": {
        "colab": {
          "base_uri": "https://localhost:8080/"
        },
        "id": "6NSkNdKdtj1a",
        "outputId": "02f1d2d2-5269-44c6-e4a8-39ee90bdf9ec"
      },
      "source": [
        "%cd '/content/EAFR'\n",
        "!CUDA_VISIBLE_DEVICES=0 python3 run.py"
      ],
      "execution_count": null,
      "outputs": [
        {
          "name": "stdout",
          "output_type": "stream",
          "text": [
            "/content/EAFR\n",
            "2021-12-02 14:33:53,280 Namespace(alpha='1', attn_drop=0, beta='0.1', bootstrap=False, check=5, csls=10, cuda=True, data_dir='data/DBP15K/zh_en', decoder='Align', dr=0, early=False, edges_name='default,default', encoder='gcn-align,gcn-align-ru', epoch=1000, feat_drop=0, heads='1,1', hiddens='100,100,100', k='25', log='tensorboard_log', lr=0.005, margin='1', openea_data=False, pre='', rate=0.3, rerank=False, sampling='N', save='', seed=2020, share=False, start_bp=9, swap=False, test_dist='euclidean', threshold=0.75, train_batch_size=-1, train_dist='euclidean', update=5, val=0.0, wd=0)\n",
            "2021-12-02 14:34:00,540 AlignmentData dataset summary:\n",
            "\tins_num: 38960\n",
            "\trel_num: 3024\n",
            "\ttriple_idx: 165556\n",
            "\trate: 0.3\tval: 0.0\n",
            "\till_idx(train/test/val): 15000 = 4500 + 10500 + 0\n",
            "\tins_G_edges_idx: 330228\n",
            "\t----------------------------- init_time: 7.259s\n",
            "2021-12-02 14:34:03,527 MultipleEncoder(name=gcn-align,gcn-align-ru): ModuleList(\n",
            "  (0): GCNAlign_GCNConv(100, 100)\n",
            "  (1): GCNAlign_GCNConv(100, 100)\n",
            ")\n",
            "ModuleList(\n",
            "  (0): GCNAlign_GCNConv_relation(100, 100)\n",
            "  (1): GCNAlign_GCNConv_relation(100, 100)\n",
            ")\n",
            "2021-12-02 14:34:03,527 [Decoder(name=align): Align()]\n",
            "2021-12-02 14:34:03,528 ParameterList(\n",
            "    (0): Parameter containing: [torch.cuda.FloatTensor of size 38960x100 (GPU 0)]\n",
            "    (1): Parameter containing: [torch.cuda.FloatTensor of size 3024x100 (GPU 0)]\n",
            "    (2): Parameter containing: [torch.cuda.FloatTensor of size 1x100 (GPU 0)]\n",
            "    (3): Parameter containing: [torch.cuda.FloatTensor of size 1x100 (GPU 0)]\n",
            "    (4): Parameter containing: [torch.cuda.FloatTensor of size 100x100 (GPU 0)]\n",
            "    (5): Parameter containing: [torch.cuda.FloatTensor of size 100x100 (GPU 0)]\n",
            ")\n",
            "2021-12-02 14:34:03,528 Adagrad (\n",
            "Parameter Group 0\n",
            "    eps: 1e-10\n",
            "    initial_accumulator_value: 0\n",
            "    lr: 0.005\n",
            "    lr_decay: 0\n",
            "    weight_decay: 0\n",
            ")\n",
            "2021-12-02 14:34:03,529 Start training...\n",
            "2021-12-02 14:34:08,083 epoch: 0\tloss_align: 0.99776131\ttime: 4s\n",
            "2021-12-02 14:34:08,520 epoch: 1\tloss_align: 0.46419722\ttime: 0s\n",
            "2021-12-02 14:34:08,931 epoch: 2\tloss_align: 0.12733570\ttime: 0s\n",
            "2021-12-02 14:34:09,332 epoch: 3\tloss_align: 0.03468807\ttime: 0s\n",
            "2021-12-02 14:34:09,726 epoch: 4\tloss_align: 0.01370552\ttime: 0s\n",
            "2021-12-02 14:34:09,726 Start validating...\n",
            "2021-12-02 14:34:33,901 l2r: acc of top [1, 3, 5, 10] = [0.5393, 0.7179, 0.7793, 0.8455], mr = 59.426, mrr = 0.646, time = 24.1750 s \n",
            "2021-12-02 14:34:33,902 r2l: acc of top [1, 3, 5, 10] = [0.5304, 0.7154, 0.7765, 0.8426], mr = 49.258, mrr = 0.641, time = 24.1753 s \n",
            "\n",
            "2021-12-02 14:34:38,696 epoch: 5\tloss_align: 0.32970944\ttime: 4s\n",
            "2021-12-02 14:34:39,088 epoch: 6\tloss_align: 0.20017183\ttime: 0s\n",
            "2021-12-02 14:34:39,486 epoch: 7\tloss_align: 0.13293520\ttime: 0s\n",
            "2021-12-02 14:34:39,872 epoch: 8\tloss_align: 0.10888405\ttime: 0s\n",
            "2021-12-02 14:34:40,264 epoch: 9\tloss_align: 0.08997248\ttime: 0s\n",
            "2021-12-02 14:34:40,264 Start validating...\n",
            "2021-12-02 14:35:04,330 l2r: acc of top [1, 3, 5, 10] = [0.5833, 0.7587, 0.8165, 0.8658], mr = 77.885, mrr = 0.685, time = 24.0657 s \n",
            "2021-12-02 14:35:04,331 r2l: acc of top [1, 3, 5, 10] = [0.5759, 0.7543, 0.813, 0.866], mr = 74.820, mrr = 0.680, time = 24.0661 s \n",
            "\n",
            "2021-12-02 14:35:09,207 epoch: 10\tloss_align: 0.08779658\ttime: 4s\n",
            "2021-12-02 14:35:09,648 epoch: 11\tloss_align: 0.08286590\ttime: 0s\n",
            "2021-12-02 14:35:10,059 epoch: 12\tloss_align: 0.06588794\ttime: 0s\n",
            "2021-12-02 14:35:10,458 epoch: 13\tloss_align: 0.05179416\ttime: 0s\n",
            "2021-12-02 14:35:10,852 epoch: 14\tloss_align: 0.03994812\ttime: 0s\n",
            "2021-12-02 14:35:10,853 Start validating...\n",
            "2021-12-02 14:35:35,196 l2r: acc of top [1, 3, 5, 10] = [0.591, 0.7613, 0.8192, 0.8649], mr = 85.639, mrr = 0.691, time = 24.3415 s \n",
            "2021-12-02 14:35:35,197 r2l: acc of top [1, 3, 5, 10] = [0.5835, 0.7588, 0.8163, 0.8663], mr = 85.455, mrr = 0.686, time = 24.3418 s \n",
            "\n",
            "2021-12-02 14:35:40,037 epoch: 15\tloss_align: 0.03413569\ttime: 4s\n",
            "2021-12-02 14:35:40,420 epoch: 16\tloss_align: 0.03040013\ttime: 0s\n",
            "2021-12-02 14:35:40,812 epoch: 17\tloss_align: 0.02741497\ttime: 0s\n",
            "2021-12-02 14:35:41,198 epoch: 18\tloss_align: 0.02495743\ttime: 0s\n",
            "2021-12-02 14:35:41,587 epoch: 19\tloss_align: 0.02284501\ttime: 0s\n",
            "2021-12-02 14:35:41,587 Start validating...\n",
            "2021-12-02 14:36:05,876 l2r: acc of top [1, 3, 5, 10] = [0.5925, 0.7648, 0.8186, 0.8625], mr = 92.423, mrr = 0.692, time = 24.2888 s \n",
            "2021-12-02 14:36:05,876 r2l: acc of top [1, 3, 5, 10] = [0.5856, 0.7613, 0.8159, 0.8643], mr = 93.166, mrr = 0.687, time = 24.2891 s \n",
            "\n",
            "2021-12-02 14:36:10,712 epoch: 20\tloss_align: 0.02125316\ttime: 4s\n",
            "2021-12-02 14:36:11,169 epoch: 21\tloss_align: 0.01970584\ttime: 0s\n",
            "2021-12-02 14:36:11,602 epoch: 22\tloss_align: 0.01837612\ttime: 0s\n",
            "2021-12-02 14:36:11,998 epoch: 23\tloss_align: 0.01721220\ttime: 0s\n",
            "2021-12-02 14:36:12,392 epoch: 24\tloss_align: 0.01617955\ttime: 0s\n",
            "2021-12-02 14:36:12,392 Start validating...\n",
            "2021-12-02 14:36:37,011 l2r: acc of top [1, 3, 5, 10] = [0.5936, 0.7632, 0.817, 0.86], mr = 98.973, mrr = 0.691, time = 24.6158 s \n",
            "2021-12-02 14:36:37,011 r2l: acc of top [1, 3, 5, 10] = [0.5859, 0.7605, 0.8146, 0.8608], mr = 99.444, mrr = 0.686, time = 24.6161 s \n",
            "\n",
            "2021-12-02 14:36:41,948 epoch: 25\tloss_align: 0.01530236\ttime: 4s\n",
            "2021-12-02 14:36:42,373 epoch: 26\tloss_align: 0.01446474\ttime: 0s\n",
            "2021-12-02 14:36:42,774 epoch: 27\tloss_align: 0.01370655\ttime: 0s\n",
            "2021-12-02 14:36:43,153 epoch: 28\tloss_align: 0.01301160\ttime: 0s\n",
            "2021-12-02 14:36:43,545 epoch: 29\tloss_align: 0.01236976\ttime: 0s\n",
            "2021-12-02 14:36:43,546 Start validating...\n",
            "2021-12-02 14:37:08,295 l2r: acc of top [1, 3, 5, 10] = [0.593, 0.763, 0.8151, 0.8583], mr = 105.053, mrr = 0.690, time = 24.7492 s \n",
            "2021-12-02 14:37:08,296 r2l: acc of top [1, 3, 5, 10] = [0.5849, 0.7605, 0.8155, 0.8592], mr = 104.645, mrr = 0.685, time = 24.7495 s \n",
            "\n",
            "2021-12-02 14:37:13,060 epoch: 30\tloss_align: 0.01179070\ttime: 4s\n",
            "2021-12-02 14:37:13,454 epoch: 31\tloss_align: 0.01124148\ttime: 0s\n",
            "2021-12-02 14:37:13,850 epoch: 32\tloss_align: 0.01073228\ttime: 0s\n",
            "2021-12-02 14:37:14,241 epoch: 33\tloss_align: 0.01025481\ttime: 0s\n",
            "2021-12-02 14:37:14,634 epoch: 34\tloss_align: 0.00981048\ttime: 0s\n",
            "2021-12-02 14:37:14,634 Start validating...\n",
            "2021-12-02 14:37:39,650 l2r: acc of top [1, 3, 5, 10] = [0.5928, 0.761, 0.8133, 0.8557], mr = 110.192, mrr = 0.689, time = 25.0127 s \n",
            "2021-12-02 14:37:39,650 r2l: acc of top [1, 3, 5, 10] = [0.5847, 0.7602, 0.8123, 0.8566], mr = 109.671, mrr = 0.684, time = 25.0130 s \n",
            "\n",
            "2021-12-02 14:37:44,546 epoch: 35\tloss_align: 0.00940994\ttime: 4s\n",
            "2021-12-02 14:37:44,961 epoch: 36\tloss_align: 0.00902046\ttime: 0s\n",
            "2021-12-02 14:37:45,362 epoch: 37\tloss_align: 0.00865841\ttime: 0s\n",
            "2021-12-02 14:37:45,753 epoch: 38\tloss_align: 0.00832041\ttime: 0s\n",
            "2021-12-02 14:37:46,147 epoch: 39\tloss_align: 0.00800402\ttime: 0s\n",
            "2021-12-02 14:37:46,147 Start validating...\n",
            "2021-12-02 14:38:11,045 l2r: acc of top [1, 3, 5, 10] = [0.5909, 0.7596, 0.811, 0.8545], mr = 115.292, mrr = 0.687, time = 24.8976 s \n",
            "2021-12-02 14:38:11,045 r2l: acc of top [1, 3, 5, 10] = [0.5828, 0.7572, 0.8089, 0.8553], mr = 113.947, mrr = 0.682, time = 24.8979 s \n",
            "\n",
            "2021-12-02 14:38:15,925 epoch: 40\tloss_align: 0.00771363\ttime: 4s\n",
            "2021-12-02 14:38:16,366 epoch: 41\tloss_align: 0.00743245\ttime: 0s\n",
            "2021-12-02 14:38:16,774 epoch: 42\tloss_align: 0.00716815\ttime: 0s\n",
            "2021-12-02 14:38:17,167 epoch: 43\tloss_align: 0.00691862\ttime: 0s\n",
            "2021-12-02 14:38:17,560 epoch: 44\tloss_align: 0.00668072\ttime: 0s\n",
            "2021-12-02 14:38:17,560 Start validating...\n",
            "2021-12-02 14:38:42,588 l2r: acc of top [1, 3, 5, 10] = [0.5882, 0.7581, 0.8106, 0.853], mr = 119.957, mrr = 0.685, time = 25.0245 s \n",
            "2021-12-02 14:38:42,588 r2l: acc of top [1, 3, 5, 10] = [0.5815, 0.7544, 0.8075, 0.8525], mr = 117.827, mrr = 0.680, time = 25.0248 s \n",
            "\n",
            "2021-12-02 14:38:47,427 epoch: 45\tloss_align: 0.00646255\ttime: 4s\n",
            "2021-12-02 14:38:47,810 epoch: 46\tloss_align: 0.00625111\ttime: 0s\n",
            "2021-12-02 14:38:48,202 epoch: 47\tloss_align: 0.00605256\ttime: 0s\n",
            "2021-12-02 14:38:48,588 epoch: 48\tloss_align: 0.00586375\ttime: 0s\n",
            "2021-12-02 14:38:48,982 epoch: 49\tloss_align: 0.00568583\ttime: 0s\n",
            "2021-12-02 14:38:48,983 Start validating...\n",
            "2021-12-02 14:39:13,993 l2r: acc of top [1, 3, 5, 10] = [0.5869, 0.7567, 0.8088, 0.8509], mr = 124.360, mrr = 0.684, time = 25.0103 s \n",
            "2021-12-02 14:39:13,994 r2l: acc of top [1, 3, 5, 10] = [0.5828, 0.7525, 0.8052, 0.8509], mr = 121.436, mrr = 0.680, time = 25.0106 s \n",
            "\n",
            "2021-12-02 14:39:18,861 epoch: 50\tloss_align: 0.00551473\ttime: 4s\n",
            "2021-12-02 14:39:19,289 epoch: 51\tloss_align: 0.00535511\ttime: 0s\n",
            "2021-12-02 14:39:19,689 epoch: 52\tloss_align: 0.00520144\ttime: 0s\n",
            "2021-12-02 14:39:20,088 epoch: 53\tloss_align: 0.00505568\ttime: 0s\n",
            "2021-12-02 14:39:20,477 epoch: 54\tloss_align: 0.00491679\ttime: 0s\n",
            "2021-12-02 14:39:20,478 Start validating...\n",
            "2021-12-02 14:39:45,595 l2r: acc of top [1, 3, 5, 10] = [0.5852, 0.7555, 0.8068, 0.849], mr = 127.809, mrr = 0.683, time = 25.1139 s \n",
            "2021-12-02 14:39:45,595 r2l: acc of top [1, 3, 5, 10] = [0.581, 0.7509, 0.8054, 0.8492], mr = 124.472, mrr = 0.679, time = 25.1142 s \n",
            "\n",
            "2021-12-02 14:39:50,523 epoch: 55\tloss_align: 0.00478719\ttime: 4s\n",
            "2021-12-02 14:39:50,946 epoch: 56\tloss_align: 0.00465946\ttime: 0s\n",
            "2021-12-02 14:39:51,350 epoch: 57\tloss_align: 0.00453785\ttime: 0s\n",
            "2021-12-02 14:39:51,737 epoch: 58\tloss_align: 0.00442095\ttime: 0s\n",
            "2021-12-02 14:39:52,131 epoch: 59\tloss_align: 0.00430895\ttime: 0s\n",
            "2021-12-02 14:39:52,131 Start validating...\n",
            "2021-12-02 14:40:17,077 l2r: acc of top [1, 3, 5, 10] = [0.5852, 0.7547, 0.8067, 0.8476], mr = 130.843, mrr = 0.682, time = 24.9462 s \n",
            "2021-12-02 14:40:17,078 r2l: acc of top [1, 3, 5, 10] = [0.581, 0.7507, 0.8034, 0.848], mr = 127.113, mrr = 0.678, time = 24.9465 s \n",
            "\n",
            "2021-12-02 14:40:21,873 epoch: 60\tloss_align: 0.00420403\ttime: 4s\n",
            "2021-12-02 14:40:22,299 epoch: 61\tloss_align: 0.00409932\ttime: 0s\n",
            "2021-12-02 14:40:22,704 epoch: 62\tloss_align: 0.00400110\ttime: 0s\n",
            "2021-12-02 14:40:23,101 epoch: 63\tloss_align: 0.00390558\ttime: 0s\n",
            "2021-12-02 14:40:23,494 epoch: 64\tloss_align: 0.00381494\ttime: 0s\n",
            "2021-12-02 14:40:23,495 Start validating...\n",
            "2021-12-02 14:40:48,599 l2r: acc of top [1, 3, 5, 10] = [0.5839, 0.7547, 0.804, 0.847], mr = 133.360, mrr = 0.681, time = 25.1008 s \n",
            "2021-12-02 14:40:48,599 r2l: acc of top [1, 3, 5, 10] = [0.5804, 0.7502, 0.803, 0.8466], mr = 129.472, mrr = 0.677, time = 25.1012 s \n",
            "\n",
            "2021-12-02 14:40:53,459 epoch: 65\tloss_align: 0.00372712\ttime: 4s\n",
            "2021-12-02 14:40:53,842 epoch: 66\tloss_align: 0.00364544\ttime: 0s\n",
            "2021-12-02 14:40:54,230 epoch: 67\tloss_align: 0.00356422\ttime: 0s\n",
            "2021-12-02 14:40:54,617 epoch: 68\tloss_align: 0.00348715\ttime: 0s\n",
            "2021-12-02 14:40:55,006 epoch: 69\tloss_align: 0.00341339\ttime: 0s\n",
            "2021-12-02 14:40:55,006 Start validating...\n",
            "2021-12-02 14:41:20,340 l2r: acc of top [1, 3, 5, 10] = [0.5822, 0.7549, 0.8039, 0.8458], mr = 135.708, mrr = 0.680, time = 25.3330 s \n",
            "2021-12-02 14:41:20,340 r2l: acc of top [1, 3, 5, 10] = [0.5804, 0.7492, 0.8018, 0.8455], mr = 131.224, mrr = 0.677, time = 25.3334 s \n",
            "\n",
            "2021-12-02 14:41:25,167 epoch: 70\tloss_align: 0.00334371\ttime: 4s\n",
            "2021-12-02 14:41:25,599 epoch: 71\tloss_align: 0.00327555\ttime: 0s\n",
            "2021-12-02 14:41:25,997 epoch: 72\tloss_align: 0.00321013\ttime: 0s\n",
            "2021-12-02 14:41:26,395 epoch: 73\tloss_align: 0.00314781\ttime: 0s\n",
            "2021-12-02 14:41:26,786 epoch: 74\tloss_align: 0.00308714\ttime: 0s\n",
            "2021-12-02 14:41:26,786 Start validating...\n",
            "2021-12-02 14:41:52,117 l2r: acc of top [1, 3, 5, 10] = [0.5822, 0.7539, 0.8035, 0.8444], mr = 137.897, mrr = 0.679, time = 25.3280 s \n",
            "2021-12-02 14:41:52,117 r2l: acc of top [1, 3, 5, 10] = [0.5788, 0.7494, 0.801, 0.8448], mr = 133.469, mrr = 0.676, time = 25.3284 s \n",
            "\n",
            "2021-12-02 14:41:57,001 epoch: 75\tloss_align: 0.00302909\ttime: 4s\n",
            "2021-12-02 14:41:57,401 epoch: 76\tloss_align: 0.00297242\ttime: 0s\n",
            "2021-12-02 14:41:57,797 epoch: 77\tloss_align: 0.00291780\ttime: 0s\n",
            "2021-12-02 14:41:58,192 epoch: 78\tloss_align: 0.00286564\ttime: 0s\n",
            "2021-12-02 14:41:58,592 epoch: 79\tloss_align: 0.00281426\ttime: 0s\n",
            "2021-12-02 14:41:58,592 Start validating...\n",
            "2021-12-02 14:42:23,741 l2r: acc of top [1, 3, 5, 10] = [0.5812, 0.7544, 0.8027, 0.8438], mr = 139.701, mrr = 0.678, time = 25.1482 s \n",
            "2021-12-02 14:42:23,741 r2l: acc of top [1, 3, 5, 10] = [0.5773, 0.7486, 0.7995, 0.8441], mr = 134.884, mrr = 0.675, time = 25.1486 s \n",
            "\n",
            "2021-12-02 14:42:28,519 epoch: 80\tloss_align: 0.00276503\ttime: 4s\n",
            "2021-12-02 14:42:28,917 epoch: 81\tloss_align: 0.00271652\ttime: 0s\n",
            "2021-12-02 14:42:29,312 epoch: 82\tloss_align: 0.00266962\ttime: 0s\n",
            "2021-12-02 14:42:29,707 epoch: 83\tloss_align: 0.00262411\ttime: 0s\n",
            "2021-12-02 14:42:30,095 epoch: 84\tloss_align: 0.00257931\ttime: 0s\n",
            "2021-12-02 14:42:30,096 Start validating...\n",
            "2021-12-02 14:42:55,493 l2r: acc of top [1, 3, 5, 10] = [0.5799, 0.753, 0.8017, 0.8431], mr = 141.752, mrr = 0.677, time = 25.3944 s \n",
            "2021-12-02 14:42:55,493 r2l: acc of top [1, 3, 5, 10] = [0.5764, 0.7475, 0.7991, 0.8439], mr = 136.690, mrr = 0.674, time = 25.3947 s \n",
            "\n",
            "2021-12-02 14:43:00,378 epoch: 85\tloss_align: 0.00253576\ttime: 4s\n",
            "2021-12-02 14:43:00,787 epoch: 86\tloss_align: 0.00249293\ttime: 0s\n",
            "2021-12-02 14:43:01,187 epoch: 87\tloss_align: 0.00245174\ttime: 0s\n",
            "2021-12-02 14:43:01,576 epoch: 88\tloss_align: 0.00241256\ttime: 0s\n",
            "2021-12-02 14:43:01,969 epoch: 89\tloss_align: 0.00237274\ttime: 0s\n",
            "2021-12-02 14:43:01,970 Start validating...\n",
            "2021-12-02 14:43:27,171 l2r: acc of top [1, 3, 5, 10] = [0.581, 0.7517, 0.8006, 0.8422], mr = 143.455, mrr = 0.677, time = 25.2006 s \n",
            "2021-12-02 14:43:27,171 r2l: acc of top [1, 3, 5, 10] = [0.5769, 0.747, 0.7984, 0.8429], mr = 138.392, mrr = 0.674, time = 25.2009 s \n",
            "\n",
            "2021-12-02 14:43:31,971 epoch: 90\tloss_align: 0.00233487\ttime: 4s\n",
            "2021-12-02 14:43:32,403 epoch: 91\tloss_align: 0.00229766\ttime: 0s\n",
            "2021-12-02 14:43:32,797 epoch: 92\tloss_align: 0.00226114\ttime: 0s\n",
            "2021-12-02 14:43:33,184 epoch: 93\tloss_align: 0.00222607\ttime: 0s\n",
            "2021-12-02 14:43:33,575 epoch: 94\tloss_align: 0.00219243\ttime: 0s\n",
            "2021-12-02 14:43:33,575 Start validating...\n",
            "2021-12-02 14:43:58,603 l2r: acc of top [1, 3, 5, 10] = [0.5798, 0.7508, 0.7994, 0.8416], mr = 145.235, mrr = 0.676, time = 25.0242 s \n",
            "2021-12-02 14:43:58,603 r2l: acc of top [1, 3, 5, 10] = [0.5748, 0.7462, 0.7976, 0.8418], mr = 139.768, mrr = 0.673, time = 25.0245 s \n",
            "\n",
            "2021-12-02 14:44:03,371 epoch: 95\tloss_align: 0.00215971\ttime: 4s\n",
            "2021-12-02 14:44:03,760 epoch: 96\tloss_align: 0.00212755\ttime: 0s\n",
            "2021-12-02 14:44:04,152 epoch: 97\tloss_align: 0.00209669\ttime: 0s\n",
            "2021-12-02 14:44:04,541 epoch: 98\tloss_align: 0.00206723\ttime: 0s\n",
            "2021-12-02 14:44:04,934 epoch: 99\tloss_align: 0.00203721\ttime: 0s\n",
            "2021-12-02 14:44:04,934 Start validating...\n",
            "2021-12-02 14:44:29,985 l2r: acc of top [1, 3, 5, 10] = [0.5801, 0.7495, 0.7988, 0.8409], mr = 146.638, mrr = 0.676, time = 25.0506 s \n",
            "2021-12-02 14:44:29,986 r2l: acc of top [1, 3, 5, 10] = [0.5747, 0.7457, 0.7972, 0.8415], mr = 141.347, mrr = 0.673, time = 25.0510 s \n",
            "\n",
            "2021-12-02 14:44:34,848 epoch: 100\tloss_align: 0.00200891\ttime: 4s\n",
            "2021-12-02 14:44:35,272 epoch: 101\tloss_align: 0.00198201\ttime: 0s\n",
            "2021-12-02 14:44:35,677 epoch: 102\tloss_align: 0.00195534\ttime: 0s\n",
            "2021-12-02 14:44:36,065 epoch: 103\tloss_align: 0.00192910\ttime: 0s\n",
            "2021-12-02 14:44:36,452 epoch: 104\tloss_align: 0.00190378\ttime: 0s\n",
            "2021-12-02 14:44:36,453 Start validating...\n",
            "2021-12-02 14:45:01,733 l2r: acc of top [1, 3, 5, 10] = [0.5786, 0.7497, 0.799, 0.8407], mr = 147.863, mrr = 0.675, time = 25.2766 s \n",
            "2021-12-02 14:45:01,733 r2l: acc of top [1, 3, 5, 10] = [0.5734, 0.7456, 0.797, 0.8403], mr = 142.814, mrr = 0.672, time = 25.2769 s \n",
            "\n",
            "2021-12-02 14:45:06,679 epoch: 105\tloss_align: 0.00187946\ttime: 4s\n",
            "2021-12-02 14:45:07,106 epoch: 106\tloss_align: 0.00185546\ttime: 0s\n",
            "2021-12-02 14:45:07,515 epoch: 107\tloss_align: 0.00183283\ttime: 0s\n",
            "2021-12-02 14:45:07,901 epoch: 108\tloss_align: 0.00180921\ttime: 0s\n",
            "2021-12-02 14:45:08,298 epoch: 109\tloss_align: 0.00178651\ttime: 0s\n",
            "2021-12-02 14:45:08,298 Start validating...\n",
            "2021-12-02 14:45:33,469 l2r: acc of top [1, 3, 5, 10] = [0.5776, 0.7489, 0.7991, 0.8402], mr = 149.012, mrr = 0.675, time = 25.1713 s \n",
            "2021-12-02 14:45:33,470 r2l: acc of top [1, 3, 5, 10] = [0.572, 0.7445, 0.7969, 0.8393], mr = 143.771, mrr = 0.671, time = 25.1716 s \n",
            "\n",
            "2021-12-02 14:45:38,198 epoch: 110\tloss_align: 0.00176536\ttime: 4s\n",
            "2021-12-02 14:45:38,589 epoch: 111\tloss_align: 0.00174425\ttime: 0s\n",
            "2021-12-02 14:45:38,980 epoch: 112\tloss_align: 0.00172361\ttime: 0s\n",
            "2021-12-02 14:45:39,367 epoch: 113\tloss_align: 0.00170353\ttime: 0s\n",
            "2021-12-02 14:45:39,747 epoch: 114\tloss_align: 0.00168403\ttime: 0s\n",
            "2021-12-02 14:45:39,748 Start validating...\n",
            "2021-12-02 14:46:04,792 l2r: acc of top [1, 3, 5, 10] = [0.5772, 0.7491, 0.7988, 0.8393], mr = 150.221, mrr = 0.674, time = 25.0408 s \n",
            "2021-12-02 14:46:04,793 r2l: acc of top [1, 3, 5, 10] = [0.5733, 0.7438, 0.7957, 0.8388], mr = 144.802, mrr = 0.671, time = 25.0412 s \n",
            "\n",
            "2021-12-02 14:46:09,673 epoch: 115\tloss_align: 0.00166490\ttime: 4s\n",
            "2021-12-02 14:46:10,104 epoch: 116\tloss_align: 0.00164674\ttime: 0s\n",
            "2021-12-02 14:46:10,516 epoch: 117\tloss_align: 0.00162798\ttime: 0s\n",
            "2021-12-02 14:46:10,894 epoch: 118\tloss_align: 0.00161089\ttime: 0s\n",
            "2021-12-02 14:46:11,279 epoch: 119\tloss_align: 0.00159357\ttime: 0s\n",
            "2021-12-02 14:46:11,279 Start validating...\n",
            "2021-12-02 14:46:36,344 l2r: acc of top [1, 3, 5, 10] = [0.5784, 0.7478, 0.7983, 0.8388], mr = 151.011, mrr = 0.674, time = 25.0647 s \n",
            "2021-12-02 14:46:36,344 r2l: acc of top [1, 3, 5, 10] = [0.5733, 0.7439, 0.7956, 0.8381], mr = 145.665, mrr = 0.671, time = 25.0651 s \n",
            "\n",
            "2021-12-02 14:46:41,204 epoch: 120\tloss_align: 0.00157729\ttime: 4s\n",
            "2021-12-02 14:46:41,651 epoch: 121\tloss_align: 0.00156105\ttime: 0s\n",
            "2021-12-02 14:46:42,066 epoch: 122\tloss_align: 0.00154627\ttime: 0s\n",
            "2021-12-02 14:46:42,456 epoch: 123\tloss_align: 0.00153082\ttime: 0s\n",
            "2021-12-02 14:46:42,839 epoch: 124\tloss_align: 0.00151565\ttime: 0s\n",
            "2021-12-02 14:46:42,839 Start validating...\n",
            "2021-12-02 14:47:08,211 l2r: acc of top [1, 3, 5, 10] = [0.577, 0.7477, 0.798, 0.8385], mr = 152.064, mrr = 0.674, time = 25.3692 s \n",
            "2021-12-02 14:47:08,211 r2l: acc of top [1, 3, 5, 10] = [0.5732, 0.7433, 0.7949, 0.8378], mr = 146.500, mrr = 0.671, time = 25.3696 s \n",
            "\n",
            "2021-12-02 14:47:13,075 epoch: 125\tloss_align: 0.00150067\ttime: 4s\n",
            "2021-12-02 14:47:13,501 epoch: 126\tloss_align: 0.00148685\ttime: 0s\n",
            "2021-12-02 14:47:13,913 epoch: 127\tloss_align: 0.00147294\ttime: 0s\n",
            "2021-12-02 14:47:14,302 epoch: 128\tloss_align: 0.00145956\ttime: 0s\n",
            "2021-12-02 14:47:14,689 epoch: 129\tloss_align: 0.00144652\ttime: 0s\n",
            "2021-12-02 14:47:14,689 Start validating...\n",
            "2021-12-02 14:47:39,628 l2r: acc of top [1, 3, 5, 10] = [0.5759, 0.7474, 0.7977, 0.8387], mr = 152.973, mrr = 0.673, time = 24.9386 s \n",
            "2021-12-02 14:47:39,628 r2l: acc of top [1, 3, 5, 10] = [0.5727, 0.7428, 0.7944, 0.8384], mr = 147.352, mrr = 0.670, time = 24.9390 s \n",
            "\n",
            "2021-12-02 14:47:44,352 epoch: 130\tloss_align: 0.00143409\ttime: 4s\n",
            "2021-12-02 14:47:44,744 epoch: 131\tloss_align: 0.00142172\ttime: 0s\n",
            "2021-12-02 14:47:45,129 epoch: 132\tloss_align: 0.00140956\ttime: 0s\n",
            "2021-12-02 14:47:45,521 epoch: 133\tloss_align: 0.00139817\ttime: 0s\n",
            "2021-12-02 14:47:45,907 epoch: 134\tloss_align: 0.00138730\ttime: 0s\n",
            "2021-12-02 14:47:45,907 Start validating...\n",
            "2021-12-02 14:48:10,991 l2r: acc of top [1, 3, 5, 10] = [0.5766, 0.7476, 0.7969, 0.8385], mr = 153.556, mrr = 0.673, time = 25.0817 s \n",
            "2021-12-02 14:48:10,992 r2l: acc of top [1, 3, 5, 10] = [0.5724, 0.7416, 0.7935, 0.8376], mr = 147.825, mrr = 0.670, time = 25.0819 s \n",
            "\n",
            "2021-12-02 14:48:15,862 epoch: 135\tloss_align: 0.00137744\ttime: 4s\n",
            "2021-12-02 14:48:16,259 epoch: 136\tloss_align: 0.00136647\ttime: 0s\n",
            "2021-12-02 14:48:16,648 epoch: 137\tloss_align: 0.00135584\ttime: 0s\n",
            "2021-12-02 14:48:17,031 epoch: 138\tloss_align: 0.00134654\ttime: 0s\n",
            "2021-12-02 14:48:17,435 epoch: 139\tloss_align: 0.00133734\ttime: 0s\n",
            "2021-12-02 14:48:17,435 Start validating...\n",
            "2021-12-02 14:48:42,405 l2r: acc of top [1, 3, 5, 10] = [0.5755, 0.7478, 0.797, 0.838], mr = 154.102, mrr = 0.672, time = 24.9694 s \n",
            "2021-12-02 14:48:42,405 r2l: acc of top [1, 3, 5, 10] = [0.5725, 0.742, 0.7937, 0.8381], mr = 148.623, mrr = 0.670, time = 24.9697 s \n",
            "\n",
            "2021-12-02 14:48:47,200 epoch: 140\tloss_align: 0.00132851\ttime: 4s\n",
            "2021-12-02 14:48:47,624 epoch: 141\tloss_align: 0.00131955\ttime: 0s\n",
            "2021-12-02 14:48:48,029 epoch: 142\tloss_align: 0.00131060\ttime: 0s\n",
            "2021-12-02 14:48:48,416 epoch: 143\tloss_align: 0.00130180\ttime: 0s\n",
            "2021-12-02 14:48:48,804 epoch: 144\tloss_align: 0.00129352\ttime: 0s\n",
            "2021-12-02 14:48:48,804 Start validating...\n",
            "2021-12-02 14:49:13,932 l2r: acc of top [1, 3, 5, 10] = [0.5761, 0.7462, 0.7966, 0.8378], mr = 154.744, mrr = 0.672, time = 25.1249 s \n",
            "2021-12-02 14:49:13,932 r2l: acc of top [1, 3, 5, 10] = [0.5725, 0.7425, 0.7934, 0.8374], mr = 149.175, mrr = 0.670, time = 25.1252 s \n",
            "\n",
            "2021-12-02 14:49:18,737 epoch: 145\tloss_align: 0.00128560\ttime: 4s\n",
            "2021-12-02 14:49:19,123 epoch: 146\tloss_align: 0.00127781\ttime: 0s\n",
            "2021-12-02 14:49:19,517 epoch: 147\tloss_align: 0.00127010\ttime: 0s\n",
            "2021-12-02 14:49:19,902 epoch: 148\tloss_align: 0.00126245\ttime: 0s\n",
            "2021-12-02 14:49:20,294 epoch: 149\tloss_align: 0.00125444\ttime: 0s\n",
            "2021-12-02 14:49:20,294 Start validating...\n",
            "2021-12-02 14:49:45,294 l2r: acc of top [1, 3, 5, 10] = [0.5746, 0.7463, 0.7965, 0.8377], mr = 155.185, mrr = 0.672, time = 24.9995 s \n",
            "2021-12-02 14:49:45,294 r2l: acc of top [1, 3, 5, 10] = [0.5718, 0.7417, 0.793, 0.8379], mr = 149.520, mrr = 0.669, time = 24.9998 s \n",
            "\n",
            "2021-12-02 14:49:50,061 epoch: 150\tloss_align: 0.00124737\ttime: 4s\n",
            "2021-12-02 14:49:50,479 epoch: 151\tloss_align: 0.00124074\ttime: 0s\n",
            "2021-12-02 14:49:50,881 epoch: 152\tloss_align: 0.00123335\ttime: 0s\n",
            "2021-12-02 14:49:51,273 epoch: 153\tloss_align: 0.00122604\ttime: 0s\n",
            "2021-12-02 14:49:51,657 epoch: 154\tloss_align: 0.00121892\ttime: 0s\n",
            "2021-12-02 14:49:51,657 Start validating...\n",
            "2021-12-02 14:50:16,721 l2r: acc of top [1, 3, 5, 10] = [0.575, 0.7465, 0.7966, 0.8379], mr = 155.606, mrr = 0.672, time = 25.0617 s \n",
            "2021-12-02 14:50:16,722 r2l: acc of top [1, 3, 5, 10] = [0.572, 0.7416, 0.7924, 0.837], mr = 149.876, mrr = 0.669, time = 25.0619 s \n",
            "\n",
            "2021-12-02 14:50:21,526 epoch: 155\tloss_align: 0.00121269\ttime: 4s\n",
            "2021-12-02 14:50:21,942 epoch: 156\tloss_align: 0.00120573\ttime: 0s\n",
            "2021-12-02 14:50:22,342 epoch: 157\tloss_align: 0.00119870\ttime: 0s\n",
            "2021-12-02 14:50:22,729 epoch: 158\tloss_align: 0.00119226\ttime: 0s\n",
            "2021-12-02 14:50:23,114 epoch: 159\tloss_align: 0.00118631\ttime: 0s\n",
            "2021-12-02 14:50:23,114 Start validating...\n",
            "2021-12-02 14:50:47,812 l2r: acc of top [1, 3, 5, 10] = [0.5751, 0.7467, 0.7962, 0.8368], mr = 155.903, mrr = 0.672, time = 24.6978 s \n",
            "2021-12-02 14:50:47,813 r2l: acc of top [1, 3, 5, 10] = [0.5721, 0.7419, 0.7922, 0.837], mr = 150.308, mrr = 0.669, time = 24.6981 s \n",
            "\n",
            "2021-12-02 14:50:52,529 epoch: 160\tloss_align: 0.00117993\ttime: 4s\n",
            "2021-12-02 14:50:52,921 epoch: 161\tloss_align: 0.00117368\ttime: 0s\n",
            "2021-12-02 14:50:53,308 epoch: 162\tloss_align: 0.00116701\ttime: 0s\n",
            "2021-12-02 14:50:53,695 epoch: 163\tloss_align: 0.00116115\ttime: 0s\n",
            "2021-12-02 14:50:54,077 epoch: 164\tloss_align: 0.00115589\ttime: 0s\n",
            "2021-12-02 14:50:54,077 Start validating...\n",
            "2021-12-02 14:51:19,265 l2r: acc of top [1, 3, 5, 10] = [0.5737, 0.7464, 0.7956, 0.8372], mr = 156.446, mrr = 0.671, time = 25.1848 s \n",
            "2021-12-02 14:51:19,265 r2l: acc of top [1, 3, 5, 10] = [0.5722, 0.7412, 0.7923, 0.837], mr = 150.783, mrr = 0.669, time = 25.1852 s \n",
            "\n",
            "2021-12-02 14:51:24,092 epoch: 165\tloss_align: 0.00115023\ttime: 4s\n",
            "2021-12-02 14:51:24,511 epoch: 166\tloss_align: 0.00114492\ttime: 0s\n",
            "2021-12-02 14:51:24,913 epoch: 167\tloss_align: 0.00113936\ttime: 0s\n",
            "2021-12-02 14:51:25,295 epoch: 168\tloss_align: 0.00113388\ttime: 0s\n",
            "2021-12-02 14:51:25,681 epoch: 169\tloss_align: 0.00112843\ttime: 0s\n",
            "2021-12-02 14:51:25,682 Start validating...\n",
            "2021-12-02 14:51:50,651 l2r: acc of top [1, 3, 5, 10] = [0.5739, 0.7457, 0.7953, 0.8375], mr = 156.892, mrr = 0.671, time = 24.9687 s \n",
            "2021-12-02 14:51:50,651 r2l: acc of top [1, 3, 5, 10] = [0.5706, 0.7414, 0.7922, 0.8372], mr = 151.190, mrr = 0.668, time = 24.9690 s \n",
            "\n",
            "2021-12-02 14:51:55,496 epoch: 170\tloss_align: 0.00112310\ttime: 4s\n",
            "2021-12-02 14:51:55,915 epoch: 171\tloss_align: 0.00111775\ttime: 0s\n",
            "2021-12-02 14:51:56,309 epoch: 172\tloss_align: 0.00111255\ttime: 0s\n",
            "2021-12-02 14:51:56,688 epoch: 173\tloss_align: 0.00110735\ttime: 0s\n",
            "2021-12-02 14:51:57,073 epoch: 174\tloss_align: 0.00110200\ttime: 0s\n",
            "2021-12-02 14:51:57,073 Start validating...\n",
            "2021-12-02 14:52:22,213 l2r: acc of top [1, 3, 5, 10] = [0.5747, 0.7465, 0.795, 0.837], mr = 157.131, mrr = 0.671, time = 25.1365 s \n",
            "2021-12-02 14:52:22,213 r2l: acc of top [1, 3, 5, 10] = [0.5714, 0.7409, 0.7921, 0.8367], mr = 151.500, mrr = 0.668, time = 25.1368 s \n",
            "\n",
            "2021-12-02 14:52:27,004 epoch: 175\tloss_align: 0.00109687\ttime: 4s\n",
            "2021-12-02 14:52:27,385 epoch: 176\tloss_align: 0.00109178\ttime: 0s\n",
            "2021-12-02 14:52:27,771 epoch: 177\tloss_align: 0.00108669\ttime: 0s\n",
            "2021-12-02 14:52:28,154 epoch: 178\tloss_align: 0.00108152\ttime: 0s\n",
            "2021-12-02 14:52:28,545 epoch: 179\tloss_align: 0.00107657\ttime: 0s\n",
            "2021-12-02 14:52:28,545 Start validating...\n",
            "2021-12-02 14:52:53,414 l2r: acc of top [1, 3, 5, 10] = [0.5739, 0.745, 0.7953, 0.8368], mr = 157.686, mrr = 0.671, time = 24.8686 s \n",
            "2021-12-02 14:52:53,415 r2l: acc of top [1, 3, 5, 10] = [0.5711, 0.7402, 0.7921, 0.8365], mr = 151.842, mrr = 0.668, time = 24.8689 s \n",
            "\n",
            "2021-12-02 14:52:58,219 epoch: 180\tloss_align: 0.00107209\ttime: 4s\n",
            "2021-12-02 14:52:58,660 epoch: 181\tloss_align: 0.00106662\ttime: 0s\n",
            "2021-12-02 14:52:59,064 epoch: 182\tloss_align: 0.00106148\ttime: 0s\n",
            "2021-12-02 14:52:59,451 epoch: 183\tloss_align: 0.00105671\ttime: 0s\n",
            "2021-12-02 14:52:59,837 epoch: 184\tloss_align: 0.00105207\ttime: 0s\n",
            "2021-12-02 14:52:59,837 Start validating...\n",
            "2021-12-02 14:53:24,992 l2r: acc of top [1, 3, 5, 10] = [0.5734, 0.7449, 0.7949, 0.8366], mr = 158.102, mrr = 0.670, time = 25.1521 s \n",
            "2021-12-02 14:53:24,992 r2l: acc of top [1, 3, 5, 10] = [0.5714, 0.7404, 0.7917, 0.8366], mr = 151.980, mrr = 0.668, time = 25.1524 s \n",
            "\n",
            "2021-12-02 14:53:29,895 epoch: 185\tloss_align: 0.00104717\ttime: 4s\n",
            "2021-12-02 14:53:30,323 epoch: 186\tloss_align: 0.00104257\ttime: 0s\n",
            "2021-12-02 14:53:30,725 epoch: 187\tloss_align: 0.00103782\ttime: 0s\n",
            "2021-12-02 14:53:31,102 epoch: 188\tloss_align: 0.00103274\ttime: 0s\n",
            "2021-12-02 14:53:31,487 epoch: 189\tloss_align: 0.00102815\ttime: 0s\n",
            "2021-12-02 14:53:31,487 Start validating...\n",
            "2021-12-02 14:53:56,195 l2r: acc of top [1, 3, 5, 10] = [0.5733, 0.7443, 0.7939, 0.8366], mr = 158.577, mrr = 0.670, time = 24.7072 s \n",
            "2021-12-02 14:53:56,195 r2l: acc of top [1, 3, 5, 10] = [0.5707, 0.7396, 0.7917, 0.8355], mr = 152.385, mrr = 0.668, time = 24.7075 s \n",
            "\n",
            "2021-12-02 14:54:00,907 epoch: 190\tloss_align: 0.00102310\ttime: 4s\n",
            "2021-12-02 14:54:01,286 epoch: 191\tloss_align: 0.00101862\ttime: 0s\n",
            "2021-12-02 14:54:01,671 epoch: 192\tloss_align: 0.00101422\ttime: 0s\n",
            "2021-12-02 14:54:02,056 epoch: 193\tloss_align: 0.00100976\ttime: 0s\n",
            "2021-12-02 14:54:02,442 epoch: 194\tloss_align: 0.00100492\ttime: 0s\n",
            "2021-12-02 14:54:02,442 Start validating...\n",
            "2021-12-02 14:54:27,708 l2r: acc of top [1, 3, 5, 10] = [0.5719, 0.7449, 0.7942, 0.8364], mr = 158.555, mrr = 0.669, time = 25.2636 s \n",
            "2021-12-02 14:54:27,709 r2l: acc of top [1, 3, 5, 10] = [0.5708, 0.7393, 0.7913, 0.8359], mr = 152.510, mrr = 0.668, time = 25.2640 s \n",
            "\n",
            "2021-12-02 14:54:32,536 epoch: 195\tloss_align: 0.00100048\ttime: 4s\n",
            "2021-12-02 14:54:32,945 epoch: 196\tloss_align: 0.00099634\ttime: 0s\n",
            "2021-12-02 14:54:33,341 epoch: 197\tloss_align: 0.00099183\ttime: 0s\n",
            "2021-12-02 14:54:33,726 epoch: 198\tloss_align: 0.00098763\ttime: 0s\n",
            "2021-12-02 14:54:34,100 epoch: 199\tloss_align: 0.00098389\ttime: 0s\n",
            "2021-12-02 14:54:34,100 Start validating...\n",
            "2021-12-02 14:54:58,602 l2r: acc of top [1, 3, 5, 10] = [0.5716, 0.7446, 0.7945, 0.8359], mr = 159.107, mrr = 0.669, time = 24.5011 s \n",
            "2021-12-02 14:54:58,602 r2l: acc of top [1, 3, 5, 10] = [0.5704, 0.7395, 0.7912, 0.8358], mr = 152.670, mrr = 0.667, time = 24.5015 s \n",
            "\n",
            "2021-12-02 14:55:03,336 epoch: 200\tloss_align: 0.00098004\ttime: 4s\n",
            "2021-12-02 14:55:03,756 epoch: 201\tloss_align: 0.00097582\ttime: 0s\n",
            "2021-12-02 14:55:04,160 epoch: 202\tloss_align: 0.00097143\ttime: 0s\n",
            "2021-12-02 14:55:04,558 epoch: 203\tloss_align: 0.00096714\ttime: 0s\n",
            "2021-12-02 14:55:04,937 epoch: 204\tloss_align: 0.00096357\ttime: 0s\n",
            "2021-12-02 14:55:04,937 Start validating...\n",
            "2021-12-02 14:55:29,489 l2r: acc of top [1, 3, 5, 10] = [0.5724, 0.7441, 0.7946, 0.8359], mr = 159.475, mrr = 0.669, time = 24.5485 s \n",
            "2021-12-02 14:55:29,489 r2l: acc of top [1, 3, 5, 10] = [0.5701, 0.7395, 0.7904, 0.8356], mr = 153.025, mrr = 0.667, time = 24.5489 s \n",
            "\n",
            "2021-12-02 14:55:34,168 epoch: 205\tloss_align: 0.00095872\ttime: 4s\n",
            "2021-12-02 14:55:34,544 epoch: 206\tloss_align: 0.00095442\ttime: 0s\n",
            "2021-12-02 14:55:34,923 epoch: 207\tloss_align: 0.00095009\ttime: 0s\n",
            "2021-12-02 14:55:35,295 epoch: 208\tloss_align: 0.00094611\ttime: 0s\n",
            "2021-12-02 14:55:35,673 epoch: 209\tloss_align: 0.00094229\ttime: 0s\n",
            "2021-12-02 14:55:35,674 Start validating...\n",
            "2021-12-02 14:56:00,087 l2r: acc of top [1, 3, 5, 10] = [0.5735, 0.7434, 0.794, 0.8354], mr = 159.520, mrr = 0.670, time = 24.4133 s \n",
            "2021-12-02 14:56:00,088 r2l: acc of top [1, 3, 5, 10] = [0.5708, 0.7391, 0.7901, 0.8353], mr = 153.474, mrr = 0.667, time = 24.4136 s \n",
            "\n",
            "2021-12-02 14:56:04,830 epoch: 210\tloss_align: 0.00093817\ttime: 4s\n",
            "2021-12-02 14:56:05,266 epoch: 211\tloss_align: 0.00093404\ttime: 0s\n",
            "2021-12-02 14:56:05,669 epoch: 212\tloss_align: 0.00092968\ttime: 0s\n",
            "2021-12-02 14:56:06,054 epoch: 213\tloss_align: 0.00092580\ttime: 0s\n",
            "2021-12-02 14:56:06,434 epoch: 214\tloss_align: 0.00092153\ttime: 0s\n",
            "2021-12-02 14:56:06,434 Start validating...\n",
            "2021-12-02 14:56:30,914 l2r: acc of top [1, 3, 5, 10] = [0.5721, 0.7441, 0.7928, 0.8357], mr = 160.123, mrr = 0.669, time = 24.4775 s \n",
            "2021-12-02 14:56:30,915 r2l: acc of top [1, 3, 5, 10] = [0.5702, 0.7384, 0.7898, 0.8359], mr = 153.653, mrr = 0.667, time = 24.4778 s \n",
            "\n",
            "2021-12-02 14:56:35,674 epoch: 215\tloss_align: 0.00091736\ttime: 4s\n",
            "2021-12-02 14:56:36,100 epoch: 216\tloss_align: 0.00091369\ttime: 0s\n",
            "2021-12-02 14:56:36,501 epoch: 217\tloss_align: 0.00091003\ttime: 0s\n",
            "2021-12-02 14:56:36,878 epoch: 218\tloss_align: 0.00090604\ttime: 0s\n",
            "2021-12-02 14:56:37,261 epoch: 219\tloss_align: 0.00090232\ttime: 0s\n",
            "2021-12-02 14:56:37,262 Start validating...\n",
            "2021-12-02 14:57:01,650 l2r: acc of top [1, 3, 5, 10] = [0.5713, 0.7437, 0.7933, 0.8357], mr = 160.120, mrr = 0.668, time = 24.3880 s \n",
            "2021-12-02 14:57:01,650 r2l: acc of top [1, 3, 5, 10] = [0.5702, 0.738, 0.7901, 0.835], mr = 153.888, mrr = 0.667, time = 24.3883 s \n",
            "\n",
            "2021-12-02 14:57:06,233 epoch: 220\tloss_align: 0.00089831\ttime: 4s\n",
            "2021-12-02 14:57:06,609 epoch: 221\tloss_align: 0.00089407\ttime: 0s\n",
            "2021-12-02 14:57:06,991 epoch: 222\tloss_align: 0.00089011\ttime: 0s\n",
            "2021-12-02 14:57:07,367 epoch: 223\tloss_align: 0.00088784\ttime: 0s\n",
            "2021-12-02 14:57:07,748 epoch: 224\tloss_align: 0.00088335\ttime: 0s\n",
            "2021-12-02 14:57:07,749 Start validating...\n",
            "2021-12-02 14:57:32,231 l2r: acc of top [1, 3, 5, 10] = [0.5715, 0.7432, 0.7933, 0.835], mr = 160.627, mrr = 0.669, time = 24.4797 s \n",
            "2021-12-02 14:57:32,232 r2l: acc of top [1, 3, 5, 10] = [0.5694, 0.739, 0.7898, 0.835], mr = 154.407, mrr = 0.666, time = 24.4799 s \n",
            "\n",
            "2021-12-02 14:57:37,009 epoch: 225\tloss_align: 0.00087936\ttime: 4s\n",
            "2021-12-02 14:57:37,433 epoch: 226\tloss_align: 0.00087600\ttime: 0s\n",
            "2021-12-02 14:57:37,833 epoch: 227\tloss_align: 0.00087147\ttime: 0s\n",
            "2021-12-02 14:57:38,212 epoch: 228\tloss_align: 0.00086782\ttime: 0s\n",
            "2021-12-02 14:57:38,594 epoch: 229\tloss_align: 0.00086449\ttime: 0s\n",
            "2021-12-02 14:57:38,594 Start validating...\n",
            "2021-12-02 14:58:03,243 l2r: acc of top [1, 3, 5, 10] = [0.5714, 0.7429, 0.7929, 0.8349], mr = 161.050, mrr = 0.668, time = 24.6487 s \n",
            "2021-12-02 14:58:03,243 r2l: acc of top [1, 3, 5, 10] = [0.5703, 0.7389, 0.7896, 0.8348], mr = 154.631, mrr = 0.667, time = 24.6490 s \n",
            "\n",
            "2021-12-02 14:58:07,977 epoch: 230\tloss_align: 0.00086167\ttime: 4s\n",
            "2021-12-02 14:58:08,400 epoch: 231\tloss_align: 0.00085799\ttime: 0s\n",
            "2021-12-02 14:58:08,797 epoch: 232\tloss_align: 0.00085342\ttime: 0s\n",
            "2021-12-02 14:58:09,183 epoch: 233\tloss_align: 0.00085040\ttime: 0s\n",
            "2021-12-02 14:58:09,570 epoch: 234\tloss_align: 0.00084763\ttime: 0s\n",
            "2021-12-02 14:58:09,571 Start validating...\n",
            "2021-12-02 14:58:34,145 l2r: acc of top [1, 3, 5, 10] = [0.5709, 0.7423, 0.7922, 0.8348], mr = 161.184, mrr = 0.668, time = 24.5717 s \n",
            "2021-12-02 14:58:34,146 r2l: acc of top [1, 3, 5, 10] = [0.5695, 0.7389, 0.7895, 0.8349], mr = 154.788, mrr = 0.667, time = 24.5720 s \n",
            "\n",
            "2021-12-02 14:58:38,824 epoch: 235\tloss_align: 0.00084571\ttime: 4s\n",
            "2021-12-02 14:58:39,202 epoch: 236\tloss_align: 0.00084213\ttime: 0s\n",
            "2021-12-02 14:58:39,593 epoch: 237\tloss_align: 0.00083923\ttime: 0s\n",
            "2021-12-02 14:58:39,971 epoch: 238\tloss_align: 0.00083603\ttime: 0s\n",
            "2021-12-02 14:58:40,352 epoch: 239\tloss_align: 0.00083389\ttime: 0s\n",
            "2021-12-02 14:58:40,353 Start validating...\n",
            "2021-12-02 14:59:04,811 l2r: acc of top [1, 3, 5, 10] = [0.5714, 0.7417, 0.792, 0.8344], mr = 161.590, mrr = 0.668, time = 24.4585 s \n",
            "2021-12-02 14:59:04,812 r2l: acc of top [1, 3, 5, 10] = [0.5693, 0.739, 0.79, 0.8346], mr = 154.981, mrr = 0.667, time = 24.4588 s \n",
            "\n",
            "2021-12-02 14:59:09,480 epoch: 240\tloss_align: 0.00082834\ttime: 4s\n",
            "2021-12-02 14:59:09,896 epoch: 241\tloss_align: 0.00082658\ttime: 0s\n",
            "2021-12-02 14:59:10,286 epoch: 242\tloss_align: 0.00082382\ttime: 0s\n",
            "2021-12-02 14:59:10,673 epoch: 243\tloss_align: 0.00082151\ttime: 0s\n",
            "2021-12-02 14:59:11,052 epoch: 244\tloss_align: 0.00081744\ttime: 0s\n",
            "2021-12-02 14:59:11,052 Start validating...\n",
            "2021-12-02 14:59:35,527 l2r: acc of top [1, 3, 5, 10] = [0.5705, 0.7423, 0.7917, 0.834], mr = 161.783, mrr = 0.668, time = 24.4724 s \n",
            "2021-12-02 14:59:35,528 r2l: acc of top [1, 3, 5, 10] = [0.569, 0.7394, 0.789, 0.8345], mr = 155.306, mrr = 0.666, time = 24.4726 s \n",
            "\n",
            "2021-12-02 14:59:40,187 epoch: 245\tloss_align: 0.00081557\ttime: 4s\n",
            "2021-12-02 14:59:40,596 epoch: 246\tloss_align: 0.00081308\ttime: 0s\n",
            "2021-12-02 14:59:40,993 epoch: 247\tloss_align: 0.00081051\ttime: 0s\n",
            "2021-12-02 14:59:41,378 epoch: 248\tloss_align: 0.00080633\ttime: 0s\n",
            "2021-12-02 14:59:41,757 epoch: 249\tloss_align: 0.00080711\ttime: 0s\n",
            "2021-12-02 14:59:41,757 Start validating...\n",
            "2021-12-02 15:00:06,325 l2r: acc of top [1, 3, 5, 10] = [0.5708, 0.742, 0.792, 0.8342], mr = 162.013, mrr = 0.668, time = 24.5676 s \n",
            "2021-12-02 15:00:06,326 r2l: acc of top [1, 3, 5, 10] = [0.5701, 0.7385, 0.7895, 0.8341], mr = 155.340, mrr = 0.666, time = 24.5680 s \n",
            "\n",
            "2021-12-02 15:00:10,980 epoch: 250\tloss_align: 0.00080345\ttime: 4s\n",
            "2021-12-02 15:00:11,353 epoch: 251\tloss_align: 0.00080118\ttime: 0s\n",
            "2021-12-02 15:00:11,734 epoch: 252\tloss_align: 0.00079777\ttime: 0s\n",
            "2021-12-02 15:00:12,120 epoch: 253\tloss_align: 0.00079550\ttime: 0s\n",
            "2021-12-02 15:00:12,499 epoch: 254\tloss_align: 0.00079206\ttime: 0s\n",
            "2021-12-02 15:00:12,499 Start validating...\n",
            "2021-12-02 15:00:37,117 l2r: acc of top [1, 3, 5, 10] = [0.5703, 0.7424, 0.7918, 0.8344], mr = 162.184, mrr = 0.667, time = 24.6153 s \n",
            "2021-12-02 15:00:37,118 r2l: acc of top [1, 3, 5, 10] = [0.5691, 0.7385, 0.7899, 0.8344], mr = 155.628, mrr = 0.666, time = 24.6156 s \n",
            "\n",
            "2021-12-02 15:00:41,867 epoch: 255\tloss_align: 0.00078998\ttime: 4s\n",
            "2021-12-02 15:00:42,276 epoch: 256\tloss_align: 0.00078727\ttime: 0s\n",
            "2021-12-02 15:00:42,685 epoch: 257\tloss_align: 0.00078482\ttime: 0s\n",
            "2021-12-02 15:00:43,060 epoch: 258\tloss_align: 0.00078308\ttime: 0s\n",
            "2021-12-02 15:00:43,439 epoch: 259\tloss_align: 0.00078189\ttime: 0s\n",
            "2021-12-02 15:00:43,440 Start validating...\n",
            "2021-12-02 15:01:07,703 l2r: acc of top [1, 3, 5, 10] = [0.5707, 0.7412, 0.7914, 0.8341], mr = 162.371, mrr = 0.668, time = 24.2626 s \n",
            "2021-12-02 15:01:07,703 r2l: acc of top [1, 3, 5, 10] = [0.569, 0.739, 0.7896, 0.8339], mr = 155.658, mrr = 0.666, time = 24.2629 s \n",
            "\n",
            "2021-12-02 15:01:12,365 epoch: 260\tloss_align: 0.00077911\ttime: 4s\n",
            "2021-12-02 15:01:12,777 epoch: 261\tloss_align: 0.00077685\ttime: 0s\n",
            "2021-12-02 15:01:13,161 epoch: 262\tloss_align: 0.00077312\ttime: 0s\n",
            "2021-12-02 15:01:13,545 epoch: 263\tloss_align: 0.00077194\ttime: 0s\n",
            "2021-12-02 15:01:13,922 epoch: 264\tloss_align: 0.00076905\ttime: 0s\n",
            "2021-12-02 15:01:13,922 Start validating...\n",
            "2021-12-02 15:01:38,067 l2r: acc of top [1, 3, 5, 10] = [0.571, 0.7418, 0.7909, 0.8339], mr = 162.491, mrr = 0.668, time = 24.1420 s \n",
            "2021-12-02 15:01:38,067 r2l: acc of top [1, 3, 5, 10] = [0.5683, 0.7391, 0.7892, 0.8336], mr = 155.992, mrr = 0.666, time = 24.1423 s \n",
            "\n",
            "2021-12-02 15:01:42,620 epoch: 265\tloss_align: 0.00076804\ttime: 4s\n",
            "2021-12-02 15:01:42,985 epoch: 266\tloss_align: 0.00076534\ttime: 0s\n",
            "2021-12-02 15:01:43,363 epoch: 267\tloss_align: 0.00076636\ttime: 0s\n",
            "2021-12-02 15:01:43,742 epoch: 268\tloss_align: 0.00076229\ttime: 0s\n",
            "2021-12-02 15:01:44,120 epoch: 269\tloss_align: 0.00076129\ttime: 0s\n",
            "2021-12-02 15:01:44,120 Start validating...\n",
            "2021-12-02 15:02:07,858 l2r: acc of top [1, 3, 5, 10] = [0.5704, 0.7418, 0.7907, 0.8339], mr = 162.596, mrr = 0.667, time = 23.7368 s \n",
            "2021-12-02 15:02:07,858 r2l: acc of top [1, 3, 5, 10] = [0.5685, 0.7389, 0.7899, 0.8338], mr = 155.952, mrr = 0.666, time = 23.7372 s \n",
            "\n",
            "2021-12-02 15:02:12,392 epoch: 270\tloss_align: 0.00075876\ttime: 4s\n",
            "2021-12-02 15:02:12,798 epoch: 271\tloss_align: 0.00075714\ttime: 0s\n",
            "2021-12-02 15:02:13,186 epoch: 272\tloss_align: 0.00075395\ttime: 0s\n",
            "2021-12-02 15:02:13,574 epoch: 273\tloss_align: 0.00075317\ttime: 0s\n",
            "2021-12-02 15:02:13,949 epoch: 274\tloss_align: 0.00074936\ttime: 0s\n",
            "2021-12-02 15:02:13,949 Start validating...\n",
            "2021-12-02 15:02:37,699 l2r: acc of top [1, 3, 5, 10] = [0.5698, 0.7414, 0.7911, 0.8337], mr = 162.588, mrr = 0.667, time = 23.7464 s \n",
            "2021-12-02 15:02:37,699 r2l: acc of top [1, 3, 5, 10] = [0.5683, 0.7385, 0.789, 0.8339], mr = 156.199, mrr = 0.665, time = 23.7467 s \n",
            "\n",
            "2021-12-02 15:02:42,325 epoch: 275\tloss_align: 0.00074810\ttime: 4s\n",
            "2021-12-02 15:02:42,734 epoch: 276\tloss_align: 0.00074701\ttime: 0s\n",
            "2021-12-02 15:02:43,131 epoch: 277\tloss_align: 0.00074631\ttime: 0s\n",
            "2021-12-02 15:02:43,505 epoch: 278\tloss_align: 0.00074194\ttime: 0s\n",
            "2021-12-02 15:02:43,884 epoch: 279\tloss_align: 0.00074039\ttime: 0s\n",
            "2021-12-02 15:02:43,884 Start validating...\n",
            "2021-12-02 15:03:07,324 l2r: acc of top [1, 3, 5, 10] = [0.5706, 0.7408, 0.7909, 0.8332], mr = 162.822, mrr = 0.667, time = 23.4399 s \n",
            "2021-12-02 15:03:07,325 r2l: acc of top [1, 3, 5, 10] = [0.5679, 0.739, 0.7896, 0.8336], mr = 156.172, mrr = 0.665, time = 23.4403 s \n",
            "\n",
            "2021-12-02 15:03:11,953 epoch: 280\tloss_align: 0.00073787\ttime: 4s\n",
            "2021-12-02 15:03:12,326 epoch: 281\tloss_align: 0.00073688\ttime: 0s\n",
            "2021-12-02 15:03:12,704 epoch: 282\tloss_align: 0.00073299\ttime: 0s\n",
            "2021-12-02 15:03:13,077 epoch: 283\tloss_align: 0.00073106\ttime: 0s\n",
            "2021-12-02 15:03:13,455 epoch: 284\tloss_align: 0.00072978\ttime: 0s\n",
            "2021-12-02 15:03:13,455 Start validating...\n",
            "2021-12-02 15:03:37,018 l2r: acc of top [1, 3, 5, 10] = [0.5703, 0.7403, 0.7908, 0.8332], mr = 162.889, mrr = 0.667, time = 23.5597 s \n",
            "2021-12-02 15:03:37,018 r2l: acc of top [1, 3, 5, 10] = [0.5681, 0.739, 0.7893, 0.8335], mr = 156.262, mrr = 0.665, time = 23.5600 s \n",
            "\n",
            "2021-12-02 15:03:41,681 epoch: 285\tloss_align: 0.00072811\ttime: 4s\n",
            "2021-12-02 15:03:42,088 epoch: 286\tloss_align: 0.00072685\ttime: 0s\n",
            "2021-12-02 15:03:42,483 epoch: 287\tloss_align: 0.00072547\ttime: 0s\n",
            "2021-12-02 15:03:42,855 epoch: 288\tloss_align: 0.00072424\ttime: 0s\n",
            "2021-12-02 15:03:43,231 epoch: 289\tloss_align: 0.00072325\ttime: 0s\n",
            "2021-12-02 15:03:43,232 Start validating...\n",
            "2021-12-02 15:04:06,733 l2r: acc of top [1, 3, 5, 10] = [0.5703, 0.7402, 0.7905, 0.8335], mr = 163.139, mrr = 0.667, time = 23.5005 s \n",
            "2021-12-02 15:04:06,733 r2l: acc of top [1, 3, 5, 10] = [0.5674, 0.7393, 0.7896, 0.8336], mr = 156.593, mrr = 0.665, time = 23.5007 s \n",
            "\n",
            "2021-12-02 15:04:11,356 epoch: 290\tloss_align: 0.00072199\ttime: 4s\n",
            "2021-12-02 15:04:11,776 epoch: 291\tloss_align: 0.00072050\ttime: 0s\n",
            "2021-12-02 15:04:12,171 epoch: 292\tloss_align: 0.00071951\ttime: 0s\n",
            "2021-12-02 15:04:12,548 epoch: 293\tloss_align: 0.00071823\ttime: 0s\n",
            "2021-12-02 15:04:12,920 epoch: 294\tloss_align: 0.00071693\ttime: 0s\n",
            "2021-12-02 15:04:12,920 Start validating...\n",
            "2021-12-02 15:04:36,634 l2r: acc of top [1, 3, 5, 10] = [0.5704, 0.7412, 0.791, 0.8329], mr = 163.097, mrr = 0.667, time = 23.7114 s \n",
            "2021-12-02 15:04:36,635 r2l: acc of top [1, 3, 5, 10] = [0.567, 0.738, 0.7895, 0.8335], mr = 156.443, mrr = 0.665, time = 23.7117 s \n",
            "\n",
            "2021-12-02 15:04:41,180 epoch: 295\tloss_align: 0.00071612\ttime: 4s\n",
            "2021-12-02 15:04:41,553 epoch: 296\tloss_align: 0.00071463\ttime: 0s\n",
            "2021-12-02 15:04:41,925 epoch: 297\tloss_align: 0.00071353\ttime: 0s\n",
            "2021-12-02 15:04:42,291 epoch: 298\tloss_align: 0.00071321\ttime: 0s\n",
            "2021-12-02 15:04:42,670 epoch: 299\tloss_align: 0.00071224\ttime: 0s\n",
            "2021-12-02 15:04:42,670 Start validating...\n",
            "2021-12-02 15:05:06,293 l2r: acc of top [1, 3, 5, 10] = [0.5706, 0.7404, 0.7908, 0.8331], mr = 163.207, mrr = 0.667, time = 23.6228 s \n",
            "2021-12-02 15:05:06,294 r2l: acc of top [1, 3, 5, 10] = [0.5678, 0.7389, 0.789, 0.8336], mr = 156.790, mrr = 0.665, time = 23.6234 s \n",
            "\n",
            "2021-12-02 15:05:10,906 epoch: 300\tloss_align: 0.00071116\ttime: 4s\n",
            "2021-12-02 15:05:11,319 epoch: 301\tloss_align: 0.00070923\ttime: 0s\n",
            "2021-12-02 15:05:11,704 epoch: 302\tloss_align: 0.00070869\ttime: 0s\n",
            "2021-12-02 15:05:12,079 epoch: 303\tloss_align: 0.00070845\ttime: 0s\n",
            "2021-12-02 15:05:12,454 epoch: 304\tloss_align: 0.00070619\ttime: 0s\n",
            "2021-12-02 15:05:12,454 Start validating...\n",
            "2021-12-02 15:05:36,028 l2r: acc of top [1, 3, 5, 10] = [0.5707, 0.741, 0.791, 0.833], mr = 163.234, mrr = 0.667, time = 23.5711 s \n",
            "2021-12-02 15:05:36,028 r2l: acc of top [1, 3, 5, 10] = [0.5678, 0.7395, 0.7895, 0.8335], mr = 156.798, mrr = 0.665, time = 23.5714 s \n",
            "\n",
            "2021-12-02 15:05:40,688 epoch: 305\tloss_align: 0.00070531\ttime: 4s\n",
            "2021-12-02 15:05:41,113 epoch: 306\tloss_align: 0.00070454\ttime: 0s\n",
            "2021-12-02 15:05:41,504 epoch: 307\tloss_align: 0.00070358\ttime: 0s\n",
            "2021-12-02 15:05:41,878 epoch: 308\tloss_align: 0.00070265\ttime: 0s\n",
            "2021-12-02 15:05:42,255 epoch: 309\tloss_align: 0.00070251\ttime: 0s\n",
            "2021-12-02 15:05:42,255 Start validating...\n",
            "2021-12-02 15:06:05,779 l2r: acc of top [1, 3, 5, 10] = [0.5701, 0.7404, 0.7915, 0.8322], mr = 163.220, mrr = 0.667, time = 23.5232 s \n",
            "2021-12-02 15:06:05,779 r2l: acc of top [1, 3, 5, 10] = [0.5677, 0.7389, 0.7895, 0.8331], mr = 156.915, mrr = 0.665, time = 23.5235 s \n",
            "\n",
            "2021-12-02 15:06:10,316 epoch: 310\tloss_align: 0.00070122\ttime: 4s\n",
            "2021-12-02 15:06:10,701 epoch: 311\tloss_align: 0.00069993\ttime: 0s\n",
            "2021-12-02 15:06:11,076 epoch: 312\tloss_align: 0.00069993\ttime: 0s\n",
            "2021-12-02 15:06:11,444 epoch: 313\tloss_align: 0.00069843\ttime: 0s\n",
            "2021-12-02 15:06:11,815 epoch: 314\tloss_align: 0.00069711\ttime: 0s\n",
            "2021-12-02 15:06:11,816 Start validating...\n",
            "Traceback (most recent call last):\n",
            "  File \"run.py\", line 238, in train_and_eval\n",
            "    result = self.evaluate(it, d.ill_test_idx, emb, self.mapping_ins_emb)\n",
            "  File \"run.py\", line 92, in evaluate\n",
            "    pool.join()\n",
            "  File \"/usr/lib/python3.7/multiprocessing/pool.py\", line 556, in join\n",
            "    self._worker_handler.join()\n",
            "  File \"/usr/lib/python3.7/threading.py\", line 1044, in join\n",
            "    self._wait_for_tstate_lock()\n",
            "  File \"/usr/lib/python3.7/threading.py\", line 1060, in _wait_for_tstate_lock\n",
            "Process ForkPoolWorker-628:\n",
            "    elif lock.acquire(block, timeout):\n",
            "KeyboardInterrupt\n",
            "\n",
            "During handling of the above exception, another exception occurred:\n",
            "\n",
            "Traceback (most recent call last):\n",
            "  File \"run.py\", line 461, in <module>\n",
            "Process ForkPoolWorker-627:\n",
            "    experiment.train_and_eval()\n",
            "  File \"run.py\", line 238, in train_and_eval\n",
            "    result = self.evaluate(it, d.ill_test_idx, emb, self.mapping_ins_emb)\n",
            "KeyboardInterrupt\n",
            "Process ForkPoolWorker-621:\n",
            "Process ForkPoolWorker-622:\n",
            "Process ForkPoolWorker-624:\n",
            "Traceback (most recent call last):\n",
            "Process ForkPoolWorker-630:\n",
            "Process ForkPoolWorker-625:\n",
            "Process ForkPoolWorker-626:\n",
            "Process ForkPoolWorker-629:\n",
            "Process ForkPoolWorker-623:\n",
            "Traceback (most recent call last):\n",
            "Traceback (most recent call last):\n",
            "Traceback (most recent call last):\n",
            "Traceback (most recent call last):\n",
            "Traceback (most recent call last):\n",
            "Traceback (most recent call last):\n",
            "  File \"/usr/lib/python3.7/multiprocessing/process.py\", line 297, in _bootstrap\n",
            "    self.run()\n",
            "  File \"/usr/lib/python3.7/multiprocessing/process.py\", line 99, in run\n",
            "    self._target(*self._args, **self._kwargs)\n",
            "  File \"/usr/lib/python3.7/multiprocessing/pool.py\", line 121, in worker\n",
            "    result = (True, func(*args, **kwds))\n",
            "  File \"/usr/lib/python3.7/multiprocessing/process.py\", line 297, in _bootstrap\n",
            "    self.run()\n",
            "  File \"/content/EAFR/utils.py\", line 42, in multi_cal_rank\n",
            "    indices = distance[i, :].argsort()\n",
            "KeyboardInterrupt\n"
          ]
        }
      ]
    },
    {
      "cell_type": "code",
      "metadata": {
        "id": "5h5lXsCs4mR3"
      },
      "source": [
        "!fuser -v /dev/nvidia*"
      ],
      "execution_count": null,
      "outputs": []
    },
    {
      "cell_type": "code",
      "metadata": {
        "id": "7Z4iLewwRq_u"
      },
      "source": [
        "!kill -9 1661 "
      ],
      "execution_count": null,
      "outputs": []
    },
    {
      "cell_type": "code",
      "metadata": {
        "id": "kCsR8niV5tpH"
      },
      "source": [
        "!nvcc --version https://github.com/MaoXinn/RREA"
      ],
      "execution_count": null,
      "outputs": []
    },
    {
      "cell_type": "code",
      "metadata": {
        "id": "hwZ9zE0n-vpZ"
      },
      "source": [
        "!python -c \"import torch; print(torch.__version__)\"\n",
        "!python -c \"import torch; print(torch.version.cuda)\""
      ],
      "execution_count": null,
      "outputs": []
    },
    {
      "cell_type": "code",
      "metadata": {
        "id": "tMS6-QWD6Nfv"
      },
      "source": [
        ""
      ],
      "execution_count": null,
      "outputs": []
    },
    {
      "cell_type": "code",
      "metadata": {
        "id": "EsuGalZ3_dMy"
      },
      "source": [
        ""
      ],
      "execution_count": null,
      "outputs": []
    },
    {
      "cell_type": "code",
      "metadata": {
        "id": "ijyhjY1p5EnG"
      },
      "source": [
        "!git pull https://github.com/TMUITLab/EAFR"
      ],
      "execution_count": null,
      "outputs": []
    },
    {
      "cell_type": "code",
      "metadata": {
        "colab": {
          "background_save": true
        },
        "id": "nim_lcF35NhG"
      },
      "source": [
        "%cd '/content/EAFR'\n",
        "!CUDA_VISIBLE_DEVICES=0 python3 run.py"
      ],
      "execution_count": null,
      "outputs": []
    },
    {
      "cell_type": "code",
      "metadata": {
        "id": "m_DHAfBCiV1r"
      },
      "source": [
        "!git clone 'https://github.com/vinhsuhi/EMGCN'"
      ],
      "execution_count": null,
      "outputs": []
    },
    {
      "cell_type": "code",
      "metadata": {
        "id": "Uvfm_eLo-hdT"
      },
      "source": [
        "import requests\n",
        "\n",
        "def download_file_from_google_drive(id, destination):\n",
        "    URL = \"https://docs.google.com/uc?export=download\"\n",
        "\n",
        "    session = requests.Session()\n",
        "\n",
        "    response = session.get(URL, params = { 'id' : id }, stream = True)\n",
        "    token = get_confirm_token(response)\n",
        "\n",
        "    if token:\n",
        "        params = { 'id' : id, 'confirm' : token }\n",
        "        response = session.get(URL, params = params, stream = True)\n",
        "\n",
        "    save_response_content(response, destination)    \n",
        "\n",
        "def get_confirm_token(response):\n",
        "    for key, value in response.cookies.items():\n",
        "        if key.startswith('download_warning'):\n",
        "            return value\n",
        "\n",
        "    return None\n",
        "\n",
        "def save_response_content(response, destination):\n",
        "    CHUNK_SIZE = 32768\n",
        "\n",
        "    with open(destination, \"wb\") as f:\n",
        "        for chunk in response.iter_content(CHUNK_SIZE):\n",
        "            if chunk: # filter out keep-alive new chunks\n",
        "                f.write(chunk)"
      ],
      "execution_count": null,
      "outputs": []
    },
    {
      "cell_type": "code",
      "metadata": {
        "id": "p_lCpFlo95Z0"
      },
      "source": [
        "%cd /content/\n",
        "download_file_from_google_drive('12XL08tB8zplCNhzLE-9qbsFFum7RoV6r','emgcn.rar')\n",
        "!pip install patool\n",
        "import patoolib\n",
        "patoolib.extract_archive(\"/content/emgcn.rar\", outdir=\"/content/EMGCN/\")"
      ],
      "execution_count": null,
      "outputs": []
    },
    {
      "cell_type": "code",
      "metadata": {
        "id": "IMQwyPaP-TQI"
      },
      "source": [
        "%cd '/content/EMGCN'\n",
        "!python -u network_alignment.py --dataset_name zh_en --source_dataset data/networkx/zh_enDI/zh/graphsage/ --target_dataset data/networkx/zh_enDI/en/graphsage --groundtruth data/networkx/zh_enDI/dictionaries/groundtruth EMGCN --sparse --log "
      ],
      "execution_count": null,
      "outputs": []
    },
    {
      "cell_type": "code",
      "metadata": {
        "id": "Eotb-M7RyvfH"
      },
      "source": [
        "!nvidia-smi"
      ],
      "execution_count": null,
      "outputs": []
    },
    {
      "cell_type": "code",
      "metadata": {
        "colab": {
          "base_uri": "https://localhost:8080/"
        },
        "id": "WjActARX7sCY",
        "outputId": "b7f9b6b6-b290-4761-d0b2-a56122442e52"
      },
      "source": [
        "%cd '/content'\n",
        "!git clone https://github.com/1049451037/GCN-Align"
      ],
      "execution_count": null,
      "outputs": [
        {
          "name": "stdout",
          "output_type": "stream",
          "text": [
            "/content\n",
            "Cloning into 'GCN-Align'...\n",
            "remote: Enumerating objects: 53, done.\u001b[K\n",
            "remote: Total 53 (delta 0), reused 0 (delta 0), pack-reused 53\u001b[K\n",
            "Unpacking objects: 100% (53/53), done.\n"
          ]
        }
      ]
    },
    {
      "cell_type": "code",
      "metadata": {
        "colab": {
          "base_uri": "https://localhost:8080/"
        },
        "id": "0G6_LeBQ3PFb",
        "outputId": "c1cce149-9386-4e64-f4e7-19f835139c42"
      },
      "source": [
        "%cd '/content'\n",
        "!git clone https://github.com/MaoXinn/RREA"
      ],
      "execution_count": null,
      "outputs": [
        {
          "name": "stdout",
          "output_type": "stream",
          "text": [
            "/content\n",
            "Cloning into 'RREA'...\n",
            "remote: Enumerating objects: 32, done.\u001b[K\n",
            "remote: Counting objects: 100% (32/32), done.\u001b[K\n",
            "remote: Compressing objects: 100% (30/30), done.\u001b[K\n",
            "remote: Total 32 (delta 4), reused 0 (delta 0), pack-reused 0\u001b[K\n",
            "Unpacking objects: 100% (32/32), done.\n"
          ]
        }
      ]
    },
    {
      "cell_type": "code",
      "metadata": {
        "id": "ZB2YBVkb4pYB"
      },
      "source": [
        "import warnings\n",
        "warnings.filterwarnings('ignore')\n",
        "\n",
        "\n",
        "from importlib.machinery import SourceFileLoader\n",
        " \n",
        "layer = SourceFileLoader(\"layer\", \"/content/RREA/CIKM/layer.py\").load_module()\n",
        "utils = SourceFileLoader(\"utils\", \"/content/RREA/CIKM/utils.py\").load_module()\n",
        "CSLS = SourceFileLoader(\"CSLS\", \"/content/RREA/CIKM/CSLS.py\").load_module()\n",
        "import tensorflow as tf\n",
        "import os\n",
        "import random\n",
        "import keras\n",
        "from tqdm import *\n",
        "import numpy as np\n",
        "from utils import *\n",
        "from CSLS import *\n",
        "import tensorflow as tf\n",
        "import keras.backend as K\n",
        "from keras.layers import *\n",
        "from layer import NR_GraphAttention\n",
        "\n",
        "os.environ[\"CUDA_VISIBLE_DEVICES\"] = \"0\"\n",
        "os.environ[\"TF_CPP_MIN_LOG_LEVEL\"]=\"2\"\n",
        "tf.compat.v1.logging.set_verbosity(tf.compat.v1.logging.ERROR)\n",
        "\n",
        "config = tf.compat.v1.ConfigProto()\n",
        "config.gpu_options.allow_growth=True  \n",
        "sess = tf.compat.v1.Session(config=config)  "
      ],
      "execution_count": null,
      "outputs": []
    },
    {
      "cell_type": "code",
      "metadata": {
        "colab": {
          "base_uri": "https://localhost:8080/"
        },
        "id": "oYvCCmAe62rP",
        "outputId": "85747c01-ff22-483e-aa24-26c4bba11031"
      },
      "source": [
        "lang = 'zh'\n",
        "train_pair,dev_pair,adj_matrix,r_index,r_val,adj_features,rel_features = load_data('/content/GCN-Align/data/%s_en/'%lang,train_ratio=0.30)\n",
        "adj_matrix = np.stack(adj_matrix.nonzero(),axis = 1)\n",
        "rel_matrix,rel_val = np.stack(rel_features.nonzero(),axis = 1),rel_features.data\n",
        "ent_matrix,ent_val = np.stack(adj_features.nonzero(),axis = 1),adj_features.data"
      ],
      "execution_count": null,
      "outputs": [
        {
          "name": "stdout",
          "output_type": "stream",
          "text": [
            "38960 3025\n"
          ]
        }
      ]
    },
    {
      "cell_type": "code",
      "metadata": {
        "colab": {
          "base_uri": "https://localhost:8080/"
        },
        "id": "iKpJNKHILgn-",
        "outputId": "d4522098-577f-4c34-e73b-e25a8d228d23"
      },
      "source": [
        "adj_matrix"
      ],
      "execution_count": null,
      "outputs": [
        {
          "data": {
            "text/plain": [
              "array([[    0,   403],\n",
              "       [    0,  1559],\n",
              "       [    0,  8738],\n",
              "       ...,\n",
              "       [38958, 36116],\n",
              "       [38959, 14282],\n",
              "       [38959, 36612]], dtype=int32)"
            ]
          },
          "execution_count": 42,
          "metadata": {},
          "output_type": "execute_result"
        }
      ]
    },
    {
      "cell_type": "code",
      "metadata": {
        "id": "t29mIfJT68i3"
      },
      "source": [
        "node_size = adj_features.shape[0]\n",
        "rel_size = rel_features.shape[1]\n",
        "triple_size = len(adj_matrix)\n",
        "batch_size = node_size\n",
        "\n",
        "\n",
        "class TokenEmbedding(keras.layers.Embedding):\n",
        "    \"\"\"Embedding layer with weights returned.\"\"\"\n",
        "\n",
        "    def compute_output_shape(self, input_shape):\n",
        "        return self.input_dim, self.output_dim\n",
        "\n",
        "    def compute_mask(self, inputs, mask=None):\n",
        "        return None\n",
        "\n",
        "    def call(self, inputs):\n",
        "        return self.embeddings\n",
        "    \n",
        "def get_embedding():\n",
        "    inputs = [adj_matrix,r_index,r_val,rel_matrix,ent_matrix]\n",
        "    inputs = [np.expand_dims(item,axis=0) for item in inputs]\n",
        "    return get_emb.predict_on_batch(inputs)\n",
        "\n",
        "def test(wrank = None):\n",
        "    vec = get_embedding()\n",
        "    return  get_hits(vec,dev_pair,wrank=wrank)\n",
        "\n",
        "def CSLS_test(thread_number = 16, csls=10,accurate = True):\n",
        "    vec = get_embedding()\n",
        "    Lvec = np.array([vec[e1] for e1, e2 in dev_pair])\n",
        "    Rvec = np.array([vec[e2] for e1, e2 in dev_pair])\n",
        "    Lvec = Lvec / np.linalg.norm(Lvec,axis=-1,keepdims=True)\n",
        "    Rvec = Rvec / np.linalg.norm(Rvec,axis=-1,keepdims=True)\n",
        "    eval_alignment_by_sim_mat(Lvec, Rvec, [1, 5, 10], thread_number, csls=csls, accurate=accurate)\n",
        "    return None\n",
        "\n",
        "def get_train_set(batch_size = batch_size):\n",
        "    negative_ratio =  batch_size // len(train_pair) + 1\n",
        "    train_set = np.reshape(np.repeat(np.expand_dims(train_pair,axis=0),axis=0,repeats=negative_ratio),newshape=(-1,2))\n",
        "    np.random.shuffle(train_set); train_set = train_set[:batch_size]\n",
        "    train_set = np.concatenate([train_set,np.random.randint(0,node_size,train_set.shape)],axis = -1)\n",
        "    return train_set\n",
        "\n",
        "def get_trgat(node_size,rel_size,node_hidden,rel_hidden,triple_size,n_attn_heads = 2,dropout_rate = 0,gamma = 3,lr = 0.005,depth = 2):\n",
        "    adj_input = Input(shape=(None,2))\n",
        "    index_input = Input(shape=(None,2),dtype='int64')\n",
        "    val_input = Input(shape = (None,))\n",
        "    rel_adj = Input(shape=(None,2))\n",
        "    ent_adj = Input(shape=(None,2))\n",
        "    \n",
        "    ent_emb = TokenEmbedding(node_size,node_hidden,trainable = True)(val_input) \n",
        "    rel_emb = TokenEmbedding(rel_size,node_hidden,trainable = True)(val_input)\n",
        "    \n",
        "    def avg(tensor,size):\n",
        "        adj = K.cast(K.squeeze(tensor[0],axis = 0),dtype = \"int64\")   \n",
        "        adj = tf.SparseTensor(indices=adj, values=tf.ones_like(adj[:,0],dtype = 'float32'), dense_shape=(node_size,size)) \n",
        "        adj = tf.compat.v1.sparse_softmax(adj) \n",
        "        return tf.compat.v1.sparse_tensor_dense_matmul(adj,tensor[1])\n",
        "    \n",
        "    opt = [rel_emb,adj_input,index_input,val_input]\n",
        "    ent_feature = Lambda(avg,arguments={'size':node_size})([ent_adj,ent_emb])\n",
        "    rel_feature = Lambda(avg,arguments={'size':rel_size})([rel_adj,rel_emb])\n",
        "    \n",
        "    encoder = NR_GraphAttention(node_size,activation=\"relu\",\n",
        "                                       rel_size = rel_size,\n",
        "                                       depth = depth,\n",
        "                                       attn_heads=n_attn_heads,\n",
        "                                       triple_size = triple_size,\n",
        "                                       attn_heads_reduction='average',   \n",
        "                                       dropout_rate=dropout_rate)\n",
        "    \n",
        "    out_feature = Concatenate(-1)([encoder([ent_feature]+opt)])\n",
        "    out_feature = Dropout(dropout_rate)(out_feature)\n",
        "    \n",
        "    alignment_input = Input(shape=(None,4))\n",
        "    find = Lambda(lambda x:K.gather(reference=x[0],indices=K.cast(K.squeeze(x[1],axis=0), 'int32')))([out_feature,alignment_input])\n",
        "    \n",
        "    def align_loss(tensor):\n",
        "        def _cosine(x):\n",
        "            dot1 = K.batch_dot(x[0], x[1], axes=1)\n",
        "            dot2 = K.batch_dot(x[0], x[0], axes=1)\n",
        "            dot3 = K.batch_dot(x[1], x[1], axes=1)\n",
        "            max_ = K.maximum(K.sqrt(dot2 * dot3), K.epsilon())\n",
        "            return dot1 / max_\n",
        "        \n",
        "        def l1(ll,rr):\n",
        "            return K.sum(K.abs(ll-rr),axis=-1,keepdims=True)\n",
        "        \n",
        "        def l2(ll,rr):\n",
        "            return K.sum(K.square(ll-rr),axis=-1,keepdims=True)\n",
        "        \n",
        "        l,r,fl,fr = [tensor[:,0,:],tensor[:,1,:],tensor[:,2 ,:],tensor[:,3,:]]\n",
        "        loss = K.relu(gamma + l1(l,r) - l1(l,fr)) + K.relu(gamma + l1(l,r) - l1(fl,r))\n",
        "        return tf.compat.v1.reduce_sum(loss,keep_dims=True) / (batch_size)\n",
        "    \n",
        "    loss = Lambda(align_loss)(find)\n",
        "    \n",
        "    inputs = [adj_input,index_input,val_input,rel_adj,ent_adj]\n",
        "    train_model = tf.keras.Model(inputs = inputs + [alignment_input],outputs = loss)\n",
        "    train_model.compile(loss=lambda y_true,y_pred: y_pred,optimizer=tf.keras.optimizers.RMSprop(lr=lr))\n",
        "    \n",
        "    feature_model = keras.Model(inputs = inputs,outputs = out_feature)\n",
        "    return train_model,feature_model"
      ],
      "execution_count": null,
      "outputs": []
    },
    {
      "cell_type": "code",
      "metadata": {
        "colab": {
          "base_uri": "https://localhost:8080/"
        },
        "id": "Nwoj1iWf69WX",
        "outputId": "b2d4cd2d-037d-41a5-8d1d-ecb8f03cf43c"
      },
      "source": [
        "layer = SourceFileLoader(\"layer\", \"/content/RREA/CIKM/layer.py\").load_module()\n",
        "from layer import NR_GraphAttention\n",
        "model,get_emb = get_trgat(dropout_rate=0.30,node_size=node_size,rel_size=rel_size,n_attn_heads = 1,depth=2,gamma =3,node_hidden=100,rel_hidden = 100,triple_size = triple_size)\n",
        "model.summary(); initial_weights = model.get_weights()"
      ],
      "execution_count": null,
      "outputs": [
        {
          "name": "stdout",
          "output_type": "stream",
          "text": [
            "Model: \"model\"\n",
            "__________________________________________________________________________________________________\n",
            " Layer (type)                   Output Shape         Param #     Connected to                     \n",
            "==================================================================================================\n",
            " input_8 (InputLayer)           [(None, None)]       0           []                               \n",
            "                                                                                                  \n",
            " input_10 (InputLayer)          [(None, None, 2)]    0           []                               \n",
            "                                                                                                  \n",
            " token_embedding_2 (TokenEmbedd  (38960, 100)        3896000     ['input_8[0][0]']                \n",
            " ing)                                                                                             \n",
            "                                                                                                  \n",
            " lambda_2 (Lambda)              (38960, 100)         0           ['input_10[0][0]',               \n",
            "                                                                  'token_embedding_2[0][0]']      \n",
            "                                                                                                  \n",
            " token_embedding_3 (TokenEmbedd  (6050, 100)         605000      ['input_8[0][0]']                \n",
            " ing)                                                                                             \n",
            "                                                                                                  \n",
            " input_6 (InputLayer)           [(None, None, 2)]    0           []                               \n",
            "                                                                                                  \n",
            " input_7 (InputLayer)           [(None, None, 2)]    0           []                               \n",
            "                                                                                                  \n",
            " nr__graph_attention_1 (NR_Grap  (38960, 300)        600         ['lambda_2[0][0]',               \n",
            " hAttention)                                                      'token_embedding_3[0][0]',      \n",
            "                                                                  'input_6[0][0]',                \n",
            "                                                                  'input_7[0][0]',                \n",
            "                                                                  'input_8[0][0]']                \n",
            "                                                                                                  \n",
            " concatenate_1 (Concatenate)    (38960, 300)         0           ['nr__graph_attention_1[0][0]']  \n",
            "                                                                                                  \n",
            " dropout (Dropout)              (38960, 300)         0           ['concatenate_1[0][0]']          \n",
            "                                                                                                  \n",
            " input_11 (InputLayer)          [(None, None, 4)]    0           []                               \n",
            "                                                                                                  \n",
            " lambda_4 (Lambda)              (None, 4, 300)       0           ['dropout[0][0]',                \n",
            "                                                                  'input_11[0][0]']               \n",
            "                                                                                                  \n",
            " input_9 (InputLayer)           [(None, None, 2)]    0           []                               \n",
            "                                                                                                  \n",
            " lambda_5 (Lambda)              (1, 1)               0           ['lambda_4[0][0]']               \n",
            "                                                                                                  \n",
            "==================================================================================================\n",
            "Total params: 4,501,600\n",
            "Trainable params: 4,501,600\n",
            "Non-trainable params: 0\n",
            "__________________________________________________________________________________________________\n"
          ]
        }
      ]
    },
    {
      "cell_type": "code",
      "metadata": {
        "id": "liEfH-wDHq0f"
      },
      "source": [
        "vec = get_embedding()\n"
      ],
      "execution_count": null,
      "outputs": []
    },
    {
      "cell_type": "code",
      "metadata": {
        "colab": {
          "base_uri": "https://localhost:8080/"
        },
        "id": "K6k9NXbXH5uJ",
        "outputId": "64001285-ab32-4aef-a945-2a874f0be669"
      },
      "source": [
        "rest_set_1 = [e1 for e1, e2 in dev_pair]\n",
        "rest_set_2 = [e2 for e1, e2 in dev_pair]\n",
        "np.random.shuffle(rest_set_1)\n",
        "np.random.shuffle(rest_set_2)\n",
        "print(dev_pair)"
      ],
      "execution_count": null,
      "outputs": [
        {
          "name": "stdout",
          "output_type": "stream",
          "text": [
            "[[ 4736 15236]\n",
            " [ 7017 17517]\n",
            " [25253 36020]\n",
            " ...\n",
            " [24033 36729]\n",
            " [23605 37085]\n",
            " [23930 36501]]\n"
          ]
        }
      ]
    },
    {
      "cell_type": "code",
      "metadata": {
        "colab": {
          "background_save": true,
          "base_uri": "https://localhost:8080/"
        },
        "id": "lMdo-YeF7Hp_",
        "outputId": "83f4f5a7-4b21-44d1-aa75-15f316c5c738"
      },
      "source": [
        "rest_set_1 = [e1 for e1, e2 in dev_pair]\n",
        "rest_set_2 = [e2 for e1, e2 in dev_pair]\n",
        "np.random.shuffle(rest_set_1)\n",
        "np.random.shuffle(rest_set_2)\n",
        "\n",
        "epoch = 1200\n",
        "for turn in range(5):\n",
        "    print(\"iteration %d start.\"%turn)\n",
        "    for i in trange(epoch):\n",
        "        train_set = get_train_set()\n",
        "        inputs = [adj_matrix,r_index,r_val,rel_matrix,ent_matrix,train_set]\n",
        "        inputs = [np.expand_dims(item,axis=0) for item in inputs]\n",
        "        model.train_on_batch(inputs,np.zeros((1,1)))\n",
        "        if i%300 == 299:\n",
        "            CSLS_test()\n",
        "\n",
        "    new_pair = []\n",
        "    vec = get_embedding()\n",
        "    Lvec = np.array([vec[e] for e in rest_set_1])\n",
        "    Rvec = np.array([vec[e] for e in rest_set_2])\n",
        "    Lvec = Lvec / np.linalg.norm(Lvec,axis=-1,keepdims=True)\n",
        "    Rvec = Rvec / np.linalg.norm(Rvec,axis=-1,keepdims=True)\n",
        "    A,_ = eval_alignment_by_sim_mat(Lvec, Rvec, [1, 5, 10], 16,10,True,False)\n",
        "    B,_ = eval_alignment_by_sim_mat(Rvec, Lvec,[1, 5, 10], 16,10,True,False)\n",
        "    A = sorted(list(A)); B = sorted(list(B))\n",
        "    for a,b in A:\n",
        "        if  B[b][1] == a:\n",
        "            new_pair.append([rest_set_1[a],rest_set_2[b]])\n",
        "    print(\"generate new semi-pairs: %d.\" % len(new_pair))\n",
        "    \n",
        "    train_pair = np.concatenate([train_pair,np.array(new_pair)],axis = 0)\n",
        "    for e1,e2 in new_pair:\n",
        "        if e1 in rest_set_1:\n",
        "            rest_set_1.remove(e1) \n",
        "        \n",
        "    for e1,e2 in new_pair:\n",
        "        if e2 in rest_set_2:\n",
        "            rest_set_2.remove(e2) "
      ],
      "execution_count": null,
      "outputs": [
        {
          "metadata": {
            "tags": null
          },
          "name": "stdout",
          "output_type": "stream",
          "text": [
            "iteration 0 start.\n"
          ]
        },
        {
          "metadata": {
            "tags": null
          },
          "name": "stderr",
          "output_type": "stream",
          "text": [
            " 25%|██▌       | 300/1200 [17:06<2:17:01,  9.14s/it]"
          ]
        },
        {
          "metadata": {
            "tags": null
          },
          "name": "stdout",
          "output_type": "stream",
          "text": [
            "accurate results: hits@[1, 5, 10] = [56.16 81.72 88.19], mr = 41.283, mrr = 0.674, time = 17.553 s \n"
          ]
        },
        {
          "metadata": {
            "tags": null
          },
          "name": "stderr",
          "output_type": "stream",
          "text": [
            " 50%|█████     | 600/1200 [33:53<1:20:04,  8.01s/it]"
          ]
        },
        {
          "metadata": {
            "tags": null
          },
          "name": "stdout",
          "output_type": "stream",
          "text": [
            "accurate results: hits@[1, 5, 10] = [59.27 83.25 89.1 ], mr = 43.293, mrr = 0.698, time = 14.834 s \n"
          ]
        },
        {
          "metadata": {
            "tags": null
          },
          "name": "stderr",
          "output_type": "stream",
          "text": [
            " 75%|███████▌  | 900/1200 [50:36<41:13,  8.24s/it]"
          ]
        },
        {
          "metadata": {
            "tags": null
          },
          "name": "stdout",
          "output_type": "stream",
          "text": [
            "accurate results: hits@[1, 5, 10] = [60.64 83.71 89.43], mr = 43.377, mrr = 0.708, time = 15.361 s \n"
          ]
        },
        {
          "metadata": {
            "tags": null
          },
          "name": "stderr",
          "output_type": "stream",
          "text": [
            "100%|██████████| 1200/1200 [1:07:19<00:00,  3.37s/it]"
          ]
        },
        {
          "metadata": {
            "tags": null
          },
          "name": "stdout",
          "output_type": "stream",
          "text": [
            "accurate results: hits@[1, 5, 10] = [61.48 84.34 89.59], mr = 43.125, mrr = 0.714, time = 14.390 s \n"
          ]
        },
        {
          "metadata": {
            "tags": null
          },
          "name": "stderr",
          "output_type": "stream",
          "text": [
            "\n"
          ]
        },
        {
          "metadata": {
            "tags": null
          },
          "name": "stdout",
          "output_type": "stream",
          "text": [
            "generate new semi-pairs: 6505.\n",
            "iteration 1 start.\n"
          ]
        },
        {
          "metadata": {
            "tags": null
          },
          "name": "stderr",
          "output_type": "stream",
          "text": [
            " 25%|██▌       | 300/1200 [17:01<2:02:23,  8.16s/it]"
          ]
        },
        {
          "metadata": {
            "tags": null
          },
          "name": "stdout",
          "output_type": "stream",
          "text": [
            "accurate results: hits@[1, 5, 10] = [66.2  86.72 91.43], mr = 31.353, mrr = 0.752, time = 14.953 s \n"
          ]
        },
        {
          "metadata": {
            "tags": null
          },
          "name": "stderr",
          "output_type": "stream",
          "text": [
            " 50%|█████     | 600/1200 [34:04<1:20:29,  8.05s/it]"
          ]
        },
        {
          "metadata": {
            "tags": null
          },
          "name": "stdout",
          "output_type": "stream",
          "text": [
            "accurate results: hits@[1, 5, 10] = [67.24 87.01 91.57], mr = 31.937, mrr = 0.760, time = 14.443 s \n"
          ]
        },
        {
          "output_type": "stream",
          "name": "stderr",
          "text": [
            " 75%|███████▌  | 900/1200 [51:05<39:24,  7.88s/it]"
          ]
        },
        {
          "output_type": "stream",
          "name": "stdout",
          "text": [
            "accurate results: hits@[1, 5, 10] = [67.4  87.36 91.6 ], mr = 32.479, mrr = 0.762, time = 14.382 s \n"
          ]
        },
        {
          "output_type": "stream",
          "name": "stderr",
          "text": [
            "100%|██████████| 1200/1200 [1:07:34<00:00,  3.38s/it]"
          ]
        },
        {
          "output_type": "stream",
          "name": "stdout",
          "text": [
            "accurate results: hits@[1, 5, 10] = [67.98 87.46 91.7 ], mr = 32.408, mrr = 0.765, time = 14.095 s \n"
          ]
        },
        {
          "output_type": "stream",
          "name": "stderr",
          "text": [
            "\n"
          ]
        },
        {
          "output_type": "stream",
          "name": "stdout",
          "text": [
            "generate new semi-pairs: 2131.\n",
            "iteration 2 start.\n"
          ]
        },
        {
          "output_type": "stream",
          "name": "stderr",
          "text": [
            " 25%|██▌       | 300/1200 [16:31<2:03:06,  8.21s/it]"
          ]
        },
        {
          "output_type": "stream",
          "name": "stdout",
          "text": [
            "accurate results: hits@[1, 5, 10] = [70.4  87.9  91.97], mr = 32.893, mrr = 0.782, time = 15.022 s \n"
          ]
        },
        {
          "output_type": "stream",
          "name": "stderr",
          "text": [
            " 50%|█████     | 600/1200 [33:02<1:20:10,  8.02s/it]"
          ]
        },
        {
          "output_type": "stream",
          "name": "stdout",
          "text": [
            "accurate results: hits@[1, 5, 10] = [71.11 88.06 91.95], mr = 33.365, mrr = 0.786, time = 14.449 s \n"
          ]
        },
        {
          "output_type": "stream",
          "name": "stderr",
          "text": [
            " 55%|█████▍    | 654/1200 [35:58<29:13,  3.21s/it]"
          ]
        }
      ]
    },
    {
      "cell_type": "code",
      "metadata": {
        "colab": {
          "base_uri": "https://localhost:8080/"
        },
        "id": "QjQ1F-zW-VvX",
        "outputId": "973d64a2-b74c-4573-c6ec-98196bbec342"
      },
      "source": [
        ""
      ],
      "execution_count": null,
      "outputs": [
        {
          "data": {
            "text/plain": [
              "<function tensorflow.python.ops.sparse_ops.sparse_tensor_dense_matmul>"
            ]
          },
          "execution_count": 45,
          "metadata": {},
          "output_type": "execute_result"
        }
      ]
    }
  ]
}