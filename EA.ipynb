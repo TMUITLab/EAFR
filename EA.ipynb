{
  "cells": [
    {
      "cell_type": "markdown",
      "metadata": {
        "id": "view-in-github",
        "colab_type": "text"
      },
      "source": [
        "<a href=\"https://colab.research.google.com/github/TMUITLab/EAFR/blob/master/EA.ipynb\" target=\"_parent\"><img src=\"https://colab.research.google.com/assets/colab-badge.svg\" alt=\"Open In Colab\"/></a>"
      ]
    },
    {
      "cell_type": "code",
      "execution_count": null,
      "metadata": {
        "colab": {
          "base_uri": "https://localhost:8080/"
        },
        "id": "Mv8gecYb39Zy",
        "outputId": "3f72599d-b35b-4657-d1a7-fd85cb288c4c"
      },
      "outputs": [
        {
          "output_type": "stream",
          "name": "stdout",
          "text": [
            "Cloning into 'EAFR'...\n",
            "remote: Enumerating objects: 1046, done.\u001b[K\n",
            "remote: Counting objects: 100% (1046/1046), done.\u001b[K\n",
            "remote: Compressing objects: 100% (580/580), done.\u001b[K\n",
            "remote: Total 1046 (delta 137), reused 1004 (delta 107), pack-reused 0\u001b[K\n",
            "Receiving objects: 100% (1046/1046), 2.89 MiB | 10.32 MiB/s, done.\n",
            "Resolving deltas: 100% (137/137), done.\n",
            "--2021-12-11 12:07:17--  https://efsgpq-ch3301.files.1drv.com/y4muoyVficiYL6mAlmm7s9m65fhNRboLtxg7FmaufA9QzY2tVhsyi-nXNtgahgN8NhrumVKCHB-d_lfi_5OTy1e5NFe2walhCu2Z1zF3zcp_hammSHuJHk5BeG6YbT7STynmA3SDPP39sNzn9V2Iv2suqlHkIrDRvRuvvM_r6IKuiRmJ35YirCUrY_Rojf5d-oQrxyQTj86Wz70JyiwrAYxfA\n",
            "Resolving efsgpq-ch3301.files.1drv.com (efsgpq-ch3301.files.1drv.com)... 13.107.42.12\n",
            "Connecting to efsgpq-ch3301.files.1drv.com (efsgpq-ch3301.files.1drv.com)|13.107.42.12|:443... connected.\n",
            "HTTP request sent, awaiting response... 200 OK\n",
            "Length: 31678996 (30M) [application/zip]\n",
            "Saving to: ‘data.zip’\n",
            "\n",
            "data.zip            100%[===================>]  30.21M  15.0MB/s    in 2.0s    \n",
            "\n",
            "2021-12-11 12:07:20 (15.0 MB/s) - ‘data.zip’ saved [31678996/31678996]\n",
            "\n",
            "Archive:  /content/data.zip\n",
            "   creating: /content/EAFR/data/\n",
            "   creating: /content/EAFR/data/DWY100K/\n",
            "   creating: /content/EAFR/data/DWY100K/dbp_yg/\n",
            "  inflating: /content/EAFR/data/DWY100K/dbp_yg/.DS_Store  \n",
            "  inflating: /content/EAFR/data/DWY100K/dbp_yg/ent_ids_1  \n",
            "  inflating: /content/EAFR/data/DWY100K/dbp_yg/triples_2  \n",
            "  inflating: /content/EAFR/data/DWY100K/dbp_yg/rel_ids_2  \n",
            "  inflating: /content/EAFR/data/DWY100K/dbp_yg/ill_ent_ids  \n",
            "  inflating: /content/EAFR/data/DWY100K/dbp_yg/triples_1  \n",
            "  inflating: /content/EAFR/data/DWY100K/dbp_yg/ent_ids_2  \n",
            "  inflating: /content/EAFR/data/DWY100K/dbp_yg/rel_ids_1  \n",
            "  inflating: /content/EAFR/data/DWY100K/.DS_Store  \n",
            "   creating: /content/EAFR/data/DWY100K/dbp_wd/\n",
            "  inflating: /content/EAFR/data/DWY100K/dbp_wd/.DS_Store  \n",
            "  inflating: /content/EAFR/data/DWY100K/dbp_wd/ent_ids_1  \n",
            "  inflating: /content/EAFR/data/DWY100K/dbp_wd/triples_2  \n",
            "  inflating: /content/EAFR/data/DWY100K/dbp_wd/rel_ids_2  \n",
            "  inflating: /content/EAFR/data/DWY100K/dbp_wd/ill_ent_ids  \n",
            "  inflating: /content/EAFR/data/DWY100K/dbp_wd/triples_1  \n",
            "  inflating: /content/EAFR/data/DWY100K/dbp_wd/ent_ids_2  \n",
            "  inflating: /content/EAFR/data/DWY100K/dbp_wd/rel_ids_1  \n",
            "   creating: /content/EAFR/data/DBP15K/\n",
            "  inflating: /content/EAFR/data/DBP15K/.DS_Store  \n",
            "   creating: /content/EAFR/data/DBP15K/ja_en/\n",
            "  inflating: /content/EAFR/data/DBP15K/ja_en/.DS_Store  \n",
            "  inflating: /content/EAFR/data/DBP15K/ja_en/ent_ids_1  \n",
            "  inflating: /content/EAFR/data/DBP15K/ja_en/triples_2  \n",
            "  inflating: /content/EAFR/data/DBP15K/ja_en/training_attrs_1  \n",
            "  inflating: /content/EAFR/data/DBP15K/ja_en/rel_ids_2  \n",
            "  inflating: /content/EAFR/data/DBP15K/ja_en/ill_ent_ids  \n",
            "  inflating: /content/EAFR/data/DBP15K/ja_en/triples_1  \n",
            "  inflating: /content/EAFR/data/DBP15K/ja_en/ent_ids_2  \n",
            "  inflating: /content/EAFR/data/DBP15K/ja_en/training_attrs_2  \n",
            "  inflating: /content/EAFR/data/DBP15K/ja_en/rel_ids_1  \n",
            "   creating: /content/EAFR/data/DBP15K/fr_en/\n",
            "  inflating: /content/EAFR/data/DBP15K/fr_en/.DS_Store  \n",
            "  inflating: /content/EAFR/data/DBP15K/fr_en/ent_ids_1  \n",
            "  inflating: /content/EAFR/data/DBP15K/fr_en/triples_2  \n",
            "  inflating: /content/EAFR/data/DBP15K/fr_en/training_attrs_1  \n",
            "  inflating: /content/EAFR/data/DBP15K/fr_en/rel_ids_2  \n",
            "  inflating: /content/EAFR/data/DBP15K/fr_en/ill_ent_ids  \n",
            "  inflating: /content/EAFR/data/DBP15K/fr_en/triples_1  \n",
            "  inflating: /content/EAFR/data/DBP15K/fr_en/ent_ids_2  \n",
            "  inflating: /content/EAFR/data/DBP15K/fr_en/training_attrs_2  \n",
            "  inflating: /content/EAFR/data/DBP15K/fr_en/rel_ids_1  \n",
            "   creating: /content/EAFR/data/DBP15K/zh_en/\n",
            "  inflating: /content/EAFR/data/DBP15K/zh_en/.DS_Store  \n",
            "  inflating: /content/EAFR/data/DBP15K/zh_en/ent_ids_1  \n",
            "  inflating: /content/EAFR/data/DBP15K/zh_en/triples_2  \n",
            "  inflating: /content/EAFR/data/DBP15K/zh_en/training_attrs_1  \n",
            "  inflating: /content/EAFR/data/DBP15K/zh_en/rel_ids_2  \n",
            "  inflating: /content/EAFR/data/DBP15K/zh_en/ill_ent_ids  \n",
            "  inflating: /content/EAFR/data/DBP15K/zh_en/triples_1  \n",
            "  inflating: /content/EAFR/data/DBP15K/zh_en/ent_ids_2  \n",
            "  inflating: /content/EAFR/data/DBP15K/zh_en/training_attrs_2  \n",
            "  inflating: /content/EAFR/data/DBP15K/zh_en/rel_ids_1  \n",
            "Looking in links: https://data.pyg.org/whl/torch-1.10.0+cu111.html\n",
            "Collecting torch-scatter\n",
            "  Downloading https://data.pyg.org/whl/torch-1.10.0%2Bcu113/torch_scatter-2.0.9-cp37-cp37m-linux_x86_64.whl (7.9 MB)\n",
            "\u001b[K     |████████████████████████████████| 7.9 MB 4.2 MB/s \n",
            "\u001b[?25hInstalling collected packages: torch-scatter\n",
            "Successfully installed torch-scatter-2.0.9\n",
            "Looking in links: https://data.pyg.org/whl/torch-1.10.0+cu111.html\n",
            "Collecting torch-sparse\n",
            "  Downloading https://data.pyg.org/whl/torch-1.10.0%2Bcu113/torch_sparse-0.6.12-cp37-cp37m-linux_x86_64.whl (3.5 MB)\n",
            "\u001b[K     |████████████████████████████████| 3.5 MB 4.4 MB/s \n",
            "\u001b[?25hRequirement already satisfied: scipy in /usr/local/lib/python3.7/dist-packages (from torch-sparse) (1.4.1)\n",
            "Requirement already satisfied: numpy>=1.13.3 in /usr/local/lib/python3.7/dist-packages (from scipy->torch-sparse) (1.19.5)\n",
            "Installing collected packages: torch-sparse\n",
            "Successfully installed torch-sparse-0.6.12\n",
            "Collecting torch-geometric\n",
            "  Downloading torch_geometric-2.0.2.tar.gz (325 kB)\n",
            "\u001b[K     |████████████████████████████████| 325 kB 4.1 MB/s \n",
            "\u001b[?25hRequirement already satisfied: numpy in /usr/local/lib/python3.7/dist-packages (from torch-geometric) (1.19.5)\n",
            "Requirement already satisfied: tqdm in /usr/local/lib/python3.7/dist-packages (from torch-geometric) (4.62.3)\n",
            "Requirement already satisfied: scipy in /usr/local/lib/python3.7/dist-packages (from torch-geometric) (1.4.1)\n",
            "Requirement already satisfied: networkx in /usr/local/lib/python3.7/dist-packages (from torch-geometric) (2.6.3)\n",
            "Requirement already satisfied: scikit-learn in /usr/local/lib/python3.7/dist-packages (from torch-geometric) (1.0.1)\n",
            "Requirement already satisfied: requests in /usr/local/lib/python3.7/dist-packages (from torch-geometric) (2.23.0)\n",
            "Requirement already satisfied: pandas in /usr/local/lib/python3.7/dist-packages (from torch-geometric) (1.1.5)\n",
            "Collecting rdflib\n",
            "  Downloading rdflib-6.0.2-py3-none-any.whl (407 kB)\n",
            "\u001b[K     |████████████████████████████████| 407 kB 33.4 MB/s \n",
            "\u001b[?25hRequirement already satisfied: googledrivedownloader in /usr/local/lib/python3.7/dist-packages (from torch-geometric) (0.4)\n",
            "Requirement already satisfied: jinja2 in /usr/local/lib/python3.7/dist-packages (from torch-geometric) (2.11.3)\n",
            "Requirement already satisfied: pyparsing in /usr/local/lib/python3.7/dist-packages (from torch-geometric) (3.0.6)\n",
            "Collecting yacs\n",
            "  Downloading yacs-0.1.8-py3-none-any.whl (14 kB)\n",
            "Requirement already satisfied: PyYAML in /usr/local/lib/python3.7/dist-packages (from torch-geometric) (3.13)\n",
            "Requirement already satisfied: MarkupSafe>=0.23 in /usr/local/lib/python3.7/dist-packages (from jinja2->torch-geometric) (2.0.1)\n",
            "Requirement already satisfied: python-dateutil>=2.7.3 in /usr/local/lib/python3.7/dist-packages (from pandas->torch-geometric) (2.8.2)\n",
            "Requirement already satisfied: pytz>=2017.2 in /usr/local/lib/python3.7/dist-packages (from pandas->torch-geometric) (2018.9)\n",
            "Requirement already satisfied: six>=1.5 in /usr/local/lib/python3.7/dist-packages (from python-dateutil>=2.7.3->pandas->torch-geometric) (1.15.0)\n",
            "Requirement already satisfied: setuptools in /usr/local/lib/python3.7/dist-packages (from rdflib->torch-geometric) (57.4.0)\n",
            "Collecting isodate\n",
            "  Downloading isodate-0.6.0-py2.py3-none-any.whl (45 kB)\n",
            "\u001b[K     |████████████████████████████████| 45 kB 3.6 MB/s \n",
            "\u001b[?25hRequirement already satisfied: urllib3!=1.25.0,!=1.25.1,<1.26,>=1.21.1 in /usr/local/lib/python3.7/dist-packages (from requests->torch-geometric) (1.24.3)\n",
            "Requirement already satisfied: idna<3,>=2.5 in /usr/local/lib/python3.7/dist-packages (from requests->torch-geometric) (2.10)\n",
            "Requirement already satisfied: certifi>=2017.4.17 in /usr/local/lib/python3.7/dist-packages (from requests->torch-geometric) (2021.10.8)\n",
            "Requirement already satisfied: chardet<4,>=3.0.2 in /usr/local/lib/python3.7/dist-packages (from requests->torch-geometric) (3.0.4)\n",
            "Requirement already satisfied: threadpoolctl>=2.0.0 in /usr/local/lib/python3.7/dist-packages (from scikit-learn->torch-geometric) (3.0.0)\n",
            "Requirement already satisfied: joblib>=0.11 in /usr/local/lib/python3.7/dist-packages (from scikit-learn->torch-geometric) (1.1.0)\n",
            "Building wheels for collected packages: torch-geometric\n",
            "  Building wheel for torch-geometric (setup.py) ... \u001b[?25l\u001b[?25hdone\n",
            "  Created wheel for torch-geometric: filename=torch_geometric-2.0.2-py3-none-any.whl size=535570 sha256=ddc242e0170cedf151a86bac20a78a26fc133455997dab84e2aadefcf5496687\n",
            "  Stored in directory: /root/.cache/pip/wheels/3f/08/13/2321517088bb2e95bfd0e45033bb9c923189e5b2078e0be4ef\n",
            "Successfully built torch-geometric\n",
            "Installing collected packages: isodate, yacs, rdflib, torch-geometric\n",
            "Successfully installed isodate-0.6.0 rdflib-6.0.2 torch-geometric-2.0.2 yacs-0.1.8\n",
            "Collecting igraph\n",
            "  Downloading igraph-0.9.8-cp37-cp37m-manylinux_2_12_x86_64.manylinux2010_x86_64.whl (3.2 MB)\n",
            "\u001b[K     |████████████████████████████████| 3.2 MB 4.3 MB/s \n",
            "\u001b[?25hCollecting texttable>=1.6.2\n",
            "  Downloading texttable-1.6.4-py2.py3-none-any.whl (10 kB)\n",
            "Installing collected packages: texttable, igraph\n",
            "Successfully installed igraph-0.9.8 texttable-1.6.4\n",
            "fatal: not a git repository (or any of the parent directories): .git\n"
          ]
        }
      ],
      "source": [
        "!git clone https://github.com/TMUITLab/EAFR\n",
        "!wget -O 'data.zip' 'https://efsgpq-ch3301.files.1drv.com/y4muoyVficiYL6mAlmm7s9m65fhNRboLtxg7FmaufA9QzY2tVhsyi-nXNtgahgN8NhrumVKCHB-d_lfi_5OTy1e5NFe2walhCu2Z1zF3zcp_hammSHuJHk5BeG6YbT7STynmA3SDPP39sNzn9V2Iv2suqlHkIrDRvRuvvM_r6IKuiRmJ35YirCUrY_Rojf5d-oQrxyQTj86Wz70JyiwrAYxfA'\n",
        "!unzip '/content/data.zip' -d '/content/EAFR'\n",
        "\n",
        "!pip install torch-scatter -f https://data.pyg.org/whl/torch-1.10.0+cu111.html\n",
        "!pip install torch-sparse -f https://data.pyg.org/whl/torch-1.10.0+cu111.html\n",
        "!pip install torch-geometric\n",
        "\n",
        "!pip install igraph\n",
        "!git pull https://github.com/TMUITLab/EAFR"
      ]
    },
    {
      "cell_type": "code",
      "source": [
        ""
      ],
      "metadata": {
        "id": "Py7-n88YJvNJ"
      },
      "execution_count": null,
      "outputs": []
    },
    {
      "cell_type": "code",
      "source": [
        ""
      ],
      "metadata": {
        "id": "nTEHQ0VfSDXk"
      },
      "execution_count": null,
      "outputs": []
    },
    {
      "cell_type": "code",
      "execution_count": null,
      "metadata": {
        "colab": {
          "base_uri": "https://localhost:8080/"
        },
        "id": "6NSkNdKdtj1a",
        "outputId": "3a2914a1-768a-4fe6-f18e-cbe85166039c"
      },
      "outputs": [
        {
          "output_type": "stream",
          "name": "stdout",
          "text": [
            "/content/EAFR\n",
            "2021-12-11 12:07:52,252 Namespace(alpha='1', attn_drop=0, beta='0.1', bootstrap=False, check=5, csls=10, cuda=True, data_dir='data/DBP15K/zh_en', decoder='Align', dr=0, early=False, edges_name='default', encoder='gcn-align', epoch=1000, feat_drop=0, heads='1,1', hiddens='100,100,100', k='4', log='tensorboard_log', lr=0.005, margin='1', openea_data=False, pre='', rate=0.3, rerank=False, sampling='R', save='', seed=2020, share=False, start_bp=4, swap=False, test_dist='euclidean', threshold=0.75, train_batch_size=-1, train_dist='euclidean', update=5, val=0.0, wd=0)\n",
            "2021-12-11 12:07:59,996 AlignmentData dataset summary:\n",
            "\tins_num: 38960\n",
            "\trel_num: 6048\n",
            "\ttriple_idx: 331112\n",
            "\trate: 0.3\tval: 0.0\n",
            "\till_idx(train/test/val): 15000 = 4500 + 10500 + 0\n",
            "\tins_G_edges_idx: 298096\n",
            "\t----------------------------- init_time: 7.739s\n",
            "2021-12-11 12:08:09,366 Encoder(name=gcn-align): GCNAlign_GCNConv(100, 100)\n",
            "GCNAlign_GCNConv(100, 100)\n",
            "2021-12-11 12:08:09,366 [Decoder(name=align): Align()]\n",
            "2021-12-11 12:08:09,382 ParameterList(\n",
            "    (0): Parameter containing: [torch.cuda.FloatTensor of size 38960x100 (GPU 0)]\n",
            "    (1): Parameter containing: [torch.cuda.FloatTensor of size 6048x100 (GPU 0)]\n",
            "    (2): Parameter containing: [torch.cuda.FloatTensor of size 100x100 (GPU 0)]\n",
            "    (3): Parameter containing: [torch.cuda.FloatTensor of size 100 (GPU 0)]\n",
            "    (4): Parameter containing: [torch.cuda.FloatTensor of size 100x100 (GPU 0)]\n",
            "    (5): Parameter containing: [torch.cuda.FloatTensor of size 100 (GPU 0)]\n",
            ")\n",
            "2021-12-11 12:08:09,383 Adagrad (\n",
            "Parameter Group 0\n",
            "    eps: 1e-10\n",
            "    initial_accumulator_value: 0\n",
            "    lr: 0.005\n",
            "    lr_decay: 0\n",
            "    weight_decay: 0\n",
            ")\n",
            "2021-12-11 12:08:09,383 Start training...\n",
            "2021-12-11 12:08:10,143 epoch: 0\tloss_align: 0.78441393\ttime: 0s\n",
            "2021-12-11 12:08:10,643 epoch: 1\tloss_align: 0.74987620\ttime: 0s\n",
            "2021-12-11 12:08:11,123 epoch: 2\tloss_align: 0.71116441\ttime: 0s\n",
            "2021-12-11 12:08:11,601 epoch: 3\tloss_align: 0.66681665\ttime: 0s\n",
            "2021-12-11 12:08:12,080 epoch: 4\tloss_align: 0.62103355\ttime: 0s\n",
            "2021-12-11 12:08:12,080 Start validating...\n",
            "2021-12-11 12:08:38,785 l2r: acc of top [1, 3, 5, 10] = [0.0107, 0.02, 0.0245, 0.0326], mr = 4010.084, mrr = 0.019, time = 26.7047 s \n",
            "2021-12-11 12:08:38,785 r2l: acc of top [1, 3, 5, 10] = [0.009, 0.0185, 0.0244, 0.0318], mr = 4077.104, mrr = 0.018, time = 26.7050 s \n",
            "\n",
            "2021-12-11 12:08:39,440 epoch: 5\tloss_align: 0.60995430\ttime: 0s\n",
            "2021-12-11 12:08:39,925 epoch: 6\tloss_align: 0.56712514\ttime: 0s\n",
            "2021-12-11 12:08:40,404 epoch: 7\tloss_align: 0.52957034\ttime: 0s\n",
            "2021-12-11 12:08:40,882 epoch: 8\tloss_align: 0.49541587\ttime: 0s\n",
            "2021-12-11 12:08:41,361 epoch: 9\tloss_align: 0.46440586\ttime: 0s\n",
            "2021-12-11 12:08:41,362 Start validating...\n"
          ]
        }
      ],
      "source": [
        "%cd '/content/EAFR'\n",
        "!CUDA_VISIBLE_DEVICES=0 python3 run.py"
      ]
    },
    {
      "cell_type": "code",
      "execution_count": null,
      "metadata": {
        "id": "5h5lXsCs4mR3"
      },
      "outputs": [],
      "source": [
        "!fuser -v /dev/nvidia*"
      ]
    },
    {
      "cell_type": "code",
      "execution_count": null,
      "metadata": {
        "id": "7Z4iLewwRq_u"
      },
      "outputs": [],
      "source": [
        "!kill -9 1661 "
      ]
    },
    {
      "cell_type": "code",
      "execution_count": null,
      "metadata": {
        "id": "kCsR8niV5tpH"
      },
      "outputs": [],
      "source": [
        "!nvcc --version https://github.com/MaoXinn/RREA"
      ]
    },
    {
      "cell_type": "code",
      "execution_count": null,
      "metadata": {
        "id": "hwZ9zE0n-vpZ",
        "colab": {
          "base_uri": "https://localhost:8080/"
        },
        "outputId": "587eb546-e80c-439b-c42a-2e10e7771dc3"
      },
      "outputs": [
        {
          "output_type": "stream",
          "name": "stdout",
          "text": [
            "1.10.0+cu111\n",
            "11.1\n"
          ]
        }
      ],
      "source": [
        "!python -c \"import torch; print(torch.__version__)\"\n",
        "!python -c \"import torch; print(torch.version.cuda)\""
      ]
    },
    {
      "cell_type": "code",
      "execution_count": null,
      "metadata": {
        "id": "tMS6-QWD6Nfv"
      },
      "outputs": [],
      "source": [
        ""
      ]
    },
    {
      "cell_type": "code",
      "execution_count": null,
      "metadata": {
        "id": "EsuGalZ3_dMy"
      },
      "outputs": [],
      "source": [
        ""
      ]
    },
    {
      "cell_type": "code",
      "execution_count": null,
      "metadata": {
        "id": "ijyhjY1p5EnG"
      },
      "outputs": [],
      "source": [
        "!git pull https://github.com/TMUITLab/EAFR"
      ]
    },
    {
      "cell_type": "code",
      "execution_count": null,
      "metadata": {
        "id": "nim_lcF35NhG"
      },
      "outputs": [],
      "source": [
        "%cd '/content/EAFR'\n",
        "!CUDA_VISIBLE_DEVICES=0 python3 run.py"
      ]
    },
    {
      "cell_type": "code",
      "execution_count": null,
      "metadata": {
        "id": "m_DHAfBCiV1r"
      },
      "outputs": [],
      "source": [
        "!git clone 'https://github.com/vinhsuhi/EMGCN'"
      ]
    },
    {
      "cell_type": "code",
      "execution_count": null,
      "metadata": {
        "id": "Uvfm_eLo-hdT"
      },
      "outputs": [],
      "source": [
        "import requests\n",
        "\n",
        "def download_file_from_google_drive(id, destination):\n",
        "    URL = \"https://docs.google.com/uc?export=download\"\n",
        "\n",
        "    session = requests.Session()\n",
        "\n",
        "    response = session.get(URL, params = { 'id' : id }, stream = True)\n",
        "    token = get_confirm_token(response)\n",
        "\n",
        "    if token:\n",
        "        params = { 'id' : id, 'confirm' : token }\n",
        "        response = session.get(URL, params = params, stream = True)\n",
        "\n",
        "    save_response_content(response, destination)    \n",
        "\n",
        "def get_confirm_token(response):\n",
        "    for key, value in response.cookies.items():\n",
        "        if key.startswith('download_warning'):\n",
        "            return value\n",
        "\n",
        "    return None\n",
        "\n",
        "def save_response_content(response, destination):\n",
        "    CHUNK_SIZE = 32768\n",
        "\n",
        "    with open(destination, \"wb\") as f:\n",
        "        for chunk in response.iter_content(CHUNK_SIZE):\n",
        "            if chunk: # filter out keep-alive new chunks\n",
        "                f.write(chunk)"
      ]
    },
    {
      "cell_type": "code",
      "execution_count": null,
      "metadata": {
        "id": "p_lCpFlo95Z0"
      },
      "outputs": [],
      "source": [
        "%cd /content/\n",
        "download_file_from_google_drive('12XL08tB8zplCNhzLE-9qbsFFum7RoV6r','emgcn.rar')\n",
        "!pip install patool\n",
        "import patoolib\n",
        "patoolib.extract_archive(\"/content/emgcn.rar\", outdir=\"/content/EMGCN/\")"
      ]
    },
    {
      "cell_type": "code",
      "execution_count": null,
      "metadata": {
        "id": "IMQwyPaP-TQI"
      },
      "outputs": [],
      "source": [
        "%cd '/content/EMGCN'\n",
        "!python -u network_alignment.py --dataset_name zh_en --source_dataset data/networkx/zh_enDI/zh/graphsage/ --target_dataset data/networkx/zh_enDI/en/graphsage --groundtruth data/networkx/zh_enDI/dictionaries/groundtruth EMGCN --sparse --log "
      ]
    },
    {
      "cell_type": "code",
      "source": [
        "\n",
        "!pip install torch-scatter -f https://data.pyg.org/whl/torch-1.10.0+cu111.html\n",
        "!pip install torch-sparse -f https://data.pyg.org/whl/torch-1.10.0+cu111.html\n",
        "!pip install torch-geometric"
      ],
      "metadata": {
        "id": "p-rVgHOzSMNK",
        "outputId": "522cc629-0391-443a-efec-ffba5d93591e",
        "colab": {
          "base_uri": "https://localhost:8080/"
        }
      },
      "execution_count": null,
      "outputs": [
        {
          "output_type": "stream",
          "name": "stdout",
          "text": [
            "Looking in links: https://data.pyg.org/whl/torch-1.10.0+cu111.html\n",
            "Collecting torch-scatter\n",
            "  Downloading https://data.pyg.org/whl/torch-1.10.0%2Bcu113/torch_scatter-2.0.9-cp37-cp37m-linux_x86_64.whl (7.9 MB)\n",
            "\u001b[K     |████████████████████████████████| 7.9 MB 5.4 MB/s \n",
            "\u001b[?25hInstalling collected packages: torch-scatter\n",
            "Successfully installed torch-scatter-2.0.9\n",
            "Looking in links: https://data.pyg.org/whl/torch-1.10.0+cu111.html\n",
            "Collecting torch-sparse\n",
            "  Downloading https://data.pyg.org/whl/torch-1.10.0%2Bcu113/torch_sparse-0.6.12-cp37-cp37m-linux_x86_64.whl (3.5 MB)\n",
            "\u001b[K     |████████████████████████████████| 3.5 MB 5.2 MB/s \n",
            "\u001b[?25hRequirement already satisfied: scipy in /usr/local/lib/python3.7/dist-packages (from torch-sparse) (1.4.1)\n",
            "Requirement already satisfied: numpy>=1.13.3 in /usr/local/lib/python3.7/dist-packages (from scipy->torch-sparse) (1.19.5)\n",
            "Installing collected packages: torch-sparse\n",
            "Successfully installed torch-sparse-0.6.12\n",
            "Collecting torch-geometric\n",
            "  Downloading torch_geometric-2.0.2.tar.gz (325 kB)\n",
            "\u001b[K     |████████████████████████████████| 325 kB 5.4 MB/s \n",
            "\u001b[?25hRequirement already satisfied: numpy in /usr/local/lib/python3.7/dist-packages (from torch-geometric) (1.19.5)\n",
            "Requirement already satisfied: tqdm in /usr/local/lib/python3.7/dist-packages (from torch-geometric) (4.62.3)\n",
            "Requirement already satisfied: scipy in /usr/local/lib/python3.7/dist-packages (from torch-geometric) (1.4.1)\n",
            "Requirement already satisfied: networkx in /usr/local/lib/python3.7/dist-packages (from torch-geometric) (2.6.3)\n",
            "Requirement already satisfied: scikit-learn in /usr/local/lib/python3.7/dist-packages (from torch-geometric) (1.0.1)\n",
            "Requirement already satisfied: requests in /usr/local/lib/python3.7/dist-packages (from torch-geometric) (2.23.0)\n",
            "Requirement already satisfied: pandas in /usr/local/lib/python3.7/dist-packages (from torch-geometric) (1.1.5)\n",
            "Collecting rdflib\n",
            "  Downloading rdflib-6.0.2-py3-none-any.whl (407 kB)\n",
            "\u001b[K     |████████████████████████████████| 407 kB 37.1 MB/s \n",
            "\u001b[?25hRequirement already satisfied: googledrivedownloader in /usr/local/lib/python3.7/dist-packages (from torch-geometric) (0.4)\n",
            "Requirement already satisfied: jinja2 in /usr/local/lib/python3.7/dist-packages (from torch-geometric) (2.11.3)\n",
            "Requirement already satisfied: pyparsing in /usr/local/lib/python3.7/dist-packages (from torch-geometric) (3.0.6)\n",
            "Collecting yacs\n",
            "  Downloading yacs-0.1.8-py3-none-any.whl (14 kB)\n",
            "Requirement already satisfied: PyYAML in /usr/local/lib/python3.7/dist-packages (from torch-geometric) (3.13)\n",
            "Requirement already satisfied: MarkupSafe>=0.23 in /usr/local/lib/python3.7/dist-packages (from jinja2->torch-geometric) (2.0.1)\n",
            "Requirement already satisfied: pytz>=2017.2 in /usr/local/lib/python3.7/dist-packages (from pandas->torch-geometric) (2018.9)\n",
            "Requirement already satisfied: python-dateutil>=2.7.3 in /usr/local/lib/python3.7/dist-packages (from pandas->torch-geometric) (2.8.2)\n",
            "Requirement already satisfied: six>=1.5 in /usr/local/lib/python3.7/dist-packages (from python-dateutil>=2.7.3->pandas->torch-geometric) (1.15.0)\n",
            "Collecting isodate\n",
            "  Downloading isodate-0.6.1-py2.py3-none-any.whl (41 kB)\n",
            "\u001b[K     |████████████████████████████████| 41 kB 543 kB/s \n",
            "\u001b[?25hRequirement already satisfied: setuptools in /usr/local/lib/python3.7/dist-packages (from rdflib->torch-geometric) (57.4.0)\n",
            "Requirement already satisfied: chardet<4,>=3.0.2 in /usr/local/lib/python3.7/dist-packages (from requests->torch-geometric) (3.0.4)\n",
            "Requirement already satisfied: urllib3!=1.25.0,!=1.25.1,<1.26,>=1.21.1 in /usr/local/lib/python3.7/dist-packages (from requests->torch-geometric) (1.24.3)\n",
            "Requirement already satisfied: idna<3,>=2.5 in /usr/local/lib/python3.7/dist-packages (from requests->torch-geometric) (2.10)\n",
            "Requirement already satisfied: certifi>=2017.4.17 in /usr/local/lib/python3.7/dist-packages (from requests->torch-geometric) (2021.10.8)\n",
            "Requirement already satisfied: threadpoolctl>=2.0.0 in /usr/local/lib/python3.7/dist-packages (from scikit-learn->torch-geometric) (3.0.0)\n",
            "Requirement already satisfied: joblib>=0.11 in /usr/local/lib/python3.7/dist-packages (from scikit-learn->torch-geometric) (1.1.0)\n",
            "Building wheels for collected packages: torch-geometric\n",
            "  Building wheel for torch-geometric (setup.py) ... \u001b[?25l\u001b[?25hdone\n",
            "  Created wheel for torch-geometric: filename=torch_geometric-2.0.2-py3-none-any.whl size=535570 sha256=29e8a4583da44ecee6d8e15c08225f2cd8dbd8c479498ffaf4d13ba22b1b9c27\n",
            "  Stored in directory: /root/.cache/pip/wheels/3f/08/13/2321517088bb2e95bfd0e45033bb9c923189e5b2078e0be4ef\n",
            "Successfully built torch-geometric\n",
            "Installing collected packages: isodate, yacs, rdflib, torch-geometric\n",
            "Successfully installed isodate-0.6.1 rdflib-6.0.2 torch-geometric-2.0.2 yacs-0.1.8\n"
          ]
        }
      ]
    },
    {
      "cell_type": "code",
      "execution_count": null,
      "metadata": {
        "id": "Eotb-M7RyvfH",
        "colab": {
          "base_uri": "https://localhost:8080/"
        },
        "outputId": "b7fd0550-6376-464b-e63a-d212259b10f4"
      },
      "outputs": [
        {
          "output_type": "stream",
          "name": "stdout",
          "text": [
            "/content\n",
            "Cloning into 'RAGA'...\n",
            "remote: Enumerating objects: 26, done.\u001b[K\n",
            "remote: Counting objects: 100% (26/26), done.\u001b[K\n",
            "remote: Compressing objects: 100% (23/23), done.\u001b[K\n",
            "remote: Total 26 (delta 10), reused 9 (delta 2), pack-reused 0\u001b[K\n",
            "Unpacking objects: 100% (26/26), done.\n"
          ]
        }
      ],
      "source": [
        "%cd '/content'\n",
        "!git clone https://github.com/zhurboo/RAGA"
      ]
    },
    {
      "cell_type": "code",
      "source": [
        "download_file_from_google_drive('1uJ2omzIs0NCtJsGQsyFCBHCXUhoK1mkO','/content/RAGA/data.tar.gz')"
      ],
      "metadata": {
        "id": "6aw346iWS4CL"
      },
      "execution_count": null,
      "outputs": []
    },
    {
      "cell_type": "code",
      "source": [
        "%cd '/content/RAGA'\n",
        "!tar -xf data.tar.gz"
      ],
      "metadata": {
        "id": "Qh-_IAUFTOzV",
        "outputId": "aa6da7be-03a7-49de-a53d-fbb02bff94af",
        "colab": {
          "base_uri": "https://localhost:8080/"
        }
      },
      "execution_count": null,
      "outputs": [
        {
          "output_type": "stream",
          "name": "stdout",
          "text": [
            "/content/RAGA\n"
          ]
        }
      ]
    },
    {
      "cell_type": "code",
      "source": [
        ""
      ],
      "metadata": {
        "id": "J3tSRl5IW38h"
      },
      "execution_count": null,
      "outputs": []
    },
    {
      "cell_type": "code",
      "source": [
        "\n",
        "%%writefi!le setup.sh\n",
        "\n",
        "git clone https://github.com/NVIDIA/apex\n",
        "pip install -v --no-cache-dir --global-option=\"--cpp_ext\" --global-option=\"--cuda_ext\" ./apex"
      ],
      "metadata": {
        "id": "tIshNjf2OnKv",
        "outputId": "95441fa7-ae6e-4877-bb17-5c03191430bb",
        "colab": {
          "base_uri": "https://localhost:8080/"
        }
      },
      "execution_count": null,
      "outputs": [
        {
          "output_type": "stream",
          "name": "stdout",
          "text": [
            "Writing setup.sh\n"
          ]
        }
      ]
    },
    {
      "cell_type": "code",
      "source": [
        "!sh setup.sh\n"
      ],
      "metadata": {
        "id": "IVdwj8EhXAkv"
      },
      "execution_count": null,
      "outputs": []
    },
    {
      "cell_type": "code",
      "source": [
        "%cd '/content/RAGA'\n",
        "!python train.py"
      ],
      "metadata": {
        "id": "wFL8jtmeOakt"
      },
      "execution_count": null,
      "outputs": []
    },
    {
      "cell_type": "code",
      "execution_count": 1,
      "metadata": {
        "colab": {
          "base_uri": "https://localhost:8080/"
        },
        "id": "WjActARX7sCY",
        "outputId": "e376363d-e11d-495e-ba1e-a9164f3dab3f"
      },
      "outputs": [
        {
          "output_type": "stream",
          "name": "stdout",
          "text": [
            "/content\n",
            "Cloning into 'GCN-Align'...\n",
            "remote: Enumerating objects: 53, done.\u001b[K\n",
            "remote: Total 53 (delta 0), reused 0 (delta 0), pack-reused 53\u001b[K\n",
            "Unpacking objects: 100% (53/53), done.\n"
          ]
        }
      ],
      "source": [
        "%cd '/content'\n",
        "!git clone https://github.com/1049451037/GCN-Align"
      ]
    },
    {
      "cell_type": "code",
      "execution_count": 2,
      "metadata": {
        "colab": {
          "base_uri": "https://localhost:8080/"
        },
        "id": "0G6_LeBQ3PFb",
        "outputId": "afc3a17d-b04b-435d-e070-2d148527d9ff"
      },
      "outputs": [
        {
          "output_type": "stream",
          "name": "stdout",
          "text": [
            "/content\n",
            "Cloning into 'RREA'...\n",
            "remote: Enumerating objects: 32, done.\u001b[K\n",
            "remote: Counting objects: 100% (32/32), done.\u001b[K\n",
            "remote: Compressing objects: 100% (30/30), done.\u001b[K\n",
            "remote: Total 32 (delta 4), reused 0 (delta 0), pack-reused 0\u001b[K\n",
            "Unpacking objects: 100% (32/32), done.\n"
          ]
        }
      ],
      "source": [
        "%cd '/content'\n",
        "!git clone https://github.com/MaoXinn/RREA"
      ]
    },
    {
      "cell_type": "code",
      "execution_count": 3,
      "metadata": {
        "id": "ZB2YBVkb4pYB"
      },
      "outputs": [],
      "source": [
        "import warnings\n",
        "warnings.filterwarnings('ignore')\n",
        "\n",
        "\n",
        "from importlib.machinery import SourceFileLoader\n",
        " \n",
        "layer = SourceFileLoader(\"layer\", \"/content/RREA/CIKM/layer.py\").load_module()\n",
        "utils = SourceFileLoader(\"utils\", \"/content/RREA/CIKM/utils.py\").load_module()\n",
        "CSLS = SourceFileLoader(\"CSLS\", \"/content/RREA/CIKM/CSLS.py\").load_module()\n",
        "import tensorflow as tf\n",
        "import os\n",
        "import random\n",
        "import keras\n",
        "from tqdm import *\n",
        "import numpy as np\n",
        "from utils import *\n",
        "from CSLS import *\n",
        "import tensorflow as tf\n",
        "import keras.backend as K\n",
        "from keras.layers import *\n",
        "from layer import NR_GraphAttention\n",
        "\n",
        "os.environ[\"CUDA_VISIBLE_DEVICES\"] = \"0\"\n",
        "os.environ[\"TF_CPP_MIN_LOG_LEVEL\"]=\"2\"\n",
        "tf.compat.v1.logging.set_verbosity(tf.compat.v1.logging.ERROR)\n",
        "\n",
        " "
      ]
    },
    {
      "cell_type": "code",
      "execution_count": null,
      "metadata": {
        "colab": {
          "base_uri": "https://localhost:8080/"
        },
        "id": "oYvCCmAe62rP",
        "outputId": "af79f1a9-eb47-468b-e551-fef48821b9de"
      },
      "outputs": [
        {
          "output_type": "stream",
          "name": "stdout",
          "text": [
            "38960 3025\n"
          ]
        }
      ],
      "source": [
        "lang = 'zh'\n",
        "entity1,rel1,triples1 = load_triples('/content/GCN-Align/data/%s_en/'%lang + 'triples_1')\n",
        "train_pair_main,dev_pair,adj_matrix,adj_matrix1,adj_matrix2,r_index,r_val,adj_features,rel_features,rel,r_index1,r_val1 = load_data('/content/GCN-Align/data/%s_en/'%lang,train_ratio=0.30)\n",
        "train_pair = train_pair_main\n",
        "adj_matrix = np.stack(adj_matrix.nonzero(),axis = 1)\n",
        "adj_matrix1 = np.stack(adj_matrix1.nonzero(),axis = 1)\n",
        "adj_matrix1 = np.array(adj_matrix2)\n",
        "rel_matrix_in,rel_val_in = np.stack(rel[0].nonzero(),axis = 1),rel[0].data\n",
        "rel_matrix_out,rel_val_out = np.stack(rel[1].nonzero(),axis = 1),rel[1].data\n",
        "rel_matrix,rel_val = np.stack(rel_features.nonzero(),axis = 1),rel_features.data\n",
        "ent_matrix,ent_val = np.stack(adj_features.nonzero(),axis = 1),adj_features.data"
      ]
    },
    {
      "cell_type": "code",
      "source": [
        "print(r_index1[:,0].max(),adj_matrix1.shape,r_val1.__len__())\n",
        "print(r_index[:,0].max(),adj_matrix.shape,r_val.__len__())"
      ],
      "metadata": {
        "colab": {
          "base_uri": "https://localhost:8080/"
        },
        "id": "CGPkuTC4lYS6",
        "outputId": "27b21d6e-a81a-47b8-bee4-1f3e539db52e"
      },
      "execution_count": null,
      "outputs": [
        {
          "output_type": "stream",
          "name": "stdout",
          "text": [
            "331111 (331112, 2) 331112\n",
            "259544 (259545, 2) 331112\n"
          ]
        }
      ]
    },
    {
      "cell_type": "code",
      "source": [
        ""
      ],
      "metadata": {
        "id": "qjqNt7oeBXjK"
      },
      "execution_count": null,
      "outputs": []
    },
    {
      "cell_type": "code",
      "execution_count": null,
      "metadata": {
        "id": "t29mIfJT68i3"
      },
      "outputs": [],
      "source": [
        "layer = SourceFileLoader(\"layer\", \"/content/RREA/CIKM/layer.py\").load_module()\n",
        "\n",
        "from layer import NR_GraphAttention\n",
        "tf.keras.backend.clear_session()\n",
        "\n",
        "node_size = adj_features.shape[0]\n",
        "rel_size = rel_features.shape[1]\n",
        "triple_size = len(adj_matrix)\n",
        "triple_size1 = len(adj_matrix1)\n",
        "batch_size = node_size\n",
        "\n",
        "\n",
        "class TokenEmbedding(keras.layers.Embedding):\n",
        "    \"\"\"Embedding layer with weights returned.\"\"\"\n",
        "\n",
        "    def compute_output_shape(self, input_shape):\n",
        "        return self.input_dim, self.output_dim\n",
        "\n",
        "    def compute_mask(self, inputs, mask=None):\n",
        "        return None\n",
        "\n",
        "    def call(self, inputs):\n",
        "        return self.embeddings\n",
        "\n",
        "\n",
        "def get_embedding():\n",
        "    inputs = [adj_matrix,adj_matrix1, r_index, r_val,r_index1, r_val1, rel_matrix, ent_matrix]\n",
        "    inputs = [np.expand_dims(item, axis=0) for item in inputs]\n",
        "    return get_emb.predict_on_batch(inputs)\n",
        "\n",
        "\n",
        "def test(wrank=None):\n",
        "    vec = get_embedding()\n",
        "    return get_hits(vec, dev_pair, wrank=wrank)\n",
        "\n",
        "\n",
        "def CSLS_test(thread_number=16, csls=10, accurate=True):\n",
        "    vec = get_embedding()\n",
        "    Lvec = np.array([vec[e1] for e1, e2 in dev_pair])\n",
        "    Rvec = np.array([vec[e2] for e1, e2 in dev_pair])\n",
        "    Lvec = Lvec / np.linalg.norm(Lvec, axis=-1, keepdims=True)\n",
        "    Rvec = Rvec / np.linalg.norm(Rvec, axis=-1, keepdims=True)\n",
        "    eval_alignment_by_sim_mat(Lvec, Rvec, [1, 5, 10], thread_number, csls=csls, accurate=accurate)\n",
        "    return None\n",
        "\n",
        "\n",
        "def get_train_set(batch_size=batch_size):\n",
        "    negative_ratio = batch_size // len(train_pair) + 1\n",
        "    train_set = np.reshape(np.repeat(np.expand_dims(train_pair, axis=0), axis=0, repeats=negative_ratio),\n",
        "                           newshape=(-1, 2))\n",
        "    np.random.shuffle(train_set);\n",
        "    train_set = train_set[:batch_size]\n",
        "    train_set = np.concatenate([train_set, np.random.randint(0, node_size, train_set.shape)], axis=-1)\n",
        "    return train_set\n",
        "\n",
        "\n",
        "def get_trgat(node_size, rel_size, node_hidden, rel_hidden, triple_size, n_attn_heads=2, dropout_rate=0, gamma=3,\n",
        "              lr=0.005, depth=2):\n",
        "    adj_input = Input(shape=(None, 2))\n",
        "    adj_input1 = Input(shape=(None, 2))\n",
        "    index_input = Input(shape=(None, 2), dtype='int64')\n",
        "    val_input = Input(shape=(None,))\n",
        "    index_input1 = Input(shape=(None, 2), dtype='int64')\n",
        "    val_input1 = Input(shape=(None,))\n",
        "    rel_adj = Input(shape=(None, 2))\n",
        "    ent_adj = Input(shape=(None, 2))\n",
        "\n",
        "    # emb = TokenEmbedding(node_size, node_hidden, trainable=True)(val_input)\n",
        "    # ent_emb = emb\n",
        "    # rel_emb = emb[node_size-rel_size:,:]\n",
        "\n",
        "    ent_emb = TokenEmbedding(node_size, node_hidden, trainable=True)(val_input)\n",
        "    rel_emb = TokenEmbedding(rel_size, node_hidden, trainable=True)(val_input)\n",
        "\n",
        "    def avg(tensor, size):\n",
        "        adj = K.cast(K.squeeze(tensor[0], axis=0), dtype=\"int64\")\n",
        "        adj = tf.SparseTensor(indices=adj, values=tf.ones_like(adj[:, 0], dtype='float32'),\n",
        "                              dense_shape=(node_size, size))\n",
        "        adj = tf.compat.v1.sparse_softmax(adj)\n",
        "        return tf.compat.v1.sparse_tensor_dense_matmul(adj, tensor[1])\n",
        "\n",
        "\n",
        "    ent_feature = Lambda(avg, arguments={'size': node_size})([ent_adj, ent_emb])\n",
        "    rel_feature = Lambda(avg, arguments={'size': rel_size})([rel_adj, rel_emb])\n",
        "\n",
        "    opt = [ent_feature,rel_emb, adj_input1, index_input1, val_input1]\n",
        "    opt1 = [rel_feature,rel_emb, adj_input1, index_input1, val_input1]\n",
        "\n",
        "    opt3 = [ent_feature,ent_emb, adj_input1, index_input1, val_input1]\n",
        "    \n",
        "    opt4 = [rel_feature,ent_emb, adj_input1, index_input1, val_input1]\n",
        "\n",
        "    encoder = NR_GraphAttention(node_size, activation=\"relu\",\n",
        "                                rel_size=rel_size,\n",
        "                                depth=depth,\n",
        "                                attn_heads=n_attn_heads,\n",
        "                                triple_size=triple_size,\n",
        "                                attn_heads_reduction='average',\n",
        "                                dropout_rate=dropout_rate)\n",
        "    \n",
        "    # encoder2 = NR_GraphAttention(node_size, activation=\"relu\",\n",
        "    #                             rel_size=rel_size,\n",
        "    #                             depth=depth,\n",
        "    #                             attn_heads=n_attn_heads,\n",
        "    #                             triple_size=triple_size,\n",
        "    #                             attn_heads_reduction='average',\n",
        "    #                             dropout_rate=dropout_rate,rev = True)\n",
        "\n",
        "    encoder1 = NR_GraphAttention(node_size, activation=\"relu\",\n",
        "                                rel_size=rel_size,\n",
        "                                depth=depth,\n",
        "                                attn_heads=n_attn_heads,\n",
        "                                triple_size=triple_size1,\n",
        "                                attn_heads_reduction='average',\n",
        "                                dropout_rate=dropout_rate)\n",
        "\n",
        "    out_feature = Concatenate(-1)([encoder1(opt),encoder1(opt1)])\n",
        "    out_feature = Dropout(dropout_rate)(out_feature)\n",
        "\n",
        "    alignment_input = Input(shape=(None, 4))\n",
        "    find = Lambda(lambda x: K.gather(reference=x[0], indices=K.cast(K.squeeze(x[1], axis=0), 'int32')))(\n",
        "        [out_feature, alignment_input])\n",
        "\n",
        "    def align_loss(tensor):\n",
        "        def _cosine(x):\n",
        "            dot1 = K.batch_dot(x[0], x[1], axes=1)\n",
        "            dot2 = K.batch_dot(x[0], x[0], axes=1)\n",
        "            dot3 = K.batch_dot(x[1], x[1], axes=1)\n",
        "            max_ = K.maximum(K.sqrt(dot2 * dot3), K.epsilon())\n",
        "            return dot1 / max_\n",
        "\n",
        "        def l1(ll, rr):\n",
        "            return K.sum(K.abs(ll - rr), axis=-1, keepdims=True)\n",
        "\n",
        "        def l2(ll, rr):\n",
        "            return K.sum(K.square(ll - rr), axis=-1, keepdims=True)\n",
        "\n",
        "        l, r, fl, fr = [tensor[:, 0, :], tensor[:, 1, :], tensor[:, 2, :], tensor[:, 3, :]]\n",
        "        loss = K.relu(gamma + l1(l, r) - l1(l, fr)) + K.relu(gamma + l1(l, r) - l1(fl, r))\n",
        "        return tf.compat.v1.reduce_sum(loss, keep_dims=True) / (batch_size)\n",
        "\n",
        "    loss = Lambda(align_loss)(find)\n",
        "\n",
        "    inputs = [adj_input,adj_input1, index_input, val_input,index_input1, val_input1, rel_adj, ent_adj]\n",
        "\n",
        "    train_model = keras.Model(inputs=inputs + [alignment_input], outputs=loss)\n",
        "    train_model.compile(loss=lambda y_true,y_pred: y_pred,optimizer=tf.keras.optimizers.RMSprop(lr=lr))\n",
        "\n",
        "    feature_model = keras.Model(inputs=inputs, outputs=out_feature)\n",
        "    return train_model, feature_model\n"
      ]
    },
    {
      "cell_type": "code",
      "execution_count": null,
      "metadata": {
        "colab": {
          "base_uri": "https://localhost:8080/"
        },
        "id": "Nwoj1iWf69WX",
        "outputId": "839ebacf-a298-42e7-8fe5-172d55680367"
      },
      "outputs": [
        {
          "output_type": "stream",
          "name": "stdout",
          "text": [
            "Model: \"model\"\n",
            "__________________________________________________________________________________________________\n",
            " Layer (type)                   Output Shape         Param #     Connected to                     \n",
            "==================================================================================================\n",
            " input_4 (InputLayer)           [(None, None)]       0           []                               \n",
            "                                                                                                  \n",
            " input_8 (InputLayer)           [(None, None, 2)]    0           []                               \n",
            "                                                                                                  \n",
            " token_embedding (TokenEmbeddin  (38960, 100)        3896000     ['input_4[0][0]']                \n",
            " g)                                                                                               \n",
            "                                                                                                  \n",
            " token_embedding_1 (TokenEmbedd  (6050, 100)         605000      ['input_4[0][0]']                \n",
            " ing)                                                                                             \n",
            "                                                                                                  \n",
            " input_7 (InputLayer)           [(None, None, 2)]    0           []                               \n",
            "                                                                                                  \n",
            " lambda (Lambda)                (38960, 100)         0           ['input_8[0][0]',                \n",
            "                                                                  'token_embedding[0][0]']        \n",
            "                                                                                                  \n",
            " input_2 (InputLayer)           [(None, None, 2)]    0           []                               \n",
            "                                                                                                  \n",
            " input_5 (InputLayer)           [(None, None, 2)]    0           []                               \n",
            "                                                                                                  \n",
            " input_6 (InputLayer)           [(None, None)]       0           []                               \n",
            "                                                                                                  \n",
            " lambda_1 (Lambda)              (38960, 100)         0           ['input_7[0][0]',                \n",
            "                                                                  'token_embedding_1[0][0]']      \n",
            "                                                                                                  \n",
            " nr__graph_attention_1 (NR_Grap  (38960, 300)        3650600     ['lambda[0][0]',                 \n",
            " hAttention)                                                      'token_embedding_1[0][0]',      \n",
            "                                                                  'input_2[0][0]',                \n",
            "                                                                  'input_5[0][0]',                \n",
            "                                                                  'input_6[0][0]',                \n",
            "                                                                  'lambda_1[0][0]',               \n",
            "                                                                  'token_embedding_1[0][0]',      \n",
            "                                                                  'input_2[0][0]',                \n",
            "                                                                  'input_5[0][0]',                \n",
            "                                                                  'input_6[0][0]']                \n",
            "                                                                                                  \n",
            " concatenate (Concatenate)      (38960, 600)         0           ['nr__graph_attention_1[0][0]',  \n",
            "                                                                  'nr__graph_attention_1[1][0]']  \n",
            "                                                                                                  \n",
            " dropout (Dropout)              (38960, 600)         0           ['concatenate[0][0]']            \n",
            "                                                                                                  \n",
            " input_9 (InputLayer)           [(None, None, 4)]    0           []                               \n",
            "                                                                                                  \n",
            " lambda_2 (Lambda)              (None, 4, 600)       0           ['dropout[0][0]',                \n",
            "                                                                  'input_9[0][0]']                \n",
            "                                                                                                  \n",
            " input_1 (InputLayer)           [(None, None, 2)]    0           []                               \n",
            "                                                                                                  \n",
            " input_3 (InputLayer)           [(None, None, 2)]    0           []                               \n",
            "                                                                                                  \n",
            " lambda_3 (Lambda)              (1, 1)               0           ['lambda_2[0][0]']               \n",
            "                                                                                                  \n",
            "==================================================================================================\n",
            "Total params: 8,151,600\n",
            "Trainable params: 8,151,600\n",
            "Non-trainable params: 0\n",
            "__________________________________________________________________________________________________\n"
          ]
        }
      ],
      "source": [
        "model,get_emb = get_trgat(dropout_rate=0.30,node_size=node_size,rel_size=rel_size,n_attn_heads = 1,depth=2,gamma =3,node_hidden=100,rel_hidden = 100,triple_size = triple_size)\n",
        "model.summary(); initial_weights = model.get_weights()"
      ]
    },
    {
      "cell_type": "code",
      "execution_count": null,
      "metadata": {
        "colab": {
          "base_uri": "https://localhost:8080/",
          "height": 432
        },
        "id": "lMdo-YeF7Hp_",
        "outputId": "563166b0-0152-47bb-afe7-4fb107009d54"
      },
      "outputs": [
        {
          "output_type": "stream",
          "name": "stdout",
          "text": [
            "iteration 0 start.\n"
          ]
        },
        {
          "output_type": "stream",
          "name": "stderr",
          "text": [
            " 15%|█▌        | 15/100 [00:25<02:22,  1.68s/it]\n"
          ]
        },
        {
          "output_type": "error",
          "ename": "KeyboardInterrupt",
          "evalue": "ignored",
          "traceback": [
            "\u001b[0;31m---------------------------------------------------------------------------\u001b[0m",
            "\u001b[0;31mKeyboardInterrupt\u001b[0m                         Traceback (most recent call last)",
            "\u001b[0;32m<ipython-input-24-668855abacb8>\u001b[0m in \u001b[0;36m<module>\u001b[0;34m()\u001b[0m\n\u001b[1;32m     16\u001b[0m         \u001b[0minputs\u001b[0m \u001b[0;34m=\u001b[0m \u001b[0;34m[\u001b[0m\u001b[0madj_matrix\u001b[0m\u001b[0;34m,\u001b[0m\u001b[0madj_matrix1\u001b[0m\u001b[0;34m,\u001b[0m\u001b[0mr_index\u001b[0m\u001b[0;34m,\u001b[0m\u001b[0mr_val\u001b[0m\u001b[0;34m,\u001b[0m\u001b[0mr_index1\u001b[0m\u001b[0;34m,\u001b[0m\u001b[0mr_val1\u001b[0m\u001b[0;34m,\u001b[0m\u001b[0mrel_matrix\u001b[0m\u001b[0;34m,\u001b[0m\u001b[0ment_matrix\u001b[0m\u001b[0;34m,\u001b[0m\u001b[0mtrain_set\u001b[0m\u001b[0;34m]\u001b[0m\u001b[0;34m\u001b[0m\u001b[0;34m\u001b[0m\u001b[0m\n\u001b[1;32m     17\u001b[0m         \u001b[0minputs\u001b[0m \u001b[0;34m=\u001b[0m \u001b[0;34m[\u001b[0m\u001b[0mnp\u001b[0m\u001b[0;34m.\u001b[0m\u001b[0mexpand_dims\u001b[0m\u001b[0;34m(\u001b[0m\u001b[0mitem\u001b[0m\u001b[0;34m,\u001b[0m\u001b[0maxis\u001b[0m\u001b[0;34m=\u001b[0m\u001b[0;36m0\u001b[0m\u001b[0;34m)\u001b[0m \u001b[0;32mfor\u001b[0m \u001b[0mitem\u001b[0m \u001b[0;32min\u001b[0m \u001b[0minputs\u001b[0m\u001b[0;34m]\u001b[0m\u001b[0;34m\u001b[0m\u001b[0;34m\u001b[0m\u001b[0m\n\u001b[0;32m---> 18\u001b[0;31m         \u001b[0mmodel\u001b[0m\u001b[0;34m.\u001b[0m\u001b[0mtrain_on_batch\u001b[0m\u001b[0;34m(\u001b[0m\u001b[0minputs\u001b[0m\u001b[0;34m,\u001b[0m\u001b[0mnp\u001b[0m\u001b[0;34m.\u001b[0m\u001b[0mzeros\u001b[0m\u001b[0;34m(\u001b[0m\u001b[0;34m(\u001b[0m\u001b[0;36m1\u001b[0m\u001b[0;34m,\u001b[0m\u001b[0;36m1\u001b[0m\u001b[0;34m)\u001b[0m\u001b[0;34m)\u001b[0m\u001b[0;34m)\u001b[0m\u001b[0;34m\u001b[0m\u001b[0;34m\u001b[0m\u001b[0m\n\u001b[0m\u001b[1;32m     19\u001b[0m         \u001b[0;32mif\u001b[0m \u001b[0mi\u001b[0m\u001b[0;34m%\u001b[0m\u001b[0;36m100\u001b[0m \u001b[0;34m==\u001b[0m \u001b[0;36m99\u001b[0m\u001b[0;34m:\u001b[0m\u001b[0;34m\u001b[0m\u001b[0;34m\u001b[0m\u001b[0m\n\u001b[1;32m     20\u001b[0m             \u001b[0mCSLS_test\u001b[0m\u001b[0;34m(\u001b[0m\u001b[0;34m)\u001b[0m\u001b[0;34m\u001b[0m\u001b[0;34m\u001b[0m\u001b[0m\n",
            "\u001b[0;32m/usr/local/lib/python3.7/dist-packages/keras/engine/training.py\u001b[0m in \u001b[0;36mtrain_on_batch\u001b[0;34m(self, x, y, sample_weight, class_weight, reset_metrics, return_dict)\u001b[0m\n\u001b[1;32m   1898\u001b[0m                                                     class_weight)\n\u001b[1;32m   1899\u001b[0m       \u001b[0mself\u001b[0m\u001b[0;34m.\u001b[0m\u001b[0mtrain_function\u001b[0m \u001b[0;34m=\u001b[0m \u001b[0mself\u001b[0m\u001b[0;34m.\u001b[0m\u001b[0mmake_train_function\u001b[0m\u001b[0;34m(\u001b[0m\u001b[0;34m)\u001b[0m\u001b[0;34m\u001b[0m\u001b[0;34m\u001b[0m\u001b[0m\n\u001b[0;32m-> 1900\u001b[0;31m       \u001b[0mlogs\u001b[0m \u001b[0;34m=\u001b[0m \u001b[0mself\u001b[0m\u001b[0;34m.\u001b[0m\u001b[0mtrain_function\u001b[0m\u001b[0;34m(\u001b[0m\u001b[0miterator\u001b[0m\u001b[0;34m)\u001b[0m\u001b[0;34m\u001b[0m\u001b[0;34m\u001b[0m\u001b[0m\n\u001b[0m\u001b[1;32m   1901\u001b[0m \u001b[0;34m\u001b[0m\u001b[0m\n\u001b[1;32m   1902\u001b[0m     \u001b[0mlogs\u001b[0m \u001b[0;34m=\u001b[0m \u001b[0mtf_utils\u001b[0m\u001b[0;34m.\u001b[0m\u001b[0msync_to_numpy_or_python_type\u001b[0m\u001b[0;34m(\u001b[0m\u001b[0mlogs\u001b[0m\u001b[0;34m)\u001b[0m\u001b[0;34m\u001b[0m\u001b[0;34m\u001b[0m\u001b[0m\n",
            "\u001b[0;32m/usr/local/lib/python3.7/dist-packages/tensorflow/python/util/traceback_utils.py\u001b[0m in \u001b[0;36merror_handler\u001b[0;34m(*args, **kwargs)\u001b[0m\n\u001b[1;32m    148\u001b[0m     \u001b[0mfiltered_tb\u001b[0m \u001b[0;34m=\u001b[0m \u001b[0;32mNone\u001b[0m\u001b[0;34m\u001b[0m\u001b[0;34m\u001b[0m\u001b[0m\n\u001b[1;32m    149\u001b[0m     \u001b[0;32mtry\u001b[0m\u001b[0;34m:\u001b[0m\u001b[0;34m\u001b[0m\u001b[0;34m\u001b[0m\u001b[0m\n\u001b[0;32m--> 150\u001b[0;31m       \u001b[0;32mreturn\u001b[0m \u001b[0mfn\u001b[0m\u001b[0;34m(\u001b[0m\u001b[0;34m*\u001b[0m\u001b[0margs\u001b[0m\u001b[0;34m,\u001b[0m \u001b[0;34m**\u001b[0m\u001b[0mkwargs\u001b[0m\u001b[0;34m)\u001b[0m\u001b[0;34m\u001b[0m\u001b[0;34m\u001b[0m\u001b[0m\n\u001b[0m\u001b[1;32m    151\u001b[0m     \u001b[0;32mexcept\u001b[0m \u001b[0mException\u001b[0m \u001b[0;32mas\u001b[0m \u001b[0me\u001b[0m\u001b[0;34m:\u001b[0m\u001b[0;34m\u001b[0m\u001b[0;34m\u001b[0m\u001b[0m\n\u001b[1;32m    152\u001b[0m       \u001b[0mfiltered_tb\u001b[0m \u001b[0;34m=\u001b[0m \u001b[0m_process_traceback_frames\u001b[0m\u001b[0;34m(\u001b[0m\u001b[0me\u001b[0m\u001b[0;34m.\u001b[0m\u001b[0m__traceback__\u001b[0m\u001b[0;34m)\u001b[0m\u001b[0;34m\u001b[0m\u001b[0;34m\u001b[0m\u001b[0m\n",
            "\u001b[0;32m/usr/local/lib/python3.7/dist-packages/tensorflow/python/eager/def_function.py\u001b[0m in \u001b[0;36m__call__\u001b[0;34m(self, *args, **kwds)\u001b[0m\n\u001b[1;32m    908\u001b[0m \u001b[0;34m\u001b[0m\u001b[0m\n\u001b[1;32m    909\u001b[0m       \u001b[0;32mwith\u001b[0m \u001b[0mOptionalXlaContext\u001b[0m\u001b[0;34m(\u001b[0m\u001b[0mself\u001b[0m\u001b[0;34m.\u001b[0m\u001b[0m_jit_compile\u001b[0m\u001b[0;34m)\u001b[0m\u001b[0;34m:\u001b[0m\u001b[0;34m\u001b[0m\u001b[0;34m\u001b[0m\u001b[0m\n\u001b[0;32m--> 910\u001b[0;31m         \u001b[0mresult\u001b[0m \u001b[0;34m=\u001b[0m \u001b[0mself\u001b[0m\u001b[0;34m.\u001b[0m\u001b[0m_call\u001b[0m\u001b[0;34m(\u001b[0m\u001b[0;34m*\u001b[0m\u001b[0margs\u001b[0m\u001b[0;34m,\u001b[0m \u001b[0;34m**\u001b[0m\u001b[0mkwds\u001b[0m\u001b[0;34m)\u001b[0m\u001b[0;34m\u001b[0m\u001b[0;34m\u001b[0m\u001b[0m\n\u001b[0m\u001b[1;32m    911\u001b[0m \u001b[0;34m\u001b[0m\u001b[0m\n\u001b[1;32m    912\u001b[0m       \u001b[0mnew_tracing_count\u001b[0m \u001b[0;34m=\u001b[0m \u001b[0mself\u001b[0m\u001b[0;34m.\u001b[0m\u001b[0mexperimental_get_tracing_count\u001b[0m\u001b[0;34m(\u001b[0m\u001b[0;34m)\u001b[0m\u001b[0;34m\u001b[0m\u001b[0;34m\u001b[0m\u001b[0m\n",
            "\u001b[0;32m/usr/local/lib/python3.7/dist-packages/tensorflow/python/eager/def_function.py\u001b[0m in \u001b[0;36m_call\u001b[0;34m(self, *args, **kwds)\u001b[0m\n\u001b[1;32m    940\u001b[0m       \u001b[0;31m# In this case we have created variables on the first call, so we run the\u001b[0m\u001b[0;34m\u001b[0m\u001b[0;34m\u001b[0m\u001b[0;34m\u001b[0m\u001b[0m\n\u001b[1;32m    941\u001b[0m       \u001b[0;31m# defunned version which is guaranteed to never create variables.\u001b[0m\u001b[0;34m\u001b[0m\u001b[0;34m\u001b[0m\u001b[0;34m\u001b[0m\u001b[0m\n\u001b[0;32m--> 942\u001b[0;31m       \u001b[0;32mreturn\u001b[0m \u001b[0mself\u001b[0m\u001b[0;34m.\u001b[0m\u001b[0m_stateless_fn\u001b[0m\u001b[0;34m(\u001b[0m\u001b[0;34m*\u001b[0m\u001b[0margs\u001b[0m\u001b[0;34m,\u001b[0m \u001b[0;34m**\u001b[0m\u001b[0mkwds\u001b[0m\u001b[0;34m)\u001b[0m  \u001b[0;31m# pylint: disable=not-callable\u001b[0m\u001b[0;34m\u001b[0m\u001b[0;34m\u001b[0m\u001b[0m\n\u001b[0m\u001b[1;32m    943\u001b[0m     \u001b[0;32melif\u001b[0m \u001b[0mself\u001b[0m\u001b[0;34m.\u001b[0m\u001b[0m_stateful_fn\u001b[0m \u001b[0;32mis\u001b[0m \u001b[0;32mnot\u001b[0m \u001b[0;32mNone\u001b[0m\u001b[0;34m:\u001b[0m\u001b[0;34m\u001b[0m\u001b[0;34m\u001b[0m\u001b[0m\n\u001b[1;32m    944\u001b[0m       \u001b[0;31m# Release the lock early so that multiple threads can perform the call\u001b[0m\u001b[0;34m\u001b[0m\u001b[0;34m\u001b[0m\u001b[0;34m\u001b[0m\u001b[0m\n",
            "\u001b[0;32m/usr/local/lib/python3.7/dist-packages/tensorflow/python/eager/function.py\u001b[0m in \u001b[0;36m__call__\u001b[0;34m(self, *args, **kwargs)\u001b[0m\n\u001b[1;32m   3129\u001b[0m        filtered_flat_args) = self._maybe_define_function(args, kwargs)\n\u001b[1;32m   3130\u001b[0m     return graph_function._call_flat(\n\u001b[0;32m-> 3131\u001b[0;31m         filtered_flat_args, captured_inputs=graph_function.captured_inputs)  # pylint: disable=protected-access\n\u001b[0m\u001b[1;32m   3132\u001b[0m \u001b[0;34m\u001b[0m\u001b[0m\n\u001b[1;32m   3133\u001b[0m   \u001b[0;34m@\u001b[0m\u001b[0mproperty\u001b[0m\u001b[0;34m\u001b[0m\u001b[0;34m\u001b[0m\u001b[0m\n",
            "\u001b[0;32m/usr/local/lib/python3.7/dist-packages/tensorflow/python/eager/function.py\u001b[0m in \u001b[0;36m_call_flat\u001b[0;34m(self, args, captured_inputs, cancellation_manager)\u001b[0m\n\u001b[1;32m   1958\u001b[0m       \u001b[0;31m# No tape is watching; skip to running the function.\u001b[0m\u001b[0;34m\u001b[0m\u001b[0;34m\u001b[0m\u001b[0;34m\u001b[0m\u001b[0m\n\u001b[1;32m   1959\u001b[0m       return self._build_call_outputs(self._inference_function.call(\n\u001b[0;32m-> 1960\u001b[0;31m           ctx, args, cancellation_manager=cancellation_manager))\n\u001b[0m\u001b[1;32m   1961\u001b[0m     forward_backward = self._select_forward_and_backward_functions(\n\u001b[1;32m   1962\u001b[0m         \u001b[0margs\u001b[0m\u001b[0;34m,\u001b[0m\u001b[0;34m\u001b[0m\u001b[0;34m\u001b[0m\u001b[0m\n",
            "\u001b[0;32m/usr/local/lib/python3.7/dist-packages/tensorflow/python/eager/function.py\u001b[0m in \u001b[0;36mcall\u001b[0;34m(self, ctx, args, cancellation_manager)\u001b[0m\n\u001b[1;32m    601\u001b[0m               \u001b[0minputs\u001b[0m\u001b[0;34m=\u001b[0m\u001b[0margs\u001b[0m\u001b[0;34m,\u001b[0m\u001b[0;34m\u001b[0m\u001b[0;34m\u001b[0m\u001b[0m\n\u001b[1;32m    602\u001b[0m               \u001b[0mattrs\u001b[0m\u001b[0;34m=\u001b[0m\u001b[0mattrs\u001b[0m\u001b[0;34m,\u001b[0m\u001b[0;34m\u001b[0m\u001b[0;34m\u001b[0m\u001b[0m\n\u001b[0;32m--> 603\u001b[0;31m               ctx=ctx)\n\u001b[0m\u001b[1;32m    604\u001b[0m         \u001b[0;32melse\u001b[0m\u001b[0;34m:\u001b[0m\u001b[0;34m\u001b[0m\u001b[0;34m\u001b[0m\u001b[0m\n\u001b[1;32m    605\u001b[0m           outputs = execute.execute_with_cancellation(\n",
            "\u001b[0;32m/usr/local/lib/python3.7/dist-packages/tensorflow/python/eager/execute.py\u001b[0m in \u001b[0;36mquick_execute\u001b[0;34m(op_name, num_outputs, inputs, attrs, ctx, name)\u001b[0m\n\u001b[1;32m     57\u001b[0m     \u001b[0mctx\u001b[0m\u001b[0;34m.\u001b[0m\u001b[0mensure_initialized\u001b[0m\u001b[0;34m(\u001b[0m\u001b[0;34m)\u001b[0m\u001b[0;34m\u001b[0m\u001b[0;34m\u001b[0m\u001b[0m\n\u001b[1;32m     58\u001b[0m     tensors = pywrap_tfe.TFE_Py_Execute(ctx._handle, device_name, op_name,\n\u001b[0;32m---> 59\u001b[0;31m                                         inputs, attrs, num_outputs)\n\u001b[0m\u001b[1;32m     60\u001b[0m   \u001b[0;32mexcept\u001b[0m \u001b[0mcore\u001b[0m\u001b[0;34m.\u001b[0m\u001b[0m_NotOkStatusException\u001b[0m \u001b[0;32mas\u001b[0m \u001b[0me\u001b[0m\u001b[0;34m:\u001b[0m\u001b[0;34m\u001b[0m\u001b[0;34m\u001b[0m\u001b[0m\n\u001b[1;32m     61\u001b[0m     \u001b[0;32mif\u001b[0m \u001b[0mname\u001b[0m \u001b[0;32mis\u001b[0m \u001b[0;32mnot\u001b[0m \u001b[0;32mNone\u001b[0m\u001b[0;34m:\u001b[0m\u001b[0;34m\u001b[0m\u001b[0;34m\u001b[0m\u001b[0m\n",
            "\u001b[0;31mKeyboardInterrupt\u001b[0m: "
          ]
        }
      ],
      "source": [
        "train_pair = train_pair_main\n",
        "config = tf.compat.v1.ConfigProto()\n",
        "config.gpu_options.allow_growth=True  \n",
        "sess = tf.compat.v1.Session(config=config) \n",
        "\n",
        "rest_set_1 = [e1 for e1, e2 in dev_pair]\n",
        "rest_set_2 = [e2 for e1, e2 in dev_pair]\n",
        "np.random.shuffle(rest_set_1)\n",
        "np.random.shuffle(rest_set_2)\n",
        "\n",
        "epoch = 1200\n",
        "for turn in range(5):\n",
        "    print(\"iteration %d start.\"%turn)\n",
        "    for i in trange(epoch):\n",
        "        train_set = get_train_set()\n",
        "        inputs = [adj_matrix,adj_matrix1,r_index,r_val,r_index1,r_val1,rel_matrix,ent_matrix,train_set]\n",
        "        inputs = [np.expand_dims(item,axis=0) for item in inputs]\n",
        "        model.train_on_batch(inputs,np.zeros((1,1)))\n",
        "        if i%100 == 99:\n",
        "            CSLS_test()\n",
        "\n",
        "    new_pair = []\n",
        "    vec = get_embedding()\n",
        "    Lvec = np.array([vec[e] for e in rest_set_1])\n",
        "    Rvec = np.array([vec[e] for e in rest_set_2])\n",
        "    Lvec = Lvec / np.linalg.norm(Lvec,axis=-1,keepdims=True)\n",
        "    Rvec = Rvec / np.linalg.norm(Rvec,axis=-1,keepdims=True)\n",
        "    A,_ = eval_alignment_by_sim_mat(Lvec, Rvec, [1, 5, 10], 16,10,True,False)\n",
        "    B,_ = eval_alignment_by_sim_mat(Rvec, Lvec,[1, 5, 10], 16,10,True,False)\n",
        "    A = sorted(list(A)); B = sorted(list(B))\n",
        "    for a,b in A:\n",
        "        if  B[b][1] == a:\n",
        "            new_pair.append([rest_set_1[a],rest_set_2[b]])\n",
        "    print(\"generate new semi-pairs: %d.\" % len(new_pair))\n",
        "    \n",
        "    train_pair = np.concatenate([train_pair,np.array(new_pair)],axis = 0)\n",
        "    for e1,e2 in new_pair:\n",
        "        if e1 in rest_set_1:\n",
        "            rest_set_1.remove(e1) \n",
        "        \n",
        "    for e1,e2 in new_pair:\n",
        "        if e2 in rest_set_2:\n",
        "            rest_set_2.remove(e2) "
      ]
    },
    {
      "cell_type": "code",
      "source": [
        "!git clone https://github.com/MaoXinn/MRAEA"
      ],
      "metadata": {
        "id": "WB2inR--Jwyy",
        "outputId": "d0b2d3c5-0dbc-47ca-c546-1b8f77de9b56",
        "colab": {
          "base_uri": "https://localhost:8080/"
        }
      },
      "execution_count": 2,
      "outputs": [
        {
          "output_type": "stream",
          "name": "stdout",
          "text": [
            "Cloning into 'MRAEA'...\n",
            "remote: Enumerating objects: 17, done.\u001b[K\n",
            "remote: Counting objects: 100% (17/17), done.\u001b[K\n",
            "remote: Compressing objects: 100% (16/16), done.\u001b[K\n",
            "remote: Total 17 (delta 4), reused 0 (delta 0), pack-reused 0\u001b[K\n",
            "Unpacking objects: 100% (17/17), done.\n"
          ]
        }
      ]
    },
    {
      "cell_type": "code",
      "source": [
        ""
      ],
      "metadata": {
        "id": "83YKGWHdVOLz"
      },
      "execution_count": null,
      "outputs": []
    },
    {
      "cell_type": "code",
      "execution_count": 34,
      "metadata": {
        "id": "QjQ1F-zW-VvX"
      },
      "outputs": [],
      "source": [
        "import os\n",
        "import tqdm\n",
        "import numpy as np\n",
        "import tensorflow as tf\n",
        "import keras\n",
        "\n",
        "from importlib.machinery import SourceFileLoader\n",
        " \n",
        "utils = SourceFileLoader(\"utils\", \"/content/MRAEA/utils.py\").load_module()\n",
        "model = SourceFileLoader(\"model\", \"/content/MRAEA/model.py\").load_module()\n",
        "\n",
        "from utils import *\n",
        "from model import *\n",
        "\n",
        "\n",
        "\n",
        "os.environ[\"CUDA_VISIBLE_DEVICES\"] = \"0\"\n",
        "os.environ[\"TF_CPP_MIN_LOG_LEVEL\"]=\"2\"\n",
        "tf.compat.v1.logging.set_verbosity(tf.compat.v1.logging.ERROR)\n",
        "\n",
        "config = tf.compat.v1.ConfigProto()\n",
        "config.gpu_options.allow_growth=True  \n",
        "sess = tf.compat.v1.Session(config=config) "
      ]
    },
    {
      "cell_type": "code",
      "source": [
        "lang = 'zh'\n",
        "train_pair,test_pair,adj_matrix,r_index,r_val,adj_features,rel_features = load_data('/content/GCN-Align/data/%s_en/'%lang,train_ratio=0.3)\n",
        "adj_matrix = np.stack(adj_matrix.nonzero(),axis = 1)\n",
        "rel_matrix,rel_val = np.stack(rel_features.nonzero(),axis = 1),rel_features.data\n",
        "ent_matrix,ent_val = np.stack(adj_features.nonzero(),axis = 1),adj_features.data"
      ],
      "metadata": {
        "id": "fWmEVYhMJ0-s",
        "outputId": "2082368b-5f75-4948-8331-a9ff8a7279cd",
        "colab": {
          "base_uri": "https://localhost:8080/"
        }
      },
      "execution_count": 16,
      "outputs": [
        {
          "output_type": "stream",
          "name": "stdout",
          "text": [
            "38960 3025\n"
          ]
        }
      ]
    },
    {
      "cell_type": "code",
      "source": [
        "model = SourceFileLoader(\"model\", \"/content/MRAEA/model.py\").load_module()\n",
        "node_size = adj_features.shape[1]\n",
        "rel_size = rel_features.shape[1]\n",
        "triple_size = len(adj_matrix)\n",
        "batch_size = node_size\n",
        "model,get_emb = get_model(lr=0.001,dropout_rate=0.30,node_size=node_size,rel_size=rel_size,n_attn_heads = 2,\n",
        "                          depth=2,gamma = 3,node_hidden=100,rel_hidden = 100,triple_size = triple_size,batch_size = batch_size)\n",
        "model.summary();"
      ],
      "metadata": {
        "id": "1OROgbA2J2fa",
        "outputId": "45effb85-0cc3-4761-a041-006da6a9004b",
        "colab": {
          "base_uri": "https://localhost:8080/"
        }
      },
      "execution_count": 36,
      "outputs": [
        {
          "output_type": "stream",
          "name": "stdout",
          "text": [
            "Model: \"model_9\"\n",
            "__________________________________________________________________________________________________\n",
            " Layer (type)                   Output Shape         Param #     Connected to                     \n",
            "==================================================================================================\n",
            " input_82 (InputLayer)          [(None, None)]       0           []                               \n",
            "                                                                                                  \n",
            " token_embedding_28 (TokenEmbed  (38960, 100)        3896000     ['input_82[0][0]']               \n",
            " ding)                                                                                            \n",
            "                                                                                                  \n",
            " token_embedding_29 (TokenEmbed  (6050, 100)         605000      ['input_82[0][0]']               \n",
            " ding)                                                                                            \n",
            "                                                                                                  \n",
            " input_80 (InputLayer)          [(None, None, 2)]    0           []                               \n",
            "                                                                                                  \n",
            " input_81 (InputLayer)          [(None, None, 2)]    0           []                               \n",
            "                                                                                                  \n",
            " input_83 (InputLayer)          [(None, None, 2)]    0           []                               \n",
            "                                                                                                  \n",
            " input_84 (InputLayer)          [(None, None, 2)]    0           []                               \n",
            "                                                                                                  \n",
            " tr__graph_attention_14 (TR_Gra  [(38960, 600),      1000        ['token_embedding_28[0][0]',     \n",
            " phAttention)                    (None, 2),                       'token_embedding_29[0][0]',     \n",
            "                                 (None,)]                         'input_80[0][0]',               \n",
            "                                                                  'input_81[0][0]',               \n",
            "                                                                  'input_82[0][0]',               \n",
            "                                                                  'input_83[0][0]',               \n",
            "                                                                  'input_84[0][0]']               \n",
            "                                                                                                  \n",
            " dropout_9 (Dropout)            (38960, 600)         0           ['tr__graph_attention_14[0][0]'] \n",
            "                                                                                                  \n",
            " input_85 (InputLayer)          [(None, None, 4)]    0           []                               \n",
            "                                                                                                  \n",
            " lambda_18 (Lambda)             (None, 4, 600)       0           ['dropout_9[0][0]',              \n",
            "                                                                  'input_85[0][0]']               \n",
            "                                                                                                  \n",
            " lambda_19 (Lambda)             (1, 1)               0           ['lambda_18[0][0]']              \n",
            "                                                                                                  \n",
            "==================================================================================================\n",
            "Total params: 4,502,000\n",
            "Trainable params: 4,502,000\n",
            "Non-trainable params: 0\n",
            "__________________________________________________________________________________________________\n"
          ]
        },
        {
          "output_type": "stream",
          "name": "stderr",
          "text": [
            "/usr/local/lib/python3.7/dist-packages/keras/optimizer_v2/rmsprop.py:130: UserWarning: The `lr` argument is deprecated, use `learning_rate` instead.\n",
            "  super(RMSprop, self).__init__(name, **kwargs)\n"
          ]
        }
      ]
    },
    {
      "cell_type": "code",
      "source": [
        "def get_train_set(batch_size,train_pair):\n",
        "    negative_ratio =  batch_size // len(train_pair) + 1\n",
        "    train_set = np.reshape(np.repeat(np.expand_dims(train_pair,axis=0),axis=0,repeats=negative_ratio),newshape=(-1,2))\n",
        "    np.random.shuffle(train_set); train_set = train_set[:batch_size]\n",
        "    train_set = np.concatenate([train_set,np.random.randint(0,node_size,train_set.shape)],axis = -1)\n",
        "    return train_set\n",
        "\n",
        "def test():\n",
        "    inputs = [adj_matrix,r_index,r_val,rel_matrix,ent_matrix]\n",
        "    inputs = [np.expand_dims(item,axis=0) for item in inputs]\n",
        "    se_vec = get_emb.predict_on_batch(inputs)\n",
        "    get_hits(se_vec,test_pair)\n",
        "    print()\n",
        "    return se_vec\n",
        "\n",
        "for epoch in tqdm.tnrange(5000):\n",
        "    train_set = get_train_set(batch_size,train_pair)\n",
        "    inputs = [adj_matrix,r_index,r_val,rel_matrix,ent_matrix,train_set]\n",
        "    inputs = [np.expand_dims(item,axis=0) for item in inputs]\n",
        "    model.train_on_batch(inputs,np.zeros((1,1)))\n",
        "    if (epoch%1000 == 999):\n",
        "        test()"
      ],
      "metadata": {
        "id": "_EFRVgwIJ3yT"
      },
      "execution_count": null,
      "outputs": []
    },
    {
      "cell_type": "code",
      "source": [
        "!git clone https://github.com/MaoXinn/Dual-AMN"
      ],
      "metadata": {
        "id": "piOgQ6jLVPVa",
        "outputId": "2570e659-3f92-4266-d56c-3cbbef7e3896",
        "colab": {
          "base_uri": "https://localhost:8080/"
        }
      },
      "execution_count": 38,
      "outputs": [
        {
          "output_type": "stream",
          "name": "stdout",
          "text": [
            "Cloning into 'Dual-AMN'...\n",
            "remote: Enumerating objects: 90, done.\u001b[K\n",
            "remote: Counting objects: 100% (90/90), done.\u001b[K\n",
            "remote: Compressing objects: 100% (81/81), done.\u001b[K\n",
            "remote: Total 90 (delta 22), reused 0 (delta 0), pack-reused 0\u001b[K\n",
            "Unpacking objects: 100% (90/90), done.\n"
          ]
        }
      ]
    },
    {
      "cell_type": "code",
      "source": [
        "import warnings\n",
        "warnings.filterwarnings('ignore')\n",
        "\n",
        "from importlib.machinery import SourceFileLoader\n",
        " \n",
        "utils = SourceFileLoader(\"utils\", \"/content/Dual-AMN/utils.py\").load_module()\n",
        "evaluate = SourceFileLoader(\"evaluate\", \"/content/Dual-AMN/evaluate.py\").load_module()\n",
        "layer = SourceFileLoader(\"layer\", \"/content/Dual-AMN/layer.py\").load_module()\n",
        "import os\n",
        "import keras\n",
        "import numpy as np\n",
        "import numba as nb\n",
        "from utils import *\n",
        "from tqdm import *\n",
        "from evaluate import evaluate\n",
        "import tensorflow as tf\n",
        "import keras.backend as K\n",
        "from keras.layers import *\n",
        "from layer import NR_GraphAttention\n",
        "\n",
        "os.environ[\"CUDA_VISIBLE_DEVICES\"] = \"0\"\n",
        "os.environ[\"TF_CPP_MIN_LOG_LEVEL\"]=\"2\"\n",
        "tf.compat.v1.logging.set_verbosity(tf.compat.v1.logging.ERROR)\n",
        "\n",
        "config = tf.compat.v1.ConfigProto()\n",
        "config.gpu_options.allow_growth=True  \n",
        "sess = tf.compat.v1.Session(config=config)  \n",
        "\n",
        "seed = 12306\n",
        "np.random.seed(seed)\n",
        "tf.compat.v1.set_random_seed(seed)"
      ],
      "metadata": {
        "id": "aVawtMnSVT6i"
      },
      "execution_count": 47,
      "outputs": []
    },
    {
      "cell_type": "code",
      "source": [
        "train_pair,dev_pair,adj_matrix,r_index,r_val,adj_features,rel_features = load_data(\"/content/GCN-Align/data/zh_en/\",train_ratio=0.30)\n",
        "adj_matrix = np.stack(adj_matrix.nonzero(),axis = 1)\n",
        "rel_matrix,rel_val = np.stack(rel_features.nonzero(),axis = 1),rel_features.data\n",
        "ent_matrix,ent_val = np.stack(adj_features.nonzero(),axis = 1),adj_features.data"
      ],
      "metadata": {
        "id": "qd3oaK-AWBkF",
        "outputId": "df461066-0819-4312-ab6c-0264f0af0479",
        "colab": {
          "base_uri": "https://localhost:8080/"
        }
      },
      "execution_count": 80,
      "outputs": [
        {
          "output_type": "stream",
          "name": "stdout",
          "text": [
            "38960 3025\n"
          ]
        }
      ]
    },
    {
      "cell_type": "code",
      "source": [
        "node_size = adj_features.shape[0]\n",
        "rel_size = rel_features.shape[1]\n",
        "triple_size = len(adj_matrix)\n",
        "node_hidden = 100\n",
        "rel_hidden = 100\n",
        "batch_size = 1024\n",
        "dropout_rate = 0.3\n",
        "lr = 0.005\n",
        "gamma = 1\n",
        "depth = 2"
      ],
      "metadata": {
        "id": "Cryqiq2FWMFd"
      },
      "execution_count": 81,
      "outputs": []
    },
    {
      "cell_type": "code",
      "source": [
        "layer = SourceFileLoader(\"layer\", \"/content/Dual-AMN/layer.py\").load_module()\n",
        "from layer import NR_GraphAttention\n",
        "def get_embedding(index_a,index_b,vec = None):\n",
        "    if vec is None:\n",
        "        inputs = [adj_matrix,r_index,r_val,rel_matrix,ent_matrix]\n",
        "        inputs = [np.expand_dims(item,axis=0) for item in inputs]\n",
        "        vec = get_emb.predict_on_batch(inputs)\n",
        "    Lvec = np.array([vec[e] for e in index_a])\n",
        "    Rvec = np.array([vec[e] for e in index_b])\n",
        "    Lvec = Lvec / (np.linalg.norm(Lvec,axis=-1,keepdims=True)+1e-5)\n",
        "    Rvec = Rvec / (np.linalg.norm(Rvec,axis=-1,keepdims=True)+1e-5)\n",
        "    return Lvec,Rvec\n",
        "\n",
        "class TokenEmbedding(keras.layers.Embedding):\n",
        "    \"\"\"Embedding layer with weights returned.\"\"\"\n",
        "\n",
        "    def compute_output_shape(self, input_shape):\n",
        "        return self.input_dim, self.output_dim\n",
        "\n",
        "    def compute_mask(self, inputs, mask=None):\n",
        "        return None\n",
        "\n",
        "    def call(self, inputs):\n",
        "        return self.embeddings\n",
        "    \n",
        "def get_trgat(node_hidden,rel_hidden,triple_size=triple_size,node_size=node_size,rel_size=rel_size,dropout_rate = 0,gamma = 3,lr = 0.005,depth = 2):\n",
        "    adj_input = Input(shape=(None,2))\n",
        "    index_input = Input(shape=(None,2),dtype='int64')\n",
        "    val_input = Input(shape = (None,))\n",
        "    rel_adj = Input(shape=(None,2))\n",
        "    ent_adj = Input(shape=(None,2))\n",
        "    \n",
        "    ent_emb = TokenEmbedding(node_size,node_hidden,trainable = True)(val_input) \n",
        "    rel_emb = TokenEmbedding(rel_size,node_hidden,trainable = True)(val_input)\n",
        "    \n",
        "    def avg(tensor,size):\n",
        "        adj = K.cast(K.squeeze(tensor[0],axis = 0),dtype = \"int64\")   \n",
        "        adj = tf.SparseTensor(indices=adj, values=tf.ones_like(adj[:,0],dtype = 'float32'), dense_shape=(node_size,size)) \n",
        "        adj = tf.compat.v1.sparse_softmax(adj) \n",
        "        return tf.compat.v1.sparse_tensor_dense_matmul(adj,tensor[1])\n",
        "    \n",
        "    opt = [rel_emb,adj_input,index_input,val_input]\n",
        "    ent_feature = Lambda(avg,arguments={'size':node_size})([ent_adj,ent_emb])\n",
        "    rel_feature = Lambda(avg,arguments={'size':rel_size})([rel_adj,rel_emb])\n",
        "    \n",
        "    e_encoder = NR_GraphAttention(node_size,activation=\"tanh\",\n",
        "                                       rel_size = rel_size,\n",
        "                                       use_bias = True,\n",
        "                                       depth = depth,\n",
        "                                       triple_size = triple_size)\n",
        "    \n",
        "    r_encoder = NR_GraphAttention(node_size,activation=\"tanh\",\n",
        "                                       rel_size = rel_size,\n",
        "                                       use_bias = True,\n",
        "                                       depth = depth,\n",
        "                                       triple_size = triple_size)\n",
        "    \n",
        "    out_feature = Concatenate(-1)([e_encoder([ent_feature]+opt),r_encoder([rel_feature]+opt)])\n",
        "    out_feature = Dropout(dropout_rate)(out_feature)\n",
        "    \n",
        "    alignment_input = Input(shape=(None,2))\n",
        "    \n",
        "    def align_loss(tensor): \n",
        "        \n",
        "        def squared_dist(x):\n",
        "            A,B = x\n",
        "            row_norms_A = tf.reduce_sum(tf.square(A), axis=1)\n",
        "            row_norms_A = tf.reshape(row_norms_A, [-1, 1])  # Column vector.\n",
        "            row_norms_B = tf.reduce_sum(tf.square(B), axis=1)\n",
        "            row_norms_B = tf.reshape(row_norms_B, [1, -1])  # Row vector.\n",
        "            return row_norms_A + row_norms_B - 2 * tf.matmul(A, B,transpose_b=True) \n",
        "        \n",
        "        emb = tensor[1]\n",
        "        l,r = K.cast(tensor[0][0,:,0],'int32'),K.cast(tensor[0][0,:,1],'int32')\n",
        "        l_emb,r_emb = K.gather(reference=emb,indices=l),K.gather(reference=emb,indices=r)\n",
        "        \n",
        "        pos_dis = K.sum(K.square(l_emb-r_emb),axis=-1,keepdims=True)\n",
        "        r_neg_dis = squared_dist([r_emb,emb])\n",
        "        l_neg_dis = squared_dist([l_emb,emb])\n",
        "        \n",
        "        l_loss = pos_dis - l_neg_dis + gamma\n",
        "        l_loss = l_loss *(1 - K.one_hot(indices=l,num_classes=node_size) - K.one_hot(indices=r,num_classes=node_size))\n",
        "        \n",
        "        r_loss = pos_dis - r_neg_dis + gamma\n",
        "        r_loss = r_loss *(1 - K.one_hot(indices=l,num_classes=node_size) - K.one_hot(indices=r,num_classes=node_size))\n",
        "        \n",
        "        r_loss = (r_loss - K.stop_gradient(K.mean(r_loss,axis=-1,keepdims=True))) / K.stop_gradient(K.std(r_loss,axis=-1,keepdims=True))\n",
        "        l_loss = (l_loss - K.stop_gradient(K.mean(l_loss,axis=-1,keepdims=True))) / K.stop_gradient(K.std(l_loss,axis=-1,keepdims=True))\n",
        "        \n",
        "        lamb,tau = 30, 10\n",
        "        l_loss = K.logsumexp(lamb*l_loss+tau,axis=-1)\n",
        "        r_loss = K.logsumexp(lamb*r_loss+tau,axis=-1)\n",
        "        return K.mean(l_loss + r_loss)\n",
        "\n",
        "    loss = Lambda(align_loss)([alignment_input,out_feature])\n",
        "\n",
        "    inputs = [adj_input,index_input,val_input,rel_adj,ent_adj]\n",
        "    train_model = keras.Model(inputs = inputs + [alignment_input],outputs = loss)\n",
        "    train_model.compile(loss=lambda y_true,y_pred: y_pred,optimizer=tf.keras.optimizers.RMSprop(lr))\n",
        "    \n",
        "    feature_model = keras.Model(inputs = inputs,outputs = out_feature)\n",
        "    \n",
        "    return train_model,feature_model"
      ],
      "metadata": {
        "id": "7GvbgAPbWNNN"
      },
      "execution_count": 82,
      "outputs": []
    },
    {
      "cell_type": "code",
      "source": [
        "model,get_emb = get_trgat(dropout_rate=dropout_rate,\n",
        "                          node_size=node_size,\n",
        "                          rel_size=rel_size,\n",
        "                          depth=depth,\n",
        "                          gamma =gamma,\n",
        "                          node_hidden=node_hidden,\n",
        "                          rel_hidden=rel_hidden,\n",
        "                          lr=lr)\n",
        "\n",
        "evaluater = evaluate(dev_pair)\n",
        "\n",
        "model.summary()"
      ],
      "metadata": {
        "id": "nOEzAJqbWUwt",
        "outputId": "a209cc6e-9c88-41b0-aee1-3a4bcecee0f7",
        "colab": {
          "base_uri": "https://localhost:8080/"
        }
      },
      "execution_count": 83,
      "outputs": [
        {
          "output_type": "stream",
          "name": "stdout",
          "text": [
            "Model: \"model_25\"\n",
            "__________________________________________________________________________________________________\n",
            " Layer (type)                   Output Shape         Param #     Connected to                     \n",
            "==================================================================================================\n",
            " input_179 (InputLayer)         [(None, None)]       0           []                               \n",
            "                                                                                                  \n",
            " input_181 (InputLayer)         [(None, None, 2)]    0           []                               \n",
            "                                                                                                  \n",
            " token_embedding_56 (TokenEmbed  (38960, 100)        3896000     ['input_179[0][0]']              \n",
            " ding)                                                                                            \n",
            "                                                                                                  \n",
            " token_embedding_57 (TokenEmbed  (6050, 100)         605000      ['input_179[0][0]']              \n",
            " ding)                                                                                            \n",
            "                                                                                                  \n",
            " input_180 (InputLayer)         [(None, None, 2)]    0           []                               \n",
            "                                                                                                  \n",
            " lambda_56 (Lambda)             (38960, 100)         0           ['input_181[0][0]',              \n",
            "                                                                  'token_embedding_56[0][0]']     \n",
            "                                                                                                  \n",
            " input_177 (InputLayer)         [(None, None, 2)]    0           []                               \n",
            "                                                                                                  \n",
            " input_178 (InputLayer)         [(None, None, 2)]    0           []                               \n",
            "                                                                                                  \n",
            " lambda_57 (Lambda)             (38960, 100)         0           ['input_180[0][0]',              \n",
            "                                                                  'token_embedding_57[0][0]']     \n",
            "                                                                                                  \n",
            " nr__graph_attention_18 (NR_Gra  (38960, 300)        109700      ['lambda_56[0][0]',              \n",
            " phAttention)                                                     'token_embedding_57[0][0]',     \n",
            "                                                                  'input_177[0][0]',              \n",
            "                                                                  'input_178[0][0]',              \n",
            "                                                                  'input_179[0][0]']              \n",
            "                                                                                                  \n",
            " nr__graph_attention_19 (NR_Gra  (38960, 300)        109700      ['lambda_57[0][0]',              \n",
            " phAttention)                                                     'token_embedding_57[0][0]',     \n",
            "                                                                  'input_177[0][0]',              \n",
            "                                                                  'input_178[0][0]',              \n",
            "                                                                  'input_179[0][0]']              \n",
            "                                                                                                  \n",
            " concatenate_9 (Concatenate)    (38960, 600)         0           ['nr__graph_attention_18[0][0]', \n",
            "                                                                  'nr__graph_attention_19[0][0]'] \n",
            "                                                                                                  \n",
            " input_182 (InputLayer)         [(None, None, 2)]    0           []                               \n",
            "                                                                                                  \n",
            " dropout_14 (Dropout)           (38960, 600)         0           ['concatenate_9[0][0]']          \n",
            "                                                                                                  \n",
            " lambda_58 (Lambda)             ()                   0           ['input_182[0][0]',              \n",
            "                                                                  'dropout_14[0][0]']             \n",
            "                                                                                                  \n",
            "==================================================================================================\n",
            "Total params: 4,720,400\n",
            "Trainable params: 4,720,400\n",
            "Non-trainable params: 0\n",
            "__________________________________________________________________________________________________\n"
          ]
        }
      ]
    },
    {
      "cell_type": "markdown",
      "source": [
        ""
      ],
      "metadata": {
        "id": "rofNjxmJXeZb"
      }
    },
    {
      "cell_type": "code",
      "source": [
        "rest_set_1 = [e1 for e1, e2 in dev_pair]\n",
        "rest_set_2 = [e2 for e1, e2 in dev_pair]\n",
        "np.random.shuffle(rest_set_1)\n",
        "np.random.shuffle(rest_set_2)\n",
        "\n",
        "epoch = 20\n",
        "for turn in range(10):\n",
        "    for i in trange(epoch):\n",
        "        np.random.shuffle(train_pair)\n",
        "        for pairs in [train_pair[i*batch_size:(i+1)*batch_size] for i in range(len(train_pair)//batch_size + 1)]:\n",
        "            if len(pairs) == 0:\n",
        "                continue\n",
        "            inputs = [adj_matrix,r_index,r_val,rel_matrix,ent_matrix,pairs]\n",
        "            inputs = [np.expand_dims(item,axis=0) for item in inputs]\n",
        "            model.train_on_batch(inputs,np.zeros((1,1)))\n",
        "        if i==epoch-1:\n",
        "            Lvec,Rvec = get_embedding(dev_pair[:,0],dev_pair[:,1])\n",
        "            evaluater.test(Lvec,Rvec)\n",
        "        new_pair = []   \n",
        "    Lvec,Rvec = get_embedding(rest_set_1,rest_set_2)\n",
        "    A,B = evaluater.CSLS_cal(Lvec,Rvec,False)\n",
        "    for i,j in enumerate(A):\n",
        "        if  B[j] == i:\n",
        "            new_pair.append([rest_set_1[j],rest_set_2[i]])\n",
        "    \n",
        "    train_pair = np.concatenate([train_pair,np.array(new_pair)],axis = 0)\n",
        "    for e1,e2 in new_pair:\n",
        "        if e1 in rest_set_1:\n",
        "            rest_set_1.remove(e1) \n",
        "        \n",
        "    for e1,e2 in new_pair:\n",
        "        if e2 in rest_set_2:\n",
        "            rest_set_2.remove(e2)\n",
        "    epoch = 5"
      ],
      "metadata": {
        "id": "vaq-VKGCWXWU",
        "outputId": "8be7c473-216c-4209-8149-2620f6dae680",
        "colab": {
          "base_uri": "https://localhost:8080/",
          "height": 1000
        }
      },
      "execution_count": 86,
      "outputs": [
        {
          "output_type": "stream",
          "name": "stderr",
          "text": [
            "100%|██████████| 20/20 [06:46<00:00, 20.31s/it]"
          ]
        },
        {
          "output_type": "stream",
          "name": "stdout",
          "text": [
            "Hits@1:  0.799047619047619   Hits@5:  0.8942857142857142   Hits@10:  0.917047619047619   MRR:  0.8418313419882836\n"
          ]
        },
        {
          "output_type": "stream",
          "name": "stderr",
          "text": [
            "\n",
            "100%|██████████| 5/5 [02:25<00:00, 29.04s/it]"
          ]
        },
        {
          "output_type": "stream",
          "name": "stdout",
          "text": [
            "Hits@1:  0.7991428571428572   Hits@5:  0.8932380952380953   Hits@10:  0.9160952380952381   MRR:  0.8409530627219434\n"
          ]
        },
        {
          "output_type": "stream",
          "name": "stderr",
          "text": [
            "\n",
            "100%|██████████| 5/5 [02:23<00:00, 28.70s/it]"
          ]
        },
        {
          "output_type": "stream",
          "name": "stdout",
          "text": [
            "Hits@1:  0.799047619047619   Hits@5:  0.8923809523809524   Hits@10:  0.9148571428571428   MRR:  0.8406222337612157\n"
          ]
        },
        {
          "output_type": "stream",
          "name": "stderr",
          "text": [
            "\n",
            "100%|██████████| 5/5 [02:21<00:00, 28.36s/it]"
          ]
        },
        {
          "output_type": "stream",
          "name": "stdout",
          "text": [
            "Hits@1:  0.799047619047619   Hits@5:  0.8929523809523809   Hits@10:  0.914952380952381   MRR:  0.8409245932598112\n"
          ]
        },
        {
          "output_type": "stream",
          "name": "stderr",
          "text": [
            "\n"
          ]
        },
        {
          "output_type": "error",
          "ename": "InvalidArgumentError",
          "evalue": "ignored",
          "traceback": [
            "\u001b[0;31m---------------------------------------------------------------------------\u001b[0m",
            "\u001b[0;31mInvalidArgumentError\u001b[0m                      Traceback (most recent call last)",
            "\u001b[0;32m<ipython-input-86-ce5da584027e>\u001b[0m in \u001b[0;36m<module>\u001b[0;34m()\u001b[0m\n\u001b[1;32m     19\u001b[0m         \u001b[0mnew_pair\u001b[0m \u001b[0;34m=\u001b[0m \u001b[0;34m[\u001b[0m\u001b[0;34m]\u001b[0m\u001b[0;34m\u001b[0m\u001b[0;34m\u001b[0m\u001b[0m\n\u001b[1;32m     20\u001b[0m     \u001b[0mLvec\u001b[0m\u001b[0;34m,\u001b[0m\u001b[0mRvec\u001b[0m \u001b[0;34m=\u001b[0m \u001b[0mget_embedding\u001b[0m\u001b[0;34m(\u001b[0m\u001b[0mrest_set_1\u001b[0m\u001b[0;34m,\u001b[0m\u001b[0mrest_set_2\u001b[0m\u001b[0;34m)\u001b[0m\u001b[0;34m\u001b[0m\u001b[0;34m\u001b[0m\u001b[0m\n\u001b[0;32m---> 21\u001b[0;31m     \u001b[0mA\u001b[0m\u001b[0;34m,\u001b[0m\u001b[0mB\u001b[0m \u001b[0;34m=\u001b[0m \u001b[0mevaluater\u001b[0m\u001b[0;34m.\u001b[0m\u001b[0mCSLS_cal\u001b[0m\u001b[0;34m(\u001b[0m\u001b[0mLvec\u001b[0m\u001b[0;34m,\u001b[0m\u001b[0mRvec\u001b[0m\u001b[0;34m,\u001b[0m\u001b[0;32mFalse\u001b[0m\u001b[0;34m)\u001b[0m\u001b[0;34m\u001b[0m\u001b[0;34m\u001b[0m\u001b[0m\n\u001b[0m\u001b[1;32m     22\u001b[0m     \u001b[0;32mfor\u001b[0m \u001b[0mi\u001b[0m\u001b[0;34m,\u001b[0m\u001b[0mj\u001b[0m \u001b[0;32min\u001b[0m \u001b[0menumerate\u001b[0m\u001b[0;34m(\u001b[0m\u001b[0mA\u001b[0m\u001b[0;34m)\u001b[0m\u001b[0;34m:\u001b[0m\u001b[0;34m\u001b[0m\u001b[0;34m\u001b[0m\u001b[0m\n\u001b[1;32m     23\u001b[0m         \u001b[0;32mif\u001b[0m  \u001b[0mB\u001b[0m\u001b[0;34m[\u001b[0m\u001b[0mj\u001b[0m\u001b[0;34m]\u001b[0m \u001b[0;34m==\u001b[0m \u001b[0mi\u001b[0m\u001b[0;34m:\u001b[0m\u001b[0;34m\u001b[0m\u001b[0;34m\u001b[0m\u001b[0m\n",
            "\u001b[0;32m/content/Dual-AMN/evaluate.py\u001b[0m in \u001b[0;36mCSLS_cal\u001b[0;34m(self, Lvec, Rvec, evaluate, batch_size)\u001b[0m\n\u001b[1;32m     69\u001b[0m         \u001b[0mLR\u001b[0m\u001b[0;34m,\u001b[0m\u001b[0mRL\u001b[0m \u001b[0;34m=\u001b[0m \u001b[0;34m[\u001b[0m\u001b[0;34m]\u001b[0m\u001b[0;34m,\u001b[0m\u001b[0;34m[\u001b[0m\u001b[0;34m]\u001b[0m\u001b[0;34m\u001b[0m\u001b[0;34m\u001b[0m\u001b[0m\n\u001b[1;32m     70\u001b[0m         \u001b[0;32mfor\u001b[0m \u001b[0mepoch\u001b[0m \u001b[0;32min\u001b[0m \u001b[0mrange\u001b[0m\u001b[0;34m(\u001b[0m\u001b[0mlen\u001b[0m\u001b[0;34m(\u001b[0m\u001b[0mLvec\u001b[0m\u001b[0;34m)\u001b[0m \u001b[0;34m//\u001b[0m \u001b[0mbatch_size\u001b[0m \u001b[0;34m+\u001b[0m \u001b[0;36m1\u001b[0m\u001b[0;34m)\u001b[0m\u001b[0;34m:\u001b[0m\u001b[0;34m\u001b[0m\u001b[0;34m\u001b[0m\u001b[0m\n\u001b[0;32m---> 71\u001b[0;31m             \u001b[0mLR\u001b[0m\u001b[0;34m.\u001b[0m\u001b[0mappend\u001b[0m\u001b[0;34m(\u001b[0m\u001b[0mself\u001b[0m\u001b[0;34m.\u001b[0m\u001b[0mavg_model\u001b[0m\u001b[0;34m.\u001b[0m\u001b[0mpredict\u001b[0m\u001b[0;34m(\u001b[0m\u001b[0;34m[\u001b[0m\u001b[0mL_sim\u001b[0m\u001b[0;34m[\u001b[0m\u001b[0mepoch\u001b[0m\u001b[0;34m]\u001b[0m\u001b[0;34m]\u001b[0m\u001b[0;34m)\u001b[0m\u001b[0;34m)\u001b[0m\u001b[0;34m\u001b[0m\u001b[0;34m\u001b[0m\u001b[0m\n\u001b[0m\u001b[1;32m     72\u001b[0m             \u001b[0mRL\u001b[0m\u001b[0;34m.\u001b[0m\u001b[0mappend\u001b[0m\u001b[0;34m(\u001b[0m\u001b[0mself\u001b[0m\u001b[0;34m.\u001b[0m\u001b[0mavg_model\u001b[0m\u001b[0;34m.\u001b[0m\u001b[0mpredict\u001b[0m\u001b[0;34m(\u001b[0m\u001b[0;34m[\u001b[0m\u001b[0mR_sim\u001b[0m\u001b[0;34m[\u001b[0m\u001b[0mepoch\u001b[0m\u001b[0;34m]\u001b[0m\u001b[0;34m]\u001b[0m\u001b[0;34m)\u001b[0m\u001b[0;34m)\u001b[0m\u001b[0;34m\u001b[0m\u001b[0;34m\u001b[0m\u001b[0m\n\u001b[1;32m     73\u001b[0m \u001b[0;34m\u001b[0m\u001b[0m\n",
            "\u001b[0;32m/usr/local/lib/python3.7/dist-packages/keras/utils/traceback_utils.py\u001b[0m in \u001b[0;36merror_handler\u001b[0;34m(*args, **kwargs)\u001b[0m\n\u001b[1;32m     65\u001b[0m     \u001b[0;32mexcept\u001b[0m \u001b[0mException\u001b[0m \u001b[0;32mas\u001b[0m \u001b[0me\u001b[0m\u001b[0;34m:\u001b[0m  \u001b[0;31m# pylint: disable=broad-except\u001b[0m\u001b[0;34m\u001b[0m\u001b[0;34m\u001b[0m\u001b[0m\n\u001b[1;32m     66\u001b[0m       \u001b[0mfiltered_tb\u001b[0m \u001b[0;34m=\u001b[0m \u001b[0m_process_traceback_frames\u001b[0m\u001b[0;34m(\u001b[0m\u001b[0me\u001b[0m\u001b[0;34m.\u001b[0m\u001b[0m__traceback__\u001b[0m\u001b[0;34m)\u001b[0m\u001b[0;34m\u001b[0m\u001b[0;34m\u001b[0m\u001b[0m\n\u001b[0;32m---> 67\u001b[0;31m       \u001b[0;32mraise\u001b[0m \u001b[0me\u001b[0m\u001b[0;34m.\u001b[0m\u001b[0mwith_traceback\u001b[0m\u001b[0;34m(\u001b[0m\u001b[0mfiltered_tb\u001b[0m\u001b[0;34m)\u001b[0m \u001b[0;32mfrom\u001b[0m \u001b[0;32mNone\u001b[0m\u001b[0;34m\u001b[0m\u001b[0;34m\u001b[0m\u001b[0m\n\u001b[0m\u001b[1;32m     68\u001b[0m     \u001b[0;32mfinally\u001b[0m\u001b[0;34m:\u001b[0m\u001b[0;34m\u001b[0m\u001b[0;34m\u001b[0m\u001b[0m\n\u001b[1;32m     69\u001b[0m       \u001b[0;32mdel\u001b[0m \u001b[0mfiltered_tb\u001b[0m\u001b[0;34m\u001b[0m\u001b[0;34m\u001b[0m\u001b[0m\n",
            "\u001b[0;32m/usr/local/lib/python3.7/dist-packages/tensorflow/python/eager/execute.py\u001b[0m in \u001b[0;36mquick_execute\u001b[0;34m(op_name, num_outputs, inputs, attrs, ctx, name)\u001b[0m\n\u001b[1;32m     57\u001b[0m     \u001b[0mctx\u001b[0m\u001b[0;34m.\u001b[0m\u001b[0mensure_initialized\u001b[0m\u001b[0;34m(\u001b[0m\u001b[0;34m)\u001b[0m\u001b[0;34m\u001b[0m\u001b[0;34m\u001b[0m\u001b[0m\n\u001b[1;32m     58\u001b[0m     tensors = pywrap_tfe.TFE_Py_Execute(ctx._handle, device_name, op_name,\n\u001b[0;32m---> 59\u001b[0;31m                                         inputs, attrs, num_outputs)\n\u001b[0m\u001b[1;32m     60\u001b[0m   \u001b[0;32mexcept\u001b[0m \u001b[0mcore\u001b[0m\u001b[0;34m.\u001b[0m\u001b[0m_NotOkStatusException\u001b[0m \u001b[0;32mas\u001b[0m \u001b[0me\u001b[0m\u001b[0;34m:\u001b[0m\u001b[0;34m\u001b[0m\u001b[0;34m\u001b[0m\u001b[0m\n\u001b[1;32m     61\u001b[0m     \u001b[0;32mif\u001b[0m \u001b[0mname\u001b[0m \u001b[0;32mis\u001b[0m \u001b[0;32mnot\u001b[0m \u001b[0;32mNone\u001b[0m\u001b[0;34m:\u001b[0m\u001b[0;34m\u001b[0m\u001b[0;34m\u001b[0m\u001b[0m\n",
            "\u001b[0;31mInvalidArgumentError\u001b[0m:  input must have at least k columns. Had 7, needed 10\n\t [[node model_28/lambda_60/TopKV2\n (defined at /content/Dual-AMN/evaluate.py:28)\n]] [Op:__inference_predict_function_78000]\n\nErrors may have originated from an input operation.\nInput Source operations connected to node model_28/lambda_60/TopKV2:\nIn[0] model_28/lambda_60/Squeeze (defined at /usr/local/lib/python3.7/dist-packages/keras/backend.py:3620)\t\nIn[1] model_28/lambda_60/TopKV2/k:\n\nOperation defined at: (most recent call last)\n>>>   File \"/usr/lib/python3.7/runpy.py\", line 193, in _run_module_as_main\n>>>     \"__main__\", mod_spec)\n>>> \n>>>   File \"/usr/lib/python3.7/runpy.py\", line 85, in _run_code\n>>>     exec(code, run_globals)\n>>> \n>>>   File \"/usr/local/lib/python3.7/dist-packages/ipykernel_launcher.py\", line 16, in <module>\n>>>     app.launch_new_instance()\n>>> \n>>>   File \"/usr/local/lib/python3.7/dist-packages/traitlets/config/application.py\", line 846, in launch_instance\n>>>     app.start()\n>>> \n>>>   File \"/usr/local/lib/python3.7/dist-packages/ipykernel/kernelapp.py\", line 499, in start\n>>>     self.io_loop.start()\n>>> \n>>>   File \"/usr/local/lib/python3.7/dist-packages/tornado/platform/asyncio.py\", line 132, in start\n>>>     self.asyncio_loop.run_forever()\n>>> \n>>>   File \"/usr/lib/python3.7/asyncio/base_events.py\", line 541, in run_forever\n>>>     self._run_once()\n>>> \n>>>   File \"/usr/lib/python3.7/asyncio/base_events.py\", line 1786, in _run_once\n>>>     handle._run()\n>>> \n>>>   File \"/usr/lib/python3.7/asyncio/events.py\", line 88, in _run\n>>>     self._context.run(self._callback, *self._args)\n>>> \n>>>   File \"/usr/local/lib/python3.7/dist-packages/tornado/platform/asyncio.py\", line 122, in _handle_events\n>>>     handler_func(fileobj, events)\n>>> \n>>>   File \"/usr/local/lib/python3.7/dist-packages/tornado/stack_context.py\", line 300, in null_wrapper\n>>>     return fn(*args, **kwargs)\n>>> \n>>>   File \"/usr/local/lib/python3.7/dist-packages/zmq/eventloop/zmqstream.py\", line 452, in _handle_events\n>>>     self._handle_recv()\n>>> \n>>>   File \"/usr/local/lib/python3.7/dist-packages/zmq/eventloop/zmqstream.py\", line 481, in _handle_recv\n>>>     self._run_callback(callback, msg)\n>>> \n>>>   File \"/usr/local/lib/python3.7/dist-packages/zmq/eventloop/zmqstream.py\", line 431, in _run_callback\n>>>     callback(*args, **kwargs)\n>>> \n>>>   File \"/usr/local/lib/python3.7/dist-packages/tornado/stack_context.py\", line 300, in null_wrapper\n>>>     return fn(*args, **kwargs)\n>>> \n>>>   File \"/usr/local/lib/python3.7/dist-packages/ipykernel/kernelbase.py\", line 283, in dispatcher\n>>>     return self.dispatch_shell(stream, msg)\n>>> \n>>>   File \"/usr/local/lib/python3.7/dist-packages/ipykernel/kernelbase.py\", line 233, in dispatch_shell\n>>>     handler(stream, idents, msg)\n>>> \n>>>   File \"/usr/local/lib/python3.7/dist-packages/ipykernel/kernelbase.py\", line 399, in execute_request\n>>>     user_expressions, allow_stdin)\n>>> \n>>>   File \"/usr/local/lib/python3.7/dist-packages/ipykernel/ipkernel.py\", line 208, in do_execute\n>>>     res = shell.run_cell(code, store_history=store_history, silent=silent)\n>>> \n>>>   File \"/usr/local/lib/python3.7/dist-packages/ipykernel/zmqshell.py\", line 537, in run_cell\n>>>     return super(ZMQInteractiveShell, self).run_cell(*args, **kwargs)\n>>> \n>>>   File \"/usr/local/lib/python3.7/dist-packages/IPython/core/interactiveshell.py\", line 2718, in run_cell\n>>>     interactivity=interactivity, compiler=compiler, result=result)\n>>> \n>>>   File \"/usr/local/lib/python3.7/dist-packages/IPython/core/interactiveshell.py\", line 2822, in run_ast_nodes\n>>>     if self.run_code(code, result):\n>>> \n>>>   File \"/usr/local/lib/python3.7/dist-packages/IPython/core/interactiveshell.py\", line 2882, in run_code\n>>>     exec(code_obj, self.user_global_ns, self.user_ns)\n>>> \n>>>   File \"<ipython-input-84-217626051d3a>\", line 21, in <module>\n>>>     A,B = evaluater.CSLS_cal(Lvec,Rvec,False)\n>>> \n>>>   File \"/content/Dual-AMN/evaluate.py\", line 71, in CSLS_cal\n>>>     LR.append(self.avg_model.predict([L_sim[epoch]]))\n>>> \n>>>   File \"/usr/local/lib/python3.7/dist-packages/keras/utils/traceback_utils.py\", line 64, in error_handler\n>>>     return fn(*args, **kwargs)\n>>> \n>>>   File \"/usr/local/lib/python3.7/dist-packages/keras/engine/training.py\", line 1789, in predict\n>>>     tmp_batch_outputs = self.predict_function(iterator)\n>>> \n>>>   File \"/usr/local/lib/python3.7/dist-packages/keras/engine/training.py\", line 1621, in predict_function\n>>>     return step_function(self, iterator)\n>>> \n>>>   File \"/usr/local/lib/python3.7/dist-packages/keras/engine/training.py\", line 1611, in step_function\n>>>     outputs = model.distribute_strategy.run(run_step, args=(data,))\n>>> \n>>>   File \"/usr/local/lib/python3.7/dist-packages/keras/engine/training.py\", line 1604, in run_step\n>>>     outputs = model.predict_step(data)\n>>> \n>>>   File \"/usr/local/lib/python3.7/dist-packages/keras/engine/training.py\", line 1572, in predict_step\n>>>     return self(x, training=False)\n>>> \n>>>   File \"/usr/local/lib/python3.7/dist-packages/keras/utils/traceback_utils.py\", line 64, in error_handler\n>>>     return fn(*args, **kwargs)\n>>> \n>>>   File \"/usr/local/lib/python3.7/dist-packages/keras/engine/base_layer.py\", line 1083, in __call__\n>>>     outputs = call_fn(inputs, *args, **kwargs)\n>>> \n>>>   File \"/usr/local/lib/python3.7/dist-packages/keras/utils/traceback_utils.py\", line 92, in error_handler\n>>>     return fn(*args, **kwargs)\n>>> \n>>>   File \"/usr/local/lib/python3.7/dist-packages/keras/engine/functional.py\", line 452, in call\n>>>     inputs, training=training, mask=mask)\n>>> \n>>>   File \"/usr/local/lib/python3.7/dist-packages/keras/engine/functional.py\", line 589, in _run_internal_graph\n>>>     outputs = node.layer(*args, **kwargs)\n>>> \n>>>   File \"/usr/local/lib/python3.7/dist-packages/keras/utils/traceback_utils.py\", line 64, in error_handler\n>>>     return fn(*args, **kwargs)\n>>> \n>>>   File \"/usr/local/lib/python3.7/dist-packages/keras/engine/base_layer.py\", line 1083, in __call__\n>>>     outputs = call_fn(inputs, *args, **kwargs)\n>>> \n>>>   File \"/usr/local/lib/python3.7/dist-packages/keras/utils/traceback_utils.py\", line 92, in error_handler\n>>>     return fn(*args, **kwargs)\n>>> \n>>>   File \"/usr/local/lib/python3.7/dist-packages/keras/layers/core/lambda_layer.py\", line 196, in call\n>>>     result = self.function(inputs, **kwargs)\n>>> \n>>>   File \"/content/Dual-AMN/evaluate.py\", line 28, in <lambda>\n>>>     results = Lambda(lambda x: K.expand_dims(K.sum(tf.nn.top_k(K.squeeze(x,axis=0),k=k)[0],axis=-1) / k,axis=0))(Matrix_A)\n>>> "
          ]
        }
      ]
    }
  ],
  "metadata": {
    "accelerator": "GPU",
    "colab": {
      "collapsed_sections": [],
      "name": "EA.ipynb",
      "provenance": [],
      "include_colab_link": true
    },
    "kernelspec": {
      "display_name": "Python 3",
      "name": "python3"
    },
    "language_info": {
      "name": "python"
    }
  },
  "nbformat": 4,
  "nbformat_minor": 0
}