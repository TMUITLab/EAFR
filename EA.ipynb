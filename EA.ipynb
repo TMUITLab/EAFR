{
  "cells": [
    {
      "cell_type": "markdown",
      "metadata": {
        "id": "view-in-github",
        "colab_type": "text"
      },
      "source": [
        "<a href=\"https://colab.research.google.com/github/TMUITLab/EAFR/blob/master/EA.ipynb\" target=\"_parent\"><img src=\"https://colab.research.google.com/assets/colab-badge.svg\" alt=\"Open In Colab\"/></a>"
      ]
    },
    {
      "cell_type": "code",
      "execution_count": 1,
      "metadata": {
        "colab": {
          "base_uri": "https://localhost:8080/"
        },
        "id": "Mv8gecYb39Zy",
        "outputId": "3f72599d-b35b-4657-d1a7-fd85cb288c4c"
      },
      "outputs": [
        {
          "output_type": "stream",
          "name": "stdout",
          "text": [
            "Cloning into 'EAFR'...\n",
            "remote: Enumerating objects: 1046, done.\u001b[K\n",
            "remote: Counting objects: 100% (1046/1046), done.\u001b[K\n",
            "remote: Compressing objects: 100% (580/580), done.\u001b[K\n",
            "remote: Total 1046 (delta 137), reused 1004 (delta 107), pack-reused 0\u001b[K\n",
            "Receiving objects: 100% (1046/1046), 2.89 MiB | 10.32 MiB/s, done.\n",
            "Resolving deltas: 100% (137/137), done.\n",
            "--2021-12-11 12:07:17--  https://efsgpq-ch3301.files.1drv.com/y4muoyVficiYL6mAlmm7s9m65fhNRboLtxg7FmaufA9QzY2tVhsyi-nXNtgahgN8NhrumVKCHB-d_lfi_5OTy1e5NFe2walhCu2Z1zF3zcp_hammSHuJHk5BeG6YbT7STynmA3SDPP39sNzn9V2Iv2suqlHkIrDRvRuvvM_r6IKuiRmJ35YirCUrY_Rojf5d-oQrxyQTj86Wz70JyiwrAYxfA\n",
            "Resolving efsgpq-ch3301.files.1drv.com (efsgpq-ch3301.files.1drv.com)... 13.107.42.12\n",
            "Connecting to efsgpq-ch3301.files.1drv.com (efsgpq-ch3301.files.1drv.com)|13.107.42.12|:443... connected.\n",
            "HTTP request sent, awaiting response... 200 OK\n",
            "Length: 31678996 (30M) [application/zip]\n",
            "Saving to: ‘data.zip’\n",
            "\n",
            "data.zip            100%[===================>]  30.21M  15.0MB/s    in 2.0s    \n",
            "\n",
            "2021-12-11 12:07:20 (15.0 MB/s) - ‘data.zip’ saved [31678996/31678996]\n",
            "\n",
            "Archive:  /content/data.zip\n",
            "   creating: /content/EAFR/data/\n",
            "   creating: /content/EAFR/data/DWY100K/\n",
            "   creating: /content/EAFR/data/DWY100K/dbp_yg/\n",
            "  inflating: /content/EAFR/data/DWY100K/dbp_yg/.DS_Store  \n",
            "  inflating: /content/EAFR/data/DWY100K/dbp_yg/ent_ids_1  \n",
            "  inflating: /content/EAFR/data/DWY100K/dbp_yg/triples_2  \n",
            "  inflating: /content/EAFR/data/DWY100K/dbp_yg/rel_ids_2  \n",
            "  inflating: /content/EAFR/data/DWY100K/dbp_yg/ill_ent_ids  \n",
            "  inflating: /content/EAFR/data/DWY100K/dbp_yg/triples_1  \n",
            "  inflating: /content/EAFR/data/DWY100K/dbp_yg/ent_ids_2  \n",
            "  inflating: /content/EAFR/data/DWY100K/dbp_yg/rel_ids_1  \n",
            "  inflating: /content/EAFR/data/DWY100K/.DS_Store  \n",
            "   creating: /content/EAFR/data/DWY100K/dbp_wd/\n",
            "  inflating: /content/EAFR/data/DWY100K/dbp_wd/.DS_Store  \n",
            "  inflating: /content/EAFR/data/DWY100K/dbp_wd/ent_ids_1  \n",
            "  inflating: /content/EAFR/data/DWY100K/dbp_wd/triples_2  \n",
            "  inflating: /content/EAFR/data/DWY100K/dbp_wd/rel_ids_2  \n",
            "  inflating: /content/EAFR/data/DWY100K/dbp_wd/ill_ent_ids  \n",
            "  inflating: /content/EAFR/data/DWY100K/dbp_wd/triples_1  \n",
            "  inflating: /content/EAFR/data/DWY100K/dbp_wd/ent_ids_2  \n",
            "  inflating: /content/EAFR/data/DWY100K/dbp_wd/rel_ids_1  \n",
            "   creating: /content/EAFR/data/DBP15K/\n",
            "  inflating: /content/EAFR/data/DBP15K/.DS_Store  \n",
            "   creating: /content/EAFR/data/DBP15K/ja_en/\n",
            "  inflating: /content/EAFR/data/DBP15K/ja_en/.DS_Store  \n",
            "  inflating: /content/EAFR/data/DBP15K/ja_en/ent_ids_1  \n",
            "  inflating: /content/EAFR/data/DBP15K/ja_en/triples_2  \n",
            "  inflating: /content/EAFR/data/DBP15K/ja_en/training_attrs_1  \n",
            "  inflating: /content/EAFR/data/DBP15K/ja_en/rel_ids_2  \n",
            "  inflating: /content/EAFR/data/DBP15K/ja_en/ill_ent_ids  \n",
            "  inflating: /content/EAFR/data/DBP15K/ja_en/triples_1  \n",
            "  inflating: /content/EAFR/data/DBP15K/ja_en/ent_ids_2  \n",
            "  inflating: /content/EAFR/data/DBP15K/ja_en/training_attrs_2  \n",
            "  inflating: /content/EAFR/data/DBP15K/ja_en/rel_ids_1  \n",
            "   creating: /content/EAFR/data/DBP15K/fr_en/\n",
            "  inflating: /content/EAFR/data/DBP15K/fr_en/.DS_Store  \n",
            "  inflating: /content/EAFR/data/DBP15K/fr_en/ent_ids_1  \n",
            "  inflating: /content/EAFR/data/DBP15K/fr_en/triples_2  \n",
            "  inflating: /content/EAFR/data/DBP15K/fr_en/training_attrs_1  \n",
            "  inflating: /content/EAFR/data/DBP15K/fr_en/rel_ids_2  \n",
            "  inflating: /content/EAFR/data/DBP15K/fr_en/ill_ent_ids  \n",
            "  inflating: /content/EAFR/data/DBP15K/fr_en/triples_1  \n",
            "  inflating: /content/EAFR/data/DBP15K/fr_en/ent_ids_2  \n",
            "  inflating: /content/EAFR/data/DBP15K/fr_en/training_attrs_2  \n",
            "  inflating: /content/EAFR/data/DBP15K/fr_en/rel_ids_1  \n",
            "   creating: /content/EAFR/data/DBP15K/zh_en/\n",
            "  inflating: /content/EAFR/data/DBP15K/zh_en/.DS_Store  \n",
            "  inflating: /content/EAFR/data/DBP15K/zh_en/ent_ids_1  \n",
            "  inflating: /content/EAFR/data/DBP15K/zh_en/triples_2  \n",
            "  inflating: /content/EAFR/data/DBP15K/zh_en/training_attrs_1  \n",
            "  inflating: /content/EAFR/data/DBP15K/zh_en/rel_ids_2  \n",
            "  inflating: /content/EAFR/data/DBP15K/zh_en/ill_ent_ids  \n",
            "  inflating: /content/EAFR/data/DBP15K/zh_en/triples_1  \n",
            "  inflating: /content/EAFR/data/DBP15K/zh_en/ent_ids_2  \n",
            "  inflating: /content/EAFR/data/DBP15K/zh_en/training_attrs_2  \n",
            "  inflating: /content/EAFR/data/DBP15K/zh_en/rel_ids_1  \n",
            "Looking in links: https://data.pyg.org/whl/torch-1.10.0+cu111.html\n",
            "Collecting torch-scatter\n",
            "  Downloading https://data.pyg.org/whl/torch-1.10.0%2Bcu113/torch_scatter-2.0.9-cp37-cp37m-linux_x86_64.whl (7.9 MB)\n",
            "\u001b[K     |████████████████████████████████| 7.9 MB 4.2 MB/s \n",
            "\u001b[?25hInstalling collected packages: torch-scatter\n",
            "Successfully installed torch-scatter-2.0.9\n",
            "Looking in links: https://data.pyg.org/whl/torch-1.10.0+cu111.html\n",
            "Collecting torch-sparse\n",
            "  Downloading https://data.pyg.org/whl/torch-1.10.0%2Bcu113/torch_sparse-0.6.12-cp37-cp37m-linux_x86_64.whl (3.5 MB)\n",
            "\u001b[K     |████████████████████████████████| 3.5 MB 4.4 MB/s \n",
            "\u001b[?25hRequirement already satisfied: scipy in /usr/local/lib/python3.7/dist-packages (from torch-sparse) (1.4.1)\n",
            "Requirement already satisfied: numpy>=1.13.3 in /usr/local/lib/python3.7/dist-packages (from scipy->torch-sparse) (1.19.5)\n",
            "Installing collected packages: torch-sparse\n",
            "Successfully installed torch-sparse-0.6.12\n",
            "Collecting torch-geometric\n",
            "  Downloading torch_geometric-2.0.2.tar.gz (325 kB)\n",
            "\u001b[K     |████████████████████████████████| 325 kB 4.1 MB/s \n",
            "\u001b[?25hRequirement already satisfied: numpy in /usr/local/lib/python3.7/dist-packages (from torch-geometric) (1.19.5)\n",
            "Requirement already satisfied: tqdm in /usr/local/lib/python3.7/dist-packages (from torch-geometric) (4.62.3)\n",
            "Requirement already satisfied: scipy in /usr/local/lib/python3.7/dist-packages (from torch-geometric) (1.4.1)\n",
            "Requirement already satisfied: networkx in /usr/local/lib/python3.7/dist-packages (from torch-geometric) (2.6.3)\n",
            "Requirement already satisfied: scikit-learn in /usr/local/lib/python3.7/dist-packages (from torch-geometric) (1.0.1)\n",
            "Requirement already satisfied: requests in /usr/local/lib/python3.7/dist-packages (from torch-geometric) (2.23.0)\n",
            "Requirement already satisfied: pandas in /usr/local/lib/python3.7/dist-packages (from torch-geometric) (1.1.5)\n",
            "Collecting rdflib\n",
            "  Downloading rdflib-6.0.2-py3-none-any.whl (407 kB)\n",
            "\u001b[K     |████████████████████████████████| 407 kB 33.4 MB/s \n",
            "\u001b[?25hRequirement already satisfied: googledrivedownloader in /usr/local/lib/python3.7/dist-packages (from torch-geometric) (0.4)\n",
            "Requirement already satisfied: jinja2 in /usr/local/lib/python3.7/dist-packages (from torch-geometric) (2.11.3)\n",
            "Requirement already satisfied: pyparsing in /usr/local/lib/python3.7/dist-packages (from torch-geometric) (3.0.6)\n",
            "Collecting yacs\n",
            "  Downloading yacs-0.1.8-py3-none-any.whl (14 kB)\n",
            "Requirement already satisfied: PyYAML in /usr/local/lib/python3.7/dist-packages (from torch-geometric) (3.13)\n",
            "Requirement already satisfied: MarkupSafe>=0.23 in /usr/local/lib/python3.7/dist-packages (from jinja2->torch-geometric) (2.0.1)\n",
            "Requirement already satisfied: python-dateutil>=2.7.3 in /usr/local/lib/python3.7/dist-packages (from pandas->torch-geometric) (2.8.2)\n",
            "Requirement already satisfied: pytz>=2017.2 in /usr/local/lib/python3.7/dist-packages (from pandas->torch-geometric) (2018.9)\n",
            "Requirement already satisfied: six>=1.5 in /usr/local/lib/python3.7/dist-packages (from python-dateutil>=2.7.3->pandas->torch-geometric) (1.15.0)\n",
            "Requirement already satisfied: setuptools in /usr/local/lib/python3.7/dist-packages (from rdflib->torch-geometric) (57.4.0)\n",
            "Collecting isodate\n",
            "  Downloading isodate-0.6.0-py2.py3-none-any.whl (45 kB)\n",
            "\u001b[K     |████████████████████████████████| 45 kB 3.6 MB/s \n",
            "\u001b[?25hRequirement already satisfied: urllib3!=1.25.0,!=1.25.1,<1.26,>=1.21.1 in /usr/local/lib/python3.7/dist-packages (from requests->torch-geometric) (1.24.3)\n",
            "Requirement already satisfied: idna<3,>=2.5 in /usr/local/lib/python3.7/dist-packages (from requests->torch-geometric) (2.10)\n",
            "Requirement already satisfied: certifi>=2017.4.17 in /usr/local/lib/python3.7/dist-packages (from requests->torch-geometric) (2021.10.8)\n",
            "Requirement already satisfied: chardet<4,>=3.0.2 in /usr/local/lib/python3.7/dist-packages (from requests->torch-geometric) (3.0.4)\n",
            "Requirement already satisfied: threadpoolctl>=2.0.0 in /usr/local/lib/python3.7/dist-packages (from scikit-learn->torch-geometric) (3.0.0)\n",
            "Requirement already satisfied: joblib>=0.11 in /usr/local/lib/python3.7/dist-packages (from scikit-learn->torch-geometric) (1.1.0)\n",
            "Building wheels for collected packages: torch-geometric\n",
            "  Building wheel for torch-geometric (setup.py) ... \u001b[?25l\u001b[?25hdone\n",
            "  Created wheel for torch-geometric: filename=torch_geometric-2.0.2-py3-none-any.whl size=535570 sha256=ddc242e0170cedf151a86bac20a78a26fc133455997dab84e2aadefcf5496687\n",
            "  Stored in directory: /root/.cache/pip/wheels/3f/08/13/2321517088bb2e95bfd0e45033bb9c923189e5b2078e0be4ef\n",
            "Successfully built torch-geometric\n",
            "Installing collected packages: isodate, yacs, rdflib, torch-geometric\n",
            "Successfully installed isodate-0.6.0 rdflib-6.0.2 torch-geometric-2.0.2 yacs-0.1.8\n",
            "Collecting igraph\n",
            "  Downloading igraph-0.9.8-cp37-cp37m-manylinux_2_12_x86_64.manylinux2010_x86_64.whl (3.2 MB)\n",
            "\u001b[K     |████████████████████████████████| 3.2 MB 4.3 MB/s \n",
            "\u001b[?25hCollecting texttable>=1.6.2\n",
            "  Downloading texttable-1.6.4-py2.py3-none-any.whl (10 kB)\n",
            "Installing collected packages: texttable, igraph\n",
            "Successfully installed igraph-0.9.8 texttable-1.6.4\n",
            "fatal: not a git repository (or any of the parent directories): .git\n"
          ]
        }
      ],
      "source": [
        "!git clone https://github.com/TMUITLab/EAFR\n",
        "!wget -O 'data.zip' 'https://efsgpq-ch3301.files.1drv.com/y4muoyVficiYL6mAlmm7s9m65fhNRboLtxg7FmaufA9QzY2tVhsyi-nXNtgahgN8NhrumVKCHB-d_lfi_5OTy1e5NFe2walhCu2Z1zF3zcp_hammSHuJHk5BeG6YbT7STynmA3SDPP39sNzn9V2Iv2suqlHkIrDRvRuvvM_r6IKuiRmJ35YirCUrY_Rojf5d-oQrxyQTj86Wz70JyiwrAYxfA'\n",
        "!unzip '/content/data.zip' -d '/content/EAFR'\n",
        "\n",
        "!pip install torch-scatter -f https://data.pyg.org/whl/torch-1.10.0+cu111.html\n",
        "!pip install torch-sparse -f https://data.pyg.org/whl/torch-1.10.0+cu111.html\n",
        "!pip install torch-geometric\n",
        "\n",
        "!pip install igraph\n",
        "!git pull https://github.com/TMUITLab/EAFR"
      ]
    },
    {
      "cell_type": "code",
      "execution_count": null,
      "metadata": {
        "colab": {
          "base_uri": "https://localhost:8080/"
        },
        "id": "6NSkNdKdtj1a",
        "outputId": "3a2914a1-768a-4fe6-f18e-cbe85166039c"
      },
      "outputs": [
        {
          "output_type": "stream",
          "name": "stdout",
          "text": [
            "/content/EAFR\n",
            "2021-12-11 12:07:52,252 Namespace(alpha='1', attn_drop=0, beta='0.1', bootstrap=False, check=5, csls=10, cuda=True, data_dir='data/DBP15K/zh_en', decoder='Align', dr=0, early=False, edges_name='default', encoder='gcn-align', epoch=1000, feat_drop=0, heads='1,1', hiddens='100,100,100', k='4', log='tensorboard_log', lr=0.005, margin='1', openea_data=False, pre='', rate=0.3, rerank=False, sampling='R', save='', seed=2020, share=False, start_bp=4, swap=False, test_dist='euclidean', threshold=0.75, train_batch_size=-1, train_dist='euclidean', update=5, val=0.0, wd=0)\n",
            "2021-12-11 12:07:59,996 AlignmentData dataset summary:\n",
            "\tins_num: 38960\n",
            "\trel_num: 6048\n",
            "\ttriple_idx: 331112\n",
            "\trate: 0.3\tval: 0.0\n",
            "\till_idx(train/test/val): 15000 = 4500 + 10500 + 0\n",
            "\tins_G_edges_idx: 298096\n",
            "\t----------------------------- init_time: 7.739s\n",
            "2021-12-11 12:08:09,366 Encoder(name=gcn-align): GCNAlign_GCNConv(100, 100)\n",
            "GCNAlign_GCNConv(100, 100)\n",
            "2021-12-11 12:08:09,366 [Decoder(name=align): Align()]\n",
            "2021-12-11 12:08:09,382 ParameterList(\n",
            "    (0): Parameter containing: [torch.cuda.FloatTensor of size 38960x100 (GPU 0)]\n",
            "    (1): Parameter containing: [torch.cuda.FloatTensor of size 6048x100 (GPU 0)]\n",
            "    (2): Parameter containing: [torch.cuda.FloatTensor of size 100x100 (GPU 0)]\n",
            "    (3): Parameter containing: [torch.cuda.FloatTensor of size 100 (GPU 0)]\n",
            "    (4): Parameter containing: [torch.cuda.FloatTensor of size 100x100 (GPU 0)]\n",
            "    (5): Parameter containing: [torch.cuda.FloatTensor of size 100 (GPU 0)]\n",
            ")\n",
            "2021-12-11 12:08:09,383 Adagrad (\n",
            "Parameter Group 0\n",
            "    eps: 1e-10\n",
            "    initial_accumulator_value: 0\n",
            "    lr: 0.005\n",
            "    lr_decay: 0\n",
            "    weight_decay: 0\n",
            ")\n",
            "2021-12-11 12:08:09,383 Start training...\n",
            "2021-12-11 12:08:10,143 epoch: 0\tloss_align: 0.78441393\ttime: 0s\n",
            "2021-12-11 12:08:10,643 epoch: 1\tloss_align: 0.74987620\ttime: 0s\n",
            "2021-12-11 12:08:11,123 epoch: 2\tloss_align: 0.71116441\ttime: 0s\n",
            "2021-12-11 12:08:11,601 epoch: 3\tloss_align: 0.66681665\ttime: 0s\n",
            "2021-12-11 12:08:12,080 epoch: 4\tloss_align: 0.62103355\ttime: 0s\n",
            "2021-12-11 12:08:12,080 Start validating...\n",
            "2021-12-11 12:08:38,785 l2r: acc of top [1, 3, 5, 10] = [0.0107, 0.02, 0.0245, 0.0326], mr = 4010.084, mrr = 0.019, time = 26.7047 s \n",
            "2021-12-11 12:08:38,785 r2l: acc of top [1, 3, 5, 10] = [0.009, 0.0185, 0.0244, 0.0318], mr = 4077.104, mrr = 0.018, time = 26.7050 s \n",
            "\n",
            "2021-12-11 12:08:39,440 epoch: 5\tloss_align: 0.60995430\ttime: 0s\n",
            "2021-12-11 12:08:39,925 epoch: 6\tloss_align: 0.56712514\ttime: 0s\n",
            "2021-12-11 12:08:40,404 epoch: 7\tloss_align: 0.52957034\ttime: 0s\n",
            "2021-12-11 12:08:40,882 epoch: 8\tloss_align: 0.49541587\ttime: 0s\n",
            "2021-12-11 12:08:41,361 epoch: 9\tloss_align: 0.46440586\ttime: 0s\n",
            "2021-12-11 12:08:41,362 Start validating...\n"
          ]
        }
      ],
      "source": [
        "%cd '/content/EAFR'\n",
        "!CUDA_VISIBLE_DEVICES=0 python3 run.py"
      ]
    },
    {
      "cell_type": "code",
      "execution_count": null,
      "metadata": {
        "id": "5h5lXsCs4mR3"
      },
      "outputs": [],
      "source": [
        "!fuser -v /dev/nvidia*"
      ]
    },
    {
      "cell_type": "code",
      "execution_count": null,
      "metadata": {
        "id": "7Z4iLewwRq_u"
      },
      "outputs": [],
      "source": [
        "!kill -9 1661 "
      ]
    },
    {
      "cell_type": "code",
      "execution_count": null,
      "metadata": {
        "id": "kCsR8niV5tpH"
      },
      "outputs": [],
      "source": [
        "!nvcc --version https://github.com/MaoXinn/RREA"
      ]
    },
    {
      "cell_type": "code",
      "execution_count": null,
      "metadata": {
        "id": "hwZ9zE0n-vpZ"
      },
      "outputs": [],
      "source": [
        "!python -c \"import torch; print(torch.__version__)\"\n",
        "!python -c \"import torch; print(torch.version.cuda)\""
      ]
    },
    {
      "cell_type": "code",
      "execution_count": null,
      "metadata": {
        "id": "tMS6-QWD6Nfv"
      },
      "outputs": [],
      "source": [
        ""
      ]
    },
    {
      "cell_type": "code",
      "execution_count": null,
      "metadata": {
        "id": "EsuGalZ3_dMy"
      },
      "outputs": [],
      "source": [
        ""
      ]
    },
    {
      "cell_type": "code",
      "execution_count": null,
      "metadata": {
        "id": "ijyhjY1p5EnG"
      },
      "outputs": [],
      "source": [
        "!git pull https://github.com/TMUITLab/EAFR"
      ]
    },
    {
      "cell_type": "code",
      "execution_count": null,
      "metadata": {
        "id": "nim_lcF35NhG"
      },
      "outputs": [],
      "source": [
        "%cd '/content/EAFR'\n",
        "!CUDA_VISIBLE_DEVICES=0 python3 run.py"
      ]
    },
    {
      "cell_type": "code",
      "execution_count": null,
      "metadata": {
        "id": "m_DHAfBCiV1r"
      },
      "outputs": [],
      "source": [
        "!git clone 'https://github.com/vinhsuhi/EMGCN'"
      ]
    },
    {
      "cell_type": "code",
      "execution_count": null,
      "metadata": {
        "id": "Uvfm_eLo-hdT"
      },
      "outputs": [],
      "source": [
        "import requests\n",
        "\n",
        "def download_file_from_google_drive(id, destination):\n",
        "    URL = \"https://docs.google.com/uc?export=download\"\n",
        "\n",
        "    session = requests.Session()\n",
        "\n",
        "    response = session.get(URL, params = { 'id' : id }, stream = True)\n",
        "    token = get_confirm_token(response)\n",
        "\n",
        "    if token:\n",
        "        params = { 'id' : id, 'confirm' : token }\n",
        "        response = session.get(URL, params = params, stream = True)\n",
        "\n",
        "    save_response_content(response, destination)    \n",
        "\n",
        "def get_confirm_token(response):\n",
        "    for key, value in response.cookies.items():\n",
        "        if key.startswith('download_warning'):\n",
        "            return value\n",
        "\n",
        "    return None\n",
        "\n",
        "def save_response_content(response, destination):\n",
        "    CHUNK_SIZE = 32768\n",
        "\n",
        "    with open(destination, \"wb\") as f:\n",
        "        for chunk in response.iter_content(CHUNK_SIZE):\n",
        "            if chunk: # filter out keep-alive new chunks\n",
        "                f.write(chunk)"
      ]
    },
    {
      "cell_type": "code",
      "execution_count": null,
      "metadata": {
        "id": "p_lCpFlo95Z0"
      },
      "outputs": [],
      "source": [
        "%cd /content/\n",
        "download_file_from_google_drive('12XL08tB8zplCNhzLE-9qbsFFum7RoV6r','emgcn.rar')\n",
        "!pip install patool\n",
        "import patoolib\n",
        "patoolib.extract_archive(\"/content/emgcn.rar\", outdir=\"/content/EMGCN/\")"
      ]
    },
    {
      "cell_type": "code",
      "execution_count": null,
      "metadata": {
        "id": "IMQwyPaP-TQI"
      },
      "outputs": [],
      "source": [
        "%cd '/content/EMGCN'\n",
        "!python -u network_alignment.py --dataset_name zh_en --source_dataset data/networkx/zh_enDI/zh/graphsage/ --target_dataset data/networkx/zh_enDI/en/graphsage --groundtruth data/networkx/zh_enDI/dictionaries/groundtruth EMGCN --sparse --log "
      ]
    },
    {
      "cell_type": "code",
      "execution_count": null,
      "metadata": {
        "id": "Eotb-M7RyvfH"
      },
      "outputs": [],
      "source": [
        "!nvidia-smi"
      ]
    },
    {
      "cell_type": "code",
      "execution_count": 1,
      "metadata": {
        "colab": {
          "base_uri": "https://localhost:8080/"
        },
        "id": "WjActARX7sCY",
        "outputId": "25a4d2d0-ae4b-42c5-ca56-326b517ae1a6"
      },
      "outputs": [
        {
          "output_type": "stream",
          "name": "stdout",
          "text": [
            "/content\n",
            "Cloning into 'GCN-Align'...\n",
            "remote: Enumerating objects: 53, done.\u001b[K\n",
            "remote: Total 53 (delta 0), reused 0 (delta 0), pack-reused 53\u001b[K\n",
            "Unpacking objects: 100% (53/53), done.\n"
          ]
        }
      ],
      "source": [
        "%cd '/content'\n",
        "!git clone https://github.com/1049451037/GCN-Align"
      ]
    },
    {
      "cell_type": "code",
      "execution_count": 2,
      "metadata": {
        "colab": {
          "base_uri": "https://localhost:8080/"
        },
        "id": "0G6_LeBQ3PFb",
        "outputId": "ad48882e-716c-4ceb-8829-bace2fd52bb1"
      },
      "outputs": [
        {
          "output_type": "stream",
          "name": "stdout",
          "text": [
            "/content\n",
            "Cloning into 'RREA'...\n",
            "remote: Enumerating objects: 32, done.\u001b[K\n",
            "remote: Counting objects: 100% (32/32), done.\u001b[K\n",
            "remote: Compressing objects: 100% (30/30), done.\u001b[K\n",
            "remote: Total 32 (delta 4), reused 0 (delta 0), pack-reused 0\u001b[K\n",
            "Unpacking objects: 100% (32/32), done.\n"
          ]
        }
      ],
      "source": [
        "%cd '/content'\n",
        "!git clone https://github.com/MaoXinn/RREA"
      ]
    },
    {
      "cell_type": "code",
      "execution_count": 43,
      "metadata": {
        "id": "ZB2YBVkb4pYB"
      },
      "outputs": [],
      "source": [
        "import warnings\n",
        "warnings.filterwarnings('ignore')\n",
        "\n",
        "\n",
        "from importlib.machinery import SourceFileLoader\n",
        " \n",
        "layer = SourceFileLoader(\"layer\", \"/content/RREA/CIKM/layer.py\").load_module()\n",
        "utils = SourceFileLoader(\"utils\", \"/content/RREA/CIKM/utils.py\").load_module()\n",
        "CSLS = SourceFileLoader(\"CSLS\", \"/content/RREA/CIKM/CSLS.py\").load_module()\n",
        "import tensorflow as tf\n",
        "import os\n",
        "import random\n",
        "import keras\n",
        "from tqdm import *\n",
        "import numpy as np\n",
        "from utils import *\n",
        "from CSLS import *\n",
        "import tensorflow as tf\n",
        "import keras.backend as K\n",
        "from keras.layers import *\n",
        "from layer import NR_GraphAttention\n",
        "\n",
        "os.environ[\"CUDA_VISIBLE_DEVICES\"] = \"0\"\n",
        "os.environ[\"TF_CPP_MIN_LOG_LEVEL\"]=\"2\"\n",
        "tf.compat.v1.logging.set_verbosity(tf.compat.v1.logging.ERROR)\n",
        "\n",
        " "
      ]
    },
    {
      "cell_type": "code",
      "execution_count": 96,
      "metadata": {
        "colab": {
          "base_uri": "https://localhost:8080/"
        },
        "id": "oYvCCmAe62rP",
        "outputId": "bf50b6ac-b858-4816-9e7a-f7b3727a6c25"
      },
      "outputs": [
        {
          "output_type": "stream",
          "name": "stdout",
          "text": [
            "38960 3025\n"
          ]
        }
      ],
      "source": [
        "lang = 'zh'\n",
        "entity1,rel1,triples1 = load_triples('/content/GCN-Align/data/%s_en/'%lang + 'triples_1')\n",
        "train_pair,dev_pair,adj_matrix,adj_matrix1,r_index,r_val,adj_features,rel_features,rel,r_index1,r_val1 = load_data('/content/GCN-Align/data/%s_en/'%lang,train_ratio=0.30)\n",
        "adj_matrix = np.stack(adj_matrix.nonzero(),axis = 1)\n",
        "adj_matrix1 = np.stack(adj_matrix1.nonzero(),axis = 1)\n",
        "rel_matrix_in,rel_val_in = np.stack(rel[0].nonzero(),axis = 1),rel[0].data\n",
        "rel_matrix_out,rel_val_out = np.stack(rel[1].nonzero(),axis = 1),rel[1].data\n",
        "rel_matrix,rel_val = np.stack(rel_features.nonzero(),axis = 1),rel_features.data\n",
        "ent_matrix,ent_val = np.stack(adj_features.nonzero(),axis = 1),adj_features.data"
      ]
    },
    {
      "cell_type": "code",
      "source": [
        "print(r_index1[:,0].max(),adj_matrix1.shape)\n"
      ],
      "metadata": {
        "colab": {
          "base_uri": "https://localhost:8080/"
        },
        "id": "CGPkuTC4lYS6",
        "outputId": "d3591d5c-b8a7-4203-98bd-b4ef6debafed"
      },
      "execution_count": 97,
      "outputs": [
        {
          "output_type": "stream",
          "name": "stdout",
          "text": [
            "182128 (182129, 2)\n"
          ]
        }
      ]
    },
    {
      "cell_type": "code",
      "execution_count": 135,
      "metadata": {
        "id": "t29mIfJT68i3"
      },
      "outputs": [],
      "source": [
        "layer = SourceFileLoader(\"layer\", \"/content/RREA/CIKM/layer.py\").load_module()\n",
        "\n",
        "from layer import NR_GraphAttention\n",
        "tf.keras.backend.clear_session()\n",
        "\n",
        "node_size = adj_features.shape[0]\n",
        "rel_size = rel_features.shape[1]\n",
        "triple_size = len(adj_matrix)\n",
        "triple_size1 = len(adj_matrix1)\n",
        "batch_size = node_size\n",
        "\n",
        "\n",
        "class TokenEmbedding(keras.layers.Embedding):\n",
        "    \"\"\"Embedding layer with weights returned.\"\"\"\n",
        "\n",
        "    def compute_output_shape(self, input_shape):\n",
        "        return self.input_dim, self.output_dim\n",
        "\n",
        "    def compute_mask(self, inputs, mask=None):\n",
        "        return None\n",
        "\n",
        "    def call(self, inputs):\n",
        "        return self.embeddings\n",
        "\n",
        "\n",
        "def get_embedding():\n",
        "    inputs = [adj_matrix,adj_matrix1, r_index, r_val,r_index1, r_val1, rel_matrix, ent_matrix]\n",
        "    inputs = [np.expand_dims(item, axis=0) for item in inputs]\n",
        "    return get_emb.predict_on_batch(inputs)\n",
        "\n",
        "\n",
        "def test(wrank=None):\n",
        "    vec = get_embedding()\n",
        "    return get_hits(vec, dev_pair, wrank=wrank)\n",
        "\n",
        "\n",
        "def CSLS_test(thread_number=16, csls=10, accurate=True):\n",
        "    vec = get_embedding()\n",
        "    Lvec = np.array([vec[e1] for e1, e2 in dev_pair])\n",
        "    Rvec = np.array([vec[e2] for e1, e2 in dev_pair])\n",
        "    Lvec = Lvec / np.linalg.norm(Lvec, axis=-1, keepdims=True)\n",
        "    Rvec = Rvec / np.linalg.norm(Rvec, axis=-1, keepdims=True)\n",
        "    eval_alignment_by_sim_mat(Lvec, Rvec, [1, 5, 10], thread_number, csls=csls, accurate=accurate)\n",
        "    return None\n",
        "\n",
        "\n",
        "def get_train_set(batch_size=batch_size):\n",
        "    negative_ratio = batch_size // len(train_pair) + 1\n",
        "    train_set = np.reshape(np.repeat(np.expand_dims(train_pair, axis=0), axis=0, repeats=negative_ratio),\n",
        "                           newshape=(-1, 2))\n",
        "    np.random.shuffle(train_set);\n",
        "    train_set = train_set[:batch_size]\n",
        "    train_set = np.concatenate([train_set, np.random.randint(0, node_size, train_set.shape)], axis=-1)\n",
        "    return train_set\n",
        "\n",
        "\n",
        "def get_trgat(node_size, rel_size, node_hidden, rel_hidden, triple_size, n_attn_heads=2, dropout_rate=0, gamma=3,\n",
        "              lr=0.005, depth=2):\n",
        "    adj_input = Input(shape=(None, 2))\n",
        "    adj_input1 = Input(shape=(None, 2))\n",
        "    index_input = Input(shape=(None, 2), dtype='int64')\n",
        "    val_input = Input(shape=(None,))\n",
        "    index_input1 = Input(shape=(None, 2), dtype='int64')\n",
        "    val_input1 = Input(shape=(None,))\n",
        "    rel_adj = Input(shape=(None, 2))\n",
        "    ent_adj = Input(shape=(None, 2))\n",
        "\n",
        "    # emb = TokenEmbedding(node_size, node_hidden, trainable=True)(val_input)\n",
        "    # ent_emb = emb\n",
        "    # rel_emb = emb[node_size-rel_size:,:]\n",
        "\n",
        "    ent_emb = TokenEmbedding(node_size, node_hidden, trainable=True)(val_input)\n",
        "    rel_emb = TokenEmbedding(rel_size, node_hidden, trainable=True)(val_input)\n",
        "\n",
        "    def avg(tensor, size):\n",
        "        adj = K.cast(K.squeeze(tensor[0], axis=0), dtype=\"int64\")\n",
        "        adj = tf.SparseTensor(indices=adj, values=tf.ones_like(adj[:, 0], dtype='float32'),\n",
        "                              dense_shape=(node_size, size))\n",
        "        adj = tf.compat.v1.sparse_softmax(adj)\n",
        "        return tf.compat.v1.sparse_tensor_dense_matmul(adj, tensor[1])\n",
        "\n",
        "\n",
        "    ent_feature = Lambda(avg, arguments={'size': node_size})([ent_adj, ent_emb])\n",
        "    rel_feature = Lambda(avg, arguments={'size': rel_size})([rel_adj, rel_emb])\n",
        "\n",
        "    opt = [ent_feature,rel_emb, adj_input, index_input, val_input]\n",
        "    opt1 = [rel_feature,rel_emb, adj_input, index_input, val_input]\n",
        "\n",
        "    opt3 = [ent_feature,ent_emb, adj_input1, index_input1, val_input1]\n",
        "    \n",
        "    opt4 = [rel_feature,ent_emb, adj_input1, index_input1, val_input1]\n",
        "\n",
        "    encoder = NR_GraphAttention(node_size, activation=\"relu\",\n",
        "                                rel_size=rel_size,\n",
        "                                depth=depth,\n",
        "                                attn_heads=n_attn_heads,\n",
        "                                triple_size=triple_size,\n",
        "                                attn_heads_reduction='average',\n",
        "                                dropout_rate=dropout_rate)\n",
        "    \n",
        "    encoder2 = NR_GraphAttention(node_size, activation=\"relu\",\n",
        "                                rel_size=rel_size,\n",
        "                                depth=depth,\n",
        "                                attn_heads=n_attn_heads,\n",
        "                                triple_size=triple_size,\n",
        "                                attn_heads_reduction='average',\n",
        "                                dropout_rate=dropout_rate,rev = True)\n",
        "\n",
        "    encoder1 = NR_GraphAttention(node_size, activation=\"relu\",\n",
        "                                rel_size=node_size,\n",
        "                                depth=depth,\n",
        "                                attn_heads=n_attn_heads,\n",
        "                                triple_size=triple_size1,\n",
        "                                attn_heads_reduction='average',\n",
        "                                dropout_rate=dropout_rate)\n",
        "\n",
        "    out_feature = Concatenate(-1)([encoder(opt),encoder(opt1)])\n",
        "    out_feature = Dropout(dropout_rate)(out_feature)\n",
        "\n",
        "    alignment_input = Input(shape=(None, 4))\n",
        "    find = Lambda(lambda x: K.gather(reference=x[0], indices=K.cast(K.squeeze(x[1], axis=0), 'int32')))(\n",
        "        [out_feature, alignment_input])\n",
        "\n",
        "    def align_loss(tensor):\n",
        "        def _cosine(x):\n",
        "            dot1 = K.batch_dot(x[0], x[1], axes=1)\n",
        "            dot2 = K.batch_dot(x[0], x[0], axes=1)\n",
        "            dot3 = K.batch_dot(x[1], x[1], axes=1)\n",
        "            max_ = K.maximum(K.sqrt(dot2 * dot3), K.epsilon())\n",
        "            return dot1 / max_\n",
        "\n",
        "        def l1(ll, rr):\n",
        "            return K.sum(K.abs(ll - rr), axis=-1, keepdims=True)\n",
        "\n",
        "        def l2(ll, rr):\n",
        "            return K.sum(K.square(ll - rr), axis=-1, keepdims=True)\n",
        "\n",
        "        l, r, fl, fr = [tensor[:, 0, :], tensor[:, 1, :], tensor[:, 2, :], tensor[:, 3, :]]\n",
        "        loss = K.relu(gamma + l1(l, r) - l1(l, fr)) + K.relu(gamma + l1(l, r) - l1(fl, r))\n",
        "        return tf.compat.v1.reduce_sum(loss, keep_dims=True) / (batch_size)\n",
        "\n",
        "    loss = Lambda(align_loss)(find)\n",
        "\n",
        "    inputs = [adj_input,adj_input1, index_input, val_input,index_input1, val_input1, rel_adj, ent_adj]\n",
        "\n",
        "    train_model = keras.Model(inputs=inputs + [alignment_input], outputs=loss)\n",
        "    train_model.compile(loss=lambda y_true,y_pred: y_pred,optimizer=tf.keras.optimizers.RMSprop(lr=lr))\n",
        "\n",
        "    feature_model = keras.Model(inputs=inputs, outputs=out_feature)\n",
        "    return train_model, feature_model\n"
      ]
    },
    {
      "cell_type": "code",
      "execution_count": 136,
      "metadata": {
        "colab": {
          "base_uri": "https://localhost:8080/"
        },
        "id": "Nwoj1iWf69WX",
        "outputId": "3482d6ee-17e9-4da0-8a44-3aba27a14eb4"
      },
      "outputs": [
        {
          "output_type": "stream",
          "name": "stdout",
          "text": [
            "Model: \"model\"\n",
            "__________________________________________________________________________________________________\n",
            " Layer (type)                   Output Shape         Param #     Connected to                     \n",
            "==================================================================================================\n",
            " input_4 (InputLayer)           [(None, None)]       0           []                               \n",
            "                                                                                                  \n",
            " input_8 (InputLayer)           [(None, None, 2)]    0           []                               \n",
            "                                                                                                  \n",
            " token_embedding (TokenEmbeddin  (38960, 100)        3896000     ['input_4[0][0]']                \n",
            " g)                                                                                               \n",
            "                                                                                                  \n",
            " token_embedding_1 (TokenEmbedd  (6050, 100)         605000      ['input_4[0][0]']                \n",
            " ing)                                                                                             \n",
            "                                                                                                  \n",
            " input_7 (InputLayer)           [(None, None, 2)]    0           []                               \n",
            "                                                                                                  \n",
            " lambda (Lambda)                (38960, 100)         0           ['input_8[0][0]',                \n",
            "                                                                  'token_embedding[0][0]']        \n",
            "                                                                                                  \n",
            " input_1 (InputLayer)           [(None, None, 2)]    0           []                               \n",
            "                                                                                                  \n",
            " input_3 (InputLayer)           [(None, None, 2)]    0           []                               \n",
            "                                                                                                  \n",
            " lambda_1 (Lambda)              (38960, 100)         0           ['input_7[0][0]',                \n",
            "                                                                  'token_embedding_1[0][0]']      \n",
            "                                                                                                  \n",
            " nr__graph_attention (NR_GraphA  (38960, 300)        40600       ['lambda[0][0]',                 \n",
            " ttention)                                                        'token_embedding_1[0][0]',      \n",
            "                                                                  'input_1[0][0]',                \n",
            "                                                                  'input_3[0][0]',                \n",
            "                                                                  'input_4[0][0]',                \n",
            "                                                                  'lambda_1[0][0]',               \n",
            "                                                                  'token_embedding_1[0][0]',      \n",
            "                                                                  'input_1[0][0]',                \n",
            "                                                                  'input_3[0][0]',                \n",
            "                                                                  'input_4[0][0]']                \n",
            "                                                                                                  \n",
            " concatenate (Concatenate)      (38960, 600)         0           ['nr__graph_attention[0][0]',    \n",
            "                                                                  'nr__graph_attention[1][0]']    \n",
            "                                                                                                  \n",
            " dropout (Dropout)              (38960, 600)         0           ['concatenate[0][0]']            \n",
            "                                                                                                  \n",
            " input_9 (InputLayer)           [(None, None, 4)]    0           []                               \n",
            "                                                                                                  \n",
            " lambda_2 (Lambda)              (None, 4, 600)       0           ['dropout[0][0]',                \n",
            "                                                                  'input_9[0][0]']                \n",
            "                                                                                                  \n",
            " input_2 (InputLayer)           [(None, None, 2)]    0           []                               \n",
            "                                                                                                  \n",
            " input_5 (InputLayer)           [(None, None, 2)]    0           []                               \n",
            "                                                                                                  \n",
            " input_6 (InputLayer)           [(None, None)]       0           []                               \n",
            "                                                                                                  \n",
            " lambda_3 (Lambda)              (1, 1)               0           ['lambda_2[0][0]']               \n",
            "                                                                                                  \n",
            "==================================================================================================\n",
            "Total params: 4,541,600\n",
            "Trainable params: 4,541,600\n",
            "Non-trainable params: 0\n",
            "__________________________________________________________________________________________________\n"
          ]
        }
      ],
      "source": [
        "\n",
        "model,get_emb = get_trgat(dropout_rate=0.30,node_size=node_size,rel_size=rel_size,n_attn_heads = 1,depth=2,gamma =3,node_hidden=100,rel_hidden = 100,triple_size = triple_size)\n",
        "model.summary(); initial_weights = model.get_weights()"
      ]
    },
    {
      "cell_type": "code",
      "execution_count": null,
      "metadata": {
        "colab": {
          "base_uri": "https://localhost:8080/"
        },
        "id": "lMdo-YeF7Hp_",
        "outputId": "9a8e576a-772b-4ab1-a4bf-e05661027cb3"
      },
      "outputs": [
        {
          "output_type": "stream",
          "name": "stdout",
          "text": [
            "iteration 0 start.\n"
          ]
        },
        {
          "output_type": "stream",
          "name": "stderr",
          "text": [
            "  8%|▊         | 99/1200 [01:16<14:59,  1.22it/s]"
          ]
        },
        {
          "output_type": "stream",
          "name": "stdout",
          "text": [
            "accurate results: hits@[1, 5, 10] = [65.82 87.06 92.12], mr = 13.369, mrr = 0.752, time = 24.962 s \n"
          ]
        },
        {
          "output_type": "stream",
          "name": "stderr",
          "text": [
            " 12%|█▏        | 147/1200 [02:21<16:49,  1.04it/s]"
          ]
        }
      ],
      "source": [
        "config = tf.compat.v1.ConfigProto()\n",
        "config.gpu_options.allow_growth=True  \n",
        "sess = tf.compat.v1.Session(config=config) \n",
        "\n",
        "rest_set_1 = [e1 for e1, e2 in dev_pair]\n",
        "rest_set_2 = [e2 for e1, e2 in dev_pair]\n",
        "np.random.shuffle(rest_set_1)\n",
        "np.random.shuffle(rest_set_2)\n",
        "\n",
        "epoch = 1200\n",
        "for turn in range(5):\n",
        "    print(\"iteration %d start.\"%turn)\n",
        "    for i in trange(epoch):\n",
        "        train_set = get_train_set()\n",
        "        inputs = [adj_matrix,adj_matrix1,r_index,r_val,r_index1,r_val1,rel_matrix,ent_matrix,train_set]\n",
        "        inputs = [np.expand_dims(item,axis=0) for item in inputs]\n",
        "        model.train_on_batch(inputs,np.zeros((1,1)))\n",
        "        if i%100 == 99:\n",
        "            CSLS_test()\n",
        "\n",
        "    new_pair = []\n",
        "    vec = get_embedding()\n",
        "    Lvec = np.array([vec[e] for e in rest_set_1])\n",
        "    Rvec = np.array([vec[e] for e in rest_set_2])\n",
        "    Lvec = Lvec / np.linalg.norm(Lvec,axis=-1,keepdims=True)\n",
        "    Rvec = Rvec / np.linalg.norm(Rvec,axis=-1,keepdims=True)\n",
        "    A,_ = eval_alignment_by_sim_mat(Lvec, Rvec, [1, 5, 10], 16,10,True,False)\n",
        "    B,_ = eval_alignment_by_sim_mat(Rvec, Lvec,[1, 5, 10], 16,10,True,False)\n",
        "    A = sorted(list(A)); B = sorted(list(B))\n",
        "    for a,b in A:\n",
        "        if  B[b][1] == a:\n",
        "            new_pair.append([rest_set_1[a],rest_set_2[b]])\n",
        "    print(\"generate new semi-pairs: %d.\" % len(new_pair))\n",
        "    \n",
        "    train_pair = np.concatenate([train_pair,np.array(new_pair)],axis = 0)\n",
        "    for e1,e2 in new_pair:\n",
        "        if e1 in rest_set_1:\n",
        "            rest_set_1.remove(e1) \n",
        "        \n",
        "    for e1,e2 in new_pair:\n",
        "        if e2 in rest_set_2:\n",
        "            rest_set_2.remove(e2) "
      ]
    },
    {
      "cell_type": "code",
      "execution_count": null,
      "metadata": {
        "id": "QjQ1F-zW-VvX"
      },
      "outputs": [],
      "source": [
        ""
      ]
    }
  ],
  "metadata": {
    "accelerator": "GPU",
    "colab": {
      "collapsed_sections": [],
      "name": "EA.ipynb",
      "provenance": [],
      "include_colab_link": true
    },
    "kernelspec": {
      "display_name": "Python 3",
      "name": "python3"
    },
    "language_info": {
      "name": "python"
    }
  },
  "nbformat": 4,
  "nbformat_minor": 0
}