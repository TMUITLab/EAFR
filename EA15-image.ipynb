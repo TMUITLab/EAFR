{
  "cells": [
    {
      "cell_type": "markdown",
      "metadata": {
        "id": "view-in-github",
        "colab_type": "text"
      },
      "source": [
        "<a href=\"https://colab.research.google.com/github/TMUITLab/EAFR/blob/master/EA15-image.ipynb\" target=\"_parent\"><img src=\"https://colab.research.google.com/assets/colab-badge.svg\" alt=\"Open In Colab\"/></a>"
      ]
    },
    {
      "cell_type": "code",
      "execution_count": 2,
      "metadata": {
        "colab": {
          "base_uri": "https://localhost:8080/"
        },
        "id": "WjActARX7sCY",
        "outputId": "f20e1354-df0c-4da5-d1e0-0bd4eccdfdb2"
      },
      "outputs": [
        {
          "output_type": "stream",
          "name": "stdout",
          "text": [
            "/content\n",
            "fatal: destination path 'GCN-Align' already exists and is not an empty directory.\n",
            "fatal: destination path 'RREA' already exists and is not an empty directory.\n",
            "Looking in indexes: https://pypi.org/simple, https://us-python.pkg.dev/colab-wheels/public/simple/\n",
            "Requirement already satisfied: opencv-python in /usr/local/lib/python3.7/dist-packages (4.1.2.30)\n",
            "Requirement already satisfied: numpy>=1.14.5 in /usr/local/lib/python3.7/dist-packages (from opencv-python) (1.21.6)\n",
            "Looking in indexes: https://pypi.org/simple, https://us-python.pkg.dev/colab-wheels/public/simple/\n",
            "Requirement already satisfied: numpy in /usr/local/lib/python3.7/dist-packages (1.21.6)\n",
            "Looking in indexes: https://pypi.org/simple, https://us-python.pkg.dev/colab-wheels/public/simple/\n",
            "Requirement already satisfied: matplotlib in /usr/local/lib/python3.7/dist-packages (3.2.2)\n",
            "Requirement already satisfied: cycler>=0.10 in /usr/local/lib/python3.7/dist-packages (from matplotlib) (0.11.0)\n",
            "Requirement already satisfied: kiwisolver>=1.0.1 in /usr/local/lib/python3.7/dist-packages (from matplotlib) (1.4.2)\n",
            "Requirement already satisfied: numpy>=1.11 in /usr/local/lib/python3.7/dist-packages (from matplotlib) (1.21.6)\n",
            "Requirement already satisfied: python-dateutil>=2.1 in /usr/local/lib/python3.7/dist-packages (from matplotlib) (2.8.2)\n",
            "Requirement already satisfied: pyparsing!=2.0.4,!=2.1.2,!=2.1.6,>=2.0.1 in /usr/local/lib/python3.7/dist-packages (from matplotlib) (3.0.9)\n",
            "Requirement already satisfied: typing-extensions in /usr/local/lib/python3.7/dist-packages (from kiwisolver>=1.0.1->matplotlib) (4.2.0)\n",
            "Requirement already satisfied: six>=1.5 in /usr/local/lib/python3.7/dist-packages (from python-dateutil>=2.1->matplotlib) (1.15.0)\n"
          ]
        }
      ],
      "source": [
        "%cd '/content'\n",
        "!git clone https://github.com/1049451037/GCN-Align\n",
        "!git clone https://github.com/MaoXinn/RREA\n",
        "!pip install opencv-python\n",
        "!pip install numpy\n",
        "!pip install matplotlib"
      ]
    },
    {
      "cell_type": "code",
      "execution_count": 184,
      "metadata": {
        "id": "ZB2YBVkb4pYB"
      },
      "outputs": [],
      "source": [
        "import warnings\n",
        "warnings.filterwarnings('ignore')\n",
        "\n",
        "from importlib.machinery import SourceFileLoader\n",
        "from google.colab import files\n",
        "\n",
        "layer = SourceFileLoader(\"layer\", \"/content/RREA/CIKM/layer.py\").load_module()\n",
        "utils = SourceFileLoader(\"utils\", \"/content/RREA/CIKM/utils.py\").load_module()\n",
        "CSLS = SourceFileLoader(\"CSLS\", \"/content/RREA/CIKM/CSLS.py\").load_module()\n",
        "import tensorflow as tf\n",
        "import os\n",
        "import time\n",
        "import random\n",
        "import keras\n",
        "import pickle\n",
        "from scipy.sparse import hstack\n",
        "import math\n",
        "from tqdm import *\n",
        "import numpy as np\n",
        "from utils import *\n",
        "from CSLS import *\n",
        "import tensorflow as tf\n",
        "import keras.backend as K\n",
        "from keras.layers import *\n",
        "from layer import NR_GraphAttention\n",
        "import cv2\n",
        "import numpy as np\n",
        "from google.colab.patches import cv2_imshow\n",
        "import matplotlib.pyplot as plt\n",
        "\n",
        "\n",
        "os.environ[\"CUDA_VISIBLE_DEVICES\"] = \"0\"\n",
        "os.environ[\"TF_CPP_MIN_LOG_LEVEL\"]=\"2\"\n",
        "tf.compat.v1.logging.set_verbosity(tf.compat.v1.logging.ERROR)"
      ]
    },
    {
      "cell_type": "code",
      "execution_count": 185,
      "metadata": {
        "colab": {
          "base_uri": "https://localhost:8080/"
        },
        "id": "oYvCCmAe62rP",
        "outputId": "9dd3e4e8-4816-4b8d-b1f7-bb9b10700266"
      },
      "outputs": [
        {
          "output_type": "stream",
          "name": "stdout",
          "text": [
            "5000 8\n"
          ]
        }
      ],
      "source": [
        "lang = 'im'\n",
        "main_radj,train_pair,dev_pair,adj_matrix,r_index,r_val,adj_features,rel_features,nadj,char_size = load_data('/content/GCN-Align/data/%s_en/'%lang,train_ratio=0.30)\n",
        "train_pair_main=train_pair\n",
        "adj_matrix = np.stack(adj_matrix.nonzero(),axis = 1)\n",
        "main_rel_matrix,rel_val = np.stack(rel_features.nonzero(),axis = 1),rel_features.data\n",
        "ent_matrix,ent_val = np.stack(adj_features.nonzero(),axis = 1),adj_features.data"
      ]
    },
    {
      "cell_type": "code",
      "source": [
        "rel_size = rel_features.shape[1] \n",
        "\n",
        "\n",
        "# pair_dic = dict()\n",
        "# pairs = np.concatenate((dev_pair , train_pair),axis=0)\n",
        "# for i in range(len(pairs)):\n",
        "#     pair_dic[pairs[i][0]] = pairs[i][1]\n",
        "\n",
        "\n",
        "main_rel_matrix1 = main_rel_matrix.copy()\n",
        "for i in range(len(main_rel_matrix1)):\n",
        "  main_rel_matrix1[i,1] = (main_rel_matrix1[i,1] + rel_size//2) % rel_size\n",
        "\n",
        "main_radj1 = np.array(sorted(main_radj.copy(),key=lambda x: x[1]*10e10+x[0]*10e5))\n",
        "for i in range(len(main_radj1)):\n",
        "  _x,_y = main_radj1[i,0],main_radj1[i,1]\n",
        "  main_radj1[i,0] = _y\n",
        "  main_radj1[i,1] = _x\n",
        "  main_radj1[i,2] = main_radj1[i,2] #( + rel_size//2) % rel_size\n",
        "single_triple_set = set()\n",
        "degree = np.zeros([adj_features.shape[0],3])\n",
        "for triple in main_radj:\n",
        "    single_triple_set.add((triple[0],triple[1]))\n",
        "    if triple[2] < rel_size //2:\n",
        "        degree[triple[0],0] += 1\n",
        "        degree[triple[1],0] += 1\n",
        "        degree[triple[0],2] += 1\n",
        "        degree[triple[1],1] += 1\n",
        "\n",
        "dev_pair_degrees = np.zeros([2,len(dev_pair),3])\n",
        "for i in range(len(dev_pair)):\n",
        "    dev_pair_degrees[0,i,0] = degree[dev_pair[i][0],0]\n",
        "    dev_pair_degrees[0,i,1] = degree[dev_pair[i][0],1]\n",
        "    dev_pair_degrees[0,i,2] = degree[dev_pair[i][0],2]\n",
        "    dev_pair_degrees[1,i,0] = degree[dev_pair[i][1],0]\n",
        "    dev_pair_degrees[1,i,1] = degree[dev_pair[i][1],1]\n",
        "    dev_pair_degrees[1,i,2] = degree[dev_pair[i][1],2]\n",
        "\n",
        "train_pair_degrees = np.zeros([2,len(train_pair),3])\n",
        "for i in range(len(train_pair)):\n",
        "    train_pair_degrees[0,i,0] = degree[train_pair[i][0],0]\n",
        "    train_pair_degrees[0,i,1] = degree[train_pair[i][0],1]\n",
        "    train_pair_degrees[0,i,2] = degree[train_pair[i][0],2]\n",
        "    train_pair_degrees[1,i,0] = degree[train_pair[i][1],0]\n",
        "    train_pair_degrees[1,i,1] = degree[train_pair[i][1],1]\n",
        "    train_pair_degrees[1,i,2] = degree[train_pair[i][1],2]\n",
        "\n",
        "ent_size = adj_features.shape[0]\n",
        "depth = 3\n",
        "deg = np.zeros([ent_size])\n",
        "deg_in = np.zeros([ent_size])\n",
        "deg_out = np.zeros([ent_size])\n",
        "bdeg = np.zeros([ent_size])\n",
        "\n",
        "\n",
        "single_graph = dict()\n",
        "for h,t,r in main_radj:\n",
        "    deg[h] += 1\n",
        "    deg[t] += 1\n",
        "    deg_in[t] += 1\n",
        "    deg_out[h] += 1\n",
        "    if(h not in single_graph):\n",
        "        single_graph[h] = [t]\n",
        "    else:\n",
        "        single_graph[h] += [t]\n",
        "for i in range(ent_size):\n",
        "    bdeg[i] = math.floor(math.log(i+1))\n",
        "\n",
        "bin = int(max(bdeg))\n",
        "rec_deg = np.zeros([ent_size,bin*depth])\n",
        "for h in single_graph:\n",
        "    set_len = len(single_graph[h])\n",
        "    for i in single_graph[h]:\n",
        "        rec_deg[h,int(bdeg[i])] += 1/set_len\n",
        "for d in range(1,depth):\n",
        "    \n",
        "    for h in single_graph:\n",
        "        set_len = len(single_graph[h])\n",
        "        for i in single_graph[h]:\n",
        "            rec_deg[h,d*bin:(d+1)*bin] += (rec_deg[i,(d-1)*bin:(d)*bin])/set_len\n"
      ],
      "metadata": {
        "id": "2-SeSZ4Gvppc"
      },
      "execution_count": 186,
      "outputs": []
    },
    {
      "cell_type": "code",
      "source": [
        "entity1, rel1, triples1 = load_triples('/content/GCN-Align/data/%s_en/'%lang + 'triples_1')\n",
        "num_entity_1 = len(entity1)\n",
        "num_rel_1 = len(rel1)"
      ],
      "metadata": {
        "id": "qjqNt7oeBXjK"
      },
      "execution_count": 187,
      "outputs": []
    },
    {
      "cell_type": "code",
      "source": [
        "layer = SourceFileLoader(\"layer\", \"/content/RREA/CIKM/layer.py\").load_module()\n",
        "\n",
        "from layer import NR_GraphAttention\n",
        "tf.keras.backend.clear_session()\n",
        "radj = main_radj\n",
        "radj1 = main_radj1\n",
        "rel_matrix = main_rel_matrix\n",
        "rel_matrix1 = main_rel_matrix1\n",
        "node_size = adj_features.shape[0]\n",
        "rel_size = rel_features.shape[1]\n",
        "triple_size = len(adj_matrix)\n",
        "batch_size = node_size\n",
        "datas = []\n",
        "# e stand for entity ,r stand for relation , E stand for encoder(e), c stand for character embedding , R stand for encoder(r)\n",
        "run_name = 'QeER'\n",
        "\n",
        "def getMax(d):\n",
        "    l = list(d.keys())\n",
        "    random.shuffle(l)\n",
        "    m = 0 \n",
        "    max_key = -1;\n",
        "    num_max = 0\n",
        "    for k in l : \n",
        "        if d[k] > m :\n",
        "            max_key = k\n",
        "            m = d[k]\n",
        "            num_max = 1\n",
        "        elif d[k] == m:\n",
        "            num_max += 1\n",
        "    if num_max > 1:\n",
        "        max_key = -1\n",
        "    return max_key\n",
        "\n",
        "def get_match_relations(tpair , threshold = 50):\n",
        "    rmap_predict = dict()\n",
        "    temp_train_pair_dic = dict()\n",
        "    for i in range(len(tpair)):\n",
        "        temp_train_pair_dic[tpair[i][0]] = tpair[i][1]\n",
        "    triple_dic = dict()\n",
        "    for h,t,r in radj:\n",
        "        if r < (rel_size //2) :\n",
        "            if (h,t) in triple_dic:\n",
        "                triple_dic[(h,t)] += [r]\n",
        "            else:\n",
        "                triple_dic[(h,t)] = [r]\n",
        "    for h,t,r in radj:\n",
        "        if h in temp_train_pair_dic and t in temp_train_pair_dic and h != t and r < rel_size //2:\n",
        "            z = np.zeros([rel_size])\n",
        "            if (temp_train_pair_dic[h],temp_train_pair_dic[t]) in triple_dic:\n",
        "                z[triple_dic[(temp_train_pair_dic[h],temp_train_pair_dic[t])]] = 1\n",
        "                if r in rmap_predict :\n",
        "                    rmap_predict[r] += z\n",
        "                else:\n",
        "                    rmap_predict[r] = z\n",
        "    i = 0\n",
        "    matched_dic = dict()\n",
        "    for key in rmap_predict:\n",
        "        v = np.max(rmap_predict[key])\n",
        "        i += 1\n",
        "        if(v>threshold):\n",
        "            a = np.argmax(rmap_predict[key]) % (rel_size//2)\n",
        "            matched_dic[key] = a\n",
        "    #print(matched_dic);\n",
        "    return matched_dic\n",
        "\n",
        "def complete_graph(tpair,threshold=2,num = 10):\n",
        "    \n",
        "    new_train_pair = tpair.copy()\n",
        "    for i in range(num):\n",
        "        train_pair_dic1 = dict()\n",
        "        for a,b in new_train_pair : \n",
        "            train_pair_dic1[a] = b\n",
        "        selected_rmap = get_match_relations(new_train_pair,threshold)\n",
        "        print('number of matched relation is : ' ,len(selected_rmap) )\n",
        "        si = dict()\n",
        "        so = dict()\n",
        "\n",
        "        for h,t,r in radj:\n",
        "          if (t,r) not in si:\n",
        "            si[(t,r)] = [h]\n",
        "          else:\n",
        "            si[(t,r)] += [h]\n",
        "\n",
        "          if (h,r) not in so:\n",
        "            so[(h,r)] = [t]\n",
        "          else:\n",
        "            so[(h,r)] += [t]\n",
        "\n",
        "        lmap = dict()\n",
        "        rmap = dict()\n",
        "        tmap = dict()\n",
        "        for h,t,r in radj:\n",
        "            if h in train_pair_dic1 and r in selected_rmap :\n",
        "                if (train_pair_dic1[h],selected_rmap[r]) in so:\n",
        "                    for t1 in so[(train_pair_dic1[h],selected_rmap[r])]:\n",
        "                        if t not in lmap:\n",
        "                            lmap[t] = dict()\n",
        "                        if t1 not in lmap[t]:\n",
        "                            lmap[t][t1] = 1\n",
        "                        else:\n",
        "                            lmap[t][t1] += 1\n",
        "\n",
        "            if t in train_pair_dic1 and r in selected_rmap  :\n",
        "                if (train_pair_dic1[t],selected_rmap[r]) in si:\n",
        "                    for h1 in si[(train_pair_dic1[t],selected_rmap[r])]:\n",
        "                        if h not in rmap:\n",
        "                            rmap[h] = dict()\n",
        "                        if h1 not in rmap[h]:\n",
        "                            rmap[h][h1] = 1\n",
        "                        else:\n",
        "                            rmap[h][h1] += 1\n",
        "        for t in lmap:\n",
        "            if t not in tmap:\n",
        "                tmap[t] = dict()\n",
        "            for key in lmap[t]:\n",
        "                if key not in tmap[t]:\n",
        "                    tmap[t][key] = lmap[t][key]\n",
        "                else:\n",
        "                    tmap[t][key] += lmap[t][key]\n",
        "\n",
        "        for t in rmap:\n",
        "            if t not in tmap:\n",
        "                tmap[t] = dict()\n",
        "            for key in rmap[t]:\n",
        "                if key not in tmap[t]:\n",
        "                    tmap[t][key] = rmap[t][key]\n",
        "                else:\n",
        "                    tmap[t][key] += rmap[t][key]\n",
        "        l = []\n",
        "        for a in tmap:\n",
        "            if a not in train_pair_dic :\n",
        "                train_pair_dic1[a] = getMax(tmap[a])\n",
        "                l.append([a,train_pair_dic1[a] ])\n",
        "             \n",
        "\n",
        "        # for a,b in pairs:\n",
        "        #     if a not in train_pair_dic :\n",
        "        #       if a in tmap:\n",
        "        #           train_pair_dic1[a] = getMax(tmap[a])\n",
        "        #           l.append([a,train_pair_dic1[a] ])\n",
        "        #       elif a in lmap:\n",
        "        #           train_pair_dic1[a] = getMax(lmap[a])\n",
        "        #           l.append([a,train_pair_dic1[a] ])\n",
        "        #       elif a in rmap:\n",
        "        #           train_pair_dic1[a] = getMax(rmap[a])\n",
        "        #           l.append([a,train_pair_dic1[a]])\n",
        "\n",
        "        s = 0\n",
        "        if (len(l) == 0):\n",
        "            return train_pair_dic1;\n",
        "        new_train_pair = np.concatenate([new_train_pair,np.array(l)],axis=0)\n",
        "        # for t in train_pair_dic1:\n",
        "        #     if t not in train_pair_dic and pair_dic[t] == train_pair_dic1[t]:\n",
        "        #         s += 1\n",
        "        # print(s/(len(pair_dic)-len(train_pair_dic)),len(train_pair_dic1)-len(train_pair_dic))\n",
        "    return train_pair_dic1\n",
        "\n",
        "def replce_matched_relations(threshold = 50):\n",
        "    matched_dic = get_match_relations(threshold)\n",
        "    for i in range(len(radj)) :\n",
        "        h = radj[i,0]\n",
        "        t = radj[i,1]\n",
        "        r = radj[i,2]\n",
        "        if r in matched_dic :\n",
        "            radj[i,2] = matched_dic[r]\n",
        "        elif (r - rel_size//2) in matched_dic:\n",
        "            radj[i,2] = matched_dic[(r - rel_size//2)]   + (rel_size//2)\n",
        "\n",
        "    for i in range(len(rel_matrix)) :\n",
        "        h = rel_matrix[i,0]\n",
        "        r = rel_matrix[i,1]\n",
        "        if r in matched_dic :\n",
        "            rel_matrix[i,1] = matched_dic[r]\n",
        "        elif (r - rel_size//2) in matched_dic:\n",
        "            rel_matrix[i,1] = matched_dic[(r - rel_size//2)]   + (rel_size//2)\n",
        "\n",
        "\n",
        "class TokenEmbedding(keras.layers.Embedding):\n",
        "    \"\"\"Embedding layer with weights returned.\"\"\"\n",
        "\n",
        "    def compute_output_shape(self, input_shape):\n",
        "        return self.input_dim, self.output_dim\n",
        "\n",
        "    def compute_mask(self, inputs, mask=None):\n",
        "        return None\n",
        "\n",
        "    def call(self, inputs):\n",
        "        return self.embeddings\n",
        "    \n",
        "def get_embedding(add_rel_feature = False,threshold = 50,depth = 2):\n",
        "    inputs = [adj_matrix,r_index,r_val,rel_matrix,rel_matrix1,ent_matrix,radj,radj1,nadj]\n",
        "    inputs = [np.expand_dims(item,axis=0) for item in inputs]\n",
        "    if add_rel_feature == False:\n",
        "        return get_emb.predict_on_batch(inputs)\n",
        "    else:\n",
        "        selected_rmap = get_match_relations(threshold)\n",
        "        rselected_rmap = dict()\n",
        "        i = 0\n",
        "        for key in selected_rmap:\n",
        "            rselected_rmap[key] = i\n",
        "            rselected_rmap[selected_rmap[key]] = i\n",
        "            i += 1\n",
        "        f = np.zeros([node_size,len(selected_rmap)*depth])\n",
        "        for h,t,r in radj:\n",
        "            if r in rselected_rmap:\n",
        "                f[h,rselected_rmap[r]] += 1./degree[h,2]\n",
        "            \n",
        "        for i in range(depth-1):\n",
        "            for h,t,r in radj:\n",
        "                f[h,(i+1)*depth:(i+2)*depth] += 1./degree[h,2] * f[t,(i)*depth:(i+1)*depth]\n",
        "\n",
        "        f1 = get_emb.predict_on_batch(inputs)\n",
        "        f1 = f1 / np.linalg.norm(f1,axis=-1,keepdims=True)\n",
        "        f = f / np.linalg.norm(f,axis=-1,keepdims=True)\n",
        "        f2 = np.concatenate([f,f1],axis=1)\n",
        "        return f\n",
        "\n",
        "def test(wrank = None):\n",
        "    vec = get_embedding()\n",
        "    return  get_hits(vec,dev_pair,wrank=wrank)\n",
        "\n",
        "def draw(rs):\n",
        "    image = cv2.imread('/content/GCN-Align/data/im_en/img.png')\n",
        "    image1 = cv2.imread('/content/GCN-Align/data/im_en/img1.png')\n",
        "    height,width = image.shape[:2]\n",
        "    def get_pixel(idx):\n",
        "        return (int(idx / width) , idx % width)\n",
        "    print(height,width)\n",
        "    img_last = cv2.hconcat((image, image1))\n",
        "    \n",
        "    for i in range(len(rs)):\n",
        "        i1 = dev_pair[rs[i][0],1]\n",
        "        i2 = dev_pair[rs[i][1],1]\n",
        "\n",
        "        p1 = get_pixel(i1-height*width)\n",
        "        p2 = get_pixel(i2-height*width)\n",
        "        if abs(p1[0]-p2[0]) + abs(p1[1]-p2[1])<=1:\n",
        "            # if(p1[0]<10):\n",
        "            #     print(p1,p2,rs[i],i,dev_pair[rs[i][0]],i1,i2)\n",
        "            img_last[p1[0] , p1[1]+width] = np.array([0,0,255])\n",
        "        else:\n",
        "            img_last[p1[0] , p1[1]+width] = np.array([255,255,0])\n",
        "\n",
        "        #print(p1)\n",
        "    img_last = cv2.resize(img_last, (400,200), interpolation = cv2.INTER_AREA)\n",
        "    cv2_imshow(img_last)\n",
        "    plt.show()\n",
        "\n",
        "def CSLS_test(thread_number = 16, csls=10,accurate = True):\n",
        "    vec = get_embedding()\n",
        "    #vec =get_embedding(True,threshold = 2,depth = 1)\n",
        "    trest_set_1 = [e1 for e1, e2 in dev_pair]\n",
        "    trest_set_2 = [e2 for e1, e2 in dev_pair]\n",
        "    Lvec = np.array([vec[e1] for e1, e2 in dev_pair])\n",
        "    Rvec = np.array([vec[e2] for e1, e2 in dev_pair])\n",
        "\n",
        "    Lvec = Lvec / np.linalg.norm(Lvec,axis=-1,keepdims=True)\n",
        "    Rvec = Rvec / np.linalg.norm(Rvec,axis=-1,keepdims=True)\n",
        "\n",
        "    # Lvec1 = np.array([rec_deg[e1] for e1, e2 in dev_pair])\n",
        "    # Rvec1 = np.array([rec_deg[e2] for e1, e2 in dev_pair])\n",
        "\n",
        "    # Lvec1 = 0.5 * Lvec1 / np.linalg.norm(Lvec1,axis=-1,keepdims=True)\n",
        "    # Rvec1 = 0.5 * Rvec1 / np.linalg.norm(Rvec1,axis=-1,keepdims=True)\n",
        "\n",
        "    # Lvec = np.concatenate([Lvec,Lvec1],axis=-1)\n",
        "    # Rvec = np.concatenate([Rvec,Rvec1],axis=-1)\n",
        "\n",
        "    # Lvec = Lvec / np.linalg.norm(Lvec,axis=-1,keepdims=True)\n",
        "    # Rvec = Rvec / np.linalg.norm(Rvec,axis=-1,keepdims=True)\n",
        "\n",
        "    lprec,ldata,_= eval_alignment_by_sim_mat(Lvec, Rvec, [1, 5, 10], thread_number, csls=csls, accurate=accurate)\n",
        "    results = np.zeros([len(dev_pair)])\n",
        "    draw(list(lprec))\n",
        "    for i in range(len(dev_pair)):\n",
        "        if((i,i) in lprec):\n",
        "            results[i] = 1\n",
        "\n",
        "    datas.append((results,ldata))\n",
        "    save_datas()\n",
        "    return None\n",
        "\n",
        "def save_datas():\n",
        "    with open('/content/RREA/'+lang+\"_\"+run_name+'.pkl', 'wb') as f:  # Python 3: open(..., 'wb')\n",
        "        pickle.dump([train_pair_degrees,dev_pair_degrees,datas], f)\n",
        "\n",
        "def load_datas():\n",
        "    with open('/content/RREA/'+lang+\"_\"+run_name+'.pkl', 'rb') as f:  # Python 3: open(..., 'wb')\n",
        "        mydata =pickle.load(f)\n",
        "    return mydata;\n",
        "\n",
        "def get_train_set(batch_size = batch_size):\n",
        "    negative_ratio =  batch_size // len(train_pair) + 1\n",
        "    train_set = np.reshape(np.repeat(np.expand_dims(train_pair,axis=0),axis=0,repeats=negative_ratio),newshape=(-1,2))\n",
        "    np.random.shuffle(train_set); train_set = train_set[:batch_size]\n",
        "    train_set = np.concatenate([train_set,np.random.randint(0,node_size,[train_set.shape[0],4])],axis = -1)\n",
        "    return train_set\n",
        "\n",
        "def get_train_set1(batch_size = batch_size):\n",
        "    train_set = train_pair\n",
        "    np.random.shuffle(train_set);\n",
        "    train_set = np.concatenate([train_set,np.random.randint(0,node_size,train_set.shape)],axis = -1)\n",
        "    return train_set\n",
        "\n",
        "def get_trgat(node_size,rel_size,node_hidden,rel_hidden,triple_size,n_attn_heads = 2,dropout_rate = 0,gamma = 3,lr = 0.005,depth = 2):\n",
        "    adj_input = Input(shape=(None,2))\n",
        "    index_input = Input(shape=(None,2),dtype='int64')\n",
        "    val_input = Input(shape = (None,))\n",
        "    rel_adj = Input(shape=(None,2))\n",
        "    rel_adj1 = Input(shape=(None,2))\n",
        "    ent_adj = Input(shape=(None,2))\n",
        "    radj = Input(shape=(None,3),dtype='int64')\n",
        "    radj1 = Input(shape=(None,3),dtype='int64')\n",
        "    nadj = Input(shape=(None,3))\n",
        "    \n",
        "    # ent_emb = TokenEmbedding(node_size,node_hidden,embeddings_initializer=\"LecunNormal\",trainable = True)(val_input) \n",
        "    # rel_emb = TokenEmbedding(rel_size,node_hidden,embeddings_initializer=\"LecunNormal\",trainable = True)(val_input)\n",
        "    # ch_emb = TokenEmbedding(char_size,node_hidden,embeddings_initializer=\"LecunNormal\",trainable = True)(val_input)\n",
        "\n",
        "    ent_emb = TokenEmbedding(node_size,node_hidden,trainable = True)(val_input) \n",
        "    rel_emb = TokenEmbedding(rel_size,node_hidden,trainable = True)(val_input)\n",
        "    ch_emb = TokenEmbedding(char_size,node_hidden,trainable = True)(val_input)\n",
        "\n",
        "\n",
        "    # E = TokenEmbedding(node_hidden,node_hidden,trainable = True)(val_input)\n",
        "    # R = TokenEmbedding(node_hidden,node_hidden,trainable = True)(val_input)\n",
        "    def ch_avg(tensor,size):\n",
        "        n_adj = tf.squeeze(tensor[0],axis = 0)\n",
        "        adj = K.cast(n_adj[:,0:2],dtype = \"int64\")   \n",
        "        adj = tf.SparseTensor(indices=adj, values=tf.ones_like(n_adj[:,2],dtype = 'float32') , dense_shape=(node_size,size)) \n",
        "        adj = tf.compat.v1.sparse_softmax(adj) \n",
        "        l_adj = tf.compat.v1.sparse_tensor_dense_matmul(adj,tensor[1])\n",
        "        return l_adj\n",
        "\n",
        "    def avg(tensor,size):\n",
        "        adj = K.cast(K.squeeze(tensor[0],axis = 0),dtype = \"int64\")   \n",
        "        adj = tf.SparseTensor(indices=adj, values=tf.ones_like(adj[:,0],dtype = 'float32'), dense_shape=(node_size,size)) \n",
        "        adj = tf.compat.v1.sparse_softmax(adj) \n",
        "        l_adj = tf.compat.v1.sparse_tensor_dense_matmul(adj,tensor[1])\n",
        "        return l_adj\n",
        "\n",
        "    name_feature = Lambda(ch_avg,arguments={'size':char_size})([nadj,ch_emb])\n",
        "    # rel_feature1 = Lambda(avg,arguments={'size':rel_size//2})([rel_adj,rel_emb])\n",
        "    # rel_feature2 = Lambda(avg,arguments={'size':rel_size//2})([rel_adj1,rel_emb])\n",
        "    rel_feature = Lambda(avg,arguments={'size':rel_size})([rel_adj,rel_emb])\n",
        "    # rel_feature1= Lambda(avg,arguments={'size':node_size})([rel_adj,rel_feature])\n",
        "    # rel_feature = 0.8 * rel_feature + 0.2 * rel_feature1\n",
        "\n",
        "    ent_feature = Lambda(avg,arguments={'size':node_size})([ent_adj,ent_emb])\n",
        "    ent_feature1 = Lambda(avg,arguments={'size':node_size})([ent_adj,ent_feature])\n",
        "    ent_feature = 0.8 * ent_feature + 0.2 * ent_feature1\n",
        "    # rel_emb = K.concatenate([rel_emb1,rel_emb2])\n",
        "    #rel_feature = K.concatenate([rel_feature1,rel_feature2])\n",
        "\n",
        "    encoder = NR_GraphAttention(node_size,activation=\"relu\",\n",
        "                                       rel_size = rel_size,\n",
        "                                       depth =2,\n",
        "                                       attn_heads=n_attn_heads,\n",
        "                                       triple_size = triple_size,\n",
        "                                       attn_heads_reduction='average',   \n",
        "                                       dropout_rate=dropout_rate)\n",
        "    encoder1 = NR_GraphAttention(node_size,activation=\"relu\",\n",
        "                                    rel_size = rel_size,\n",
        "                                    depth = 2,\n",
        "                                    attn_heads=n_attn_heads,\n",
        "                                    triple_size = triple_size,\n",
        "                                    attn_heads_reduction='average',   \n",
        "                                    dropout_rate=dropout_rate)\n",
        "    encoder2 = NR_GraphAttention(node_size,activation=\"relu\",\n",
        "                                       rel_size = rel_size,\n",
        "                                       depth = 2,\n",
        "                                       attn_heads=n_attn_heads,\n",
        "                                       triple_size = triple_size,\n",
        "                                       attn_heads_reduction='average',   \n",
        "                                       dropout_rate=dropout_rate)\n",
        "    opt1 = [rel_emb,adj_input,index_input,val_input,radj]\n",
        "    opt2 = [rel_emb,adj_input,index_input,val_input,radj1]\n",
        "    elements = []\n",
        "    coefs = []\n",
        "    for f_name in run_name:\n",
        "        if f_name == 'e':\n",
        "            elements += [ent_emb]\n",
        "            coefs += [0.2]\n",
        "        elif f_name == 'E':\n",
        "            elements += encoder1([ent_feature]+opt1) \n",
        "            coefs += [0.8,0.8,0.8]\n",
        "        elif f_name == 'R':\n",
        "            elements += encoder1([rel_feature]+opt1) #+ encoder([rel_feature1]+opt2)\n",
        "            coefs +=  [0.8,0.8,0.8]\n",
        "        elif f_name == 'q':\n",
        "            elements += [rel_feature1]\n",
        "            coefs +=  [-0.5]\n",
        "        elif f_name == 'C':\n",
        "            elements += encoder2([name_feature]+opt1)\n",
        "            coefs +=  [0.8,0.8,0.8]\n",
        "        elif f_name == 'c':\n",
        "            elements += [name_feature]\n",
        "            coefs += [1.]\n",
        "\n",
        "    #elements = [ent_emb] +   encoder([rel_feature]+opt1)+encoder([ent_feature]+opt1)\n",
        "    #elements = [0.3 * ent_emb[:,:node_hidden//2]]+ el[0:3]+el[6:9]+[0.2 * ent_emb[:,node_hidden//2:]] + el[3:6]+el[9:12]\n",
        "    num_el = elements.__len__()\n",
        "    alpha =  tf.Variable([0.2], trainable=False)\n",
        "    weight =  tf.Variable(coefs, trainable=False)\n",
        "    #weight = (num_el-1)* tf.math.softmax(weight)\n",
        "    #weight =  tf.Variable(1 * [-0.2,1.0] + (num_el-2) * [.8], trainable=False)\n",
        "    print(weight)\n",
        "    #elements = [alpha * elements[0]] + [elements[_i+1]*(1-alpha) for _i in range(len(elements)-1) ]\n",
        "    elements = [elements[_i]*weight[_i] for _i in range(len(elements)) ]\n",
        "    out_feature = Concatenate(-1)(elements)\n",
        "    out_feature = Dropout(dropout_rate)(out_feature)\n",
        "    \n",
        "    alignment_input = Input(shape=(None,6),dtype = \"int64\") \n",
        "    #find = Lambda(lambda x:K.gather(reference=x[0],indices=K.cast(K.squeeze(x[1],axis=0), 'int32')))([out_feature,alignment_input])\n",
        "\n",
        "    I = K.cast(K.squeeze(alignment_input,axis=0),dtype = \"int64\")\n",
        "   \n",
        "    A = K.sum(K.abs(K.gather(out_feature,I[:,0])-K.gather(out_feature,I[:,1])),axis=-1,keepdims=True)\n",
        "    loss = 0.1 * ( K.relu(1 - K.sum(K.abs(K.gather(out_feature,I[:,0])))) +K.relu(1 - K.sum(K.abs(K.gather(out_feature,I[:,1])))))\n",
        "    for i in range(2):\n",
        "        B = K.sum(K.abs(K.gather(out_feature,I[:,0])-K.gather(out_feature,I[:,2+i])),axis=-1,keepdims=True)\n",
        "        C = K.sum(K.abs(K.gather(out_feature,I[:,1])-K.gather(out_feature,I[:,2+i])),axis=-1,keepdims=True)\n",
        "        loss += K.relu(gamma +A -B) + K.relu(gamma +A -C)\n",
        "        loss += 0.1 * ( K.relu(1 - K.sum(K.abs(K.gather(out_feature,I[:,2+i])))))\n",
        "    loss =  tf.compat.v1.reduce_sum(loss,keep_dims=True) / (batch_size)    \n",
        "   \n",
        "    inputs = [adj_input,index_input,val_input,rel_adj,rel_adj1,ent_adj,radj,radj1,nadj]\n",
        "    train_model = keras.Model(inputs = inputs + [alignment_input],outputs = loss)\n",
        "    \n",
        "    train_model.compile(loss=lambda y_true,y_pred: y_pred,optimizer=tf.keras.optimizers.RMSprop(lr=lr))\n",
        "    \n",
        "    feature_model = keras.Model(inputs = inputs,outputs = out_feature)\n",
        "    return train_model,feature_model"
      ],
      "metadata": {
        "id": "OwozXDxFgycr"
      },
      "execution_count": 191,
      "outputs": []
    },
    {
      "cell_type": "code",
      "source": [
        "run_name = 'CeER'\n",
        "model,get_emb = get_trgat(dropout_rate=0.3,node_size=node_size,rel_size=rel_size,n_attn_heads = 1,depth=2,gamma =3,node_hidden=20,rel_hidden = 20,triple_size = triple_size)\n",
        "#model.summary(); \n",
        "initial_weights = model.get_weights()"
      ],
      "metadata": {
        "id": "VOZDkwnYjLrL",
        "outputId": "3c260c7f-c37b-4a38-bdbc-49996666ccb1",
        "colab": {
          "base_uri": "https://localhost:8080/"
        }
      },
      "execution_count": 192,
      "outputs": [
        {
          "output_type": "stream",
          "name": "stdout",
          "text": [
            "<tf.Variable 'Variable:0' shape=(10,) dtype=float32, numpy=array([0.8, 0.8, 0.8, 0.2, 0.8, 0.8, 0.8, 0.8, 0.8, 0.8], dtype=float32)>\n"
          ]
        }
      ]
    },
    {
      "cell_type": "code",
      "source": [
        "train_pair = train_pair_main\n",
        "\n",
        "train_pair_dic = dict()\n",
        "for i in range(len(train_pair)):\n",
        "    train_pair_dic[train_pair[i][0]] = train_pair[i][1]\n",
        "    \n",
        "radj = main_radj\n",
        "radj1 = main_radj1\n",
        "rel_matrix = main_rel_matrix\n",
        "rel_matrix1 = main_rel_matrix1  \n",
        "tf.keras.backend.clear_session()\n",
        "config = tf.compat.v1.ConfigProto()\n",
        "config.gpu_options.allow_growth=True  \n",
        "sess = tf.compat.v1.Session(config=config) \n",
        "\n",
        "rest_set_1 = [e1 for e1, e2 in dev_pair]\n",
        "rest_set_2 = [e2 for e1, e2 in dev_pair]\n",
        "np.random.shuffle(rest_set_1)\n",
        "np.random.shuffle(rest_set_2)\n",
        "print ('entity alignment started for dataset' , lang, run_name)\n",
        "epoch = 500\n",
        "hb = True\n",
        "for turn in range(1,30):\n",
        "    print(\"iteration %d start.\"%turn)\n",
        "    for i in trange(epoch):\n",
        "        cur_epoch = i\n",
        "        train_set = get_train_set()\n",
        "        \n",
        "        inputs = [adj_matrix,r_index,r_val,rel_matrix,rel_matrix1,ent_matrix,radj,radj1,nadj,train_set]\n",
        "        inputs = [np.expand_dims(item,axis=0) for item in inputs]\n",
        "        model.train_on_batch(inputs,np.zeros((1,1)))\n",
        "        #CSLS_test()\n",
        "        if i%100 == 99 and i+1 != epoch:\n",
        "            \n",
        "            CSLS_test()     \n",
        "\n",
        "    # if turn == 0:\n",
        "    #     epoch = 100\n",
        "    #     CSLS_test()\n",
        "    #     break;\n",
        "    CSLS_test()       \n",
        "    new_pair1 = []\n",
        "    new_pair = []\n",
        "    if (len(rest_set_1) < 10 or len(rest_set_2) < 10):\n",
        "        continue\n",
        "    #vec = get_embedding()\n",
        "    vec = get_embedding()\n",
        "    Lvec = np.array([vec[e] for e in rest_set_1])\n",
        "    Rvec = np.array([vec[e] for e in rest_set_2])\n",
        "    Lvec = Lvec / np.linalg.norm(Lvec,axis=-1,keepdims=True)\n",
        "    Rvec = Rvec / np.linalg.norm(Rvec,axis=-1,keepdims=True)\n",
        "    A,_,_ = eval_alignment_by_sim_mat(Lvec, Rvec, [1, 5, 10], 16,10,True,False)\n",
        "    B,_,_ = eval_alignment_by_sim_mat(Rvec, Lvec,[1, 5, 10], 16,10,True,False)\n",
        "    A = sorted(list(A)); B = sorted(list(B))\n",
        "    AB = dict()\n",
        "    for a,b in A:\n",
        "        if  B[b][1] == a:\n",
        "            if rest_set_1[a] not in AB:\n",
        "                AB[rest_set_1[a]] = 1\n",
        "            else:\n",
        "                AB[rest_set_1[a]] += 1\n",
        "            if rest_set_2[b] not in AB:\n",
        "                AB[rest_set_2[b]] = 1\n",
        "            else:\n",
        "                AB[rest_set_2[b]] += 1\n",
        "    for a,b in A:\n",
        "        if  B[b][1] == a  and AB[rest_set_1[a]] == 1 and AB[rest_set_2[b]] == 1 :\n",
        "            new_pair1.append([rest_set_1[a],rest_set_2[b]])\n",
        "    if hb :\n",
        "        train_pair1 = np.concatenate([train_pair,np.array(new_pair1)],axis = 0)\n",
        "        new_pair_dic = complete_graph(train_pair1,2,5) \n",
        "        \n",
        "        for a,b in new_pair1:\n",
        "\n",
        "              if (a in new_pair_dic and new_pair_dic[a] == b):\n",
        "                  new_pair.append([a,b])\n",
        "        print('number of new pair , candidate pair, train pair: ' , len(new_pair) , len(new_pair1), len(train_pair))\n",
        "        if len(new_pair) < 30:\n",
        "            if len(new_pair1) < 100:\n",
        "                new_pair = new_pair1\n",
        "            else:\n",
        "                random.shuffle(new_pair1)\n",
        "                new_pair = new_pair1[:min(max(len(new_pair1)//2,100),500)]\n",
        "    else:\n",
        "        new_pair = new_pair1\n",
        "        print('number of new pair, training pair: ' , len(new_pair) , len(train_pair))\n",
        "\n",
        "    epoch = 100 + 100 * (len(new_pair)//1000)\n",
        "    if epoch > 500:\n",
        "        epoch = 500\n",
        "\n",
        "    # _,_,A = eval_alignment_by_sim_mat(Lvec, Rvec, [1, 5, 10], 16,10,True,False)\n",
        "    # _,_,B = eval_alignment_by_sim_mat(Rvec, Lvec,[1, 5, 10], 16,10,True,False)\n",
        "    # A = A[0]\n",
        "    # B = B[0]\n",
        "\n",
        "    # for i in range(len(A)):\n",
        "    #     if i == B[A[i,0],0]:\n",
        "    #         has_other_pair = 0\n",
        "    #         for _i in range(1,10):\n",
        "    #             if(_i in B[A[i,_i],:10]):\n",
        "    #                 has_other_pair = 1\n",
        "    #                 break;\n",
        "\n",
        "    #         if has_other_pair == 0:\n",
        "    #               #print([rest_set_1[i],rest_set_2[A[i,j]]])\n",
        "    #               new_pair.append([rest_set_1[i],rest_set_2[A[i,0]]])\n",
        "\n",
        "\n",
        "    # new_pair_dic = complete_graph(train_pair,2,10) \n",
        "    # for a,b in new_pair1:\n",
        "    #     if (a in new_pair_dic and new_pair_dic[a] == b):\n",
        "    #         new_pair.append([a,b])\n",
        "\n",
        "    train_pair = np.concatenate([train_pair,np.array(new_pair)],axis = 0)\n",
        "    # s = 0\n",
        "    # s1 = 0\n",
        "    # for a,b in new_pair :\n",
        "    #     if pair_dic[a] == b:\n",
        "    #         s1 += 1\n",
        "    # for a,b in train_pair:\n",
        "    #     if a not in train_pair_dic and pair_dic[a] == b:\n",
        "    #         s += 1\n",
        "\n",
        "    #print(\"generate new semi-pairs: \" + str(len(new_pair)) + \".  num of correct new pairs\" + str(s1))\n",
        "    #print(\"total new pairs: \" + str(len(train_pair) - len(train_pair_dic)) + \".  num of correct new pairs \" + str(s) +  \"(\"+str(s/(len(train_pair) - len(train_pair_dic))) +\")\")\n",
        "    for e1,e2 in new_pair:\n",
        "        if e1 in rest_set_1:\n",
        "            rest_set_1.remove(e1) \n",
        "        \n",
        "    for e1,e2 in new_pair:\n",
        "        if e2 in rest_set_2:\n",
        "            rest_set_2.remove(e2)\n",
        "            \n",
        "    with open('/content/RREA/'+lang+\"_\"+run_name+'_train_pair'+str(turn)+'.pkl', 'wb') as f:  # Python 3: open(..., 'wb')\n",
        "        pickle.dump(train_pair, f)\n",
        "\n",
        "    #complete_graph(train_pair,2,10)\n",
        "    #match_relations()\n",
        "# for turn in range(5):\n",
        "#     files.download('/content/RREA/'+lang+\"_\"+run_name+'_train_pair'+str(turn)+'.pkl');\n",
        "# files.download('/content/RREA/'+lang+\"_\"+run_name+'.pkl') "
      ],
      "metadata": {
        "id": "pLYXVCI1iB4-",
        "colab": {
          "base_uri": "https://localhost:8080/",
          "height": 1000
        },
        "outputId": "4d88e3d2-d819-4e40-9d5a-678913250898"
      },
      "execution_count": 193,
      "outputs": [
        {
          "output_type": "stream",
          "name": "stdout",
          "text": [
            "entity alignment started for dataset im CeER\n",
            "iteration 1 start.\n"
          ]
        },
        {
          "output_type": "stream",
          "name": "stderr",
          "text": [
            " 20%|█▉        | 99/500 [00:18<00:51,  7.79it/s]"
          ]
        },
        {
          "output_type": "stream",
          "name": "stdout",
          "text": [
            "accurate results: hits@[1, 5, 10] = [47.05 89.97 96.22], mr = 3.346, mrr = 0.650, time = 2.589 s \n",
            "50 50\n"
          ]
        },
        {
          "output_type": "display_data",
          "data": {
            "text/plain": [
              "<PIL.Image.Image image mode=RGB size=400x200 at 0x7FCB3CAF7FD0>"
            ],
            "image/png": "[encoded data removed]"
          },
          "metadata": {}
        },
        {
          "output_type": "stream",
          "name": "stderr",
          "text": [
            " 40%|███▉      | 199/500 [00:34<00:36,  8.14it/s]"
          ]
        },
        {
          "output_type": "stream",
          "name": "stdout",
          "text": [
            "accurate results: hits@[1, 5, 10] = [55.15 98.01 99.66], mr = 1.867, mrr = 0.728, time = 2.472 s \n",
            "50 50\n"
          ]
        },
        {
          "output_type": "display_data",
          "data": {
            "text/plain": [
              "<PIL.Image.Image image mode=RGB size=400x200 at 0x7FCC5CF99D10>"
            ],
            "image/png": "[encoded data removed]"
          },
          "metadata": {}
        },
        {
          "output_type": "stream",
          "name": "stderr",
          "text": [
            " 60%|█████▉    | 299/500 [00:50<00:26,  7.67it/s]"
          ]
        },
        {
          "output_type": "stream",
          "name": "stdout",
          "text": [
            "accurate results: hits@[1, 5, 10] = [ 59.96  99.52 100.  ], mr = 1.663, mrr = 0.765, time = 2.472 s \n",
            "50 50\n"
          ]
        },
        {
          "output_type": "display_data",
          "data": {
            "text/plain": [
              "<PIL.Image.Image image mode=RGB size=400x200 at 0x7FCB3CAF7890>"
            ],
            "image/png": "[encoded data removed]"
          },
          "metadata": {}
        },
        {
          "output_type": "stream",
          "name": "stderr",
          "text": [
            " 80%|███████▉  | 399/500 [01:06<00:12,  7.90it/s]"
          ]
        },
        {
          "output_type": "stream",
          "name": "stdout",
          "text": [
            "accurate results: hits@[1, 5, 10] = [ 61.88  99.52 100.  ], mr = 1.595, mrr = 0.780, time = 2.772 s \n",
            "50 50\n"
          ]
        },
        {
          "output_type": "display_data",
          "data": {
            "text/plain": [
              "<PIL.Image.Image image mode=RGB size=400x200 at 0x7FCC5CC31890>"
            ],
            "image/png": "[encoded data removed]"
          },
          "metadata": {}
        },
        {
          "output_type": "stream",
          "name": "stderr",
          "text": [
            "100%|██████████| 500/500 [01:21<00:00,  6.11it/s]\n"
          ]
        },
        {
          "output_type": "stream",
          "name": "stdout",
          "text": [
            "accurate results: hits@[1, 5, 10] = [ 63.39  99.79 100.  ], mr = 1.549, mrr = 0.791, time = 2.715 s \n",
            "50 50\n"
          ]
        },
        {
          "output_type": "display_data",
          "data": {
            "text/plain": [
              "<PIL.Image.Image image mode=RGB size=400x200 at 0x7FCB541EF6D0>"
            ],
            "image/png": "[encoded data removed]"
          },
          "metadata": {}
        },
        {
          "output_type": "stream",
          "name": "stdout",
          "text": [
            "number of matched relation is :  4\n",
            "number of matched relation is :  4\n",
            "number of matched relation is :  4\n",
            "number of matched relation is :  4\n",
            "number of matched relation is :  4\n",
            "number of new pair , candidate pair, train pair:  485 931 623\n",
            "iteration 2 start.\n"
          ]
        },
        {
          "output_type": "stream",
          "name": "stderr",
          "text": [
            "100%|██████████| 100/100 [00:12<00:00,  7.92it/s]\n"
          ]
        },
        {
          "output_type": "stream",
          "name": "stdout",
          "text": [
            "accurate results: hits@[1, 5, 10] = [ 67.99  99.86 100.  ], mr = 1.457, mrr = 0.820, time = 2.731 s \n",
            "50 50\n"
          ]
        },
        {
          "output_type": "display_data",
          "data": {
            "text/plain": [
              "<PIL.Image.Image image mode=RGB size=400x200 at 0x7FCB3B128A50>"
            ],
            "image/png": "[encoded data removed]"
          },
          "metadata": {}
        },
        {
          "output_type": "stream",
          "name": "stdout",
          "text": [
            "number of matched relation is :  4\n",
            "number of matched relation is :  4\n",
            "number of matched relation is :  4\n",
            "number of matched relation is :  4\n",
            "number of matched relation is :  4\n",
            "number of new pair , candidate pair, train pair:  171 579 1108\n",
            "iteration 3 start.\n"
          ]
        },
        {
          "output_type": "stream",
          "name": "stderr",
          "text": [
            "100%|██████████| 100/100 [00:12<00:00,  7.80it/s]\n"
          ]
        },
        {
          "output_type": "stream",
          "name": "stdout",
          "text": [
            "accurate results: hits@[1, 5, 10] = [ 71.57 100.   100.  ], mr = 1.391, mrr = 0.842, time = 2.723 s \n",
            "50 50\n"
          ]
        },
        {
          "output_type": "display_data",
          "data": {
            "text/plain": [
              "<PIL.Image.Image image mode=RGB size=400x200 at 0x7FCB3CD84650>"
            ],
            "image/png": "[encoded data removed]"
          },
          "metadata": {}
        },
        {
          "output_type": "stream",
          "name": "stdout",
          "text": [
            "number of matched relation is :  4\n",
            "number of matched relation is :  4\n",
            "number of matched relation is :  4\n",
            "number of matched relation is :  4\n",
            "number of matched relation is :  4\n",
            "number of new pair , candidate pair, train pair:  99 473 1279\n",
            "iteration 4 start.\n"
          ]
        },
        {
          "output_type": "stream",
          "name": "stderr",
          "text": [
            "100%|██████████| 100/100 [00:13<00:00,  7.63it/s]\n"
          ]
        },
        {
          "output_type": "stream",
          "name": "stdout",
          "text": [
            "accurate results: hits@[1, 5, 10] = [ 74.04 100.   100.  ], mr = 1.361, mrr = 0.855, time = 2.775 s \n",
            "50 50\n"
          ]
        },
        {
          "output_type": "display_data",
          "data": {
            "text/plain": [
              "<PIL.Image.Image image mode=RGB size=400x200 at 0x7FCB3B128D10>"
            ],
            "image/png": "[encoded data removed]"
          },
          "metadata": {}
        },
        {
          "output_type": "stream",
          "name": "stdout",
          "text": [
            "number of matched relation is :  4\n",
            "number of matched relation is :  4\n",
            "number of matched relation is :  4\n",
            "number of matched relation is :  4\n",
            "number of matched relation is :  4\n",
            "number of new pair , candidate pair, train pair:  53 413 1378\n",
            "iteration 5 start.\n"
          ]
        },
        {
          "output_type": "stream",
          "name": "stderr",
          "text": [
            "100%|██████████| 100/100 [00:12<00:00,  7.74it/s]\n"
          ]
        },
        {
          "output_type": "stream",
          "name": "stdout",
          "text": [
            "accurate results: hits@[1, 5, 10] = [ 75.69 100.   100.  ], mr = 1.332, mrr = 0.865, time = 2.706 s \n",
            "50 50\n"
          ]
        },
        {
          "output_type": "display_data",
          "data": {
            "text/plain": [
              "<PIL.Image.Image image mode=RGB size=400x200 at 0x7FCB3B128710>"
            ],
            "image/png": "[encoded data removed]"
          },
          "metadata": {}
        },
        {
          "output_type": "stream",
          "name": "stdout",
          "text": [
            "number of matched relation is :  4\n",
            "number of matched relation is :  4\n",
            "number of matched relation is :  4\n",
            "number of matched relation is :  4\n",
            "number of matched relation is :  4\n",
            "number of new pair , candidate pair, train pair:  36 381 1431\n",
            "iteration 6 start.\n"
          ]
        },
        {
          "output_type": "stream",
          "name": "stderr",
          "text": [
            "100%|██████████| 100/100 [00:12<00:00,  7.71it/s]\n"
          ]
        },
        {
          "output_type": "stream",
          "name": "stdout",
          "text": [
            "accurate results: hits@[1, 5, 10] = [ 74.93 100.   100.  ], mr = 1.337, mrr = 0.862, time = 2.634 s \n",
            "50 50\n"
          ]
        },
        {
          "output_type": "display_data",
          "data": {
            "text/plain": [
              "<PIL.Image.Image image mode=RGB size=400x200 at 0x7FCB3D2AA7D0>"
            ],
            "image/png": "[encoded data removed]"
          },
          "metadata": {}
        },
        {
          "output_type": "stream",
          "name": "stdout",
          "text": [
            "number of matched relation is :  4\n",
            "number of matched relation is :  4\n",
            "number of matched relation is :  4\n",
            "number of matched relation is :  4\n",
            "number of matched relation is :  4\n",
            "number of new pair , candidate pair, train pair:  37 379 1467\n",
            "iteration 7 start.\n"
          ]
        },
        {
          "output_type": "stream",
          "name": "stderr",
          "text": [
            "100%|██████████| 100/100 [00:12<00:00,  7.82it/s]\n"
          ]
        },
        {
          "output_type": "stream",
          "name": "stdout",
          "text": [
            "accurate results: hits@[1, 5, 10] = [ 75.14 100.   100.  ], mr = 1.331, mrr = 0.863, time = 2.520 s \n",
            "50 50\n"
          ]
        },
        {
          "output_type": "display_data",
          "data": {
            "text/plain": [
              "<PIL.Image.Image image mode=RGB size=400x200 at 0x7FCB541EFA10>"
            ],
            "image/png": "[encoded data removed]"
          },
          "metadata": {}
        },
        {
          "output_type": "stream",
          "name": "stdout",
          "text": [
            "number of matched relation is :  4\n",
            "number of matched relation is :  4\n",
            "number of matched relation is :  4\n",
            "number of matched relation is :  4\n",
            "number of matched relation is :  4\n",
            "number of new pair , candidate pair, train pair:  19 354 1504\n",
            "iteration 8 start.\n"
          ]
        },
        {
          "output_type": "stream",
          "name": "stderr",
          "text": [
            "100%|██████████| 100/100 [00:12<00:00,  7.75it/s]\n"
          ]
        },
        {
          "output_type": "stream",
          "name": "stdout",
          "text": [
            "accurate results: hits@[1, 5, 10] = [ 77.27 100.   100.  ], mr = 1.298, mrr = 0.876, time = 2.601 s \n",
            "50 50\n"
          ]
        },
        {
          "output_type": "display_data",
          "data": {
            "text/plain": [
              "<PIL.Image.Image image mode=RGB size=400x200 at 0x7FCC5CA291D0>"
            ],
            "image/png": "[encoded data removed]"
          },
          "metadata": {}
        },
        {
          "output_type": "stream",
          "name": "stdout",
          "text": [
            "number of matched relation is :  4\n",
            "number of matched relation is :  4\n",
            "number of matched relation is :  4\n",
            "number of matched relation is :  4\n",
            "number of matched relation is :  4\n",
            "number of new pair , candidate pair, train pair:  46 249 1681\n",
            "iteration 9 start.\n"
          ]
        },
        {
          "output_type": "stream",
          "name": "stderr",
          "text": [
            "100%|██████████| 100/100 [00:13<00:00,  7.52it/s]\n"
          ]
        },
        {
          "output_type": "stream",
          "name": "stdout",
          "text": [
            "accurate results: hits@[1, 5, 10] = [ 78.23 100.   100.  ], mr = 1.277, mrr = 0.882, time = 2.534 s \n",
            "50 50\n"
          ]
        },
        {
          "output_type": "display_data",
          "data": {
            "text/plain": [
              "<PIL.Image.Image image mode=RGB size=400x200 at 0x7FCBC00C1510>"
            ],
            "image/png": "[encoded data removed]"
          },
          "metadata": {}
        },
        {
          "output_type": "stream",
          "name": "stdout",
          "text": [
            "number of matched relation is :  4\n",
            "number of matched relation is :  4\n",
            "number of matched relation is :  4\n",
            "number of matched relation is :  4\n",
            "number of matched relation is :  4\n",
            "number of new pair , candidate pair, train pair:  23 231 1727\n",
            "iteration 10 start.\n"
          ]
        },
        {
          "output_type": "stream",
          "name": "stderr",
          "text": [
            "100%|██████████| 100/100 [00:12<00:00,  7.85it/s]\n"
          ]
        },
        {
          "output_type": "stream",
          "name": "stdout",
          "text": [
            "accurate results: hits@[1, 5, 10] = [ 79.95 100.   100.  ], mr = 1.255, mrr = 0.891, time = 2.558 s \n",
            "50 50\n"
          ]
        },
        {
          "output_type": "display_data",
          "data": {
            "text/plain": [
              "<PIL.Image.Image image mode=RGB size=400x200 at 0x7FCC5CFA1A50>"
            ],
            "image/png": "[encoded data removed]"
          },
          "metadata": {}
        },
        {
          "output_type": "stream",
          "name": "stdout",
          "text": [
            "number of matched relation is :  4\n",
            "number of matched relation is :  4\n",
            "number of matched relation is :  4\n",
            "number of matched relation is :  4\n",
            "number of matched relation is :  4\n",
            "number of new pair , candidate pair, train pair:  27 162 1842\n",
            "iteration 11 start.\n"
          ]
        },
        {
          "output_type": "stream",
          "name": "stderr",
          "text": [
            "100%|██████████| 100/100 [00:12<00:00,  7.71it/s]\n"
          ]
        },
        {
          "output_type": "stream",
          "name": "stdout",
          "text": [
            "accurate results: hits@[1, 5, 10] = [ 80.29 100.   100.  ], mr = 1.245, mrr = 0.894, time = 2.539 s \n",
            "50 50\n"
          ]
        },
        {
          "output_type": "display_data",
          "data": {
            "text/plain": [
              "<PIL.Image.Image image mode=RGB size=400x200 at 0x7FCB3D4C9C10>"
            ],
            "image/png": "[encoded data removed]"
          },
          "metadata": {}
        },
        {
          "output_type": "stream",
          "name": "stdout",
          "text": [
            "number of matched relation is :  4\n",
            "number of matched relation is :  4\n",
            "number of matched relation is :  4\n",
            "number of matched relation is :  4\n",
            "number of matched relation is :  4\n",
            "number of new pair , candidate pair, train pair:  21 96 1942\n",
            "iteration 12 start.\n"
          ]
        },
        {
          "output_type": "stream",
          "name": "stderr",
          "text": [
            "100%|██████████| 100/100 [00:12<00:00,  7.86it/s]\n"
          ]
        },
        {
          "output_type": "stream",
          "name": "stdout",
          "text": [
            "accurate results: hits@[1, 5, 10] = [ 81.25 100.   100.  ], mr = 1.231, mrr = 0.899, time = 2.536 s \n",
            "50 50\n"
          ]
        },
        {
          "output_type": "display_data",
          "data": {
            "text/plain": [
              "<PIL.Image.Image image mode=RGB size=400x200 at 0x7FCB3D2AAC90>"
            ],
            "image/png": "[encoded data removed]"
          },
          "metadata": {}
        },
        {
          "output_type": "stream",
          "name": "stdout",
          "text": [
            "number of matched relation is :  4\n",
            "number of matched relation is :  4\n",
            "number of matched relation is :  4\n",
            "number of matched relation is :  4\n",
            "number of matched relation is :  4\n",
            "number of new pair , candidate pair, train pair:  3 30 2038\n",
            "iteration 13 start.\n"
          ]
        },
        {
          "output_type": "stream",
          "name": "stderr",
          "text": [
            "100%|██████████| 100/100 [00:12<00:00,  7.85it/s]\n"
          ]
        },
        {
          "output_type": "stream",
          "name": "stdout",
          "text": [
            "accurate results: hits@[1, 5, 10] = [ 81.59 100.   100.  ], mr = 1.219, mrr = 0.903, time = 2.552 s \n",
            "50 50\n"
          ]
        },
        {
          "output_type": "display_data",
          "data": {
            "text/plain": [
              "<PIL.Image.Image image mode=RGB size=400x200 at 0x7FCB3D2E3AD0>"
            ],
            "image/png": "[encoded data removed]"
          },
          "metadata": {}
        },
        {
          "output_type": "error",
          "ename": "ValueError",
          "evalue": "ignored",
          "traceback": [
            "\u001b[0;31m---------------------------------------------------------------------------\u001b[0m",
            "\u001b[0;31mRemoteTraceback\u001b[0m                           Traceback (most recent call last)",
            "\u001b[0;31mRemoteTraceback\u001b[0m: \n\"\"\"\nTraceback (most recent call last):\n  File \"/usr/lib/python3.7/multiprocessing/pool.py\", line 121, in worker\n    result = (True, func(*args, **kwds))\n  File \"/content/RREA/CIKM/CSLS.py\", line 238, in cal_csls_sim\n    sorted_mat = -np.partition(-sim_mat, k + 1, axis=1)  # -np.sort(-sim_mat1)\n  File \"<__array_function__ internals>\", line 6, in partition\n  File \"/usr/local/lib/python3.7/dist-packages/numpy/core/fromnumeric.py\", line 755, in partition\n    a.partition(kth, axis=axis, kind=kind, order=order)\nValueError: kth(=11) out of bounds (11)\n\"\"\"",
            "\nThe above exception was the direct cause of the following exception:\n",
            "\u001b[0;31mValueError\u001b[0m                                Traceback (most recent call last)",
            "\u001b[0;32m<ipython-input-193-7b040282724d>\u001b[0m in \u001b[0;36m<module>\u001b[0;34m()\u001b[0m\n\u001b[1;32m     50\u001b[0m     \u001b[0mLvec\u001b[0m \u001b[0;34m=\u001b[0m \u001b[0mLvec\u001b[0m \u001b[0;34m/\u001b[0m \u001b[0mnp\u001b[0m\u001b[0;34m.\u001b[0m\u001b[0mlinalg\u001b[0m\u001b[0;34m.\u001b[0m\u001b[0mnorm\u001b[0m\u001b[0;34m(\u001b[0m\u001b[0mLvec\u001b[0m\u001b[0;34m,\u001b[0m\u001b[0maxis\u001b[0m\u001b[0;34m=\u001b[0m\u001b[0;34m-\u001b[0m\u001b[0;36m1\u001b[0m\u001b[0;34m,\u001b[0m\u001b[0mkeepdims\u001b[0m\u001b[0;34m=\u001b[0m\u001b[0;32mTrue\u001b[0m\u001b[0;34m)\u001b[0m\u001b[0;34m\u001b[0m\u001b[0;34m\u001b[0m\u001b[0m\n\u001b[1;32m     51\u001b[0m     \u001b[0mRvec\u001b[0m \u001b[0;34m=\u001b[0m \u001b[0mRvec\u001b[0m \u001b[0;34m/\u001b[0m \u001b[0mnp\u001b[0m\u001b[0;34m.\u001b[0m\u001b[0mlinalg\u001b[0m\u001b[0;34m.\u001b[0m\u001b[0mnorm\u001b[0m\u001b[0;34m(\u001b[0m\u001b[0mRvec\u001b[0m\u001b[0;34m,\u001b[0m\u001b[0maxis\u001b[0m\u001b[0;34m=\u001b[0m\u001b[0;34m-\u001b[0m\u001b[0;36m1\u001b[0m\u001b[0;34m,\u001b[0m\u001b[0mkeepdims\u001b[0m\u001b[0;34m=\u001b[0m\u001b[0;32mTrue\u001b[0m\u001b[0;34m)\u001b[0m\u001b[0;34m\u001b[0m\u001b[0;34m\u001b[0m\u001b[0m\n\u001b[0;32m---> 52\u001b[0;31m     \u001b[0mA\u001b[0m\u001b[0;34m,\u001b[0m\u001b[0m_\u001b[0m\u001b[0;34m,\u001b[0m\u001b[0m_\u001b[0m \u001b[0;34m=\u001b[0m \u001b[0meval_alignment_by_sim_mat\u001b[0m\u001b[0;34m(\u001b[0m\u001b[0mLvec\u001b[0m\u001b[0;34m,\u001b[0m \u001b[0mRvec\u001b[0m\u001b[0;34m,\u001b[0m \u001b[0;34m[\u001b[0m\u001b[0;36m1\u001b[0m\u001b[0;34m,\u001b[0m \u001b[0;36m5\u001b[0m\u001b[0;34m,\u001b[0m \u001b[0;36m10\u001b[0m\u001b[0;34m]\u001b[0m\u001b[0;34m,\u001b[0m \u001b[0;36m16\u001b[0m\u001b[0;34m,\u001b[0m\u001b[0;36m10\u001b[0m\u001b[0;34m,\u001b[0m\u001b[0;32mTrue\u001b[0m\u001b[0;34m,\u001b[0m\u001b[0;32mFalse\u001b[0m\u001b[0;34m)\u001b[0m\u001b[0;34m\u001b[0m\u001b[0;34m\u001b[0m\u001b[0m\n\u001b[0m\u001b[1;32m     53\u001b[0m     \u001b[0mB\u001b[0m\u001b[0;34m,\u001b[0m\u001b[0m_\u001b[0m\u001b[0;34m,\u001b[0m\u001b[0m_\u001b[0m \u001b[0;34m=\u001b[0m \u001b[0meval_alignment_by_sim_mat\u001b[0m\u001b[0;34m(\u001b[0m\u001b[0mRvec\u001b[0m\u001b[0;34m,\u001b[0m \u001b[0mLvec\u001b[0m\u001b[0;34m,\u001b[0m\u001b[0;34m[\u001b[0m\u001b[0;36m1\u001b[0m\u001b[0;34m,\u001b[0m \u001b[0;36m5\u001b[0m\u001b[0;34m,\u001b[0m \u001b[0;36m10\u001b[0m\u001b[0;34m]\u001b[0m\u001b[0;34m,\u001b[0m \u001b[0;36m16\u001b[0m\u001b[0;34m,\u001b[0m\u001b[0;36m10\u001b[0m\u001b[0;34m,\u001b[0m\u001b[0;32mTrue\u001b[0m\u001b[0;34m,\u001b[0m\u001b[0;32mFalse\u001b[0m\u001b[0;34m)\u001b[0m\u001b[0;34m\u001b[0m\u001b[0;34m\u001b[0m\u001b[0m\n\u001b[1;32m     54\u001b[0m     \u001b[0mA\u001b[0m \u001b[0;34m=\u001b[0m \u001b[0msorted\u001b[0m\u001b[0;34m(\u001b[0m\u001b[0mlist\u001b[0m\u001b[0;34m(\u001b[0m\u001b[0mA\u001b[0m\u001b[0;34m)\u001b[0m\u001b[0;34m)\u001b[0m\u001b[0;34m;\u001b[0m \u001b[0mB\u001b[0m \u001b[0;34m=\u001b[0m \u001b[0msorted\u001b[0m\u001b[0;34m(\u001b[0m\u001b[0mlist\u001b[0m\u001b[0;34m(\u001b[0m\u001b[0mB\u001b[0m\u001b[0;34m)\u001b[0m\u001b[0;34m)\u001b[0m\u001b[0;34m\u001b[0m\u001b[0;34m\u001b[0m\u001b[0m\n",
            "\u001b[0;32m/content/RREA/CIKM/CSLS.py\u001b[0m in \u001b[0;36meval_alignment_by_sim_mat\u001b[0;34m(embed1, embed2, top_k, nums_threads, csls, accurate, output)\u001b[0m\n\u001b[1;32m     52\u001b[0m \u001b[0;32mdef\u001b[0m \u001b[0meval_alignment_by_sim_mat\u001b[0m\u001b[0;34m(\u001b[0m\u001b[0membed1\u001b[0m\u001b[0;34m,\u001b[0m\u001b[0membed2\u001b[0m\u001b[0;34m,\u001b[0m \u001b[0mtop_k\u001b[0m\u001b[0;34m,\u001b[0m \u001b[0mnums_threads\u001b[0m\u001b[0;34m,\u001b[0m \u001b[0mcsls\u001b[0m\u001b[0;34m=\u001b[0m\u001b[0;36m0\u001b[0m\u001b[0;34m,\u001b[0m \u001b[0maccurate\u001b[0m\u001b[0;34m=\u001b[0m\u001b[0;32mFalse\u001b[0m\u001b[0;34m,\u001b[0m\u001b[0moutput\u001b[0m \u001b[0;34m=\u001b[0m \u001b[0;32mTrue\u001b[0m\u001b[0;34m)\u001b[0m\u001b[0;34m:\u001b[0m\u001b[0;34m\u001b[0m\u001b[0;34m\u001b[0m\u001b[0m\n\u001b[1;32m     53\u001b[0m     \u001b[0mt\u001b[0m \u001b[0;34m=\u001b[0m \u001b[0mtime\u001b[0m\u001b[0;34m.\u001b[0m\u001b[0mtime\u001b[0m\u001b[0;34m(\u001b[0m\u001b[0;34m)\u001b[0m\u001b[0;34m\u001b[0m\u001b[0;34m\u001b[0m\u001b[0m\n\u001b[0;32m---> 54\u001b[0;31m     \u001b[0msim_mat\u001b[0m \u001b[0;34m=\u001b[0m \u001b[0msim_handler\u001b[0m\u001b[0;34m(\u001b[0m\u001b[0membed1\u001b[0m\u001b[0;34m,\u001b[0m \u001b[0membed2\u001b[0m\u001b[0;34m,\u001b[0m \u001b[0mcsls\u001b[0m\u001b[0;34m,\u001b[0m \u001b[0mnums_threads\u001b[0m\u001b[0;34m)\u001b[0m\u001b[0;34m\u001b[0m\u001b[0;34m\u001b[0m\u001b[0m\n\u001b[0m\u001b[1;32m     55\u001b[0m     \u001b[0;32mreturn\u001b[0m \u001b[0meval_alignment_by_sim_mat_\u001b[0m\u001b[0;34m(\u001b[0m\u001b[0msim_mat\u001b[0m\u001b[0;34m,\u001b[0m \u001b[0mtop_k\u001b[0m\u001b[0;34m,\u001b[0m \u001b[0mnums_threads\u001b[0m\u001b[0;34m,\u001b[0m\u001b[0mt\u001b[0m \u001b[0;34m,\u001b[0m \u001b[0mcsls\u001b[0m\u001b[0;34m,\u001b[0m \u001b[0maccurate\u001b[0m\u001b[0;34m,\u001b[0m\u001b[0moutput\u001b[0m\u001b[0;34m)\u001b[0m\u001b[0;34m\u001b[0m\u001b[0;34m\u001b[0m\u001b[0m\n\u001b[1;32m     56\u001b[0m \u001b[0;34m\u001b[0m\u001b[0m\n",
            "\u001b[0;32m/content/RREA/CIKM/CSLS.py\u001b[0m in \u001b[0;36msim_handler\u001b[0;34m(embed1, embed2, k, nums_threads)\u001b[0m\n\u001b[1;32m    270\u001b[0m         \u001b[0mprint\u001b[0m\u001b[0;34m(\u001b[0m\u001b[0;34m\"k = 0\"\u001b[0m\u001b[0;34m)\u001b[0m\u001b[0;34m\u001b[0m\u001b[0;34m\u001b[0m\u001b[0m\n\u001b[1;32m    271\u001b[0m         \u001b[0;32mreturn\u001b[0m \u001b[0msim_mat\u001b[0m\u001b[0;34m\u001b[0m\u001b[0;34m\u001b[0m\u001b[0m\n\u001b[0;32m--> 272\u001b[0;31m     \u001b[0mcsls1\u001b[0m \u001b[0;34m=\u001b[0m \u001b[0mCSLS_sim\u001b[0m\u001b[0;34m(\u001b[0m\u001b[0msim_mat\u001b[0m\u001b[0;34m,\u001b[0m \u001b[0mk\u001b[0m\u001b[0;34m,\u001b[0m \u001b[0mnums_threads\u001b[0m\u001b[0;34m)\u001b[0m\u001b[0;34m\u001b[0m\u001b[0;34m\u001b[0m\u001b[0m\n\u001b[0m\u001b[1;32m    273\u001b[0m     \u001b[0mcsls2\u001b[0m \u001b[0;34m=\u001b[0m \u001b[0mCSLS_sim\u001b[0m\u001b[0;34m(\u001b[0m\u001b[0msim_mat\u001b[0m\u001b[0;34m.\u001b[0m\u001b[0mT\u001b[0m\u001b[0;34m,\u001b[0m \u001b[0mk\u001b[0m\u001b[0;34m,\u001b[0m \u001b[0mnums_threads\u001b[0m\u001b[0;34m)\u001b[0m\u001b[0;34m\u001b[0m\u001b[0;34m\u001b[0m\u001b[0m\n\u001b[1;32m    274\u001b[0m     \u001b[0;31m# for i in range(sim_mat.shape[0]):\u001b[0m\u001b[0;34m\u001b[0m\u001b[0;34m\u001b[0m\u001b[0;34m\u001b[0m\u001b[0m\n",
            "\u001b[0;32m/content/RREA/CIKM/CSLS.py\u001b[0m in \u001b[0;36mCSLS_sim\u001b[0;34m(sim_mat1, k, nums_threads)\u001b[0m\n\u001b[1;32m    256\u001b[0m     \u001b[0msim_values\u001b[0m \u001b[0;34m=\u001b[0m \u001b[0;32mNone\u001b[0m\u001b[0;34m\u001b[0m\u001b[0;34m\u001b[0m\u001b[0m\n\u001b[1;32m    257\u001b[0m     \u001b[0;32mfor\u001b[0m \u001b[0mres\u001b[0m \u001b[0;32min\u001b[0m \u001b[0mreses\u001b[0m\u001b[0;34m:\u001b[0m\u001b[0;34m\u001b[0m\u001b[0;34m\u001b[0m\u001b[0m\n\u001b[0;32m--> 258\u001b[0;31m         \u001b[0mval\u001b[0m \u001b[0;34m=\u001b[0m \u001b[0mres\u001b[0m\u001b[0;34m.\u001b[0m\u001b[0mget\u001b[0m\u001b[0;34m(\u001b[0m\u001b[0;34m)\u001b[0m\u001b[0;34m\u001b[0m\u001b[0;34m\u001b[0m\u001b[0m\n\u001b[0m\u001b[1;32m    259\u001b[0m         \u001b[0;32mif\u001b[0m \u001b[0msim_values\u001b[0m \u001b[0;32mis\u001b[0m \u001b[0;32mNone\u001b[0m\u001b[0;34m:\u001b[0m\u001b[0;34m\u001b[0m\u001b[0;34m\u001b[0m\u001b[0m\n\u001b[1;32m    260\u001b[0m             \u001b[0msim_values\u001b[0m \u001b[0;34m=\u001b[0m \u001b[0mval\u001b[0m\u001b[0;34m\u001b[0m\u001b[0;34m\u001b[0m\u001b[0m\n",
            "\u001b[0;32m/usr/lib/python3.7/multiprocessing/pool.py\u001b[0m in \u001b[0;36mget\u001b[0;34m(self, timeout)\u001b[0m\n\u001b[1;32m    655\u001b[0m             \u001b[0;32mreturn\u001b[0m \u001b[0mself\u001b[0m\u001b[0;34m.\u001b[0m\u001b[0m_value\u001b[0m\u001b[0;34m\u001b[0m\u001b[0;34m\u001b[0m\u001b[0m\n\u001b[1;32m    656\u001b[0m         \u001b[0;32melse\u001b[0m\u001b[0;34m:\u001b[0m\u001b[0;34m\u001b[0m\u001b[0;34m\u001b[0m\u001b[0m\n\u001b[0;32m--> 657\u001b[0;31m             \u001b[0;32mraise\u001b[0m \u001b[0mself\u001b[0m\u001b[0;34m.\u001b[0m\u001b[0m_value\u001b[0m\u001b[0;34m\u001b[0m\u001b[0;34m\u001b[0m\u001b[0m\n\u001b[0m\u001b[1;32m    658\u001b[0m \u001b[0;34m\u001b[0m\u001b[0m\n\u001b[1;32m    659\u001b[0m     \u001b[0;32mdef\u001b[0m \u001b[0m_set\u001b[0m\u001b[0;34m(\u001b[0m\u001b[0mself\u001b[0m\u001b[0;34m,\u001b[0m \u001b[0mi\u001b[0m\u001b[0;34m,\u001b[0m \u001b[0mobj\u001b[0m\u001b[0;34m)\u001b[0m\u001b[0;34m:\u001b[0m\u001b[0;34m\u001b[0m\u001b[0;34m\u001b[0m\u001b[0m\n",
            "\u001b[0;32m/usr/lib/python3.7/multiprocessing/pool.py\u001b[0m in \u001b[0;36mworker\u001b[0;34m()\u001b[0m\n\u001b[1;32m    119\u001b[0m         \u001b[0mjob\u001b[0m\u001b[0;34m,\u001b[0m \u001b[0mi\u001b[0m\u001b[0;34m,\u001b[0m \u001b[0mfunc\u001b[0m\u001b[0;34m,\u001b[0m \u001b[0margs\u001b[0m\u001b[0;34m,\u001b[0m \u001b[0mkwds\u001b[0m \u001b[0;34m=\u001b[0m \u001b[0mtask\u001b[0m\u001b[0;34m\u001b[0m\u001b[0;34m\u001b[0m\u001b[0m\n\u001b[1;32m    120\u001b[0m         \u001b[0;32mtry\u001b[0m\u001b[0;34m:\u001b[0m\u001b[0;34m\u001b[0m\u001b[0;34m\u001b[0m\u001b[0m\n\u001b[0;32m--> 121\u001b[0;31m             \u001b[0mresult\u001b[0m \u001b[0;34m=\u001b[0m \u001b[0;34m(\u001b[0m\u001b[0;32mTrue\u001b[0m\u001b[0;34m,\u001b[0m \u001b[0mfunc\u001b[0m\u001b[0;34m(\u001b[0m\u001b[0;34m*\u001b[0m\u001b[0margs\u001b[0m\u001b[0;34m,\u001b[0m \u001b[0;34m**\u001b[0m\u001b[0mkwds\u001b[0m\u001b[0;34m)\u001b[0m\u001b[0;34m)\u001b[0m\u001b[0;34m\u001b[0m\u001b[0;34m\u001b[0m\u001b[0m\n\u001b[0m\u001b[1;32m    122\u001b[0m         \u001b[0;32mexcept\u001b[0m \u001b[0mException\u001b[0m \u001b[0;32mas\u001b[0m \u001b[0me\u001b[0m\u001b[0;34m:\u001b[0m\u001b[0;34m\u001b[0m\u001b[0;34m\u001b[0m\u001b[0m\n\u001b[1;32m    123\u001b[0m             \u001b[0;32mif\u001b[0m \u001b[0mwrap_exception\u001b[0m \u001b[0;32mand\u001b[0m \u001b[0mfunc\u001b[0m \u001b[0;32mis\u001b[0m \u001b[0;32mnot\u001b[0m \u001b[0m_helper_reraises_exception\u001b[0m\u001b[0;34m:\u001b[0m\u001b[0;34m\u001b[0m\u001b[0;34m\u001b[0m\u001b[0m\n",
            "\u001b[0;32m/content/RREA/CIKM/CSLS.py\u001b[0m in \u001b[0;36mcal_csls_sim\u001b[0;34m()\u001b[0m\n\u001b[1;32m    236\u001b[0m \u001b[0;34m\u001b[0m\u001b[0m\n\u001b[1;32m    237\u001b[0m \u001b[0;32mdef\u001b[0m \u001b[0mcal_csls_sim\u001b[0m\u001b[0;34m(\u001b[0m\u001b[0msim_mat\u001b[0m\u001b[0;34m,\u001b[0m \u001b[0mk\u001b[0m\u001b[0;34m)\u001b[0m\u001b[0;34m:\u001b[0m\u001b[0;34m\u001b[0m\u001b[0;34m\u001b[0m\u001b[0m\n\u001b[0;32m--> 238\u001b[0;31m     \u001b[0msorted_mat\u001b[0m \u001b[0;34m=\u001b[0m \u001b[0;34m-\u001b[0m\u001b[0mnp\u001b[0m\u001b[0;34m.\u001b[0m\u001b[0mpartition\u001b[0m\u001b[0;34m(\u001b[0m\u001b[0;34m-\u001b[0m\u001b[0msim_mat\u001b[0m\u001b[0;34m,\u001b[0m \u001b[0mk\u001b[0m \u001b[0;34m+\u001b[0m \u001b[0;36m1\u001b[0m\u001b[0;34m,\u001b[0m \u001b[0maxis\u001b[0m\u001b[0;34m=\u001b[0m\u001b[0;36m1\u001b[0m\u001b[0;34m)\u001b[0m  \u001b[0;31m# -np.sort(-sim_mat1)\u001b[0m\u001b[0;34m\u001b[0m\u001b[0;34m\u001b[0m\u001b[0m\n\u001b[0m\u001b[1;32m    239\u001b[0m     \u001b[0mnearest_k\u001b[0m \u001b[0;34m=\u001b[0m \u001b[0msorted_mat\u001b[0m\u001b[0;34m[\u001b[0m\u001b[0;34m:\u001b[0m\u001b[0;34m,\u001b[0m \u001b[0;36m0\u001b[0m\u001b[0;34m:\u001b[0m\u001b[0mk\u001b[0m\u001b[0;34m]\u001b[0m\u001b[0;34m\u001b[0m\u001b[0;34m\u001b[0m\u001b[0m\n\u001b[1;32m    240\u001b[0m     \u001b[0msim_values\u001b[0m \u001b[0;34m=\u001b[0m \u001b[0mnp\u001b[0m\u001b[0;34m.\u001b[0m\u001b[0mmean\u001b[0m\u001b[0;34m(\u001b[0m\u001b[0mnearest_k\u001b[0m\u001b[0;34m,\u001b[0m \u001b[0maxis\u001b[0m\u001b[0;34m=\u001b[0m\u001b[0;36m1\u001b[0m\u001b[0;34m)\u001b[0m\u001b[0;34m\u001b[0m\u001b[0;34m\u001b[0m\u001b[0m\n",
            "\u001b[0;32m<__array_function__ internals>\u001b[0m in \u001b[0;36mpartition\u001b[0;34m()\u001b[0m\n",
            "\u001b[0;32m/usr/local/lib/python3.7/dist-packages/numpy/core/fromnumeric.py\u001b[0m in \u001b[0;36mpartition\u001b[0;34m()\u001b[0m\n\u001b[1;32m    753\u001b[0m     \u001b[0;32melse\u001b[0m\u001b[0;34m:\u001b[0m\u001b[0;34m\u001b[0m\u001b[0;34m\u001b[0m\u001b[0m\n\u001b[1;32m    754\u001b[0m         \u001b[0ma\u001b[0m \u001b[0;34m=\u001b[0m \u001b[0masanyarray\u001b[0m\u001b[0;34m(\u001b[0m\u001b[0ma\u001b[0m\u001b[0;34m)\u001b[0m\u001b[0;34m.\u001b[0m\u001b[0mcopy\u001b[0m\u001b[0;34m(\u001b[0m\u001b[0morder\u001b[0m\u001b[0;34m=\u001b[0m\u001b[0;34m\"K\"\u001b[0m\u001b[0;34m)\u001b[0m\u001b[0;34m\u001b[0m\u001b[0;34m\u001b[0m\u001b[0m\n\u001b[0;32m--> 755\u001b[0;31m     \u001b[0ma\u001b[0m\u001b[0;34m.\u001b[0m\u001b[0mpartition\u001b[0m\u001b[0;34m(\u001b[0m\u001b[0mkth\u001b[0m\u001b[0;34m,\u001b[0m \u001b[0maxis\u001b[0m\u001b[0;34m=\u001b[0m\u001b[0maxis\u001b[0m\u001b[0;34m,\u001b[0m \u001b[0mkind\u001b[0m\u001b[0;34m=\u001b[0m\u001b[0mkind\u001b[0m\u001b[0;34m,\u001b[0m \u001b[0morder\u001b[0m\u001b[0;34m=\u001b[0m\u001b[0morder\u001b[0m\u001b[0;34m)\u001b[0m\u001b[0;34m\u001b[0m\u001b[0;34m\u001b[0m\u001b[0m\n\u001b[0m\u001b[1;32m    756\u001b[0m     \u001b[0;32mreturn\u001b[0m \u001b[0ma\u001b[0m\u001b[0;34m\u001b[0m\u001b[0;34m\u001b[0m\u001b[0m\n\u001b[1;32m    757\u001b[0m \u001b[0;34m\u001b[0m\u001b[0m\n",
            "\u001b[0;31mValueError\u001b[0m: kth(=11) out of bounds (11)"
          ]
        }
      ]
    },
    {
      "cell_type": "code",
      "source": [
        "thread_number = 16\n",
        "csls=10\n",
        "accurate = True\n",
        "vec = get_embedding()\n",
        "trest_set_1 = [e1 for e1, e2 in dev_pair]\n",
        "trest_set_2 = [e2 for e1, e2 in dev_pair]\n",
        "Lvec = np.array([vec[e1] for e1, e2 in dev_pair])\n",
        "Rvec = np.array([vec[e2] for e1, e2 in dev_pair])\n",
        "\n",
        "Lvec = Lvec / np.linalg.norm(Lvec,axis=-1,keepdims=True)\n",
        "Rvec = Rvec / np.linalg.norm(Rvec,axis=-1,keepdims=True)\n",
        "\n",
        "# Lvec1 = np.array([rec_deg[e1] for e1, e2 in dev_pair])\n",
        "# Rvec1 = np.array([rec_deg[e2] for e1, e2 in dev_pair])\n",
        "\n",
        "# Lvec1 = 0.5 * Lvec1 / np.linalg.norm(Lvec1,axis=-1,keepdims=True)\n",
        "# Rvec1 = 0.5 * Rvec1 / np.linalg.norm(Rvec1,axis=-1,keepdims=True)\n",
        "\n",
        "# Lvec = np.concatenate([Lvec,Lvec1],axis=-1)\n",
        "# Rvec = np.concatenate([Rvec,Rvec1],axis=-1)\n",
        "\n",
        "# Lvec = Lvec / np.linalg.norm(Lvec,axis=-1,keepdims=True)\n",
        "# Rvec = Rvec / np.linalg.norm(Rvec,axis=-1,keepdims=True)\n",
        "\n",
        "lprec,ldata,AB = eval_alignment_by_sim_mat(Lvec, Rvec, [1, 5, 10], thread_number, csls=csls, accurate=accurate)\n",
        "  "
      ],
      "metadata": {
        "id": "w6JENTnmt4mH"
      },
      "execution_count": null,
      "outputs": []
    },
    {
      "cell_type": "code",
      "source": [
        "s = 0\n",
        "for i in  range(len(dev_pair)):\n",
        "  if(AB[0][i,0] == i):\n",
        "    s+=1 \n",
        "print(s)\n",
        "\n",
        "s = 0\n",
        "res = list(lprec)\n",
        "for i in  range(len(dev_pair)):\n",
        "  if(res[i][0]  == res[i][1]):\n",
        "    s+=1 \n",
        "print(s)"
      ],
      "metadata": {
        "id": "P8SQdeElCV4n",
        "outputId": "76a09705-26e4-4925-ca28-5a4d595bde8a",
        "colab": {
          "base_uri": "https://localhost:8080/"
        }
      },
      "execution_count": 154,
      "outputs": [
        {
          "output_type": "stream",
          "name": "stdout",
          "text": [
            "849\n",
            "840\n"
          ]
        }
      ]
    },
    {
      "cell_type": "code",
      "source": [
        "result[0][0]"
      ],
      "metadata": {
        "id": "CTRYIO3-yAsi",
        "outputId": "fa0a87cd-8d94-4603-d656-137284a04f52",
        "colab": {
          "base_uri": "https://localhost:8080/"
        }
      },
      "execution_count": 57,
      "outputs": [
        {
          "output_type": "execute_result",
          "data": {
            "text/plain": [
              "341"
            ]
          },
          "metadata": {},
          "execution_count": 57
        }
      ]
    },
    {
      "cell_type": "code",
      "source": [
        "s = 0\n",
        "for i in range(len(dev_pair)):\n",
        "  if AB[0][i,0] == i:\n",
        "      s += 1\n",
        "print(s/len(dev_pair))\n",
        "print(len(dev_pair),len(train_pair))\n"
      ],
      "metadata": {
        "id": "iz-n8WXSbtpw",
        "outputId": "cf5994be-b357-4d28-91d6-86ee0c9ad6e1",
        "colab": {
          "base_uri": "https://localhost:8080/"
        }
      },
      "execution_count": 29,
      "outputs": [
        {
          "output_type": "stream",
          "name": "stdout",
          "text": [
            "0.46596491228070175\n",
            "1425 610\n"
          ]
        }
      ]
    },
    {
      "cell_type": "code",
      "source": [
        "def draw(rs):\n",
        "    image = cv2.imread('/content/GCN-Align/data/im_en/img.png')\n",
        "    image1 = cv2.imread('/content/GCN-Align/data/im_en/img1.png')\n",
        "    height,width = image.shape[:2]\n",
        "    def get_pixel(idx):\n",
        "        return (int(idx / width) , idx % width)\n",
        "    print(height,width)\n",
        "    img_last = cv2.hconcat((image, image1))\n",
        "    \n",
        "    for i in range(len(rs)):\n",
        "        i1 = dev_pair[rs[i][0],1]\n",
        "        i2 = dev_pair[rs[i][1],1]\n",
        "\n",
        "        p1 = get_pixel(i1-height*width)\n",
        "        p2 = get_pixel(i2-height*width)\n",
        "        if abs(p1[0]-p2[0]) <= 2 and abs(p1[1]-p2[1])<=2:\n",
        "            if(p1[0]<10):\n",
        "                print(p1,p2,rs[i],i,dev_pair[rs[i][0]],i1,i2)\n",
        "            img_last[p1[0] , p1[1]+width] = np.array([0,0,255])\n",
        "        else:\n",
        "            img_last[p1[0] , p1[1]+width] = np.array([255,255,0])\n",
        "\n",
        "        #print(p1)\n",
        "    img_last = cv2.resize(img_last, (400,200), interpolation = cv2.INTER_AREA)\n",
        "    cv2_imshow(img_last)\n",
        "    plt.show()\n",
        "draw(list(lprec))"
      ],
      "metadata": {
        "id": "w62y_nbzwbLd",
        "outputId": "6ef09117-5bb1-4866-eb0a-73974ee1b1ec",
        "colab": {
          "base_uri": "https://localhost:8080/",
          "height": 1000
        }
      },
      "execution_count": 171,
      "outputs": [
        {
          "output_type": "stream",
          "name": "stdout",
          "text": [
            "50 50\n",
            "(9, 16) (9, 17) (1216, 793) 6 [ 430 2966] 2966 2967\n",
            "(1, 11) (1, 11) (66, 66) 21 [ 646 2561] 2561 2561\n",
            "(4, 28) (4, 28) (729, 729) 38 [ 692 2728] 2728 2728\n",
            "(0, 41) (0, 41) (1000, 1193) 41 [ 289 2541] 2541 2541\n",
            "(0, 41) (0, 39) (1193, 540) 43 [ 239 2541] 2541 2539\n",
            "(0, 24) (0, 24) (13, 13) 66 [  67 2524] 2524 2524\n",
            "(4, 29) (3, 29) (914, 1257) 94 [ 743 2729] 2729 2679\n",
            "(9, 20) (9, 20) (118, 118) 99 [ 583 2970] 2970 2970\n",
            "(1, 18) (1, 18) (1007, 1007) 106 [ 798 2568] 2568 2568\n",
            "(5, 20) (5, 20) (696, 696) 121 [ 435 2770] 2770 2770\n",
            "(5, 27) (4, 27) (1376, 84) 129 [ 691 2777] 2777 2727\n",
            "(0, 29) (0, 31) (318, 892) 134 [  71 2529] 2529 2531\n",
            "(3, 25) (2, 25) (1312, 1349) 135 [ 541 2675] 2675 2625\n",
            "(6, 39) (6, 39) (178, 178) 136 [1148 2839] 2839 2839\n",
            "(1, 9) (1, 9) (164, 164) 155 [ 595 2559] 2559 2559\n",
            "(1, 5) (1, 5) (680, 680) 163 [ 494 2555] 2555 2555\n",
            "(2, 13) (2, 13) (402, 402) 164 [  66 2613] 2613 2613\n",
            "(6, 23) (6, 23) (461, 461) 171 [ 587 2823] 2823 2823\n",
            "(0, 35) (0, 35) (307, 307) 172 [ 187 2535] 2535 2535\n",
            "(2, 32) (2, 32) (204, 204) 176 [ 746 2632] 2632 2632\n",
            "(3, 35) (3, 35) (684, 684) 178 [ 898 2685] 2685 2685\n",
            "(2, 12) (2, 12) (504, 504) 184 [  65 2612] 2612 2612\n",
            "(3, 23) (3, 23) (15, 15) 193 [ 489 2673] 2673 2673\n",
            "(1, 13) (1, 11) (468, 66) 210 [ 647 2563] 2563 2561\n",
            "(8, 34) (8, 35) (1231, 72) 227 [1044 2934] 2934 2935\n",
            "(2, 36) (2, 36) (601, 601) 242 [ 899 2636] 2636 2636\n",
            "(9, 5) (9, 5) (1447, 1447) 245 [  45 2955] 2955 2955\n",
            "(5, 26) (5, 26) (1307, 1307) 249 [ 640 2776] 2776 2776\n",
            "(9, 33) (9, 33) (1443, 1443) 250 [1042 2983] 2983 2983\n",
            "(1, 14) (1, 14) (978, 978) 253 [ 747 2564] 2564 2564\n",
            "(4, 11) (4, 11) (1131, 1131) 263 [  60 2711] 2711 2711\n",
            "(6, 40) (6, 40) (619, 619) 264 [1199 2840] 2840 2840\n",
            "(3, 20) (3, 21) (882, 699) 281 [ 387 2670] 2670 2671\n",
            "(5, 39) (5, 38) (808, 276) 288 [1099 2789] 2789 2788\n",
            "(5, 15) (5, 14) (158, 1030) 291 [ 232 2765] 2765 2764\n",
            "(3, 14) (3, 14) (739, 739) 295 [ 133 2664] 2664 2664\n",
            "(9, 9) (9, 9) (681, 681) 297 [ 175 2959] 2959 2959\n",
            "(2, 29) (2, 29) (872, 872) 301 [ 644 2629] 2629 2629\n",
            "(9, 10) (9, 10) (440, 440) 309 [ 226 2960] 2960 2960\n",
            "(5, 8) (5, 9) (315, 1060) 310 [  55 2758] 2758 2759\n",
            "(5, 35) (5, 35) (709, 709) 315 [ 996 2785] 2785 2785\n",
            "(8, 41) (8, 40) (543, 1194) 326 [1298 2941] 2941 2940\n",
            "(8, 27) (9, 27) (1338, 65) 330 [ 788 2927] 2927 2977\n",
            "(5, 16) (5, 16) (26, 26) 331 [ 283 2766] 2766 2766\n",
            "(0, 31) (0, 31) (892, 29) 340 [  70 2531] 2531 2531\n",
            "(5, 34) (5, 34) (584, 584) 347 [ 945 2784] 2784 2784\n",
            "(8, 11) (9, 10) (1411, 440) 355 [ 227 2911] 2911 2960\n",
            "(0, 43) (0, 43) (1101, 1101) 360 [ 290 2543] 2543 2543\n",
            "(4, 32) (4, 32) (1028, 1028) 377 [ 845 2732] 2732 2732\n",
            "(1, 5) (1, 4) (411, 711) 379 [ 544 2555] 2555 2554\n",
            "(8, 12) (8, 12) (607, 607) 394 [ 278 2912] 2912 2912\n",
            "(6, 20) (6, 20) (1441, 1441) 396 [ 485 2820] 2820 2820\n",
            "(3, 12) (2, 12) (481, 504) 397 [  64 2662] 2662 2612\n",
            "(6, 37) (6, 37) (58, 58) 400 [1097 2837] 2837 2837\n",
            "(7, 22) (9, 23) (364, 473) 441 [ 586 2872] 2872 2973\n",
            "(5, 9) (5, 9) (1060, 1060) 445 [  57 2759] 2759 2759\n",
            "(5, 28) (5, 28) (1250, 1250) 448 [ 741 2778] 2778 2778\n",
            "(2, 30) (2, 30) (499, 499) 456 [ 695 2630] 2630 2630\n",
            "(3, 10) (3, 10) (633, 633) 458 [  61 2660] 2660 2660\n",
            "(7, 39) (7, 39) (903, 903) 459 [1198 2889] 2889 2889\n",
            "(7, 32) (7, 32) (1145, 1145) 460 [ 943 2882] 2882 2882\n",
            "(9, 17) (9, 17) (793, 793) 476 [ 481 2967] 2967 2967\n",
            "(0, 42) (0, 42) (1255, 1255) 477 [ 339 2542] 2542 2542\n",
            "(2, 22) (2, 22) (1243, 1243) 483 [ 389 2622] 2622 2622\n",
            "(5, 33) (5, 33) (617, 617) 486 [ 895 2783] 2783 2783\n",
            "(8, 10) (9, 10) (128, 440) 500 [ 176 2910] 2910 2960\n",
            "(8, 37) (8, 37) (138, 1152) 513 [1145 2937] 2937 2937\n",
            "(5, 22) (4, 22) (695, 934) 515 [ 487 2772] 2772 2722\n",
            "(6, 17) (7, 18) (1080, 1064) 519 [ 383 2817] 2817 2868\n",
            "(5, 12) (6, 13) (1246, 937) 523 [ 180 2762] 2762 2813\n",
            "(3, 34) (3, 35) (595, 684) 525 [ 897 2684] 2684 2685\n",
            "(8, 6) (8, 7) (915, 470) 527 [  49 2906] 2906 2907\n",
            "(9, 39) (8, 38) (1390, 640) 534 [1246 2989] 2989 2938\n",
            "(5, 29) (5, 29) (232, 332) 546 [ 792 2779] 2779 2779\n",
            "(5, 14) (5, 14) (1030, 1030) 547 [ 231 2764] 2764 2764\n",
            "(3, 15) (4, 14) (391, 444) 554 [ 183 2665] 2665 2714\n",
            "(0, 31) (0, 31) (29, 892) 555 [  72 2531] 2531 2531\n",
            "(5, 30) (5, 30) (259, 259) 556 [ 793 2780] 2780 2780\n",
            "(8, 21) (8, 21) (463, 463) 569 [ 584 2921] 2921 2921\n",
            "(7, 8) (6, 8) (1340, 542) 574 [  52 2858] 2858 2808\n",
            "(0, 27) (0, 29) (900, 318) 581 [  69 2527] 2527 2529\n",
            "(4, 38) (4, 38) (1130, 1130) 584 [1049 2738] 2738 2738\n",
            "(1, 12) (1, 13) (679, 468) 603 [ 696 2562] 2562 2563\n",
            "(4, 18) (4, 18) (1035, 1035) 606 [ 335 2718] 2718 2718\n",
            "(5, 38) (5, 38) (276, 276) 611 [1098 2788] 2788 2788\n",
            "(5, 18) (6, 19) (539, 953) 612 [ 384 2768] 2768 2819\n",
            "(5, 29) (5, 29) (332, 232) 616 [ 742 2779] 2779 2779\n",
            "(3, 32) (3, 32) (1343, 8) 627 [ 795 2682] 2682 2682\n",
            "(0, 39) (0, 39) (540, 540) 636 [ 238 2539] 2539 2539\n",
            "(5, 10) (5, 10) (649, 649) 639 [  56 2760] 2760 2760\n",
            "(6, 8) (6, 8) (542, 542) 646 [  53 2808] 2808 2808\n",
            "(7, 35) (7, 35) (593, 593) 651 [1045 2885] 2885 2885\n",
            "(7, 11) (7, 11) (927, 927) 652 [ 178 2861] 2861 2861\n",
            "(7, 10) (7, 10) (189, 189) 665 [ 127 2860] 2860 2860\n",
            "(8, 27) (8, 27) (369, 369) 672 [ 789 2927] 2927 2927\n",
            "(9, 6) (9, 6) (1094, 1094) 695 [  46 2956] 2956 2956\n",
            "(5, 10) (4, 10) (1248, 1146) 710 [  58 2760] 2760 2710\n",
            "(9, 27) (9, 27) (65, 65) 717 [ 838 2977] 2977 2977\n",
            "(8, 35) (8, 35) (72, 72) 731 [1094 2935] 2935 2935\n",
            "(7, 18) (7, 18) (1064, 1064) 733 [ 433 2868] 2868 2868\n",
            "(3, 37) (3, 37) (274, 274) 734 [ 999 2687] 2687 2687\n",
            "(7, 37) (7, 37) (1184, 1184) 739 [1096 2887] 2887 2887\n",
            "(7, 25) (7, 25) (134, 134) 744 [ 688 2875] 2875 2875\n",
            "(7, 41) (7, 41) (790, 790) 768 [1249 2891] 2891 2891\n",
            "(8, 41) (7, 41) (1282, 790) 782 [1299 2941] 2941 2891\n",
            "(1, 15) (1, 17) (102, 1187) 791 [ 698 2565] 2565 2567\n",
            "(3, 17) (4, 17) (292, 225) 794 [ 285 2667] 2667 2717\n",
            "(8, 18) (8, 18) (166, 166) 796 [ 482 2918] 2918 2918\n",
            "(1, 19) (1, 18) (1367, 1007) 800 [ 799 2569] 2569 2568\n",
            "(0, 30) (0, 31) (132, 892) 803 [ 135 2530] 2530 2531\n",
            "(8, 7) (8, 7) (470, 470) 806 [  48 2907] 2907 2907\n",
            "(4, 34) (4, 34) (738, 738) 812 [ 896 2734] 2734 2734\n",
            "(3, 34) (3, 34) (492, 595) 820 [ 847 2684] 2684 2684\n",
            "(6, 19) (6, 19) (953, 953) 821 [ 434 2819] 2819 2819\n",
            "(1, 17) (1, 19) (1187, 1367) 824 [ 748 2567] 2567 2569\n",
            "(7, 15) (6, 16) (243, 636) 831 [ 331 2865] 2865 2816\n",
            "(8, 5) (8, 6) (893, 915) 839 [  47 2905] 2905 2906\n",
            "(6, 13) (6, 13) (937, 937) 842 [ 230 2813] 2813 2813\n",
            "(7, 31) (7, 31) (1449, 1449) 844 [ 892 2881] 2881 2881\n",
            "(5, 37) (5, 37) (578, 814) 846 [1048 2787] 2787 2787\n",
            "(3, 37) (2, 36) (1065, 601) 851 [ 949 2687] 2687 2636\n",
            "(9, 22) (9, 22) (326, 326) 856 [ 634 2972] 2972 2972\n",
            "(4, 31) (4, 31) (877, 877) 857 [ 794 2731] 2731 2731\n",
            "(9, 41) (9, 41) (1389, 1389) 862 [1348 2991] 2991 2991\n",
            "(6, 25) (6, 25) (705, 705) 879 [ 638 2825] 2825 2825\n",
            "(9, 40) (9, 40) (176, 176) 884 [1297 2990] 2990 2990\n",
            "(1, 20) (1, 20) (202, 202) 893 [ 849 2570] 2570 2570\n",
            "(8, 40) (8, 40) (1194, 1194) 897 [1248 2940] 2940 2940\n",
            "(6, 36) (6, 36) (1195, 1195) 919 [1046 2836] 2836 2836\n",
            "(9, 43) (9, 43) (455, 455) 923 [1399 2993] 2993 2993\n",
            "(8, 36) (8, 36) (1196, 1196) 927 [1095 2936] 2936 2936\n",
            "(8, 19) (8, 19) (61, 61) 933 [ 483 2919] 2919 2919\n",
            "(3, 16) (3, 16) (49, 49) 936 [ 234 2666] 2666 2666\n",
            "(1, 7) (1, 7) (817, 817) 938 [ 545 2557] 2557 2557\n",
            "(3, 12) (4, 12) (119, 240) 941 [  62 2662] 2662 2712\n",
            "(3, 28) (3, 28) (233, 233) 949 [ 643 2678] 2678 2678\n",
            "(8, 31) (8, 31) (264, 264) 951 [ 941 2931] 2931 2931\n",
            "(3, 21) (3, 20) (699, 971) 953 [ 388 2671] 2671 2670\n",
            "(3, 27) (3, 27) (237, 237) 960 [ 642 2677] 2677 2677\n",
            "(9, 15) (9, 15) (715, 715) 962 [ 379 2965] 2965 2965\n",
            "(9, 25) (9, 25) (787, 787) 963 [ 736 2975] 2975 2975\n",
            "(8, 34) (9, 33) (1278, 1443) 966 [1043 2934] 2934 2983\n",
            "(2, 26) (2, 26) (901, 901) 968 [ 542 2626] 2626 2626\n",
            "(9, 29) (9, 29) (550, 550) 978 [ 889 2979] 2979 2979\n",
            "(4, 35) (4, 35) (89, 89) 981 [ 947 2735] 2735 2735\n",
            "(3, 24) (3, 24) (1304, 1304) 986 [ 490 2674] 2674 2674\n",
            "(8, 38) (9, 37) (640, 182) 1020 [1196 2938] 2938 2987\n",
            "(5, 37) (6, 37) (814, 58) 1026 [1047 2787] 2787 2837\n",
            "(7, 21) (7, 21) (582, 582) 1045 [ 535 2871] 2871 2871\n",
            "(7, 34) (7, 34) (336, 336) 1088 [ 994 2884] 2884 2884\n",
            "(5, 23) (5, 23) (692, 692) 1096 [ 538 2773] 2773 2773\n",
            "(4, 25) (4, 25) (1166, 1166) 1107 [ 590 2725] 2725 2725\n",
            "(4, 17) (5, 17) (225, 70) 1136 [ 284 2717] 2717 2767\n",
            "(1, 6) (1, 6) (190, 190) 1138 [ 594 2556] 2556 2556\n",
            "(1, 15) (1, 15) (1366, 102) 1143 [ 697 2565] 2565 2565\n",
            "(5, 25) (5, 25) (807, 807) 1146 [ 639 2775] 2775 2775\n",
            "(9, 37) (9, 37) (182, 182) 1152 [1195 2987] 2987 2987\n",
            "(9, 30) (9, 30) (759, 759) 1155 [ 940 2980] 2980 2980\n",
            "(5, 32) (5, 32) (850, 850) 1157 [ 844 2782] 2782 2782\n",
            "(3, 13) (3, 12) (581, 119) 1160 [ 132 2663] 2663 2662\n",
            "(5, 32) (5, 32) (627, 627) 1166 [ 894 2782] 2782 2782\n",
            "(8, 25) (7, 25) (1260, 134) 1174 [ 687 2925] 2925 2875\n",
            "(6, 16) (6, 16) (636, 636) 1182 [ 332 2816] 2816 2816\n",
            "(8, 9) (8, 9) (113, 113) 1189 [ 126 2909] 2909 2909\n",
            "(8, 28) (9, 29) (1380, 550) 1194 [ 839 2928] 2928 2979\n",
            "(6, 10) (7, 10) (964, 189) 1210 [ 128 2810] 2810 2860\n",
            "(8, 15) (9, 15) (1430, 715) 1220 [ 380 2915] 2915 2965\n",
            "(8, 25) (9, 25) (412, 787) 1222 [ 737 2925] 2925 2975\n",
            "(2, 25) (2, 25) (1349, 1349) 1223 [ 491 2625] 2625 2625\n",
            "(4, 14) (4, 14) (444, 444) 1225 [ 182 2714] 2714 2714\n",
            "(7, 14) (7, 14) (604, 604) 1237 [ 280 2864] 2864 2864\n",
            "(4, 15) (4, 15) (912, 912) 1253 [ 233 2715] 2715 2715\n",
            "(4, 10) (4, 10) (1146, 1146) 1257 [  59 2710] 2710 2710\n",
            "(8, 8) (8, 8) (205, 205) 1258 [  50 2908] 2908 2908\n",
            "(7, 28) (7, 28) (6, 6) 1260 [ 790 2878] 2878 2878\n",
            "(4, 27) (4, 27) (84, 84) 1262 [ 641 2727] 2727 2727\n",
            "(1, 4) (1, 4) (711, 711) 1265 [ 543 2554] 2554 2554\n",
            "(4, 12) (4, 12) (240, 240) 1282 [ 131 2712] 2712 2712\n",
            "(2, 17) (2, 17) (871, 871) 1284 [ 236 2617] 2617 2617\n",
            "(0, 45) (0, 45) (1032, 1032) 1291 [ 340 2545] 2545 2545\n",
            "(8, 8) (8, 9) (1274, 113) 1292 [ 125 2908] 2908 2909\n",
            "(3, 29) (2, 29) (1257, 872) 1302 [ 694 2679] 2679 2629\n",
            "(3, 20) (3, 21) (971, 699) 1310 [ 337 2670] 2670 2671\n",
            "(8, 20) (8, 20) (286, 1114) 1320 [ 534 2920] 2920 2920\n",
            "(8, 20) (8, 20) (1114, 1114) 1322 [ 533 2920] 2920 2920\n",
            "(9, 23) (9, 23) (473, 473) 1323 [ 685 2973] 2973 2973\n",
            "(5, 39) (6, 39) (214, 178) 1325 [1149 2789] 2789 2839\n",
            "(8, 22) (9, 22) (549, 326) 1334 [ 635 2922] 2922 2972\n",
            "(6, 30) (6, 30) (220, 220) 1335 [ 842 2830] 2830 2830\n",
            "(7, 29) (7, 29) (393, 393) 1337 [ 841 2879] 2879 2879\n",
            "(9, 26) (9, 26) (30, 30) 1342 [ 787 2976] 2976 2976\n",
            "(5, 11) (5, 12) (1327, 1246) 1349 [ 129 2761] 2761 2762\n",
            "(6, 29) (6, 29) (67, 67) 1353 [ 791 2829] 2829 2829\n",
            "(1, 0) (1, 0) (1267, 1267) 1357 [ 492 2550] 2550 2550\n",
            "(5, 22) (5, 23) (1233, 692) 1358 [ 537 2772] 2772 2773\n",
            "(8, 29) (9, 30) (757, 759) 1365 [ 890 2929] 2929 2980\n",
            "(4, 22) (3, 23) (934, 15) 1366 [ 488 2722] 2722 2673\n",
            "(5, 17) (5, 17) (70, 70) 1380 [ 333 2767] 2767 2767\n",
            "(7, 7) (7, 7) (1419, 1419) 1381 [  51 2857] 2857 2857\n",
            "(7, 20) (7, 20) (908, 908) 1382 [ 484 2870] 2870 2870\n",
            "(3, 32) (3, 32) (8, 1343) 1385 [ 796 2682] 2682 2682\n",
            "(8, 37) (8, 37) (1152, 138) 1388 [1146 2937] 2937 2937\n",
            "(8, 17) (8, 18) (701, 166) 1390 [ 432 2917] 2917 2918\n",
            "(9, 19) (9, 19) (196, 196) 1394 [ 532 2969] 2969 2969\n",
            "(2, 27) (2, 27) (34, 34) 1420 [ 593 2627] 2627 2627\n",
            "(6, 34) (6, 34) (478, 478) 1421 [ 995 2834] 2834 2834\n",
            "(0, 47) (0, 47) (1262, 1262) 1423 [ 391 2547] 2547 2547\n",
            "(8, 12) (8, 12) (993, 607) 1424 [ 228 2912] 2912 2912\n",
            "(0, 44) (0, 44) (1067, 1067) 1426 [ 390 2544] 2544 2544\n",
            "(8, 13) (8, 13) (812, 812) 1433 [ 279 2913] 2913 2913\n",
            "(6, 15) (7, 14) (1311, 604) 1437 [ 281 2815] 2815 2864\n",
            "(8, 15) (7, 14) (356, 604) 1445 [ 330 2915] 2915 2864\n"
          ]
        },
        {
          "output_type": "display_data",
          "data": {
            "text/plain": [
              "<PIL.Image.Image image mode=RGB size=400x200 at 0x7FCC5CA33CD0>"
            ],
            "image/png": "[encoded data removed]"
          },
          "metadata": {}
        }
      ]
    },
    {
      "cell_type": "code",
      "source": [
        ""
      ],
      "metadata": {
        "id": "drtb6WmfIn-x"
      },
      "execution_count": null,
      "outputs": []
    },
    {
      "cell_type": "code",
      "source": [
        ""
      ],
      "metadata": {
        "id": "MxUKV-kfEhmn"
      },
      "execution_count": null,
      "outputs": []
    },
    {
      "cell_type": "code",
      "source": [
        "print(list(lprec))"
      ],
      "metadata": {
        "id": "Q99aP0hwBvnY",
        "outputId": "9da066da-fc8c-4dab-9c54-9a67d9f7d366",
        "colab": {
          "base_uri": "https://localhost:8080/"
        }
      },
      "execution_count": 158,
      "outputs": [
        {
          "output_type": "stream",
          "name": "stdout",
          "text": [
            "[(1271, 83), (1020, 1316), (53, 53), (101, 235), (570, 570), (751, 1204), (1216, 793), (756, 756), (1292, 1292), (1314, 717), (1096, 1384), (710, 176), (223, 266), (297, 538), (763, 763), (159, 1042), (891, 891), (1157, 1157), (1279, 346), (1180, 642), (1328, 246), (66, 66), (446, 446), (818, 818), (1330, 1330), (480, 136), (1281, 1281), (1291, 691), (533, 1273), (1256, 899), (218, 218), (346, 346), (678, 678), (735, 1289), (806, 806), (1370, 1370), (167, 167), (14, 77), (729, 729), (857, 857), (962, 608), (1000, 1193), (1191, 1191), (1193, 540), (1319, 1319), (143, 664), (291, 291), (46, 293), (438, 438), (554, 554), (869, 869), (726, 726), (548, 548), (740, 740), (1015, 1015), (1033, 1033), (894, 1276), (79, 295), (210, 210), (338, 338), (686, 686), (1234, 1234), (529, 251), (1362, 1362), (1313, 1117), (329, 109), (13, 13), (115, 115), (149, 149), (141, 942), (277, 277), (875, 875), (1011, 1011), (1037, 1037), (441, 441), (1172, 1141), (337, 963), (642, 187), (564, 731), (952, 1151), (381, 381), (1405, 1405), (940, 1292), (1156, 1156), (386, 1410), (321, 1098), (1154, 1154), (1121, 1185), (112, 112), (384, 384), (556, 704), (724, 351), (537, 537), (157, 1229), (914, 1257), (1269, 211), (853, 302), (995, 995), (1317, 1317), (118, 118), (1142, 1142), (403, 140), (268, 670), (1179, 732), (545, 545), (116, 1083), (1007, 1007), (1041, 1041), (1115, 156), (1238, 771), (1402, 629), (437, 437), (365, 365), (186, 186), (838, 838), (840, 1004), (820, 258), (108, 108), (876, 876), (1210, 1210), (1021, 577), (696, 696), (1208, 1208), (263, 779), (427, 1295), (513, 929), (187, 187), (955, 955), (1093, 1093), (1376, 84), (816, 862), (700, 700), (1212, 1212), (1348, 1348), (318, 892), (1312, 1349), (178, 178), (354, 1442), (1202, 1202), (193, 193), (191, 191), (319, 319), (832, 832), (410, 410), (827, 821), (776, 1398), (495, 518), (920, 920), (1112, 1112), (23, 175), (906, 1149), (714, 714), (822, 822), (1226, 1226), (92, 92), (164, 164), (183, 183), (860, 860), (932, 932), (1386, 1363), (200, 200), (328, 328), (211, 131), (680, 680), (402, 402), (366, 366), (771, 371), (862, 862), (1224, 1224), (1186, 1186), (416, 416), (461, 461), (307, 307), (634, 634), (939, 939), (1092, 1455), (204, 204), (340, 340), (684, 684), (761, 761), (1081, 1081), (1273, 1273), (1287, 1287), (1364, 1364), (504, 504), (475, 1210), (963, 963), (1085, 1085), (117, 609), (1162, 1016), (1010, 1010), (502, 139), (1038, 1038), (15, 15), (572, 1299), (783, 783), (870, 78), (1265, 1265), (1323, 1126), (287, 1181), (496, 496), (512, 512), (1436, 555), (1086, 1443), (1206, 689), (359, 359), (460, 349), (782, 1404), (355, 355), (669, 669), (468, 66), (279, 279), (553, 553), (745, 745), (1242, 1404), (1303, 1303), (488, 488), (1417, 331), (867, 723), (523, 110), (302, 201), (1039, 1134), (1335, 685), (161, 161), (351, 351), (895, 703), (433, 92), (1231, 72), (231, 1451), (1022, 239), (635, 635), (534, 283), (1181, 287), (1160, 510), (1252, 55), (385, 385), (639, 639), (1409, 1409), (422, 422), (602, 602), (1385, 168), (688, 456), (601, 601), (935, 935), (1113, 1113), (1447, 1447), (472, 472), (795, 795), (741, 741), (1307, 1307), (1443, 1443), (390, 1271), (558, 558), (978, 978), (1070, 1070), (1359, 1395), (1105, 1105), (609, 609), (837, 675), (943, 943), (983, 153), (272, 272), (464, 464), (1131, 1131), (619, 619), (653, 653), (672, 884), (736, 736), (755, 755), (917, 917), (1165, 1165), (135, 135), (327, 327), (1289, 290), (888, 888), (1373, 215), (1048, 682), (1173, 1173), (1437, 464), (323, 323), (1347, 1347), (882, 699), (766, 766), (397, 20), (249, 489), (1381, 1279), (1392, 1392), (252, 1066), (808, 276), (375, 628), (985, 566), (158, 1030), (1088, 416), (285, 285), (90, 1217), (739, 739), (1309, 1309), (681, 681), (873, 873), (1175, 1175), (136, 136), (872, 872), (57, 906), (885, 885), (685, 685), (1163, 1163), (1453, 1453), (884, 884), (768, 7), (440, 440), (315, 1060), (507, 133), (608, 163), (1315, 625), (494, 822), (709, 709), (1221, 1221), (1339, 1339), (1344, 207), (643, 1397), (775, 368), (590, 590), (946, 946), (1108, 708), (434, 299), (575, 575), (543, 1194), (577, 577), (432, 432), (828, 1182), (1338, 65), (26, 26), (794, 794), (1254, 1254), (725, 905), (664, 664), (1176, 1176), (1368, 1368), (967, 1172), (458, 458), (892, 29), (1450, 1450), (1363, 314), (73, 73), (879, 330), (1097, 1097), (424, 424), (584, 584), (1448, 1448), (290, 290), (734, 734), (1042, 1042), (1006, 1006), (984, 725), (501, 750), (1411, 440), (864, 864), (1031, 736), (213, 213), (77, 77), (1101, 1101), (947, 947), (835, 1047), (843, 66), (300, 300), (436, 436), (588, 588), (1324, 1324), (1137, 255), (462, 552), (374, 350), (631, 1203), (317, 317), (389, 261), (515, 515), (1341, 1341), (4, 4), (1028, 1028), (1395, 1395), (411, 711), (177, 342), (520, 722), (142, 142), (270, 270), (1438, 1337), (802, 521), (1073, 924), (1001, 434), (41, 453), (1394, 395), (677, 677), (1371, 1371), (123, 979), (1211, 744), (607, 607), (909, 256), (1441, 1441), (481, 504), (28, 62), (493, 493), (58, 58), (826, 826), (1222, 1222), (170, 678), (244, 244), (1044, 1044), (284, 1091), (796, 579), (305, 1401), (1354, 1396), (262, 1403), (856, 40), (1296, 1296), (251, 251), (52, 387), (179, 326), (235, 101), (645, 645), (773, 773), (1403, 1403), (207, 668), (691, 150), (50, 50), (322, 322), (702, 702), (974, 974), (19, 1089), (1074, 1074), (769, 769), (1023, 1023), (1346, 1346), (1422, 1175), (1263, 931), (345, 345), (1253, 1018), (942, 782), (989, 989), (1059, 1059), (1066, 1066), (982, 982), (228, 228), (364, 473), (247, 247), (265, 265), (988, 988), (1060, 1060), (47, 1415), (798, 798), (1250, 1250), (209, 209), (308, 635), (687, 687), (815, 815), (743, 1428), (1361, 1361), (363, 363), (499, 499), (32, 472), (633, 633), (903, 903), (1145, 1145), (1415, 1415), (155, 20), (637, 637), (1123, 108), (668, 938), (342, 177), (217, 339), (1310, 948), (698, 28), (373, 1059), (10, 1071), (799, 1049), (1406, 1406), (583, 886), (598, 81), (793, 793), (1255, 1255), (1350, 1396), (1245, 795), (1308, 792), (219, 219), (541, 541), (1243, 1243), (407, 407), (525, 1360), (617, 617), (1431, 1431), (997, 1273), (973, 252), (1054, 1041), (33, 33), (801, 801), (1126, 688), (1057, 1057), (733, 785), (331, 331), (1355, 1355), (1427, 1427), (1433, 1144), (128, 440), (1388, 1388), (146, 966), (443, 169), (660, 974), (248, 1286), (68, 68), (1244, 284), (704, 370), (781, 781), (1170, 784), (334, 334), (1218, 1218), (138, 1152), (429, 1332), (695, 934), (697, 776), (192, 192), (320, 320), (1080, 1064), (358, 358), (1382, 1382), (405, 988), (1246, 937), (408, 408), (595, 684), (483, 563), (915, 470), (215, 319), (348, 348), (420, 420), (847, 1244), (1049, 576), (535, 981), (1390, 640), (350, 350), (665, 847), (674, 674), (1374, 1374), (846, 1436), (400, 400), (898, 1094), (1424, 1424), (1451, 1451), (1018, 1018), (122, 122), (232, 332), (1030, 1030), (1452, 1452), (7, 7), (199, 199), (825, 825), (1223, 1223), (708, 1443), (391, 444), (29, 892), (259, 259), (573, 573), (765, 765), (1283, 1283), (45, 825), (764, 764), (1276, 1276), (1284, 1284), (730, 290), (1189, 1326), (114, 114), (571, 764), (271, 271), (463, 463), (561, 561), (1147, 417), (1264, 1264), (1280, 1280), (1340, 542), (689, 1341), (153, 153), (1144, 1433), (1132, 637), (1087, 574), (97, 670), (900, 318), (596, 1275), (925, 925), (1130, 1130), (1046, 1046), (22, 22), (106, 106), (786, 1122), (918, 918), (1002, 1002), (27, 652), (471, 936), (727, 727), (809, 809), (1047, 1047), (1043, 568), (1239, 1239), (1321, 1321), (257, 732), (201, 1151), (145, 145), (1169, 1169), (679, 468), (12, 756), (316, 1124), (1035, 1035), (557, 557), (749, 749), (821, 821), (1299, 1299), (276, 276), (539, 953), (1012, 1012), (1036, 1036), (666, 580), (332, 232), (1019, 1019), (772, 275), (1029, 1029), (628, 93), (1197, 198), (88, 747), (87, 1222), (294, 273), (1153, 1153), (1407, 1407), (1343, 8), (986, 986), (1062, 1062), (39, 39), (1063, 1063), (958, 203), (861, 861), (1051, 1051), (996, 996), (540, 540), (722, 78), (172, 51), (649, 649), (357, 558), (732, 732), (1316, 1316), (1399, 1399), (82, 82), (482, 482), (542, 542), (301, 244), (368, 152), (1106, 1106), (431, 431), (593, 593), (927, 927), (1455, 1455), (528, 528), (720, 720), (1045, 1045), (1003, 1003), (21, 21), (591, 546), (800, 800), (836, 924), (992, 992), (1128, 622), (868, 809), (189, 189), (509, 296), (957, 957), (1091, 1091), (514, 514), (1026, 1026), (1277, 921), (369, 369), (655, 655), (1201, 1201), (517, 1247), (880, 880), (1397, 1397), (1076, 819), (1351, 1450), (40, 177), (752, 653), (811, 1139), (987, 987), (824, 487), (425, 623), (728, 1137), (1290, 1290), (169, 169), (855, 855), (1325, 805), (1188, 409), (1220, 778), (863, 1063), (1107, 1107), (1094, 1094), (954, 954), (83, 83), (173, 173), (59, 111), (477, 436), (396, 396), (651, 651), (1217, 90), (1295, 427), (1369, 1069), (131, 996), (174, 657), (965, 965), (1083, 1083), (1248, 1146), (306, 957), (18, 1212), (1286, 248), (450, 450), (574, 574), (63, 63), (65, 65), (560, 560), (731, 564), (960, 960), (742, 742), (1383, 1421), (959, 524), (1072, 1423), (938, 938), (100, 100), (1124, 1124), (55, 55), (457, 457), (1138, 445), (72, 72), (968, 968), (1064, 1064), (274, 274), (990, 990), (1058, 1058), (17, 334), (352, 352), (1184, 1184), (469, 469), (43, 43), (890, 890), (44, 187), (134, 134), (536, 827), (76, 76), (212, 212), (844, 844), (980, 980), (1068, 1068), (656, 135), (1446, 9), (1230, 362), (662, 632), (1052, 810), (508, 508), (883, 883), (1429, 1429), (810, 216), (1227, 186), (103, 103), (921, 921), (314, 1288), (951, 231), (1357, 1440), (991, 413), (933, 933), (790, 790), (1174, 1174), (567, 968), (9, 791), (615, 395), (95, 95), (911, 442), (1149, 956), (459, 459), (565, 565), (532, 532), (1412, 1435), (379, 749), (1454, 833), (1282, 790), (1414, 1048), (1393, 1224), (151, 624), (133, 133), (487, 96), (1013, 282), (899, 823), (910, 455), (102, 1187), (718, 314), (206, 206), (292, 225), (511, 511), (166, 166), (858, 858), (1318, 1318), (453, 653), (1367, 1007), (546, 591), (586, 860), (132, 892), (547, 547), (298, 298), (470, 470), (239, 1022), (476, 476), (503, 503), (521, 521), (1005, 763), (738, 738), (1182, 1182), (671, 671), (865, 865), (767, 1281), (1183, 1183), (1377, 1377), (71, 71), (492, 595), (953, 953), (1095, 1095), (1155, 1155), (1187, 1367), (130, 130), (399, 399), (625, 625), (491, 1261), (1423, 1423), (624, 624), (243, 636), (896, 896), (1408, 1408), (924, 263), (282, 1013), (961, 56), (394, 394), (630, 630), (893, 915), (1418, 1418), (1168, 221), (937, 937), (1111, 1111), (1449, 1449), (904, 904), (578, 814), (452, 897), (289, 289), (479, 479), (785, 785), (1065, 601), (1306, 559), (599, 446), (587, 587), (659, 659), (326, 326), (877, 877), (91, 719), (949, 949), (148, 148), (1171, 1171), (1389, 1389), (184, 184), (312, 312), (519, 863), (611, 774), (1228, 554), (1158, 624), (104, 855), (140, 269), (1336, 273), (188, 188), (324, 324), (831, 613), (1298, 349), (1342, 1342), (377, 200), (703, 703), (705, 705), (833, 833), (779, 720), (1215, 1215), (1345, 1345), (176, 176), (98, 1107), (614, 614), (922, 922), (1434, 1434), (526, 626), (1333, 354), (293, 1391), (1040, 458), (202, 202), (310, 310), (682, 682), (854, 854), (1194, 1194), (713, 713), (841, 841), (1207, 1207), (168, 168), (296, 296), (712, 712), (1192, 1192), (162, 162), (622, 622), (658, 658), (930, 930), (1118, 1118), (1320, 1320), (1426, 1426), (380, 856), (1104, 1104), (928, 928), (563, 563), (717, 717), (518, 518), (506, 506), (1195, 1195), (1331, 1331), (716, 716), (852, 852), (455, 455), (1014, 943), (1017, 1068), (1103, 1162), (1196, 1196), (1332, 1332), (760, 760), (1375, 1039), (753, 337), (1232, 524), (61, 61), (258, 820), (498, 498), (49, 49), (241, 241), (817, 817), (1009, 1009), (0, 0), (119, 240), (254, 122), (1008, 1008), (1024, 1024), (1247, 165), (94, 107), (1190, 631), (413, 413), (233, 233), (866, 769), (264, 264), (744, 744), (699, 971), (1288, 1288), (1100, 125), (673, 673), (1185, 1185), (1334, 227), (613, 831), (237, 237), (309, 309), (715, 715), (787, 787), (979, 979), (1378, 234), (1278, 1443), (75, 1159), (901, 901), (111, 1269), (419, 83), (1117, 889), (127, 127), (897, 897), (923, 1405), (1151, 1151), (1401, 829), (474, 474), (550, 550), (555, 1285), (805, 1318), (89, 89), (423, 423), (605, 853), (770, 247), (120, 462), (1304, 1304), (859, 638), (975, 804), (929, 639), (93, 93), (229, 229), (905, 905), (1143, 1143), (85, 195), (737, 271), (931, 905), (1122, 1122), (185, 559), (466, 466), (610, 610), (926, 926), (1302, 1382), (1071, 1071), (81, 81), (415, 415), (916, 951), (976, 976), (224, 224), (269, 269), (107, 107), (371, 371), (758, 726), (746, 1360), (1069, 1369), (1056, 1056), (784, 784), (887, 483), (1285, 1160), (242, 746), (640, 182), (445, 445), (1055, 1358), (999, 1042), (1116, 991), (1293, 1423), (814, 58), (227, 227), (797, 797), (246, 246), (778, 778), (36, 1362), (1270, 1270), (1075, 110), (360, 360), (648, 648), (42, 180), (594, 316), (1384, 1384), (160, 994), (230, 1266), (139, 139), (339, 339), (24, 348), (442, 442), (582, 582), (280, 443), (652, 652), (907, 907), (1141, 1141), (1396, 1396), (1365, 1365), (693, 41), (568, 568), (579, 476), (1266, 230), (197, 197), (707, 1226), (1159, 333), (1442, 510), (78, 78), (621, 1374), (1127, 572), (1204, 751), (447, 447), (64, 64), (944, 944), (998, 998), (1050, 1050), (96, 715), (152, 152), (344, 344), (1090, 1219), (426, 426), (566, 566), (156, 156), (439, 439), (378, 969), (585, 585), (456, 456), (552, 552), (1258, 750), (222, 222), (530, 530), (80, 366), (721, 346), (304, 583), (1413, 168), (336, 336), (144, 144), (299, 299), (435, 435), (589, 589), (830, 890), (1249, 1271), (1329, 1024), (692, 692), (1205, 510), (623, 347), (3, 3), (195, 195), (829, 829), (1027, 1027), (1219, 1219), (569, 941), (1178, 1259), (754, 754), (1166, 1166), (1294, 1294), (1139, 667), (255, 716), (1322, 221), (165, 165), (69, 358), (647, 1156), (417, 417), (913, 913), (1135, 1135), (723, 723), (813, 813), (966, 966), (171, 811), (198, 198), (531, 531), (20, 20), (333, 1242), (780, 780), (889, 933), (1082, 1082), (1268, 1268), (1356, 69), (1, 488), (221, 1239), (343, 972), (454, 1029), (25, 302), (225, 70), (353, 572), (190, 190), (562, 562), (834, 834), (1214, 1214), (1301, 389), (1366, 102), (1229, 1269), (1400, 320), (807, 807), (1136, 262), (1435, 186), (35, 35), (803, 803), (74, 74), (182, 182), (950, 950), (1098, 1098), (759, 759), (777, 777), (850, 850), (1198, 1198), (1326, 1326), (581, 119), (175, 175), (303, 303), (849, 849), (675, 1368), (1199, 1199), (627, 627), (522, 1425), (661, 661), (789, 789), (1259, 1259), (1148, 23), (1387, 1387), (121, 121), (1260, 134), (632, 632), (597, 37), (694, 1372), (1391, 293), (125, 125), (253, 1021), (387, 387), (636, 636), (644, 644), (1404, 1404), (969, 279), (638, 638), (349, 1294), (1410, 1410), (113, 113), (945, 945), (281, 281), (1305, 1305), (409, 637), (1380, 550), (886, 886), (1398, 1398), (330, 115), (105, 105), (527, 319), (919, 919), (1129, 1129), (392, 392), (616, 616), (1416, 1416), (147, 758), (654, 1268), (1235, 1235), (273, 273), (1297, 1297), (964, 189), (641, 1301), (748, 130), (181, 181), (109, 109), (1133, 1133), (226, 1310), (620, 620), (1428, 1428), (163, 648), (1430, 715), (203, 121), (412, 787), (1349, 1349), (1164, 858), (444, 444), (580, 580), (194, 194), (747, 88), (1358, 1358), (401, 1020), (154, 154), (1261, 985), (650, 761), (600, 600), (1161, 299), (874, 547), (604, 604), (676, 676), (823, 823), (1353, 1353), (347, 557), (1372, 1372), (670, 1136), (1077, 1125), (110, 110), (245, 1414), (418, 418), (606, 606), (878, 878), (1134, 1134), (1099, 1203), (1120, 1120), (912, 912), (819, 819), (683, 683), (902, 902), (1146, 1146), (205, 205), (51, 51), (6, 6), (341, 341), (84, 84), (428, 428), (313, 313), (711, 711), (972, 972), (1337, 1337), (1016, 1016), (1272, 1272), (295, 842), (376, 394), (592, 297), (1061, 748), (260, 260), (398, 398), (626, 626), (706, 527), (981, 529), (497, 497), (490, 1052), (719, 719), (240, 240), (256, 256), (871, 871), (1177, 1177), (126, 145), (1440, 1440), (99, 99), (1225, 424), (489, 489), (1032, 1032), (1274, 113), (372, 434), (1150, 217), (367, 367), (657, 657), (11, 11), (275, 275), (467, 467), (267, 552), (1034, 17), (1257, 872), (236, 236), (500, 500), (524, 524), (788, 788), (1237, 1438), (792, 686), (804, 1434), (971, 699), (1300, 1199), (124, 497), (5, 5), (414, 1328), (404, 710), (576, 799), (690, 1109), (129, 129), (383, 383), (286, 1114), (38, 38), (1114, 1114), (473, 473), (551, 551), (214, 178), (216, 216), (261, 277), (1240, 1240), (1421, 222), (791, 152), (1109, 338), (485, 485), (325, 486), (549, 326), (220, 220), (484, 484), (393, 393), (848, 55), (1379, 1012), (238, 1178), (994, 994), (30, 30), (430, 430), (465, 465), (559, 559), (16, 16), (208, 208), (288, 288), (1327, 1246), (388, 206), (839, 839), (1209, 1209), (67, 67), (382, 1440), (1213, 1213), (1275, 1237), (1267, 1267), (1233, 692), (510, 510), (335, 335), (881, 881), (1167, 1167), (361, 960), (451, 1142), (757, 759), (934, 15), (1053, 91), (977, 616), (37, 37), (266, 266), (1432, 1148), (618, 306), (1200, 1434), (311, 1153), (538, 493), (505, 707), (1119, 1077), (395, 395), (629, 629), (70, 70), (1419, 1419), (908, 908), (1140, 1140), (1420, 1420), (8, 1343), (56, 56), (1025, 774), (1152, 138), (86, 395), (701, 166), (948, 556), (1102, 1342), (60, 60), (196, 196), (406, 751), (1084, 1084), (842, 722), (1360, 1360), (62, 62), (1439, 340), (1251, 977), (48, 48), (448, 448), (486, 486), (1352, 1352), (663, 489), (851, 851), (941, 941), (283, 1284), (1125, 1077), (667, 322), (449, 991), (54, 54), (970, 970), (1078, 1078), (612, 612), (1079, 1079), (936, 936), (1444, 537), (34, 34), (478, 478), (750, 750), (1262, 1262), (993, 607), (845, 845), (1067, 1067), (544, 1103), (1110, 1211), (250, 250), (646, 646), (180, 180), (774, 774), (812, 812), (1203, 1203), (1236, 1236), (1241, 983), (1311, 604), (31, 573), (516, 516), (1089, 1160), (956, 891), (370, 370), (762, 327), (1004, 648), (356, 604), (421, 421), (603, 603), (150, 150), (234, 234), (2, 1448), (278, 278), (362, 362), (1445, 1445), (137, 1033), (1425, 1425)]\n"
          ]
        }
      ]
    },
    {
      "cell_type": "code",
      "source": [
        ""
      ],
      "metadata": {
        "id": "jUuzHiFhBAQB"
      },
      "execution_count": null,
      "outputs": []
    },
    {
      "cell_type": "code",
      "source": [
        "sum([x[0] != x[1] for x in res])/len(res)"
      ],
      "metadata": {
        "id": "3paWaaGAAgzR",
        "outputId": "b1bebf03-2c24-42c3-8cdd-8a185c260ebb",
        "colab": {
          "base_uri": "https://localhost:8080/"
        }
      },
      "execution_count": 128,
      "outputs": [
        {
          "output_type": "execute_result",
          "data": {
            "text/plain": [
              "0.5242105263157895"
            ]
          },
          "metadata": {},
          "execution_count": 128
        }
      ]
    },
    {
      "cell_type": "code",
      "source": [
        "range(len(res))"
      ],
      "metadata": {
        "id": "RYHhrVgoAPeo",
        "outputId": "72d6f467-ce23-4cd4-d48d-79ffa8c33e2c",
        "colab": {
          "base_uri": "https://localhost:8080/"
        }
      },
      "execution_count": 121,
      "outputs": [
        {
          "output_type": "execute_result",
          "data": {
            "text/plain": [
              "range(0, 1425)"
            ]
          },
          "metadata": {},
          "execution_count": 121
        }
      ]
    },
    {
      "cell_type": "code",
      "source": [
        "s = 0\n",
        "for z in res:\n",
        "  if z[0] == z[1]:\n",
        "      s += 1\n",
        "print(s)\n",
        "res[3]"
      ],
      "metadata": {
        "id": "HTcL-N1d0hha",
        "outputId": "5ab12885-bb07-4b5f-fb1f-acc17365a7b3",
        "colab": {
          "base_uri": "https://localhost:8080/"
        }
      },
      "execution_count": 115,
      "outputs": [
        {
          "output_type": "stream",
          "name": "stdout",
          "text": [
            "678\n"
          ]
        },
        {
          "output_type": "execute_result",
          "data": {
            "text/plain": [
              "(454, 454)"
            ]
          },
          "metadata": {},
          "execution_count": 115
        }
      ]
    },
    {
      "cell_type": "code",
      "source": [
        "res = list(lprec)\n",
        "image = cv2.imread('/content/GCN-Align/data/im_en/img.png')\n",
        "image1 = cv2.imread('/content/GCN-Align/data/im_en/img1.png')\n",
        "height,width = image.shape[:2]\n",
        "def get_pixel(idx):\n",
        "    return (int(idx / width) , idx % width)\n",
        "\n",
        "img_last = cv2.hconcat((image, image1))\n",
        "cv2_imshow(img_last)\n"
      ],
      "metadata": {
        "id": "vtl6AmUiyy1L",
        "outputId": "97abdefb-2219-48ee-f561-f7bddb8a3008",
        "colab": {
          "base_uri": "https://localhost:8080/",
          "height": 67
        }
      },
      "execution_count": 65,
      "outputs": [
        {
          "output_type": "display_data",
          "data": {
            "text/plain": [
              "<PIL.Image.Image image mode=RGB size=100x50 at 0x7FCB3D372090>"
            ],
            "image/png": "[encoded data removed]"
          },
          "metadata": {}
        }
      ]
    }
  ],
  "metadata": {
    "colab": {
      "collapsed_sections": [],
      "name": "EA.ipynb",
      "provenance": [],
      "include_colab_link": true
    },
    "kernelspec": {
      "display_name": "Python 3",
      "name": "python3"
    },
    "language_info": {
      "name": "python"
    },
    "accelerator": "GPU"
  },
  "nbformat": 4,
  "nbformat_minor": 0
}