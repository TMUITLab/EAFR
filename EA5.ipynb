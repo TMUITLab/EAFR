{
  "cells": [
    {
      "cell_type": "markdown",
      "metadata": {
        "id": "view-in-github",
        "colab_type": "text"
      },
      "source": [
        "<a href=\"https://colab.research.google.com/github/TMUITLab/EAFR/blob/master/EA5.ipynb\" target=\"_parent\"><img src=\"https://colab.research.google.com/assets/colab-badge.svg\" alt=\"Open In Colab\"/></a>"
      ]
    },
    {
      "cell_type": "code",
      "execution_count": null,
      "metadata": {
        "id": "Mv8gecYb39Zy"
      },
      "outputs": [],
      "source": [
        "!git clone https://github.com/TMUITLab/EAFR\n",
        "!wget -O 'data.zip' 'https://efsgpq-ch3301.files.1drv.com/y4muoyVficiYL6mAlmm7s9m65fhNRboLtxg7FmaufA9QzY2tVhsyi-nXNtgahgN8NhrumVKCHB-d_lfi_5OTy1e5NFe2walhCu2Z1zF3zcp_hammSHuJHk5BeG6YbT7STynmA3SDPP39sNzn9V2Iv2suqlHkIrDRvRuvvM_r6IKuiRmJ35YirCUrY_Rojf5d-oQrxyQTj86Wz70JyiwrAYxfA'\n",
        "!unzip '/content/data.zip' -d '/content/EAFR'\n",
        "\n",
        "!pip install torch-scatter -f https://data.pyg.org/whl/torch-1.10.0+cu111.html\n",
        "!pip install torch-sparse -f https://data.pyg.org/whl/torch-1.10.0+cu111.html\n",
        "!pip install torch-geometric\n",
        "\n",
        "!pip install igraph\n",
        "!git pull https://github.com/TMUITLab/EAFR"
      ]
    },
    {
      "cell_type": "code",
      "execution_count": null,
      "metadata": {
        "id": "6NSkNdKdtj1a"
      },
      "outputs": [],
      "source": [
        "%cd '/content/EAFR'\n",
        "!CUDA_VISIBLE_DEVICES=0 python3 run.py"
      ]
    },
    {
      "cell_type": "code",
      "execution_count": null,
      "metadata": {
        "id": "5h5lXsCs4mR3"
      },
      "outputs": [],
      "source": [
        "!fuser -v /dev/nvidia*"
      ]
    },
    {
      "cell_type": "code",
      "execution_count": null,
      "metadata": {
        "id": "7Z4iLewwRq_u"
      },
      "outputs": [],
      "source": [
        "!kill -9 1661 "
      ]
    },
    {
      "cell_type": "code",
      "execution_count": null,
      "metadata": {
        "id": "kCsR8niV5tpH"
      },
      "outputs": [],
      "source": [
        "!nvcc --version https://github.com/MaoXinn/RREA"
      ]
    },
    {
      "cell_type": "code",
      "execution_count": null,
      "metadata": {
        "id": "hwZ9zE0n-vpZ",
        "colab": {
          "base_uri": "https://localhost:8080/"
        },
        "outputId": "587eb546-e80c-439b-c42a-2e10e7771dc3"
      },
      "outputs": [
        {
          "output_type": "stream",
          "name": "stdout",
          "text": [
            "1.10.0+cu111\n",
            "11.1\n"
          ]
        }
      ],
      "source": [
        "!python -c \"import torch; print(torch.__version__)\"\n",
        "!python -c \"import torch; print(torch.version.cuda)\""
      ]
    },
    {
      "cell_type": "code",
      "execution_count": null,
      "metadata": {
        "id": "ijyhjY1p5EnG"
      },
      "outputs": [],
      "source": [
        "!git pull https://github.com/TMUITLab/EAFR"
      ]
    },
    {
      "cell_type": "code",
      "execution_count": null,
      "metadata": {
        "id": "nim_lcF35NhG"
      },
      "outputs": [],
      "source": [
        "%cd '/content/EAFR'\n",
        "!CUDA_VISIBLE_DEVICES=0 python3 run.py"
      ]
    },
    {
      "cell_type": "code",
      "execution_count": null,
      "metadata": {
        "id": "m_DHAfBCiV1r"
      },
      "outputs": [],
      "source": [
        "!git clone 'https://github.com/vinhsuhi/EMGCN'"
      ]
    },
    {
      "cell_type": "code",
      "execution_count": null,
      "metadata": {
        "id": "Uvfm_eLo-hdT"
      },
      "outputs": [],
      "source": [
        "import requests\n",
        "\n",
        "def download_file_from_google_drive(id, destination):\n",
        "    URL = \"https://docs.google.com/uc?export=download\"\n",
        "\n",
        "    session = requests.Session()\n",
        "\n",
        "    response = session.get(URL, params = { 'id' : id }, stream = True)\n",
        "    token = get_confirm_token(response)\n",
        "\n",
        "    if token:\n",
        "        params = { 'id' : id, 'confirm' : token }\n",
        "        response = session.get(URL, params = params, stream = True)\n",
        "\n",
        "    save_response_content(response, destination)    \n",
        "\n",
        "def get_confirm_token(response):\n",
        "    for key, value in response.cookies.items():\n",
        "        if key.startswith('download_warning'):\n",
        "            return value\n",
        "\n",
        "    return None\n",
        "\n",
        "def save_response_content(response, destination):\n",
        "    CHUNK_SIZE = 32768\n",
        "\n",
        "    with open(destination, \"wb\") as f:\n",
        "        for chunk in response.iter_content(CHUNK_SIZE):\n",
        "            if chunk: # filter out keep-alive new chunks\n",
        "                f.write(chunk)"
      ]
    },
    {
      "cell_type": "code",
      "execution_count": null,
      "metadata": {
        "id": "p_lCpFlo95Z0"
      },
      "outputs": [],
      "source": [
        "%cd /content/\n",
        "download_file_from_google_drive('12XL08tB8zplCNhzLE-9qbsFFum7RoV6r','emgcn.rar')\n",
        "!pip install patool\n",
        "import patoolib\n",
        "patoolib.extract_archive(\"/content/emgcn.rar\", outdir=\"/content/EMGCN/\")"
      ]
    },
    {
      "cell_type": "code",
      "execution_count": null,
      "metadata": {
        "id": "IMQwyPaP-TQI"
      },
      "outputs": [],
      "source": [
        "%cd '/content/EMGCN'\n",
        "!python -u network_alignment.py --dataset_name zh_en --source_dataset data/networkx/zh_enDI/zh/graphsage/ --target_dataset data/networkx/zh_enDI/en/graphsage --groundtruth data/networkx/zh_enDI/dictionaries/groundtruth EMGCN --sparse --log "
      ]
    },
    {
      "cell_type": "code",
      "source": [
        "\n",
        "!pip install torch-scatter -f https://data.pyg.org/whl/torch-1.10.0+cu111.html\n",
        "!pip install torch-sparse -f https://data.pyg.org/whl/torch-1.10.0+cu111.html\n",
        "!pip install torch-geometric"
      ],
      "metadata": {
        "id": "p-rVgHOzSMNK"
      },
      "execution_count": null,
      "outputs": []
    },
    {
      "cell_type": "code",
      "execution_count": null,
      "metadata": {
        "id": "Eotb-M7RyvfH"
      },
      "outputs": [],
      "source": [
        "%cd '/content'\n",
        "!git clone https://github.com/zhurboo/RAGA"
      ]
    },
    {
      "cell_type": "code",
      "source": [
        "download_file_from_google_drive('1uJ2omzIs0NCtJsGQsyFCBHCXUhoK1mkO','/content/RAGA/data.tar.gz')"
      ],
      "metadata": {
        "id": "6aw346iWS4CL"
      },
      "execution_count": null,
      "outputs": []
    },
    {
      "cell_type": "code",
      "source": [
        "%cd '/content/RAGA'\n",
        "!tar -xf data.tar.gz"
      ],
      "metadata": {
        "id": "Qh-_IAUFTOzV",
        "outputId": "aa6da7be-03a7-49de-a53d-fbb02bff94af",
        "colab": {
          "base_uri": "https://localhost:8080/"
        }
      },
      "execution_count": null,
      "outputs": [
        {
          "output_type": "stream",
          "name": "stdout",
          "text": [
            "/content/RAGA\n"
          ]
        }
      ]
    },
    {
      "cell_type": "code",
      "source": [
        "\n",
        "%%writefi!le setup.sh\n",
        "\n",
        "git clone https://github.com/NVIDIA/apex\n",
        "pip install -v --no-cache-dir --global-option=\"--cpp_ext\" --global-option=\"--cuda_ext\" ./apex"
      ],
      "metadata": {
        "id": "tIshNjf2OnKv",
        "outputId": "95441fa7-ae6e-4877-bb17-5c03191430bb",
        "colab": {
          "base_uri": "https://localhost:8080/"
        }
      },
      "execution_count": null,
      "outputs": [
        {
          "output_type": "stream",
          "name": "stdout",
          "text": [
            "Writing setup.sh\n"
          ]
        }
      ]
    },
    {
      "cell_type": "code",
      "source": [
        "!sh setup.sh\n"
      ],
      "metadata": {
        "id": "IVdwj8EhXAkv"
      },
      "execution_count": null,
      "outputs": []
    },
    {
      "cell_type": "code",
      "source": [
        "%cd '/content/RAGA'\n",
        "!python train.py"
      ],
      "metadata": {
        "id": "wFL8jtmeOakt"
      },
      "execution_count": null,
      "outputs": []
    },
    {
      "cell_type": "code",
      "execution_count": 1,
      "metadata": {
        "colab": {
          "base_uri": "https://localhost:8080/"
        },
        "id": "WjActARX7sCY",
        "outputId": "a01cfe95-313c-4ddf-bbdf-62a4f77f5063"
      },
      "outputs": [
        {
          "output_type": "stream",
          "name": "stdout",
          "text": [
            "/content\n",
            "Cloning into 'GCN-Align'...\n",
            "remote: Enumerating objects: 53, done.\u001b[K\n",
            "remote: Total 53 (delta 0), reused 0 (delta 0), pack-reused 53\u001b[K\n",
            "Unpacking objects: 100% (53/53), done.\n"
          ]
        }
      ],
      "source": [
        "%cd '/content'\n",
        "!git clone https://github.com/1049451037/GCN-Align"
      ]
    },
    {
      "cell_type": "code",
      "execution_count": 2,
      "metadata": {
        "colab": {
          "base_uri": "https://localhost:8080/"
        },
        "id": "0G6_LeBQ3PFb",
        "outputId": "b2db4349-4f5c-45c7-b623-8c42d771dd02"
      },
      "outputs": [
        {
          "output_type": "stream",
          "name": "stdout",
          "text": [
            "/content\n",
            "Cloning into 'RREA'...\n",
            "remote: Enumerating objects: 32, done.\u001b[K\n",
            "remote: Counting objects: 100% (32/32), done.\u001b[K\n",
            "remote: Compressing objects: 100% (30/30), done.\u001b[K\n",
            "remote: Total 32 (delta 4), reused 0 (delta 0), pack-reused 0\u001b[K\n",
            "Unpacking objects: 100% (32/32), done.\n"
          ]
        }
      ],
      "source": [
        "%cd '/content'\n",
        "!git clone https://github.com/MaoXinn/RREA"
      ]
    },
    {
      "cell_type": "code",
      "execution_count": 3,
      "metadata": {
        "id": "ZB2YBVkb4pYB"
      },
      "outputs": [],
      "source": [
        "import warnings\n",
        "warnings.filterwarnings('ignore')\n",
        "\n",
        "\n",
        "from importlib.machinery import SourceFileLoader\n",
        " \n",
        "layer = SourceFileLoader(\"layer\", \"/content/RREA/CIKM/layer.py\").load_module()\n",
        "utils = SourceFileLoader(\"utils\", \"/content/RREA/CIKM/utils.py\").load_module()\n",
        "CSLS = SourceFileLoader(\"CSLS\", \"/content/RREA/CIKM/CSLS.py\").load_module()\n",
        "import tensorflow as tf\n",
        "import os\n",
        "import random\n",
        "import keras\n",
        "from tqdm import *\n",
        "import numpy as np\n",
        "from utils import *\n",
        "from CSLS import *\n",
        "import tensorflow as tf\n",
        "import keras.backend as K\n",
        "from keras.layers import *\n",
        "from layer import NR_GraphAttention\n",
        "\n",
        "os.environ[\"CUDA_VISIBLE_DEVICES\"] = \"0\"\n",
        "os.environ[\"TF_CPP_MIN_LOG_LEVEL\"]=\"2\"\n",
        "tf.compat.v1.logging.set_verbosity(tf.compat.v1.logging.ERROR)\n",
        "\n",
        " "
      ]
    },
    {
      "cell_type": "code",
      "execution_count": 4,
      "metadata": {
        "colab": {
          "base_uri": "https://localhost:8080/"
        },
        "id": "oYvCCmAe62rP",
        "outputId": "4651044a-1a2c-4ce8-d5c7-3eeec7e975f3"
      },
      "outputs": [
        {
          "output_type": "stream",
          "name": "stdout",
          "text": [
            "38960 3024\n"
          ]
        }
      ],
      "source": [
        "lang = 'zh'\n",
        "radj,train_pair,dev_pair,adj_matrix,r_index,r_val,adj_features,rel_features = load_data('/content/GCN-Align/data/%s_en/'%lang,train_ratio=0.30)\n",
        "train_pair_main=train_pair\n",
        "adj_matrix = np.stack(adj_matrix.nonzero(),axis = 1)\n",
        "rel_matrix,rel_val = np.stack(rel_features.nonzero(),axis = 1),rel_features.data\n",
        "ent_matrix,ent_val = np.stack(adj_features.nonzero(),axis = 1),adj_features.data"
      ]
    },
    {
      "cell_type": "code",
      "source": [
        "print(r_index[:,0].max(),adj_matrix.shape,r_val.__len__())"
      ],
      "metadata": {
        "colab": {
          "base_uri": "https://localhost:8080/"
        },
        "id": "CGPkuTC4lYS6",
        "outputId": "7db74ce1-9f54-49a3-82e9-95720a20e606"
      },
      "execution_count": 5,
      "outputs": [
        {
          "output_type": "stream",
          "name": "stdout",
          "text": [
            "331111 (259545, 2) 331112\n"
          ]
        }
      ]
    },
    {
      "cell_type": "code",
      "source": [
        "entity1, rel1, triples1 = load_triples('/content/GCN-Align/data/%s_en/'%lang + 'triples_1')\n",
        "num_entity_1 = len(entity1)\n",
        "num_rel_1 = len(rel1)"
      ],
      "metadata": {
        "id": "qjqNt7oeBXjK"
      },
      "execution_count": 6,
      "outputs": []
    },
    {
      "cell_type": "code",
      "execution_count": 26,
      "metadata": {
        "id": "t29mIfJT68i3"
      },
      "outputs": [],
      "source": [
        "layer = SourceFileLoader(\"layer\", \"/content/RREA/CIKM/layer.py\").load_module()\n",
        "\n",
        "from layer import NR_GraphAttention,N3\n",
        "tf.keras.backend.clear_session()\n",
        "\n",
        "node_size = adj_features.shape[0]\n",
        "rel_size = rel_features.shape[1]\n",
        "triple_size = len(adj_matrix)\n",
        "batch_size = node_size\n",
        "\n",
        "\n",
        "class TokenEmbedding(keras.layers.Embedding):\n",
        "    \"\"\"Embedding layer with weights returned.\"\"\"\n",
        "\n",
        "    def compute_output_shape(self, input_shape):\n",
        "        return self.input_dim, self.output_dim\n",
        "\n",
        "    def compute_mask(self, inputs, mask=None):\n",
        "        return None\n",
        "\n",
        "    def call(self, inputs):\n",
        "        return self.embeddings\n",
        "    \n",
        "def get_embedding():\n",
        "    inputs = [adj_matrix,r_index,r_val,rel_matrix,ent_matrix,radj]\n",
        "    inputs = [np.expand_dims(item,axis=0) for item in inputs]\n",
        "    return get_emb.predict_on_batch(inputs)\n",
        "\n",
        "def get_losses_values():\n",
        "    inputs = [adj_matrix,r_index,r_val,rel_matrix,ent_matrix,radj,train_set]\n",
        "    inputs = [np.expand_dims(item,axis=0) for item in inputs]\n",
        "    return get_losses.predict_on_batch(inputs )\n",
        "\n",
        "def test(wrank = None):\n",
        "    vec = get_embedding()\n",
        "    return  get_hits(vec,dev_pair,wrank=wrank)\n",
        "\n",
        "def CSLS_test(thread_number = 16, csls=10,accurate = True):\n",
        "    vec = get_embedding()\n",
        "    Lvec = np.array([vec[e1] for e1, e2 in dev_pair])\n",
        "    Rvec = np.array([vec[e2] for e1, e2 in dev_pair])\n",
        "    Lvec = Lvec / np.linalg.norm(Lvec,axis=-1,keepdims=True)\n",
        "    Rvec = Rvec / np.linalg.norm(Rvec,axis=-1,keepdims=True)\n",
        "    eval_alignment_by_sim_mat(Lvec, Rvec, [1, 5, 10], thread_number, csls=csls, accurate=accurate)\n",
        "    return None\n",
        "\n",
        "def get_train_set(batch_size = batch_size):\n",
        "    negative_ratio =  batch_size // len(train_pair) + 1\n",
        "    train_set = np.reshape(np.repeat(np.expand_dims(train_pair,axis=0),axis=0,repeats=negative_ratio),newshape=(-1,2))\n",
        "    np.random.shuffle(train_set); train_set = train_set[:batch_size]\n",
        "    train_set = np.concatenate([train_set,np.random.randint(0,node_size,[train_set.shape[0],3])],axis = -1)\n",
        "    return train_set\n",
        "\n",
        "def get_train_set1(batch_size = batch_size):\n",
        "    train_set = train_pair\n",
        "    np.random.shuffle(train_set);\n",
        "    train_set = np.concatenate([train_set,np.random.randint(0,node_size,train_set.shape)],axis = -1)\n",
        "    return train_set\n",
        "\n",
        "def get_trgat(node_size,rel_size,node_hidden,rel_hidden,triple_size,n_attn_heads = 2,dropout_rate = 0,gamma = 3,lr = 0.005,depth = 2):\n",
        "    adj_input = Input(shape=(None,2))\n",
        "    index_input = Input(shape=(None,2),dtype='int64')\n",
        "    val_input = Input(shape = (None,))\n",
        "    rel_adj = Input(shape=(None,2))\n",
        "    ent_adj = Input(shape=(None,2))\n",
        "    radj = Input(shape=(None,3),dtype='int64')\n",
        "    \n",
        "    ent_emb = TokenEmbedding(node_size,node_hidden,trainable = True)(val_input) \n",
        "    rel_emb = TokenEmbedding(rel_size,node_hidden,trainable = True)(val_input)\n",
        "\n",
        "    E = TokenEmbedding(node_hidden,node_hidden,trainable = True)(val_input)\n",
        "    R = TokenEmbedding(node_hidden,node_hidden,trainable = True)(val_input)\n",
        "    \n",
        "    def avg(tensor,size,highway = None):\n",
        "        adj = K.cast(K.squeeze(tensor[0],axis = 0),dtype = \"int64\")   \n",
        "        adj = tf.SparseTensor(indices=adj, values=tf.ones_like(adj[:,0],dtype = 'float32'), dense_shape=(node_size,size)) \n",
        "        adj = tf.compat.v1.sparse_softmax(adj) \n",
        "        l_adj = tf.compat.v1.sparse_tensor_dense_matmul(adj,tensor[1])\n",
        "        if highway != None:\n",
        "            #l_adj = highway([l_adj,tensor[1]])\n",
        "            l_adj = 0.5 * l_adj + 0.5 * tensor[1]\n",
        "        return l_adj\n",
        "\n",
        "    rel_feature = Lambda(avg,arguments={'size':rel_size})([rel_adj,rel_emb])\n",
        "    ent_feature = Lambda(avg,arguments={'size':node_size})([ent_adj,ent_emb])\n",
        "    \n",
        "    encoder = NR_GraphAttention(node_size,activation=\"relu\",\n",
        "                                       rel_size = rel_size,\n",
        "                                       depth = depth,\n",
        "                                       attn_heads=n_attn_heads,\n",
        "                                       triple_size = triple_size,\n",
        "                                       attn_heads_reduction='average',   \n",
        "                                       dropout_rate=dropout_rate)\n",
        "    \n",
        "    encoder1 = NR_GraphAttention(node_size,activation=\"relu\",\n",
        "                                    rel_size = rel_size,\n",
        "                                    depth = depth,\n",
        "                                    attn_heads=n_attn_heads,\n",
        "                                    triple_size = triple_size,\n",
        "                                    attn_heads_reduction='average',   \n",
        "                                    dropout_rate=dropout_rate)\n",
        "    encoder2 = NR_GraphAttention(node_size,activation=\"relu\",\n",
        "                                rel_size = rel_size,\n",
        "                                depth = depth,\n",
        "                                attn_heads=n_attn_heads,\n",
        "                                triple_size = triple_size,\n",
        "                                attn_heads_reduction='average',   \n",
        "                                dropout_rate=dropout_rate)\n",
        "        \n",
        "    opt1 = [rel_emb,adj_input,index_input,val_input,radj]\n",
        "\n",
        "    #att = Attention((node_size,node_size))\n",
        "    elements = [ent_emb] + encoder([rel_feature]+opt1)+encoder([ent_feature]+opt1)\n",
        "    #elements = [0.3 * ent_emb[:,:node_hidden//2]]+ el[0:3]+el[6:9]+[0.2 * ent_emb[:,node_hidden//2:]] + el[3:6]+el[9:12]\n",
        "    num_el = elements.__len__()\n",
        "    weight =  tf.Variable(1 * [-0.5] + (num_el-1) * [1.0], trainable=False)\n",
        "    weight = 5 * tf.math.softmax(weight)\n",
        "    elements = [weight[idx]*el for idx, el in enumerate(elements)]\n",
        "    out_feature = Concatenate(-1)(elements)\n",
        "    out_feature = Dropout(dropout_rate)(out_feature)\n",
        "    \n",
        "    alignment_input = Input(shape=(None,5),dtype = \"int32\") \n",
        "    #find = Lambda(lambda x:K.gather(reference=x[0],indices=K.cast(K.squeeze(x[1],axis=0), 'int32')))([out_feature,alignment_input])\n",
        "\n",
        "    I = K.squeeze(alignment_input,axis=0)\n",
        "    \n",
        "    A = K.sum(K.abs(K.gather(out_feature,I[:,0])-K.gather(out_feature,I[:,1])),axis=-1,keepdims=True)\n",
        "    B = K.sum(K.abs(K.gather(out_feature,I[:,0])-K.gather(out_feature,I[:,3])),axis=-1,keepdims=True)\n",
        "    C = K.sum(K.abs(K.gather(out_feature,I[:,2])-K.gather(out_feature,I[:,1])),axis=-1,keepdims=True)\n",
        "    D = K.sum(K.abs(K.gather(out_feature,I[:,0])-K.gather(out_feature,I[:,2])),axis=-1,keepdims=True)\n",
        "    E = K.sum(K.abs(K.gather(out_feature,I[:,3])-K.gather(out_feature,I[:,1])),axis=-1,keepdims=True)\n",
        "\n",
        "    A1 = K.sum(K.abs(K.gather(out_feature,I[:,0])-K.gather(out_feature,I[:,1])),axis=0,keepdims=True)\n",
        "    losses = K.mean(tf.reshape(A1,[-1,node_hidden]),axis=-1)/ (batch_size) \n",
        "    loss =  K.relu(gamma + A - B) + K.relu(gamma + A-C)+ K.relu(gamma + A-D)+ K.relu(gamma + A-E)\n",
        "    loss =  tf.compat.v1.reduce_sum(loss,keep_dims=True) / (batch_size)    \n",
        "   \n",
        "    inputs = [adj_input,index_input,val_input,rel_adj,ent_adj,radj]\n",
        "    train_model = keras.Model(inputs = inputs + [alignment_input],outputs = loss)\n",
        "    \n",
        "    train_model.compile(loss=lambda y_true,y_pred: y_pred,optimizer=tf.keras.optimizers.RMSprop(lr=lr))\n",
        "    \n",
        "    feature_model = keras.Model(inputs = inputs,outputs = out_feature)\n",
        "    losses_model = keras.Model(inputs = inputs + [alignment_input],outputs = losses)\n",
        "    return train_model,feature_model,losses_model\n"
      ]
    },
    {
      "cell_type": "code",
      "execution_count": 27,
      "metadata": {
        "colab": {
          "base_uri": "https://localhost:8080/"
        },
        "id": "Nwoj1iWf69WX",
        "outputId": "dec1006c-8522-42aa-bcf9-1d4854afd758"
      },
      "outputs": [
        {
          "output_type": "stream",
          "name": "stdout",
          "text": [
            "Model: \"model\"\n",
            "__________________________________________________________________________________________________\n",
            " Layer (type)                   Output Shape         Param #     Connected to                     \n",
            "==================================================================================================\n",
            " input_3 (InputLayer)           [(None, None)]       0           []                               \n",
            "                                                                                                  \n",
            " token_embedding (TokenEmbeddin  (38960, 100)        3896000     ['input_3[0][0]']                \n",
            " g)                                                                                               \n",
            "                                                                                                  \n",
            " input_4 (InputLayer)           [(None, None, 2)]    0           []                               \n",
            "                                                                                                  \n",
            " token_embedding_1 (TokenEmbedd  (6048, 100)         604800      ['input_3[0][0]']                \n",
            " ing)                                                                                             \n",
            "                                                                                                  \n",
            " input_5 (InputLayer)           [(None, None, 2)]    0           []                               \n",
            "                                                                                                  \n",
            " lambda (Lambda)                (38960, 100)         0           ['input_4[0][0]',                \n",
            "                                                                  'token_embedding_1[0][0]']      \n",
            "                                                                                                  \n",
            " input_1 (InputLayer)           [(None, None, 2)]    0           []                               \n",
            "                                                                                                  \n",
            " input_2 (InputLayer)           [(None, None, 2)]    0           []                               \n",
            "                                                                                                  \n",
            " input_6 (InputLayer)           [(None, None, 3)]    0           []                               \n",
            "                                                                                                  \n",
            " lambda_1 (Lambda)              (38960, 100)         0           ['input_5[0][0]',                \n",
            "                                                                  'token_embedding[0][0]']        \n",
            "                                                                                                  \n",
            " nr__graph_attention (NR_GraphA  [(38960, 100),      601         ['lambda[0][0]',                 \n",
            " ttention)                       (None, 100),                     'token_embedding_1[0][0]',      \n",
            "                                 (None, 100)]                     'input_1[0][0]',                \n",
            "                                                                  'input_2[0][0]',                \n",
            "                                                                  'input_3[0][0]',                \n",
            "                                                                  'input_6[0][0]',                \n",
            "                                                                  'lambda_1[0][0]',               \n",
            "                                                                  'token_embedding_1[0][0]',      \n",
            "                                                                  'input_1[0][0]',                \n",
            "                                                                  'input_2[0][0]',                \n",
            "                                                                  'input_3[0][0]',                \n",
            "                                                                  'input_6[0][0]']                \n",
            "                                                                                                  \n",
            " tf.math.multiply (TFOpLambda)  (38960, 100)         0           ['token_embedding[0][0]']        \n",
            "                                                                                                  \n",
            " tf.math.multiply_1 (TFOpLambda  (38960, 100)        0           ['nr__graph_attention[0][0]']    \n",
            " )                                                                                                \n",
            "                                                                                                  \n",
            " tf.math.multiply_2 (TFOpLambda  (None, 100)         0           ['nr__graph_attention[0][1]']    \n",
            " )                                                                                                \n",
            "                                                                                                  \n",
            " tf.math.multiply_3 (TFOpLambda  (None, 100)         0           ['nr__graph_attention[0][2]']    \n",
            " )                                                                                                \n",
            "                                                                                                  \n",
            " tf.math.multiply_4 (TFOpLambda  (38960, 100)        0           ['nr__graph_attention[1][0]']    \n",
            " )                                                                                                \n",
            "                                                                                                  \n",
            " tf.math.multiply_5 (TFOpLambda  (None, 100)         0           ['nr__graph_attention[1][1]']    \n",
            " )                                                                                                \n",
            "                                                                                                  \n",
            " tf.math.multiply_6 (TFOpLambda  (None, 100)         0           ['nr__graph_attention[1][2]']    \n",
            " )                                                                                                \n",
            "                                                                                                  \n",
            " input_7 (InputLayer)           [(None, None, 5)]    0           []                               \n",
            "                                                                                                  \n",
            " concatenate (Concatenate)      (38960, 700)         0           ['tf.math.multiply[0][0]',       \n",
            "                                                                  'tf.math.multiply_1[0][0]',     \n",
            "                                                                  'tf.math.multiply_2[0][0]',     \n",
            "                                                                  'tf.math.multiply_3[0][0]',     \n",
            "                                                                  'tf.math.multiply_4[0][0]',     \n",
            "                                                                  'tf.math.multiply_5[0][0]',     \n",
            "                                                                  'tf.math.multiply_6[0][0]']     \n",
            "                                                                                                  \n",
            " tf.compat.v1.squeeze (TFOpLamb  (None, 5)           0           ['input_7[0][0]']                \n",
            " da)                                                                                              \n",
            "                                                                                                  \n",
            " dropout (Dropout)              (38960, 700)         0           ['concatenate[0][0]']            \n",
            "                                                                                                  \n",
            " tf.__operators__.getitem (Slic  (None,)             0           ['tf.compat.v1.squeeze[0][0]']   \n",
            " ingOpLambda)                                                                                     \n",
            "                                                                                                  \n",
            " tf.__operators__.getitem_1 (Sl  (None,)             0           ['tf.compat.v1.squeeze[0][0]']   \n",
            " icingOpLambda)                                                                                   \n",
            "                                                                                                  \n",
            " tf.compat.v1.gather (TFOpLambd  (None, 700)         0           ['dropout[0][0]',                \n",
            " a)                                                               'tf.__operators__.getitem[0][0]'\n",
            "                                                                 ]                                \n",
            "                                                                                                  \n",
            " tf.compat.v1.gather_1 (TFOpLam  (None, 700)         0           ['dropout[0][0]',                \n",
            " bda)                                                             'tf.__operators__.getitem_1[0][0\n",
            "                                                                 ]']                              \n",
            "                                                                                                  \n",
            " tf.__operators__.getitem_2 (Sl  (None,)             0           ['tf.compat.v1.squeeze[0][0]']   \n",
            " icingOpLambda)                                                                                   \n",
            "                                                                                                  \n",
            " tf.__operators__.getitem_3 (Sl  (None,)             0           ['tf.compat.v1.squeeze[0][0]']   \n",
            " icingOpLambda)                                                                                   \n",
            "                                                                                                  \n",
            " tf.__operators__.getitem_4 (Sl  (None,)             0           ['tf.compat.v1.squeeze[0][0]']   \n",
            " icingOpLambda)                                                                                   \n",
            "                                                                                                  \n",
            " tf.__operators__.getitem_5 (Sl  (None,)             0           ['tf.compat.v1.squeeze[0][0]']   \n",
            " icingOpLambda)                                                                                   \n",
            "                                                                                                  \n",
            " tf.math.subtract (TFOpLambda)  (None, 700)          0           ['tf.compat.v1.gather[0][0]',    \n",
            "                                                                  'tf.compat.v1.gather_1[0][0]']  \n",
            "                                                                                                  \n",
            " tf.compat.v1.gather_2 (TFOpLam  (None, 700)         0           ['dropout[0][0]',                \n",
            " bda)                                                             'tf.__operators__.getitem_2[0][0\n",
            "                                                                 ]']                              \n",
            "                                                                                                  \n",
            " tf.compat.v1.gather_3 (TFOpLam  (None, 700)         0           ['dropout[0][0]',                \n",
            " bda)                                                             'tf.__operators__.getitem_3[0][0\n",
            "                                                                 ]']                              \n",
            "                                                                                                  \n",
            " tf.compat.v1.gather_4 (TFOpLam  (None, 700)         0           ['dropout[0][0]',                \n",
            " bda)                                                             'tf.__operators__.getitem_4[0][0\n",
            "                                                                 ]']                              \n",
            "                                                                                                  \n",
            " tf.compat.v1.gather_5 (TFOpLam  (None, 700)         0           ['dropout[0][0]',                \n",
            " bda)                                                             'tf.__operators__.getitem_5[0][0\n",
            "                                                                 ]']                              \n",
            "                                                                                                  \n",
            " tf.__operators__.getitem_6 (Sl  (None,)             0           ['tf.compat.v1.squeeze[0][0]']   \n",
            " icingOpLambda)                                                                                   \n",
            "                                                                                                  \n",
            " tf.__operators__.getitem_7 (Sl  (None,)             0           ['tf.compat.v1.squeeze[0][0]']   \n",
            " icingOpLambda)                                                                                   \n",
            "                                                                                                  \n",
            " tf.math.abs (TFOpLambda)       (None, 700)          0           ['tf.math.subtract[0][0]']       \n",
            "                                                                                                  \n",
            " tf.math.subtract_1 (TFOpLambda  (None, 700)         0           ['tf.compat.v1.gather_2[0][0]',  \n",
            " )                                                                'tf.compat.v1.gather_3[0][0]']  \n",
            "                                                                                                  \n",
            " tf.math.subtract_2 (TFOpLambda  (None, 700)         0           ['tf.compat.v1.gather_4[0][0]',  \n",
            " )                                                                'tf.compat.v1.gather_5[0][0]']  \n",
            "                                                                                                  \n",
            " tf.compat.v1.gather_6 (TFOpLam  (None, 700)         0           ['dropout[0][0]',                \n",
            " bda)                                                             'tf.__operators__.getitem_6[0][0\n",
            "                                                                 ]']                              \n",
            "                                                                                                  \n",
            " tf.compat.v1.gather_7 (TFOpLam  (None, 700)         0           ['dropout[0][0]',                \n",
            " bda)                                                             'tf.__operators__.getitem_7[0][0\n",
            "                                                                 ]']                              \n",
            "                                                                                                  \n",
            " tf.__operators__.getitem_8 (Sl  (None,)             0           ['tf.compat.v1.squeeze[0][0]']   \n",
            " icingOpLambda)                                                                                   \n",
            "                                                                                                  \n",
            " tf.__operators__.getitem_9 (Sl  (None,)             0           ['tf.compat.v1.squeeze[0][0]']   \n",
            " icingOpLambda)                                                                                   \n",
            "                                                                                                  \n",
            " tf.math.reduce_sum (TFOpLambda  (None, 1)           0           ['tf.math.abs[0][0]']            \n",
            " )                                                                                                \n",
            "                                                                                                  \n",
            " tf.math.abs_1 (TFOpLambda)     (None, 700)          0           ['tf.math.subtract_1[0][0]']     \n",
            "                                                                                                  \n",
            " tf.math.abs_2 (TFOpLambda)     (None, 700)          0           ['tf.math.subtract_2[0][0]']     \n",
            "                                                                                                  \n",
            " tf.math.subtract_3 (TFOpLambda  (None, 700)         0           ['tf.compat.v1.gather_6[0][0]',  \n",
            " )                                                                'tf.compat.v1.gather_7[0][0]']  \n",
            "                                                                                                  \n",
            " tf.compat.v1.gather_8 (TFOpLam  (None, 700)         0           ['dropout[0][0]',                \n",
            " bda)                                                             'tf.__operators__.getitem_8[0][0\n",
            "                                                                 ]']                              \n",
            "                                                                                                  \n",
            " tf.compat.v1.gather_9 (TFOpLam  (None, 700)         0           ['dropout[0][0]',                \n",
            " bda)                                                             'tf.__operators__.getitem_9[0][0\n",
            "                                                                 ]']                              \n",
            "                                                                                                  \n",
            " tf.__operators__.add (TFOpLamb  (None, 1)           0           ['tf.math.reduce_sum[0][0]']     \n",
            " da)                                                                                              \n",
            "                                                                                                  \n",
            " tf.math.reduce_sum_1 (TFOpLamb  (None, 1)           0           ['tf.math.abs_1[0][0]']          \n",
            " da)                                                                                              \n",
            "                                                                                                  \n",
            " tf.__operators__.add_1 (TFOpLa  (None, 1)           0           ['tf.math.reduce_sum[0][0]']     \n",
            " mbda)                                                                                            \n",
            "                                                                                                  \n",
            " tf.math.reduce_sum_2 (TFOpLamb  (None, 1)           0           ['tf.math.abs_2[0][0]']          \n",
            " da)                                                                                              \n",
            "                                                                                                  \n",
            " tf.math.abs_3 (TFOpLambda)     (None, 700)          0           ['tf.math.subtract_3[0][0]']     \n",
            "                                                                                                  \n",
            " tf.math.subtract_4 (TFOpLambda  (None, 700)         0           ['tf.compat.v1.gather_8[0][0]',  \n",
            " )                                                                'tf.compat.v1.gather_9[0][0]']  \n",
            "                                                                                                  \n",
            " tf.math.subtract_6 (TFOpLambda  (None, 1)           0           ['tf.__operators__.add[0][0]',   \n",
            " )                                                                'tf.math.reduce_sum_1[0][0]']   \n",
            "                                                                                                  \n",
            " tf.math.subtract_7 (TFOpLambda  (None, 1)           0           ['tf.__operators__.add_1[0][0]', \n",
            " )                                                                'tf.math.reduce_sum_2[0][0]']   \n",
            "                                                                                                  \n",
            " tf.__operators__.add_3 (TFOpLa  (None, 1)           0           ['tf.math.reduce_sum[0][0]']     \n",
            " mbda)                                                                                            \n",
            "                                                                                                  \n",
            " tf.math.reduce_sum_3 (TFOpLamb  (None, 1)           0           ['tf.math.abs_3[0][0]']          \n",
            " da)                                                                                              \n",
            "                                                                                                  \n",
            " tf.math.abs_4 (TFOpLambda)     (None, 700)          0           ['tf.math.subtract_4[0][0]']     \n",
            "                                                                                                  \n",
            " tf.nn.relu (TFOpLambda)        (None, 1)            0           ['tf.math.subtract_6[0][0]']     \n",
            "                                                                                                  \n",
            " tf.nn.relu_1 (TFOpLambda)      (None, 1)            0           ['tf.math.subtract_7[0][0]']     \n",
            "                                                                                                  \n",
            " tf.math.subtract_8 (TFOpLambda  (None, 1)           0           ['tf.__operators__.add_3[0][0]', \n",
            " )                                                                'tf.math.reduce_sum_3[0][0]']   \n",
            "                                                                                                  \n",
            " tf.__operators__.add_5 (TFOpLa  (None, 1)           0           ['tf.math.reduce_sum[0][0]']     \n",
            " mbda)                                                                                            \n",
            "                                                                                                  \n",
            " tf.math.reduce_sum_4 (TFOpLamb  (None, 1)           0           ['tf.math.abs_4[0][0]']          \n",
            " da)                                                                                              \n",
            "                                                                                                  \n",
            " tf.__operators__.add_2 (TFOpLa  (None, 1)           0           ['tf.nn.relu[0][0]',             \n",
            " mbda)                                                            'tf.nn.relu_1[0][0]']           \n",
            "                                                                                                  \n",
            " tf.nn.relu_2 (TFOpLambda)      (None, 1)            0           ['tf.math.subtract_8[0][0]']     \n",
            "                                                                                                  \n",
            " tf.math.subtract_9 (TFOpLambda  (None, 1)           0           ['tf.__operators__.add_5[0][0]', \n",
            " )                                                                'tf.math.reduce_sum_4[0][0]']   \n",
            "                                                                                                  \n",
            " tf.__operators__.add_4 (TFOpLa  (None, 1)           0           ['tf.__operators__.add_2[0][0]', \n",
            " mbda)                                                            'tf.nn.relu_2[0][0]']           \n",
            "                                                                                                  \n",
            " tf.nn.relu_3 (TFOpLambda)      (None, 1)            0           ['tf.math.subtract_9[0][0]']     \n",
            "                                                                                                  \n",
            " tf.__operators__.add_6 (TFOpLa  (None, 1)           0           ['tf.__operators__.add_4[0][0]', \n",
            " mbda)                                                            'tf.nn.relu_3[0][0]']           \n",
            "                                                                                                  \n",
            " tf.math.reduce_sum_6 (TFOpLamb  (1, 1)              0           ['tf.__operators__.add_6[0][0]'] \n",
            " da)                                                                                              \n",
            "                                                                                                  \n",
            " tf.math.truediv_1 (TFOpLambda)  (1, 1)              0           ['tf.math.reduce_sum_6[0][0]']   \n",
            "                                                                                                  \n",
            "==================================================================================================\n",
            "Total params: 4,501,401\n",
            "Trainable params: 4,501,400\n",
            "Non-trainable params: 1\n",
            "__________________________________________________________________________________________________\n"
          ]
        }
      ],
      "source": [
        "model,get_emb,get_losses = get_trgat(dropout_rate=0.30,node_size=node_size,rel_size=rel_size,n_attn_heads = 1,depth=2,gamma =3,node_hidden=100,rel_hidden = 100,triple_size = triple_size)\n",
        "model.summary(); initial_weights = model.get_weights()"
      ]
    },
    {
      "cell_type": "code",
      "execution_count": 28,
      "metadata": {
        "colab": {
          "base_uri": "https://localhost:8080/"
        },
        "id": "lMdo-YeF7Hp_",
        "outputId": "dd3d8fa6-5392-47fc-e9e3-381399b6b232"
      },
      "outputs": [
        {
          "output_type": "stream",
          "name": "stdout",
          "text": [
            "iteration 0 start.\n"
          ]
        },
        {
          "output_type": "stream",
          "name": "stderr",
          "text": [
            "  8%|▊         | 99/1200 [01:46<18:19,  1.00it/s]"
          ]
        },
        {
          "output_type": "stream",
          "name": "stdout",
          "text": [
            "[0.00273105 0.0047467  0.00496072 0.00413037 0.00401411 0.0036807\n",
            " 0.00333947]\n"
          ]
        },
        {
          "output_type": "stream",
          "name": "stderr",
          "text": [
            "\r  8%|▊         | 100/1200 [02:04<1:54:04,  6.22s/it]"
          ]
        },
        {
          "output_type": "stream",
          "name": "stdout",
          "text": [
            "accurate results: hits@[1, 5, 10] = [64.77 86.92 91.65], mr = 13.050, mrr = 0.745, time = 15.444 s \n"
          ]
        },
        {
          "output_type": "stream",
          "name": "stderr",
          "text": [
            " 17%|█▋        | 199/1200 [03:43<16:31,  1.01it/s]"
          ]
        },
        {
          "output_type": "stream",
          "name": "stdout",
          "text": [
            "[0.00393762 0.0064263  0.00670402 0.00540828 0.00577159 0.00530055\n",
            " 0.00479029]\n"
          ]
        },
        {
          "output_type": "stream",
          "name": "stderr",
          "text": [
            "\r 17%|█▋        | 200/1200 [04:01<1:37:14,  5.83s/it]"
          ]
        },
        {
          "output_type": "stream",
          "name": "stdout",
          "text": [
            "accurate results: hits@[1, 5, 10] = [69.07 88.82 92.81], mr = 12.775, mrr = 0.778, time = 14.984 s \n"
          ]
        },
        {
          "output_type": "stream",
          "name": "stderr",
          "text": [
            " 25%|██▍       | 299/1200 [05:41<15:01,  1.00s/it]"
          ]
        },
        {
          "output_type": "stream",
          "name": "stdout",
          "text": [
            "[0.00452677 0.00719263 0.00755533 0.00603444 0.00647808 0.00602208\n",
            " 0.00547795]\n"
          ]
        },
        {
          "output_type": "stream",
          "name": "stderr",
          "text": [
            "\r 25%|██▌       | 300/1200 [05:58<1:28:19,  5.89s/it]"
          ]
        },
        {
          "output_type": "stream",
          "name": "stdout",
          "text": [
            "accurate results: hits@[1, 5, 10] = [70.53 89.12 93.17], mr = 13.002, mrr = 0.789, time = 15.160 s \n"
          ]
        },
        {
          "output_type": "stream",
          "name": "stderr",
          "text": [
            " 33%|███▎      | 399/1200 [07:37<13:19,  1.00it/s]"
          ]
        },
        {
          "output_type": "stream",
          "name": "stdout",
          "text": [
            "[0.0049459  0.00763608 0.00813381 0.00645556 0.00684685 0.0064495\n",
            " 0.00583303]\n"
          ]
        },
        {
          "output_type": "stream",
          "name": "stderr",
          "text": [
            "\r 33%|███▎      | 400/1200 [07:54<1:18:21,  5.88s/it]"
          ]
        },
        {
          "output_type": "stream",
          "name": "stdout",
          "text": [
            "accurate results: hits@[1, 5, 10] = [71.93 89.42 93.19], mr = 13.060, mrr = 0.797, time = 15.116 s \n"
          ]
        },
        {
          "output_type": "stream",
          "name": "stderr",
          "text": [
            " 42%|████▏     | 499/1200 [09:34<11:25,  1.02it/s]"
          ]
        },
        {
          "output_type": "stream",
          "name": "stdout",
          "text": [
            "[0.00522217 0.00775766 0.00820736 0.00650828 0.00699841 0.00667283\n",
            " 0.00608653]\n"
          ]
        },
        {
          "output_type": "stream",
          "name": "stderr",
          "text": [
            "\r 42%|████▏     | 500/1200 [09:51<1:08:09,  5.84s/it]"
          ]
        },
        {
          "output_type": "stream",
          "name": "stdout",
          "text": [
            "accurate results: hits@[1, 5, 10] = [72.09 89.71 93.32], mr = 12.965, mrr = 0.799, time = 15.039 s \n"
          ]
        },
        {
          "output_type": "stream",
          "name": "stderr",
          "text": [
            " 50%|████▉     | 599/1200 [11:30<09:59,  1.00it/s]"
          ]
        },
        {
          "output_type": "stream",
          "name": "stdout",
          "text": [
            "[0.0054331  0.00777692 0.00838224 0.00654162 0.00708799 0.00684998\n",
            " 0.00631093]\n"
          ]
        },
        {
          "output_type": "stream",
          "name": "stderr",
          "text": [
            "\r 50%|█████     | 600/1200 [11:48<59:30,  5.95s/it]"
          ]
        },
        {
          "output_type": "stream",
          "name": "stdout",
          "text": [
            "accurate results: hits@[1, 5, 10] = [72.77 90.   93.43], mr = 13.563, mrr = 0.804, time = 15.321 s \n"
          ]
        },
        {
          "output_type": "stream",
          "name": "stderr",
          "text": [
            " 58%|█████▊    | 699/1200 [13:28<08:22,  1.00s/it]"
          ]
        },
        {
          "output_type": "stream",
          "name": "stdout",
          "text": [
            "[0.00559532 0.00769386 0.00828644 0.0064255  0.00716953 0.00694983\n",
            " 0.00638403]\n"
          ]
        },
        {
          "output_type": "stream",
          "name": "stderr",
          "text": [
            "\r 58%|█████▊    | 700/1200 [13:46<49:22,  5.93s/it]"
          ]
        },
        {
          "output_type": "stream",
          "name": "stdout",
          "text": [
            "accurate results: hits@[1, 5, 10] = [72.62 89.83 93.42], mr = 14.438, mrr = 0.803, time = 15.328 s \n"
          ]
        },
        {
          "output_type": "stream",
          "name": "stderr",
          "text": [
            " 67%|██████▋   | 799/1200 [15:26<06:44,  1.01s/it]"
          ]
        },
        {
          "output_type": "stream",
          "name": "stdout",
          "text": [
            "[0.00573415 0.00759603 0.00815632 0.00633168 0.00723386 0.006998\n",
            " 0.00649728]\n"
          ]
        },
        {
          "output_type": "stream",
          "name": "stderr",
          "text": [
            "\r 67%|██████▋   | 800/1200 [15:43<39:11,  5.88s/it]"
          ]
        },
        {
          "output_type": "stream",
          "name": "stdout",
          "text": [
            "accurate results: hits@[1, 5, 10] = [73.16 89.9  93.35], mr = 15.358, mrr = 0.806, time = 15.147 s \n"
          ]
        },
        {
          "output_type": "stream",
          "name": "stderr",
          "text": [
            " 75%|███████▍  | 899/1200 [17:23<04:57,  1.01it/s]"
          ]
        },
        {
          "output_type": "stream",
          "name": "stdout",
          "text": [
            "[0.0058526  0.0074906  0.00801844 0.0061403  0.0072031  0.00698486\n",
            " 0.00644723]\n",
            "accurate results: hits@[1, 5, 10] = [73.15 89.82 93.37], mr = 15.889, mrr = 0.806, time = 15.255 s \n"
          ]
        },
        {
          "output_type": "stream",
          "name": "stderr",
          "text": [
            " 83%|████████▎ | 999/1200 [19:21<03:22,  1.01s/it]"
          ]
        },
        {
          "output_type": "stream",
          "name": "stdout",
          "text": [
            "[0.00594666 0.00730087 0.00774869 0.00592234 0.00716221 0.00694376\n",
            " 0.00641669]\n"
          ]
        },
        {
          "output_type": "stream",
          "name": "stderr",
          "text": [
            "\r 83%|████████▎ | 1000/1200 [19:39<19:51,  5.96s/it]"
          ]
        },
        {
          "output_type": "stream",
          "name": "stdout",
          "text": [
            "accurate results: hits@[1, 5, 10] = [73.41 89.89 93.39], mr = 15.847, mrr = 0.808, time = 15.435 s \n"
          ]
        },
        {
          "output_type": "stream",
          "name": "stderr",
          "text": [
            " 92%|█████████▏| 1099/1200 [21:18<01:39,  1.02it/s]"
          ]
        },
        {
          "output_type": "stream",
          "name": "stdout",
          "text": [
            "[0.00600951 0.00714245 0.00756897 0.0057169  0.00716081 0.00689481\n",
            " 0.00639375]\n"
          ]
        },
        {
          "output_type": "stream",
          "name": "stderr",
          "text": [
            "\r 92%|█████████▏| 1100/1200 [21:36<09:54,  5.94s/it]"
          ]
        },
        {
          "output_type": "stream",
          "name": "stdout",
          "text": [
            "accurate results: hits@[1, 5, 10] = [73.32 90.01 93.34], mr = 16.078, mrr = 0.807, time = 15.329 s \n"
          ]
        },
        {
          "output_type": "stream",
          "name": "stderr",
          "text": [
            "100%|█████████▉| 1199/1200 [23:16<00:01,  1.00s/it]"
          ]
        },
        {
          "output_type": "stream",
          "name": "stdout",
          "text": [
            "[0.00608781 0.0068591  0.00736925 0.00558729 0.00714634 0.00692412\n",
            " 0.00637183]\n"
          ]
        },
        {
          "output_type": "stream",
          "name": "stderr",
          "text": [
            "100%|██████████| 1200/1200 [23:33<00:00,  1.18s/it]"
          ]
        },
        {
          "output_type": "stream",
          "name": "stdout",
          "text": [
            "accurate results: hits@[1, 5, 10] = [73.8  89.82 93.23], mr = 16.490, mrr = 0.809, time = 14.989 s \n"
          ]
        },
        {
          "output_type": "stream",
          "name": "stderr",
          "text": [
            "\n"
          ]
        },
        {
          "output_type": "stream",
          "name": "stdout",
          "text": [
            "generate new semi-pairs: 7695.\n",
            "iteration 1 start.\n"
          ]
        },
        {
          "output_type": "stream",
          "name": "stderr",
          "text": [
            "  8%|▊         | 99/1200 [01:40<18:19,  1.00it/s]"
          ]
        },
        {
          "output_type": "stream",
          "name": "stdout",
          "text": [
            "[0.01182793 0.00888805 0.00932063 0.00776299 0.01206777 0.0094524\n",
            " 0.00833476]\n"
          ]
        },
        {
          "output_type": "stream",
          "name": "stderr",
          "text": [
            "\r  8%|▊         | 100/1200 [01:57<1:44:37,  5.71s/it]"
          ]
        },
        {
          "output_type": "stream",
          "name": "stdout",
          "text": [
            "accurate results: hits@[1, 5, 10] = [76.15 91.27 94.22], mr = 12.124, mrr = 0.829, time = 14.531 s \n"
          ]
        },
        {
          "output_type": "stream",
          "name": "stderr",
          "text": [
            " 17%|█▋        | 199/1200 [03:38<16:41,  1.00s/it]"
          ]
        },
        {
          "output_type": "stream",
          "name": "stdout",
          "text": [
            "[0.01179307 0.00908743 0.00952128 0.00792463 0.01193281 0.00949972\n",
            " 0.00845655]\n"
          ]
        },
        {
          "output_type": "stream",
          "name": "stderr",
          "text": [
            "\r 17%|█▋        | 200/1200 [03:55<1:35:37,  5.74s/it]"
          ]
        },
        {
          "output_type": "stream",
          "name": "stdout",
          "text": [
            "accurate results: hits@[1, 5, 10] = [76.82 91.53 94.34], mr = 12.315, mrr = 0.833, time = 14.730 s \n"
          ]
        },
        {
          "output_type": "stream",
          "name": "stderr",
          "text": [
            " 25%|██▍       | 299/1200 [05:35<15:04,  1.00s/it]"
          ]
        },
        {
          "output_type": "stream",
          "name": "stdout",
          "text": [
            "[0.01179653 0.0090282  0.00949634 0.00786957 0.01185332 0.00954807\n",
            " 0.008518  ]\n"
          ]
        },
        {
          "output_type": "stream",
          "name": "stderr",
          "text": [
            "\r 25%|██▌       | 300/1200 [05:52<1:26:03,  5.74s/it]"
          ]
        },
        {
          "output_type": "stream",
          "name": "stdout",
          "text": [
            "accurate results: hits@[1, 5, 10] = [76.81 91.5  94.33], mr = 12.431, mrr = 0.833, time = 14.622 s \n"
          ]
        },
        {
          "output_type": "stream",
          "name": "stderr",
          "text": [
            " 33%|███▎      | 399/1200 [07:32<13:39,  1.02s/it]"
          ]
        },
        {
          "output_type": "stream",
          "name": "stdout",
          "text": [
            "[0.01180172 0.00897617 0.0095277  0.00804416 0.01180176 0.00961427\n",
            " 0.00862909]\n"
          ]
        },
        {
          "output_type": "stream",
          "name": "stderr",
          "text": [
            "\r 33%|███▎      | 400/1200 [07:49<1:16:21,  5.73s/it]"
          ]
        },
        {
          "output_type": "stream",
          "name": "stdout",
          "text": [
            "accurate results: hits@[1, 5, 10] = [77.19 91.61 94.3 ], mr = 12.297, mrr = 0.835, time = 14.622 s \n"
          ]
        },
        {
          "output_type": "stream",
          "name": "stderr",
          "text": [
            " 42%|████▏     | 499/1200 [09:30<12:09,  1.04s/it]"
          ]
        },
        {
          "output_type": "stream",
          "name": "stdout",
          "text": [
            "[0.01183067 0.00888539 0.00934648 0.00772604 0.01173743 0.00949754\n",
            " 0.00852625]\n"
          ]
        },
        {
          "output_type": "stream",
          "name": "stderr",
          "text": [
            "\r 42%|████▏     | 500/1200 [09:47<1:08:43,  5.89s/it]"
          ]
        },
        {
          "output_type": "stream",
          "name": "stdout",
          "text": [
            "accurate results: hits@[1, 5, 10] = [77.09 91.72 94.37], mr = 12.765, mrr = 0.836, time = 14.989 s \n"
          ]
        },
        {
          "output_type": "stream",
          "name": "stderr",
          "text": [
            " 50%|████▉     | 599/1200 [11:28<09:53,  1.01it/s]"
          ]
        },
        {
          "output_type": "stream",
          "name": "stdout",
          "text": [
            "[0.01185109 0.00877645 0.00926261 0.00756086 0.01167715 0.00945142\n",
            " 0.00853099]\n"
          ]
        },
        {
          "output_type": "stream",
          "name": "stderr",
          "text": [
            "\r 50%|█████     | 600/1200 [11:45<57:21,  5.74s/it]"
          ]
        },
        {
          "output_type": "stream",
          "name": "stdout",
          "text": [
            "accurate results: hits@[1, 5, 10] = [77.5  91.78 94.49], mr = 12.454, mrr = 0.838, time = 14.702 s \n"
          ]
        },
        {
          "output_type": "stream",
          "name": "stderr",
          "text": [
            " 58%|█████▊    | 699/1200 [13:26<08:26,  1.01s/it]"
          ]
        },
        {
          "output_type": "stream",
          "name": "stdout",
          "text": [
            "[0.0118702  0.00854382 0.00898227 0.0073613  0.0115537  0.00934946\n",
            " 0.00838929]\n"
          ]
        },
        {
          "output_type": "stream",
          "name": "stderr",
          "text": [
            "\r 58%|█████▊    | 700/1200 [13:42<47:36,  5.71s/it]"
          ]
        },
        {
          "output_type": "stream",
          "name": "stdout",
          "text": [
            "accurate results: hits@[1, 5, 10] = [77.54 91.89 94.49], mr = 12.839, mrr = 0.839, time = 14.533 s \n"
          ]
        },
        {
          "output_type": "stream",
          "name": "stderr",
          "text": [
            " 67%|██████▋   | 799/1200 [15:22<06:47,  1.02s/it]"
          ]
        },
        {
          "output_type": "stream",
          "name": "stdout",
          "text": [
            "[0.01185929 0.00834515 0.00872679 0.00713944 0.01144406 0.00929101\n",
            " 0.00836803]\n"
          ]
        },
        {
          "output_type": "stream",
          "name": "stderr",
          "text": [
            "\r 67%|██████▋   | 800/1200 [15:39<38:00,  5.70s/it]"
          ]
        },
        {
          "output_type": "stream",
          "name": "stdout",
          "text": [
            "accurate results: hits@[1, 5, 10] = [77.49 91.81 94.39], mr = 12.909, mrr = 0.839, time = 14.496 s \n"
          ]
        },
        {
          "output_type": "stream",
          "name": "stderr",
          "text": [
            " 75%|███████▍  | 899/1200 [17:19<04:58,  1.01it/s]"
          ]
        },
        {
          "output_type": "stream",
          "name": "stdout",
          "text": [
            "[0.01187242 0.0081125  0.00851887 0.00688126 0.01134313 0.00921816\n",
            " 0.00828314]\n"
          ]
        },
        {
          "output_type": "stream",
          "name": "stderr",
          "text": [
            "\r 75%|███████▌  | 900/1200 [17:36<28:41,  5.74s/it]"
          ]
        },
        {
          "output_type": "stream",
          "name": "stdout",
          "text": [
            "accurate results: hits@[1, 5, 10] = [77.82 91.78 94.39], mr = 13.377, mrr = 0.840, time = 14.670 s \n"
          ]
        },
        {
          "output_type": "stream",
          "name": "stderr",
          "text": [
            " 83%|████████▎ | 999/1200 [19:16<03:26,  1.03s/it]"
          ]
        },
        {
          "output_type": "stream",
          "name": "stdout",
          "text": [
            "[0.01186653 0.00795733 0.00827279 0.00664925 0.0112464  0.00913324\n",
            " 0.00818323]\n"
          ]
        },
        {
          "output_type": "stream",
          "name": "stderr",
          "text": [
            "\r 83%|████████▎ | 1000/1200 [19:33<19:13,  5.77s/it]"
          ]
        },
        {
          "output_type": "stream",
          "name": "stdout",
          "text": [
            "accurate results: hits@[1, 5, 10] = [77.73 91.79 94.56], mr = 13.181, mrr = 0.840, time = 14.662 s \n"
          ]
        },
        {
          "output_type": "stream",
          "name": "stderr",
          "text": [
            " 92%|█████████▏| 1099/1200 [21:13<01:41,  1.00s/it]"
          ]
        },
        {
          "output_type": "stream",
          "name": "stdout",
          "text": [
            "[0.01187288 0.00790517 0.00819792 0.00659242 0.01119067 0.00911521\n",
            " 0.00814127]\n"
          ]
        },
        {
          "output_type": "stream",
          "name": "stderr",
          "text": [
            "\r 92%|█████████▏| 1100/1200 [21:30<09:35,  5.76s/it]"
          ]
        },
        {
          "output_type": "stream",
          "name": "stdout",
          "text": [
            "accurate results: hits@[1, 5, 10] = [77.8  91.93 94.41], mr = 13.595, mrr = 0.840, time = 14.711 s \n"
          ]
        },
        {
          "output_type": "stream",
          "name": "stderr",
          "text": [
            "100%|█████████▉| 1199/1200 [23:11<00:00,  1.00it/s]"
          ]
        },
        {
          "output_type": "stream",
          "name": "stdout",
          "text": [
            "[0.01190063 0.00779617 0.00811652 0.00654272 0.01114769 0.009094\n",
            " 0.00815624]\n"
          ]
        },
        {
          "output_type": "stream",
          "name": "stderr",
          "text": [
            "100%|██████████| 1200/1200 [23:28<00:00,  1.17s/it]"
          ]
        },
        {
          "output_type": "stream",
          "name": "stdout",
          "text": [
            "accurate results: hits@[1, 5, 10] = [77.83 91.9  94.49], mr = 13.712, mrr = 0.841, time = 14.586 s \n"
          ]
        },
        {
          "output_type": "stream",
          "name": "stderr",
          "text": [
            "\n"
          ]
        },
        {
          "output_type": "stream",
          "name": "stdout",
          "text": [
            "generate new semi-pairs: 1633.\n",
            "iteration 2 start.\n"
          ]
        },
        {
          "output_type": "stream",
          "name": "stderr",
          "text": [
            "  8%|▊         | 99/1200 [01:40<18:38,  1.02s/it]"
          ]
        },
        {
          "output_type": "stream",
          "name": "stdout",
          "text": [
            "[0.01289813 0.00900903 0.00963573 0.00780249 0.01267591 0.01025401\n",
            " 0.00919322]\n"
          ]
        },
        {
          "output_type": "stream",
          "name": "stderr",
          "text": [
            "\r  8%|▊         | 100/1200 [01:58<1:47:58,  5.89s/it]"
          ]
        },
        {
          "output_type": "stream",
          "name": "stdout",
          "text": [
            "accurate results: hits@[1, 5, 10] = [80.06 92.32 94.69], mr = 12.829, mrr = 0.855, time = 15.181 s \n"
          ]
        },
        {
          "output_type": "stream",
          "name": "stderr",
          "text": [
            " 17%|█▋        | 199/1200 [03:39<16:53,  1.01s/it]"
          ]
        },
        {
          "output_type": "stream",
          "name": "stdout",
          "text": [
            "[0.01291318 0.00880176 0.00945738 0.00771847 0.01262883 0.01026557\n",
            " 0.00924274]\n"
          ]
        },
        {
          "output_type": "stream",
          "name": "stderr",
          "text": [
            "\r 17%|█▋        | 200/1200 [03:56<1:37:45,  5.87s/it]"
          ]
        },
        {
          "output_type": "stream",
          "name": "stdout",
          "text": [
            "accurate results: hits@[1, 5, 10] = [80.13 92.38 94.87], mr = 13.052, mrr = 0.855, time = 15.099 s \n"
          ]
        },
        {
          "output_type": "stream",
          "name": "stderr",
          "text": [
            " 25%|██▍       | 299/1200 [05:37<15:00,  1.00it/s]"
          ]
        },
        {
          "output_type": "stream",
          "name": "stdout",
          "text": [
            "[0.01293234 0.0086388  0.00913193 0.0073977  0.012562   0.01018414\n",
            " 0.0091464 ]\n"
          ]
        },
        {
          "output_type": "stream",
          "name": "stderr",
          "text": [
            "\r 25%|██▌       | 300/1200 [05:54<1:29:07,  5.94s/it]"
          ]
        },
        {
          "output_type": "stream",
          "name": "stdout",
          "text": [
            "accurate results: hits@[1, 5, 10] = [80.2  92.45 94.76], mr = 13.527, mrr = 0.856, time = 15.358 s \n"
          ]
        },
        {
          "output_type": "stream",
          "name": "stderr",
          "text": [
            " 33%|███▎      | 399/1200 [07:34<13:21,  1.00s/it]"
          ]
        },
        {
          "output_type": "stream",
          "name": "stdout",
          "text": [
            "[0.01293051 0.00849829 0.00899669 0.00728865 0.01246835 0.01020618\n",
            " 0.00919985]\n"
          ]
        },
        {
          "output_type": "stream",
          "name": "stderr",
          "text": [
            "\r 33%|███▎      | 400/1200 [07:51<1:18:30,  5.89s/it]"
          ]
        },
        {
          "output_type": "stream",
          "name": "stdout",
          "text": [
            "accurate results: hits@[1, 5, 10] = [80.32 92.47 94.8 ], mr = 14.067, mrr = 0.857, time = 15.187 s \n"
          ]
        },
        {
          "output_type": "stream",
          "name": "stderr",
          "text": [
            " 42%|████▏     | 499/1200 [09:31<11:38,  1.00it/s]"
          ]
        },
        {
          "output_type": "stream",
          "name": "stdout",
          "text": [
            "[0.01293304 0.00841217 0.00887932 0.00719217 0.01237189 0.0100827\n",
            " 0.00907559]\n"
          ]
        },
        {
          "output_type": "stream",
          "name": "stderr",
          "text": [
            "\r 42%|████▏     | 500/1200 [09:48<1:09:12,  5.93s/it]"
          ]
        },
        {
          "output_type": "stream",
          "name": "stdout",
          "text": [
            "accurate results: hits@[1, 5, 10] = [80.32 92.47 94.89], mr = 14.113, mrr = 0.857, time = 15.317 s \n"
          ]
        },
        {
          "output_type": "stream",
          "name": "stderr",
          "text": [
            " 50%|████▉     | 599/1200 [11:29<09:55,  1.01it/s]"
          ]
        },
        {
          "output_type": "stream",
          "name": "stdout",
          "text": [
            "[0.01294228 0.00816154 0.00866228 0.00692567 0.01225111 0.00997237\n",
            " 0.0089143 ]\n"
          ]
        },
        {
          "output_type": "stream",
          "name": "stderr",
          "text": [
            "\r 50%|█████     | 600/1200 [11:46<59:10,  5.92s/it]"
          ]
        },
        {
          "output_type": "stream",
          "name": "stdout",
          "text": [
            "accurate results: hits@[1, 5, 10] = [80.44 92.39 94.76], mr = 14.880, mrr = 0.857, time = 15.228 s \n"
          ]
        },
        {
          "output_type": "stream",
          "name": "stderr",
          "text": [
            " 58%|█████▊    | 699/1200 [13:26<08:18,  1.00it/s]"
          ]
        },
        {
          "output_type": "stream",
          "name": "stdout",
          "text": [
            "[0.01294655 0.00801188 0.00855371 0.00683972 0.01217432 0.00991005\n",
            " 0.0088798 ]\n"
          ]
        },
        {
          "output_type": "stream",
          "name": "stderr",
          "text": [
            "\r 58%|█████▊    | 700/1200 [13:43<49:05,  5.89s/it]"
          ]
        },
        {
          "output_type": "stream",
          "name": "stdout",
          "text": [
            "accurate results: hits@[1, 5, 10] = [80.43 92.37 94.78], mr = 15.327, mrr = 0.857, time = 15.187 s \n"
          ]
        },
        {
          "output_type": "stream",
          "name": "stderr",
          "text": [
            " 67%|██████▋   | 799/1200 [15:23<06:48,  1.02s/it]"
          ]
        },
        {
          "output_type": "stream",
          "name": "stdout",
          "text": [
            "[0.01295104 0.00779724 0.00824501 0.0065295  0.01205018 0.00977481\n",
            " 0.0086742 ]\n"
          ]
        },
        {
          "output_type": "stream",
          "name": "stderr",
          "text": [
            "\r 67%|██████▋   | 800/1200 [15:41<39:18,  5.90s/it]"
          ]
        },
        {
          "output_type": "stream",
          "name": "stdout",
          "text": [
            "accurate results: hits@[1, 5, 10] = [80.5  92.37 94.77], mr = 15.232, mrr = 0.858, time = 15.152 s \n"
          ]
        },
        {
          "output_type": "stream",
          "name": "stderr",
          "text": [
            " 75%|███████▍  | 899/1200 [17:21<05:01,  1.00s/it]"
          ]
        },
        {
          "output_type": "stream",
          "name": "stdout",
          "text": [
            "[0.0129563  0.00769374 0.00814219 0.00650001 0.01198928 0.00969797\n",
            " 0.00867545]\n"
          ]
        },
        {
          "output_type": "stream",
          "name": "stderr",
          "text": [
            "\r 75%|███████▌  | 900/1200 [17:38<29:27,  5.89s/it]"
          ]
        },
        {
          "output_type": "stream",
          "name": "stdout",
          "text": [
            "accurate results: hits@[1, 5, 10] = [80.48 92.45 94.71], mr = 15.565, mrr = 0.857, time = 15.142 s \n"
          ]
        },
        {
          "output_type": "stream",
          "name": "stderr",
          "text": [
            " 83%|████████▎ | 999/1200 [19:18<03:17,  1.02it/s]"
          ]
        },
        {
          "output_type": "stream",
          "name": "stdout",
          "text": [
            "[0.01295991 0.00760611 0.00812453 0.00648108 0.01192537 0.00972177\n",
            " 0.00869933]\n"
          ]
        },
        {
          "output_type": "stream",
          "name": "stderr",
          "text": [
            "\r 83%|████████▎ | 1000/1200 [19:35<19:43,  5.92s/it]"
          ]
        },
        {
          "output_type": "stream",
          "name": "stdout",
          "text": [
            "accurate results: hits@[1, 5, 10] = [80.52 92.59 94.81], mr = 15.620, mrr = 0.858, time = 15.341 s \n"
          ]
        },
        {
          "output_type": "stream",
          "name": "stderr",
          "text": [
            " 92%|█████████▏| 1099/1200 [21:16<01:40,  1.01it/s]"
          ]
        },
        {
          "output_type": "stream",
          "name": "stdout",
          "text": [
            "[0.01295128 0.00742261 0.00786727 0.00625442 0.01180357 0.0096118\n",
            " 0.00860456]\n"
          ]
        },
        {
          "output_type": "stream",
          "name": "stderr",
          "text": [
            "\r 92%|█████████▏| 1100/1200 [21:33<09:53,  5.94s/it]"
          ]
        },
        {
          "output_type": "stream",
          "name": "stdout",
          "text": [
            "accurate results: hits@[1, 5, 10] = [80.86 92.47 94.72], mr = 15.954, mrr = 0.860, time = 15.326 s \n"
          ]
        },
        {
          "output_type": "stream",
          "name": "stderr",
          "text": [
            "100%|█████████▉| 1199/1200 [23:14<00:00,  1.01it/s]"
          ]
        },
        {
          "output_type": "stream",
          "name": "stdout",
          "text": [
            "[0.01295577 0.00731463 0.00773828 0.0061139  0.01173997 0.00957822\n",
            " 0.00858407]\n"
          ]
        },
        {
          "output_type": "stream",
          "name": "stderr",
          "text": [
            "100%|██████████| 1200/1200 [23:32<00:00,  1.18s/it]"
          ]
        },
        {
          "output_type": "stream",
          "name": "stdout",
          "text": [
            "accurate results: hits@[1, 5, 10] = [80.79 92.45 94.83], mr = 15.747, mrr = 0.859, time = 15.322 s \n"
          ]
        },
        {
          "output_type": "stream",
          "name": "stderr",
          "text": [
            "\n"
          ]
        },
        {
          "output_type": "stream",
          "name": "stdout",
          "text": [
            "generate new semi-pairs: 575.\n",
            "iteration 3 start.\n"
          ]
        },
        {
          "output_type": "stream",
          "name": "stderr",
          "text": [
            "  8%|▊         | 99/1200 [01:40<18:28,  1.01s/it]"
          ]
        },
        {
          "output_type": "stream",
          "name": "stdout",
          "text": [
            "[0.01345527 0.00806571 0.00869684 0.00696843 0.01268085 0.01041936\n",
            " 0.00938459]\n"
          ]
        },
        {
          "output_type": "stream",
          "name": "stderr",
          "text": [
            "\r  8%|▊         | 100/1200 [01:57<1:48:19,  5.91s/it]"
          ]
        },
        {
          "output_type": "stream",
          "name": "stdout",
          "text": [
            "accurate results: hits@[1, 5, 10] = [81.11 92.84 94.81], mr = 14.656, mrr = 0.863, time = 15.177 s \n"
          ]
        },
        {
          "output_type": "stream",
          "name": "stderr",
          "text": [
            " 17%|█▋        | 199/1200 [03:38<16:43,  1.00s/it]"
          ]
        },
        {
          "output_type": "stream",
          "name": "stdout",
          "text": [
            "[0.01345179 0.0078433  0.00839943 0.00666017 0.01255244 0.01024862\n",
            " 0.00917542]\n"
          ]
        },
        {
          "output_type": "stream",
          "name": "stderr",
          "text": [
            "\r 17%|█▋        | 200/1200 [03:55<1:39:28,  5.97s/it]"
          ]
        },
        {
          "output_type": "stream",
          "name": "stdout",
          "text": [
            "accurate results: hits@[1, 5, 10] = [81.38 92.91 94.84], mr = 15.523, mrr = 0.865, time = 15.484 s \n"
          ]
        },
        {
          "output_type": "stream",
          "name": "stderr",
          "text": [
            " 25%|██▍       | 299/1200 [05:36<15:06,  1.01s/it]"
          ]
        },
        {
          "output_type": "stream",
          "name": "stdout",
          "text": [
            "[0.01346656 0.00782798 0.00837878 0.00664951 0.01250453 0.01020448\n",
            " 0.0091567 ]\n"
          ]
        },
        {
          "output_type": "stream",
          "name": "stderr",
          "text": [
            "\r 25%|██▌       | 300/1200 [05:53<1:29:04,  5.94s/it]"
          ]
        },
        {
          "output_type": "stream",
          "name": "stdout",
          "text": [
            "accurate results: hits@[1, 5, 10] = [81.36 92.86 94.94], mr = 15.908, mrr = 0.865, time = 15.318 s \n"
          ]
        },
        {
          "output_type": "stream",
          "name": "stderr",
          "text": [
            " 33%|███▎      | 399/1200 [07:33<13:39,  1.02s/it]"
          ]
        },
        {
          "output_type": "stream",
          "name": "stdout",
          "text": [
            "[0.01347583 0.00762211 0.0081899  0.00646866 0.01244341 0.01018355\n",
            " 0.00913491]\n"
          ]
        },
        {
          "output_type": "stream",
          "name": "stderr",
          "text": [
            "\r 33%|███▎      | 400/1200 [07:51<1:19:56,  6.00s/it]"
          ]
        },
        {
          "output_type": "stream",
          "name": "stdout",
          "text": [
            "accurate results: hits@[1, 5, 10] = [81.29 92.85 94.83], mr = 16.275, mrr = 0.865, time = 15.438 s \n"
          ]
        },
        {
          "output_type": "stream",
          "name": "stderr",
          "text": [
            " 42%|████▏     | 499/1200 [09:32<11:48,  1.01s/it]"
          ]
        },
        {
          "output_type": "stream",
          "name": "stdout",
          "text": [
            "[0.01347387 0.00747147 0.00802307 0.0062652  0.01234796 0.01009192\n",
            " 0.00895832]\n"
          ]
        },
        {
          "output_type": "stream",
          "name": "stderr",
          "text": [
            "\r 42%|████▏     | 500/1200 [09:50<1:09:44,  5.98s/it]"
          ]
        },
        {
          "output_type": "stream",
          "name": "stdout",
          "text": [
            "accurate results: hits@[1, 5, 10] = [81.28 92.7  94.81], mr = 16.075, mrr = 0.865, time = 15.394 s \n"
          ]
        },
        {
          "output_type": "stream",
          "name": "stderr",
          "text": [
            " 50%|████▉     | 599/1200 [11:29<09:52,  1.01it/s]"
          ]
        },
        {
          "output_type": "stream",
          "name": "stdout",
          "text": [
            "[0.01348199 0.00735476 0.00786816 0.00614361 0.01222268 0.00999008\n",
            " 0.00880461]\n"
          ]
        },
        {
          "output_type": "stream",
          "name": "stderr",
          "text": [
            "\r 50%|█████     | 600/1200 [11:47<59:39,  5.97s/it]"
          ]
        },
        {
          "output_type": "stream",
          "name": "stdout",
          "text": [
            "accurate results: hits@[1, 5, 10] = [81.46 92.7  94.88], mr = 16.071, mrr = 0.865, time = 15.286 s \n"
          ]
        },
        {
          "output_type": "stream",
          "name": "stderr",
          "text": [
            " 58%|█████▊    | 699/1200 [13:26<08:24,  1.01s/it]"
          ]
        },
        {
          "output_type": "stream",
          "name": "stdout",
          "text": [
            "[0.01346114 0.00719964 0.00767765 0.00594126 0.01213659 0.00986947\n",
            " 0.00872105]\n"
          ]
        },
        {
          "output_type": "stream",
          "name": "stderr",
          "text": [
            "\r 58%|█████▊    | 700/1200 [13:44<50:13,  6.03s/it]"
          ]
        },
        {
          "output_type": "stream",
          "name": "stdout",
          "text": [
            "accurate results: hits@[1, 5, 10] = [81.3  92.76 94.88], mr = 16.708, mrr = 0.865, time = 15.615 s \n"
          ]
        },
        {
          "output_type": "stream",
          "name": "stderr",
          "text": [
            " 67%|██████▋   | 799/1200 [15:25<06:53,  1.03s/it]"
          ]
        },
        {
          "output_type": "stream",
          "name": "stdout",
          "text": [
            "[0.01346356 0.00708563 0.00747567 0.00586567 0.01206133 0.00986341\n",
            " 0.00870635]\n"
          ]
        },
        {
          "output_type": "stream",
          "name": "stderr",
          "text": [
            "\r 67%|██████▋   | 800/1200 [15:42<39:41,  5.95s/it]"
          ]
        },
        {
          "output_type": "stream",
          "name": "stdout",
          "text": [
            "accurate results: hits@[1, 5, 10] = [81.42 92.9  94.87], mr = 17.055, mrr = 0.865, time = 15.321 s \n"
          ]
        },
        {
          "output_type": "stream",
          "name": "stderr",
          "text": [
            " 75%|███████▍  | 899/1200 [17:21<04:57,  1.01it/s]"
          ]
        },
        {
          "output_type": "stream",
          "name": "stdout",
          "text": [
            "[0.01345347 0.00695738 0.0071996  0.0056025  0.01196382 0.00967857\n",
            " 0.00847998]\n"
          ]
        },
        {
          "output_type": "stream",
          "name": "stderr",
          "text": [
            "\r 75%|███████▌  | 900/1200 [17:39<29:53,  5.98s/it]"
          ]
        },
        {
          "output_type": "stream",
          "name": "stdout",
          "text": [
            "accurate results: hits@[1, 5, 10] = [81.38 92.77 94.82], mr = 16.714, mrr = 0.865, time = 15.505 s \n"
          ]
        },
        {
          "output_type": "stream",
          "name": "stderr",
          "text": [
            " 83%|████████▎ | 999/1200 [19:19<03:24,  1.02s/it]"
          ]
        },
        {
          "output_type": "stream",
          "name": "stdout",
          "text": [
            "[0.01345245 0.00686247 0.00724575 0.00567465 0.01188541 0.009697\n",
            " 0.00858418]\n"
          ]
        },
        {
          "output_type": "stream",
          "name": "stderr",
          "text": [
            "\r 83%|████████▎ | 1000/1200 [19:37<19:52,  5.96s/it]"
          ]
        },
        {
          "output_type": "stream",
          "name": "stdout",
          "text": [
            "accurate results: hits@[1, 5, 10] = [81.55 92.66 94.82], mr = 17.520, mrr = 0.866, time = 15.362 s \n"
          ]
        },
        {
          "output_type": "stream",
          "name": "stderr",
          "text": [
            " 92%|█████████▏| 1099/1200 [21:17<01:44,  1.04s/it]"
          ]
        },
        {
          "output_type": "stream",
          "name": "stdout",
          "text": [
            "[0.01344297 0.00678604 0.00714442 0.00548666 0.01179808 0.00956758\n",
            " 0.00838931]\n"
          ]
        },
        {
          "output_type": "stream",
          "name": "stderr",
          "text": [
            "\r 92%|█████████▏| 1100/1200 [21:35<10:03,  6.04s/it]"
          ]
        },
        {
          "output_type": "stream",
          "name": "stdout",
          "text": [
            "accurate results: hits@[1, 5, 10] = [81.75 92.69 94.79], mr = 17.274, mrr = 0.866, time = 15.561 s \n"
          ]
        },
        {
          "output_type": "stream",
          "name": "stderr",
          "text": [
            "100%|█████████▉| 1199/1200 [23:15<00:01,  1.01s/it]"
          ]
        },
        {
          "output_type": "stream",
          "name": "stdout",
          "text": [
            "[0.01343426 0.00670423 0.00707742 0.00546031 0.01173826 0.00951516\n",
            " 0.00833815]\n"
          ]
        },
        {
          "output_type": "stream",
          "name": "stderr",
          "text": [
            "100%|██████████| 1200/1200 [23:33<00:00,  1.18s/it]"
          ]
        },
        {
          "output_type": "stream",
          "name": "stdout",
          "text": [
            "accurate results: hits@[1, 5, 10] = [81.67 92.8  94.81], mr = 18.120, mrr = 0.866, time = 15.248 s \n"
          ]
        },
        {
          "output_type": "stream",
          "name": "stderr",
          "text": [
            "\n"
          ]
        },
        {
          "output_type": "stream",
          "name": "stdout",
          "text": [
            "generate new semi-pairs: 287.\n",
            "iteration 4 start.\n"
          ]
        },
        {
          "output_type": "stream",
          "name": "stderr",
          "text": [
            "  8%|▊         | 99/1200 [01:40<19:46,  1.08s/it]"
          ]
        },
        {
          "output_type": "stream",
          "name": "stdout",
          "text": [
            "[0.01380828 0.00734252 0.00793824 0.00622465 0.01254358 0.01036104\n",
            " 0.0091939 ]\n"
          ]
        },
        {
          "output_type": "stream",
          "name": "stderr",
          "text": [
            "\r  8%|▊         | 100/1200 [01:57<1:49:16,  5.96s/it]"
          ]
        },
        {
          "output_type": "stream",
          "name": "stdout",
          "text": [
            "accurate results: hits@[1, 5, 10] = [81.82 92.91 94.9 ], mr = 16.830, mrr = 0.868, time = 15.252 s \n"
          ]
        },
        {
          "output_type": "stream",
          "name": "stderr",
          "text": [
            " 17%|█▋        | 199/1200 [03:37<16:30,  1.01it/s]"
          ]
        },
        {
          "output_type": "stream",
          "name": "stdout",
          "text": [
            "[0.0138111  0.00715396 0.00766511 0.00591683 0.01243088 0.01022327\n",
            " 0.00905761]\n"
          ]
        },
        {
          "output_type": "stream",
          "name": "stderr",
          "text": [
            "\r 17%|█▋        | 200/1200 [03:54<1:38:16,  5.90s/it]"
          ]
        },
        {
          "output_type": "stream",
          "name": "stdout",
          "text": [
            "accurate results: hits@[1, 5, 10] = [81.66 92.92 94.87], mr = 17.282, mrr = 0.867, time = 15.197 s \n"
          ]
        },
        {
          "output_type": "stream",
          "name": "stderr",
          "text": [
            " 25%|██▍       | 299/1200 [05:34<15:10,  1.01s/it]"
          ]
        },
        {
          "output_type": "stream",
          "name": "stdout",
          "text": [
            "[0.01379777 0.00703939 0.00752824 0.00578342 0.01234108 0.0101091\n",
            " 0.00889313]\n"
          ]
        },
        {
          "output_type": "stream",
          "name": "stderr",
          "text": [
            "\r 25%|██▌       | 300/1200 [05:52<1:28:54,  5.93s/it]"
          ]
        },
        {
          "output_type": "stream",
          "name": "stdout",
          "text": [
            "accurate results: hits@[1, 5, 10] = [81.71 92.87 94.82], mr = 17.642, mrr = 0.867, time = 15.238 s \n"
          ]
        },
        {
          "output_type": "stream",
          "name": "stderr",
          "text": [
            " 33%|███▎      | 399/1200 [07:32<13:33,  1.02s/it]"
          ]
        },
        {
          "output_type": "stream",
          "name": "stdout",
          "text": [
            "[0.01379382 0.00690411 0.00731863 0.00568538 0.01226372 0.01005321\n",
            " 0.00889277]\n"
          ]
        },
        {
          "output_type": "stream",
          "name": "stderr",
          "text": [
            "\r 33%|███▎      | 400/1200 [07:49<1:18:59,  5.92s/it]"
          ]
        },
        {
          "output_type": "stream",
          "name": "stdout",
          "text": [
            "accurate results: hits@[1, 5, 10] = [81.7  92.93 94.75], mr = 18.550, mrr = 0.867, time = 15.276 s \n"
          ]
        },
        {
          "output_type": "stream",
          "name": "stderr",
          "text": [
            " 42%|████▏     | 499/1200 [09:29<11:56,  1.02s/it]"
          ]
        },
        {
          "output_type": "stream",
          "name": "stdout",
          "text": [
            "[0.01378064 0.00668744 0.00704139 0.0054485  0.01215082 0.00990193\n",
            " 0.00871465]\n"
          ]
        },
        {
          "output_type": "stream",
          "name": "stderr",
          "text": [
            "\r 42%|████▏     | 500/1200 [09:46<1:09:21,  5.94s/it]"
          ]
        },
        {
          "output_type": "stream",
          "name": "stdout",
          "text": [
            "accurate results: hits@[1, 5, 10] = [81.69 92.9  94.74], mr = 19.137, mrr = 0.867, time = 15.245 s \n"
          ]
        },
        {
          "output_type": "stream",
          "name": "stderr",
          "text": [
            " 50%|████▉     | 599/1200 [11:26<09:59,  1.00it/s]"
          ]
        },
        {
          "output_type": "stream",
          "name": "stdout",
          "text": [
            "[0.01380625 0.00656056 0.00694673 0.00536113 0.01209088 0.00988495\n",
            " 0.00871095]\n"
          ]
        },
        {
          "output_type": "stream",
          "name": "stderr",
          "text": [
            "\r 50%|█████     | 600/1200 [11:44<1:00:25,  6.04s/it]"
          ]
        },
        {
          "output_type": "stream",
          "name": "stdout",
          "text": [
            "accurate results: hits@[1, 5, 10] = [81.6  92.9  94.74], mr = 20.105, mrr = 0.867, time = 15.458 s \n"
          ]
        },
        {
          "output_type": "stream",
          "name": "stderr",
          "text": [
            " 58%|█████▊    | 699/1200 [13:24<08:16,  1.01it/s]"
          ]
        },
        {
          "output_type": "stream",
          "name": "stdout",
          "text": [
            "[0.01379395 0.00651673 0.00685899 0.00529323 0.01202885 0.00980623\n",
            " 0.0085758 ]\n"
          ]
        },
        {
          "output_type": "stream",
          "name": "stderr",
          "text": [
            "\r 58%|█████▊    | 700/1200 [13:42<49:16,  5.91s/it]"
          ]
        },
        {
          "output_type": "stream",
          "name": "stdout",
          "text": [
            "accurate results: hits@[1, 5, 10] = [81.56 92.81 94.83], mr = 20.547, mrr = 0.866, time = 15.269 s \n"
          ]
        },
        {
          "output_type": "stream",
          "name": "stderr",
          "text": [
            " 67%|██████▋   | 799/1200 [15:21<06:43,  1.01s/it]"
          ]
        },
        {
          "output_type": "stream",
          "name": "stdout",
          "text": [
            "[0.01379422 0.00640733 0.0067741  0.0052236  0.01193593 0.00974389\n",
            " 0.00857184]\n"
          ]
        },
        {
          "output_type": "stream",
          "name": "stderr",
          "text": [
            "\r 67%|██████▋   | 800/1200 [15:38<39:18,  5.90s/it]"
          ]
        },
        {
          "output_type": "stream",
          "name": "stdout",
          "text": [
            "accurate results: hits@[1, 5, 10] = [81.58 92.88 94.73], mr = 20.615, mrr = 0.866, time = 15.212 s \n"
          ]
        },
        {
          "output_type": "stream",
          "name": "stderr",
          "text": [
            " 75%|███████▍  | 899/1200 [17:19<04:59,  1.00it/s]"
          ]
        },
        {
          "output_type": "stream",
          "name": "stdout",
          "text": [
            "[0.01377462 0.00640519 0.00674459 0.00522347 0.01185416 0.00966329\n",
            " 0.00846181]\n"
          ]
        },
        {
          "output_type": "stream",
          "name": "stderr",
          "text": [
            "\r 75%|███████▌  | 900/1200 [17:36<29:26,  5.89s/it]"
          ]
        },
        {
          "output_type": "stream",
          "name": "stdout",
          "text": [
            "accurate results: hits@[1, 5, 10] = [81.61 92.92 94.67], mr = 20.903, mrr = 0.866, time = 15.241 s \n"
          ]
        },
        {
          "output_type": "stream",
          "name": "stderr",
          "text": [
            " 83%|████████▎ | 999/1200 [19:16<03:21,  1.00s/it]"
          ]
        },
        {
          "output_type": "stream",
          "name": "stdout",
          "text": [
            "[0.01377731 0.00624859 0.00662897 0.00515906 0.01178668 0.00961662\n",
            " 0.00840766]\n"
          ]
        },
        {
          "output_type": "stream",
          "name": "stderr",
          "text": [
            "\r 83%|████████▎ | 1000/1200 [19:33<19:20,  5.80s/it]"
          ]
        },
        {
          "output_type": "stream",
          "name": "stdout",
          "text": [
            "accurate results: hits@[1, 5, 10] = [81.61 92.85 94.75], mr = 21.071, mrr = 0.866, time = 14.908 s \n"
          ]
        },
        {
          "output_type": "stream",
          "name": "stderr",
          "text": [
            " 92%|█████████▏| 1099/1200 [21:13<01:47,  1.06s/it]"
          ]
        },
        {
          "output_type": "stream",
          "name": "stdout",
          "text": [
            "[0.01375873 0.00611412 0.00646725 0.0050323  0.01169629 0.00948193\n",
            " 0.00825315]\n"
          ]
        },
        {
          "output_type": "stream",
          "name": "stderr",
          "text": [
            "\r 92%|█████████▏| 1100/1200 [21:30<09:52,  5.92s/it]"
          ]
        },
        {
          "output_type": "stream",
          "name": "stdout",
          "text": [
            "accurate results: hits@[1, 5, 10] = [81.53 92.8  94.73], mr = 21.878, mrr = 0.866, time = 15.059 s \n"
          ]
        },
        {
          "output_type": "stream",
          "name": "stderr",
          "text": [
            "100%|█████████▉| 1199/1200 [23:11<00:01,  1.02s/it]"
          ]
        },
        {
          "output_type": "stream",
          "name": "stdout",
          "text": [
            "[0.01374677 0.00601977 0.00636141 0.00493188 0.01163173 0.00942316\n",
            " 0.00822143]\n"
          ]
        },
        {
          "output_type": "stream",
          "name": "stderr",
          "text": [
            "100%|██████████| 1200/1200 [23:28<00:00,  1.17s/it]"
          ]
        },
        {
          "output_type": "stream",
          "name": "stdout",
          "text": [
            "accurate results: hits@[1, 5, 10] = [81.53 92.93 94.63], mr = 22.870, mrr = 0.866, time = 14.718 s \n"
          ]
        },
        {
          "output_type": "stream",
          "name": "stderr",
          "text": [
            "\n"
          ]
        },
        {
          "output_type": "stream",
          "name": "stdout",
          "text": [
            "generate new semi-pairs: 140.\n"
          ]
        }
      ],
      "source": [
        "train_pair = train_pair_main\n",
        "tf.keras.backend.clear_session()\n",
        "config = tf.compat.v1.ConfigProto()\n",
        "config.gpu_options.allow_growth=True  \n",
        "sess = tf.compat.v1.Session(config=config) \n",
        "\n",
        "rest_set_1 = [e1 for e1, e2 in dev_pair]\n",
        "rest_set_2 = [e2 for e1, e2 in dev_pair]\n",
        "np.random.shuffle(rest_set_1)\n",
        "np.random.shuffle(rest_set_2)\n",
        "\n",
        "epoch = 1200\n",
        "for turn in range(5):\n",
        "    print(\"iteration %d start.\"%turn)\n",
        "    for i in trange(epoch):\n",
        "        train_set = get_train_set()\n",
        "        inputs = [adj_matrix,r_index,r_val,rel_matrix,ent_matrix,radj,train_set]\n",
        "        inputs = [np.expand_dims(item,axis=0) for item in inputs]\n",
        "        model.train_on_batch(inputs,np.zeros((1,1)))\n",
        "        if i%100 == 99:\n",
        "            print(get_losses_values())\n",
        "            CSLS_test()\n",
        "            \n",
        "\n",
        "    new_pair = []\n",
        "    \n",
        "    vec = get_embedding()\n",
        "    Lvec = np.array([vec[e] for e in rest_set_1])\n",
        "    Rvec = np.array([vec[e] for e in rest_set_2])\n",
        "    Lvec = Lvec / np.linalg.norm(Lvec,axis=-1,keepdims=True)\n",
        "    Rvec = Rvec / np.linalg.norm(Rvec,axis=-1,keepdims=True)\n",
        "    A,_ = eval_alignment_by_sim_mat(Lvec, Rvec, [1, 5, 10], 16,10,True,False)\n",
        "    B,_ = eval_alignment_by_sim_mat(Rvec, Lvec,[1, 5, 10], 16,10,True,False)\n",
        "    A = sorted(list(A)); B = sorted(list(B))\n",
        "    for a,b in A:\n",
        "        if  B[b][1] == a:\n",
        "            new_pair.append([rest_set_1[a],rest_set_2[b]])\n",
        "    print(\"generate new semi-pairs: %d.\" % len(new_pair))\n",
        "    train_pair = np.concatenate([train_pair,np.array(new_pair)],axis = 0)\n",
        "    for e1,e2 in new_pair:\n",
        "        if e1 in rest_set_1:\n",
        "            rest_set_1.remove(e1) \n",
        "        \n",
        "    for e1,e2 in new_pair:\n",
        "        if e2 in rest_set_2:\n",
        "            rest_set_2.remove(e2) "
      ]
    },
    {
      "cell_type": "code",
      "source": [
        "!git clone https://github.com/MaoXinn/MRAEA"
      ],
      "metadata": {
        "id": "WB2inR--Jwyy",
        "outputId": "d0b2d3c5-0dbc-47ca-c546-1b8f77de9b56",
        "colab": {
          "base_uri": "https://localhost:8080/"
        }
      },
      "execution_count": null,
      "outputs": [
        {
          "output_type": "stream",
          "name": "stdout",
          "text": [
            "Cloning into 'MRAEA'...\n",
            "remote: Enumerating objects: 17, done.\u001b[K\n",
            "remote: Counting objects: 100% (17/17), done.\u001b[K\n",
            "remote: Compressing objects: 100% (16/16), done.\u001b[K\n",
            "remote: Total 17 (delta 4), reused 0 (delta 0), pack-reused 0\u001b[K\n",
            "Unpacking objects: 100% (17/17), done.\n"
          ]
        }
      ]
    },
    {
      "cell_type": "code",
      "source": [
        ""
      ],
      "metadata": {
        "id": "83YKGWHdVOLz"
      },
      "execution_count": null,
      "outputs": []
    },
    {
      "cell_type": "code",
      "execution_count": null,
      "metadata": {
        "id": "QjQ1F-zW-VvX"
      },
      "outputs": [],
      "source": [
        "import os\n",
        "import tqdm\n",
        "import numpy as np\n",
        "import tensorflow as tf\n",
        "import keras\n",
        "\n",
        "from importlib.machinery import SourceFileLoader\n",
        " \n",
        "utils = SourceFileLoader(\"utils\", \"/content/MRAEA/utils.py\").load_module()\n",
        "model = SourceFileLoader(\"model\", \"/content/MRAEA/model.py\").load_module()\n",
        "\n",
        "from utils import *\n",
        "from model import *\n",
        "\n",
        "\n",
        "\n",
        "os.environ[\"CUDA_VISIBLE_DEVICES\"] = \"0\"\n",
        "os.environ[\"TF_CPP_MIN_LOG_LEVEL\"]=\"2\"\n",
        "tf.compat.v1.logging.set_verbosity(tf.compat.v1.logging.ERROR)\n",
        "\n",
        "config = tf.compat.v1.ConfigProto()\n",
        "config.gpu_options.allow_growth=True  \n",
        "sess = tf.compat.v1.Session(config=config) "
      ]
    },
    {
      "cell_type": "code",
      "source": [
        "lang = 'zh'\n",
        "train_pair,test_pair,adj_matrix,r_index,r_val,adj_features,rel_features = load_data('/content/GCN-Align/data/%s_en/'%lang,train_ratio=0.3)\n",
        "adj_matrix = np.stack(adj_matrix.nonzero(),axis = 1)\n",
        "rel_matrix,rel_val = np.stack(rel_features.nonzero(),axis = 1),rel_features.data\n",
        "ent_matrix,ent_val = np.stack(adj_features.nonzero(),axis = 1),adj_features.data"
      ],
      "metadata": {
        "id": "fWmEVYhMJ0-s",
        "outputId": "2082368b-5f75-4948-8331-a9ff8a7279cd",
        "colab": {
          "base_uri": "https://localhost:8080/"
        }
      },
      "execution_count": null,
      "outputs": [
        {
          "output_type": "stream",
          "name": "stdout",
          "text": [
            "38960 3025\n"
          ]
        }
      ]
    },
    {
      "cell_type": "code",
      "source": [
        "model = SourceFileLoader(\"model\", \"/content/MRAEA/model.py\").load_module()\n",
        "node_size = adj_features.shape[1]\n",
        "rel_size = rel_features.shape[1]\n",
        "triple_size = len(adj_matrix)\n",
        "batch_size = node_size\n",
        "model,get_emb = get_model(lr=0.001,dropout_rate=0.30,node_size=node_size,rel_size=rel_size,n_attn_heads = 2,\n",
        "                          depth=2,gamma = 3,node_hidden=100,rel_hidden = 100,triple_size = triple_size,batch_size = batch_size)\n",
        "model.summary();"
      ],
      "metadata": {
        "id": "1OROgbA2J2fa",
        "outputId": "45effb85-0cc3-4761-a041-006da6a9004b",
        "colab": {
          "base_uri": "https://localhost:8080/"
        }
      },
      "execution_count": null,
      "outputs": [
        {
          "output_type": "stream",
          "name": "stdout",
          "text": [
            "Model: \"model_9\"\n",
            "__________________________________________________________________________________________________\n",
            " Layer (type)                   Output Shape         Param #     Connected to                     \n",
            "==================================================================================================\n",
            " input_82 (InputLayer)          [(None, None)]       0           []                               \n",
            "                                                                                                  \n",
            " token_embedding_28 (TokenEmbed  (38960, 100)        3896000     ['input_82[0][0]']               \n",
            " ding)                                                                                            \n",
            "                                                                                                  \n",
            " token_embedding_29 (TokenEmbed  (6050, 100)         605000      ['input_82[0][0]']               \n",
            " ding)                                                                                            \n",
            "                                                                                                  \n",
            " input_80 (InputLayer)          [(None, None, 2)]    0           []                               \n",
            "                                                                                                  \n",
            " input_81 (InputLayer)          [(None, None, 2)]    0           []                               \n",
            "                                                                                                  \n",
            " input_83 (InputLayer)          [(None, None, 2)]    0           []                               \n",
            "                                                                                                  \n",
            " input_84 (InputLayer)          [(None, None, 2)]    0           []                               \n",
            "                                                                                                  \n",
            " tr__graph_attention_14 (TR_Gra  [(38960, 600),      1000        ['token_embedding_28[0][0]',     \n",
            " phAttention)                    (None, 2),                       'token_embedding_29[0][0]',     \n",
            "                                 (None,)]                         'input_80[0][0]',               \n",
            "                                                                  'input_81[0][0]',               \n",
            "                                                                  'input_82[0][0]',               \n",
            "                                                                  'input_83[0][0]',               \n",
            "                                                                  'input_84[0][0]']               \n",
            "                                                                                                  \n",
            " dropout_9 (Dropout)            (38960, 600)         0           ['tr__graph_attention_14[0][0]'] \n",
            "                                                                                                  \n",
            " input_85 (InputLayer)          [(None, None, 4)]    0           []                               \n",
            "                                                                                                  \n",
            " lambda_18 (Lambda)             (None, 4, 600)       0           ['dropout_9[0][0]',              \n",
            "                                                                  'input_85[0][0]']               \n",
            "                                                                                                  \n",
            " lambda_19 (Lambda)             (1, 1)               0           ['lambda_18[0][0]']              \n",
            "                                                                                                  \n",
            "==================================================================================================\n",
            "Total params: 4,502,000\n",
            "Trainable params: 4,502,000\n",
            "Non-trainable params: 0\n",
            "__________________________________________________________________________________________________\n"
          ]
        },
        {
          "output_type": "stream",
          "name": "stderr",
          "text": [
            "/usr/local/lib/python3.7/dist-packages/keras/optimizer_v2/rmsprop.py:130: UserWarning: The `lr` argument is deprecated, use `learning_rate` instead.\n",
            "  super(RMSprop, self).__init__(name, **kwargs)\n"
          ]
        }
      ]
    },
    {
      "cell_type": "code",
      "source": [
        "def get_train_set(batch_size,train_pair):\n",
        "    negative_ratio =  batch_size // len(train_pair) + 1\n",
        "    train_set = np.reshape(np.repeat(np.expand_dims(train_pair,axis=0),axis=0,repeats=negative_ratio),newshape=(-1,2))\n",
        "    np.random.shuffle(train_set); train_set = train_set[:batch_size]\n",
        "    train_set = np.concatenate([train_set,np.random.randint(0,node_size,train_set.shape)],axis = -1)\n",
        "    return train_set\n",
        "\n",
        "def test():\n",
        "    inputs = [adj_matrix,r_index,r_val,rel_matrix,ent_matrix]\n",
        "    inputs = [np.expand_dims(item,axis=0) for item in inputs]\n",
        "    se_vec = get_emb.predict_on_batch(inputs)\n",
        "    get_hits(se_vec,test_pair)\n",
        "    print()\n",
        "    return se_vec\n",
        "\n",
        "for epoch in tqdm.tnrange(5000):\n",
        "    train_set = get_train_set(batch_size,train_pair)\n",
        "    inputs = [adj_matrix,r_index,r_val,rel_matrix,ent_matrix,train_set]\n",
        "    inputs = [np.expand_dims(item,axis=0) for item in inputs]\n",
        "    model.train_on_batch(inputs,np.zeros((1,1)))\n",
        "    if (epoch%1000 == 999):\n",
        "        test()"
      ],
      "metadata": {
        "id": "_EFRVgwIJ3yT"
      },
      "execution_count": null,
      "outputs": []
    },
    {
      "cell_type": "code",
      "source": [
        "!git clone https://github.com/MaoXinn/Dual-AMN"
      ],
      "metadata": {
        "id": "piOgQ6jLVPVa",
        "outputId": "2570e659-3f92-4266-d56c-3cbbef7e3896",
        "colab": {
          "base_uri": "https://localhost:8080/"
        }
      },
      "execution_count": null,
      "outputs": [
        {
          "output_type": "stream",
          "name": "stdout",
          "text": [
            "Cloning into 'Dual-AMN'...\n",
            "remote: Enumerating objects: 90, done.\u001b[K\n",
            "remote: Counting objects: 100% (90/90), done.\u001b[K\n",
            "remote: Compressing objects: 100% (81/81), done.\u001b[K\n",
            "remote: Total 90 (delta 22), reused 0 (delta 0), pack-reused 0\u001b[K\n",
            "Unpacking objects: 100% (90/90), done.\n"
          ]
        }
      ]
    },
    {
      "cell_type": "code",
      "source": [
        "import warnings\n",
        "warnings.filterwarnings('ignore')\n",
        "\n",
        "from importlib.machinery import SourceFileLoader\n",
        " \n",
        "utils = SourceFileLoader(\"utils\", \"/content/Dual-AMN/utils.py\").load_module()\n",
        "evaluate = SourceFileLoader(\"evaluate\", \"/content/Dual-AMN/evaluate.py\").load_module()\n",
        "layer = SourceFileLoader(\"layer\", \"/content/Dual-AMN/layer.py\").load_module()\n",
        "import os\n",
        "import keras\n",
        "import numpy as np\n",
        "import numba as nb\n",
        "from utils import *\n",
        "from tqdm import *\n",
        "from evaluate import evaluate\n",
        "import tensorflow as tf\n",
        "import keras.backend as K\n",
        "from keras.layers import *\n",
        "from layer import NR_GraphAttention\n",
        "\n",
        "os.environ[\"CUDA_VISIBLE_DEVICES\"] = \"0\"\n",
        "os.environ[\"TF_CPP_MIN_LOG_LEVEL\"]=\"2\"\n",
        "tf.compat.v1.logging.set_verbosity(tf.compat.v1.logging.ERROR)\n",
        "\n",
        "config = tf.compat.v1.ConfigProto()\n",
        "config.gpu_options.allow_growth=True  \n",
        "sess = tf.compat.v1.Session(config=config)  \n",
        "\n",
        "seed = 12306\n",
        "np.random.seed(seed)\n",
        "tf.compat.v1.set_random_seed(seed)"
      ],
      "metadata": {
        "id": "aVawtMnSVT6i"
      },
      "execution_count": null,
      "outputs": []
    },
    {
      "cell_type": "code",
      "source": [
        "train_pair,dev_pair,adj_matrix,r_index,r_val,adj_features,rel_features = load_data(\"/content/GCN-Align/data/zh_en/\",train_ratio=0.30)\n",
        "adj_matrix = np.stack(adj_matrix.nonzero(),axis = 1)\n",
        "rel_matrix,rel_val = np.stack(rel_features.nonzero(),axis = 1),rel_features.data\n",
        "ent_matrix,ent_val = np.stack(adj_features.nonzero(),axis = 1),adj_features.data"
      ],
      "metadata": {
        "id": "qd3oaK-AWBkF",
        "outputId": "eac5a4df-91e7-4d11-9e4f-18be1dbfb61e",
        "colab": {
          "base_uri": "https://localhost:8080/"
        }
      },
      "execution_count": null,
      "outputs": [
        {
          "output_type": "stream",
          "name": "stdout",
          "text": [
            "38960 3024\n"
          ]
        }
      ]
    },
    {
      "cell_type": "code",
      "source": [
        "node_size = adj_features.shape[0]\n",
        "rel_size = rel_features.shape[1]\n",
        "triple_size = len(adj_matrix)\n",
        "node_hidden = 100\n",
        "rel_hidden = 100\n",
        "batch_size = 1024\n",
        "dropout_rate = 0.3\n",
        "lr = 0.005\n",
        "gamma = 1\n",
        "depth = 2"
      ],
      "metadata": {
        "id": "Cryqiq2FWMFd"
      },
      "execution_count": null,
      "outputs": []
    },
    {
      "cell_type": "code",
      "source": [
        "layer = SourceFileLoader(\"layer\", \"/content/Dual-AMN/layer.py\").load_module()\n",
        "from layer import NR_GraphAttention\n",
        "def get_embedding(index_a,index_b,vec = None):\n",
        "    if vec is None:\n",
        "        inputs = [adj_matrix,r_index,r_val,rel_matrix,ent_matrix]\n",
        "        inputs = [np.expand_dims(item,axis=0) for item in inputs]\n",
        "        vec = get_emb.predict_on_batch(inputs)\n",
        "    Lvec = np.array([vec[e] for e in index_a])\n",
        "    Rvec = np.array([vec[e] for e in index_b])\n",
        "    Lvec = Lvec / (np.linalg.norm(Lvec,axis=-1,keepdims=True)+1e-5)\n",
        "    Rvec = Rvec / (np.linalg.norm(Rvec,axis=-1,keepdims=True)+1e-5)\n",
        "    return Lvec,Rvec\n",
        "\n",
        "class TokenEmbedding(keras.layers.Embedding):\n",
        "    \"\"\"Embedding layer with weights returned.\"\"\"\n",
        "\n",
        "    def compute_output_shape(self, input_shape):\n",
        "        return self.input_dim, self.output_dim\n",
        "\n",
        "    def compute_mask(self, inputs, mask=None):\n",
        "        return None\n",
        "\n",
        "    def call(self, inputs):\n",
        "        return self.embeddings\n",
        "    \n",
        "def get_trgat(node_hidden,rel_hidden,triple_size=triple_size,node_size=node_size,rel_size=rel_size,dropout_rate = 0,gamma = 3,lr = 0.005,depth = 2):\n",
        "    adj_input = Input(shape=(None,2))\n",
        "    index_input = Input(shape=(None,2),dtype='int64')\n",
        "    val_input = Input(shape = (None,))\n",
        "    rel_adj = Input(shape=(None,2))\n",
        "    ent_adj = Input(shape=(None,2))\n",
        "    \n",
        "    ent_emb = TokenEmbedding(node_size,node_hidden,trainable = True)(val_input) \n",
        "    rel_emb = TokenEmbedding(rel_size,node_hidden,trainable = True)(val_input)\n",
        "    \n",
        "    def avg(tensor,size):\n",
        "        adj = K.cast(K.squeeze(tensor[0],axis = 0),dtype = \"int64\")   \n",
        "        adj = tf.SparseTensor(indices=adj, values=tf.ones_like(adj[:,0],dtype = 'float32'), dense_shape=(node_size,size)) \n",
        "        adj = tf.compat.v1.sparse_softmax(adj) \n",
        "        return tf.compat.v1.sparse_tensor_dense_matmul(adj,tensor[1])\n",
        "    \n",
        "    opt = [rel_emb,adj_input,index_input,val_input]\n",
        "    ent_feature = Lambda(avg,arguments={'size':node_size})([ent_adj,ent_emb])\n",
        "    rel_feature = Lambda(avg,arguments={'size':rel_size})([rel_adj,rel_emb])\n",
        "    \n",
        "    e_encoder = NR_GraphAttention(node_size,activation=\"tanh\",\n",
        "                                       rel_size = rel_size,\n",
        "                                       use_bias = True,\n",
        "                                       depth = depth,\n",
        "                                       triple_size = triple_size)\n",
        "    \n",
        "    r_encoder = NR_GraphAttention(node_size,activation=\"tanh\",\n",
        "                                       rel_size = rel_size,\n",
        "                                       use_bias = True,\n",
        "                                       depth = depth,\n",
        "                                       triple_size = triple_size)\n",
        "    \n",
        "    out_feature = Concatenate(-1)([e_encoder([ent_feature]+opt),r_encoder([rel_feature]+opt)])\n",
        "    out_feature = Dropout(dropout_rate)(out_feature)\n",
        "    \n",
        "    alignment_input = Input(shape=(None,2))\n",
        "    \n",
        "    def align_loss(tensor): \n",
        "        \n",
        "        def squared_dist(x):\n",
        "            A,B = x\n",
        "            row_norms_A = tf.reduce_sum(tf.square(A), axis=1)\n",
        "            row_norms_A = tf.reshape(row_norms_A, [-1, 1])  # Column vector.\n",
        "            row_norms_B = tf.reduce_sum(tf.square(B), axis=1)\n",
        "            row_norms_B = tf.reshape(row_norms_B, [1, -1])  # Row vector.\n",
        "            return row_norms_A + row_norms_B - 2 * tf.matmul(A, B,transpose_b=True) \n",
        "        \n",
        "        emb = tensor[1]\n",
        "        l,r = K.cast(tensor[0][0,:,0],'int32'),K.cast(tensor[0][0,:,1],'int32')\n",
        "        l_emb,r_emb = K.gather(reference=emb,indices=l),K.gather(reference=emb,indices=r)\n",
        "        \n",
        "        pos_dis = K.sum(K.square(l_emb-r_emb),axis=-1,keepdims=True)\n",
        "        r_neg_dis = squared_dist([r_emb,emb])\n",
        "        l_neg_dis = squared_dist([l_emb,emb])\n",
        "        \n",
        "        l_loss = pos_dis - l_neg_dis + gamma\n",
        "        l_loss = l_loss *(1 - K.one_hot(indices=l,num_classes=node_size) - K.one_hot(indices=r,num_classes=node_size))\n",
        "        \n",
        "        r_loss = pos_dis - r_neg_dis + gamma\n",
        "        r_loss = r_loss *(1 - K.one_hot(indices=l,num_classes=node_size) - K.one_hot(indices=r,num_classes=node_size))\n",
        "        \n",
        "        r_loss = (r_loss - K.stop_gradient(K.mean(r_loss,axis=-1,keepdims=True))) / K.stop_gradient(K.std(r_loss,axis=-1,keepdims=True))\n",
        "        l_loss = (l_loss - K.stop_gradient(K.mean(l_loss,axis=-1,keepdims=True))) / K.stop_gradient(K.std(l_loss,axis=-1,keepdims=True))\n",
        "        \n",
        "        lamb,tau = 30, 10\n",
        "        l_loss = K.logsumexp(lamb*l_loss+tau,axis=-1)\n",
        "        r_loss = K.logsumexp(lamb*r_loss+tau,axis=-1)\n",
        "        return K.mean(l_loss + r_loss)\n",
        "\n",
        "    loss = Lambda(align_loss)([alignment_input,out_feature])\n",
        "\n",
        "    inputs = [adj_input,index_input,val_input,rel_adj,ent_adj]\n",
        "    train_model = keras.Model(inputs = inputs + [alignment_input],outputs = loss)\n",
        "    train_model.compile(loss=lambda y_true,y_pred: y_pred,optimizer=tf.keras.optimizers.RMSprop(lr))\n",
        "    \n",
        "    feature_model = keras.Model(inputs = inputs,outputs = out_feature)\n",
        "    \n",
        "    return train_model,feature_model"
      ],
      "metadata": {
        "id": "7GvbgAPbWNNN",
        "colab": {
          "base_uri": "https://localhost:8080/",
          "height": 293
        },
        "outputId": "4bcebd13-e058-498e-df93-0effdc72caf5"
      },
      "execution_count": null,
      "outputs": [
        {
          "output_type": "error",
          "ename": "FileNotFoundError",
          "evalue": "ignored",
          "traceback": [
            "\u001b[0;31m---------------------------------------------------------------------------\u001b[0m",
            "\u001b[0;31mFileNotFoundError\u001b[0m                         Traceback (most recent call last)",
            "\u001b[0;32m<ipython-input-15-c6a7122d4180>\u001b[0m in \u001b[0;36m<module>\u001b[0;34m()\u001b[0m\n\u001b[0;32m----> 1\u001b[0;31m \u001b[0mlayer\u001b[0m \u001b[0;34m=\u001b[0m \u001b[0mSourceFileLoader\u001b[0m\u001b[0;34m(\u001b[0m\u001b[0;34m\"layer\"\u001b[0m\u001b[0;34m,\u001b[0m \u001b[0;34m\"/content/Dual-AMN/layer.py\"\u001b[0m\u001b[0;34m)\u001b[0m\u001b[0;34m.\u001b[0m\u001b[0mload_module\u001b[0m\u001b[0;34m(\u001b[0m\u001b[0;34m)\u001b[0m\u001b[0;34m\u001b[0m\u001b[0;34m\u001b[0m\u001b[0m\n\u001b[0m\u001b[1;32m      2\u001b[0m \u001b[0;32mfrom\u001b[0m \u001b[0mlayer\u001b[0m \u001b[0;32mimport\u001b[0m \u001b[0mNR_GraphAttention\u001b[0m\u001b[0;34m\u001b[0m\u001b[0;34m\u001b[0m\u001b[0m\n\u001b[1;32m      3\u001b[0m \u001b[0;32mdef\u001b[0m \u001b[0mget_embedding\u001b[0m\u001b[0;34m(\u001b[0m\u001b[0mindex_a\u001b[0m\u001b[0;34m,\u001b[0m\u001b[0mindex_b\u001b[0m\u001b[0;34m,\u001b[0m\u001b[0mvec\u001b[0m \u001b[0;34m=\u001b[0m \u001b[0;32mNone\u001b[0m\u001b[0;34m)\u001b[0m\u001b[0;34m:\u001b[0m\u001b[0;34m\u001b[0m\u001b[0;34m\u001b[0m\u001b[0m\n\u001b[1;32m      4\u001b[0m     \u001b[0;32mif\u001b[0m \u001b[0mvec\u001b[0m \u001b[0;32mis\u001b[0m \u001b[0;32mNone\u001b[0m\u001b[0;34m:\u001b[0m\u001b[0;34m\u001b[0m\u001b[0;34m\u001b[0m\u001b[0m\n\u001b[1;32m      5\u001b[0m         \u001b[0minputs\u001b[0m \u001b[0;34m=\u001b[0m \u001b[0;34m[\u001b[0m\u001b[0madj_matrix\u001b[0m\u001b[0;34m,\u001b[0m\u001b[0mr_index\u001b[0m\u001b[0;34m,\u001b[0m\u001b[0mr_val\u001b[0m\u001b[0;34m,\u001b[0m\u001b[0mrel_matrix\u001b[0m\u001b[0;34m,\u001b[0m\u001b[0ment_matrix\u001b[0m\u001b[0;34m]\u001b[0m\u001b[0;34m\u001b[0m\u001b[0;34m\u001b[0m\u001b[0m\n",
            "\u001b[0;32m/usr/lib/python3.7/importlib/_bootstrap_external.py\u001b[0m in \u001b[0;36m_check_name_wrapper\u001b[0;34m(self, name, *args, **kwargs)\u001b[0m\n",
            "\u001b[0;32m/usr/lib/python3.7/importlib/_bootstrap_external.py\u001b[0m in \u001b[0;36mload_module\u001b[0;34m(self, fullname)\u001b[0m\n",
            "\u001b[0;32m/usr/lib/python3.7/importlib/_bootstrap_external.py\u001b[0m in \u001b[0;36mload_module\u001b[0;34m(self, fullname)\u001b[0m\n",
            "\u001b[0;32m/usr/lib/python3.7/importlib/_bootstrap.py\u001b[0m in \u001b[0;36m_load_module_shim\u001b[0;34m(self, fullname)\u001b[0m\n",
            "\u001b[0;32m/usr/lib/python3.7/importlib/_bootstrap.py\u001b[0m in \u001b[0;36m_exec\u001b[0;34m(spec, module)\u001b[0m\n",
            "\u001b[0;32m/usr/lib/python3.7/importlib/_bootstrap_external.py\u001b[0m in \u001b[0;36mexec_module\u001b[0;34m(self, module)\u001b[0m\n",
            "\u001b[0;32m/usr/lib/python3.7/importlib/_bootstrap_external.py\u001b[0m in \u001b[0;36mget_code\u001b[0;34m(self, fullname)\u001b[0m\n",
            "\u001b[0;32m/usr/lib/python3.7/importlib/_bootstrap_external.py\u001b[0m in \u001b[0;36mget_data\u001b[0;34m(self, path)\u001b[0m\n",
            "\u001b[0;31mFileNotFoundError\u001b[0m: [Errno 2] No such file or directory: '/content/Dual-AMN/layer.py'"
          ]
        }
      ]
    },
    {
      "cell_type": "code",
      "source": [
        "model,get_emb = get_trgat(dropout_rate=dropout_rate,\n",
        "                          node_size=node_size,\n",
        "                          rel_size=rel_size,\n",
        "                          depth=depth,\n",
        "                          gamma =gamma,\n",
        "                          node_hidden=node_hidden,\n",
        "                          rel_hidden=rel_hidden,\n",
        "                          lr=lr)\n",
        "\n",
        "evaluater = evaluate(dev_pair)\n",
        "\n",
        "model.summary()"
      ],
      "metadata": {
        "id": "nOEzAJqbWUwt",
        "outputId": "a209cc6e-9c88-41b0-aee1-3a4bcecee0f7",
        "colab": {
          "base_uri": "https://localhost:8080/"
        }
      },
      "execution_count": null,
      "outputs": [
        {
          "output_type": "stream",
          "name": "stdout",
          "text": [
            "Model: \"model_25\"\n",
            "__________________________________________________________________________________________________\n",
            " Layer (type)                   Output Shape         Param #     Connected to                     \n",
            "==================================================================================================\n",
            " input_179 (InputLayer)         [(None, None)]       0           []                               \n",
            "                                                                                                  \n",
            " input_181 (InputLayer)         [(None, None, 2)]    0           []                               \n",
            "                                                                                                  \n",
            " token_embedding_56 (TokenEmbed  (38960, 100)        3896000     ['input_179[0][0]']              \n",
            " ding)                                                                                            \n",
            "                                                                                                  \n",
            " token_embedding_57 (TokenEmbed  (6050, 100)         605000      ['input_179[0][0]']              \n",
            " ding)                                                                                            \n",
            "                                                                                                  \n",
            " input_180 (InputLayer)         [(None, None, 2)]    0           []                               \n",
            "                                                                                                  \n",
            " lambda_56 (Lambda)             (38960, 100)         0           ['input_181[0][0]',              \n",
            "                                                                  'token_embedding_56[0][0]']     \n",
            "                                                                                                  \n",
            " input_177 (InputLayer)         [(None, None, 2)]    0           []                               \n",
            "                                                                                                  \n",
            " input_178 (InputLayer)         [(None, None, 2)]    0           []                               \n",
            "                                                                                                  \n",
            " lambda_57 (Lambda)             (38960, 100)         0           ['input_180[0][0]',              \n",
            "                                                                  'token_embedding_57[0][0]']     \n",
            "                                                                                                  \n",
            " nr__graph_attention_18 (NR_Gra  (38960, 300)        109700      ['lambda_56[0][0]',              \n",
            " phAttention)                                                     'token_embedding_57[0][0]',     \n",
            "                                                                  'input_177[0][0]',              \n",
            "                                                                  'input_178[0][0]',              \n",
            "                                                                  'input_179[0][0]']              \n",
            "                                                                                                  \n",
            " nr__graph_attention_19 (NR_Gra  (38960, 300)        109700      ['lambda_57[0][0]',              \n",
            " phAttention)                                                     'token_embedding_57[0][0]',     \n",
            "                                                                  'input_177[0][0]',              \n",
            "                                                                  'input_178[0][0]',              \n",
            "                                                                  'input_179[0][0]']              \n",
            "                                                                                                  \n",
            " concatenate_9 (Concatenate)    (38960, 600)         0           ['nr__graph_attention_18[0][0]', \n",
            "                                                                  'nr__graph_attention_19[0][0]'] \n",
            "                                                                                                  \n",
            " input_182 (InputLayer)         [(None, None, 2)]    0           []                               \n",
            "                                                                                                  \n",
            " dropout_14 (Dropout)           (38960, 600)         0           ['concatenate_9[0][0]']          \n",
            "                                                                                                  \n",
            " lambda_58 (Lambda)             ()                   0           ['input_182[0][0]',              \n",
            "                                                                  'dropout_14[0][0]']             \n",
            "                                                                                                  \n",
            "==================================================================================================\n",
            "Total params: 4,720,400\n",
            "Trainable params: 4,720,400\n",
            "Non-trainable params: 0\n",
            "__________________________________________________________________________________________________\n"
          ]
        }
      ]
    },
    {
      "cell_type": "markdown",
      "source": [
        ""
      ],
      "metadata": {
        "id": "rofNjxmJXeZb"
      }
    },
    {
      "cell_type": "code",
      "source": [
        "rest_set_1 = [e1 for e1, e2 in dev_pair]\n",
        "rest_set_2 = [e2 for e1, e2 in dev_pair]\n",
        "np.random.shuffle(rest_set_1)\n",
        "np.random.shuffle(rest_set_2)\n",
        "\n",
        "epoch = 20\n",
        "for turn in range(10):\n",
        "    for i in trange(epoch):\n",
        "        np.random.shuffle(train_pair)\n",
        "        for pairs in [train_pair[i*batch_size:(i+1)*batch_size] for i in range(len(train_pair)//batch_size + 1)]:\n",
        "            if len(pairs) == 0:\n",
        "                continue\n",
        "            inputs = [adj_matrix,r_index,r_val,rel_matrix,ent_matrix,pairs]\n",
        "            inputs = [np.expand_dims(item,axis=0) for item in inputs]\n",
        "            model.train_on_batch(inputs,np.zeros((1,1)))\n",
        "        if i==epoch-1:\n",
        "            Lvec,Rvec = get_embedding(dev_pair[:,0],dev_pair[:,1])\n",
        "            evaluater.test(Lvec,Rvec)\n",
        "        new_pair = []   \n",
        "    Lvec,Rvec = get_embedding(rest_set_1,rest_set_2)\n",
        "    A,B = evaluater.CSLS_cal(Lvec,Rvec,False)\n",
        "    for i,j in enumerate(A):\n",
        "        if  B[j] == i:\n",
        "            new_pair.append([rest_set_1[j],rest_set_2[i]])\n",
        "    \n",
        "    train_pair = np.concatenate([train_pair,np.array(new_pair)],axis = 0)\n",
        "    for e1,e2 in new_pair:\n",
        "        if e1 in rest_set_1:\n",
        "            rest_set_1.remove(e1) \n",
        "        \n",
        "    for e1,e2 in new_pair:\n",
        "        if e2 in rest_set_2:\n",
        "            rest_set_2.remove(e2)\n",
        "    epoch = 5"
      ],
      "metadata": {
        "id": "vaq-VKGCWXWU",
        "outputId": "5696af3d-d30e-4ae0-ba7f-26a6ee59263e",
        "colab": {
          "base_uri": "https://localhost:8080/",
          "height": 675
        }
      },
      "execution_count": null,
      "outputs": [
        {
          "output_type": "stream",
          "name": "stderr",
          "text": [
            "  0%|          | 0/20 [00:00<?, ?it/s]\n"
          ]
        },
        {
          "output_type": "error",
          "ename": "ValueError",
          "evalue": "ignored",
          "traceback": [
            "\u001b[0;31m---------------------------------------------------------------------------\u001b[0m",
            "\u001b[0;31mValueError\u001b[0m                                Traceback (most recent call last)",
            "\u001b[0;32m<ipython-input-14-ce5da584027e>\u001b[0m in \u001b[0;36m<module>\u001b[0;34m()\u001b[0m\n\u001b[1;32m     13\u001b[0m             \u001b[0minputs\u001b[0m \u001b[0;34m=\u001b[0m \u001b[0;34m[\u001b[0m\u001b[0madj_matrix\u001b[0m\u001b[0;34m,\u001b[0m\u001b[0mr_index\u001b[0m\u001b[0;34m,\u001b[0m\u001b[0mr_val\u001b[0m\u001b[0;34m,\u001b[0m\u001b[0mrel_matrix\u001b[0m\u001b[0;34m,\u001b[0m\u001b[0ment_matrix\u001b[0m\u001b[0;34m,\u001b[0m\u001b[0mpairs\u001b[0m\u001b[0;34m]\u001b[0m\u001b[0;34m\u001b[0m\u001b[0;34m\u001b[0m\u001b[0m\n\u001b[1;32m     14\u001b[0m             \u001b[0minputs\u001b[0m \u001b[0;34m=\u001b[0m \u001b[0;34m[\u001b[0m\u001b[0mnp\u001b[0m\u001b[0;34m.\u001b[0m\u001b[0mexpand_dims\u001b[0m\u001b[0;34m(\u001b[0m\u001b[0mitem\u001b[0m\u001b[0;34m,\u001b[0m\u001b[0maxis\u001b[0m\u001b[0;34m=\u001b[0m\u001b[0;36m0\u001b[0m\u001b[0;34m)\u001b[0m \u001b[0;32mfor\u001b[0m \u001b[0mitem\u001b[0m \u001b[0;32min\u001b[0m \u001b[0minputs\u001b[0m\u001b[0;34m]\u001b[0m\u001b[0;34m\u001b[0m\u001b[0;34m\u001b[0m\u001b[0m\n\u001b[0;32m---> 15\u001b[0;31m             \u001b[0mmodel\u001b[0m\u001b[0;34m.\u001b[0m\u001b[0mtrain_on_batch\u001b[0m\u001b[0;34m(\u001b[0m\u001b[0minputs\u001b[0m\u001b[0;34m,\u001b[0m\u001b[0mnp\u001b[0m\u001b[0;34m.\u001b[0m\u001b[0mzeros\u001b[0m\u001b[0;34m(\u001b[0m\u001b[0;34m(\u001b[0m\u001b[0;36m1\u001b[0m\u001b[0;34m,\u001b[0m\u001b[0;36m1\u001b[0m\u001b[0;34m)\u001b[0m\u001b[0;34m)\u001b[0m\u001b[0;34m)\u001b[0m\u001b[0;34m\u001b[0m\u001b[0;34m\u001b[0m\u001b[0m\n\u001b[0m\u001b[1;32m     16\u001b[0m         \u001b[0;32mif\u001b[0m \u001b[0mi\u001b[0m\u001b[0;34m==\u001b[0m\u001b[0mepoch\u001b[0m\u001b[0;34m-\u001b[0m\u001b[0;36m1\u001b[0m\u001b[0;34m:\u001b[0m\u001b[0;34m\u001b[0m\u001b[0;34m\u001b[0m\u001b[0m\n\u001b[1;32m     17\u001b[0m             \u001b[0mLvec\u001b[0m\u001b[0;34m,\u001b[0m\u001b[0mRvec\u001b[0m \u001b[0;34m=\u001b[0m \u001b[0mget_embedding\u001b[0m\u001b[0;34m(\u001b[0m\u001b[0mdev_pair\u001b[0m\u001b[0;34m[\u001b[0m\u001b[0;34m:\u001b[0m\u001b[0;34m,\u001b[0m\u001b[0;36m0\u001b[0m\u001b[0;34m]\u001b[0m\u001b[0;34m,\u001b[0m\u001b[0mdev_pair\u001b[0m\u001b[0;34m[\u001b[0m\u001b[0;34m:\u001b[0m\u001b[0;34m,\u001b[0m\u001b[0;36m1\u001b[0m\u001b[0;34m]\u001b[0m\u001b[0;34m)\u001b[0m\u001b[0;34m\u001b[0m\u001b[0;34m\u001b[0m\u001b[0m\n",
            "\u001b[0;32m/usr/local/lib/python3.7/dist-packages/keras/engine/training.py\u001b[0m in \u001b[0;36mtrain_on_batch\u001b[0;34m(self, x, y, sample_weight, class_weight, reset_metrics, return_dict)\u001b[0m\n\u001b[1;32m   1898\u001b[0m                                                     class_weight)\n\u001b[1;32m   1899\u001b[0m       \u001b[0mself\u001b[0m\u001b[0;34m.\u001b[0m\u001b[0mtrain_function\u001b[0m \u001b[0;34m=\u001b[0m \u001b[0mself\u001b[0m\u001b[0;34m.\u001b[0m\u001b[0mmake_train_function\u001b[0m\u001b[0;34m(\u001b[0m\u001b[0;34m)\u001b[0m\u001b[0;34m\u001b[0m\u001b[0;34m\u001b[0m\u001b[0m\n\u001b[0;32m-> 1900\u001b[0;31m       \u001b[0mlogs\u001b[0m \u001b[0;34m=\u001b[0m \u001b[0mself\u001b[0m\u001b[0;34m.\u001b[0m\u001b[0mtrain_function\u001b[0m\u001b[0;34m(\u001b[0m\u001b[0miterator\u001b[0m\u001b[0;34m)\u001b[0m\u001b[0;34m\u001b[0m\u001b[0;34m\u001b[0m\u001b[0m\n\u001b[0m\u001b[1;32m   1901\u001b[0m \u001b[0;34m\u001b[0m\u001b[0m\n\u001b[1;32m   1902\u001b[0m     \u001b[0mlogs\u001b[0m \u001b[0;34m=\u001b[0m \u001b[0mtf_utils\u001b[0m\u001b[0;34m.\u001b[0m\u001b[0msync_to_numpy_or_python_type\u001b[0m\u001b[0;34m(\u001b[0m\u001b[0mlogs\u001b[0m\u001b[0;34m)\u001b[0m\u001b[0;34m\u001b[0m\u001b[0;34m\u001b[0m\u001b[0m\n",
            "\u001b[0;32m/usr/local/lib/python3.7/dist-packages/tensorflow/python/util/traceback_utils.py\u001b[0m in \u001b[0;36merror_handler\u001b[0;34m(*args, **kwargs)\u001b[0m\n\u001b[1;32m    151\u001b[0m     \u001b[0;32mexcept\u001b[0m \u001b[0mException\u001b[0m \u001b[0;32mas\u001b[0m \u001b[0me\u001b[0m\u001b[0;34m:\u001b[0m\u001b[0;34m\u001b[0m\u001b[0;34m\u001b[0m\u001b[0m\n\u001b[1;32m    152\u001b[0m       \u001b[0mfiltered_tb\u001b[0m \u001b[0;34m=\u001b[0m \u001b[0m_process_traceback_frames\u001b[0m\u001b[0;34m(\u001b[0m\u001b[0me\u001b[0m\u001b[0;34m.\u001b[0m\u001b[0m__traceback__\u001b[0m\u001b[0;34m)\u001b[0m\u001b[0;34m\u001b[0m\u001b[0;34m\u001b[0m\u001b[0m\n\u001b[0;32m--> 153\u001b[0;31m       \u001b[0;32mraise\u001b[0m \u001b[0me\u001b[0m\u001b[0;34m.\u001b[0m\u001b[0mwith_traceback\u001b[0m\u001b[0;34m(\u001b[0m\u001b[0mfiltered_tb\u001b[0m\u001b[0;34m)\u001b[0m \u001b[0;32mfrom\u001b[0m \u001b[0;32mNone\u001b[0m\u001b[0;34m\u001b[0m\u001b[0;34m\u001b[0m\u001b[0m\n\u001b[0m\u001b[1;32m    154\u001b[0m     \u001b[0;32mfinally\u001b[0m\u001b[0;34m:\u001b[0m\u001b[0;34m\u001b[0m\u001b[0;34m\u001b[0m\u001b[0m\n\u001b[1;32m    155\u001b[0m       \u001b[0;32mdel\u001b[0m \u001b[0mfiltered_tb\u001b[0m\u001b[0;34m\u001b[0m\u001b[0;34m\u001b[0m\u001b[0m\n",
            "\u001b[0;32m/usr/local/lib/python3.7/dist-packages/tensorflow/python/framework/func_graph.py\u001b[0m in \u001b[0;36mautograph_handler\u001b[0;34m(*args, **kwargs)\u001b[0m\n\u001b[1;32m   1127\u001b[0m           \u001b[0;32mexcept\u001b[0m \u001b[0mException\u001b[0m \u001b[0;32mas\u001b[0m \u001b[0me\u001b[0m\u001b[0;34m:\u001b[0m  \u001b[0;31m# pylint:disable=broad-except\u001b[0m\u001b[0;34m\u001b[0m\u001b[0;34m\u001b[0m\u001b[0m\n\u001b[1;32m   1128\u001b[0m             \u001b[0;32mif\u001b[0m \u001b[0mhasattr\u001b[0m\u001b[0;34m(\u001b[0m\u001b[0me\u001b[0m\u001b[0;34m,\u001b[0m \u001b[0;34m\"ag_error_metadata\"\u001b[0m\u001b[0;34m)\u001b[0m\u001b[0;34m:\u001b[0m\u001b[0;34m\u001b[0m\u001b[0;34m\u001b[0m\u001b[0m\n\u001b[0;32m-> 1129\u001b[0;31m               \u001b[0;32mraise\u001b[0m \u001b[0me\u001b[0m\u001b[0;34m.\u001b[0m\u001b[0mag_error_metadata\u001b[0m\u001b[0;34m.\u001b[0m\u001b[0mto_exception\u001b[0m\u001b[0;34m(\u001b[0m\u001b[0me\u001b[0m\u001b[0;34m)\u001b[0m\u001b[0;34m\u001b[0m\u001b[0;34m\u001b[0m\u001b[0m\n\u001b[0m\u001b[1;32m   1130\u001b[0m             \u001b[0;32melse\u001b[0m\u001b[0;34m:\u001b[0m\u001b[0;34m\u001b[0m\u001b[0;34m\u001b[0m\u001b[0m\n\u001b[1;32m   1131\u001b[0m               \u001b[0;32mraise\u001b[0m\u001b[0;34m\u001b[0m\u001b[0;34m\u001b[0m\u001b[0m\n",
            "\u001b[0;31mValueError\u001b[0m: in user code:\n\n    File \"/usr/local/lib/python3.7/dist-packages/keras/engine/training.py\", line 878, in train_function  *\n        return step_function(self, iterator)\n    File \"/usr/local/lib/python3.7/dist-packages/keras/engine/training.py\", line 867, in step_function  **\n        outputs = model.distribute_strategy.run(run_step, args=(data,))\n    File \"/usr/local/lib/python3.7/dist-packages/keras/engine/training.py\", line 860, in run_step  **\n        outputs = model.train_step(data)\n    File \"/usr/local/lib/python3.7/dist-packages/keras/engine/training.py\", line 808, in train_step\n        y_pred = self(x, training=True)\n    File \"/usr/local/lib/python3.7/dist-packages/keras/utils/traceback_utils.py\", line 67, in error_handler\n        raise e.with_traceback(filtered_tb) from None\n    File \"/usr/local/lib/python3.7/dist-packages/keras/engine/input_spec.py\", line 263, in assert_input_compatibility\n        raise ValueError(f'Input {input_index} of layer \"{layer_name}\" is '\n\n    ValueError: Input 5 of layer \"model\" is incompatible with the layer: expected shape=(None, None, 4), found shape=(1, 4500, 2)\n"
          ]
        }
      ]
    }
  ],
  "metadata": {
    "accelerator": "GPU",
    "colab": {
      "collapsed_sections": [],
      "name": "EA.ipynb",
      "provenance": [],
      "include_colab_link": true
    },
    "kernelspec": {
      "display_name": "Python 3",
      "name": "python3"
    },
    "language_info": {
      "name": "python"
    }
  },
  "nbformat": 4,
  "nbformat_minor": 0
}