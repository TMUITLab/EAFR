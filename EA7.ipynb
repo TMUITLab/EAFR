{
  "cells": [
    {
      "cell_type": "markdown",
      "metadata": {
        "id": "view-in-github",
        "colab_type": "text"
      },
      "source": [
        "<a href=\"https://colab.research.google.com/github/TMUITLab/EAFR/blob/master/EA7.ipynb\" target=\"_parent\"><img src=\"https://colab.research.google.com/assets/colab-badge.svg\" alt=\"Open In Colab\"/></a>"
      ]
    },
    {
      "cell_type": "code",
      "execution_count": 1,
      "metadata": {
        "id": "WjActARX7sCY",
        "colab": {
          "base_uri": "https://localhost:8080/"
        },
        "outputId": "25d15479-2a1a-42aa-a2ca-c13f61763d33"
      },
      "outputs": [
        {
          "output_type": "stream",
          "name": "stdout",
          "text": [
            "/content\n",
            "Cloning into 'GCN-Align'...\n",
            "remote: Enumerating objects: 53, done.\u001b[K\n",
            "remote: Total 53 (delta 0), reused 0 (delta 0), pack-reused 53\u001b[K\n",
            "Unpacking objects: 100% (53/53), done.\n",
            "/content\n",
            "Cloning into 'RREA'...\n",
            "remote: Enumerating objects: 32, done.\u001b[K\n",
            "remote: Counting objects: 100% (32/32), done.\u001b[K\n",
            "remote: Compressing objects: 100% (30/30), done.\u001b[K\n",
            "remote: Total 32 (delta 4), reused 0 (delta 0), pack-reused 0\u001b[K\n",
            "Unpacking objects: 100% (32/32), done.\n"
          ]
        }
      ],
      "source": [
        "%cd '/content'\n",
        "!git clone https://github.com/1049451037/GCN-Align\n",
        "%cd '/content'\n",
        "!git clone https://github.com/MaoXinn/RREA"
      ]
    },
    {
      "cell_type": "code",
      "execution_count": 3,
      "metadata": {
        "id": "ZB2YBVkb4pYB"
      },
      "outputs": [],
      "source": [
        "import warnings\n",
        "warnings.filterwarnings('ignore')\n",
        "\n",
        "\n",
        "from importlib.machinery import SourceFileLoader\n",
        " \n",
        "layer = SourceFileLoader(\"layer\", \"/content/RREA/CIKM/layer.py\").load_module()\n",
        "utils = SourceFileLoader(\"utils\", \"/content/RREA/CIKM/utils.py\").load_module()\n",
        "CSLS = SourceFileLoader(\"CSLS\", \"/content/RREA/CIKM/CSLS.py\").load_module()\n",
        "import tensorflow as tf\n",
        "import os\n",
        "import random\n",
        "import keras\n",
        "from tqdm import *\n",
        "import numpy as np\n",
        "from utils import *\n",
        "from CSLS import *\n",
        "import tensorflow as tf\n",
        "import keras.backend as K\n",
        "from keras.layers import *\n",
        "from layer import NR_GraphAttention\n",
        "\n",
        "os.environ[\"CUDA_VISIBLE_DEVICES\"] = \"0\"\n",
        "os.environ[\"TF_CPP_MIN_LOG_LEVEL\"]=\"2\"\n",
        "tf.compat.v1.logging.set_verbosity(tf.compat.v1.logging.ERROR)\n"
      ]
    },
    {
      "cell_type": "code",
      "execution_count": null,
      "metadata": {
        "colab": {
          "base_uri": "https://localhost:8080/"
        },
        "id": "oYvCCmAe62rP",
        "outputId": "79b8f945-c6fa-406b-e6f8-7d7bde5ec39d"
      },
      "outputs": [
        {
          "output_type": "stream",
          "name": "stdout",
          "text": [
            "38960 3024\n"
          ]
        }
      ],
      "source": [
        "lang = 'zh'\n",
        "radj,train_pair,dev_pair,adj_matrix,r_index,r_val,adj_features,rel_features = load_data('/content/GCN-Align/data/%s_en/'%lang,train_ratio=0.30)\n",
        "train_pair_main=train_pair\n",
        "adj_matrix = np.stack(adj_matrix.nonzero(),axis = 1)\n",
        "rel_matrix,rel_val = np.stack(rel_features.nonzero(),axis = 1),rel_features.data\n",
        "ent_matrix,ent_val = np.stack(adj_features.nonzero(),axis = 1),adj_features.data"
      ]
    },
    {
      "cell_type": "code",
      "source": [
        "entity1, rel1, triples1 = load_triples('/content/GCN-Align/data/%s_en/'%lang + 'triples_1')\n",
        "num_entity_1 = len(entity1)\n",
        "num_rel_1 = len(rel1)"
      ],
      "metadata": {
        "id": "qjqNt7oeBXjK"
      },
      "execution_count": null,
      "outputs": []
    },
    {
      "cell_type": "code",
      "execution_count": null,
      "metadata": {
        "id": "t29mIfJT68i3"
      },
      "outputs": [],
      "source": [
        "layer = SourceFileLoader(\"layer\", \"/content/RREA/CIKM/layer.py\").load_module()\n",
        "\n",
        "from layer import NR_GraphAttention,N3,AvgClass,sim_mat,my_loss\n",
        "tf.keras.backend.clear_session()\n",
        "\n",
        "node_size = adj_features.shape[0]\n",
        "rel_size = rel_features.shape[1]\n",
        "triple_size = len(adj_matrix)\n",
        "batch_size = node_size\n",
        "\n",
        "\n",
        "class TokenEmbedding(keras.layers.Embedding):\n",
        "    \"\"\"Embedding layer with weights returned.\"\"\"\n",
        "\n",
        "    def compute_output_shape(self, input_shape):\n",
        "        return self.input_dim, self.output_dim\n",
        "\n",
        "    def compute_mask(self, inputs, mask=None):\n",
        "        return None\n",
        "\n",
        "    def call(self, inputs):\n",
        "        return self.embeddings\n",
        "    \n",
        "def get_sim_mat(lr):\n",
        "    inputs = [adj_matrix,r_index,r_val,rel_matrix,ent_matrix,radj,lr]\n",
        "    inputs = [np.expand_dims(item,axis=0) for item in inputs]\n",
        "    return get_sim.predict_on_batch(inputs)\n",
        "\n",
        "\n",
        "\n",
        "def CSLS_test(thread_number = 16, csls=10,accurate = True):\n",
        "    lr = np.array(dev_pair)\n",
        "    [sim,_,_] = get_sim_mat(lr)\n",
        "    eval_alignment_by_mat(sim, [1, 5, 10], thread_number, csls=csls, accurate=accurate)\n",
        "    return None\n",
        "\n",
        "def get_train_set(batch_size = batch_size):\n",
        "    negative_ratio =  batch_size // len(train_pair) + 1\n",
        "    train_set = np.reshape(np.repeat(np.expand_dims(train_pair,axis=0),axis=0,repeats=negative_ratio),newshape=(-1,2))\n",
        "    np.random.shuffle(train_set); train_set = train_set[:batch_size]\n",
        "    train_set = np.concatenate([train_set,np.random.randint(0,node_size,[train_set.shape[0],3])],axis = -1)\n",
        "    return train_set\n",
        "\n",
        "def get_train_set1(batch_size = batch_size):\n",
        "    train_set = train_pair\n",
        "    np.random.shuffle(train_set);\n",
        "    train_set = np.concatenate([train_set,np.random.randint(0,node_size,train_set.shape)],axis = -1)\n",
        "    return train_set\n",
        "\n",
        "def get_trgat(node_size,rel_size,node_hidden,rel_hidden,triple_size,n_attn_heads = 2,dropout_rate = 0,gamma = 3,lr = 0.005,depth = 2):\n",
        "    adj_input = Input(shape=(None,2))\n",
        "    index_input = Input(shape=(None,2),dtype='int64')\n",
        "    val_input = Input(shape = (None,))\n",
        "    rel_adj = Input(shape=(None,2))\n",
        "    ent_adj = Input(shape=(None,2))\n",
        "    radj = Input(shape=(None,3),dtype='int64')\n",
        "    alignment_input = Input(shape=(None,5),dtype = \"int32\") \n",
        "    LR = Input(shape=(None,2),dtype = \"int32\") \n",
        "\n",
        "\n",
        "    ent_emb = TokenEmbedding(node_size,node_hidden,trainable = True)(val_input) \n",
        "    rel_emb = TokenEmbedding(rel_size,node_hidden,trainable = True)(val_input)\n",
        "    \n",
        "    # E = TokenEmbedding(node_hidden,node_hidden,trainable = True)(val_input)\n",
        "    # R = TokenEmbedding(node_hidden,node_hidden,trainable = True)(val_input)\n",
        "\n",
        "    # avg = AvgClass(node_size,rel_size)\n",
        "    # ent_feature,rel_feature = avg([ent_emb,rel_emb,radj])\n",
        "    \n",
        "    def avg(tensor,size):\n",
        "        adj = K.cast(K.squeeze(tensor[0],axis = 0),dtype = \"int64\")   \n",
        "        adj = tf.SparseTensor(indices=adj, values=tf.ones_like(adj[:,0],dtype = 'float32'), dense_shape=(node_size,size)) \n",
        "        adj = tf.compat.v1.sparse_softmax(adj) \n",
        "        l_adj = tf.compat.v1.sparse_tensor_dense_matmul(adj,tensor[1])\n",
        "        return l_adj\n",
        "\n",
        "    rel_feature = Lambda(avg,arguments={'size':rel_size})([rel_adj,rel_emb])\n",
        "    ent_feature = Lambda(avg,arguments={'size':node_size})([ent_adj,ent_emb])\n",
        "\n",
        "\n",
        "    encoder1 = NR_GraphAttention(node_size,activation=\"relu\",\n",
        "                                       rel_size = rel_size,\n",
        "                                       depth = 1,\n",
        "                                       attn_heads=n_attn_heads,\n",
        "                                       triple_size = triple_size,\n",
        "                                       attn_heads_reduction='average',   \n",
        "                                       dropout_rate=dropout_rate)\n",
        "  \n",
        "    encoder2 = NR_GraphAttention(node_size,activation=\"relu\",\n",
        "                                    rel_size = rel_size,\n",
        "                                    depth = 1,\n",
        "                                    attn_heads=n_attn_heads,\n",
        "                                    triple_size = triple_size,\n",
        "                                    attn_heads_reduction='average',   \n",
        "                                    dropout_rate=dropout_rate)\n",
        "    sim_layer = sim_mat()\n",
        "    loss_layer = my_loss(dropout_rate)\n",
        "        \n",
        "    opt1 = [rel_emb,adj_input,index_input,val_input,radj]\n",
        "    weight =  tf.Variable(1 * [-0.5] + (6) * [1.0], trainable=False)\n",
        "    weight = 5 * tf.math.softmax(weight)\n",
        "\n",
        "    f = weight[0] * ent_emb\n",
        "    loss = loss_layer([f ,alignment_input])\n",
        "    s = sim_layer([f,LR])\n",
        "\n",
        "    f = weight[1] * ent_feature\n",
        "    loss += loss_layer([f ,alignment_input])\n",
        "    s += sim_layer([f,LR])\n",
        "    \n",
        "    middle_F = encoder1([ent_feature] + opt1)\n",
        "    f = weight[2] * middle_F \n",
        "    loss += loss_layer([f ,alignment_input])\n",
        "    s += sim_layer([f,LR])\n",
        "\n",
        "    middle_F = encoder2([middle_F] + opt1)\n",
        "    f = weight[3] * middle_F \n",
        "    loss += loss_layer([f ,alignment_input])\n",
        "    s += sim_layer([f,LR])\n",
        "\n",
        "    f = weight[4] * rel_feature\n",
        "    loss += loss_layer([f ,alignment_input])\n",
        "    s += sim_layer([f,LR])\n",
        "    \n",
        "    middle_F = encoder1([rel_feature] + opt1)\n",
        "    f = weight[5] * middle_F \n",
        "    loss += loss_layer([f ,alignment_input])\n",
        "    s += sim_layer([f,LR])\n",
        "\n",
        "    middle_F = encoder2([middle_F] + opt1)\n",
        "    f = weight[6] * middle_F \n",
        "    loss += loss_layer([f ,alignment_input])\n",
        "    s += sim_layer([f,LR])\n",
        "\n",
        "    LR_norm = tf.matmul(tf.sqrt(s[1]),tf.transpose(tf.sqrt(s[2])))\n",
        "     \n",
        "    sim = s[0]/LR_norm\n",
        "    print(loss.shape)\n",
        "    loss = K.relu(gamma + loss[0]) + K.relu(gamma + loss[1])+ K.relu(gamma + loss[2])+ K.relu(gamma + loss[3])\n",
        "    loss = tf.compat.v1.reduce_sum(loss,keep_dims=True) /(batch_size) \n",
        "   \n",
        "    inputs = [adj_input,index_input,val_input,rel_adj,ent_adj,radj]\n",
        "    train_model = keras.Model(inputs = inputs + [alignment_input],outputs = loss)   \n",
        "    train_model.compile(loss=lambda y_true,y_pred: y_pred,optimizer=tf.keras.optimizers.RMSprop(lr=lr))\n",
        "\n",
        "    feature_model = keras.Model(inputs = inputs+ [LR],outputs = [sim,s[1],s[2]])\n",
        "    return train_model,feature_model\n"
      ]
    },
    {
      "cell_type": "code",
      "execution_count": null,
      "metadata": {
        "colab": {
          "base_uri": "https://localhost:8080/",
          "height": 339
        },
        "id": "Nwoj1iWf69WX",
        "outputId": "b9d954f7-96d1-4ecc-dea8-bd94ee2c719e"
      },
      "outputs": [
        {
          "output_type": "error",
          "ename": "AttributeError",
          "evalue": "ignored",
          "traceback": [
            "\u001b[0;31m---------------------------------------------------------------------------\u001b[0m",
            "\u001b[0;31mAttributeError\u001b[0m                            Traceback (most recent call last)",
            "\u001b[0;32m<ipython-input-41-fed3bd4ded91>\u001b[0m in \u001b[0;36m<module>\u001b[0;34m()\u001b[0m\n\u001b[0;32m----> 1\u001b[0;31m \u001b[0mmodel\u001b[0m\u001b[0;34m,\u001b[0m\u001b[0mget_sim\u001b[0m \u001b[0;34m=\u001b[0m \u001b[0mget_trgat\u001b[0m\u001b[0;34m(\u001b[0m\u001b[0mdropout_rate\u001b[0m\u001b[0;34m=\u001b[0m\u001b[0;36m0.30\u001b[0m\u001b[0;34m,\u001b[0m\u001b[0mnode_size\u001b[0m\u001b[0;34m=\u001b[0m\u001b[0mnode_size\u001b[0m\u001b[0;34m,\u001b[0m\u001b[0mrel_size\u001b[0m\u001b[0;34m=\u001b[0m\u001b[0mrel_size\u001b[0m\u001b[0;34m,\u001b[0m\u001b[0mn_attn_heads\u001b[0m \u001b[0;34m=\u001b[0m \u001b[0;36m1\u001b[0m\u001b[0;34m,\u001b[0m\u001b[0mdepth\u001b[0m\u001b[0;34m=\u001b[0m\u001b[0;36m2\u001b[0m\u001b[0;34m,\u001b[0m\u001b[0mgamma\u001b[0m \u001b[0;34m=\u001b[0m\u001b[0;36m3\u001b[0m\u001b[0;34m,\u001b[0m\u001b[0mnode_hidden\u001b[0m\u001b[0;34m=\u001b[0m\u001b[0;36m100\u001b[0m\u001b[0;34m,\u001b[0m\u001b[0mrel_hidden\u001b[0m \u001b[0;34m=\u001b[0m \u001b[0;36m100\u001b[0m\u001b[0;34m,\u001b[0m\u001b[0mtriple_size\u001b[0m \u001b[0;34m=\u001b[0m \u001b[0mtriple_size\u001b[0m\u001b[0;34m)\u001b[0m\u001b[0;34m\u001b[0m\u001b[0;34m\u001b[0m\u001b[0m\n\u001b[0m\u001b[1;32m      2\u001b[0m \u001b[0mmodel\u001b[0m\u001b[0;34m.\u001b[0m\u001b[0msummary\u001b[0m\u001b[0;34m(\u001b[0m\u001b[0;34m)\u001b[0m\u001b[0;34m;\u001b[0m \u001b[0minitial_weights\u001b[0m \u001b[0;34m=\u001b[0m \u001b[0mmodel\u001b[0m\u001b[0;34m.\u001b[0m\u001b[0mget_weights\u001b[0m\u001b[0;34m(\u001b[0m\u001b[0;34m)\u001b[0m\u001b[0;34m\u001b[0m\u001b[0;34m\u001b[0m\u001b[0m\n",
            "\u001b[0;32m<ipython-input-40-bc15b1ba5371>\u001b[0m in \u001b[0;36mget_trgat\u001b[0;34m(node_size, rel_size, node_hidden, rel_hidden, triple_size, n_attn_heads, dropout_rate, gamma, lr, depth)\u001b[0m\n\u001b[1;32m    136\u001b[0m \u001b[0;34m\u001b[0m\u001b[0m\n\u001b[1;32m    137\u001b[0m     \u001b[0msim\u001b[0m \u001b[0;34m=\u001b[0m \u001b[0ms\u001b[0m\u001b[0;34m[\u001b[0m\u001b[0;36m0\u001b[0m\u001b[0;34m]\u001b[0m\u001b[0;34m/\u001b[0m\u001b[0mLR_norm\u001b[0m\u001b[0;34m\u001b[0m\u001b[0;34m\u001b[0m\u001b[0m\n\u001b[0;32m--> 138\u001b[0;31m     \u001b[0mprint\u001b[0m\u001b[0;34m(\u001b[0m\u001b[0mloss\u001b[0m\u001b[0;34m.\u001b[0m\u001b[0mshape\u001b[0m\u001b[0;34m)\u001b[0m\u001b[0;34m\u001b[0m\u001b[0;34m\u001b[0m\u001b[0m\n\u001b[0m\u001b[1;32m    139\u001b[0m     \u001b[0mloss\u001b[0m \u001b[0;34m=\u001b[0m \u001b[0mK\u001b[0m\u001b[0;34m.\u001b[0m\u001b[0mrelu\u001b[0m\u001b[0;34m(\u001b[0m\u001b[0mgamma\u001b[0m \u001b[0;34m+\u001b[0m \u001b[0mloss\u001b[0m\u001b[0;34m[\u001b[0m\u001b[0;36m0\u001b[0m\u001b[0;34m]\u001b[0m\u001b[0;34m)\u001b[0m \u001b[0;34m+\u001b[0m \u001b[0mK\u001b[0m\u001b[0;34m.\u001b[0m\u001b[0mrelu\u001b[0m\u001b[0;34m(\u001b[0m\u001b[0mgamma\u001b[0m \u001b[0;34m+\u001b[0m \u001b[0mloss\u001b[0m\u001b[0;34m[\u001b[0m\u001b[0;36m1\u001b[0m\u001b[0;34m]\u001b[0m\u001b[0;34m)\u001b[0m\u001b[0;34m+\u001b[0m \u001b[0mK\u001b[0m\u001b[0;34m.\u001b[0m\u001b[0mrelu\u001b[0m\u001b[0;34m(\u001b[0m\u001b[0mgamma\u001b[0m \u001b[0;34m+\u001b[0m \u001b[0mloss\u001b[0m\u001b[0;34m[\u001b[0m\u001b[0;36m2\u001b[0m\u001b[0;34m]\u001b[0m\u001b[0;34m)\u001b[0m\u001b[0;34m+\u001b[0m \u001b[0mK\u001b[0m\u001b[0;34m.\u001b[0m\u001b[0mrelu\u001b[0m\u001b[0;34m(\u001b[0m\u001b[0mgamma\u001b[0m \u001b[0;34m+\u001b[0m \u001b[0mloss\u001b[0m\u001b[0;34m[\u001b[0m\u001b[0;36m3\u001b[0m\u001b[0;34m]\u001b[0m\u001b[0;34m)\u001b[0m\u001b[0;34m\u001b[0m\u001b[0;34m\u001b[0m\u001b[0m\n\u001b[1;32m    140\u001b[0m     \u001b[0mloss\u001b[0m \u001b[0;34m=\u001b[0m \u001b[0mtf\u001b[0m\u001b[0;34m.\u001b[0m\u001b[0mcompat\u001b[0m\u001b[0;34m.\u001b[0m\u001b[0mv1\u001b[0m\u001b[0;34m.\u001b[0m\u001b[0mreduce_sum\u001b[0m\u001b[0;34m(\u001b[0m\u001b[0mloss\u001b[0m\u001b[0;34m,\u001b[0m\u001b[0mkeep_dims\u001b[0m\u001b[0;34m=\u001b[0m\u001b[0;32mTrue\u001b[0m\u001b[0;34m)\u001b[0m \u001b[0;34m/\u001b[0m\u001b[0;34m(\u001b[0m\u001b[0mbatch_size\u001b[0m\u001b[0;34m)\u001b[0m\u001b[0;34m\u001b[0m\u001b[0;34m\u001b[0m\u001b[0m\n",
            "\u001b[0;31mAttributeError\u001b[0m: 'list' object has no attribute 'shape'"
          ]
        }
      ],
      "source": [
        "model,get_sim = get_trgat(dropout_rate=0.30,node_size=node_size,rel_size=rel_size,n_attn_heads = 1,depth=2,gamma =3,node_hidden=100,rel_hidden = 100,triple_size = triple_size)\n",
        "model.summary(); initial_weights = model.get_weights()"
      ]
    },
    {
      "cell_type": "code",
      "execution_count": null,
      "metadata": {
        "colab": {
          "base_uri": "https://localhost:8080/",
          "height": 470
        },
        "id": "lMdo-YeF7Hp_",
        "outputId": "4d29d143-d13e-4322-e1c1-2ebd8462017e"
      },
      "outputs": [
        {
          "output_type": "stream",
          "name": "stdout",
          "text": [
            "iteration 0 start.\n"
          ]
        },
        {
          "output_type": "stream",
          "name": "stderr",
          "text": [
            "  8%|▊         | 102/1200 [00:19<17:42,  1.03it/s]"
          ]
        },
        {
          "output_type": "stream",
          "name": "stdout",
          "text": [
            "accurate results: hits@[1, 5, 10] = [0.04 0.06 0.12], mr = 5258.603, mrr = 0.001, time = 7.928 s \n"
          ]
        },
        {
          "output_type": "stream",
          "name": "stderr",
          "text": [
            " 17%|█▋        | 202/1200 [00:35<15:26,  1.08it/s]"
          ]
        },
        {
          "output_type": "stream",
          "name": "stdout",
          "text": [
            "accurate results: hits@[1, 5, 10] = [0.03 0.05 0.14], mr = 5263.836, mrr = 0.001, time = 7.759 s \n"
          ]
        },
        {
          "output_type": "stream",
          "name": "stderr",
          "text": [
            " 23%|██▎       | 274/1200 [00:42<02:22,  6.52it/s]\n"
          ]
        },
        {
          "output_type": "error",
          "ename": "KeyboardInterrupt",
          "evalue": "ignored",
          "traceback": [
            "\u001b[0;31m---------------------------------------------------------------------------\u001b[0m",
            "\u001b[0;31mKeyboardInterrupt\u001b[0m                         Traceback (most recent call last)",
            "\u001b[0;32m<ipython-input-36-51db23c4526c>\u001b[0m in \u001b[0;36m<module>\u001b[0;34m()\u001b[0m\n\u001b[1;32m     17\u001b[0m         \u001b[0minputs\u001b[0m \u001b[0;34m=\u001b[0m \u001b[0;34m[\u001b[0m\u001b[0madj_matrix\u001b[0m\u001b[0;34m,\u001b[0m\u001b[0mr_index\u001b[0m\u001b[0;34m,\u001b[0m\u001b[0mr_val\u001b[0m\u001b[0;34m,\u001b[0m\u001b[0mrel_matrix\u001b[0m\u001b[0;34m,\u001b[0m\u001b[0ment_matrix\u001b[0m\u001b[0;34m,\u001b[0m\u001b[0mradj\u001b[0m\u001b[0;34m,\u001b[0m\u001b[0mtrain_set\u001b[0m\u001b[0;34m]\u001b[0m\u001b[0;34m\u001b[0m\u001b[0;34m\u001b[0m\u001b[0m\n\u001b[1;32m     18\u001b[0m         \u001b[0minputs\u001b[0m \u001b[0;34m=\u001b[0m \u001b[0;34m[\u001b[0m\u001b[0mnp\u001b[0m\u001b[0;34m.\u001b[0m\u001b[0mexpand_dims\u001b[0m\u001b[0;34m(\u001b[0m\u001b[0mitem\u001b[0m\u001b[0;34m,\u001b[0m\u001b[0maxis\u001b[0m\u001b[0;34m=\u001b[0m\u001b[0;36m0\u001b[0m\u001b[0;34m)\u001b[0m \u001b[0;32mfor\u001b[0m \u001b[0mitem\u001b[0m \u001b[0;32min\u001b[0m \u001b[0minputs\u001b[0m\u001b[0;34m]\u001b[0m\u001b[0;34m\u001b[0m\u001b[0;34m\u001b[0m\u001b[0m\n\u001b[0;32m---> 19\u001b[0;31m         \u001b[0mmodel\u001b[0m\u001b[0;34m.\u001b[0m\u001b[0mtrain_on_batch\u001b[0m\u001b[0;34m(\u001b[0m\u001b[0minputs\u001b[0m\u001b[0;34m,\u001b[0m\u001b[0mnp\u001b[0m\u001b[0;34m.\u001b[0m\u001b[0mzeros\u001b[0m\u001b[0;34m(\u001b[0m\u001b[0;34m(\u001b[0m\u001b[0;36m1\u001b[0m\u001b[0;34m,\u001b[0m\u001b[0;36m1\u001b[0m\u001b[0;34m)\u001b[0m\u001b[0;34m)\u001b[0m\u001b[0;34m)\u001b[0m\u001b[0;34m\u001b[0m\u001b[0;34m\u001b[0m\u001b[0m\n\u001b[0m\u001b[1;32m     20\u001b[0m         \u001b[0;32mif\u001b[0m \u001b[0mi\u001b[0m\u001b[0;34m%\u001b[0m\u001b[0;36m100\u001b[0m \u001b[0;34m==\u001b[0m \u001b[0;36m99\u001b[0m\u001b[0;34m:\u001b[0m\u001b[0;34m\u001b[0m\u001b[0;34m\u001b[0m\u001b[0m\n\u001b[1;32m     21\u001b[0m             \u001b[0mCSLS_test\u001b[0m\u001b[0;34m(\u001b[0m\u001b[0;34m)\u001b[0m\u001b[0;34m\u001b[0m\u001b[0;34m\u001b[0m\u001b[0m\n",
            "\u001b[0;32m/usr/local/lib/python3.7/dist-packages/keras/engine/training.py\u001b[0m in \u001b[0;36mtrain_on_batch\u001b[0;34m(self, x, y, sample_weight, class_weight, reset_metrics, return_dict)\u001b[0m\n\u001b[1;32m   1896\u001b[0m       iterator = data_adapter.single_batch_iterator(self.distribute_strategy, x,\n\u001b[1;32m   1897\u001b[0m                                                     \u001b[0my\u001b[0m\u001b[0;34m,\u001b[0m \u001b[0msample_weight\u001b[0m\u001b[0;34m,\u001b[0m\u001b[0;34m\u001b[0m\u001b[0;34m\u001b[0m\u001b[0m\n\u001b[0;32m-> 1898\u001b[0;31m                                                     class_weight)\n\u001b[0m\u001b[1;32m   1899\u001b[0m       \u001b[0mself\u001b[0m\u001b[0;34m.\u001b[0m\u001b[0mtrain_function\u001b[0m \u001b[0;34m=\u001b[0m \u001b[0mself\u001b[0m\u001b[0;34m.\u001b[0m\u001b[0mmake_train_function\u001b[0m\u001b[0;34m(\u001b[0m\u001b[0;34m)\u001b[0m\u001b[0;34m\u001b[0m\u001b[0;34m\u001b[0m\u001b[0m\n\u001b[1;32m   1900\u001b[0m       \u001b[0mlogs\u001b[0m \u001b[0;34m=\u001b[0m \u001b[0mself\u001b[0m\u001b[0;34m.\u001b[0m\u001b[0mtrain_function\u001b[0m\u001b[0;34m(\u001b[0m\u001b[0miterator\u001b[0m\u001b[0;34m)\u001b[0m\u001b[0;34m\u001b[0m\u001b[0;34m\u001b[0m\u001b[0m\n",
            "\u001b[0;32m/usr/local/lib/python3.7/dist-packages/keras/engine/data_adapter.py\u001b[0m in \u001b[0;36msingle_batch_iterator\u001b[0;34m(strategy, x, y, sample_weight, class_weight)\u001b[0m\n\u001b[1;32m   1643\u001b[0m     \u001b[0mdataset\u001b[0m \u001b[0;34m=\u001b[0m \u001b[0mdataset\u001b[0m\u001b[0;34m.\u001b[0m\u001b[0mmap\u001b[0m\u001b[0;34m(\u001b[0m\u001b[0m_make_class_weight_map_fn\u001b[0m\u001b[0;34m(\u001b[0m\u001b[0mclass_weight\u001b[0m\u001b[0;34m)\u001b[0m\u001b[0;34m)\u001b[0m\u001b[0;34m\u001b[0m\u001b[0;34m\u001b[0m\u001b[0m\n\u001b[1;32m   1644\u001b[0m   \u001b[0mdataset\u001b[0m \u001b[0;34m=\u001b[0m \u001b[0mstrategy\u001b[0m\u001b[0;34m.\u001b[0m\u001b[0mexperimental_distribute_dataset\u001b[0m\u001b[0;34m(\u001b[0m\u001b[0mdataset\u001b[0m\u001b[0;34m)\u001b[0m\u001b[0;34m\u001b[0m\u001b[0;34m\u001b[0m\u001b[0m\n\u001b[0;32m-> 1645\u001b[0;31m   \u001b[0;32mreturn\u001b[0m \u001b[0miter\u001b[0m\u001b[0;34m(\u001b[0m\u001b[0mdataset\u001b[0m\u001b[0;34m)\u001b[0m\u001b[0;34m\u001b[0m\u001b[0;34m\u001b[0m\u001b[0m\n\u001b[0m\u001b[1;32m   1646\u001b[0m \u001b[0;34m\u001b[0m\u001b[0m\n\u001b[1;32m   1647\u001b[0m \u001b[0;34m\u001b[0m\u001b[0m\n",
            "\u001b[0;32m/usr/local/lib/python3.7/dist-packages/tensorflow/python/data/ops/dataset_ops.py\u001b[0m in \u001b[0;36m__iter__\u001b[0;34m(self)\u001b[0m\n\u001b[1;32m    488\u001b[0m     \u001b[0;32mif\u001b[0m \u001b[0mcontext\u001b[0m\u001b[0;34m.\u001b[0m\u001b[0mexecuting_eagerly\u001b[0m\u001b[0;34m(\u001b[0m\u001b[0;34m)\u001b[0m \u001b[0;32mor\u001b[0m \u001b[0mops\u001b[0m\u001b[0;34m.\u001b[0m\u001b[0minside_function\u001b[0m\u001b[0;34m(\u001b[0m\u001b[0;34m)\u001b[0m\u001b[0;34m:\u001b[0m\u001b[0;34m\u001b[0m\u001b[0;34m\u001b[0m\u001b[0m\n\u001b[1;32m    489\u001b[0m       \u001b[0;32mwith\u001b[0m \u001b[0mops\u001b[0m\u001b[0;34m.\u001b[0m\u001b[0mcolocate_with\u001b[0m\u001b[0;34m(\u001b[0m\u001b[0mself\u001b[0m\u001b[0;34m.\u001b[0m\u001b[0m_variant_tensor\u001b[0m\u001b[0;34m)\u001b[0m\u001b[0;34m:\u001b[0m\u001b[0;34m\u001b[0m\u001b[0;34m\u001b[0m\u001b[0m\n\u001b[0;32m--> 490\u001b[0;31m         \u001b[0;32mreturn\u001b[0m \u001b[0miterator_ops\u001b[0m\u001b[0;34m.\u001b[0m\u001b[0mOwnedIterator\u001b[0m\u001b[0;34m(\u001b[0m\u001b[0mself\u001b[0m\u001b[0;34m)\u001b[0m\u001b[0;34m\u001b[0m\u001b[0;34m\u001b[0m\u001b[0m\n\u001b[0m\u001b[1;32m    491\u001b[0m     \u001b[0;32melse\u001b[0m\u001b[0;34m:\u001b[0m\u001b[0;34m\u001b[0m\u001b[0;34m\u001b[0m\u001b[0m\n\u001b[1;32m    492\u001b[0m       raise RuntimeError(\"`tf.data.Dataset` only supports Python-style \"\n",
            "\u001b[0;32m/usr/local/lib/python3.7/dist-packages/tensorflow/python/data/ops/iterator_ops.py\u001b[0m in \u001b[0;36m__init__\u001b[0;34m(self, dataset, components, element_spec)\u001b[0m\n\u001b[1;32m    724\u001b[0m             \u001b[0;34m\"When `dataset` is provided, `element_spec` and `components` must \"\u001b[0m\u001b[0;34m\u001b[0m\u001b[0;34m\u001b[0m\u001b[0m\n\u001b[1;32m    725\u001b[0m             \"not be specified.\")\n\u001b[0;32m--> 726\u001b[0;31m       \u001b[0mself\u001b[0m\u001b[0;34m.\u001b[0m\u001b[0m_create_iterator\u001b[0m\u001b[0;34m(\u001b[0m\u001b[0mdataset\u001b[0m\u001b[0;34m)\u001b[0m\u001b[0;34m\u001b[0m\u001b[0;34m\u001b[0m\u001b[0m\n\u001b[0m\u001b[1;32m    727\u001b[0m \u001b[0;34m\u001b[0m\u001b[0m\n\u001b[1;32m    728\u001b[0m     \u001b[0mself\u001b[0m\u001b[0;34m.\u001b[0m\u001b[0m_get_next_call_count\u001b[0m \u001b[0;34m=\u001b[0m \u001b[0;36m0\u001b[0m\u001b[0;34m\u001b[0m\u001b[0;34m\u001b[0m\u001b[0m\n",
            "\u001b[0;32m/usr/local/lib/python3.7/dist-packages/tensorflow/python/data/ops/iterator_ops.py\u001b[0m in \u001b[0;36m_create_iterator\u001b[0;34m(self, dataset)\u001b[0m\n\u001b[1;32m    749\u001b[0m               \u001b[0moutput_types\u001b[0m\u001b[0;34m=\u001b[0m\u001b[0mself\u001b[0m\u001b[0;34m.\u001b[0m\u001b[0m_flat_output_types\u001b[0m\u001b[0;34m,\u001b[0m\u001b[0;34m\u001b[0m\u001b[0;34m\u001b[0m\u001b[0m\n\u001b[1;32m    750\u001b[0m               output_shapes=self._flat_output_shapes))\n\u001b[0;32m--> 751\u001b[0;31m       \u001b[0mgen_dataset_ops\u001b[0m\u001b[0;34m.\u001b[0m\u001b[0mmake_iterator\u001b[0m\u001b[0;34m(\u001b[0m\u001b[0mds_variant\u001b[0m\u001b[0;34m,\u001b[0m \u001b[0mself\u001b[0m\u001b[0;34m.\u001b[0m\u001b[0m_iterator_resource\u001b[0m\u001b[0;34m)\u001b[0m\u001b[0;34m\u001b[0m\u001b[0;34m\u001b[0m\u001b[0m\n\u001b[0m\u001b[1;32m    752\u001b[0m       \u001b[0;31m# Delete the resource when this object is deleted\u001b[0m\u001b[0;34m\u001b[0m\u001b[0;34m\u001b[0m\u001b[0;34m\u001b[0m\u001b[0m\n\u001b[1;32m    753\u001b[0m       self._resource_deleter = IteratorResourceDeleter(\n",
            "\u001b[0;32m/usr/local/lib/python3.7/dist-packages/tensorflow/python/ops/gen_dataset_ops.py\u001b[0m in \u001b[0;36mmake_iterator\u001b[0;34m(dataset, iterator, name)\u001b[0m\n\u001b[1;32m   3236\u001b[0m     \u001b[0;32mtry\u001b[0m\u001b[0;34m:\u001b[0m\u001b[0;34m\u001b[0m\u001b[0;34m\u001b[0m\u001b[0m\n\u001b[1;32m   3237\u001b[0m       _result = pywrap_tfe.TFE_Py_FastPathExecute(\n\u001b[0;32m-> 3238\u001b[0;31m         _ctx, \"MakeIterator\", name, dataset, iterator)\n\u001b[0m\u001b[1;32m   3239\u001b[0m       \u001b[0;32mreturn\u001b[0m \u001b[0m_result\u001b[0m\u001b[0;34m\u001b[0m\u001b[0;34m\u001b[0m\u001b[0m\n\u001b[1;32m   3240\u001b[0m     \u001b[0;32mexcept\u001b[0m \u001b[0m_core\u001b[0m\u001b[0;34m.\u001b[0m\u001b[0m_NotOkStatusException\u001b[0m \u001b[0;32mas\u001b[0m \u001b[0me\u001b[0m\u001b[0;34m:\u001b[0m\u001b[0;34m\u001b[0m\u001b[0;34m\u001b[0m\u001b[0m\n",
            "\u001b[0;31mKeyboardInterrupt\u001b[0m: "
          ]
        }
      ],
      "source": [
        "train_pair = train_pair_main\n",
        "tf.keras.backend.clear_session()\n",
        "config = tf.compat.v1.ConfigProto()\n",
        "config.gpu_options.allow_growth=True  \n",
        "sess = tf.compat.v1.Session(config=config) \n",
        "\n",
        "rest_set_1 = [e1 for e1, e2 in dev_pair]\n",
        "rest_set_2 = [e2 for e1, e2 in dev_pair]\n",
        "np.random.shuffle(rest_set_1)\n",
        "np.random.shuffle(rest_set_2)\n",
        "\n",
        "epoch = 1200\n",
        "for turn in range(5):\n",
        "    print(\"iteration %d start.\"%turn)\n",
        "    for i in trange(epoch):\n",
        "        train_set = get_train_set()\n",
        "        inputs = [adj_matrix,r_index,r_val,rel_matrix,ent_matrix,radj,train_set]\n",
        "        inputs = [np.expand_dims(item,axis=0) for item in inputs]\n",
        "        model.train_on_batch(inputs,np.zeros((1,1)))\n",
        "        if i%100 == 99:\n",
        "            CSLS_test()\n",
        "           \n",
        "    new_pair = []\n",
        "    l = np.array(rest_set_1).reshape(-1,1)\n",
        "    r = np.array(rest_set_2).reshape(-1,1)\n",
        "    \n",
        "    [sim,_,_]  = get_sim_mat(np.concatenate([l,r],1))\n",
        "    A,_ = eval_alignment_by_mat(sim, [1, 5, 10], 16,10,True,False)\n",
        "    B,_ = eval_alignment_by_mat(np.transpose(sim),[1, 5, 10], 16,10,True,False)\n",
        "    A = sorted(list(A)); B = sorted(list(B))\n",
        "    for a,b in A:\n",
        "        if  B[b][1] == a:\n",
        "            new_pair.append([rest_set_1[a],rest_set_2[b]])\n",
        "    print(\"generate new semi-pairs: %d.\" % len(new_pair))\n",
        "    train_pair = np.concatenate([train_pair,np.array(new_pair)],axis = 0)\n",
        "    for e1,e2 in new_pair:\n",
        "        if e1 in rest_set_1:\n",
        "            rest_set_1.remove(e1) \n",
        "\n",
        "    for e1,e2 in new_pair:\n",
        "        if e2 in rest_set_2:\n",
        "            rest_set_2.remove(e2) "
      ]
    },
    {
      "cell_type": "code",
      "source": [
        "(a,b) = [tf.constant([0]),tf.constant([0])]\n",
        "(a,b) += [tf.constant([0]),tf.constant([0])]\n"
      ],
      "metadata": {
        "colab": {
          "base_uri": "https://localhost:8080/",
          "height": 130
        },
        "id": "jIKhgHNfCIe-",
        "outputId": "847c02e3-56e2-4367-bb6e-f4fda04788cb"
      },
      "execution_count": null,
      "outputs": [
        {
          "output_type": "error",
          "ename": "SyntaxError",
          "evalue": "ignored",
          "traceback": [
            "\u001b[0;36m  File \u001b[0;32m\"<ipython-input-31-2c9984916cad>\"\u001b[0;36m, line \u001b[0;32m2\u001b[0m\n\u001b[0;31m    (a,b) += [tf.constant([0]),tf.constant([0])]\u001b[0m\n\u001b[0m                                                ^\u001b[0m\n\u001b[0;31mSyntaxError\u001b[0m\u001b[0;31m:\u001b[0m illegal expression for augmented assignment\n"
          ]
        }
      ]
    },
    {
      "cell_type": "code",
      "source": [
        "l = np.array(rest_set_1).reshape(-1,1)\n",
        "r = np.array(rest_set_2).reshape(-1,1)\n",
        "[sim,L,R] = get_sim_mat(np.concatenate([l,r],1))\n",
        "print(sim.shape,sim)\n"
      ],
      "metadata": {
        "colab": {
          "base_uri": "https://localhost:8080/"
        },
        "id": "6DYsNm5bkqNO",
        "outputId": "ea599632-29cd-4f37-d655-616234ebff57"
      },
      "execution_count": null,
      "outputs": [
        {
          "output_type": "stream",
          "name": "stdout",
          "text": [
            "(10500, 10500) [[ 0.13218588  0.05917985  0.1306869  ...  0.10307832  0.25313294\n",
            "   0.20482811]\n",
            " [ 0.09945321 -0.0033827   0.22579445 ...  0.16366687  0.23503412\n",
            "   0.22260292]\n",
            " [ 0.08662807  0.01648146  0.23262902 ...  0.12311409  0.24079126\n",
            "   0.20877074]\n",
            " ...\n",
            " [ 0.15729168  0.1390887   0.12876606 ...  0.19416602  0.20447268\n",
            "   0.13953726]\n",
            " [ 0.20249043  0.11424626  0.17315485 ...  0.20799868  0.17705308\n",
            "   0.19259618]\n",
            " [ 0.16082028  0.11769021  0.2659137  ...  0.24568443  0.3067721\n",
            "   0.26965457]]\n"
          ]
        }
      ]
    },
    {
      "cell_type": "code",
      "source": [
        "sim"
      ],
      "metadata": {
        "colab": {
          "base_uri": "https://localhost:8080/"
        },
        "id": "4JyzpZ1ZIT9J",
        "outputId": "57c305af-153c-4ddb-8f55-9a50b57cebee"
      },
      "execution_count": null,
      "outputs": [
        {
          "output_type": "execute_result",
          "data": {
            "text/plain": [
              "array([[ 0.13218588,  0.05917985,  0.1306869 , ...,  0.10307832,\n",
              "         0.25313294,  0.20482811],\n",
              "       [ 0.09945321, -0.0033827 ,  0.22579445, ...,  0.16366687,\n",
              "         0.23503412,  0.22260292],\n",
              "       [ 0.08662807,  0.01648146,  0.23262902, ...,  0.12311409,\n",
              "         0.24079126,  0.20877074],\n",
              "       ...,\n",
              "       [ 0.15729168,  0.1390887 ,  0.12876606, ...,  0.19416602,\n",
              "         0.20447268,  0.13953726],\n",
              "       [ 0.20249043,  0.11424626,  0.17315485, ...,  0.20799868,\n",
              "         0.17705308,  0.19259618],\n",
              "       [ 0.16082028,  0.11769021,  0.2659137 , ...,  0.24568443,\n",
              "         0.3067721 ,  0.26965457]], dtype=float32)"
            ]
          },
          "metadata": {},
          "execution_count": 58
        }
      ]
    },
    {
      "cell_type": "code",
      "source": [
        "S = sim/np.sqrt(L * np.transpose(R))"
      ],
      "metadata": {
        "id": "R5PzyqFyIqzo"
      },
      "execution_count": null,
      "outputs": []
    },
    {
      "cell_type": "code",
      "source": [
        "eval_alignment_by_mat(S, [1, 5, 10], 16,10,True,False)"
      ],
      "metadata": {
        "id": "evo1JsDYhEU3"
      },
      "execution_count": null,
      "outputs": []
    }
  ],
  "metadata": {
    "accelerator": "GPU",
    "colab": {
      "collapsed_sections": [],
      "name": "EA.ipynb",
      "provenance": [],
      "include_colab_link": true
    },
    "kernelspec": {
      "display_name": "Python 3",
      "name": "python3"
    },
    "language_info": {
      "name": "python"
    }
  },
  "nbformat": 4,
  "nbformat_minor": 0
}