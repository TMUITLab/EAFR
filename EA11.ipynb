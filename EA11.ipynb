{
  "cells": [
    {
      "cell_type": "markdown",
      "metadata": {
        "id": "view-in-github",
        "colab_type": "text"
      },
      "source": [
        "<a href=\"https://colab.research.google.com/github/TMUITLab/EAFR/blob/master/EA11.ipynb\" target=\"_parent\"><img src=\"https://colab.research.google.com/assets/colab-badge.svg\" alt=\"Open In Colab\"/></a>"
      ]
    },
    {
      "cell_type": "code",
      "execution_count": 2,
      "metadata": {
        "colab": {
          "base_uri": "https://localhost:8080/"
        },
        "id": "WjActARX7sCY",
        "outputId": "9941aced-0041-4c78-9e0e-903554dc0308"
      },
      "outputs": [
        {
          "output_type": "stream",
          "name": "stdout",
          "text": [
            "/content\n",
            "Cloning into 'GCN-Align'...\n",
            "remote: Enumerating objects: 53, done.\u001b[K\n",
            "remote: Total 53 (delta 0), reused 0 (delta 0), pack-reused 53\u001b[K\n",
            "Unpacking objects: 100% (53/53), done.\n",
            "Cloning into 'RREA'...\n",
            "remote: Enumerating objects: 32, done.\u001b[K\n",
            "remote: Counting objects: 100% (32/32), done.\u001b[K\n",
            "remote: Compressing objects: 100% (30/30), done.\u001b[K\n",
            "remote: Total 32 (delta 4), reused 0 (delta 0), pack-reused 0\u001b[K\n",
            "Unpacking objects: 100% (32/32), done.\n"
          ]
        }
      ],
      "source": [
        "%cd '/content'\n",
        "!git clone https://github.com/1049451037/GCN-Align\n",
        "!git clone https://github.com/MaoXinn/RREA"
      ]
    },
    {
      "cell_type": "code",
      "execution_count": 5,
      "metadata": {
        "id": "ZB2YBVkb4pYB"
      },
      "outputs": [],
      "source": [
        "import warnings\n",
        "warnings.filterwarnings('ignore')\n",
        "\n",
        "\n",
        "from importlib.machinery import SourceFileLoader\n",
        " \n",
        "layer = SourceFileLoader(\"layer\", \"/content/RREA/CIKM/layer.py\").load_module()\n",
        "utils = SourceFileLoader(\"utils\", \"/content/RREA/CIKM/utils.py\").load_module()\n",
        "CSLS = SourceFileLoader(\"CSLS\", \"/content/RREA/CIKM/CSLS.py\").load_module()\n",
        "import tensorflow as tf\n",
        "import os\n",
        "import random\n",
        "import keras\n",
        "from tqdm import *\n",
        "import numpy as np\n",
        "from utils import *\n",
        "from CSLS import *\n",
        "import tensorflow as tf\n",
        "import keras.backend as K\n",
        "from keras.layers import *\n",
        "from layer import NR_GraphAttention\n",
        "\n",
        "os.environ[\"CUDA_VISIBLE_DEVICES\"] = \"0\"\n",
        "os.environ[\"TF_CPP_MIN_LOG_LEVEL\"]=\"2\"\n",
        "tf.compat.v1.logging.set_verbosity(tf.compat.v1.logging.ERROR)\n",
        "\n",
        " "
      ]
    },
    {
      "cell_type": "code",
      "execution_count": 6,
      "metadata": {
        "colab": {
          "base_uri": "https://localhost:8080/"
        },
        "id": "oYvCCmAe62rP",
        "outputId": "a97c9c98-c7a6-4a13-c602-a4d9147f9d5a"
      },
      "outputs": [
        {
          "output_type": "stream",
          "name": "stdout",
          "text": [
            "39594 2452\n"
          ]
        }
      ],
      "source": [
        "lang = 'ja'\n",
        "radj,train_pair,dev_pair,adj_matrix,r_index,r_val,adj_features,rel_features,nadj,char_size = load_data('/content/GCN-Align/data/%s_en/'%lang,train_ratio=0.30)\n",
        "train_pair_main=train_pair\n",
        "adj_matrix = np.stack(adj_matrix.nonzero(),axis = 1)\n",
        "rel_matrix,rel_val = np.stack(rel_features.nonzero(),axis = 1),rel_features.data\n",
        "ent_matrix,ent_val = np.stack(adj_features.nonzero(),axis = 1),adj_features.data"
      ]
    },
    {
      "cell_type": "code",
      "source": [
        "entity1, rel1, triples1 = load_triples('/content/GCN-Align/data/%s_en/'%lang + 'triples_1')\n",
        "num_entity_1 = len(entity1)\n",
        "num_rel_1 = len(rel1)"
      ],
      "metadata": {
        "id": "qjqNt7oeBXjK"
      },
      "execution_count": null,
      "outputs": []
    },
    {
      "cell_type": "code",
      "execution_count": 25,
      "metadata": {
        "id": "t29mIfJT68i3"
      },
      "outputs": [],
      "source": [
        "layer = SourceFileLoader(\"layer\", \"/content/RREA/CIKM/layer.py\").load_module()\n",
        "\n",
        "from layer import NR_GraphAttention\n",
        "tf.keras.backend.clear_session()\n",
        "\n",
        "node_size = adj_features.shape[0]\n",
        "rel_size = rel_features.shape[1]\n",
        "triple_size = len(adj_matrix)\n",
        "batch_size = node_size\n",
        "\n",
        "\n",
        "class TokenEmbedding(keras.layers.Embedding):\n",
        "    \"\"\"Embedding layer with weights returned.\"\"\"\n",
        "\n",
        "    def compute_output_shape(self, input_shape):\n",
        "        return self.input_dim, self.output_dim\n",
        "\n",
        "    def compute_mask(self, inputs, mask=None):\n",
        "        return None\n",
        "\n",
        "    def call(self, inputs):\n",
        "        return self.embeddings\n",
        "    \n",
        "def get_embedding():\n",
        "    inputs = [adj_matrix,r_index,r_val,rel_matrix,ent_matrix,radj,nadj]\n",
        "    inputs = [np.expand_dims(item,axis=0) for item in inputs]\n",
        "    return get_emb.predict_on_batch(inputs)\n",
        "\n",
        "def get_losses_values():\n",
        "    inputs = [adj_matrix,r_index,r_val,rel_matrix,ent_matrix,radj,nadj,train_set]\n",
        "    inputs = [np.expand_dims(item,axis=0) for item in inputs]\n",
        "    return get_losses.predict_on_batch(inputs )\n",
        "\n",
        "def test(wrank = None):\n",
        "    vec = get_embedding()\n",
        "    return  get_hits(vec,dev_pair,wrank=wrank)\n",
        "\n",
        "def CSLS_test(thread_number = 16, csls=10,accurate = True):\n",
        "    vec = get_embedding()\n",
        "    Lvec = np.array([vec[e1] for e1, e2 in dev_pair])\n",
        "    Rvec = np.array([vec[e2] for e1, e2 in dev_pair])\n",
        "    Lvec = Lvec / np.linalg.norm(Lvec,axis=-1,keepdims=True)\n",
        "    Rvec = Rvec / np.linalg.norm(Rvec,axis=-1,keepdims=True)\n",
        "    eval_alignment_by_sim_mat(Lvec, Rvec, [1, 5, 10], thread_number, csls=csls, accurate=accurate)\n",
        "    return None\n",
        "\n",
        "def get_train_set(batch_size = batch_size):\n",
        "    negative_ratio =  batch_size // len(train_pair) + 1\n",
        "    train_set = np.reshape(np.repeat(np.expand_dims(train_pair,axis=0),axis=0,repeats=negative_ratio),newshape=(-1,2))\n",
        "    np.random.shuffle(train_set); train_set = train_set[:batch_size]\n",
        "    train_set = np.concatenate([train_set,np.random.randint(0,node_size,[train_set.shape[0],3])],axis = -1)\n",
        "    return train_set\n",
        "\n",
        "def get_train_set1(batch_size = batch_size):\n",
        "    train_set = train_pair\n",
        "    np.random.shuffle(train_set);\n",
        "    train_set = np.concatenate([train_set,np.random.randint(0,node_size,train_set.shape)],axis = -1)\n",
        "    return train_set\n",
        "\n",
        "def get_trgat(node_size,rel_size,node_hidden,rel_hidden,triple_size,n_attn_heads = 2,dropout_rate = 0,gamma = 3,lr = 0.005,depth = 2):\n",
        "    adj_input = Input(shape=(None,2))\n",
        "    index_input = Input(shape=(None,2),dtype='int64')\n",
        "    val_input = Input(shape = (None,))\n",
        "    rel_adj = Input(shape=(None,2))\n",
        "    ent_adj = Input(shape=(None,2))\n",
        "    radj = Input(shape=(None,3),dtype='int64')\n",
        "    nadj = Input(shape=(None,3))\n",
        "    \n",
        "    ent_emb = TokenEmbedding(node_size,node_hidden,trainable = True)(val_input) \n",
        "    rel_emb = TokenEmbedding(rel_size,node_hidden,trainable = True)(val_input)\n",
        "    ch_emb = TokenEmbedding(char_size,node_hidden,trainable = True)(val_input)\n",
        "\n",
        "    # E = TokenEmbedding(node_hidden,node_hidden,trainable = True)(val_input)\n",
        "    # R = TokenEmbedding(node_hidden,node_hidden,trainable = True)(val_input)\n",
        "    def ch_avg(tensor,size):\n",
        "        n_adj = tf.squeeze(tensor[0],axis = 0)\n",
        "        adj = K.cast(n_adj[:,0:2],dtype = \"int64\")   \n",
        "        adj = tf.SparseTensor(indices=adj, values=K.cast(n_adj[:,2],dtype = \"float32\") , dense_shape=(node_size,size)) \n",
        "        adj = tf.compat.v1.sparse_softmax(adj) \n",
        "        l_adj = tf.compat.v1.sparse_tensor_dense_matmul(adj,tensor[1])\n",
        "        return l_adj\n",
        "\n",
        "    def avg(tensor,size):\n",
        "        adj = K.cast(K.squeeze(tensor[0],axis = 0),dtype = \"int64\")   \n",
        "        adj = tf.SparseTensor(indices=adj, values=tf.ones_like(adj[:,0],dtype = 'float32'), dense_shape=(node_size,size)) \n",
        "        adj = tf.compat.v1.sparse_softmax(adj) \n",
        "        l_adj = tf.compat.v1.sparse_tensor_dense_matmul(adj,tensor[1])\n",
        "        return l_adj\n",
        "\n",
        "    name_feature = Lambda(ch_avg,arguments={'size':char_size})([nadj,ch_emb])\n",
        "    rel_feature = Lambda(avg,arguments={'size':rel_size})([rel_adj,rel_emb])\n",
        "    ent_feature = Lambda(avg,arguments={'size':node_size})([ent_adj,ent_emb])\n",
        "    \n",
        "    encoder = NR_GraphAttention(node_size,activation=\"relu\",\n",
        "                                       rel_size = rel_size,\n",
        "                                       depth = depth,\n",
        "                                       attn_heads=n_attn_heads,\n",
        "                                       triple_size = triple_size,\n",
        "                                       attn_heads_reduction='average',   \n",
        "                                       dropout_rate=dropout_rate)\n",
        "    \n",
        "    encoder1 = NR_GraphAttention(node_size,activation=\"relu\",\n",
        "                                    rel_size = rel_size,\n",
        "                                    depth = depth,\n",
        "                                    attn_heads=n_attn_heads,\n",
        "                                    triple_size = triple_size,\n",
        "                                    attn_heads_reduction='average',   \n",
        "                                    dropout_rate=dropout_rate)\n",
        "    encoder2 = NR_GraphAttention(node_size,activation=\"relu\",\n",
        "                                rel_size = rel_size,\n",
        "                                depth = depth,\n",
        "                                attn_heads=n_attn_heads,\n",
        "                                triple_size = triple_size,\n",
        "                                attn_heads_reduction='average',   \n",
        "                                dropout_rate=dropout_rate)\n",
        "        \n",
        "    opt1 = [rel_emb,adj_input,index_input,val_input,radj]\n",
        "\n",
        "    #att = Attention((node_size,node_size))\n",
        "    elements = [ent_emb]+ encoder([name_feature]+opt1) #+ encoder([rel_feature]+opt1)+encoder([ent_feature]+opt1)\n",
        "    #elements = [0.3 * ent_emb[:,:node_hidden//2]]+ el[0:3]+el[6:9]+[0.2 * ent_emb[:,node_hidden//2:]] + el[3:6]+el[9:12]\n",
        "    num_el = elements.__len__()\n",
        "    weight =  tf.Variable(1 * [-0.5] + (num_el-1) * [1.0], trainable=False)\n",
        "    weight = 5 * tf.math.softmax(weight)\n",
        "    elements = [weight[idx]*el for idx, el in enumerate(elements)]\n",
        "    out_feature = Concatenate(-1)(elements)\n",
        "    out_feature = Dropout(dropout_rate)(out_feature)\n",
        "    \n",
        "    alignment_input = Input(shape=(None,5),dtype = \"int32\") \n",
        "    #find = Lambda(lambda x:K.gather(reference=x[0],indices=K.cast(K.squeeze(x[1],axis=0), 'int32')))([out_feature,alignment_input])\n",
        "\n",
        "    I = K.squeeze(alignment_input,axis=0)\n",
        "    \n",
        "    A = K.sum(K.abs(K.gather(out_feature,I[:,0])-K.gather(out_feature,I[:,1])),axis=-1,keepdims=True)\n",
        "    B = K.sum(K.abs(K.gather(out_feature,I[:,0])-K.gather(out_feature,I[:,3])),axis=-1,keepdims=True)\n",
        "    C = K.sum(K.abs(K.gather(out_feature,I[:,2])-K.gather(out_feature,I[:,1])),axis=-1,keepdims=True)\n",
        "    D = K.sum(K.abs(K.gather(out_feature,I[:,0])-K.gather(out_feature,I[:,2])),axis=-1,keepdims=True)\n",
        "    E = K.sum(K.abs(K.gather(out_feature,I[:,3])-K.gather(out_feature,I[:,1])),axis=-1,keepdims=True)\n",
        "\n",
        "    loss =  K.relu(gamma + A - B) + K.relu(gamma + A-C)+ K.relu(gamma + A-D)+ K.relu(gamma + A-E)\n",
        "    loss =  tf.compat.v1.reduce_sum(loss,keep_dims=True) / (batch_size)    \n",
        "   \n",
        "    inputs = [adj_input,index_input,val_input,rel_adj,ent_adj,radj,nadj]\n",
        "    train_model = keras.Model(inputs = inputs + [alignment_input],outputs = loss)\n",
        "    \n",
        "    train_model.compile(loss=lambda y_true,y_pred: y_pred,optimizer=tf.keras.optimizers.RMSprop(lr=lr))\n",
        "    \n",
        "    feature_model = keras.Model(inputs = inputs,outputs = out_feature)\n",
        "    return train_model,feature_model\n"
      ]
    },
    {
      "cell_type": "code",
      "execution_count": 26,
      "metadata": {
        "colab": {
          "base_uri": "https://localhost:8080/"
        },
        "id": "Nwoj1iWf69WX",
        "outputId": "b9c83df1-b32f-49d4-d196-f9b617f5d716"
      },
      "outputs": [
        {
          "output_type": "stream",
          "name": "stdout",
          "text": [
            "Model: \"model\"\n",
            "__________________________________________________________________________________________________\n",
            " Layer (type)                   Output Shape         Param #     Connected to                     \n",
            "==================================================================================================\n",
            " input_3 (InputLayer)           [(None, None)]       0           []                               \n",
            "                                                                                                  \n",
            " input_7 (InputLayer)           [(None, None, 3)]    0           []                               \n",
            "                                                                                                  \n",
            " token_embedding_2 (TokenEmbedd  (1908, 100)         190800      ['input_3[0][0]']                \n",
            " ing)                                                                                             \n",
            "                                                                                                  \n",
            " lambda (Lambda)                (39594, 100)         0           ['input_7[0][0]',                \n",
            "                                                                  'token_embedding_2[0][0]']      \n",
            "                                                                                                  \n",
            " token_embedding_1 (TokenEmbedd  (4904, 100)         490400      ['input_3[0][0]']                \n",
            " ing)                                                                                             \n",
            "                                                                                                  \n",
            " input_1 (InputLayer)           [(None, None, 2)]    0           []                               \n",
            "                                                                                                  \n",
            " input_2 (InputLayer)           [(None, None, 2)]    0           []                               \n",
            "                                                                                                  \n",
            " input_6 (InputLayer)           [(None, None, 3)]    0           []                               \n",
            "                                                                                                  \n",
            " token_embedding (TokenEmbeddin  (39594, 100)        3959400     ['input_3[0][0]']                \n",
            " g)                                                                                               \n",
            "                                                                                                  \n",
            " nr__graph_attention (NR_GraphA  [(39594, 100),      601         ['lambda[0][0]',                 \n",
            " ttention)                       (None, 100),                     'token_embedding_1[0][0]',      \n",
            "                                 (None, 100)]                     'input_1[0][0]',                \n",
            "                                                                  'input_2[0][0]',                \n",
            "                                                                  'input_3[0][0]',                \n",
            "                                                                  'input_6[0][0]']                \n",
            "                                                                                                  \n",
            " tf.math.multiply (TFOpLambda)  (39594, 100)         0           ['token_embedding[0][0]']        \n",
            "                                                                                                  \n",
            " tf.math.multiply_1 (TFOpLambda  (39594, 100)        0           ['nr__graph_attention[0][0]']    \n",
            " )                                                                                                \n",
            "                                                                                                  \n",
            " tf.math.multiply_2 (TFOpLambda  (None, 100)         0           ['nr__graph_attention[0][1]']    \n",
            " )                                                                                                \n",
            "                                                                                                  \n",
            " tf.math.multiply_3 (TFOpLambda  (None, 100)         0           ['nr__graph_attention[0][2]']    \n",
            " )                                                                                                \n",
            "                                                                                                  \n",
            " input_8 (InputLayer)           [(None, None, 5)]    0           []                               \n",
            "                                                                                                  \n",
            " concatenate (Concatenate)      (39594, 400)         0           ['tf.math.multiply[0][0]',       \n",
            "                                                                  'tf.math.multiply_1[0][0]',     \n",
            "                                                                  'tf.math.multiply_2[0][0]',     \n",
            "                                                                  'tf.math.multiply_3[0][0]']     \n",
            "                                                                                                  \n",
            " tf.compat.v1.squeeze (TFOpLamb  (None, 5)           0           ['input_8[0][0]']                \n",
            " da)                                                                                              \n",
            "                                                                                                  \n",
            " dropout (Dropout)              (39594, 400)         0           ['concatenate[0][0]']            \n",
            "                                                                                                  \n",
            " tf.__operators__.getitem (Slic  (None,)             0           ['tf.compat.v1.squeeze[0][0]']   \n",
            " ingOpLambda)                                                                                     \n",
            "                                                                                                  \n",
            " tf.__operators__.getitem_1 (Sl  (None,)             0           ['tf.compat.v1.squeeze[0][0]']   \n",
            " icingOpLambda)                                                                                   \n",
            "                                                                                                  \n",
            " tf.compat.v1.gather (TFOpLambd  (None, 400)         0           ['dropout[0][0]',                \n",
            " a)                                                               'tf.__operators__.getitem[0][0]'\n",
            "                                                                 ]                                \n",
            "                                                                                                  \n",
            " tf.compat.v1.gather_1 (TFOpLam  (None, 400)         0           ['dropout[0][0]',                \n",
            " bda)                                                             'tf.__operators__.getitem_1[0][0\n",
            "                                                                 ]']                              \n",
            "                                                                                                  \n",
            " tf.__operators__.getitem_2 (Sl  (None,)             0           ['tf.compat.v1.squeeze[0][0]']   \n",
            " icingOpLambda)                                                                                   \n",
            "                                                                                                  \n",
            " tf.__operators__.getitem_3 (Sl  (None,)             0           ['tf.compat.v1.squeeze[0][0]']   \n",
            " icingOpLambda)                                                                                   \n",
            "                                                                                                  \n",
            " tf.__operators__.getitem_4 (Sl  (None,)             0           ['tf.compat.v1.squeeze[0][0]']   \n",
            " icingOpLambda)                                                                                   \n",
            "                                                                                                  \n",
            " tf.__operators__.getitem_5 (Sl  (None,)             0           ['tf.compat.v1.squeeze[0][0]']   \n",
            " icingOpLambda)                                                                                   \n",
            "                                                                                                  \n",
            " tf.math.subtract (TFOpLambda)  (None, 400)          0           ['tf.compat.v1.gather[0][0]',    \n",
            "                                                                  'tf.compat.v1.gather_1[0][0]']  \n",
            "                                                                                                  \n",
            " tf.compat.v1.gather_2 (TFOpLam  (None, 400)         0           ['dropout[0][0]',                \n",
            " bda)                                                             'tf.__operators__.getitem_2[0][0\n",
            "                                                                 ]']                              \n",
            "                                                                                                  \n",
            " tf.compat.v1.gather_3 (TFOpLam  (None, 400)         0           ['dropout[0][0]',                \n",
            " bda)                                                             'tf.__operators__.getitem_3[0][0\n",
            "                                                                 ]']                              \n",
            "                                                                                                  \n",
            " tf.compat.v1.gather_4 (TFOpLam  (None, 400)         0           ['dropout[0][0]',                \n",
            " bda)                                                             'tf.__operators__.getitem_4[0][0\n",
            "                                                                 ]']                              \n",
            "                                                                                                  \n",
            " tf.compat.v1.gather_5 (TFOpLam  (None, 400)         0           ['dropout[0][0]',                \n",
            " bda)                                                             'tf.__operators__.getitem_5[0][0\n",
            "                                                                 ]']                              \n",
            "                                                                                                  \n",
            " tf.__operators__.getitem_6 (Sl  (None,)             0           ['tf.compat.v1.squeeze[0][0]']   \n",
            " icingOpLambda)                                                                                   \n",
            "                                                                                                  \n",
            " tf.__operators__.getitem_7 (Sl  (None,)             0           ['tf.compat.v1.squeeze[0][0]']   \n",
            " icingOpLambda)                                                                                   \n",
            "                                                                                                  \n",
            " tf.math.abs (TFOpLambda)       (None, 400)          0           ['tf.math.subtract[0][0]']       \n",
            "                                                                                                  \n",
            " tf.math.subtract_1 (TFOpLambda  (None, 400)         0           ['tf.compat.v1.gather_2[0][0]',  \n",
            " )                                                                'tf.compat.v1.gather_3[0][0]']  \n",
            "                                                                                                  \n",
            " tf.math.subtract_2 (TFOpLambda  (None, 400)         0           ['tf.compat.v1.gather_4[0][0]',  \n",
            " )                                                                'tf.compat.v1.gather_5[0][0]']  \n",
            "                                                                                                  \n",
            " tf.compat.v1.gather_6 (TFOpLam  (None, 400)         0           ['dropout[0][0]',                \n",
            " bda)                                                             'tf.__operators__.getitem_6[0][0\n",
            "                                                                 ]']                              \n",
            "                                                                                                  \n",
            " tf.compat.v1.gather_7 (TFOpLam  (None, 400)         0           ['dropout[0][0]',                \n",
            " bda)                                                             'tf.__operators__.getitem_7[0][0\n",
            "                                                                 ]']                              \n",
            "                                                                                                  \n",
            " tf.__operators__.getitem_8 (Sl  (None,)             0           ['tf.compat.v1.squeeze[0][0]']   \n",
            " icingOpLambda)                                                                                   \n",
            "                                                                                                  \n",
            " tf.__operators__.getitem_9 (Sl  (None,)             0           ['tf.compat.v1.squeeze[0][0]']   \n",
            " icingOpLambda)                                                                                   \n",
            "                                                                                                  \n",
            " tf.math.reduce_sum (TFOpLambda  (None, 1)           0           ['tf.math.abs[0][0]']            \n",
            " )                                                                                                \n",
            "                                                                                                  \n",
            " tf.math.abs_1 (TFOpLambda)     (None, 400)          0           ['tf.math.subtract_1[0][0]']     \n",
            "                                                                                                  \n",
            " tf.math.abs_2 (TFOpLambda)     (None, 400)          0           ['tf.math.subtract_2[0][0]']     \n",
            "                                                                                                  \n",
            " tf.math.subtract_3 (TFOpLambda  (None, 400)         0           ['tf.compat.v1.gather_6[0][0]',  \n",
            " )                                                                'tf.compat.v1.gather_7[0][0]']  \n",
            "                                                                                                  \n",
            " tf.compat.v1.gather_8 (TFOpLam  (None, 400)         0           ['dropout[0][0]',                \n",
            " bda)                                                             'tf.__operators__.getitem_8[0][0\n",
            "                                                                 ]']                              \n",
            "                                                                                                  \n",
            " tf.compat.v1.gather_9 (TFOpLam  (None, 400)         0           ['dropout[0][0]',                \n",
            " bda)                                                             'tf.__operators__.getitem_9[0][0\n",
            "                                                                 ]']                              \n",
            "                                                                                                  \n",
            " tf.__operators__.add (TFOpLamb  (None, 1)           0           ['tf.math.reduce_sum[0][0]']     \n",
            " da)                                                                                              \n",
            "                                                                                                  \n",
            " tf.math.reduce_sum_1 (TFOpLamb  (None, 1)           0           ['tf.math.abs_1[0][0]']          \n",
            " da)                                                                                              \n",
            "                                                                                                  \n",
            " tf.__operators__.add_1 (TFOpLa  (None, 1)           0           ['tf.math.reduce_sum[0][0]']     \n",
            " mbda)                                                                                            \n",
            "                                                                                                  \n",
            " tf.math.reduce_sum_2 (TFOpLamb  (None, 1)           0           ['tf.math.abs_2[0][0]']          \n",
            " da)                                                                                              \n",
            "                                                                                                  \n",
            " tf.math.abs_3 (TFOpLambda)     (None, 400)          0           ['tf.math.subtract_3[0][0]']     \n",
            "                                                                                                  \n",
            " tf.math.subtract_4 (TFOpLambda  (None, 400)         0           ['tf.compat.v1.gather_8[0][0]',  \n",
            " )                                                                'tf.compat.v1.gather_9[0][0]']  \n",
            "                                                                                                  \n",
            " tf.math.subtract_5 (TFOpLambda  (None, 1)           0           ['tf.__operators__.add[0][0]',   \n",
            " )                                                                'tf.math.reduce_sum_1[0][0]']   \n",
            "                                                                                                  \n",
            " tf.math.subtract_6 (TFOpLambda  (None, 1)           0           ['tf.__operators__.add_1[0][0]', \n",
            " )                                                                'tf.math.reduce_sum_2[0][0]']   \n",
            "                                                                                                  \n",
            " tf.__operators__.add_3 (TFOpLa  (None, 1)           0           ['tf.math.reduce_sum[0][0]']     \n",
            " mbda)                                                                                            \n",
            "                                                                                                  \n",
            " tf.math.reduce_sum_3 (TFOpLamb  (None, 1)           0           ['tf.math.abs_3[0][0]']          \n",
            " da)                                                                                              \n",
            "                                                                                                  \n",
            " tf.math.abs_4 (TFOpLambda)     (None, 400)          0           ['tf.math.subtract_4[0][0]']     \n",
            "                                                                                                  \n",
            " tf.nn.relu (TFOpLambda)        (None, 1)            0           ['tf.math.subtract_5[0][0]']     \n",
            "                                                                                                  \n",
            " tf.nn.relu_1 (TFOpLambda)      (None, 1)            0           ['tf.math.subtract_6[0][0]']     \n",
            "                                                                                                  \n",
            " tf.math.subtract_7 (TFOpLambda  (None, 1)           0           ['tf.__operators__.add_3[0][0]', \n",
            " )                                                                'tf.math.reduce_sum_3[0][0]']   \n",
            "                                                                                                  \n",
            " tf.__operators__.add_5 (TFOpLa  (None, 1)           0           ['tf.math.reduce_sum[0][0]']     \n",
            " mbda)                                                                                            \n",
            "                                                                                                  \n",
            " tf.math.reduce_sum_4 (TFOpLamb  (None, 1)           0           ['tf.math.abs_4[0][0]']          \n",
            " da)                                                                                              \n",
            "                                                                                                  \n",
            " tf.__operators__.add_2 (TFOpLa  (None, 1)           0           ['tf.nn.relu[0][0]',             \n",
            " mbda)                                                            'tf.nn.relu_1[0][0]']           \n",
            "                                                                                                  \n",
            " tf.nn.relu_2 (TFOpLambda)      (None, 1)            0           ['tf.math.subtract_7[0][0]']     \n",
            "                                                                                                  \n",
            " tf.math.subtract_8 (TFOpLambda  (None, 1)           0           ['tf.__operators__.add_5[0][0]', \n",
            " )                                                                'tf.math.reduce_sum_4[0][0]']   \n",
            "                                                                                                  \n",
            " tf.__operators__.add_4 (TFOpLa  (None, 1)           0           ['tf.__operators__.add_2[0][0]', \n",
            " mbda)                                                            'tf.nn.relu_2[0][0]']           \n",
            "                                                                                                  \n",
            " tf.nn.relu_3 (TFOpLambda)      (None, 1)            0           ['tf.math.subtract_8[0][0]']     \n",
            "                                                                                                  \n",
            " tf.__operators__.add_6 (TFOpLa  (None, 1)           0           ['tf.__operators__.add_4[0][0]', \n",
            " mbda)                                                            'tf.nn.relu_3[0][0]']           \n",
            "                                                                                                  \n",
            " tf.math.reduce_sum_5 (TFOpLamb  (1, 1)              0           ['tf.__operators__.add_6[0][0]'] \n",
            " da)                                                                                              \n",
            "                                                                                                  \n",
            " input_4 (InputLayer)           [(None, None, 2)]    0           []                               \n",
            "                                                                                                  \n",
            " input_5 (InputLayer)           [(None, None, 2)]    0           []                               \n",
            "                                                                                                  \n",
            " tf.math.truediv (TFOpLambda)   (1, 1)               0           ['tf.math.reduce_sum_5[0][0]']   \n",
            "                                                                                                  \n",
            "==================================================================================================\n",
            "Total params: 4,641,201\n",
            "Trainable params: 4,641,200\n",
            "Non-trainable params: 1\n",
            "__________________________________________________________________________________________________\n"
          ]
        }
      ],
      "source": [
        "model,get_emb = get_trgat(dropout_rate=0.3,node_size=node_size,rel_size=rel_size,n_attn_heads = 1,depth=2,gamma =3,node_hidden=100,rel_hidden = 100,triple_size = triple_size)\n",
        "model.summary(); initial_weights = model.get_weights()"
      ]
    },
    {
      "cell_type": "code",
      "execution_count": null,
      "metadata": {
        "colab": {
          "base_uri": "https://localhost:8080/"
        },
        "id": "lMdo-YeF7Hp_",
        "outputId": "010867a5-2c06-4e71-a258-4cb599b4d143"
      },
      "outputs": [
        {
          "output_type": "stream",
          "name": "stdout",
          "text": [
            "iteration 0 start.\n"
          ]
        },
        {
          "output_type": "stream",
          "name": "stderr",
          "text": [
            "  8%|▊         | 100/1200 [03:07<2:17:25,  7.50s/it]"
          ]
        },
        {
          "output_type": "stream",
          "name": "stdout",
          "text": [
            "accurate results: hits@[1, 5, 10] = [64.66 86.67 91.98], mr = 9.474, mrr = 0.744, time = 18.806 s \n"
          ]
        },
        {
          "output_type": "stream",
          "name": "stderr",
          "text": [
            " 17%|█▋        | 200/1200 [05:49<1:59:57,  7.20s/it]"
          ]
        },
        {
          "output_type": "stream",
          "name": "stdout",
          "text": [
            "accurate results: hits@[1, 5, 10] = [68.11 88.7  93.02], mr = 8.950, mrr = 0.771, time = 18.401 s \n"
          ]
        },
        {
          "output_type": "stream",
          "name": "stderr",
          "text": [
            " 25%|██▌       | 300/1200 [08:30<1:48:40,  7.24s/it]"
          ]
        },
        {
          "output_type": "stream",
          "name": "stdout",
          "text": [
            "accurate results: hits@[1, 5, 10] = [69.29 89.04 93.36], mr = 9.739, mrr = 0.780, time = 18.592 s \n"
          ]
        },
        {
          "output_type": "stream",
          "name": "stderr",
          "text": [
            " 33%|███▎      | 400/1200 [11:11<1:36:25,  7.23s/it]"
          ]
        },
        {
          "output_type": "stream",
          "name": "stdout",
          "text": [
            "accurate results: hits@[1, 5, 10] = [69.57 89.26 93.55], mr = 9.434, mrr = 0.783, time = 18.504 s \n"
          ]
        },
        {
          "output_type": "stream",
          "name": "stderr",
          "text": [
            " 42%|████▏     | 500/1200 [13:56<1:25:12,  7.30s/it]"
          ]
        },
        {
          "output_type": "stream",
          "name": "stdout",
          "text": [
            "accurate results: hits@[1, 5, 10] = [70.19 89.55 93.58], mr = 9.939, mrr = 0.787, time = 18.694 s \n"
          ]
        },
        {
          "output_type": "stream",
          "name": "stderr",
          "text": [
            " 50%|█████     | 600/1200 [16:42<1:18:34,  7.86s/it]"
          ]
        },
        {
          "output_type": "stream",
          "name": "stdout",
          "text": [
            "accurate results: hits@[1, 5, 10] = [70.78 89.89 93.82], mr = 9.514, mrr = 0.791, time = 18.599 s \n"
          ]
        },
        {
          "output_type": "stream",
          "name": "stderr",
          "text": [
            " 58%|█████▊    | 700/1200 [19:24<1:01:20,  7.36s/it]"
          ]
        },
        {
          "output_type": "stream",
          "name": "stdout",
          "text": [
            "accurate results: hits@[1, 5, 10] = [70.79 89.63 93.9 ], mr = 10.247, mrr = 0.791, time = 18.361 s \n"
          ]
        },
        {
          "output_type": "stream",
          "name": "stderr",
          "text": [
            " 67%|██████▋   | 800/1200 [22:09<48:33,  7.28s/it]"
          ]
        },
        {
          "output_type": "stream",
          "name": "stdout",
          "text": [
            "accurate results: hits@[1, 5, 10] = [70.88 89.65 93.69], mr = 10.244, mrr = 0.791, time = 18.636 s \n"
          ]
        },
        {
          "output_type": "stream",
          "name": "stderr",
          "text": [
            " 75%|███████▌  | 900/1200 [24:50<35:37,  7.13s/it]"
          ]
        },
        {
          "output_type": "stream",
          "name": "stdout",
          "text": [
            "accurate results: hits@[1, 5, 10] = [71.12 89.65 93.82], mr = 10.568, mrr = 0.793, time = 18.268 s \n"
          ]
        },
        {
          "output_type": "stream",
          "name": "stderr",
          "text": [
            " 83%|████████▎ | 1000/1200 [27:33<23:35,  7.08s/it]"
          ]
        },
        {
          "output_type": "stream",
          "name": "stdout",
          "text": [
            "accurate results: hits@[1, 5, 10] = [70.97 89.74 93.79], mr = 10.795, mrr = 0.792, time = 18.004 s \n"
          ]
        },
        {
          "output_type": "stream",
          "name": "stderr",
          "text": [
            " 92%|█████████▏| 1100/1200 [30:13<11:45,  7.06s/it]"
          ]
        },
        {
          "output_type": "stream",
          "name": "stdout",
          "text": [
            "accurate results: hits@[1, 5, 10] = [70.9  89.7  93.81], mr = 11.529, mrr = 0.792, time = 18.013 s \n"
          ]
        },
        {
          "output_type": "stream",
          "name": "stderr",
          "text": [
            "100%|██████████| 1200/1200 [32:52<00:00,  1.64s/it]"
          ]
        },
        {
          "output_type": "stream",
          "name": "stdout",
          "text": [
            "accurate results: hits@[1, 5, 10] = [70.71 89.92 93.75], mr = 11.511, mrr = 0.791, time = 18.010 s \n"
          ]
        },
        {
          "output_type": "stream",
          "name": "stderr",
          "text": [
            "\n"
          ]
        },
        {
          "output_type": "stream",
          "name": "stdout",
          "text": [
            "generate new semi-pairs: 7438.\n",
            "iteration 1 start.\n"
          ]
        },
        {
          "output_type": "stream",
          "name": "stderr",
          "text": [
            "  8%|▊         | 100/1200 [02:43<2:09:36,  7.07s/it]"
          ]
        },
        {
          "output_type": "stream",
          "name": "stdout",
          "text": [
            "accurate results: hits@[1, 5, 10] = [73.84 91.18 94.8 ], mr = 8.563, mrr = 0.815, time = 17.968 s \n"
          ]
        },
        {
          "output_type": "stream",
          "name": "stderr",
          "text": [
            " 17%|█▋        | 200/1200 [05:24<1:58:13,  7.09s/it]"
          ]
        },
        {
          "output_type": "stream",
          "name": "stdout",
          "text": [
            "accurate results: hits@[1, 5, 10] = [74.56 91.35 94.8 ], mr = 8.775, mrr = 0.819, time = 17.992 s \n"
          ]
        },
        {
          "output_type": "stream",
          "name": "stderr",
          "text": [
            " 25%|██▌       | 300/1200 [08:06<1:46:03,  7.07s/it]"
          ]
        },
        {
          "output_type": "stream",
          "name": "stdout",
          "text": [
            "accurate results: hits@[1, 5, 10] = [74.55 91.32 95.04], mr = 8.797, mrr = 0.819, time = 17.949 s \n"
          ]
        },
        {
          "output_type": "stream",
          "name": "stderr",
          "text": [
            " 33%|███▎      | 400/1200 [10:49<1:34:26,  7.08s/it]"
          ]
        },
        {
          "output_type": "stream",
          "name": "stdout",
          "text": [
            "accurate results: hits@[1, 5, 10] = [75.08 91.37 95.18], mr = 8.185, mrr = 0.823, time = 17.951 s \n"
          ]
        },
        {
          "output_type": "stream",
          "name": "stderr",
          "text": [
            " 42%|████▏     | 500/1200 [13:34<1:23:12,  7.13s/it]"
          ]
        },
        {
          "output_type": "stream",
          "name": "stdout",
          "text": [
            "accurate results: hits@[1, 5, 10] = [75.25 91.42 95.19], mr = 8.645, mrr = 0.824, time = 18.140 s \n"
          ]
        },
        {
          "output_type": "stream",
          "name": "stderr",
          "text": [
            " 50%|█████     | 600/1200 [16:16<1:12:29,  7.25s/it]"
          ]
        },
        {
          "output_type": "stream",
          "name": "stdout",
          "text": [
            "accurate results: hits@[1, 5, 10] = [75.11 91.6  95.17], mr = 8.318, mrr = 0.824, time = 18.473 s \n"
          ]
        },
        {
          "output_type": "stream",
          "name": "stderr",
          "text": [
            " 58%|█████▊    | 699/1200 [18:36<11:58,  1.43s/it]"
          ]
        },
        {
          "output_type": "stream",
          "name": "stdout",
          "text": [
            "accurate results: hits@[1, 5, 10] = [75.2  91.5  95.17], mr = 8.869, mrr = 0.824, time = 18.503 s \n"
          ]
        },
        {
          "output_type": "stream",
          "name": "stderr",
          "text": [
            " 67%|██████▋   | 800/1200 [21:41<47:21,  7.10s/it]"
          ]
        },
        {
          "output_type": "stream",
          "name": "stdout",
          "text": [
            "accurate results: hits@[1, 5, 10] = [75.42 91.55 95.23], mr = 9.318, mrr = 0.825, time = 18.053 s \n"
          ]
        },
        {
          "output_type": "stream",
          "name": "stderr",
          "text": [
            " 75%|███████▌  | 900/1200 [24:26<37:12,  7.44s/it]"
          ]
        },
        {
          "output_type": "stream",
          "name": "stdout",
          "text": [
            "accurate results: hits@[1, 5, 10] = [75.05 91.55 95.2 ], mr = 9.650, mrr = 0.824, time = 18.027 s \n"
          ]
        },
        {
          "output_type": "stream",
          "name": "stderr",
          "text": [
            " 83%|████████▎ | 1000/1200 [27:08<23:32,  7.06s/it]"
          ]
        },
        {
          "output_type": "stream",
          "name": "stdout",
          "text": [
            "accurate results: hits@[1, 5, 10] = [75.39 91.63 95.18], mr = 9.797, mrr = 0.825, time = 17.962 s \n"
          ]
        },
        {
          "output_type": "stream",
          "name": "stderr",
          "text": [
            " 92%|█████████▏| 1100/1200 [29:51<11:54,  7.15s/it]"
          ]
        },
        {
          "output_type": "stream",
          "name": "stdout",
          "text": [
            "accurate results: hits@[1, 5, 10] = [75.45 91.89 95.24], mr = 9.385, mrr = 0.826, time = 18.233 s \n"
          ]
        },
        {
          "output_type": "stream",
          "name": "stderr",
          "text": [
            "100%|█████████▉| 1199/1200 [32:16<00:01,  1.46s/it]"
          ]
        },
        {
          "output_type": "stream",
          "name": "stdout",
          "text": [
            "accurate results: hits@[1, 5, 10] = [75.45 91.73 95.2 ], mr = 8.880, mrr = 0.826, time = 18.344 s \n"
          ]
        },
        {
          "output_type": "stream",
          "name": "stderr",
          "text": [
            "100%|██████████| 1200/1200 [32:37<00:00,  1.63s/it]\n"
          ]
        },
        {
          "output_type": "stream",
          "name": "stdout",
          "text": [
            "generate new semi-pairs: 1735.\n",
            "iteration 2 start.\n"
          ]
        },
        {
          "output_type": "stream",
          "name": "stderr",
          "text": [
            "  8%|▊         | 100/1200 [02:47<2:19:37,  7.62s/it]"
          ]
        },
        {
          "output_type": "stream",
          "name": "stdout",
          "text": [
            "accurate results: hits@[1, 5, 10] = [77.34 92.28 95.52], mr = 8.199, mrr = 0.839, time = 19.675 s \n"
          ]
        },
        {
          "output_type": "stream",
          "name": "stderr",
          "text": [
            " 17%|█▋        | 200/1200 [05:31<2:05:14,  7.51s/it]"
          ]
        },
        {
          "output_type": "stream",
          "name": "stdout",
          "text": [
            "accurate results: hits@[1, 5, 10] = [77.51 92.36 95.46], mr = 7.992, mrr = 0.840, time = 19.415 s \n"
          ]
        },
        {
          "output_type": "stream",
          "name": "stderr",
          "text": [
            " 25%|██▌       | 300/1200 [08:19<1:53:14,  7.55s/it]"
          ]
        },
        {
          "output_type": "stream",
          "name": "stdout",
          "text": [
            "accurate results: hits@[1, 5, 10] = [77.85 92.25 95.57], mr = 8.280, mrr = 0.842, time = 19.557 s \n"
          ]
        },
        {
          "output_type": "stream",
          "name": "stderr",
          "text": [
            " 33%|███▎      | 400/1200 [11:05<1:41:51,  7.64s/it]"
          ]
        },
        {
          "output_type": "stream",
          "name": "stdout",
          "text": [
            "accurate results: hits@[1, 5, 10] = [77.83 92.15 95.43], mr = 8.819, mrr = 0.842, time = 19.818 s \n"
          ]
        },
        {
          "output_type": "stream",
          "name": "stderr",
          "text": [
            " 42%|████▏     | 499/1200 [13:30<16:41,  1.43s/it]"
          ]
        },
        {
          "output_type": "stream",
          "name": "stdout",
          "text": [
            "accurate results: hits@[1, 5, 10] = [77.98 92.15 95.37], mr = 9.664, mrr = 0.843, time = 19.857 s \n"
          ]
        },
        {
          "output_type": "stream",
          "name": "stderr",
          "text": [
            " 50%|████▉     | 599/1200 [16:18<15:00,  1.50s/it]"
          ]
        },
        {
          "output_type": "stream",
          "name": "stdout",
          "text": [
            "accurate results: hits@[1, 5, 10] = [78.02 92.3  95.49], mr = 9.256, mrr = 0.843, time = 19.722 s \n"
          ]
        },
        {
          "output_type": "stream",
          "name": "stderr",
          "text": [
            " 58%|█████▊    | 700/1200 [19:28<1:04:12,  7.71s/it]"
          ]
        },
        {
          "output_type": "stream",
          "name": "stdout",
          "text": [
            "accurate results: hits@[1, 5, 10] = [78.28 92.24 95.45], mr = 9.480, mrr = 0.844, time = 19.916 s \n"
          ]
        },
        {
          "output_type": "stream",
          "name": "stderr",
          "text": [
            " 67%|██████▋   | 800/1200 [22:15<51:23,  7.71s/it]"
          ]
        },
        {
          "output_type": "stream",
          "name": "stdout",
          "text": [
            "accurate results: hits@[1, 5, 10] = [78.17 92.21 95.47], mr = 9.993, mrr = 0.844, time = 19.981 s \n"
          ]
        },
        {
          "output_type": "stream",
          "name": "stderr",
          "text": [
            " 75%|███████▌  | 900/1200 [25:01<38:13,  7.65s/it]"
          ]
        },
        {
          "output_type": "stream",
          "name": "stdout",
          "text": [
            "accurate results: hits@[1, 5, 10] = [78.3  92.25 95.37], mr = 10.367, mrr = 0.845, time = 19.848 s \n"
          ]
        },
        {
          "output_type": "stream",
          "name": "stderr",
          "text": [
            " 83%|████████▎ | 1000/1200 [27:49<25:21,  7.61s/it]"
          ]
        },
        {
          "output_type": "stream",
          "name": "stdout",
          "text": [
            "accurate results: hits@[1, 5, 10] = [78.14 92.22 95.5 ], mr = 10.775, mrr = 0.844, time = 19.730 s \n"
          ]
        },
        {
          "output_type": "stream",
          "name": "stderr",
          "text": [
            " 88%|████████▊ | 1050/1200 [29:02<03:38,  1.46s/it]"
          ]
        }
      ],
      "source": [
        "train_pair = train_pair_main\n",
        "tf.keras.backend.clear_session()\n",
        "config = tf.compat.v1.ConfigProto()\n",
        "config.gpu_options.allow_growth=True  \n",
        "sess = tf.compat.v1.Session(config=config) \n",
        "\n",
        "rest_set_1 = [e1 for e1, e2 in dev_pair]\n",
        "rest_set_2 = [e2 for e1, e2 in dev_pair]\n",
        "np.random.shuffle(rest_set_1)\n",
        "np.random.shuffle(rest_set_2)\n",
        "\n",
        "epoch = 1200\n",
        "for turn in range(5):\n",
        "    print(\"iteration %d start.\"%turn)\n",
        "    for i in trange(epoch):\n",
        "        train_set = get_train_set()\n",
        "        inputs = [adj_matrix,r_index,r_val,rel_matrix,ent_matrix,radj,nadj,train_set]\n",
        "        inputs = [np.expand_dims(item,axis=0) for item in inputs]\n",
        "        model.train_on_batch(inputs,np.zeros((1,1)))\n",
        "        if i%100 == 99:\n",
        "            CSLS_test()       \n",
        "\n",
        "    new_pair = []\n",
        "    \n",
        "    vec = get_embedding()\n",
        "    Lvec = np.array([vec[e] for e in rest_set_1])\n",
        "    Rvec = np.array([vec[e] for e in rest_set_2])\n",
        "    Lvec = Lvec / np.linalg.norm(Lvec,axis=-1,keepdims=True)\n",
        "    Rvec = Rvec / np.linalg.norm(Rvec,axis=-1,keepdims=True)\n",
        "    A,_ = eval_alignment_by_sim_mat(Lvec, Rvec, [1, 5, 10], 16,10,True,False)\n",
        "    B,_ = eval_alignment_by_sim_mat(Rvec, Lvec,[1, 5, 10], 16,10,True,False)\n",
        "    A = sorted(list(A)); B = sorted(list(B))\n",
        "    for a,b in A:\n",
        "        if  B[b][1] == a:\n",
        "            new_pair.append([rest_set_1[a],rest_set_2[b]])\n",
        "    print(\"generate new semi-pairs: %d.\" % len(new_pair))\n",
        "    train_pair = np.concatenate([train_pair,np.array(new_pair)],axis = 0)\n",
        "    for e1,e2 in new_pair:\n",
        "        if e1 in rest_set_1:\n",
        "            rest_set_1.remove(e1) \n",
        "        \n",
        "    for e1,e2 in new_pair:\n",
        "        if e2 in rest_set_2:\n",
        "            rest_set_2.remove(e2) "
      ]
    }
  ],
  "metadata": {
    "colab": {
      "collapsed_sections": [],
      "name": "EA.ipynb",
      "provenance": [],
      "include_colab_link": true
    },
    "kernelspec": {
      "display_name": "Python 3",
      "name": "python3"
    },
    "language_info": {
      "name": "python"
    }
  },
  "nbformat": 4,
  "nbformat_minor": 0
}