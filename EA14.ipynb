{
  "cells": [
    {
      "cell_type": "markdown",
      "metadata": {
        "id": "view-in-github",
        "colab_type": "text"
      },
      "source": [
        "<a href=\"https://colab.research.google.com/github/TMUITLab/EAFR/blob/master/EA14.ipynb\" target=\"_parent\"><img src=\"https://colab.research.google.com/assets/colab-badge.svg\" alt=\"Open In Colab\"/></a>"
      ]
    },
    {
      "cell_type": "code",
      "execution_count": 1,
      "metadata": {
        "colab": {
          "base_uri": "https://localhost:8080/"
        },
        "id": "WjActARX7sCY",
        "outputId": "b99c00af-461b-4902-e48e-7adad11a7997"
      },
      "outputs": [
        {
          "output_type": "stream",
          "name": "stdout",
          "text": [
            "/content\n",
            "Cloning into 'GCN-Align'...\n",
            "remote: Enumerating objects: 53, done.\u001b[K\n",
            "remote: Total 53 (delta 0), reused 0 (delta 0), pack-reused 53\u001b[K\n",
            "Unpacking objects: 100% (53/53), done.\n",
            "Cloning into 'RREA'...\n",
            "remote: Enumerating objects: 32, done.\u001b[K\n",
            "remote: Counting objects: 100% (32/32), done.\u001b[K\n",
            "remote: Compressing objects: 100% (30/30), done.\u001b[K\n",
            "remote: Total 32 (delta 4), reused 0 (delta 0), pack-reused 0\u001b[K\n",
            "Unpacking objects: 100% (32/32), done.\n"
          ]
        }
      ],
      "source": [
        "%cd '/content'\n",
        "!git clone https://github.com/1049451037/GCN-Align\n",
        "!git clone https://github.com/MaoXinn/RREA"
      ]
    },
    {
      "cell_type": "code",
      "execution_count": 18,
      "metadata": {
        "id": "ZB2YBVkb4pYB"
      },
      "outputs": [],
      "source": [
        "import warnings\n",
        "warnings.filterwarnings('ignore')\n",
        "\n",
        "from importlib.machinery import SourceFileLoader\n",
        "from google.colab import files\n",
        "\n",
        "layer = SourceFileLoader(\"layer\", \"/content/RREA/CIKM/layer.py\").load_module()\n",
        "utils = SourceFileLoader(\"utils\", \"/content/RREA/CIKM/utils.py\").load_module()\n",
        "CSLS = SourceFileLoader(\"CSLS\", \"/content/RREA/CIKM/CSLS.py\").load_module()\n",
        "import tensorflow as tf\n",
        "import os\n",
        "import time\n",
        "import random\n",
        "import keras\n",
        "import pickle\n",
        "from scipy.sparse import hstack\n",
        "\n",
        "from tqdm import *\n",
        "import numpy as np\n",
        "from utils import *\n",
        "from CSLS import *\n",
        "import tensorflow as tf\n",
        "import keras.backend as K\n",
        "from keras.layers import *\n",
        "from layer import NR_GraphAttention\n",
        "\n",
        "os.environ[\"CUDA_VISIBLE_DEVICES\"] = \"0\"\n",
        "os.environ[\"TF_CPP_MIN_LOG_LEVEL\"]=\"2\"\n",
        "tf.compat.v1.logging.set_verbosity(tf.compat.v1.logging.ERROR)"
      ]
    },
    {
      "cell_type": "code",
      "execution_count": 9,
      "metadata": {
        "colab": {
          "base_uri": "https://localhost:8080/",
          "height": 269
        },
        "id": "oYvCCmAe62rP",
        "outputId": "51256af3-0940-4d37-c1d9-a143ddcb51ef"
      },
      "outputs": [
        {
          "output_type": "stream",
          "name": "stdout",
          "text": [
            "38960 3024\n"
          ]
        },
        {
          "output_type": "error",
          "ename": "ValueError",
          "evalue": "ignored",
          "traceback": [
            "\u001b[0;31m---------------------------------------------------------------------------\u001b[0m",
            "\u001b[0;31mValueError\u001b[0m                                Traceback (most recent call last)",
            "\u001b[0;32m<ipython-input-9-23da4dc84f6a>\u001b[0m in \u001b[0;36m<module>\u001b[0;34m()\u001b[0m\n\u001b[1;32m      5\u001b[0m \u001b[0mrel_matrix\u001b[0m\u001b[0;34m,\u001b[0m\u001b[0mrel_val\u001b[0m \u001b[0;34m=\u001b[0m \u001b[0mnp\u001b[0m\u001b[0;34m.\u001b[0m\u001b[0mstack\u001b[0m\u001b[0;34m(\u001b[0m\u001b[0mrel_features\u001b[0m\u001b[0;34m.\u001b[0m\u001b[0mnonzero\u001b[0m\u001b[0;34m(\u001b[0m\u001b[0;34m)\u001b[0m\u001b[0;34m,\u001b[0m\u001b[0maxis\u001b[0m \u001b[0;34m=\u001b[0m \u001b[0;36m1\u001b[0m\u001b[0;34m)\u001b[0m\u001b[0;34m,\u001b[0m\u001b[0mrel_features\u001b[0m\u001b[0;34m.\u001b[0m\u001b[0mdata\u001b[0m\u001b[0;34m\u001b[0m\u001b[0;34m\u001b[0m\u001b[0m\n\u001b[1;32m      6\u001b[0m \u001b[0mrsize\u001b[0m \u001b[0;34m=\u001b[0m \u001b[0mrel_features\u001b[0m\u001b[0;34m.\u001b[0m\u001b[0mshape\u001b[0m\u001b[0;34m[\u001b[0m\u001b[0;36m1\u001b[0m\u001b[0;34m]\u001b[0m\u001b[0;34m//\u001b[0m\u001b[0;36m2\u001b[0m\u001b[0;34m\u001b[0m\u001b[0;34m\u001b[0m\u001b[0m\n\u001b[0;32m----> 7\u001b[0;31m \u001b[0mrel_matrix1\u001b[0m \u001b[0;34m=\u001b[0m \u001b[0mnp\u001b[0m\u001b[0;34m.\u001b[0m\u001b[0mconcatenate\u001b[0m\u001b[0;34m(\u001b[0m\u001b[0;34m[\u001b[0m\u001b[0mrel_features\u001b[0m\u001b[0;34m[\u001b[0m\u001b[0;34m:\u001b[0m\u001b[0;34m,\u001b[0m\u001b[0mrsize\u001b[0m\u001b[0;34m:\u001b[0m\u001b[0;34m]\u001b[0m\u001b[0;34m,\u001b[0m\u001b[0mrel_features\u001b[0m\u001b[0;34m[\u001b[0m\u001b[0;34m:\u001b[0m\u001b[0;34m,\u001b[0m\u001b[0;34m:\u001b[0m\u001b[0mrsize\u001b[0m\u001b[0;34m]\u001b[0m\u001b[0;34m]\u001b[0m\u001b[0;34m,\u001b[0m\u001b[0maxis\u001b[0m\u001b[0;34m=\u001b[0m\u001b[0;36m1\u001b[0m\u001b[0;34m)\u001b[0m\u001b[0;34m\u001b[0m\u001b[0;34m\u001b[0m\u001b[0m\n\u001b[0m\u001b[1;32m      8\u001b[0m \u001b[0ment_matrix\u001b[0m\u001b[0;34m,\u001b[0m\u001b[0ment_val\u001b[0m \u001b[0;34m=\u001b[0m \u001b[0mnp\u001b[0m\u001b[0;34m.\u001b[0m\u001b[0mstack\u001b[0m\u001b[0;34m(\u001b[0m\u001b[0madj_features\u001b[0m\u001b[0;34m.\u001b[0m\u001b[0mnonzero\u001b[0m\u001b[0;34m(\u001b[0m\u001b[0;34m)\u001b[0m\u001b[0;34m,\u001b[0m\u001b[0maxis\u001b[0m \u001b[0;34m=\u001b[0m \u001b[0;36m1\u001b[0m\u001b[0;34m)\u001b[0m\u001b[0;34m,\u001b[0m\u001b[0madj_features\u001b[0m\u001b[0;34m.\u001b[0m\u001b[0mdata\u001b[0m\u001b[0;34m\u001b[0m\u001b[0;34m\u001b[0m\u001b[0m\n",
            "\u001b[0;32m<__array_function__ internals>\u001b[0m in \u001b[0;36mconcatenate\u001b[0;34m(*args, **kwargs)\u001b[0m\n",
            "\u001b[0;31mValueError\u001b[0m: zero-dimensional arrays cannot be concatenated"
          ]
        }
      ],
      "source": [
        "lang = 'zh'\n",
        "radj,train_pair,dev_pair,adj_matrix,r_index,r_val,adj_features,rel_features,nadj,char_size = load_data('/content/GCN-Align/data/%s_en/'%lang,train_ratio=0.30)\n",
        "train_pair_main=train_pair\n",
        "adj_matrix = np.stack(adj_matrix.nonzero(),axis = 1)\n",
        "rel_matrix,rel_val = np.stack(rel_features.nonzero(),axis = 1),rel_features.data\n",
        "rsize = rel_features.shape[1]//2\n",
        "rel_features1 = hstack((rel_features[:,rsize:],rel_features[:,:rsize]))\n",
        "rel_matrix1 = np.stack(rel_features1.nonzero(),axis = 1)\n",
        "ent_matrix,ent_val = np.stack(adj_features.nonzero(),axis = 1),adj_features.data"
      ]
    },
    {
      "cell_type": "code",
      "source": [
        "rel_features1.shape"
      ],
      "metadata": {
        "id": "87Ov-vVil1O1",
        "outputId": "e3a32f28-2dad-464f-fbb7-3cd63bbaddeb",
        "colab": {
          "base_uri": "https://localhost:8080/"
        }
      },
      "execution_count": 23,
      "outputs": [
        {
          "output_type": "execute_result",
          "data": {
            "text/plain": [
              "(38960, 6048)"
            ]
          },
          "metadata": {},
          "execution_count": 23
        }
      ]
    },
    {
      "cell_type": "code",
      "source": [
        "single_triple_set = set()\n",
        "rel_size = rel_features.shape[1] \n",
        "degree = np.zeros([adj_features.shape[0],3])\n",
        "for triple in radj:\n",
        "    single_triple_set.add((triple[0],triple[1]))\n",
        "    if triple[2] < rel_size //2:\n",
        "        degree[triple[0],0] += 1\n",
        "        degree[triple[1],0] += 1\n",
        "        degree[triple[0],2] += 1\n",
        "        degree[triple[1],1] += 1\n",
        "\n",
        "dev_pair_degrees = np.zeros([2,len(dev_pair),3])\n",
        "for i in range(len(dev_pair)):\n",
        "    dev_pair_degrees[0,i,0] = degree[dev_pair[i][0],0]\n",
        "    dev_pair_degrees[0,i,1] = degree[dev_pair[i][0],1]\n",
        "    dev_pair_degrees[0,i,2] = degree[dev_pair[i][0],2]\n",
        "    dev_pair_degrees[1,i,0] = degree[dev_pair[i][1],0]\n",
        "    dev_pair_degrees[1,i,1] = degree[dev_pair[i][1],1]\n",
        "    dev_pair_degrees[1,i,2] = degree[dev_pair[i][1],2]\n",
        "map = dict()\n",
        "for t in train_pair:\n",
        "    map[t[0]] = t[1]\n",
        "    map[t[1]] = t[0]"
      ],
      "metadata": {
        "id": "2-SeSZ4Gvppc"
      },
      "execution_count": null,
      "outputs": []
    },
    {
      "cell_type": "code",
      "source": [
        "entity1, rel1, triples1 = load_triples('/content/GCN-Align/data/%s_en/'%lang + 'triples_1')\n",
        "num_entity_1 = len(entity1)\n",
        "num_rel_1 = len(rel1)"
      ],
      "metadata": {
        "id": "qjqNt7oeBXjK"
      },
      "execution_count": null,
      "outputs": []
    },
    {
      "cell_type": "code",
      "execution_count": null,
      "metadata": {
        "id": "t29mIfJT68i3"
      },
      "outputs": [],
      "source": [
        "layer = SourceFileLoader(\"layer\", \"/content/RREA/CIKM/layer.py\").load_module()\n",
        "\n",
        "from layer import NR_GraphAttention\n",
        "tf.keras.backend.clear_session()\n",
        "\n",
        "node_size = adj_features.shape[0]\n",
        "rel_size = rel_features.shape[1]\n",
        "triple_size = len(adj_matrix)\n",
        "batch_size = node_size\n",
        "datas = []\n",
        "# e stand for entity ,r stand for relation , E stand for encoder(e), c stand for character embedding , R stand for encoder(r)\n",
        "run_name = 'eEQR'\n",
        "\n",
        "\n",
        "class TokenEmbedding(keras.layers.Embedding):\n",
        "    \"\"\"Embedding layer with weights returned.\"\"\"\n",
        "\n",
        "    def compute_output_shape(self, input_shape):\n",
        "        return self.input_dim, self.output_dim\n",
        "\n",
        "    def compute_mask(self, inputs, mask=None):\n",
        "        return None\n",
        "\n",
        "    def call(self, inputs):\n",
        "        return self.embeddings\n",
        "    \n",
        "def get_embedding():\n",
        "    inputs = [adj_matrix,r_index,r_val,rel_matrix,rel_matrix1,ent_matrix,radj,nadj]\n",
        "    inputs = [np.expand_dims(item,axis=0) for item in inputs]\n",
        "    return get_emb.predict_on_batch(inputs)\n",
        "\n",
        "\n",
        "def test(wrank = None):\n",
        "    vec = get_embedding()\n",
        "    return  get_hits(vec,dev_pair,wrank=wrank)\n",
        "\n",
        "def CSLS_test(thread_number = 16, csls=10,accurate = True):\n",
        "    vec = get_embedding()\n",
        "    trest_set_1 = [e1 for e1, e2 in dev_pair]\n",
        "    trest_set_2 = [e2 for e1, e2 in dev_pair]\n",
        "    Lvec = np.array([vec[e1] for e1, e2 in dev_pair])\n",
        "    Rvec = np.array([vec[e2] for e1, e2 in dev_pair])\n",
        "    Lvec = Lvec / np.linalg.norm(Lvec,axis=-1,keepdims=True)\n",
        "    Rvec = Rvec / np.linalg.norm(Rvec,axis=-1,keepdims=True)\n",
        "    lprec,ldata,_ = eval_alignment_by_sim_mat(Lvec, Rvec, [1, 5, 10], thread_number, csls=csls, accurate=accurate)\n",
        "    results = np.zeros([len(dev_pair)])\n",
        "\n",
        "    for i in range(len(dev_pair)):\n",
        "        if((i,i) in lprec):\n",
        "            results[i] = 1\n",
        "\n",
        "    datas.append((results,ldata))\n",
        "    save_datas()\n",
        "    return None\n",
        "def save_datas():\n",
        "    with open('/content/RREA/'+lang+\"_\"+run_name+'.pkl', 'wb') as f:  # Python 3: open(..., 'wb')\n",
        "        pickle.dump([dev_pair_degrees,datas], f)\n",
        "\n",
        "def load_datas():\n",
        "    with open('/content/RREA/'+lang+\"_\"+run_name+'.pkl', 'rb') as f:  # Python 3: open(..., 'wb')\n",
        "        mydata =pickle.load([dev_pair_degrees,datas], f)\n",
        "    return mydata;\n",
        "\n",
        "def get_train_set(batch_size = batch_size):\n",
        "    negative_ratio =  batch_size // len(train_pair) + 1\n",
        "    train_set = np.reshape(np.repeat(np.expand_dims(train_pair,axis=0),axis=0,repeats=negative_ratio),newshape=(-1,2))\n",
        "    np.random.shuffle(train_set); train_set = train_set[:batch_size]\n",
        "    train_set = np.concatenate([train_set,np.random.randint(0,node_size,[train_set.shape[0],4])],axis = -1)\n",
        "    return train_set\n",
        "\n",
        "def get_train_set1(batch_size = batch_size):\n",
        "    train_set = train_pair\n",
        "    np.random.shuffle(train_set);\n",
        "    train_set = np.concatenate([train_set,np.random.randint(0,node_size,train_set.shape)],axis = -1)\n",
        "    return train_set\n",
        "\n",
        "def get_trgat(node_size,rel_size,node_hidden,rel_hidden,triple_size,n_attn_heads = 2,dropout_rate = 0,gamma = 3,lr = 0.005,depth = 2):\n",
        "    adj_input = Input(shape=(None,2))\n",
        "    index_input = Input(shape=(None,2),dtype='int64')\n",
        "    val_input = Input(shape = (None,))\n",
        "    rel_adj = Input(shape=(None,2))\n",
        "    rel_adj1 = Input(shape=(None,2))\n",
        "    ent_adj = Input(shape=(None,2))\n",
        "    radj = Input(shape=(None,3),dtype='int64')\n",
        "    nadj = Input(shape=(None,3))\n",
        "    \n",
        "    # ent_emb = TokenEmbedding(node_size,node_hidden,embeddings_initializer=\"LecunNormal\",trainable = True)(val_input) \n",
        "    # rel_emb = TokenEmbedding(rel_size,node_hidden,embeddings_initializer=\"LecunNormal\",trainable = True)(val_input)\n",
        "    # ch_emb = TokenEmbedding(char_size,node_hidden,embeddings_initializer=\"LecunNormal\",trainable = True)(val_input)\n",
        "\n",
        "    ent_emb = TokenEmbedding(node_size,node_hidden,trainable = True)(val_input) \n",
        "    rel_emb = TokenEmbedding(rel_size,node_hidden,trainable = True)(val_input)\n",
        "    ch_emb = TokenEmbedding(char_size,node_hidden,trainable = True)(val_input)\n",
        "\n",
        "    # E = TokenEmbedding(node_hidden,node_hidden,trainable = True)(val_input)\n",
        "    # R = TokenEmbedding(node_hidden,node_hidden,trainable = True)(val_input)\n",
        "    def ch_avg(tensor,size):\n",
        "        n_adj = tf.squeeze(tensor[0],axis = 0)\n",
        "        adj = K.cast(n_adj[:,0:2],dtype = \"int64\")   \n",
        "        adj = tf.SparseTensor(indices=adj, values=tf.ones_like(n_adj[:,2],dtype = 'float32') , dense_shape=(node_size,size)) \n",
        "        adj = tf.compat.v1.sparse_softmax(adj) \n",
        "        l_adj = tf.compat.v1.sparse_tensor_dense_matmul(adj,tensor[1])\n",
        "        return l_adj\n",
        "\n",
        "    def avg(tensor,size):\n",
        "        adj = K.cast(K.squeeze(tensor[0],axis = 0),dtype = \"int64\")   \n",
        "        adj = tf.SparseTensor(indices=adj, values=tf.ones_like(adj[:,0],dtype = 'float32'), dense_shape=(node_size,size)) \n",
        "        adj = tf.compat.v1.sparse_softmax(adj) \n",
        "        l_adj = tf.compat.v1.sparse_tensor_dense_matmul(adj,tensor[1])\n",
        "        return l_adj\n",
        "\n",
        "    name_feature = Lambda(ch_avg,arguments={'size':char_size})([nadj,ch_emb])\n",
        "    rel_feature = Lambda(avg,arguments={'size':rel_size})([rel_adj,rel_emb])\n",
        "    rel_feature1 = Lambda(avg,arguments={'size':rel_size})([rel_adj1,rel_emb])\n",
        "    ent_feature = Lambda(avg,arguments={'size':node_size})([ent_adj,ent_emb])\n",
        "\n",
        "    encoder = NR_GraphAttention(node_size,activation=\"relu\",\n",
        "                                       rel_size = rel_size,\n",
        "                                       depth = 2,\n",
        "                                       attn_heads=n_attn_heads,\n",
        "                                       triple_size = triple_size,\n",
        "                                       attn_heads_reduction='average',   \n",
        "                                       dropout_rate=dropout_rate)\n",
        "    \n",
        "    opt1 = [rel_emb,adj_input,index_input,val_input,radj]\n",
        "    elements = []\n",
        "    coefs = []\n",
        "    for f_name in run_name:\n",
        "        if f_name == 'e':\n",
        "            elements += [ent_emb]\n",
        "            coefs += [-0.5]\n",
        "        elif f_name == 'E':\n",
        "            elements += encoder([ent_feature]+opt1)\n",
        "            coefs += [1.,1.,1.]\n",
        "        elif f_name == 'R':\n",
        "            elements += encoder([rel_feature]+opt1)\n",
        "            coefs += [1.,1.,1.]\n",
        "        elif f_name == 'Q':\n",
        "            elements += encoder([rel_feature]+opt1)\n",
        "            coefs += [1.,1.,1.]\n",
        "        elif f_name == 'c':\n",
        "            elements += [name_feature]\n",
        "            coefs += [1.,1.,1.]\n",
        "\n",
        "    #elements = [ent_emb] +   encoder([rel_feature]+opt1)+encoder([ent_feature]+opt1)\n",
        "    #elements = [0.3 * ent_emb[:,:node_hidden//2]]+ el[0:3]+el[6:9]+[0.2 * ent_emb[:,node_hidden//2:]] + el[3:6]+el[9:12]\n",
        "    num_el = elements.__len__()\n",
        "    weight =  tf.Variable(coefs, trainable=False)\n",
        "    weight = 5 * tf.math.softmax(weight)\n",
        "    #weight =  tf.Variable(1 * [-0.2,1.0] + (num_el-2) * [.8], trainable=False)\n",
        "    print(weight)\n",
        "    elements = [weight[idx]*el for idx, el in enumerate(elements)]\n",
        "    out_feature = Concatenate(-1)(elements)\n",
        "    out_feature = Dropout(dropout_rate)(out_feature)\n",
        "    \n",
        "    alignment_input = Input(shape=(None,6),dtype = \"int64\") \n",
        "    #find = Lambda(lambda x:K.gather(reference=x[0],indices=K.cast(K.squeeze(x[1],axis=0), 'int32')))([out_feature,alignment_input])\n",
        "\n",
        "    I = K.cast(K.squeeze(alignment_input,axis=0),dtype = \"int64\")\n",
        "   \n",
        "    A = K.sum(K.abs(K.gather(out_feature,I[:,0])-K.gather(out_feature,I[:,1])),axis=-1,keepdims=True)\n",
        "    loss =  0 # * K.relu(1 - K.sum(K.abs(K.gather(out_feature,I[:,0])))) +K.relu(1 - K.sum(K.abs(K.gather(out_feature,I[:,1]))))\n",
        "    for i in range(4):\n",
        "        B = K.sum(K.abs(K.gather(out_feature,I[:,0])-K.gather(out_feature,I[:,2+i])),axis=-1,keepdims=True)\n",
        "        C = K.sum(K.abs(K.gather(out_feature,I[:,1])-K.gather(out_feature,I[:,2+i])),axis=-1,keepdims=True)\n",
        "        loss += K.relu(gamma +A -B) + K.relu(gamma +A -C)\n",
        "\n",
        "    loss =  tf.compat.v1.reduce_sum(loss,keep_dims=True) / (batch_size)    \n",
        "   \n",
        "    inputs = [adj_input,index_input,val_input,rel_adj,rel_adj1,ent_adj,radj,nadj]\n",
        "    train_model = keras.Model(inputs = inputs + [alignment_input],outputs = loss)\n",
        "    \n",
        "    train_model.compile(loss=lambda y_true,y_pred: y_pred,optimizer=tf.keras.optimizers.RMSprop(lr=lr))\n",
        "    \n",
        "    feature_model = keras.Model(inputs = inputs,outputs = out_feature)\n",
        "    return train_model,feature_model\n"
      ]
    },
    {
      "cell_type": "code",
      "execution_count": null,
      "metadata": {
        "id": "Nwoj1iWf69WX",
        "colab": {
          "base_uri": "https://localhost:8080/"
        },
        "outputId": "93fb2aa1-5fa4-4afd-f98e-a2f4431f27b3"
      },
      "outputs": [
        {
          "output_type": "stream",
          "name": "stdout",
          "text": [
            "tf.Tensor(\n",
            "[0.17927486 0.80345416 0.80345416 0.80345416 0.80345416 0.80345416\n",
            " 0.80345416], shape=(7,), dtype=float32)\n",
            "Model: \"model\"\n",
            "__________________________________________________________________________________________________\n",
            " Layer (type)                   Output Shape         Param #     Connected to                     \n",
            "==================================================================================================\n",
            " input_3 (InputLayer)           [(None, None)]       0           []                               \n",
            "                                                                                                  \n",
            " token_embedding (TokenEmbeddin  (38960, 100)        3896000     ['input_3[0][0]']                \n",
            " g)                                                                                               \n",
            "                                                                                                  \n",
            " input_5 (InputLayer)           [(None, None, 2)]    0           []                               \n",
            "                                                                                                  \n",
            " token_embedding_1 (TokenEmbedd  (6048, 100)         604800      ['input_3[0][0]']                \n",
            " ing)                                                                                             \n",
            "                                                                                                  \n",
            " input_4 (InputLayer)           [(None, None, 2)]    0           []                               \n",
            "                                                                                                  \n",
            " lambda_2 (Lambda)              (38960, 100)         0           ['input_5[0][0]',                \n",
            "                                                                  'token_embedding[0][0]']        \n",
            "                                                                                                  \n",
            " input_1 (InputLayer)           [(None, None, 2)]    0           []                               \n",
            "                                                                                                  \n",
            " input_2 (InputLayer)           [(None, None, 2)]    0           []                               \n",
            "                                                                                                  \n",
            " input_6 (InputLayer)           [(None, None, 3)]    0           []                               \n",
            "                                                                                                  \n",
            " lambda_1 (Lambda)              (38960, 100)         0           ['input_4[0][0]',                \n",
            "                                                                  'token_embedding_1[0][0]']      \n",
            "                                                                                                  \n",
            " nr__graph_attention (NR_GraphA  [(38960, 100),      601         ['lambda_2[0][0]',               \n",
            " ttention)                       (None, 100),                     'token_embedding_1[0][0]',      \n",
            "                                 (None, 100)]                     'input_1[0][0]',                \n",
            "                                                                  'input_2[0][0]',                \n",
            "                                                                  'input_3[0][0]',                \n",
            "                                                                  'input_6[0][0]',                \n",
            "                                                                  'lambda_1[0][0]',               \n",
            "                                                                  'token_embedding_1[0][0]',      \n",
            "                                                                  'input_1[0][0]',                \n",
            "                                                                  'input_2[0][0]',                \n",
            "                                                                  'input_3[0][0]',                \n",
            "                                                                  'input_6[0][0]']                \n",
            "                                                                                                  \n",
            " input_8 (InputLayer)           [(None, None, 6)]    0           []                               \n",
            "                                                                                                  \n",
            " tf.math.multiply (TFOpLambda)  (38960, 100)         0           ['token_embedding[0][0]']        \n",
            "                                                                                                  \n",
            " tf.math.multiply_1 (TFOpLambda  (38960, 100)        0           ['nr__graph_attention[0][0]']    \n",
            " )                                                                                                \n",
            "                                                                                                  \n",
            " tf.math.multiply_2 (TFOpLambda  (None, 100)         0           ['nr__graph_attention[0][1]']    \n",
            " )                                                                                                \n",
            "                                                                                                  \n",
            " tf.math.multiply_3 (TFOpLambda  (None, 100)         0           ['nr__graph_attention[0][2]']    \n",
            " )                                                                                                \n",
            "                                                                                                  \n",
            " tf.math.multiply_4 (TFOpLambda  (38960, 100)        0           ['nr__graph_attention[1][0]']    \n",
            " )                                                                                                \n",
            "                                                                                                  \n",
            " tf.math.multiply_5 (TFOpLambda  (None, 100)         0           ['nr__graph_attention[1][1]']    \n",
            " )                                                                                                \n",
            "                                                                                                  \n",
            " tf.math.multiply_6 (TFOpLambda  (None, 100)         0           ['nr__graph_attention[1][2]']    \n",
            " )                                                                                                \n",
            "                                                                                                  \n",
            " tf.compat.v1.squeeze (TFOpLamb  (None, 6)           0           ['input_8[0][0]']                \n",
            " da)                                                                                              \n",
            "                                                                                                  \n",
            " concatenate (Concatenate)      (38960, 700)         0           ['tf.math.multiply[0][0]',       \n",
            "                                                                  'tf.math.multiply_1[0][0]',     \n",
            "                                                                  'tf.math.multiply_2[0][0]',     \n",
            "                                                                  'tf.math.multiply_3[0][0]',     \n",
            "                                                                  'tf.math.multiply_4[0][0]',     \n",
            "                                                                  'tf.math.multiply_5[0][0]',     \n",
            "                                                                  'tf.math.multiply_6[0][0]']     \n",
            "                                                                                                  \n",
            " tf.cast (TFOpLambda)           (None, 6)            0           ['tf.compat.v1.squeeze[0][0]']   \n",
            "                                                                                                  \n",
            " dropout (Dropout)              (38960, 700)         0           ['concatenate[0][0]']            \n",
            "                                                                                                  \n",
            " tf.__operators__.getitem (Slic  (None,)             0           ['tf.cast[0][0]']                \n",
            " ingOpLambda)                                                                                     \n",
            "                                                                                                  \n",
            " tf.__operators__.getitem_1 (Sl  (None,)             0           ['tf.cast[0][0]']                \n",
            " icingOpLambda)                                                                                   \n",
            "                                                                                                  \n",
            " tf.compat.v1.gather (TFOpLambd  (None, 700)         0           ['dropout[0][0]',                \n",
            " a)                                                               'tf.__operators__.getitem[0][0]'\n",
            "                                                                 ]                                \n",
            "                                                                                                  \n",
            " tf.compat.v1.gather_1 (TFOpLam  (None, 700)         0           ['dropout[0][0]',                \n",
            " bda)                                                             'tf.__operators__.getitem_1[0][0\n",
            "                                                                 ]']                              \n",
            "                                                                                                  \n",
            " tf.__operators__.getitem_2 (Sl  (None,)             0           ['tf.cast[0][0]']                \n",
            " icingOpLambda)                                                                                   \n",
            "                                                                                                  \n",
            " tf.__operators__.getitem_3 (Sl  (None,)             0           ['tf.cast[0][0]']                \n",
            " icingOpLambda)                                                                                   \n",
            "                                                                                                  \n",
            " tf.__operators__.getitem_4 (Sl  (None,)             0           ['tf.cast[0][0]']                \n",
            " icingOpLambda)                                                                                   \n",
            "                                                                                                  \n",
            " tf.__operators__.getitem_5 (Sl  (None,)             0           ['tf.cast[0][0]']                \n",
            " icingOpLambda)                                                                                   \n",
            "                                                                                                  \n",
            " tf.math.subtract (TFOpLambda)  (None, 700)          0           ['tf.compat.v1.gather[0][0]',    \n",
            "                                                                  'tf.compat.v1.gather_1[0][0]']  \n",
            "                                                                                                  \n",
            " tf.compat.v1.gather_2 (TFOpLam  (None, 700)         0           ['dropout[0][0]',                \n",
            " bda)                                                             'tf.__operators__.getitem_2[0][0\n",
            "                                                                 ]']                              \n",
            "                                                                                                  \n",
            " tf.compat.v1.gather_3 (TFOpLam  (None, 700)         0           ['dropout[0][0]',                \n",
            " bda)                                                             'tf.__operators__.getitem_3[0][0\n",
            "                                                                 ]']                              \n",
            "                                                                                                  \n",
            " tf.compat.v1.gather_4 (TFOpLam  (None, 700)         0           ['dropout[0][0]',                \n",
            " bda)                                                             'tf.__operators__.getitem_4[0][0\n",
            "                                                                 ]']                              \n",
            "                                                                                                  \n",
            " tf.compat.v1.gather_5 (TFOpLam  (None, 700)         0           ['dropout[0][0]',                \n",
            " bda)                                                             'tf.__operators__.getitem_5[0][0\n",
            "                                                                 ]']                              \n",
            "                                                                                                  \n",
            " tf.__operators__.getitem_6 (Sl  (None,)             0           ['tf.cast[0][0]']                \n",
            " icingOpLambda)                                                                                   \n",
            "                                                                                                  \n",
            " tf.__operators__.getitem_7 (Sl  (None,)             0           ['tf.cast[0][0]']                \n",
            " icingOpLambda)                                                                                   \n",
            "                                                                                                  \n",
            " tf.__operators__.getitem_8 (Sl  (None,)             0           ['tf.cast[0][0]']                \n",
            " icingOpLambda)                                                                                   \n",
            "                                                                                                  \n",
            " tf.__operators__.getitem_9 (Sl  (None,)             0           ['tf.cast[0][0]']                \n",
            " icingOpLambda)                                                                                   \n",
            "                                                                                                  \n",
            " tf.math.abs (TFOpLambda)       (None, 700)          0           ['tf.math.subtract[0][0]']       \n",
            "                                                                                                  \n",
            " tf.math.subtract_1 (TFOpLambda  (None, 700)         0           ['tf.compat.v1.gather_2[0][0]',  \n",
            " )                                                                'tf.compat.v1.gather_3[0][0]']  \n",
            "                                                                                                  \n",
            " tf.math.subtract_2 (TFOpLambda  (None, 700)         0           ['tf.compat.v1.gather_4[0][0]',  \n",
            " )                                                                'tf.compat.v1.gather_5[0][0]']  \n",
            "                                                                                                  \n",
            " tf.compat.v1.gather_6 (TFOpLam  (None, 700)         0           ['dropout[0][0]',                \n",
            " bda)                                                             'tf.__operators__.getitem_6[0][0\n",
            "                                                                 ]']                              \n",
            "                                                                                                  \n",
            " tf.compat.v1.gather_7 (TFOpLam  (None, 700)         0           ['dropout[0][0]',                \n",
            " bda)                                                             'tf.__operators__.getitem_7[0][0\n",
            "                                                                 ]']                              \n",
            "                                                                                                  \n",
            " tf.compat.v1.gather_8 (TFOpLam  (None, 700)         0           ['dropout[0][0]',                \n",
            " bda)                                                             'tf.__operators__.getitem_8[0][0\n",
            "                                                                 ]']                              \n",
            "                                                                                                  \n",
            " tf.compat.v1.gather_9 (TFOpLam  (None, 700)         0           ['dropout[0][0]',                \n",
            " bda)                                                             'tf.__operators__.getitem_9[0][0\n",
            "                                                                 ]']                              \n",
            "                                                                                                  \n",
            " tf.__operators__.getitem_10 (S  (None,)             0           ['tf.cast[0][0]']                \n",
            " licingOpLambda)                                                                                  \n",
            "                                                                                                  \n",
            " tf.__operators__.getitem_11 (S  (None,)             0           ['tf.cast[0][0]']                \n",
            " licingOpLambda)                                                                                  \n",
            "                                                                                                  \n",
            " tf.__operators__.getitem_12 (S  (None,)             0           ['tf.cast[0][0]']                \n",
            " licingOpLambda)                                                                                  \n",
            "                                                                                                  \n",
            " tf.__operators__.getitem_13 (S  (None,)             0           ['tf.cast[0][0]']                \n",
            " licingOpLambda)                                                                                  \n",
            "                                                                                                  \n",
            " tf.math.reduce_sum (TFOpLambda  (None, 1)           0           ['tf.math.abs[0][0]']            \n",
            " )                                                                                                \n",
            "                                                                                                  \n",
            " tf.math.abs_1 (TFOpLambda)     (None, 700)          0           ['tf.math.subtract_1[0][0]']     \n",
            "                                                                                                  \n",
            " tf.math.abs_2 (TFOpLambda)     (None, 700)          0           ['tf.math.subtract_2[0][0]']     \n",
            "                                                                                                  \n",
            " tf.math.subtract_5 (TFOpLambda  (None, 700)         0           ['tf.compat.v1.gather_6[0][0]',  \n",
            " )                                                                'tf.compat.v1.gather_7[0][0]']  \n",
            "                                                                                                  \n",
            " tf.math.subtract_6 (TFOpLambda  (None, 700)         0           ['tf.compat.v1.gather_8[0][0]',  \n",
            " )                                                                'tf.compat.v1.gather_9[0][0]']  \n",
            "                                                                                                  \n",
            " tf.compat.v1.gather_10 (TFOpLa  (None, 700)         0           ['dropout[0][0]',                \n",
            " mbda)                                                            'tf.__operators__.getitem_10[0][\n",
            "                                                                 0]']                             \n",
            "                                                                                                  \n",
            " tf.compat.v1.gather_11 (TFOpLa  (None, 700)         0           ['dropout[0][0]',                \n",
            " mbda)                                                            'tf.__operators__.getitem_11[0][\n",
            "                                                                 0]']                             \n",
            "                                                                                                  \n",
            " tf.compat.v1.gather_12 (TFOpLa  (None, 700)         0           ['dropout[0][0]',                \n",
            " mbda)                                                            'tf.__operators__.getitem_12[0][\n",
            "                                                                 0]']                             \n",
            "                                                                                                  \n",
            " tf.compat.v1.gather_13 (TFOpLa  (None, 700)         0           ['dropout[0][0]',                \n",
            " mbda)                                                            'tf.__operators__.getitem_13[0][\n",
            "                                                                 0]']                             \n",
            "                                                                                                  \n",
            " tf.__operators__.getitem_14 (S  (None,)             0           ['tf.cast[0][0]']                \n",
            " licingOpLambda)                                                                                  \n",
            "                                                                                                  \n",
            " tf.__operators__.getitem_15 (S  (None,)             0           ['tf.cast[0][0]']                \n",
            " licingOpLambda)                                                                                  \n",
            "                                                                                                  \n",
            " tf.__operators__.getitem_16 (S  (None,)             0           ['tf.cast[0][0]']                \n",
            " licingOpLambda)                                                                                  \n",
            "                                                                                                  \n",
            " tf.__operators__.getitem_17 (S  (None,)             0           ['tf.cast[0][0]']                \n",
            " licingOpLambda)                                                                                  \n",
            "                                                                                                  \n",
            " tf.__operators__.add (TFOpLamb  (None, 1)           0           ['tf.math.reduce_sum[0][0]']     \n",
            " da)                                                                                              \n",
            "                                                                                                  \n",
            " tf.math.reduce_sum_1 (TFOpLamb  (None, 1)           0           ['tf.math.abs_1[0][0]']          \n",
            " da)                                                                                              \n",
            "                                                                                                  \n",
            " tf.__operators__.add_1 (TFOpLa  (None, 1)           0           ['tf.math.reduce_sum[0][0]']     \n",
            " mbda)                                                                                            \n",
            "                                                                                                  \n",
            " tf.math.reduce_sum_2 (TFOpLamb  (None, 1)           0           ['tf.math.abs_2[0][0]']          \n",
            " da)                                                                                              \n",
            "                                                                                                  \n",
            " tf.math.abs_3 (TFOpLambda)     (None, 700)          0           ['tf.math.subtract_5[0][0]']     \n",
            "                                                                                                  \n",
            " tf.math.abs_4 (TFOpLambda)     (None, 700)          0           ['tf.math.subtract_6[0][0]']     \n",
            "                                                                                                  \n",
            " tf.math.subtract_9 (TFOpLambda  (None, 700)         0           ['tf.compat.v1.gather_10[0][0]', \n",
            " )                                                                'tf.compat.v1.gather_11[0][0]'] \n",
            "                                                                                                  \n",
            " tf.math.subtract_10 (TFOpLambd  (None, 700)         0           ['tf.compat.v1.gather_12[0][0]', \n",
            " a)                                                               'tf.compat.v1.gather_13[0][0]'] \n",
            "                                                                                                  \n",
            " tf.compat.v1.gather_14 (TFOpLa  (None, 700)         0           ['dropout[0][0]',                \n",
            " mbda)                                                            'tf.__operators__.getitem_14[0][\n",
            "                                                                 0]']                             \n",
            "                                                                                                  \n",
            " tf.compat.v1.gather_15 (TFOpLa  (None, 700)         0           ['dropout[0][0]',                \n",
            " mbda)                                                            'tf.__operators__.getitem_15[0][\n",
            "                                                                 0]']                             \n",
            "                                                                                                  \n",
            " tf.compat.v1.gather_16 (TFOpLa  (None, 700)         0           ['dropout[0][0]',                \n",
            " mbda)                                                            'tf.__operators__.getitem_16[0][\n",
            "                                                                 0]']                             \n",
            "                                                                                                  \n",
            " tf.compat.v1.gather_17 (TFOpLa  (None, 700)         0           ['dropout[0][0]',                \n",
            " mbda)                                                            'tf.__operators__.getitem_17[0][\n",
            "                                                                 0]']                             \n",
            "                                                                                                  \n",
            " tf.math.subtract_3 (TFOpLambda  (None, 1)           0           ['tf.__operators__.add[0][0]',   \n",
            " )                                                                'tf.math.reduce_sum_1[0][0]']   \n",
            "                                                                                                  \n",
            " tf.math.subtract_4 (TFOpLambda  (None, 1)           0           ['tf.__operators__.add_1[0][0]', \n",
            " )                                                                'tf.math.reduce_sum_2[0][0]']   \n",
            "                                                                                                  \n",
            " tf.__operators__.add_4 (TFOpLa  (None, 1)           0           ['tf.math.reduce_sum[0][0]']     \n",
            " mbda)                                                                                            \n",
            "                                                                                                  \n",
            " tf.math.reduce_sum_3 (TFOpLamb  (None, 1)           0           ['tf.math.abs_3[0][0]']          \n",
            " da)                                                                                              \n",
            "                                                                                                  \n",
            " tf.__operators__.add_5 (TFOpLa  (None, 1)           0           ['tf.math.reduce_sum[0][0]']     \n",
            " mbda)                                                                                            \n",
            "                                                                                                  \n",
            " tf.math.reduce_sum_4 (TFOpLamb  (None, 1)           0           ['tf.math.abs_4[0][0]']          \n",
            " da)                                                                                              \n",
            "                                                                                                  \n",
            " tf.math.abs_5 (TFOpLambda)     (None, 700)          0           ['tf.math.subtract_9[0][0]']     \n",
            "                                                                                                  \n",
            " tf.math.abs_6 (TFOpLambda)     (None, 700)          0           ['tf.math.subtract_10[0][0]']    \n",
            "                                                                                                  \n",
            " tf.math.subtract_13 (TFOpLambd  (None, 700)         0           ['tf.compat.v1.gather_14[0][0]', \n",
            " a)                                                               'tf.compat.v1.gather_15[0][0]'] \n",
            "                                                                                                  \n",
            " tf.math.subtract_14 (TFOpLambd  (None, 700)         0           ['tf.compat.v1.gather_16[0][0]', \n",
            " a)                                                               'tf.compat.v1.gather_17[0][0]'] \n",
            "                                                                                                  \n",
            " tf.nn.relu (TFOpLambda)        (None, 1)            0           ['tf.math.subtract_3[0][0]']     \n",
            "                                                                                                  \n",
            " tf.nn.relu_1 (TFOpLambda)      (None, 1)            0           ['tf.math.subtract_4[0][0]']     \n",
            "                                                                                                  \n",
            " tf.math.subtract_7 (TFOpLambda  (None, 1)           0           ['tf.__operators__.add_4[0][0]', \n",
            " )                                                                'tf.math.reduce_sum_3[0][0]']   \n",
            "                                                                                                  \n",
            " tf.math.subtract_8 (TFOpLambda  (None, 1)           0           ['tf.__operators__.add_5[0][0]', \n",
            " )                                                                'tf.math.reduce_sum_4[0][0]']   \n",
            "                                                                                                  \n",
            " tf.__operators__.add_8 (TFOpLa  (None, 1)           0           ['tf.math.reduce_sum[0][0]']     \n",
            " mbda)                                                                                            \n",
            "                                                                                                  \n",
            " tf.math.reduce_sum_5 (TFOpLamb  (None, 1)           0           ['tf.math.abs_5[0][0]']          \n",
            " da)                                                                                              \n",
            "                                                                                                  \n",
            " tf.__operators__.add_9 (TFOpLa  (None, 1)           0           ['tf.math.reduce_sum[0][0]']     \n",
            " mbda)                                                                                            \n",
            "                                                                                                  \n",
            " tf.math.reduce_sum_6 (TFOpLamb  (None, 1)           0           ['tf.math.abs_6[0][0]']          \n",
            " da)                                                                                              \n",
            "                                                                                                  \n",
            " tf.math.abs_7 (TFOpLambda)     (None, 700)          0           ['tf.math.subtract_13[0][0]']    \n",
            "                                                                                                  \n",
            " tf.math.abs_8 (TFOpLambda)     (None, 700)          0           ['tf.math.subtract_14[0][0]']    \n",
            "                                                                                                  \n",
            " tf.__operators__.add_2 (TFOpLa  (None, 1)           0           ['tf.nn.relu[0][0]',             \n",
            " mbda)                                                            'tf.nn.relu_1[0][0]']           \n",
            "                                                                                                  \n",
            " tf.nn.relu_2 (TFOpLambda)      (None, 1)            0           ['tf.math.subtract_7[0][0]']     \n",
            "                                                                                                  \n",
            " tf.nn.relu_3 (TFOpLambda)      (None, 1)            0           ['tf.math.subtract_8[0][0]']     \n",
            "                                                                                                  \n",
            " tf.math.subtract_11 (TFOpLambd  (None, 1)           0           ['tf.__operators__.add_8[0][0]', \n",
            " a)                                                               'tf.math.reduce_sum_5[0][0]']   \n",
            "                                                                                                  \n",
            " tf.math.subtract_12 (TFOpLambd  (None, 1)           0           ['tf.__operators__.add_9[0][0]', \n",
            " a)                                                               'tf.math.reduce_sum_6[0][0]']   \n",
            "                                                                                                  \n",
            " tf.__operators__.add_12 (TFOpL  (None, 1)           0           ['tf.math.reduce_sum[0][0]']     \n",
            " ambda)                                                                                           \n",
            "                                                                                                  \n",
            " tf.math.reduce_sum_7 (TFOpLamb  (None, 1)           0           ['tf.math.abs_7[0][0]']          \n",
            " da)                                                                                              \n",
            "                                                                                                  \n",
            " tf.__operators__.add_13 (TFOpL  (None, 1)           0           ['tf.math.reduce_sum[0][0]']     \n",
            " ambda)                                                                                           \n",
            "                                                                                                  \n",
            " tf.math.reduce_sum_8 (TFOpLamb  (None, 1)           0           ['tf.math.abs_8[0][0]']          \n",
            " da)                                                                                              \n",
            "                                                                                                  \n",
            " tf.__operators__.add_3 (TFOpLa  (None, 1)           0           ['tf.__operators__.add_2[0][0]'] \n",
            " mbda)                                                                                            \n",
            "                                                                                                  \n",
            " tf.__operators__.add_6 (TFOpLa  (None, 1)           0           ['tf.nn.relu_2[0][0]',           \n",
            " mbda)                                                            'tf.nn.relu_3[0][0]']           \n",
            "                                                                                                  \n",
            " tf.nn.relu_4 (TFOpLambda)      (None, 1)            0           ['tf.math.subtract_11[0][0]']    \n",
            "                                                                                                  \n",
            " tf.nn.relu_5 (TFOpLambda)      (None, 1)            0           ['tf.math.subtract_12[0][0]']    \n",
            "                                                                                                  \n",
            " tf.math.subtract_15 (TFOpLambd  (None, 1)           0           ['tf.__operators__.add_12[0][0]',\n",
            " a)                                                               'tf.math.reduce_sum_7[0][0]']   \n",
            "                                                                                                  \n",
            " tf.math.subtract_16 (TFOpLambd  (None, 1)           0           ['tf.__operators__.add_13[0][0]',\n",
            " a)                                                               'tf.math.reduce_sum_8[0][0]']   \n",
            "                                                                                                  \n",
            " tf.__operators__.add_7 (TFOpLa  (None, 1)           0           ['tf.__operators__.add_3[0][0]', \n",
            " mbda)                                                            'tf.__operators__.add_6[0][0]'] \n",
            "                                                                                                  \n",
            " tf.__operators__.add_10 (TFOpL  (None, 1)           0           ['tf.nn.relu_4[0][0]',           \n",
            " ambda)                                                           'tf.nn.relu_5[0][0]']           \n",
            "                                                                                                  \n",
            " tf.nn.relu_6 (TFOpLambda)      (None, 1)            0           ['tf.math.subtract_15[0][0]']    \n",
            "                                                                                                  \n",
            " tf.nn.relu_7 (TFOpLambda)      (None, 1)            0           ['tf.math.subtract_16[0][0]']    \n",
            "                                                                                                  \n",
            " tf.__operators__.add_11 (TFOpL  (None, 1)           0           ['tf.__operators__.add_7[0][0]', \n",
            " ambda)                                                           'tf.__operators__.add_10[0][0]']\n",
            "                                                                                                  \n",
            " tf.__operators__.add_14 (TFOpL  (None, 1)           0           ['tf.nn.relu_6[0][0]',           \n",
            " ambda)                                                           'tf.nn.relu_7[0][0]']           \n",
            "                                                                                                  \n",
            " tf.__operators__.add_15 (TFOpL  (None, 1)           0           ['tf.__operators__.add_11[0][0]',\n",
            " ambda)                                                           'tf.__operators__.add_14[0][0]']\n",
            "                                                                                                  \n",
            " tf.math.reduce_sum_9 (TFOpLamb  (1, 1)              0           ['tf.__operators__.add_15[0][0]']\n",
            " da)                                                                                              \n",
            "                                                                                                  \n",
            " input_7 (InputLayer)           [(None, None, 3)]    0           []                               \n",
            "                                                                                                  \n",
            " tf.math.truediv (TFOpLambda)   (1, 1)               0           ['tf.math.reduce_sum_9[0][0]']   \n",
            "                                                                                                  \n",
            "==================================================================================================\n",
            "Total params: 4,501,401\n",
            "Trainable params: 4,501,400\n",
            "Non-trainable params: 1\n",
            "__________________________________________________________________________________________________\n"
          ]
        }
      ],
      "source": [
        "model,get_emb = get_trgat(dropout_rate=0.3,node_size=node_size,rel_size=rel_size,n_attn_heads = 1,depth=2,gamma =3,node_hidden=100,rel_hidden = 100,triple_size = triple_size)\n",
        "model.summary(); \n",
        "initial_weights = model.get_weights()"
      ]
    },
    {
      "cell_type": "code",
      "source": [
        "train_pair = train_pair_main\n",
        "tf.keras.backend.clear_session()\n",
        "config = tf.compat.v1.ConfigProto()\n",
        "config.gpu_options.allow_growth=True  \n",
        "sess = tf.compat.v1.Session(config=config) \n",
        "\n",
        "rest_set_1 = [e1 for e1, e2 in dev_pair]\n",
        "rest_set_2 = [e2 for e1, e2 in dev_pair]\n",
        "np.random.shuffle(rest_set_1)\n",
        "np.random.shuffle(rest_set_2)\n",
        "\n",
        "epoch = 400\n",
        "for turn in range(5):\n",
        "    print(\"iteration %d start.\"%turn)\n",
        "    for i in trange(epoch):\n",
        "        cur_epoch = i\n",
        "        train_set = get_train_set()\n",
        "        inputs = [adj_matrix,r_index,r_val,rel_matrix,rel_matrix1,ent_matrix,radj,nadj,train_set]\n",
        "        inputs = [np.expand_dims(item,axis=0) for item in inputs]\n",
        "        model.train_on_batch(inputs,np.zeros((1,1)))\n",
        "        #CSLS_test()\n",
        "        if i%100 == 99:\n",
        "            CSLS_test()     \n",
        "    \n",
        "    #CSLS_test()       \n",
        "    new_pair = []\n",
        "    \n",
        "    vec = get_embedding()\n",
        "    Lvec = np.array([vec[e] for e in rest_set_1])\n",
        "    Rvec = np.array([vec[e] for e in rest_set_2])\n",
        "    Lvec = Lvec / np.linalg.norm(Lvec,axis=-1,keepdims=True)\n",
        "    Rvec = Rvec / np.linalg.norm(Rvec,axis=-1,keepdims=True)\n",
        "    # A,_,_ = eval_alignment_by_sim_mat(Lvec, Rvec, [1, 5, 10], 16,10,True,False)\n",
        "    # B,_,_ = eval_alignment_by_sim_mat(Rvec, Lvec,[1, 5, 10], 16,10,True,False)\n",
        "    # A = sorted(list(A)); B = sorted(list(B))\n",
        "    # for a,b in A:\n",
        "    #     if  B[b][1] == a:\n",
        "    #         new_pair.append([rest_set_1[a],rest_set_2[b]])\n",
        "\n",
        "    _,_,A = eval_alignment_by_sim_mat(Lvec, Rvec, [1, 5, 10], 16,10,True,False)\n",
        "    _,_,B = eval_alignment_by_sim_mat(Rvec, Lvec,[1, 5, 10], 16,10,True,False)\n",
        "    A = A[0]\n",
        "    B = B[0]\n",
        "\n",
        "    for i in range(len(A)):\n",
        "        if i == B[A[i,0],0]:\n",
        "            has_other_pair = 0\n",
        "            for _i in range(1,3):\n",
        "                if(_i in B[A[i,_i],:3]):\n",
        "                    has_other_pair = 1\n",
        "                    break;\n",
        "\n",
        "            if has_other_pair == 0:\n",
        "                  #print([rest_set_1[i],rest_set_2[A[i,j]]])\n",
        "                  new_pair.append([rest_set_1[i],rest_set_2[A[i,0]]])\n",
        "            \n",
        "    print(\"generate new semi-pairs: %d.\" % len(new_pair))\n",
        "    train_pair = np.concatenate([train_pair,np.array(new_pair)],axis = 0)\n",
        "    for e1,e2 in new_pair:\n",
        "        if e1 in rest_set_1:\n",
        "            rest_set_1.remove(e1) \n",
        "        \n",
        "    for e1,e2 in new_pair:\n",
        "        if e2 in rest_set_2:\n",
        "            rest_set_2.remove(e2) \n",
        "\n",
        "files.download('/content/RREA/'+lang+\"_\"+run_name+'.pkl') "
      ],
      "metadata": {
        "id": "pLYXVCI1iB4-",
        "colab": {
          "base_uri": "https://localhost:8080/",
          "height": 620
        },
        "outputId": "9ad86b27-0e5a-43c7-bbef-4b2fdd489dcc"
      },
      "execution_count": null,
      "outputs": [
        {
          "output_type": "stream",
          "name": "stdout",
          "text": [
            "iteration 0 start.\n"
          ]
        },
        {
          "output_type": "stream",
          "name": "stderr",
          "text": [
            " 25%|██▍       | 99/400 [02:46<08:09,  1.62s/it]"
          ]
        },
        {
          "output_type": "stream",
          "name": "stdout",
          "text": [
            "accurate results: hits@[1, 5, 10] = [65.1  86.53 91.54], mr = 13.129, mrr = 0.745, time = 24.316 s \n"
          ]
        },
        {
          "output_type": "stream",
          "name": "stderr",
          "text": [
            " 50%|█████     | 200/400 [06:11<29:01,  8.71s/it]"
          ]
        },
        {
          "output_type": "stream",
          "name": "stdout",
          "text": [
            "accurate results: hits@[1, 5, 10] = [67.68 87.98 92.43], mr = 14.215, mrr = 0.766, time = 23.163 s \n"
          ]
        },
        {
          "output_type": "stream",
          "name": "stderr",
          "text": [
            " 75%|███████▍  | 299/400 [08:43<02:31,  1.50s/it]"
          ]
        },
        {
          "output_type": "stream",
          "name": "stdout",
          "text": [
            "accurate results: hits@[1, 5, 10] = [69.78 89.07 92.97], mr = 14.040, mrr = 0.783, time = 23.036 s \n"
          ]
        },
        {
          "output_type": "stream",
          "name": "stderr",
          "text": [
            "100%|██████████| 400/400 [12:04<00:00,  1.81s/it]"
          ]
        },
        {
          "output_type": "stream",
          "name": "stdout",
          "text": [
            "accurate results: hits@[1, 5, 10] = [70.93 89.48 93.17], mr = 14.065, mrr = 0.790, time = 22.393 s \n"
          ]
        },
        {
          "output_type": "stream",
          "name": "stderr",
          "text": [
            "\n"
          ]
        },
        {
          "output_type": "stream",
          "name": "stdout",
          "text": [
            "generate new semi-pairs: 7331.\n",
            "iteration 1 start.\n"
          ]
        },
        {
          "output_type": "stream",
          "name": "stderr",
          "text": [
            " 25%|██▌       | 100/400 [02:55<44:15,  8.85s/it]"
          ]
        },
        {
          "output_type": "stream",
          "name": "stdout",
          "text": [
            "accurate results: hits@[1, 5, 10] = [55.02 89.2  93.47], mr = 12.149, mrr = 0.706, time = 22.532 s \n"
          ]
        },
        {
          "output_type": "stream",
          "name": "stderr",
          "text": [
            " 32%|███▏      | 127/400 [03:42<07:57,  1.75s/it]\n"
          ]
        },
        {
          "output_type": "error",
          "ename": "KeyboardInterrupt",
          "evalue": "ignored",
          "traceback": [
            "\u001b[0;31m---------------------------------------------------------------------------\u001b[0m",
            "\u001b[0;31mKeyboardInterrupt\u001b[0m                         Traceback (most recent call last)",
            "\u001b[0;32m<ipython-input-52-18856560e90a>\u001b[0m in \u001b[0;36m<module>\u001b[0;34m()\u001b[0m\n\u001b[1;32m     18\u001b[0m         \u001b[0minputs\u001b[0m \u001b[0;34m=\u001b[0m \u001b[0;34m[\u001b[0m\u001b[0madj_matrix\u001b[0m\u001b[0;34m,\u001b[0m\u001b[0mr_index\u001b[0m\u001b[0;34m,\u001b[0m\u001b[0mr_val\u001b[0m\u001b[0;34m,\u001b[0m\u001b[0mrel_matrix\u001b[0m\u001b[0;34m,\u001b[0m\u001b[0ment_matrix\u001b[0m\u001b[0;34m,\u001b[0m\u001b[0mradj\u001b[0m\u001b[0;34m,\u001b[0m\u001b[0mnadj\u001b[0m\u001b[0;34m,\u001b[0m\u001b[0mtrain_set\u001b[0m\u001b[0;34m]\u001b[0m\u001b[0;34m\u001b[0m\u001b[0;34m\u001b[0m\u001b[0m\n\u001b[1;32m     19\u001b[0m         \u001b[0minputs\u001b[0m \u001b[0;34m=\u001b[0m \u001b[0;34m[\u001b[0m\u001b[0mnp\u001b[0m\u001b[0;34m.\u001b[0m\u001b[0mexpand_dims\u001b[0m\u001b[0;34m(\u001b[0m\u001b[0mitem\u001b[0m\u001b[0;34m,\u001b[0m\u001b[0maxis\u001b[0m\u001b[0;34m=\u001b[0m\u001b[0;36m0\u001b[0m\u001b[0;34m)\u001b[0m \u001b[0;32mfor\u001b[0m \u001b[0mitem\u001b[0m \u001b[0;32min\u001b[0m \u001b[0minputs\u001b[0m\u001b[0;34m]\u001b[0m\u001b[0;34m\u001b[0m\u001b[0;34m\u001b[0m\u001b[0m\n\u001b[0;32m---> 20\u001b[0;31m         \u001b[0mmodel\u001b[0m\u001b[0;34m.\u001b[0m\u001b[0mtrain_on_batch\u001b[0m\u001b[0;34m(\u001b[0m\u001b[0minputs\u001b[0m\u001b[0;34m,\u001b[0m\u001b[0mnp\u001b[0m\u001b[0;34m.\u001b[0m\u001b[0mzeros\u001b[0m\u001b[0;34m(\u001b[0m\u001b[0;34m(\u001b[0m\u001b[0;36m1\u001b[0m\u001b[0;34m,\u001b[0m\u001b[0;36m1\u001b[0m\u001b[0;34m)\u001b[0m\u001b[0;34m)\u001b[0m\u001b[0;34m)\u001b[0m\u001b[0;34m\u001b[0m\u001b[0;34m\u001b[0m\u001b[0m\n\u001b[0m\u001b[1;32m     21\u001b[0m         \u001b[0;31m#CSLS_test()\u001b[0m\u001b[0;34m\u001b[0m\u001b[0;34m\u001b[0m\u001b[0;34m\u001b[0m\u001b[0m\n\u001b[1;32m     22\u001b[0m         \u001b[0;32mif\u001b[0m \u001b[0mi\u001b[0m\u001b[0;34m%\u001b[0m\u001b[0;36m100\u001b[0m \u001b[0;34m==\u001b[0m \u001b[0;36m99\u001b[0m\u001b[0;34m:\u001b[0m\u001b[0;34m\u001b[0m\u001b[0;34m\u001b[0m\u001b[0m\n",
            "\u001b[0;32m/usr/local/lib/python3.7/dist-packages/keras/engine/training.py\u001b[0m in \u001b[0;36mtrain_on_batch\u001b[0;34m(self, x, y, sample_weight, class_weight, reset_metrics, return_dict)\u001b[0m\n\u001b[1;32m   2091\u001b[0m                                                     class_weight)\n\u001b[1;32m   2092\u001b[0m       \u001b[0mself\u001b[0m\u001b[0;34m.\u001b[0m\u001b[0mtrain_function\u001b[0m \u001b[0;34m=\u001b[0m \u001b[0mself\u001b[0m\u001b[0;34m.\u001b[0m\u001b[0mmake_train_function\u001b[0m\u001b[0;34m(\u001b[0m\u001b[0;34m)\u001b[0m\u001b[0;34m\u001b[0m\u001b[0;34m\u001b[0m\u001b[0m\n\u001b[0;32m-> 2093\u001b[0;31m       \u001b[0mlogs\u001b[0m \u001b[0;34m=\u001b[0m \u001b[0mself\u001b[0m\u001b[0;34m.\u001b[0m\u001b[0mtrain_function\u001b[0m\u001b[0;34m(\u001b[0m\u001b[0miterator\u001b[0m\u001b[0;34m)\u001b[0m\u001b[0;34m\u001b[0m\u001b[0;34m\u001b[0m\u001b[0m\n\u001b[0m\u001b[1;32m   2094\u001b[0m \u001b[0;34m\u001b[0m\u001b[0m\n\u001b[1;32m   2095\u001b[0m     \u001b[0mlogs\u001b[0m \u001b[0;34m=\u001b[0m \u001b[0mtf_utils\u001b[0m\u001b[0;34m.\u001b[0m\u001b[0msync_to_numpy_or_python_type\u001b[0m\u001b[0;34m(\u001b[0m\u001b[0mlogs\u001b[0m\u001b[0;34m)\u001b[0m\u001b[0;34m\u001b[0m\u001b[0;34m\u001b[0m\u001b[0m\n",
            "\u001b[0;32m/usr/local/lib/python3.7/dist-packages/tensorflow/python/util/traceback_utils.py\u001b[0m in \u001b[0;36merror_handler\u001b[0;34m(*args, **kwargs)\u001b[0m\n\u001b[1;32m    148\u001b[0m     \u001b[0mfiltered_tb\u001b[0m \u001b[0;34m=\u001b[0m \u001b[0;32mNone\u001b[0m\u001b[0;34m\u001b[0m\u001b[0;34m\u001b[0m\u001b[0m\n\u001b[1;32m    149\u001b[0m     \u001b[0;32mtry\u001b[0m\u001b[0;34m:\u001b[0m\u001b[0;34m\u001b[0m\u001b[0;34m\u001b[0m\u001b[0m\n\u001b[0;32m--> 150\u001b[0;31m       \u001b[0;32mreturn\u001b[0m \u001b[0mfn\u001b[0m\u001b[0;34m(\u001b[0m\u001b[0;34m*\u001b[0m\u001b[0margs\u001b[0m\u001b[0;34m,\u001b[0m \u001b[0;34m**\u001b[0m\u001b[0mkwargs\u001b[0m\u001b[0;34m)\u001b[0m\u001b[0;34m\u001b[0m\u001b[0;34m\u001b[0m\u001b[0m\n\u001b[0m\u001b[1;32m    151\u001b[0m     \u001b[0;32mexcept\u001b[0m \u001b[0mException\u001b[0m \u001b[0;32mas\u001b[0m \u001b[0me\u001b[0m\u001b[0;34m:\u001b[0m\u001b[0;34m\u001b[0m\u001b[0;34m\u001b[0m\u001b[0m\n\u001b[1;32m    152\u001b[0m       \u001b[0mfiltered_tb\u001b[0m \u001b[0;34m=\u001b[0m \u001b[0m_process_traceback_frames\u001b[0m\u001b[0;34m(\u001b[0m\u001b[0me\u001b[0m\u001b[0;34m.\u001b[0m\u001b[0m__traceback__\u001b[0m\u001b[0;34m)\u001b[0m\u001b[0;34m\u001b[0m\u001b[0;34m\u001b[0m\u001b[0m\n",
            "\u001b[0;32m/usr/local/lib/python3.7/dist-packages/tensorflow/python/eager/def_function.py\u001b[0m in \u001b[0;36m__call__\u001b[0;34m(self, *args, **kwds)\u001b[0m\n\u001b[1;32m    913\u001b[0m \u001b[0;34m\u001b[0m\u001b[0m\n\u001b[1;32m    914\u001b[0m       \u001b[0;32mwith\u001b[0m \u001b[0mOptionalXlaContext\u001b[0m\u001b[0;34m(\u001b[0m\u001b[0mself\u001b[0m\u001b[0;34m.\u001b[0m\u001b[0m_jit_compile\u001b[0m\u001b[0;34m)\u001b[0m\u001b[0;34m:\u001b[0m\u001b[0;34m\u001b[0m\u001b[0;34m\u001b[0m\u001b[0m\n\u001b[0;32m--> 915\u001b[0;31m         \u001b[0mresult\u001b[0m \u001b[0;34m=\u001b[0m \u001b[0mself\u001b[0m\u001b[0;34m.\u001b[0m\u001b[0m_call\u001b[0m\u001b[0;34m(\u001b[0m\u001b[0;34m*\u001b[0m\u001b[0margs\u001b[0m\u001b[0;34m,\u001b[0m \u001b[0;34m**\u001b[0m\u001b[0mkwds\u001b[0m\u001b[0;34m)\u001b[0m\u001b[0;34m\u001b[0m\u001b[0;34m\u001b[0m\u001b[0m\n\u001b[0m\u001b[1;32m    916\u001b[0m \u001b[0;34m\u001b[0m\u001b[0m\n\u001b[1;32m    917\u001b[0m       \u001b[0mnew_tracing_count\u001b[0m \u001b[0;34m=\u001b[0m \u001b[0mself\u001b[0m\u001b[0;34m.\u001b[0m\u001b[0mexperimental_get_tracing_count\u001b[0m\u001b[0;34m(\u001b[0m\u001b[0;34m)\u001b[0m\u001b[0;34m\u001b[0m\u001b[0;34m\u001b[0m\u001b[0m\n",
            "\u001b[0;32m/usr/local/lib/python3.7/dist-packages/tensorflow/python/eager/def_function.py\u001b[0m in \u001b[0;36m_call\u001b[0;34m(self, *args, **kwds)\u001b[0m\n\u001b[1;32m    945\u001b[0m       \u001b[0;31m# In this case we have created variables on the first call, so we run the\u001b[0m\u001b[0;34m\u001b[0m\u001b[0;34m\u001b[0m\u001b[0;34m\u001b[0m\u001b[0m\n\u001b[1;32m    946\u001b[0m       \u001b[0;31m# defunned version which is guaranteed to never create variables.\u001b[0m\u001b[0;34m\u001b[0m\u001b[0;34m\u001b[0m\u001b[0;34m\u001b[0m\u001b[0m\n\u001b[0;32m--> 947\u001b[0;31m       \u001b[0;32mreturn\u001b[0m \u001b[0mself\u001b[0m\u001b[0;34m.\u001b[0m\u001b[0m_stateless_fn\u001b[0m\u001b[0;34m(\u001b[0m\u001b[0;34m*\u001b[0m\u001b[0margs\u001b[0m\u001b[0;34m,\u001b[0m \u001b[0;34m**\u001b[0m\u001b[0mkwds\u001b[0m\u001b[0;34m)\u001b[0m  \u001b[0;31m# pylint: disable=not-callable\u001b[0m\u001b[0;34m\u001b[0m\u001b[0;34m\u001b[0m\u001b[0m\n\u001b[0m\u001b[1;32m    948\u001b[0m     \u001b[0;32melif\u001b[0m \u001b[0mself\u001b[0m\u001b[0;34m.\u001b[0m\u001b[0m_stateful_fn\u001b[0m \u001b[0;32mis\u001b[0m \u001b[0;32mnot\u001b[0m \u001b[0;32mNone\u001b[0m\u001b[0;34m:\u001b[0m\u001b[0;34m\u001b[0m\u001b[0;34m\u001b[0m\u001b[0m\n\u001b[1;32m    949\u001b[0m       \u001b[0;31m# Release the lock early so that multiple threads can perform the call\u001b[0m\u001b[0;34m\u001b[0m\u001b[0;34m\u001b[0m\u001b[0;34m\u001b[0m\u001b[0m\n",
            "\u001b[0;32m/usr/local/lib/python3.7/dist-packages/tensorflow/python/eager/function.py\u001b[0m in \u001b[0;36m__call__\u001b[0;34m(self, *args, **kwargs)\u001b[0m\n\u001b[1;32m   2955\u001b[0m        filtered_flat_args) = self._maybe_define_function(args, kwargs)\n\u001b[1;32m   2956\u001b[0m     return graph_function._call_flat(\n\u001b[0;32m-> 2957\u001b[0;31m         filtered_flat_args, captured_inputs=graph_function.captured_inputs)  # pylint: disable=protected-access\n\u001b[0m\u001b[1;32m   2958\u001b[0m \u001b[0;34m\u001b[0m\u001b[0m\n\u001b[1;32m   2959\u001b[0m   \u001b[0;34m@\u001b[0m\u001b[0mproperty\u001b[0m\u001b[0;34m\u001b[0m\u001b[0;34m\u001b[0m\u001b[0m\n",
            "\u001b[0;32m/usr/local/lib/python3.7/dist-packages/tensorflow/python/eager/function.py\u001b[0m in \u001b[0;36m_call_flat\u001b[0;34m(self, args, captured_inputs, cancellation_manager)\u001b[0m\n\u001b[1;32m   1852\u001b[0m       \u001b[0;31m# No tape is watching; skip to running the function.\u001b[0m\u001b[0;34m\u001b[0m\u001b[0;34m\u001b[0m\u001b[0;34m\u001b[0m\u001b[0m\n\u001b[1;32m   1853\u001b[0m       return self._build_call_outputs(self._inference_function.call(\n\u001b[0;32m-> 1854\u001b[0;31m           ctx, args, cancellation_manager=cancellation_manager))\n\u001b[0m\u001b[1;32m   1855\u001b[0m     forward_backward = self._select_forward_and_backward_functions(\n\u001b[1;32m   1856\u001b[0m         \u001b[0margs\u001b[0m\u001b[0;34m,\u001b[0m\u001b[0;34m\u001b[0m\u001b[0;34m\u001b[0m\u001b[0m\n",
            "\u001b[0;32m/usr/local/lib/python3.7/dist-packages/tensorflow/python/eager/function.py\u001b[0m in \u001b[0;36mcall\u001b[0;34m(self, ctx, args, cancellation_manager)\u001b[0m\n\u001b[1;32m    502\u001b[0m               \u001b[0minputs\u001b[0m\u001b[0;34m=\u001b[0m\u001b[0margs\u001b[0m\u001b[0;34m,\u001b[0m\u001b[0;34m\u001b[0m\u001b[0;34m\u001b[0m\u001b[0m\n\u001b[1;32m    503\u001b[0m               \u001b[0mattrs\u001b[0m\u001b[0;34m=\u001b[0m\u001b[0mattrs\u001b[0m\u001b[0;34m,\u001b[0m\u001b[0;34m\u001b[0m\u001b[0;34m\u001b[0m\u001b[0m\n\u001b[0;32m--> 504\u001b[0;31m               ctx=ctx)\n\u001b[0m\u001b[1;32m    505\u001b[0m         \u001b[0;32melse\u001b[0m\u001b[0;34m:\u001b[0m\u001b[0;34m\u001b[0m\u001b[0;34m\u001b[0m\u001b[0m\n\u001b[1;32m    506\u001b[0m           outputs = execute.execute_with_cancellation(\n",
            "\u001b[0;32m/usr/local/lib/python3.7/dist-packages/tensorflow/python/eager/execute.py\u001b[0m in \u001b[0;36mquick_execute\u001b[0;34m(op_name, num_outputs, inputs, attrs, ctx, name)\u001b[0m\n\u001b[1;32m     53\u001b[0m     \u001b[0mctx\u001b[0m\u001b[0;34m.\u001b[0m\u001b[0mensure_initialized\u001b[0m\u001b[0;34m(\u001b[0m\u001b[0;34m)\u001b[0m\u001b[0;34m\u001b[0m\u001b[0;34m\u001b[0m\u001b[0m\n\u001b[1;32m     54\u001b[0m     tensors = pywrap_tfe.TFE_Py_Execute(ctx._handle, device_name, op_name,\n\u001b[0;32m---> 55\u001b[0;31m                                         inputs, attrs, num_outputs)\n\u001b[0m\u001b[1;32m     56\u001b[0m   \u001b[0;32mexcept\u001b[0m \u001b[0mcore\u001b[0m\u001b[0;34m.\u001b[0m\u001b[0m_NotOkStatusException\u001b[0m \u001b[0;32mas\u001b[0m \u001b[0me\u001b[0m\u001b[0;34m:\u001b[0m\u001b[0;34m\u001b[0m\u001b[0;34m\u001b[0m\u001b[0m\n\u001b[1;32m     57\u001b[0m     \u001b[0;32mif\u001b[0m \u001b[0mname\u001b[0m \u001b[0;32mis\u001b[0m \u001b[0;32mnot\u001b[0m \u001b[0;32mNone\u001b[0m\u001b[0;34m:\u001b[0m\u001b[0;34m\u001b[0m\u001b[0;34m\u001b[0m\u001b[0m\n",
            "\u001b[0;31mKeyboardInterrupt\u001b[0m: "
          ]
        }
      ]
    },
    {
      "cell_type": "code",
      "source": [
        "new_pair = []\n",
        "\n",
        "vec = get_embedding()\n",
        "Lvec = np.array([vec[e] for e in rest_set_1])\n",
        "Rvec = np.array([vec[e] for e in rest_set_2])\n",
        "Lvec = Lvec / np.linalg.norm(Lvec,axis=-1,keepdims=True)\n",
        "Rvec = Rvec / np.linalg.norm(Rvec,axis=-1,keepdims=True)"
      ],
      "metadata": {
        "id": "dQbo1k5potaq"
      },
      "execution_count": null,
      "outputs": []
    },
    {
      "cell_type": "code",
      "source": [
        "_,_,A = eval_alignment_by_sim_mat(Lvec, Rvec, [1, 5, 10], 16,10,True,False)\n",
        "_,_,B = eval_alignment_by_sim_mat(Rvec, Lvec,[1, 5, 10], 16,10,True,False)\n",
        "\n",
        "for i in range(1,len(A)):\n",
        "    for j in range(len(A[i,1:])):\n",
        "        if(i in B[A[i,j],:]):\n",
        "            new_pair.append([rest_set_1[i],rest_set_2[A[i,j]]])\n",
        "            break;\n",
        "    "
      ],
      "metadata": {
        "id": "qKiyphGYoJ_1",
        "outputId": "ed1601c1-7afb-419e-9006-c5155db01fc8",
        "colab": {
          "base_uri": "https://localhost:8080/",
          "height": 246
        }
      },
      "execution_count": null,
      "outputs": [
        {
          "output_type": "error",
          "ename": "TypeError",
          "evalue": "ignored",
          "traceback": [
            "\u001b[0;31m---------------------------------------------------------------------------\u001b[0m",
            "\u001b[0;31mTypeError\u001b[0m                                 Traceback (most recent call last)",
            "\u001b[0;32m<ipython-input-17-aa5d18c51c29>\u001b[0m in \u001b[0;36m<module>\u001b[0;34m()\u001b[0m\n\u001b[1;32m      3\u001b[0m \u001b[0;34m\u001b[0m\u001b[0m\n\u001b[1;32m      4\u001b[0m \u001b[0;32mfor\u001b[0m \u001b[0mi\u001b[0m \u001b[0;32min\u001b[0m \u001b[0mrange\u001b[0m\u001b[0;34m(\u001b[0m\u001b[0mlen\u001b[0m\u001b[0;34m(\u001b[0m\u001b[0mA\u001b[0m\u001b[0;34m)\u001b[0m\u001b[0;34m)\u001b[0m\u001b[0;34m:\u001b[0m\u001b[0;34m\u001b[0m\u001b[0;34m\u001b[0m\u001b[0m\n\u001b[0;32m----> 5\u001b[0;31m     \u001b[0;32mfor\u001b[0m \u001b[0mj\u001b[0m \u001b[0;32min\u001b[0m \u001b[0mrange\u001b[0m\u001b[0;34m(\u001b[0m\u001b[0mlen\u001b[0m\u001b[0;34m(\u001b[0m\u001b[0mA\u001b[0m\u001b[0;34m[\u001b[0m\u001b[0mi\u001b[0m\u001b[0;34m,\u001b[0m\u001b[0;34m:\u001b[0m\u001b[0;34m]\u001b[0m\u001b[0;34m)\u001b[0m\u001b[0;34m)\u001b[0m\u001b[0;34m:\u001b[0m\u001b[0;34m\u001b[0m\u001b[0;34m\u001b[0m\u001b[0m\n\u001b[0m\u001b[1;32m      6\u001b[0m         \u001b[0;32mif\u001b[0m\u001b[0;34m(\u001b[0m\u001b[0mi\u001b[0m \u001b[0;32min\u001b[0m \u001b[0mB\u001b[0m\u001b[0;34m[\u001b[0m\u001b[0mA\u001b[0m\u001b[0;34m[\u001b[0m\u001b[0mi\u001b[0m\u001b[0;34m,\u001b[0m\u001b[0mj\u001b[0m\u001b[0;34m]\u001b[0m\u001b[0;34m,\u001b[0m\u001b[0;34m:\u001b[0m\u001b[0;34m]\u001b[0m\u001b[0;34m)\u001b[0m\u001b[0;34m:\u001b[0m\u001b[0;34m\u001b[0m\u001b[0;34m\u001b[0m\u001b[0m\n\u001b[1;32m      7\u001b[0m             \u001b[0mnew_pair\u001b[0m\u001b[0;34m.\u001b[0m\u001b[0mappend\u001b[0m\u001b[0;34m(\u001b[0m\u001b[0;34m[\u001b[0m\u001b[0mrest_set_1\u001b[0m\u001b[0;34m[\u001b[0m\u001b[0mi\u001b[0m\u001b[0;34m]\u001b[0m\u001b[0;34m,\u001b[0m\u001b[0mrest_set_2\u001b[0m\u001b[0;34m[\u001b[0m\u001b[0mA\u001b[0m\u001b[0;34m[\u001b[0m\u001b[0mi\u001b[0m\u001b[0;34m,\u001b[0m\u001b[0mj\u001b[0m\u001b[0;34m]\u001b[0m\u001b[0;34m]\u001b[0m\u001b[0;34m]\u001b[0m\u001b[0;34m)\u001b[0m\u001b[0;34m\u001b[0m\u001b[0;34m\u001b[0m\u001b[0m\n",
            "\u001b[0;31mTypeError\u001b[0m: list indices must be integers or slices, not tuple"
          ]
        }
      ]
    },
    {
      "cell_type": "code",
      "source": [
        "_,_,A = eval_alignment_by_sim_mat(Lvec, Rvec, [1, 5, 10], 16,10,True,False)\n",
        "_,_,B = eval_alignment_by_sim_mat(Rvec, Lvec,[1, 5, 10], 16,10,True,False)\n"
      ],
      "metadata": {
        "id": "NOmSFAtbzVKj"
      },
      "execution_count": null,
      "outputs": []
    },
    {
      "cell_type": "code",
      "source": [
        "new_pair = []\n",
        "for i in range(len(A)):\n",
        "    if i == B[A[i,0],0]:\n",
        "        has_other_pair = 0\n",
        "        for _i in range(1,3):\n",
        "            if(_i in B[A[i,_i],:3]):\n",
        "                has_other_pair = 1\n",
        "                break;\n",
        "\n",
        "        if has_other_pair == 0:\n",
        "              #print([rest_set_1[i],rest_set_2[A[i,j]]])\n",
        "              new_pair.append([rest_set_1[i],rest_set_2[A[i,j]]])\n"
      ],
      "metadata": {
        "id": "76snx-9lqecS"
      },
      "execution_count": null,
      "outputs": []
    },
    {
      "cell_type": "code",
      "source": [
        "print(len(A),new_pair.__len__(),rest_set_1.__len__())"
      ],
      "metadata": {
        "id": "Xyk0g5iMpB_E",
        "outputId": "a8c3abff-9e78-4355-a2a7-11dce78ea6d3",
        "colab": {
          "base_uri": "https://localhost:8080/"
        }
      },
      "execution_count": null,
      "outputs": [
        {
          "output_type": "stream",
          "name": "stdout",
          "text": [
            "192 68 192\n"
          ]
        }
      ]
    },
    {
      "cell_type": "code",
      "source": [
        "A = A[0]\n",
        "B = B[0]\n",
        "\n",
        "for i in range(len(A)):\n",
        "    for j in range(3):\n",
        "        if(i in B[A[i,j],:]):\n",
        "            new_pair.append([rest_set_1[i],rest_set_2[A[i,j]]])\n",
        "            break;"
      ],
      "metadata": {
        "id": "XQJJDTg-qD35",
        "outputId": "5daf3ea1-ad57-422c-8c07-0f3dd62efb02",
        "colab": {
          "base_uri": "https://localhost:8080/",
          "height": 246
        }
      },
      "execution_count": null,
      "outputs": [
        {
          "output_type": "error",
          "ename": "TypeError",
          "evalue": "ignored",
          "traceback": [
            "\u001b[0;31m---------------------------------------------------------------------------\u001b[0m",
            "\u001b[0;31mTypeError\u001b[0m                                 Traceback (most recent call last)",
            "\u001b[0;32m<ipython-input-28-1db963472a3a>\u001b[0m in \u001b[0;36m<module>\u001b[0;34m()\u001b[0m\n\u001b[1;32m      2\u001b[0m \u001b[0mB\u001b[0m \u001b[0;34m=\u001b[0m \u001b[0mB\u001b[0m\u001b[0;34m[\u001b[0m\u001b[0;36m0\u001b[0m\u001b[0;34m]\u001b[0m\u001b[0;34m\u001b[0m\u001b[0;34m\u001b[0m\u001b[0m\n\u001b[1;32m      3\u001b[0m \u001b[0;34m\u001b[0m\u001b[0m\n\u001b[0;32m----> 4\u001b[0;31m \u001b[0;32mfor\u001b[0m \u001b[0mi\u001b[0m \u001b[0;32min\u001b[0m \u001b[0mrange\u001b[0m\u001b[0;34m(\u001b[0m\u001b[0mlen\u001b[0m\u001b[0;34m(\u001b[0m\u001b[0mA\u001b[0m\u001b[0;34m)\u001b[0m\u001b[0;34m)\u001b[0m\u001b[0;34m:\u001b[0m\u001b[0;34m\u001b[0m\u001b[0;34m\u001b[0m\u001b[0m\n\u001b[0m\u001b[1;32m      5\u001b[0m     \u001b[0;32mfor\u001b[0m \u001b[0mj\u001b[0m \u001b[0;32min\u001b[0m \u001b[0mrange\u001b[0m\u001b[0;34m(\u001b[0m\u001b[0;36m3\u001b[0m\u001b[0;34m)\u001b[0m\u001b[0;34m:\u001b[0m\u001b[0;34m\u001b[0m\u001b[0;34m\u001b[0m\u001b[0m\n\u001b[1;32m      6\u001b[0m         \u001b[0;32mif\u001b[0m\u001b[0;34m(\u001b[0m\u001b[0mi\u001b[0m \u001b[0;32min\u001b[0m \u001b[0mB\u001b[0m\u001b[0;34m[\u001b[0m\u001b[0mA\u001b[0m\u001b[0;34m[\u001b[0m\u001b[0mi\u001b[0m\u001b[0;34m,\u001b[0m\u001b[0mj\u001b[0m\u001b[0;34m]\u001b[0m\u001b[0;34m,\u001b[0m\u001b[0;34m:\u001b[0m\u001b[0;34m]\u001b[0m\u001b[0;34m)\u001b[0m\u001b[0;34m:\u001b[0m\u001b[0;34m\u001b[0m\u001b[0;34m\u001b[0m\u001b[0m\n",
            "\u001b[0;31mTypeError\u001b[0m: object of type 'numpy.int64' has no len()"
          ]
        }
      ]
    },
    {
      "cell_type": "code",
      "source": [
        "A"
      ],
      "metadata": {
        "id": "LNz5Gc0rqNAr",
        "outputId": "72f80ed1-a073-40c7-d15b-46415d351b91",
        "colab": {
          "base_uri": "https://localhost:8080/"
        }
      },
      "execution_count": null,
      "outputs": [
        {
          "output_type": "execute_result",
          "data": {
            "text/plain": [
              "111"
            ]
          },
          "metadata": {},
          "execution_count": 30
        }
      ]
    },
    {
      "cell_type": "code",
      "source": [
        "print(len(A[i,:]))"
      ],
      "metadata": {
        "id": "NdekLMMVpxG7",
        "outputId": "8d167b63-50f6-420e-cc7f-6b5980626c1a",
        "colab": {
          "base_uri": "https://localhost:8080/"
        }
      },
      "execution_count": null,
      "outputs": [
        {
          "output_type": "stream",
          "name": "stdout",
          "text": [
            "10\n"
          ]
        }
      ]
    },
    {
      "cell_type": "code",
      "source": [
        "print(len(rest_set_1),len(new_pair))"
      ],
      "metadata": {
        "id": "I7HcZrFypj_8",
        "outputId": "8c349aab-4891-42f2-a779-ff8e10028b30",
        "colab": {
          "base_uri": "https://localhost:8080/"
        }
      },
      "execution_count": null,
      "outputs": [
        {
          "output_type": "stream",
          "name": "stdout",
          "text": [
            "192 192\n"
          ]
        }
      ]
    },
    {
      "cell_type": "code",
      "source": [
        "new_pair"
      ],
      "metadata": {
        "id": "eDaFZydxosYK",
        "outputId": "d0987dfd-895f-470d-9240-04d063ff9a58",
        "colab": {
          "base_uri": "https://localhost:8080/"
        }
      },
      "execution_count": null,
      "outputs": [
        {
          "output_type": "execute_result",
          "data": {
            "text/plain": [
              "[[17619, 33505],\n",
              " [16807, 31987],\n",
              " [11646, 29888],\n",
              " [12066, 28983],\n",
              " [11758, 34029],\n",
              " [14503, 22664],\n",
              " [18862, 35938],\n",
              " [7904, 22013],\n",
              " [18112, 31932],\n",
              " [483, 28313],\n",
              " [8158, 28513],\n",
              " [4096, 25393],\n",
              " [16573, 28983],\n",
              " [5145, 30179],\n",
              " [2504, 36934],\n",
              " [17585, 33827],\n",
              " [17234, 37803],\n",
              " [14683, 25589],\n",
              " [13680, 33014],\n",
              " [5478, 32719],\n",
              " [13197, 20373],\n",
              " [16281, 32596],\n",
              " [9715, 30130],\n",
              " [18418, 27503],\n",
              " [5003, 37984],\n",
              " [15233, 27344],\n",
              " [9375, 22324],\n",
              " [5567, 37238],\n",
              " [7161, 32596],\n",
              " [16615, 24138],\n",
              " [692, 22013],\n",
              " [18260, 20051],\n",
              " [16809, 30997],\n",
              " [16295, 34170],\n",
              " [1599, 33496],\n",
              " [15039, 34376],\n",
              " [1169, 28955],\n",
              " [15375, 33496],\n",
              " [8630, 34029],\n",
              " [6525, 28637],\n",
              " [7532, 27599],\n",
              " [3184, 29643],\n",
              " [12697, 19618],\n",
              " [18014, 30296],\n",
              " [2753, 34029],\n",
              " [3758, 33646],\n",
              " [1482, 30130],\n",
              " [18579, 27503],\n",
              " [30, 26841],\n",
              " [2852, 37032],\n",
              " [118, 30546],\n",
              " [9473, 26067],\n",
              " [140, 24517],\n",
              " [16244, 25589],\n",
              " [7754, 31932],\n",
              " [15296, 36205],\n",
              " [2884, 27503],\n",
              " [10614, 28014],\n",
              " [1392, 27503],\n",
              " [14907, 27599],\n",
              " [5852, 20742],\n",
              " [16756, 32824],\n",
              " [4211, 22664],\n",
              " [211, 36885],\n",
              " [9841, 21572],\n",
              " [4976, 28637],\n",
              " [7877, 19811],\n",
              " [10633, 32549],\n",
              " [6536, 27503],\n",
              " [13957, 27344],\n",
              " [12560, 28313],\n",
              " [17894, 28955],\n",
              " [18204, 26069],\n",
              " [4189, 23158],\n",
              " [16799, 34029],\n",
              " [10148, 20742],\n",
              " [15205, 34376],\n",
              " [17348, 33638],\n",
              " [6549, 25735],\n",
              " [5788, 36205],\n",
              " [14528, 20320],\n",
              " [15591, 29347],\n",
              " [1381, 36626],\n",
              " [15026, 33496],\n",
              " [2326, 30981],\n",
              " [14780, 20963],\n",
              " [1015, 25160],\n",
              " [7162, 25027],\n",
              " [1090, 34761],\n",
              " [5905, 21250],\n",
              " [4824, 37803],\n",
              " [17007, 22013],\n",
              " [12949, 24138],\n",
              " [2283, 28885],\n",
              " [15075, 30863],\n",
              " [2925, 28983],\n",
              " [8681, 25589],\n",
              " [16312, 27503],\n",
              " [13187, 26841],\n",
              " [5398, 21233],\n",
              " [10240, 29347],\n",
              " [17728, 26911],\n",
              " [16277, 32879],\n",
              " [6124, 24451],\n",
              " [706, 30332],\n",
              " [6358, 22409],\n",
              " [19042, 35366],\n",
              " [8370, 24517],\n",
              " [15409, 32596],\n",
              " [2891, 30997],\n",
              " [10165, 26270],\n",
              " [8122, 33638],\n",
              " [90, 33051],\n",
              " [10367, 34373],\n",
              " [6209, 34761],\n",
              " [12506, 21572],\n",
              " [10292, 33022],\n",
              " [13742, 29261],\n",
              " [9740, 37032],\n",
              " [17749, 27993],\n",
              " [1092, 34642],\n",
              " [16080, 24483],\n",
              " [11881, 36644],\n",
              " [16670, 22409],\n",
              " [14010, 27599],\n",
              " [7300, 28014],\n",
              " [16964, 34029],\n",
              " [15850, 20320],\n",
              " [14995, 36501],\n",
              " [10360, 21572],\n",
              " [2850, 31138],\n",
              " [5075, 34029],\n",
              " [16640, 24743],\n",
              " [7403, 37803],\n",
              " [12201, 28851],\n",
              " [15973, 27077],\n",
              " [13300, 22664],\n",
              " [13735, 34708],\n",
              " [18306, 20320],\n",
              " [5975, 22664],\n",
              " [10253, 26067],\n",
              " [16937, 34708],\n",
              " [6934, 25160],\n",
              " [17180, 28983],\n",
              " [13439, 25012],\n",
              " [3250, 37823],\n",
              " [18985, 29261],\n",
              " [11079, 36323],\n",
              " [7363, 29888],\n",
              " [12868, 37235],\n",
              " [2594, 30296],\n",
              " [12883, 34376],\n",
              " [10828, 25635],\n",
              " [3556, 31987],\n",
              " [9922, 22013],\n",
              " [16366, 34642],\n",
              " [17759, 21134],\n",
              " [12221, 19418],\n",
              " [12313, 32719],\n",
              " [4633, 33378],\n",
              " [13748, 35920],\n",
              " [16041, 22664],\n",
              " [17381, 32549],\n",
              " [6426, 26270],\n",
              " [7697, 37984],\n",
              " [11537, 29629],\n",
              " [12494, 31964],\n",
              " [11061, 32959],\n",
              " [1448, 37238],\n",
              " [3543, 24743],\n",
              " [13734, 33771],\n",
              " [7991, 20742],\n",
              " [13911, 25393],\n",
              " [14196, 23371],\n",
              " [6900, 37032],\n",
              " [7238, 27344],\n",
              " [6228, 31996],\n",
              " [15054, 26841],\n",
              " [10683, 30997],\n",
              " [5955, 26069],\n",
              " [16780, 34249],\n",
              " [11651, 28885],\n",
              " [5006, 35591],\n",
              " [17656, 36644],\n",
              " [6506, 28955],\n",
              " [7348, 20051],\n",
              " [13763, 32719],\n",
              " [16058, 34642],\n",
              " [6570, 25160],\n",
              " [17397, 24743],\n",
              " [17685, 34708],\n",
              " [1323, 32719]]"
            ]
          },
          "metadata": {},
          "execution_count": 22
        }
      ]
    },
    {
      "cell_type": "code",
      "source": [
        "CSLS_test()     "
      ],
      "metadata": {
        "colab": {
          "base_uri": "https://localhost:8080/"
        },
        "id": "vZKoQWDVoFjA",
        "outputId": "6ca13249-99d9-4870-f9ed-77db7cc67514"
      },
      "execution_count": null,
      "outputs": [
        {
          "output_type": "stream",
          "name": "stdout",
          "text": [
            "accurate results: hits@[1, 5, 10] = [65.47 86.73 91.39], mr = 13.934, mrr = 0.749, time = 48.036 s \n",
            "number of edges is 363526.6666666414\n"
          ]
        }
      ]
    }
  ],
  "metadata": {
    "colab": {
      "collapsed_sections": [],
      "name": "EA.ipynb",
      "provenance": [],
      "include_colab_link": true
    },
    "kernelspec": {
      "display_name": "Python 3",
      "name": "python3"
    },
    "language_info": {
      "name": "python"
    },
    "accelerator": "GPU"
  },
  "nbformat": 4,
  "nbformat_minor": 0
}