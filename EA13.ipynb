{
  "cells": [
    {
      "cell_type": "markdown",
      "metadata": {
        "id": "view-in-github",
        "colab_type": "text"
      },
      "source": [
        "<a href=\"https://colab.research.google.com/github/TMUITLab/EAFR/blob/master/EA13.ipynb\" target=\"_parent\"><img src=\"https://colab.research.google.com/assets/colab-badge.svg\" alt=\"Open In Colab\"/></a>"
      ]
    },
    {
      "cell_type": "code",
      "execution_count": 1,
      "metadata": {
        "colab": {
          "base_uri": "https://localhost:8080/"
        },
        "id": "WjActARX7sCY",
        "outputId": "d3a7e657-2560-4947-904a-ecab9ba5c41c"
      },
      "outputs": [
        {
          "output_type": "stream",
          "name": "stdout",
          "text": [
            "/content\n",
            "Cloning into 'GCN-Align'...\n",
            "remote: Enumerating objects: 53, done.\u001b[K\n",
            "remote: Total 53 (delta 0), reused 0 (delta 0), pack-reused 53\u001b[K\n",
            "Unpacking objects: 100% (53/53), done.\n",
            "Cloning into 'RREA'...\n",
            "remote: Enumerating objects: 32, done.\u001b[K\n",
            "remote: Counting objects: 100% (32/32), done.\u001b[K\n",
            "remote: Compressing objects: 100% (30/30), done.\u001b[K\n",
            "remote: Total 32 (delta 4), reused 0 (delta 0), pack-reused 0\u001b[K\n",
            "Unpacking objects: 100% (32/32), done.\n"
          ]
        }
      ],
      "source": [
        "%cd '/content'\n",
        "!git clone https://github.com/1049451037/GCN-Align\n",
        "!git clone https://github.com/MaoXinn/RREA"
      ]
    },
    {
      "cell_type": "code",
      "execution_count": 27,
      "metadata": {
        "id": "ZB2YBVkb4pYB"
      },
      "outputs": [],
      "source": [
        "import warnings\n",
        "warnings.filterwarnings('ignore')\n",
        "\n",
        "from importlib.machinery import SourceFileLoader\n",
        "from google.colab import files\n",
        "\n",
        "layer = SourceFileLoader(\"layer\", \"/content/RREA/CIKM/layer.py\").load_module()\n",
        "utils = SourceFileLoader(\"utils\", \"/content/RREA/CIKM/utils.py\").load_module()\n",
        "CSLS = SourceFileLoader(\"CSLS\", \"/content/RREA/CIKM/CSLS.py\").load_module()\n",
        "import tensorflow as tf\n",
        "import os\n",
        "import time\n",
        "import random\n",
        "import keras\n",
        "import pickle\n",
        "from tqdm import *\n",
        "import numpy as np\n",
        "from utils import *\n",
        "from CSLS import *\n",
        "import tensorflow as tf\n",
        "import keras.backend as K\n",
        "from keras.layers import *\n",
        "from layer import NR_GraphAttention\n",
        "\n",
        "os.environ[\"CUDA_VISIBLE_DEVICES\"] = \"0\"\n",
        "os.environ[\"TF_CPP_MIN_LOG_LEVEL\"]=\"2\"\n",
        "tf.compat.v1.logging.set_verbosity(tf.compat.v1.logging.ERROR)"
      ]
    },
    {
      "cell_type": "code",
      "execution_count": 14,
      "metadata": {
        "colab": {
          "base_uri": "https://localhost:8080/"
        },
        "id": "oYvCCmAe62rP",
        "outputId": "a8be49dd-7e68-4d3c-8c49-ad181a9e4881"
      },
      "outputs": [
        {
          "output_type": "stream",
          "name": "stdout",
          "text": [
            "38960 3024\n"
          ]
        }
      ],
      "source": [
        "lang = 'zh'\n",
        "radj,train_pair,dev_pair,adj_matrix,r_index,r_val,adj_features,rel_features,nadj,char_size = load_data('/content/GCN-Align/data/%s_en/'%lang,train_ratio=0.30)\n",
        "train_pair_main=train_pair\n",
        "adj_matrix = np.stack(adj_matrix.nonzero(),axis = 1)\n",
        "rel_matrix,rel_val = np.stack(rel_features.nonzero(),axis = 1),rel_features.data\n",
        "ent_matrix,ent_val = np.stack(adj_features.nonzero(),axis = 1),adj_features.data"
      ]
    },
    {
      "cell_type": "code",
      "source": [
        "single_triple_set = set()\n",
        "rel_size = rel_features.shape[1] \n",
        "degree = np.zeros([adj_features.shape[0],3])\n",
        "for triple in radj:\n",
        "    single_triple_set.add((triple[0],triple[1]))\n",
        "    if triple[2] < rel_size //2:\n",
        "        degree[triple[0],0] += 1\n",
        "        degree[triple[1],0] += 1\n",
        "        degree[triple[0],2] += 1\n",
        "        degree[triple[1],1] += 1\n",
        "\n",
        "dev_pair_degrees = np.zeros([2,len(dev_pair),3])\n",
        "for i in range(len(dev_pair)):\n",
        "    dev_pair_degrees[0,i,0] = degree[dev_pair[i][0],0]\n",
        "    dev_pair_degrees[0,i,1] = degree[dev_pair[i][0],1]\n",
        "    dev_pair_degrees[0,i,2] = degree[dev_pair[i][0],2]\n",
        "    dev_pair_degrees[1,i,0] = degree[dev_pair[i][1],0]\n",
        "    dev_pair_degrees[1,i,1] = degree[dev_pair[i][1],1]\n",
        "    dev_pair_degrees[1,i,2] = degree[dev_pair[i][1],2]\n",
        "map = dict()\n",
        "for t in train_pair:\n",
        "    map[t[0]] = t[1]\n",
        "    map[t[1]] = t[0]"
      ],
      "metadata": {
        "id": "2-SeSZ4Gvppc"
      },
      "execution_count": 13,
      "outputs": []
    },
    {
      "cell_type": "code",
      "source": [
        "entity1, rel1, triples1 = load_triples('/content/GCN-Align/data/%s_en/'%lang + 'triples_1')\n",
        "num_entity_1 = len(entity1)\n",
        "num_rel_1 = len(rel1)"
      ],
      "metadata": {
        "id": "qjqNt7oeBXjK"
      },
      "execution_count": null,
      "outputs": []
    },
    {
      "cell_type": "code",
      "execution_count": 30,
      "metadata": {
        "id": "t29mIfJT68i3"
      },
      "outputs": [],
      "source": [
        "layer = SourceFileLoader(\"layer\", \"/content/RREA/CIKM/layer.py\").load_module()\n",
        "\n",
        "from layer import NR_GraphAttention\n",
        "tf.keras.backend.clear_session()\n",
        "\n",
        "node_size = adj_features.shape[0]\n",
        "rel_size = rel_features.shape[1]\n",
        "triple_size = len(adj_matrix)\n",
        "batch_size = node_size\n",
        "datas = []\n",
        "# e stand for entity ,r stand for relation , E stand for encoder(e), c stand for character embedding , R stand for encoder(r)\n",
        "run_name = 'eER'\n",
        "\n",
        "\n",
        "class TokenEmbedding(keras.layers.Embedding):\n",
        "    \"\"\"Embedding layer with weights returned.\"\"\"\n",
        "\n",
        "    def compute_output_shape(self, input_shape):\n",
        "        return self.input_dim, self.output_dim\n",
        "\n",
        "    def compute_mask(self, inputs, mask=None):\n",
        "        return None\n",
        "\n",
        "    def call(self, inputs):\n",
        "        return self.embeddings\n",
        "    \n",
        "def get_embedding():\n",
        "    inputs = [adj_matrix,r_index,r_val,rel_matrix,ent_matrix,radj,nadj]\n",
        "    inputs = [np.expand_dims(item,axis=0) for item in inputs]\n",
        "    return get_emb.predict_on_batch(inputs)\n",
        "\n",
        "\n",
        "def test(wrank = None):\n",
        "    vec = get_embedding()\n",
        "    return  get_hits(vec,dev_pair,wrank=wrank)\n",
        "\n",
        "def CSLS_test(thread_number = 16, csls=10,accurate = True):\n",
        "    vec = get_embedding()\n",
        "    trest_set_1 = [e1 for e1, e2 in dev_pair]\n",
        "    trest_set_2 = [e2 for e1, e2 in dev_pair]\n",
        "    Lvec = np.array([vec[e1] for e1, e2 in dev_pair])\n",
        "    Rvec = np.array([vec[e2] for e1, e2 in dev_pair])\n",
        "    Lvec = Lvec / np.linalg.norm(Lvec,axis=-1,keepdims=True)\n",
        "    Rvec = Rvec / np.linalg.norm(Rvec,axis=-1,keepdims=True)\n",
        "    lprec,ldata = eval_alignment_by_sim_mat(Lvec, Rvec, [1, 5, 10], thread_number, csls=csls, accurate=accurate)\n",
        "    rprec,rdata = eval_alignment_by_sim_mat(Rvec, Lvec, [1, 5, 10], thread_number, csls=csls, accurate=accurate)\n",
        "    results = np.zeros([2,len(dev_pair)])\n",
        "\n",
        "    for i in range(len(dev_pair)):\n",
        "        if((i,i) in lprec):\n",
        "            results[0,i] = 1\n",
        "        if((i,i) in rprec):\n",
        "            results[1,i] = 1\n",
        "    datas.append((results,ldata,rdata))\n",
        "    save_datas()\n",
        "    return None\n",
        "def save_datas():\n",
        "    with open('/content/RREA/'+lang+\"_\"+run_name+'.pkl', 'wb') as f:  # Python 3: open(..., 'wb')\n",
        "        pickle.dump([dev_pair_degrees,datas], f)\n",
        "\n",
        "def load_datas():\n",
        "    with open('/content/RREA/'+lang+\"_\"+run_name+'.pkl', 'rb') as f:  # Python 3: open(..., 'wb')\n",
        "        mydata =pickle.load([dev_pair_degrees,datas], f)\n",
        "    return mydata;\n",
        "\n",
        "def get_train_set(batch_size = batch_size):\n",
        "    negative_ratio =  batch_size // len(train_pair) + 1\n",
        "    train_set = np.reshape(np.repeat(np.expand_dims(train_pair,axis=0),axis=0,repeats=negative_ratio),newshape=(-1,2))\n",
        "    np.random.shuffle(train_set); train_set = train_set[:batch_size]\n",
        "    train_set = np.concatenate([train_set,np.random.randint(0,node_size,[train_set.shape[0],4])],axis = -1)\n",
        "    return train_set\n",
        "\n",
        "def get_train_set1(batch_size = batch_size):\n",
        "    train_set = train_pair\n",
        "    np.random.shuffle(train_set);\n",
        "    train_set = np.concatenate([train_set,np.random.randint(0,node_size,train_set.shape)],axis = -1)\n",
        "    return train_set\n",
        "\n",
        "def get_trgat(node_size,rel_size,node_hidden,rel_hidden,triple_size,n_attn_heads = 2,dropout_rate = 0,gamma = 3,lr = 0.005,depth = 2):\n",
        "    adj_input = Input(shape=(None,2))\n",
        "    index_input = Input(shape=(None,2),dtype='int64')\n",
        "    val_input = Input(shape = (None,))\n",
        "    rel_adj = Input(shape=(None,2))\n",
        "    ent_adj = Input(shape=(None,2))\n",
        "    radj = Input(shape=(None,3),dtype='int64')\n",
        "    nadj = Input(shape=(None,3))\n",
        "    \n",
        "    # ent_emb = TokenEmbedding(node_size,node_hidden,embeddings_initializer=\"LecunNormal\",trainable = True)(val_input) \n",
        "    # rel_emb = TokenEmbedding(rel_size,node_hidden,embeddings_initializer=\"LecunNormal\",trainable = True)(val_input)\n",
        "    # ch_emb = TokenEmbedding(char_size,node_hidden,embeddings_initializer=\"LecunNormal\",trainable = True)(val_input)\n",
        "\n",
        "    ent_emb = TokenEmbedding(node_size,node_hidden,trainable = True)(val_input) \n",
        "    rel_emb = TokenEmbedding(rel_size,node_hidden,trainable = True)(val_input)\n",
        "    ch_emb = TokenEmbedding(char_size,node_hidden,trainable = True)(val_input)\n",
        "\n",
        "    # E = TokenEmbedding(node_hidden,node_hidden,trainable = True)(val_input)\n",
        "    # R = TokenEmbedding(node_hidden,node_hidden,trainable = True)(val_input)\n",
        "    def ch_avg(tensor,size):\n",
        "        n_adj = tf.squeeze(tensor[0],axis = 0)\n",
        "        adj = K.cast(n_adj[:,0:2],dtype = \"int64\")   \n",
        "        adj = tf.SparseTensor(indices=adj, values=tf.ones_like(n_adj[:,2],dtype = 'float32') , dense_shape=(node_size,size)) \n",
        "        adj = tf.compat.v1.sparse_softmax(adj) \n",
        "        l_adj = tf.compat.v1.sparse_tensor_dense_matmul(adj,tensor[1])\n",
        "        return l_adj\n",
        "\n",
        "    def avg(tensor,size):\n",
        "        adj = K.cast(K.squeeze(tensor[0],axis = 0),dtype = \"int64\")   \n",
        "        adj = tf.SparseTensor(indices=adj, values=tf.ones_like(adj[:,0],dtype = 'float32'), dense_shape=(node_size,size)) \n",
        "        adj = tf.compat.v1.sparse_softmax(adj) \n",
        "        l_adj = tf.compat.v1.sparse_tensor_dense_matmul(adj,tensor[1])\n",
        "        return l_adj\n",
        "\n",
        "    name_feature = Lambda(ch_avg,arguments={'size':char_size})([nadj,ch_emb])\n",
        "    rel_feature = Lambda(avg,arguments={'size':rel_size})([rel_adj,rel_emb])\n",
        "    ent_feature = Lambda(avg,arguments={'size':node_size})([ent_adj,ent_emb])\n",
        "\n",
        "    encoder = NR_GraphAttention(node_size,activation=\"relu\",\n",
        "                                       rel_size = rel_size,\n",
        "                                       depth = 2,\n",
        "                                       attn_heads=n_attn_heads,\n",
        "                                       triple_size = triple_size,\n",
        "                                       attn_heads_reduction='average',   \n",
        "                                       dropout_rate=dropout_rate)\n",
        "    \n",
        "    opt1 = [rel_emb,adj_input,index_input,val_input,radj]\n",
        "    elements = []\n",
        "    coefs = []\n",
        "    for f_name in run_name:\n",
        "        if f_name == 'e':\n",
        "            elements += [ent_emb]\n",
        "            coefs += [-0.5]\n",
        "        elif f_name == 'E':\n",
        "            elements += encoder([ent_feature]+opt1)\n",
        "            coefs += [1.,1.,1.]\n",
        "        elif f_name == 'R':\n",
        "            elements += encoder([rel_feature]+opt1)\n",
        "            coefs += [1.,1.,1.]\n",
        "        elif f_name == 'c':\n",
        "            elements += [name_feature]\n",
        "            coefs += [1.,1.,1.]\n",
        "\n",
        "    #elements = [ent_emb] +   encoder([rel_feature]+opt1)+encoder([ent_feature]+opt1)\n",
        "    #elements = [0.3 * ent_emb[:,:node_hidden//2]]+ el[0:3]+el[6:9]+[0.2 * ent_emb[:,node_hidden//2:]] + el[3:6]+el[9:12]\n",
        "    num_el = elements.__len__()\n",
        "    weight =  tf.Variable(coefs, trainable=False)\n",
        "    weight = 5 * tf.math.softmax(weight)\n",
        "    #weight =  tf.Variable(1 * [-0.2,1.0] + (num_el-2) * [.8], trainable=False)\n",
        "    print(weight)\n",
        "    elements = [weight[idx]*el for idx, el in enumerate(elements)]\n",
        "    out_feature = Concatenate(-1)(elements)\n",
        "    out_feature = Dropout(dropout_rate)(out_feature)\n",
        "    \n",
        "    alignment_input = Input(shape=(None,6),dtype = \"int64\") \n",
        "    #find = Lambda(lambda x:K.gather(reference=x[0],indices=K.cast(K.squeeze(x[1],axis=0), 'int32')))([out_feature,alignment_input])\n",
        "\n",
        "    I = K.cast(K.squeeze(alignment_input,axis=0),dtype = \"int64\")\n",
        "   \n",
        "    A = K.sum(K.abs(K.gather(out_feature,I[:,0])-K.gather(out_feature,I[:,1])),axis=-1,keepdims=True)\n",
        "    loss =  K.relu(1 - K.sum(K.abs(K.gather(out_feature,I[:,0])))) +K.relu(1 - K.sum(K.abs(K.gather(out_feature,I[:,1]))))\n",
        "    for i in range(4):\n",
        "        B = K.sum(K.abs(K.gather(out_feature,I[:,0])-K.gather(out_feature,I[:,2+i])),axis=-1,keepdims=True)\n",
        "        C = K.sum(K.abs(K.gather(out_feature,I[:,1])-K.gather(out_feature,I[:,2+i])),axis=-1,keepdims=True)\n",
        "        loss += K.relu(gamma +A -B) + K.relu(gamma +A -C)\n",
        "\n",
        "    loss =  tf.compat.v1.reduce_sum(loss,keep_dims=True) / (batch_size)    \n",
        "   \n",
        "    inputs = [adj_input,index_input,val_input,rel_adj,ent_adj,radj,nadj]\n",
        "    train_model = keras.Model(inputs = inputs + [alignment_input],outputs = loss)\n",
        "    \n",
        "    train_model.compile(loss=lambda y_true,y_pred: y_pred,optimizer=tf.keras.optimizers.RMSprop(lr=lr))\n",
        "    \n",
        "    feature_model = keras.Model(inputs = inputs,outputs = out_feature)\n",
        "    return train_model,feature_model\n"
      ]
    },
    {
      "cell_type": "code",
      "execution_count": 31,
      "metadata": {
        "id": "Nwoj1iWf69WX",
        "colab": {
          "base_uri": "https://localhost:8080/"
        },
        "outputId": "ef445ee4-81d7-4dbf-f138-4b6495bb625a"
      },
      "outputs": [
        {
          "output_type": "stream",
          "name": "stdout",
          "text": [
            "tf.Tensor(\n",
            "[0.17927486 0.80345416 0.80345416 0.80345416 0.80345416 0.80345416\n",
            " 0.80345416], shape=(7,), dtype=float32)\n",
            "Model: \"model\"\n",
            "__________________________________________________________________________________________________\n",
            " Layer (type)                   Output Shape         Param #     Connected to                     \n",
            "==================================================================================================\n",
            " input_3 (InputLayer)           [(None, None)]       0           []                               \n",
            "                                                                                                  \n",
            " token_embedding (TokenEmbeddin  (38960, 100)        3896000     ['input_3[0][0]']                \n",
            " g)                                                                                               \n",
            "                                                                                                  \n",
            " input_5 (InputLayer)           [(None, None, 2)]    0           []                               \n",
            "                                                                                                  \n",
            " token_embedding_1 (TokenEmbedd  (6048, 100)         604800      ['input_3[0][0]']                \n",
            " ing)                                                                                             \n",
            "                                                                                                  \n",
            " input_4 (InputLayer)           [(None, None, 2)]    0           []                               \n",
            "                                                                                                  \n",
            " lambda_2 (Lambda)              (38960, 100)         0           ['input_5[0][0]',                \n",
            "                                                                  'token_embedding[0][0]']        \n",
            "                                                                                                  \n",
            " input_1 (InputLayer)           [(None, None, 2)]    0           []                               \n",
            "                                                                                                  \n",
            " input_2 (InputLayer)           [(None, None, 2)]    0           []                               \n",
            "                                                                                                  \n",
            " input_6 (InputLayer)           [(None, None, 3)]    0           []                               \n",
            "                                                                                                  \n",
            " lambda_1 (Lambda)              (38960, 100)         0           ['input_4[0][0]',                \n",
            "                                                                  'token_embedding_1[0][0]']      \n",
            "                                                                                                  \n",
            " nr__graph_attention (NR_GraphA  [(38960, 100),      601         ['lambda_2[0][0]',               \n",
            " ttention)                       (None, 100),                     'token_embedding_1[0][0]',      \n",
            "                                 (None, 100)]                     'input_1[0][0]',                \n",
            "                                                                  'input_2[0][0]',                \n",
            "                                                                  'input_3[0][0]',                \n",
            "                                                                  'input_6[0][0]',                \n",
            "                                                                  'lambda_1[0][0]',               \n",
            "                                                                  'token_embedding_1[0][0]',      \n",
            "                                                                  'input_1[0][0]',                \n",
            "                                                                  'input_2[0][0]',                \n",
            "                                                                  'input_3[0][0]',                \n",
            "                                                                  'input_6[0][0]']                \n",
            "                                                                                                  \n",
            " input_8 (InputLayer)           [(None, None, 6)]    0           []                               \n",
            "                                                                                                  \n",
            " tf.math.multiply (TFOpLambda)  (38960, 100)         0           ['token_embedding[0][0]']        \n",
            "                                                                                                  \n",
            " tf.math.multiply_1 (TFOpLambda  (38960, 100)        0           ['nr__graph_attention[0][0]']    \n",
            " )                                                                                                \n",
            "                                                                                                  \n",
            " tf.math.multiply_2 (TFOpLambda  (None, 100)         0           ['nr__graph_attention[0][1]']    \n",
            " )                                                                                                \n",
            "                                                                                                  \n",
            " tf.math.multiply_3 (TFOpLambda  (None, 100)         0           ['nr__graph_attention[0][2]']    \n",
            " )                                                                                                \n",
            "                                                                                                  \n",
            " tf.math.multiply_4 (TFOpLambda  (38960, 100)        0           ['nr__graph_attention[1][0]']    \n",
            " )                                                                                                \n",
            "                                                                                                  \n",
            " tf.math.multiply_5 (TFOpLambda  (None, 100)         0           ['nr__graph_attention[1][1]']    \n",
            " )                                                                                                \n",
            "                                                                                                  \n",
            " tf.math.multiply_6 (TFOpLambda  (None, 100)         0           ['nr__graph_attention[1][2]']    \n",
            " )                                                                                                \n",
            "                                                                                                  \n",
            " tf.compat.v1.squeeze (TFOpLamb  (None, 6)           0           ['input_8[0][0]']                \n",
            " da)                                                                                              \n",
            "                                                                                                  \n",
            " concatenate (Concatenate)      (38960, 700)         0           ['tf.math.multiply[0][0]',       \n",
            "                                                                  'tf.math.multiply_1[0][0]',     \n",
            "                                                                  'tf.math.multiply_2[0][0]',     \n",
            "                                                                  'tf.math.multiply_3[0][0]',     \n",
            "                                                                  'tf.math.multiply_4[0][0]',     \n",
            "                                                                  'tf.math.multiply_5[0][0]',     \n",
            "                                                                  'tf.math.multiply_6[0][0]']     \n",
            "                                                                                                  \n",
            " tf.cast (TFOpLambda)           (None, 6)            0           ['tf.compat.v1.squeeze[0][0]']   \n",
            "                                                                                                  \n",
            " dropout (Dropout)              (38960, 700)         0           ['concatenate[0][0]']            \n",
            "                                                                                                  \n",
            " tf.__operators__.getitem (Slic  (None,)             0           ['tf.cast[0][0]']                \n",
            " ingOpLambda)                                                                                     \n",
            "                                                                                                  \n",
            " tf.__operators__.getitem_1 (Sl  (None,)             0           ['tf.cast[0][0]']                \n",
            " icingOpLambda)                                                                                   \n",
            "                                                                                                  \n",
            " tf.compat.v1.gather (TFOpLambd  (None, 700)         0           ['dropout[0][0]',                \n",
            " a)                                                               'tf.__operators__.getitem[0][0]'\n",
            "                                                                 ]                                \n",
            "                                                                                                  \n",
            " tf.compat.v1.gather_1 (TFOpLam  (None, 700)         0           ['dropout[0][0]',                \n",
            " bda)                                                             'tf.__operators__.getitem_1[0][0\n",
            "                                                                 ]']                              \n",
            "                                                                                                  \n",
            " tf.__operators__.getitem_4 (Sl  (None,)             0           ['tf.cast[0][0]']                \n",
            " icingOpLambda)                                                                                   \n",
            "                                                                                                  \n",
            " tf.__operators__.getitem_5 (Sl  (None,)             0           ['tf.cast[0][0]']                \n",
            " icingOpLambda)                                                                                   \n",
            "                                                                                                  \n",
            " tf.__operators__.getitem_6 (Sl  (None,)             0           ['tf.cast[0][0]']                \n",
            " icingOpLambda)                                                                                   \n",
            "                                                                                                  \n",
            " tf.__operators__.getitem_7 (Sl  (None,)             0           ['tf.cast[0][0]']                \n",
            " icingOpLambda)                                                                                   \n",
            "                                                                                                  \n",
            " tf.__operators__.getitem_2 (Sl  (None,)             0           ['tf.cast[0][0]']                \n",
            " icingOpLambda)                                                                                   \n",
            "                                                                                                  \n",
            " tf.__operators__.getitem_3 (Sl  (None,)             0           ['tf.cast[0][0]']                \n",
            " icingOpLambda)                                                                                   \n",
            "                                                                                                  \n",
            " tf.math.subtract (TFOpLambda)  (None, 700)          0           ['tf.compat.v1.gather[0][0]',    \n",
            "                                                                  'tf.compat.v1.gather_1[0][0]']  \n",
            "                                                                                                  \n",
            " tf.compat.v1.gather_4 (TFOpLam  (None, 700)         0           ['dropout[0][0]',                \n",
            " bda)                                                             'tf.__operators__.getitem_4[0][0\n",
            "                                                                 ]']                              \n",
            "                                                                                                  \n",
            " tf.compat.v1.gather_5 (TFOpLam  (None, 700)         0           ['dropout[0][0]',                \n",
            " bda)                                                             'tf.__operators__.getitem_5[0][0\n",
            "                                                                 ]']                              \n",
            "                                                                                                  \n",
            " tf.compat.v1.gather_6 (TFOpLam  (None, 700)         0           ['dropout[0][0]',                \n",
            " bda)                                                             'tf.__operators__.getitem_6[0][0\n",
            "                                                                 ]']                              \n",
            "                                                                                                  \n",
            " tf.compat.v1.gather_7 (TFOpLam  (None, 700)         0           ['dropout[0][0]',                \n",
            " bda)                                                             'tf.__operators__.getitem_7[0][0\n",
            "                                                                 ]']                              \n",
            "                                                                                                  \n",
            " tf.__operators__.getitem_8 (Sl  (None,)             0           ['tf.cast[0][0]']                \n",
            " icingOpLambda)                                                                                   \n",
            "                                                                                                  \n",
            " tf.__operators__.getitem_9 (Sl  (None,)             0           ['tf.cast[0][0]']                \n",
            " icingOpLambda)                                                                                   \n",
            "                                                                                                  \n",
            " tf.__operators__.getitem_10 (S  (None,)             0           ['tf.cast[0][0]']                \n",
            " licingOpLambda)                                                                                  \n",
            "                                                                                                  \n",
            " tf.__operators__.getitem_11 (S  (None,)             0           ['tf.cast[0][0]']                \n",
            " licingOpLambda)                                                                                  \n",
            "                                                                                                  \n",
            " tf.compat.v1.gather_2 (TFOpLam  (None, 700)         0           ['dropout[0][0]',                \n",
            " bda)                                                             'tf.__operators__.getitem_2[0][0\n",
            "                                                                 ]']                              \n",
            "                                                                                                  \n",
            " tf.compat.v1.gather_3 (TFOpLam  (None, 700)         0           ['dropout[0][0]',                \n",
            " bda)                                                             'tf.__operators__.getitem_3[0][0\n",
            "                                                                 ]']                              \n",
            "                                                                                                  \n",
            " tf.math.abs (TFOpLambda)       (None, 700)          0           ['tf.math.subtract[0][0]']       \n",
            "                                                                                                  \n",
            " tf.math.subtract_3 (TFOpLambda  (None, 700)         0           ['tf.compat.v1.gather_4[0][0]',  \n",
            " )                                                                'tf.compat.v1.gather_5[0][0]']  \n",
            "                                                                                                  \n",
            " tf.math.subtract_4 (TFOpLambda  (None, 700)         0           ['tf.compat.v1.gather_6[0][0]',  \n",
            " )                                                                'tf.compat.v1.gather_7[0][0]']  \n",
            "                                                                                                  \n",
            " tf.compat.v1.gather_8 (TFOpLam  (None, 700)         0           ['dropout[0][0]',                \n",
            " bda)                                                             'tf.__operators__.getitem_8[0][0\n",
            "                                                                 ]']                              \n",
            "                                                                                                  \n",
            " tf.compat.v1.gather_9 (TFOpLam  (None, 700)         0           ['dropout[0][0]',                \n",
            " bda)                                                             'tf.__operators__.getitem_9[0][0\n",
            "                                                                 ]']                              \n",
            "                                                                                                  \n",
            " tf.compat.v1.gather_10 (TFOpLa  (None, 700)         0           ['dropout[0][0]',                \n",
            " mbda)                                                            'tf.__operators__.getitem_10[0][\n",
            "                                                                 0]']                             \n",
            "                                                                                                  \n",
            " tf.compat.v1.gather_11 (TFOpLa  (None, 700)         0           ['dropout[0][0]',                \n",
            " mbda)                                                            'tf.__operators__.getitem_11[0][\n",
            "                                                                 0]']                             \n",
            "                                                                                                  \n",
            " tf.__operators__.getitem_12 (S  (None,)             0           ['tf.cast[0][0]']                \n",
            " licingOpLambda)                                                                                  \n",
            "                                                                                                  \n",
            " tf.__operators__.getitem_13 (S  (None,)             0           ['tf.cast[0][0]']                \n",
            " licingOpLambda)                                                                                  \n",
            "                                                                                                  \n",
            " tf.__operators__.getitem_14 (S  (None,)             0           ['tf.cast[0][0]']                \n",
            " licingOpLambda)                                                                                  \n",
            "                                                                                                  \n",
            " tf.__operators__.getitem_15 (S  (None,)             0           ['tf.cast[0][0]']                \n",
            " licingOpLambda)                                                                                  \n",
            "                                                                                                  \n",
            " tf.math.abs_1 (TFOpLambda)     (None, 700)          0           ['tf.compat.v1.gather_2[0][0]']  \n",
            "                                                                                                  \n",
            " tf.math.abs_2 (TFOpLambda)     (None, 700)          0           ['tf.compat.v1.gather_3[0][0]']  \n",
            "                                                                                                  \n",
            " tf.math.reduce_sum (TFOpLambda  (None, 1)           0           ['tf.math.abs[0][0]']            \n",
            " )                                                                                                \n",
            "                                                                                                  \n",
            " tf.math.abs_3 (TFOpLambda)     (None, 700)          0           ['tf.math.subtract_3[0][0]']     \n",
            "                                                                                                  \n",
            " tf.math.abs_4 (TFOpLambda)     (None, 700)          0           ['tf.math.subtract_4[0][0]']     \n",
            "                                                                                                  \n",
            " tf.math.subtract_7 (TFOpLambda  (None, 700)         0           ['tf.compat.v1.gather_8[0][0]',  \n",
            " )                                                                'tf.compat.v1.gather_9[0][0]']  \n",
            "                                                                                                  \n",
            " tf.math.subtract_8 (TFOpLambda  (None, 700)         0           ['tf.compat.v1.gather_10[0][0]', \n",
            " )                                                                'tf.compat.v1.gather_11[0][0]'] \n",
            "                                                                                                  \n",
            " tf.compat.v1.gather_12 (TFOpLa  (None, 700)         0           ['dropout[0][0]',                \n",
            " mbda)                                                            'tf.__operators__.getitem_12[0][\n",
            "                                                                 0]']                             \n",
            "                                                                                                  \n",
            " tf.compat.v1.gather_13 (TFOpLa  (None, 700)         0           ['dropout[0][0]',                \n",
            " mbda)                                                            'tf.__operators__.getitem_13[0][\n",
            "                                                                 0]']                             \n",
            "                                                                                                  \n",
            " tf.compat.v1.gather_14 (TFOpLa  (None, 700)         0           ['dropout[0][0]',                \n",
            " mbda)                                                            'tf.__operators__.getitem_14[0][\n",
            "                                                                 0]']                             \n",
            "                                                                                                  \n",
            " tf.compat.v1.gather_15 (TFOpLa  (None, 700)         0           ['dropout[0][0]',                \n",
            " mbda)                                                            'tf.__operators__.getitem_15[0][\n",
            "                                                                 0]']                             \n",
            "                                                                                                  \n",
            " tf.__operators__.getitem_16 (S  (None,)             0           ['tf.cast[0][0]']                \n",
            " licingOpLambda)                                                                                  \n",
            "                                                                                                  \n",
            " tf.__operators__.getitem_17 (S  (None,)             0           ['tf.cast[0][0]']                \n",
            " licingOpLambda)                                                                                  \n",
            "                                                                                                  \n",
            " tf.__operators__.getitem_18 (S  (None,)             0           ['tf.cast[0][0]']                \n",
            " licingOpLambda)                                                                                  \n",
            "                                                                                                  \n",
            " tf.__operators__.getitem_19 (S  (None,)             0           ['tf.cast[0][0]']                \n",
            " licingOpLambda)                                                                                  \n",
            "                                                                                                  \n",
            " tf.math.reduce_sum_1 (TFOpLamb  ()                  0           ['tf.math.abs_1[0][0]']          \n",
            " da)                                                                                              \n",
            "                                                                                                  \n",
            " tf.math.reduce_sum_2 (TFOpLamb  ()                  0           ['tf.math.abs_2[0][0]']          \n",
            " da)                                                                                              \n",
            "                                                                                                  \n",
            " tf.__operators__.add_1 (TFOpLa  (None, 1)           0           ['tf.math.reduce_sum[0][0]']     \n",
            " mbda)                                                                                            \n",
            "                                                                                                  \n",
            " tf.math.reduce_sum_3 (TFOpLamb  (None, 1)           0           ['tf.math.abs_3[0][0]']          \n",
            " da)                                                                                              \n",
            "                                                                                                  \n",
            " tf.__operators__.add_2 (TFOpLa  (None, 1)           0           ['tf.math.reduce_sum[0][0]']     \n",
            " mbda)                                                                                            \n",
            "                                                                                                  \n",
            " tf.math.reduce_sum_4 (TFOpLamb  (None, 1)           0           ['tf.math.abs_4[0][0]']          \n",
            " da)                                                                                              \n",
            "                                                                                                  \n",
            " tf.math.abs_5 (TFOpLambda)     (None, 700)          0           ['tf.math.subtract_7[0][0]']     \n",
            "                                                                                                  \n",
            " tf.math.abs_6 (TFOpLambda)     (None, 700)          0           ['tf.math.subtract_8[0][0]']     \n",
            "                                                                                                  \n",
            " tf.math.subtract_11 (TFOpLambd  (None, 700)         0           ['tf.compat.v1.gather_12[0][0]', \n",
            " a)                                                               'tf.compat.v1.gather_13[0][0]'] \n",
            "                                                                                                  \n",
            " tf.math.subtract_12 (TFOpLambd  (None, 700)         0           ['tf.compat.v1.gather_14[0][0]', \n",
            " a)                                                               'tf.compat.v1.gather_15[0][0]'] \n",
            "                                                                                                  \n",
            " tf.compat.v1.gather_16 (TFOpLa  (None, 700)         0           ['dropout[0][0]',                \n",
            " mbda)                                                            'tf.__operators__.getitem_16[0][\n",
            "                                                                 0]']                             \n",
            "                                                                                                  \n",
            " tf.compat.v1.gather_17 (TFOpLa  (None, 700)         0           ['dropout[0][0]',                \n",
            " mbda)                                                            'tf.__operators__.getitem_17[0][\n",
            "                                                                 0]']                             \n",
            "                                                                                                  \n",
            " tf.compat.v1.gather_18 (TFOpLa  (None, 700)         0           ['dropout[0][0]',                \n",
            " mbda)                                                            'tf.__operators__.getitem_18[0][\n",
            "                                                                 0]']                             \n",
            "                                                                                                  \n",
            " tf.compat.v1.gather_19 (TFOpLa  (None, 700)         0           ['dropout[0][0]',                \n",
            " mbda)                                                            'tf.__operators__.getitem_19[0][\n",
            "                                                                 0]']                             \n",
            "                                                                                                  \n",
            " tf.math.subtract_1 (TFOpLambda  ()                  0           ['tf.math.reduce_sum_1[0][0]']   \n",
            " )                                                                                                \n",
            "                                                                                                  \n",
            " tf.math.subtract_2 (TFOpLambda  ()                  0           ['tf.math.reduce_sum_2[0][0]']   \n",
            " )                                                                                                \n",
            "                                                                                                  \n",
            " tf.math.subtract_5 (TFOpLambda  (None, 1)           0           ['tf.__operators__.add_1[0][0]', \n",
            " )                                                                'tf.math.reduce_sum_3[0][0]']   \n",
            "                                                                                                  \n",
            " tf.math.subtract_6 (TFOpLambda  (None, 1)           0           ['tf.__operators__.add_2[0][0]', \n",
            " )                                                                'tf.math.reduce_sum_4[0][0]']   \n",
            "                                                                                                  \n",
            " tf.__operators__.add_5 (TFOpLa  (None, 1)           0           ['tf.math.reduce_sum[0][0]']     \n",
            " mbda)                                                                                            \n",
            "                                                                                                  \n",
            " tf.math.reduce_sum_5 (TFOpLamb  (None, 1)           0           ['tf.math.abs_5[0][0]']          \n",
            " da)                                                                                              \n",
            "                                                                                                  \n",
            " tf.__operators__.add_6 (TFOpLa  (None, 1)           0           ['tf.math.reduce_sum[0][0]']     \n",
            " mbda)                                                                                            \n",
            "                                                                                                  \n",
            " tf.math.reduce_sum_6 (TFOpLamb  (None, 1)           0           ['tf.math.abs_6[0][0]']          \n",
            " da)                                                                                              \n",
            "                                                                                                  \n",
            " tf.math.abs_7 (TFOpLambda)     (None, 700)          0           ['tf.math.subtract_11[0][0]']    \n",
            "                                                                                                  \n",
            " tf.math.abs_8 (TFOpLambda)     (None, 700)          0           ['tf.math.subtract_12[0][0]']    \n",
            "                                                                                                  \n",
            " tf.math.subtract_15 (TFOpLambd  (None, 700)         0           ['tf.compat.v1.gather_16[0][0]', \n",
            " a)                                                               'tf.compat.v1.gather_17[0][0]'] \n",
            "                                                                                                  \n",
            " tf.math.subtract_16 (TFOpLambd  (None, 700)         0           ['tf.compat.v1.gather_18[0][0]', \n",
            " a)                                                               'tf.compat.v1.gather_19[0][0]'] \n",
            "                                                                                                  \n",
            " tf.nn.relu (TFOpLambda)        ()                   0           ['tf.math.subtract_1[0][0]']     \n",
            "                                                                                                  \n",
            " tf.nn.relu_1 (TFOpLambda)      ()                   0           ['tf.math.subtract_2[0][0]']     \n",
            "                                                                                                  \n",
            " tf.nn.relu_2 (TFOpLambda)      (None, 1)            0           ['tf.math.subtract_5[0][0]']     \n",
            "                                                                                                  \n",
            " tf.nn.relu_3 (TFOpLambda)      (None, 1)            0           ['tf.math.subtract_6[0][0]']     \n",
            "                                                                                                  \n",
            " tf.math.subtract_9 (TFOpLambda  (None, 1)           0           ['tf.__operators__.add_5[0][0]', \n",
            " )                                                                'tf.math.reduce_sum_5[0][0]']   \n",
            "                                                                                                  \n",
            " tf.math.subtract_10 (TFOpLambd  (None, 1)           0           ['tf.__operators__.add_6[0][0]', \n",
            " a)                                                               'tf.math.reduce_sum_6[0][0]']   \n",
            "                                                                                                  \n",
            " tf.__operators__.add_9 (TFOpLa  (None, 1)           0           ['tf.math.reduce_sum[0][0]']     \n",
            " mbda)                                                                                            \n",
            "                                                                                                  \n",
            " tf.math.reduce_sum_7 (TFOpLamb  (None, 1)           0           ['tf.math.abs_7[0][0]']          \n",
            " da)                                                                                              \n",
            "                                                                                                  \n",
            " tf.__operators__.add_10 (TFOpL  (None, 1)           0           ['tf.math.reduce_sum[0][0]']     \n",
            " ambda)                                                                                           \n",
            "                                                                                                  \n",
            " tf.math.reduce_sum_8 (TFOpLamb  (None, 1)           0           ['tf.math.abs_8[0][0]']          \n",
            " da)                                                                                              \n",
            "                                                                                                  \n",
            " tf.math.abs_9 (TFOpLambda)     (None, 700)          0           ['tf.math.subtract_15[0][0]']    \n",
            "                                                                                                  \n",
            " tf.math.abs_10 (TFOpLambda)    (None, 700)          0           ['tf.math.subtract_16[0][0]']    \n",
            "                                                                                                  \n",
            " tf.__operators__.add (TFOpLamb  ()                  0           ['tf.nn.relu[0][0]',             \n",
            " da)                                                              'tf.nn.relu_1[0][0]']           \n",
            "                                                                                                  \n",
            " tf.__operators__.add_3 (TFOpLa  (None, 1)           0           ['tf.nn.relu_2[0][0]',           \n",
            " mbda)                                                            'tf.nn.relu_3[0][0]']           \n",
            "                                                                                                  \n",
            " tf.nn.relu_4 (TFOpLambda)      (None, 1)            0           ['tf.math.subtract_9[0][0]']     \n",
            "                                                                                                  \n",
            " tf.nn.relu_5 (TFOpLambda)      (None, 1)            0           ['tf.math.subtract_10[0][0]']    \n",
            "                                                                                                  \n",
            " tf.math.subtract_13 (TFOpLambd  (None, 1)           0           ['tf.__operators__.add_9[0][0]', \n",
            " a)                                                               'tf.math.reduce_sum_7[0][0]']   \n",
            "                                                                                                  \n",
            " tf.math.subtract_14 (TFOpLambd  (None, 1)           0           ['tf.__operators__.add_10[0][0]',\n",
            " a)                                                               'tf.math.reduce_sum_8[0][0]']   \n",
            "                                                                                                  \n",
            " tf.__operators__.add_13 (TFOpL  (None, 1)           0           ['tf.math.reduce_sum[0][0]']     \n",
            " ambda)                                                                                           \n",
            "                                                                                                  \n",
            " tf.math.reduce_sum_9 (TFOpLamb  (None, 1)           0           ['tf.math.abs_9[0][0]']          \n",
            " da)                                                                                              \n",
            "                                                                                                  \n",
            " tf.__operators__.add_14 (TFOpL  (None, 1)           0           ['tf.math.reduce_sum[0][0]']     \n",
            " ambda)                                                                                           \n",
            "                                                                                                  \n",
            " tf.math.reduce_sum_10 (TFOpLam  (None, 1)           0           ['tf.math.abs_10[0][0]']         \n",
            " bda)                                                                                             \n",
            "                                                                                                  \n",
            " tf.__operators__.add_4 (TFOpLa  (None, 1)           0           ['tf.__operators__.add[0][0]',   \n",
            " mbda)                                                            'tf.__operators__.add_3[0][0]'] \n",
            "                                                                                                  \n",
            " tf.__operators__.add_7 (TFOpLa  (None, 1)           0           ['tf.nn.relu_4[0][0]',           \n",
            " mbda)                                                            'tf.nn.relu_5[0][0]']           \n",
            "                                                                                                  \n",
            " tf.nn.relu_6 (TFOpLambda)      (None, 1)            0           ['tf.math.subtract_13[0][0]']    \n",
            "                                                                                                  \n",
            " tf.nn.relu_7 (TFOpLambda)      (None, 1)            0           ['tf.math.subtract_14[0][0]']    \n",
            "                                                                                                  \n",
            " tf.math.subtract_17 (TFOpLambd  (None, 1)           0           ['tf.__operators__.add_13[0][0]',\n",
            " a)                                                               'tf.math.reduce_sum_9[0][0]']   \n",
            "                                                                                                  \n",
            " tf.math.subtract_18 (TFOpLambd  (None, 1)           0           ['tf.__operators__.add_14[0][0]',\n",
            " a)                                                               'tf.math.reduce_sum_10[0][0]']  \n",
            "                                                                                                  \n",
            " tf.__operators__.add_8 (TFOpLa  (None, 1)           0           ['tf.__operators__.add_4[0][0]', \n",
            " mbda)                                                            'tf.__operators__.add_7[0][0]'] \n",
            "                                                                                                  \n",
            " tf.__operators__.add_11 (TFOpL  (None, 1)           0           ['tf.nn.relu_6[0][0]',           \n",
            " ambda)                                                           'tf.nn.relu_7[0][0]']           \n",
            "                                                                                                  \n",
            " tf.nn.relu_8 (TFOpLambda)      (None, 1)            0           ['tf.math.subtract_17[0][0]']    \n",
            "                                                                                                  \n",
            " tf.nn.relu_9 (TFOpLambda)      (None, 1)            0           ['tf.math.subtract_18[0][0]']    \n",
            "                                                                                                  \n",
            " tf.__operators__.add_12 (TFOpL  (None, 1)           0           ['tf.__operators__.add_8[0][0]', \n",
            " ambda)                                                           'tf.__operators__.add_11[0][0]']\n",
            "                                                                                                  \n",
            " tf.__operators__.add_15 (TFOpL  (None, 1)           0           ['tf.nn.relu_8[0][0]',           \n",
            " ambda)                                                           'tf.nn.relu_9[0][0]']           \n",
            "                                                                                                  \n",
            " tf.__operators__.add_16 (TFOpL  (None, 1)           0           ['tf.__operators__.add_12[0][0]',\n",
            " ambda)                                                           'tf.__operators__.add_15[0][0]']\n",
            "                                                                                                  \n",
            " tf.math.reduce_sum_11 (TFOpLam  (1, 1)              0           ['tf.__operators__.add_16[0][0]']\n",
            " bda)                                                                                             \n",
            "                                                                                                  \n",
            " input_7 (InputLayer)           [(None, None, 3)]    0           []                               \n",
            "                                                                                                  \n",
            " tf.math.truediv (TFOpLambda)   (1, 1)               0           ['tf.math.reduce_sum_11[0][0]']  \n",
            "                                                                                                  \n",
            "==================================================================================================\n",
            "Total params: 4,501,401\n",
            "Trainable params: 4,501,400\n",
            "Non-trainable params: 1\n",
            "__________________________________________________________________________________________________\n"
          ]
        }
      ],
      "source": [
        "model,get_emb = get_trgat(dropout_rate=0.3,node_size=node_size,rel_size=rel_size,n_attn_heads = 1,depth=2,gamma =3,node_hidden=100,rel_hidden = 100,triple_size = triple_size)\n",
        "model.summary(); \n",
        "initial_weights = model.get_weights()"
      ]
    },
    {
      "cell_type": "code",
      "source": [
        "train_pair = train_pair_main\n",
        "tf.keras.backend.clear_session()\n",
        "config = tf.compat.v1.ConfigProto()\n",
        "config.gpu_options.allow_growth=True  \n",
        "sess = tf.compat.v1.Session(config=config) \n",
        "\n",
        "rest_set_1 = [e1 for e1, e2 in dev_pair]\n",
        "rest_set_2 = [e2 for e1, e2 in dev_pair]\n",
        "np.random.shuffle(rest_set_1)\n",
        "np.random.shuffle(rest_set_2)\n",
        "\n",
        "epoch = 1000\n",
        "for turn in range(5):\n",
        "    print(\"iteration %d start.\"%turn)\n",
        "    for i in trange(epoch):\n",
        "        cur_epoch = i\n",
        "        train_set = get_train_set()\n",
        "        inputs = [adj_matrix,r_index,r_val,rel_matrix,ent_matrix,radj,nadj,train_set]\n",
        "        inputs = [np.expand_dims(item,axis=0) for item in inputs]\n",
        "        model.train_on_batch(inputs,np.zeros((1,1)))\n",
        "        #CSLS_test()\n",
        "        if i%100 == 99:\n",
        "            CSLS_test()     \n",
        "    \n",
        "    #CSLS_test()       \n",
        "    new_pair = []\n",
        "    \n",
        "    vec = get_embedding()\n",
        "    Lvec = np.array([vec[e] for e in rest_set_1])\n",
        "    Rvec = np.array([vec[e] for e in rest_set_2])\n",
        "    Lvec = Lvec / np.linalg.norm(Lvec,axis=-1,keepdims=True)\n",
        "    Rvec = Rvec / np.linalg.norm(Rvec,axis=-1,keepdims=True)\n",
        "    A,_ = eval_alignment_by_sim_mat(Lvec, Rvec, [1, 5, 10], 16,10,True,False)\n",
        "    B,_ = eval_alignment_by_sim_mat(Rvec, Lvec,[1, 5, 10], 16,10,True,False)\n",
        "    A = sorted(list(A)); B = sorted(list(B))\n",
        "    for a,b in A:\n",
        "        if  B[b][1] == a:\n",
        "            new_pair.append([rest_set_1[a],rest_set_2[b]])\n",
        "    print(\"generate new semi-pairs: %d.\" % len(new_pair))\n",
        "    train_pair = np.concatenate([train_pair,np.array(new_pair)],axis = 0)\n",
        "    for e1,e2 in new_pair:\n",
        "        if e1 in rest_set_1:\n",
        "            rest_set_1.remove(e1) \n",
        "        \n",
        "    for e1,e2 in new_pair:\n",
        "        if e2 in rest_set_2:\n",
        "            rest_set_2.remove(e2) \n",
        "\n",
        "files.download('/content/RREA/'+lang+\"_\"+run_name+'.pkl') "
      ],
      "metadata": {
        "id": "pLYXVCI1iB4-",
        "colab": {
          "base_uri": "https://localhost:8080/"
        },
        "outputId": "7bba237f-235b-469c-999e-8dc8bd762272"
      },
      "execution_count": null,
      "outputs": [
        {
          "metadata": {
            "tags": null
          },
          "name": "stdout",
          "output_type": "stream",
          "text": [
            "iteration 0 start.\n"
          ]
        },
        {
          "metadata": {
            "tags": null
          },
          "name": "stderr",
          "output_type": "stream",
          "text": [
            " 10%|▉         | 99/1000 [02:39<23:01,  1.53s/it]"
          ]
        },
        {
          "metadata": {
            "tags": null
          },
          "name": "stdout",
          "output_type": "stream",
          "text": [
            "accurate results: hits@[1, 5, 10] = [64.89 86.83 91.42], mr = 13.550, mrr = 0.745, time = 17.966 s \n",
            "accurate results: hits@[1, 5, 10] = [63.49 86.09 91.2 ], mr = 12.979, mrr = 0.735, time = 17.879 s \n"
          ]
        },
        {
          "metadata": {
            "tags": null
          },
          "name": "stderr",
          "output_type": "stream",
          "text": [
            " 20%|█▉        | 199/1000 [05:50<20:41,  1.55s/it]"
          ]
        },
        {
          "metadata": {
            "tags": null
          },
          "name": "stdout",
          "output_type": "stream",
          "text": [
            "accurate results: hits@[1, 5, 10] = [69.75 88.81 92.65], mr = 15.638, mrr = 0.781, time = 18.402 s \n",
            "accurate results: hits@[1, 5, 10] = [68.67 88.5  92.67], mr = 14.426, mrr = 0.774, time = 18.069 s \n"
          ]
        },
        {
          "metadata": {
            "tags": null
          },
          "name": "stderr",
          "output_type": "stream",
          "text": [
            " 30%|██▉       | 299/1000 [09:00<17:41,  1.51s/it]"
          ]
        },
        {
          "metadata": {
            "tags": null
          },
          "name": "stdout",
          "output_type": "stream",
          "text": [
            "accurate results: hits@[1, 5, 10] = [71.06 89.43 93.32], mr = 17.086, mrr = 0.792, time = 18.550 s \n",
            "accurate results: hits@[1, 5, 10] = [70.82 89.04 93.14], mr = 14.518, mrr = 0.789, time = 18.278 s \n"
          ]
        },
        {
          "metadata": {
            "tags": null
          },
          "name": "stderr",
          "output_type": "stream",
          "text": [
            " 40%|███▉      | 399/1000 [12:12<14:57,  1.49s/it]"
          ]
        },
        {
          "metadata": {
            "tags": null
          },
          "name": "stdout",
          "output_type": "stream",
          "text": [
            "accurate results: hits@[1, 5, 10] = [71.89 89.69 93.24], mr = 18.147, mrr = 0.797, time = 18.094 s \n",
            "accurate results: hits@[1, 5, 10] = [71.65 89.45 93.38], mr = 15.489, mrr = 0.795, time = 17.941 s \n"
          ]
        },
        {
          "metadata": {
            "tags": null
          },
          "name": "stderr",
          "output_type": "stream",
          "text": [
            " 50%|████▉     | 499/1000 [15:25<12:43,  1.52s/it]"
          ]
        },
        {
          "metadata": {
            "tags": null
          },
          "name": "stdout",
          "output_type": "stream",
          "text": [
            "accurate results: hits@[1, 5, 10] = [72.7  89.67 93.14], mr = 18.350, mrr = 0.802, time = 19.015 s \n",
            "accurate results: hits@[1, 5, 10] = [72.16 89.52 93.19], mr = 15.626, mrr = 0.798, time = 18.648 s \n"
          ]
        },
        {
          "metadata": {
            "tags": null
          },
          "name": "stderr",
          "output_type": "stream",
          "text": [
            " 60%|█████▉    | 599/1000 [18:36<10:07,  1.52s/it]"
          ]
        },
        {
          "metadata": {
            "tags": null
          },
          "name": "stdout",
          "output_type": "stream",
          "text": [
            "accurate results: hits@[1, 5, 10] = [73.1  89.84 93.05], mr = 18.649, mrr = 0.805, time = 18.595 s \n",
            "accurate results: hits@[1, 5, 10] = [72.47 89.5  93.23], mr = 15.811, mrr = 0.800, time = 18.641 s \n"
          ]
        },
        {
          "metadata": {
            "tags": null
          },
          "name": "stderr",
          "output_type": "stream",
          "text": [
            " 70%|██████▉   | 699/1000 [21:48<07:38,  1.52s/it]"
          ]
        },
        {
          "metadata": {
            "tags": null
          },
          "name": "stdout",
          "output_type": "stream",
          "text": [
            "accurate results: hits@[1, 5, 10] = [72.81 89.85 93.04], mr = 20.902, mrr = 0.803, time = 18.498 s \n",
            "accurate results: hits@[1, 5, 10] = [72.55 89.49 93.13], mr = 17.351, mrr = 0.800, time = 18.664 s \n"
          ]
        },
        {
          "metadata": {
            "tags": null
          },
          "name": "stderr",
          "output_type": "stream",
          "text": [
            " 80%|███████▉  | 799/1000 [25:02<05:07,  1.53s/it]"
          ]
        },
        {
          "metadata": {
            "tags": null
          },
          "name": "stdout",
          "output_type": "stream",
          "text": [
            "accurate results: hits@[1, 5, 10] = [73.14 89.63 93.17], mr = 20.546, mrr = 0.804, time = 18.488 s \n",
            "accurate results: hits@[1, 5, 10] = [72.46 89.39 93.08], mr = 17.599, mrr = 0.800, time = 18.424 s \n"
          ]
        },
        {
          "metadata": {
            "tags": null
          },
          "name": "stderr",
          "output_type": "stream",
          "text": [
            " 90%|████████▉ | 899/1000 [28:16<02:51,  1.70s/it]"
          ]
        },
        {
          "metadata": {
            "tags": null
          },
          "name": "stdout",
          "output_type": "stream",
          "text": [
            "accurate results: hits@[1, 5, 10] = [73.05 89.42 92.87], mr = 21.501, mrr = 0.803, time = 18.960 s \n",
            "accurate results: hits@[1, 5, 10] = [72.49 89.21 92.98], mr = 19.103, mrr = 0.799, time = 18.790 s \n"
          ]
        },
        {
          "metadata": {
            "tags": null
          },
          "name": "stderr",
          "output_type": "stream",
          "text": [
            "100%|█████████▉| 999/1000 [31:28<00:01,  1.52s/it]"
          ]
        },
        {
          "metadata": {
            "tags": null
          },
          "name": "stdout",
          "output_type": "stream",
          "text": [
            "accurate results: hits@[1, 5, 10] = [73.13 89.38 92.77], mr = 22.928, mrr = 0.803, time = 18.563 s \n",
            "accurate results: hits@[1, 5, 10] = [72.4  89.11 93.06], mr = 20.347, mrr = 0.798, time = 18.547 s \n"
          ]
        },
        {
          "metadata": {
            "tags": null
          },
          "name": "stderr",
          "output_type": "stream",
          "text": [
            "100%|██████████| 1000/1000 [32:08<00:00,  1.93s/it]\n"
          ]
        },
        {
          "metadata": {
            "tags": null
          },
          "name": "stdout",
          "output_type": "stream",
          "text": [
            "generate new semi-pairs: 7658.\n",
            "iteration 1 start.\n"
          ]
        },
        {
          "metadata": {
            "tags": null
          },
          "name": "stderr",
          "output_type": "stream",
          "text": [
            " 10%|▉         | 99/1000 [02:32<22:38,  1.51s/it]"
          ]
        },
        {
          "metadata": {
            "tags": null
          },
          "name": "stdout",
          "output_type": "stream",
          "text": [
            "accurate results: hits@[1, 5, 10] = [76.2  91.19 94.08], mr = 13.977, mrr = 0.828, time = 18.783 s \n",
            "accurate results: hits@[1, 5, 10] = [76.01 91.08 94.14], mr = 13.220, mrr = 0.827, time = 18.572 s \n"
          ]
        },
        {
          "metadata": {
            "tags": null
          },
          "name": "stderr",
          "output_type": "stream",
          "text": [
            " 20%|█▉        | 199/1000 [05:47<20:19,  1.52s/it]"
          ]
        },
        {
          "metadata": {
            "tags": null
          },
          "name": "stdout",
          "output_type": "stream",
          "text": [
            "accurate results: hits@[1, 5, 10] = [76.75 91.43 94.12], mr = 14.655, mrr = 0.832, time = 18.882 s \n",
            "accurate results: hits@[1, 5, 10] = [76.39 91.22 94.3 ], mr = 13.401, mrr = 0.830, time = 18.639 s \n"
          ]
        },
        {
          "metadata": {
            "tags": null
          },
          "name": "stderr",
          "output_type": "stream",
          "text": [
            " 30%|██▉       | 299/1000 [09:02<17:40,  1.51s/it]"
          ]
        },
        {
          "metadata": {
            "tags": null
          },
          "name": "stdout",
          "output_type": "stream",
          "text": [
            "accurate results: hits@[1, 5, 10] = [76.94 91.24 94.24], mr = 15.360, mrr = 0.833, time = 18.595 s \n",
            "accurate results: hits@[1, 5, 10] = [76.64 91.27 94.47], mr = 13.087, mrr = 0.832, time = 18.664 s \n"
          ]
        },
        {
          "metadata": {
            "tags": null
          },
          "name": "stderr",
          "output_type": "stream",
          "text": [
            " 40%|███▉      | 399/1000 [12:16<15:11,  1.52s/it]"
          ]
        },
        {
          "metadata": {
            "tags": null
          },
          "name": "stdout",
          "output_type": "stream",
          "text": [
            "accurate results: hits@[1, 5, 10] = [77.07 91.4  94.23], mr = 15.764, mrr = 0.834, time = 18.192 s \n",
            "accurate results: hits@[1, 5, 10] = [76.65 91.33 94.45], mr = 13.861, mrr = 0.831, time = 18.505 s \n"
          ]
        },
        {
          "metadata": {
            "tags": null
          },
          "name": "stderr",
          "output_type": "stream",
          "text": [
            " 50%|████▉     | 499/1000 [15:26<12:40,  1.52s/it]"
          ]
        },
        {
          "metadata": {
            "tags": null
          },
          "name": "stdout",
          "output_type": "stream",
          "text": [
            "accurate results: hits@[1, 5, 10] = [77.2 91.5 94.3], mr = 15.790, mrr = 0.835, time = 18.274 s \n",
            "accurate results: hits@[1, 5, 10] = [77.11 91.4  94.53], mr = 14.082, mrr = 0.834, time = 18.384 s \n"
          ]
        },
        {
          "metadata": {
            "tags": null
          },
          "name": "stderr",
          "output_type": "stream",
          "text": [
            " 60%|█████▉    | 599/1000 [18:43<10:15,  1.54s/it]"
          ]
        },
        {
          "metadata": {
            "tags": null
          },
          "name": "stdout",
          "output_type": "stream",
          "text": [
            "accurate results: hits@[1, 5, 10] = [77.38 91.43 94.1 ], mr = 15.797, mrr = 0.836, time = 18.093 s \n",
            "accurate results: hits@[1, 5, 10] = [77.08 91.27 94.36], mr = 14.606, mrr = 0.834, time = 17.988 s \n"
          ]
        },
        {
          "metadata": {
            "tags": null
          },
          "name": "stderr",
          "output_type": "stream",
          "text": [
            " 70%|██████▉   | 699/1000 [21:54<07:33,  1.51s/it]"
          ]
        },
        {
          "metadata": {
            "tags": null
          },
          "name": "stdout",
          "output_type": "stream",
          "text": [
            "accurate results: hits@[1, 5, 10] = [77.1  91.49 94.19], mr = 17.073, mrr = 0.834, time = 17.664 s \n",
            "accurate results: hits@[1, 5, 10] = [77.08 91.15 94.19], mr = 15.180, mrr = 0.834, time = 17.729 s \n"
          ]
        },
        {
          "metadata": {
            "tags": null
          },
          "name": "stderr",
          "output_type": "stream",
          "text": [
            " 80%|███████▉  | 799/1000 [25:05<05:06,  1.52s/it]"
          ]
        },
        {
          "metadata": {
            "tags": null
          },
          "name": "stdout",
          "output_type": "stream",
          "text": [
            "accurate results: hits@[1, 5, 10] = [77.19 91.44 94.15], mr = 17.333, mrr = 0.835, time = 18.556 s \n",
            "accurate results: hits@[1, 5, 10] = [77.34 91.16 94.21], mr = 14.980, mrr = 0.835, time = 18.438 s \n"
          ]
        },
        {
          "metadata": {
            "tags": null
          },
          "name": "stderr",
          "output_type": "stream",
          "text": [
            " 90%|████████▉ | 899/1000 [28:17<02:34,  1.53s/it]"
          ]
        },
        {
          "metadata": {
            "tags": null
          },
          "name": "stdout",
          "output_type": "stream",
          "text": [
            "accurate results: hits@[1, 5, 10] = [77.34 91.45 94.06], mr = 18.568, mrr = 0.836, time = 17.634 s \n",
            "accurate results: hits@[1, 5, 10] = [77.42 91.27 94.16], mr = 15.940, mrr = 0.836, time = 17.951 s \n"
          ]
        },
        {
          "metadata": {
            "tags": null
          },
          "name": "stderr",
          "output_type": "stream",
          "text": [
            "100%|█████████▉| 999/1000 [31:28<00:01,  1.51s/it]"
          ]
        },
        {
          "metadata": {
            "tags": null
          },
          "name": "stdout",
          "output_type": "stream",
          "text": [
            "accurate results: hits@[1, 5, 10] = [77.37 91.32 93.99], mr = 19.193, mrr = 0.835, time = 17.764 s \n",
            "accurate results: hits@[1, 5, 10] = [77.3  91.22 94.12], mr = 16.826, mrr = 0.835, time = 17.827 s \n"
          ]
        },
        {
          "metadata": {
            "tags": null
          },
          "name": "stderr",
          "output_type": "stream",
          "text": [
            "100%|██████████| 1000/1000 [32:06<00:00,  1.93s/it]\n"
          ]
        },
        {
          "metadata": {
            "tags": null
          },
          "name": "stdout",
          "output_type": "stream",
          "text": [
            "generate new semi-pairs: 1669.\n",
            "iteration 2 start.\n"
          ]
        },
        {
          "metadata": {
            "tags": null
          },
          "name": "stderr",
          "output_type": "stream",
          "text": [
            " 10%|▉         | 99/1000 [02:31<22:39,  1.51s/it]"
          ]
        },
        {
          "metadata": {
            "tags": null
          },
          "name": "stdout",
          "output_type": "stream",
          "text": [
            "accurate results: hits@[1, 5, 10] = [79.55 91.75 94.31], mr = 17.406, mrr = 0.850, time = 17.548 s \n",
            "accurate results: hits@[1, 5, 10] = [79.46 91.74 94.48], mr = 14.908, mrr = 0.850, time = 17.589 s \n"
          ]
        },
        {
          "metadata": {
            "tags": null
          },
          "name": "stderr",
          "output_type": "stream",
          "text": [
            " 20%|█▉        | 199/1000 [05:40<20:04,  1.50s/it]"
          ]
        },
        {
          "metadata": {
            "tags": null
          },
          "name": "stdout",
          "output_type": "stream",
          "text": [
            "accurate results: hits@[1, 5, 10] = [79.89 91.78 94.36], mr = 18.322, mrr = 0.852, time = 17.782 s \n",
            "accurate results: hits@[1, 5, 10] = [79.79 91.68 94.35], mr = 16.118, mrr = 0.851, time = 17.775 s \n"
          ]
        },
        {
          "metadata": {
            "tags": null
          },
          "name": "stderr",
          "output_type": "stream",
          "text": [
            " 30%|██▉       | 299/1000 [08:50<17:57,  1.54s/it]"
          ]
        },
        {
          "metadata": {
            "tags": null
          },
          "name": "stdout",
          "output_type": "stream",
          "text": [
            "accurate results: hits@[1, 5, 10] = [79.77 91.51 94.18], mr = 18.564, mrr = 0.851, time = 18.669 s \n",
            "accurate results: hits@[1, 5, 10] = [79.9  91.52 94.29], mr = 16.580, mrr = 0.852, time = 18.627 s \n"
          ]
        },
        {
          "metadata": {
            "tags": null
          },
          "name": "stderr",
          "output_type": "stream",
          "text": [
            " 40%|███▉      | 399/1000 [12:04<18:41,  1.87s/it]"
          ]
        },
        {
          "metadata": {
            "tags": null
          },
          "name": "stdout",
          "output_type": "stream",
          "text": [
            "accurate results: hits@[1, 5, 10] = [79.83 91.51 94.24], mr = 20.135, mrr = 0.851, time = 18.240 s \n",
            "accurate results: hits@[1, 5, 10] = [79.89 91.45 94.31], mr = 18.001, mrr = 0.852, time = 18.111 s \n"
          ]
        },
        {
          "metadata": {
            "tags": null
          },
          "name": "stderr",
          "output_type": "stream",
          "text": [
            " 50%|████▉     | 499/1000 [15:14<12:39,  1.52s/it]"
          ]
        },
        {
          "metadata": {
            "tags": null
          },
          "name": "stdout",
          "output_type": "stream",
          "text": [
            "accurate results: hits@[1, 5, 10] = [79.85 91.54 94.12], mr = 21.179, mrr = 0.851, time = 17.998 s \n",
            "accurate results: hits@[1, 5, 10] = [79.82 91.56 94.18], mr = 18.539, mrr = 0.851, time = 17.924 s \n"
          ]
        },
        {
          "metadata": {
            "tags": null
          },
          "name": "stderr",
          "output_type": "stream",
          "text": [
            " 60%|█████▉    | 599/1000 [18:25<10:19,  1.54s/it]"
          ]
        },
        {
          "metadata": {
            "tags": null
          },
          "name": "stdout",
          "output_type": "stream",
          "text": [
            "accurate results: hits@[1, 5, 10] = [79.8  91.71 94.15], mr = 21.886, mrr = 0.851, time = 18.324 s \n",
            "accurate results: hits@[1, 5, 10] = [79.81 91.42 94.19], mr = 19.894, mrr = 0.851, time = 18.022 s \n"
          ]
        },
        {
          "metadata": {
            "tags": null
          },
          "name": "stderr",
          "output_type": "stream",
          "text": [
            " 70%|██████▉   | 699/1000 [21:38<07:39,  1.53s/it]"
          ]
        },
        {
          "metadata": {
            "tags": null
          },
          "name": "stdout",
          "output_type": "stream",
          "text": [
            "accurate results: hits@[1, 5, 10] = [79.81 91.63 94.18], mr = 22.448, mrr = 0.851, time = 18.000 s \n",
            "accurate results: hits@[1, 5, 10] = [79.65 91.36 94.1 ], mr = 20.056, mrr = 0.850, time = 17.932 s \n"
          ]
        },
        {
          "metadata": {
            "tags": null
          },
          "name": "stderr",
          "output_type": "stream",
          "text": [
            " 80%|███████▉  | 799/1000 [24:49<05:03,  1.51s/it]"
          ]
        },
        {
          "metadata": {
            "tags": null
          },
          "name": "stdout",
          "output_type": "stream",
          "text": [
            "accurate results: hits@[1, 5, 10] = [79.93 91.54 93.98], mr = 22.698, mrr = 0.851, time = 17.993 s \n",
            "accurate results: hits@[1, 5, 10] = [79.7  91.43 94.05], mr = 21.580, mrr = 0.850, time = 18.329 s \n"
          ]
        },
        {
          "metadata": {
            "tags": null
          },
          "name": "stderr",
          "output_type": "stream",
          "text": [
            " 90%|████████▉ | 899/1000 [28:03<02:36,  1.55s/it]"
          ]
        },
        {
          "metadata": {
            "tags": null
          },
          "name": "stdout",
          "output_type": "stream",
          "text": [
            "accurate results: hits@[1, 5, 10] = [79.77 91.51 94.04], mr = 23.563, mrr = 0.851, time = 18.210 s \n",
            "accurate results: hits@[1, 5, 10] = [79.82 91.22 93.94], mr = 22.067, mrr = 0.850, time = 18.289 s \n"
          ]
        },
        {
          "metadata": {
            "tags": null
          },
          "name": "stderr",
          "output_type": "stream",
          "text": [
            "100%|█████████▉| 999/1000 [31:13<00:01,  1.53s/it]"
          ]
        },
        {
          "metadata": {
            "tags": null
          },
          "name": "stdout",
          "output_type": "stream",
          "text": [
            "accurate results: hits@[1, 5, 10] = [79.87 91.42 93.97], mr = 24.103, mrr = 0.851, time = 17.908 s \n",
            "accurate results: hits@[1, 5, 10] = [79.92 91.31 93.92], mr = 22.901, mrr = 0.851, time = 17.926 s \n"
          ]
        },
        {
          "metadata": {
            "tags": null
          },
          "name": "stderr",
          "output_type": "stream",
          "text": [
            "100%|██████████| 1000/1000 [31:52<00:00,  1.91s/it]\n"
          ]
        },
        {
          "metadata": {
            "tags": null
          },
          "name": "stdout",
          "output_type": "stream",
          "text": [
            "generate new semi-pairs: 550.\n",
            "iteration 3 start.\n"
          ]
        },
        {
          "metadata": {
            "tags": null
          },
          "name": "stderr",
          "output_type": "stream",
          "text": [
            " 10%|▉         | 99/1000 [02:32<22:39,  1.51s/it]"
          ]
        },
        {
          "metadata": {
            "tags": null
          },
          "name": "stdout",
          "output_type": "stream",
          "text": [
            "accurate results: hits@[1, 5, 10] = [80.7  91.88 94.2 ], mr = 23.581, mrr = 0.858, time = 19.779 s \n",
            "accurate results: hits@[1, 5, 10] = [80.52 91.78 94.25], mr = 22.017, mrr = 0.857, time = 19.540 s \n"
          ]
        },
        {
          "metadata": {
            "tags": null
          },
          "name": "stderr",
          "output_type": "stream",
          "text": [
            " 20%|█▉        | 199/1000 [05:47<20:32,  1.54s/it]"
          ]
        },
        {
          "metadata": {
            "tags": null
          },
          "name": "stdout",
          "output_type": "stream",
          "text": [
            "accurate results: hits@[1, 5, 10] = [80.7  91.75 94.16], mr = 24.723, mrr = 0.858, time = 19.203 s \n",
            "accurate results: hits@[1, 5, 10] = [80.41 91.74 94.07], mr = 24.061, mrr = 0.856, time = 19.508 s \n"
          ]
        },
        {
          "metadata": {
            "tags": null
          },
          "name": "stderr",
          "output_type": "stream",
          "text": [
            " 30%|██▉       | 299/1000 [09:06<21:28,  1.84s/it]"
          ]
        },
        {
          "metadata": {
            "tags": null
          },
          "name": "stdout",
          "output_type": "stream",
          "text": [
            "accurate results: hits@[1, 5, 10] = [80.65 91.8  94.1 ], mr = 26.700, mrr = 0.858, time = 19.163 s \n",
            "accurate results: hits@[1, 5, 10] = [80.41 91.69 94.08], mr = 25.261, mrr = 0.856, time = 19.225 s \n"
          ]
        },
        {
          "metadata": {
            "tags": null
          },
          "name": "stderr",
          "output_type": "stream",
          "text": [
            " 40%|███▉      | 399/1000 [12:20<15:13,  1.52s/it]"
          ]
        },
        {
          "metadata": {
            "tags": null
          },
          "name": "stdout",
          "output_type": "stream",
          "text": [
            "accurate results: hits@[1, 5, 10] = [80.5  91.82 93.98], mr = 27.939, mrr = 0.857, time = 19.380 s \n",
            "accurate results: hits@[1, 5, 10] = [80.46 91.6  93.98], mr = 25.976, mrr = 0.855, time = 19.252 s \n"
          ]
        },
        {
          "metadata": {
            "tags": null
          },
          "name": "stderr",
          "output_type": "stream",
          "text": [
            " 50%|████▉     | 499/1000 [15:32<12:38,  1.51s/it]"
          ]
        },
        {
          "metadata": {
            "tags": null
          },
          "name": "stdout",
          "output_type": "stream",
          "text": [
            "accurate results: hits@[1, 5, 10] = [80.48 91.8  93.94], mr = 28.684, mrr = 0.856, time = 19.135 s \n",
            "accurate results: hits@[1, 5, 10] = [80.33 91.61 94.03], mr = 26.852, mrr = 0.855, time = 19.211 s \n"
          ]
        },
        {
          "metadata": {
            "tags": null
          },
          "name": "stderr",
          "output_type": "stream",
          "text": [
            " 60%|█████▉    | 599/1000 [18:47<09:59,  1.50s/it]"
          ]
        },
        {
          "metadata": {
            "tags": null
          },
          "name": "stdout",
          "output_type": "stream",
          "text": [
            "accurate results: hits@[1, 5, 10] = [80.53 91.72 93.9 ], mr = 29.122, mrr = 0.856, time = 19.872 s \n",
            "accurate results: hits@[1, 5, 10] = [80.52 91.72 94.01], mr = 27.378, mrr = 0.856, time = 20.175 s \n"
          ]
        },
        {
          "output_type": "stream",
          "name": "stderr",
          "text": [
            " 70%|██████▉   | 699/1000 [22:00<07:32,  1.50s/it]"
          ]
        },
        {
          "output_type": "stream",
          "name": "stdout",
          "text": [
            "accurate results: hits@[1, 5, 10] = [80.51 91.66 93.87], mr = 30.628, mrr = 0.856, time = 19.239 s \n",
            "accurate results: hits@[1, 5, 10] = [80.36 91.51 93.98], mr = 28.686, mrr = 0.855, time = 19.173 s \n"
          ]
        },
        {
          "output_type": "stream",
          "name": "stderr",
          "text": [
            " 79%|███████▉  | 791/1000 [25:03<05:19,  1.53s/it]"
          ]
        }
      ]
    },
    {
      "cell_type": "code",
      "source": [
        "CSLS_test()     "
      ],
      "metadata": {
        "colab": {
          "base_uri": "https://localhost:8080/"
        },
        "id": "vZKoQWDVoFjA",
        "outputId": "6ca13249-99d9-4870-f9ed-77db7cc67514"
      },
      "execution_count": 23,
      "outputs": [
        {
          "output_type": "stream",
          "name": "stdout",
          "text": [
            "accurate results: hits@[1, 5, 10] = [65.47 86.73 91.39], mr = 13.934, mrr = 0.749, time = 48.036 s \n",
            "number of edges is 363526.6666666414\n"
          ]
        }
      ]
    }
  ],
  "metadata": {
    "colab": {
      "collapsed_sections": [],
      "name": "EA.ipynb",
      "provenance": [],
      "include_colab_link": true
    },
    "kernelspec": {
      "display_name": "Python 3",
      "name": "python3"
    },
    "language_info": {
      "name": "python"
    },
    "accelerator": "GPU"
  },
  "nbformat": 4,
  "nbformat_minor": 0
}