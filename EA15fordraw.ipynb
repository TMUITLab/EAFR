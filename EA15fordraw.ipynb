{
  "cells": [
    {
      "cell_type": "markdown",
      "metadata": {
        "id": "view-in-github",
        "colab_type": "text"
      },
      "source": [
        "<a href=\"https://colab.research.google.com/github/TMUITLab/EAFR/blob/master/EA15fordraw.ipynb\" target=\"_parent\"><img src=\"https://colab.research.google.com/assets/colab-badge.svg\" alt=\"Open In Colab\"/></a>"
      ]
    },
    {
      "cell_type": "code",
      "execution_count": 1,
      "metadata": {
        "colab": {
          "base_uri": "https://localhost:8080/"
        },
        "id": "WjActARX7sCY",
        "outputId": "a418a408-4bf3-4337-d27a-232ea8aba40b"
      },
      "outputs": [
        {
          "output_type": "stream",
          "name": "stdout",
          "text": [
            "/content\n",
            "Cloning into 'GCN-Align'...\n",
            "remote: Enumerating objects: 53, done.\u001b[K\n",
            "remote: Total 53 (delta 0), reused 0 (delta 0), pack-reused 53\u001b[K\n",
            "Unpacking objects: 100% (53/53), done.\n",
            "Cloning into 'RREA'...\n",
            "remote: Enumerating objects: 32, done.\u001b[K\n",
            "remote: Counting objects: 100% (32/32), done.\u001b[K\n",
            "remote: Compressing objects: 100% (30/30), done.\u001b[K\n",
            "remote: Total 32 (delta 4), reused 0 (delta 0), pack-reused 0\u001b[K\n",
            "Unpacking objects: 100% (32/32), done.\n"
          ]
        }
      ],
      "source": [
        "%cd '/content'\n",
        "!git clone https://github.com/1049451037/GCN-Align\n",
        "!git clone https://github.com/MaoXinn/RREA"
      ]
    },
    {
      "cell_type": "code",
      "execution_count": 4,
      "metadata": {
        "id": "ZB2YBVkb4pYB"
      },
      "outputs": [],
      "source": [
        "import warnings\n",
        "warnings.filterwarnings('ignore')\n",
        "\n",
        "from importlib.machinery import SourceFileLoader\n",
        "from google.colab import files\n",
        "\n",
        "layer = SourceFileLoader(\"layer\", \"/content/RREA/CIKM/layer.py\").load_module()\n",
        "utils = SourceFileLoader(\"utils\", \"/content/RREA/CIKM/utils.py\").load_module()\n",
        "CSLS = SourceFileLoader(\"CSLS\", \"/content/RREA/CIKM/CSLS.py\").load_module()\n",
        "import tensorflow as tf\n",
        "import os\n",
        "import time\n",
        "import random\n",
        "import keras\n",
        "import pickle\n",
        "from scipy.sparse import hstack\n",
        "import math\n",
        "from tqdm import *\n",
        "import numpy as np\n",
        "from utils import *\n",
        "from CSLS import *\n",
        "import tensorflow as tf\n",
        "import keras.backend as K\n",
        "from keras.layers import *\n",
        "from layer import NR_GraphAttention\n",
        "\n",
        "os.environ[\"CUDA_VISIBLE_DEVICES\"] = \"0\"\n",
        "os.environ[\"TF_CPP_MIN_LOG_LEVEL\"]=\"2\"\n",
        "tf.compat.v1.logging.set_verbosity(tf.compat.v1.logging.ERROR)"
      ]
    },
    {
      "cell_type": "code",
      "source": [
        "!unzip '/content/GCN-Align/data/rrk.zip' -d '/content/GCN-Align/data/'"
      ],
      "metadata": {
        "id": "Ah3EXzSvrsS_"
      },
      "execution_count": null,
      "outputs": []
    },
    {
      "cell_type": "code",
      "execution_count": 6,
      "metadata": {
        "id": "oYvCCmAe62rP",
        "colab": {
          "base_uri": "https://localhost:8080/"
        },
        "outputId": "8495fbde-23f1-4909-dd09-623536b3971e"
      },
      "outputs": [
        {
          "output_type": "stream",
          "name": "stdout",
          "text": [
            "33793 2\n"
          ]
        }
      ],
      "source": [
        "lang = 'rrk5-0-5'\n",
        "main_radj,train_pair,dev_pair,adj_matrix,r_index,r_val,adj_features,rel_features,nadj,char_size = load_data('/content/GCN-Align/data/%s/'%lang,train_ratio=0.30)\n",
        "train_pair_main=train_pair\n",
        "adj_matrix = np.stack(adj_matrix.nonzero(),axis = 1)\n",
        "main_rel_matrix,rel_val = np.stack(rel_features.nonzero(),axis = 1),rel_features.data\n",
        "ent_matrix,ent_val = np.stack(adj_features.nonzero(),axis = 1),adj_features.data"
      ]
    },
    {
      "cell_type": "code",
      "source": [
        "rel_size = rel_features.shape[1] \n",
        "\n",
        "\n",
        "# pair_dic = dict()\n",
        "# pairs = np.concatenate((dev_pair , train_pair),axis=0)\n",
        "# for i in range(len(pairs)):\n",
        "#     pair_dic[pairs[i][0]] = pairs[i][1]\n",
        "\n",
        "\n",
        "main_rel_matrix1 = main_rel_matrix.copy()\n",
        "for i in range(len(main_rel_matrix1)):\n",
        "  main_rel_matrix1[i,1] = (main_rel_matrix1[i,1] + rel_size//2) % rel_size\n",
        "\n",
        "main_radj1 = np.array(sorted(main_radj.copy(),key=lambda x: x[1]*10e10+x[0]*10e5))\n",
        "for i in range(len(main_radj1)):\n",
        "  _x,_y = main_radj1[i,0],main_radj1[i,1]\n",
        "  main_radj1[i,0] = _y\n",
        "  main_radj1[i,1] = _x\n",
        "  main_radj1[i,2] = main_radj1[i,2] #( + rel_size//2) % rel_size\n",
        "single_triple_set = set()\n",
        "degree = np.zeros([adj_features.shape[0],3])\n",
        "for triple in main_radj:\n",
        "    single_triple_set.add((triple[0],triple[1]))\n",
        "    if triple[2] < rel_size //2:\n",
        "        degree[triple[0],0] += 1\n",
        "        degree[triple[1],0] += 1\n",
        "        degree[triple[0],2] += 1\n",
        "        degree[triple[1],1] += 1\n",
        "\n",
        "dev_pair_degrees = np.zeros([2,len(dev_pair),3])\n",
        "for i in range(len(dev_pair)):\n",
        "    dev_pair_degrees[0,i,0] = degree[dev_pair[i][0],0]\n",
        "    dev_pair_degrees[0,i,1] = degree[dev_pair[i][0],1]\n",
        "    dev_pair_degrees[0,i,2] = degree[dev_pair[i][0],2]\n",
        "    dev_pair_degrees[1,i,0] = degree[dev_pair[i][1],0]\n",
        "    dev_pair_degrees[1,i,1] = degree[dev_pair[i][1],1]\n",
        "    dev_pair_degrees[1,i,2] = degree[dev_pair[i][1],2]\n",
        "\n",
        "train_pair_degrees = np.zeros([2,len(train_pair),3])\n",
        "for i in range(len(train_pair)):\n",
        "    train_pair_degrees[0,i,0] = degree[train_pair[i][0],0]\n",
        "    train_pair_degrees[0,i,1] = degree[train_pair[i][0],1]\n",
        "    train_pair_degrees[0,i,2] = degree[train_pair[i][0],2]\n",
        "    train_pair_degrees[1,i,0] = degree[train_pair[i][1],0]\n",
        "    train_pair_degrees[1,i,1] = degree[train_pair[i][1],1]\n",
        "    train_pair_degrees[1,i,2] = degree[train_pair[i][1],2]\n",
        "\n",
        "ent_size = adj_features.shape[0]\n",
        "depth = 3\n",
        "deg = np.zeros([ent_size])\n",
        "deg_in = np.zeros([ent_size])\n",
        "deg_out = np.zeros([ent_size])\n",
        "bdeg = np.zeros([ent_size])\n",
        "\n",
        "\n",
        "single_graph = dict()\n",
        "for h,t,r in main_radj:\n",
        "    deg[h] += 1\n",
        "    deg[t] += 1\n",
        "    deg_in[t] += 1\n",
        "    deg_out[h] += 1\n",
        "    if(h not in single_graph):\n",
        "        single_graph[h] = [t]\n",
        "    else:\n",
        "        single_graph[h] += [t]\n",
        "for i in range(ent_size):\n",
        "    bdeg[i] = math.floor(math.log(i+1))\n",
        "\n",
        "bin = int(max(bdeg))\n",
        "rec_deg = np.zeros([ent_size,bin*depth])\n",
        "for h in single_graph:\n",
        "    set_len = len(single_graph[h])\n",
        "    for i in single_graph[h]:\n",
        "        rec_deg[h,int(bdeg[i])] += 1/set_len\n",
        "for d in range(1,depth):\n",
        "    \n",
        "    for h in single_graph:\n",
        "        set_len = len(single_graph[h])\n",
        "        for i in single_graph[h]:\n",
        "            rec_deg[h,d*bin:(d+1)*bin] += (rec_deg[i,(d-1)*bin:(d)*bin])/set_len\n"
      ],
      "metadata": {
        "id": "2-SeSZ4Gvppc"
      },
      "execution_count": 7,
      "outputs": []
    },
    {
      "cell_type": "code",
      "source": [
        "entity1, rel1, triples1 = load_triples('/content/GCN-Align/data/%s/'%lang + 'triples_1')\n",
        "num_entity_1 = len(entity1)\n",
        "num_rel_1 = len(rel1)\n",
        "\n",
        "entity2, rel2, triples2 = load_triples('/content/GCN-Align/data/%s/'%lang + 'triples_2')\n",
        "num_entity_2 = len(entity2)\n",
        "num_rel_2 = len(rel2)"
      ],
      "metadata": {
        "id": "qjqNt7oeBXjK"
      },
      "execution_count": 8,
      "outputs": []
    },
    {
      "cell_type": "code",
      "source": [
        "layer = SourceFileLoader(\"layer\", \"/content/RREA/CIKM/layer.py\").load_module()\n",
        "\n",
        "from layer import NR_GraphAttention\n",
        "tf.keras.backend.clear_session()\n",
        "radj = main_radj\n",
        "radj1 = main_radj1\n",
        "rel_matrix = main_rel_matrix\n",
        "rel_matrix1 = main_rel_matrix1\n",
        "node_size = adj_features.shape[0]\n",
        "rel_size = rel_features.shape[1]\n",
        "triple_size = len(adj_matrix)\n",
        "batch_size = node_size\n",
        "datas = []\n",
        "# e stand for entity ,r stand for relation , E stand for encoder(e), c stand for character embedding , R stand for encoder(r)\n",
        "run_name = 'QeER'\n",
        "\n",
        "def getMax(d):\n",
        "    l = list(d.keys())\n",
        "    random.shuffle(l)\n",
        "    m = 0 \n",
        "    max_key = -1;\n",
        "    num_max = 0\n",
        "    for k in l : \n",
        "        if d[k] > m :\n",
        "            max_key = k\n",
        "            m = d[k]\n",
        "            num_max = 1\n",
        "        elif d[k] == m:\n",
        "            num_max += 1\n",
        "    if num_max > 1:\n",
        "        max_key = -1\n",
        "    return max_key\n",
        "\n",
        "def get_match_relations(tpair , threshold = 50):\n",
        "    rmap_predict = dict()\n",
        "    temp_train_pair_dic = dict()\n",
        "    for i in range(len(tpair)):\n",
        "        temp_train_pair_dic[tpair[i][0]] = tpair[i][1]\n",
        "    triple_dic = dict()\n",
        "    for h,t,r in radj:\n",
        "        if r < (rel_size //2) :\n",
        "            if (h,t) in triple_dic:\n",
        "                triple_dic[(h,t)] += [r]\n",
        "            else:\n",
        "                triple_dic[(h,t)] = [r]\n",
        "    for h,t,r in radj:\n",
        "        if h in temp_train_pair_dic and t in temp_train_pair_dic and h != t and r < rel_size //2:\n",
        "            z = np.zeros([rel_size])\n",
        "            if (temp_train_pair_dic[h],temp_train_pair_dic[t]) in triple_dic:\n",
        "                z[triple_dic[(temp_train_pair_dic[h],temp_train_pair_dic[t])]] = 1\n",
        "                if r in rmap_predict :\n",
        "                    rmap_predict[r] += z\n",
        "                else:\n",
        "                    rmap_predict[r] = z\n",
        "    i = 0\n",
        "    matched_dic = dict()\n",
        "    for key in rmap_predict:\n",
        "        v = np.max(rmap_predict[key])\n",
        "        i += 1\n",
        "        if(v>threshold):\n",
        "            a = np.argmax(rmap_predict[key]) % (rel_size//2)\n",
        "            matched_dic[key] = a\n",
        "    #print(matched_dic);\n",
        "    return matched_dic\n",
        "\n",
        "def complete_graph(tpair,threshold=2,num = 1):\n",
        "    \n",
        "    new_train_pair = tpair.copy()\n",
        "    for i in range(num):\n",
        "        train_pair_dic1 = dict()\n",
        "        for a,b in new_train_pair : \n",
        "            train_pair_dic1[a] = b\n",
        "        selected_rmap = get_match_relations(new_train_pair,threshold)\n",
        "        print('number of matched relation is : ' ,len(selected_rmap) )\n",
        "        si = dict()\n",
        "        so = dict()\n",
        "\n",
        "        for h,t,r in radj:\n",
        "          if (t,r) not in si:\n",
        "            si[(t,r)] = [h]\n",
        "          else:\n",
        "            si[(t,r)] += [h]\n",
        "\n",
        "          if (h,r) not in so:\n",
        "            so[(h,r)] = [t]\n",
        "          else:\n",
        "            so[(h,r)] += [t]\n",
        "\n",
        "        lmap = dict()\n",
        "        rmap = dict()\n",
        "        tmap = dict()\n",
        "        for h,t,r in radj:\n",
        "            if h in train_pair_dic1 and r in selected_rmap :\n",
        "                if (train_pair_dic1[h],selected_rmap[r]) in so:\n",
        "                    for t1 in so[(train_pair_dic1[h],selected_rmap[r])]:\n",
        "                        if t not in lmap:\n",
        "                            lmap[t] = dict()\n",
        "                        if t1 not in lmap[t]:\n",
        "                            lmap[t][t1] = 1\n",
        "                        else:\n",
        "                            lmap[t][t1] += 1\n",
        "\n",
        "            if t in train_pair_dic1 and r in selected_rmap  :\n",
        "                if (train_pair_dic1[t],selected_rmap[r]) in si:\n",
        "                    for h1 in si[(train_pair_dic1[t],selected_rmap[r])]:\n",
        "                        if h not in rmap:\n",
        "                            rmap[h] = dict()\n",
        "                        if h1 not in rmap[h]:\n",
        "                            rmap[h][h1] = 1\n",
        "                        else:\n",
        "                            rmap[h][h1] += 1\n",
        "        for t in lmap:\n",
        "            if t not in tmap:\n",
        "                tmap[t] = dict()\n",
        "            for key in lmap[t]:\n",
        "                if key not in tmap[t]:\n",
        "                    tmap[t][key] = lmap[t][key]\n",
        "                else:\n",
        "                    tmap[t][key] += lmap[t][key]\n",
        "\n",
        "        for t in rmap:\n",
        "            if t not in tmap:\n",
        "                tmap[t] = dict()\n",
        "            for key in rmap[t]:\n",
        "                if key not in tmap[t]:\n",
        "                    tmap[t][key] = rmap[t][key]\n",
        "                else:\n",
        "                    tmap[t][key] += rmap[t][key]\n",
        "        l = []\n",
        "        for a in tmap:\n",
        "            if a not in train_pair_dic :\n",
        "                train_pair_dic1[a] = getMax(tmap[a])\n",
        "                l.append([a,train_pair_dic1[a] ])\n",
        "             \n",
        "\n",
        "        # for a,b in pairs:\n",
        "        #     if a not in train_pair_dic :\n",
        "        #       if a in tmap:\n",
        "        #           train_pair_dic1[a] = getMax(tmap[a])\n",
        "        #           l.append([a,train_pair_dic1[a] ])\n",
        "        #       elif a in lmap:\n",
        "        #           train_pair_dic1[a] = getMax(lmap[a])\n",
        "        #           l.append([a,train_pair_dic1[a] ])\n",
        "        #       elif a in rmap:\n",
        "        #           train_pair_dic1[a] = getMax(rmap[a])\n",
        "        #           l.append([a,train_pair_dic1[a]])\n",
        "\n",
        "        s = 0\n",
        "        if (len(l) == 0):\n",
        "            return train_pair_dic1;\n",
        "        new_train_pair = np.concatenate([new_train_pair,np.array(l)],axis=0)\n",
        "        # for t in train_pair_dic1:\n",
        "        #     if t not in train_pair_dic and pair_dic[t] == train_pair_dic1[t]:\n",
        "        #         s += 1\n",
        "        # print(s/(len(pair_dic)-len(train_pair_dic)),len(train_pair_dic1)-len(train_pair_dic))\n",
        "    return train_pair_dic1\n",
        "\n",
        "def replce_matched_relations(threshold = 50):\n",
        "    matched_dic = get_match_relations(threshold)\n",
        "    for i in range(len(radj)) :\n",
        "        h = radj[i,0]\n",
        "        t = radj[i,1]\n",
        "        r = radj[i,2]\n",
        "        if r in matched_dic :\n",
        "            radj[i,2] = matched_dic[r]\n",
        "        elif (r - rel_size//2) in matched_dic:\n",
        "            radj[i,2] = matched_dic[(r - rel_size//2)]   + (rel_size//2)\n",
        "\n",
        "    for i in range(len(rel_matrix)) :\n",
        "        h = rel_matrix[i,0]\n",
        "        r = rel_matrix[i,1]\n",
        "        if r in matched_dic :\n",
        "            rel_matrix[i,1] = matched_dic[r]\n",
        "        elif (r - rel_size//2) in matched_dic:\n",
        "            rel_matrix[i,1] = matched_dic[(r - rel_size//2)]   + (rel_size//2)\n",
        "\n",
        "\n",
        "class TokenEmbedding(keras.layers.Embedding):\n",
        "    \"\"\"Embedding layer with weights returned.\"\"\"\n",
        "\n",
        "    def compute_output_shape(self, input_shape):\n",
        "        return self.input_dim, self.output_dim\n",
        "\n",
        "    def compute_mask(self, inputs, mask=None):\n",
        "        return None\n",
        "\n",
        "    def call(self, inputs):\n",
        "        return self.embeddings\n",
        "    \n",
        "def get_embedding(add_rel_feature = False,threshold = 50,depth = 2):\n",
        "    inputs = [adj_matrix,r_index,r_val,rel_matrix,rel_matrix1,ent_matrix,radj,radj1,nadj]\n",
        "    inputs = [np.expand_dims(item,axis=0) for item in inputs]\n",
        "    if add_rel_feature == False:\n",
        "        return get_emb.predict_on_batch(inputs)\n",
        "    else:\n",
        "        selected_rmap = get_match_relations(threshold)\n",
        "        rselected_rmap = dict()\n",
        "        i = 0\n",
        "        for key in selected_rmap:\n",
        "            rselected_rmap[key] = i\n",
        "            rselected_rmap[selected_rmap[key]] = i\n",
        "            i += 1\n",
        "        f = np.zeros([node_size,len(selected_rmap)*depth])\n",
        "        for h,t,r in radj:\n",
        "            if r in rselected_rmap:\n",
        "                f[h,rselected_rmap[r]] += 1./degree[h,2]\n",
        "            \n",
        "        for i in range(depth-1):\n",
        "            for h,t,r in radj:\n",
        "                f[h,(i+1)*depth:(i+2)*depth] += 1./degree[h,2] * f[t,(i)*depth:(i+1)*depth]\n",
        "\n",
        "        f1 = get_emb.predict_on_batch(inputs)\n",
        "        f1 = f1 / np.linalg.norm(f1,axis=-1,keepdims=True)\n",
        "        f = f / np.linalg.norm(f,axis=-1,keepdims=True)\n",
        "        f2 = np.concatenate([f,f1],axis=1)\n",
        "        return f\n",
        "\n",
        "def test(wrank = None):\n",
        "    vec = get_embedding()\n",
        "    return  get_hits(vec,dev_pair,wrank=wrank)\n",
        "\n",
        "def CSLS_test(thread_number = 16, csls=10,accurate = True):\n",
        "    vec = get_embedding()\n",
        "    #vec =get_embedding(True,threshold = 2,depth = 1)\n",
        "    trest_set_1 = [e1 for e1, e2 in dev_pair]\n",
        "    trest_set_2 = [e2 for e1, e2 in dev_pair]\n",
        "    Lvec = np.array([vec[e1] for e1, e2 in dev_pair])\n",
        "    Rvec = np.array([vec[e2] for e1, e2 in dev_pair])\n",
        "\n",
        "    Lvec = Lvec / np.linalg.norm(Lvec,axis=-1,keepdims=True)\n",
        "    Rvec = Rvec / np.linalg.norm(Rvec,axis=-1,keepdims=True)\n",
        "\n",
        "    # Lvec1 = np.array([rec_deg[e1] for e1, e2 in dev_pair])\n",
        "    # Rvec1 = np.array([rec_deg[e2] for e1, e2 in dev_pair])\n",
        "\n",
        "    # Lvec1 = 0.5 * Lvec1 / np.linalg.norm(Lvec1,axis=-1,keepdims=True)\n",
        "    # Rvec1 = 0.5 * Rvec1 / np.linalg.norm(Rvec1,axis=-1,keepdims=True)\n",
        "\n",
        "    # Lvec = np.concatenate([Lvec,Lvec1],axis=-1)\n",
        "    # Rvec = np.concatenate([Rvec,Rvec1],axis=-1)\n",
        "\n",
        "    # Lvec = Lvec / np.linalg.norm(Lvec,axis=-1,keepdims=True)\n",
        "    # Rvec = Rvec / np.linalg.norm(Rvec,axis=-1,keepdims=True)\n",
        "\n",
        "    lprec,ldata,_ = eval_alignment_by_sim_mat(Lvec, Rvec, [1, 5, 10], thread_number, csls=csls, accurate=accurate)\n",
        "    results = np.zeros([len(dev_pair)])\n",
        "\n",
        "    for i in range(len(dev_pair)):\n",
        "        if((i,i) in lprec):\n",
        "            results[i] = 1\n",
        "\n",
        "    datas.append((results,ldata))\n",
        "    save_datas()\n",
        "    return None\n",
        "\n",
        "def save_datas():\n",
        "    with open('/content/RREA/'+lang+\"_\"+run_name+'.pkl', 'wb') as f:  # Python 3: open(..., 'wb')\n",
        "        pickle.dump([train_pair_degrees,dev_pair_degrees,datas], f)\n",
        "\n",
        "def load_datas():\n",
        "    with open('/content/RREA/'+lang+\"_\"+run_name+'.pkl', 'rb') as f:  # Python 3: open(..., 'wb')\n",
        "        mydata =pickle.load(f)\n",
        "    return mydata;\n",
        "\n",
        "def get_train_set(batch_size = batch_size):\n",
        "    negative_ratio =  batch_size // len(train_pair) + 1\n",
        "    train_set = np.reshape(np.repeat(np.expand_dims(train_pair,axis=0),axis=0,repeats=negative_ratio),newshape=(-1,2))\n",
        "    np.random.shuffle(train_set); train_set = train_set[:batch_size]\n",
        "    train_set = np.concatenate([train_set,np.random.randint(0,node_size,[train_set.shape[0],4])],axis = -1)\n",
        "    return train_set\n",
        "\n",
        "def get_train_set1(batch_size = batch_size):\n",
        "    train_set = train_pair\n",
        "    np.random.shuffle(train_set);\n",
        "    train_set = np.concatenate([train_set,np.random.randint(0,node_size,train_set.shape)],axis = -1)\n",
        "    return train_set\n",
        "\n",
        "def get_trgat(node_size,rel_size,node_hidden,rel_hidden,triple_size,n_attn_heads = 2,dropout_rate = 0,gamma = 3,lr = 0.005,depth = 2):\n",
        "    adj_input = Input(shape=(None,2))\n",
        "    index_input = Input(shape=(None,2),dtype='int64')\n",
        "    val_input = Input(shape = (None,))\n",
        "    rel_adj = Input(shape=(None,2))\n",
        "    rel_adj1 = Input(shape=(None,2))\n",
        "    ent_adj = Input(shape=(None,2))\n",
        "    radj = Input(shape=(None,3),dtype='int64')\n",
        "    radj1 = Input(shape=(None,3),dtype='int64')\n",
        "    nadj = Input(shape=(None,3))\n",
        "    \n",
        "    # ent_emb = TokenEmbedding(node_size,node_hidden,embeddings_initializer=\"LecunNormal\",trainable = True)(val_input) \n",
        "    # rel_emb = TokenEmbedding(rel_size,node_hidden,embeddings_initializer=\"LecunNormal\",trainable = True)(val_input)\n",
        "    # ch_emb = TokenEmbedding(char_size,node_hidden,embeddings_initializer=\"LecunNormal\",trainable = True)(val_input)\n",
        "\n",
        "    ent_emb = TokenEmbedding(node_size,node_hidden,trainable = True)(val_input) \n",
        "    rel_emb = TokenEmbedding(rel_size,node_hidden,trainable = True)(val_input)\n",
        "    ch_emb = TokenEmbedding(char_size,node_hidden,trainable = True)(val_input)\n",
        "\n",
        "\n",
        "    # E = TokenEmbedding(node_hidden,node_hidden,trainable = True)(val_input)\n",
        "    # R = TokenEmbedding(node_hidden,node_hidden,trainable = True)(val_input)\n",
        "    def ch_avg(tensor,size):\n",
        "        n_adj = tf.squeeze(tensor[0],axis = 0)\n",
        "        adj = K.cast(n_adj[:,0:2],dtype = \"int64\")   \n",
        "        adj = tf.SparseTensor(indices=adj, values=tf.ones_like(n_adj[:,2],dtype = 'float32') , dense_shape=(node_size,size)) \n",
        "        adj = tf.compat.v1.sparse_softmax(adj) \n",
        "        l_adj = tf.compat.v1.sparse_tensor_dense_matmul(adj,tensor[1])\n",
        "        return l_adj\n",
        "\n",
        "    def avg(tensor,size):\n",
        "        adj = K.cast(K.squeeze(tensor[0],axis = 0),dtype = \"int64\")   \n",
        "        adj = tf.SparseTensor(indices=adj, values=tf.ones_like(adj[:,0],dtype = 'float32'), dense_shape=(node_size,size)) \n",
        "        adj = tf.compat.v1.sparse_softmax(adj) \n",
        "        l_adj = tf.compat.v1.sparse_tensor_dense_matmul(adj,tensor[1])\n",
        "        return l_adj\n",
        "\n",
        "    name_feature = Lambda(ch_avg,arguments={'size':char_size})([nadj,ch_emb])\n",
        "    # rel_feature1 = Lambda(avg,arguments={'size':rel_size//2})([rel_adj,rel_emb])\n",
        "    # rel_feature2 = Lambda(avg,arguments={'size':rel_size//2})([rel_adj1,rel_emb])\n",
        "    rel_feature = Lambda(avg,arguments={'size':rel_size})([rel_adj,rel_emb])\n",
        "    # rel_feature1= Lambda(avg,arguments={'size':node_size})([rel_adj,rel_feature])\n",
        "    # rel_feature = 0.8 * rel_feature + 0.2 * rel_feature1\n",
        "\n",
        "    ent_feature = Lambda(avg,arguments={'size':node_size})([ent_adj,ent_emb])\n",
        "    ent_feature1 = Lambda(avg,arguments={'size':node_size})([ent_adj,ent_feature])\n",
        "    ent_feature = 0.8 * ent_feature + 0.2 * ent_feature1\n",
        "    # rel_emb = K.concatenate([rel_emb1,rel_emb2])\n",
        "    #rel_feature = K.concatenate([rel_feature1,rel_feature2])\n",
        "\n",
        "    encoder = NR_GraphAttention(node_size,activation=\"relu\",\n",
        "                                       rel_size = rel_size,\n",
        "                                       depth =2,\n",
        "                                       attn_heads=n_attn_heads,\n",
        "                                       triple_size = triple_size,\n",
        "                                       attn_heads_reduction='average',   \n",
        "                                       dropout_rate=dropout_rate)\n",
        "    encoder1 = NR_GraphAttention(node_size,activation=\"relu\",\n",
        "                                    rel_size = rel_size,\n",
        "                                    depth = 2,\n",
        "                                    attn_heads=n_attn_heads,\n",
        "                                    triple_size = triple_size,\n",
        "                                    attn_heads_reduction='average',   \n",
        "                                    dropout_rate=dropout_rate)\n",
        "    encoder2 = NR_GraphAttention(node_size,activation=\"relu\",\n",
        "                                       rel_size = rel_size,\n",
        "                                       depth = 2,\n",
        "                                       attn_heads=n_attn_heads,\n",
        "                                       triple_size = triple_size,\n",
        "                                       attn_heads_reduction='average',   \n",
        "                                       dropout_rate=dropout_rate)\n",
        "    opt1 = [rel_emb,adj_input,index_input,val_input,radj,radj1]\n",
        "    opt2 = [rel_emb,adj_input,index_input,val_input,radj1]\n",
        "    elements = []\n",
        "    coefs = []\n",
        "    for f_name in run_name:\n",
        "        if f_name == 'e':\n",
        "            elements += [ent_emb]\n",
        "            coefs += [0.2]\n",
        "        elif f_name == 'E':\n",
        "            elements += encoder1([ent_feature]+opt1) \n",
        "            coefs += [0.8,0.8,0.8]\n",
        "        elif f_name == 'R':\n",
        "            elements += encoder1([rel_feature]+opt1) #+ encoder([rel_feature1]+opt2)\n",
        "            coefs +=  [0.8,0.8,0.8]\n",
        "        elif f_name == 'q':\n",
        "            elements += [rel_feature1]\n",
        "            coefs +=  [-0.5]\n",
        "        elif f_name == 'C':\n",
        "            elements += encoder2([name_feature]+opt1)\n",
        "            coefs +=  [0.8,0.8,0.8]\n",
        "        elif f_name == 'c':\n",
        "            elements += [name_feature]\n",
        "            coefs += [1.]\n",
        "\n",
        "    #elements = [ent_emb] +   encoder([rel_feature]+opt1)+encoder([ent_feature]+opt1)\n",
        "    #elements = [0.3 * ent_emb[:,:node_hidden//2]]+ el[0:3]+el[6:9]+[0.2 * ent_emb[:,node_hidden//2:]] + el[3:6]+el[9:12]\n",
        "    num_el = elements.__len__()\n",
        "    alpha =  tf.Variable([0.2], trainable=False)\n",
        "    weight =  tf.Variable(coefs, trainable=False)\n",
        "    #weight = (num_el-1)* tf.math.softmax(weight)\n",
        "    #weight =  tf.Variable(1 * [-0.2,1.0] + (num_el-2) * [.8], trainable=False)\n",
        "    print(weight)\n",
        "    #elements = [alpha * elements[0]] + [elements[_i+1]*(1-alpha) for _i in range(len(elements)-1) ]\n",
        "    elements = [elements[_i]*weight[_i] for _i in range(len(elements)) ]\n",
        "    out_feature = Concatenate(-1)(elements)\n",
        "    out_feature = Dropout(dropout_rate)(out_feature)\n",
        "    \n",
        "    alignment_input = Input(shape=(None,6),dtype = \"int64\") \n",
        "    #find = Lambda(lambda x:K.gather(reference=x[0],indices=K.cast(K.squeeze(x[1],axis=0), 'int32')))([out_feature,alignment_input])\n",
        "\n",
        "    I = K.cast(K.squeeze(alignment_input,axis=0),dtype = \"int64\")\n",
        "   \n",
        "    A = K.sum(K.abs(K.gather(out_feature,I[:,0])-K.gather(out_feature,I[:,1])),axis=-1,keepdims=True)\n",
        "    loss = 0.1 * ( K.relu(1 - K.sum(K.abs(K.gather(out_feature,I[:,0])))) +K.relu(1 - K.sum(K.abs(K.gather(out_feature,I[:,1])))))\n",
        "    for i in range(2):\n",
        "        B = K.sum(K.abs(K.gather(out_feature,I[:,0])-K.gather(out_feature,I[:,2+i])),axis=-1,keepdims=True)\n",
        "        C = K.sum(K.abs(K.gather(out_feature,I[:,1])-K.gather(out_feature,I[:,2+i])),axis=-1,keepdims=True)\n",
        "        loss += K.relu(gamma +A -B) + K.relu(gamma +A -C)\n",
        "        loss += 0.1 * ( K.relu(1 - K.sum(K.abs(K.gather(out_feature,I[:,2+i])))))\n",
        "    loss =  tf.compat.v1.reduce_sum(loss,keep_dims=True) / (batch_size)    \n",
        "   \n",
        "    inputs = [adj_input,index_input,val_input,rel_adj,rel_adj1,ent_adj,radj,radj1,nadj]\n",
        "    train_model = keras.Model(inputs = inputs + [alignment_input],outputs = loss)\n",
        "    \n",
        "    train_model.compile(loss=lambda y_true,y_pred: y_pred,optimizer=tf.keras.optimizers.RMSprop(lr=lr))\n",
        "    \n",
        "    feature_model = keras.Model(inputs = inputs,outputs = out_feature)\n",
        "    return train_model,feature_model"
      ],
      "metadata": {
        "id": "OwozXDxFgycr"
      },
      "execution_count": 9,
      "outputs": []
    },
    {
      "cell_type": "code",
      "source": [
        "run_name = 'eER'\n",
        "model,get_emb = get_trgat(dropout_rate=0.3,node_size=node_size,rel_size=rel_size,n_attn_heads = 1,depth=2,gamma =3,node_hidden=100,rel_hidden = 100,triple_size = triple_size)\n",
        "#model.summary(); \n",
        "initial_weights = model.get_weights()"
      ],
      "metadata": {
        "id": "VOZDkwnYjLrL",
        "outputId": "55cd37fa-6576-4c45-8a43-ba0a83ca3719",
        "colab": {
          "base_uri": "https://localhost:8080/"
        }
      },
      "execution_count": 10,
      "outputs": [
        {
          "output_type": "stream",
          "name": "stdout",
          "text": [
            "<tf.Variable 'Variable:0' shape=(7,) dtype=float32, numpy=array([0.2, 0.8, 0.8, 0.8, 0.8, 0.8, 0.8], dtype=float32)>\n"
          ]
        }
      ]
    },
    {
      "cell_type": "code",
      "source": [
        "train_pair = train_pair_main\n",
        "\n",
        "train_pair_dic = dict()\n",
        "for i in range(len(train_pair)):\n",
        "    train_pair_dic[train_pair[i][0]] = train_pair[i][1]\n",
        "    \n",
        "radj = main_radj\n",
        "radj1 = main_radj1\n",
        "rel_matrix = main_rel_matrix\n",
        "rel_matrix1 = main_rel_matrix1  \n",
        "tf.keras.backend.clear_session()\n",
        "config = tf.compat.v1.ConfigProto()\n",
        "config.gpu_options.allow_growth=True  \n",
        "sess = tf.compat.v1.Session(config=config) \n",
        "\n",
        "rest_set_1 = [e1 for e1, e2 in dev_pair]\n",
        "rest_set_2 = [e2 for e1, e2 in dev_pair]\n",
        "np.random.shuffle(rest_set_1)\n",
        "np.random.shuffle(rest_set_2)\n",
        "print ('entity alignment started for dataset' , lang, run_name)\n",
        "epoch = 200\n",
        "hb = True\n",
        "for turn in range(1,30):\n",
        "    print(\"iteration %d start.\"%turn)\n",
        "    for i in trange(epoch):\n",
        "        cur_epoch = i\n",
        "        train_set = get_train_set()\n",
        "        \n",
        "        inputs = [adj_matrix,r_index,r_val,rel_matrix,rel_matrix1,ent_matrix,radj,radj1,nadj,train_set]\n",
        "        inputs = [np.expand_dims(item,axis=0) for item in inputs]\n",
        "        model.train_on_batch(inputs,np.zeros((1,1)))\n",
        "        #CSLS_test()\n",
        "        if i%100 == 99 and i+1 != epoch:\n",
        "            \n",
        "            CSLS_test()     \n",
        "\n",
        "    # if turn == 0:\n",
        "    #     epoch = 100\n",
        "    #     CSLS_test()\n",
        "    #     break;\n",
        "    CSLS_test()       \n",
        "    new_pair1 = []\n",
        "    new_pair = []\n",
        "    if (len(rest_set_1) < 10 or len(rest_set_2) < 10):\n",
        "        continue\n",
        "    #vec = get_embedding()\n",
        "    vec = get_embedding()\n",
        "    Lvec = np.array([vec[e] for e in rest_set_1])\n",
        "    Rvec = np.array([vec[e] for e in rest_set_2])\n",
        "    Lvec = Lvec / np.linalg.norm(Lvec,axis=-1,keepdims=True)\n",
        "    Rvec = Rvec / np.linalg.norm(Rvec,axis=-1,keepdims=True)\n",
        "    A,_,_ = eval_alignment_by_sim_mat(Lvec, Rvec, [1, 5, 10], 16,10,True,False)\n",
        "    B,_,_ = eval_alignment_by_sim_mat(Rvec, Lvec,[1, 5, 10], 16,10,True,False)\n",
        "    A = sorted(list(A)); B = sorted(list(B))\n",
        "    AB = dict()\n",
        "    for a,b in A:\n",
        "        if  B[b][1] == a:\n",
        "            if rest_set_1[a] not in AB:\n",
        "                AB[rest_set_1[a]] = 1\n",
        "            else:\n",
        "                AB[rest_set_1[a]] += 1\n",
        "            if rest_set_2[b] not in AB:\n",
        "                AB[rest_set_2[b]] = 1\n",
        "            else:\n",
        "                AB[rest_set_2[b]] += 1\n",
        "    for a,b in A:\n",
        "        if  B[b][1] == a  and AB[rest_set_1[a]] == 1 and AB[rest_set_2[b]] == 1 :\n",
        "            new_pair1.append([rest_set_1[a],rest_set_2[b]])\n",
        "    if hb :\n",
        "        train_pair1 = np.concatenate([train_pair,np.array(new_pair1)],axis = 0)\n",
        "        new_pair_dic = complete_graph(train_pair1,2,1) \n",
        "        \n",
        "        for a,b in new_pair1:\n",
        "\n",
        "              if (a in new_pair_dic and new_pair_dic[a] == b):\n",
        "                  new_pair.append([a,b])\n",
        "        print('number of new pair , candidate pair, train pair: ' , len(new_pair) , len(new_pair1), len(train_pair))\n",
        "        if len(new_pair) < 100:\n",
        "            if len(new_pair1) < 100:\n",
        "                new_pair = new_pair1\n",
        "            else:\n",
        "                random.shuffle(new_pair1)\n",
        "                new_pair = new_pair1[:min(max(len(new_pair1)//2,100),500)]\n",
        "    else:\n",
        "        new_pair = new_pair1\n",
        "        print('number of new pair, training pair: ' , len(new_pair) , len(train_pair))\n",
        "\n",
        "    epoch = 100 #+ 100 * (len(new_pair)//1000)\n",
        "    if epoch > 500:\n",
        "        epoch = 500\n",
        "\n",
        "    # _,_,A = eval_alignment_by_sim_mat(Lvec, Rvec, [1, 5, 10], 16,10,True,False)\n",
        "    # _,_,B = eval_alignment_by_sim_mat(Rvec, Lvec,[1, 5, 10], 16,10,True,False)\n",
        "    # A = A[0]\n",
        "    # B = B[0]\n",
        "\n",
        "    # for i in range(len(A)):\n",
        "    #     if i == B[A[i,0],0]:\n",
        "    #         has_other_pair = 0\n",
        "    #         for _i in range(1,10):\n",
        "    #             if(_i in B[A[i,_i],:10]):\n",
        "    #                 has_other_pair = 1\n",
        "    #                 break;\n",
        "\n",
        "    #         if has_other_pair == 0:\n",
        "    #               #print([rest_set_1[i],rest_set_2[A[i,j]]])\n",
        "    #               new_pair.append([rest_set_1[i],rest_set_2[A[i,0]]])\n",
        "\n",
        "\n",
        "    # new_pair_dic = complete_graph(train_pair,2,10) \n",
        "    # for a,b in new_pair1:\n",
        "    #     if (a in new_pair_dic and new_pair_dic[a] == b):\n",
        "    #         new_pair.append([a,b])\n",
        "\n",
        "    train_pair = np.concatenate([train_pair,np.array(new_pair)],axis = 0)\n",
        "    # s = 0\n",
        "    # s1 = 0\n",
        "    # for a,b in new_pair :\n",
        "    #     if pair_dic[a] == b:\n",
        "    #         s1 += 1\n",
        "    # for a,b in train_pair:\n",
        "    #     if a not in train_pair_dic and pair_dic[a] == b:\n",
        "    #         s += 1\n",
        "\n",
        "    #print(\"generate new semi-pairs: \" + str(len(new_pair)) + \".  num of correct new pairs\" + str(s1))\n",
        "    #print(\"total new pairs: \" + str(len(train_pair) - len(train_pair_dic)) + \".  num of correct new pairs \" + str(s) +  \"(\"+str(s/(len(train_pair) - len(train_pair_dic))) +\")\")\n",
        "    for e1,e2 in new_pair:\n",
        "        if e1 in rest_set_1:\n",
        "            rest_set_1.remove(e1) \n",
        "        \n",
        "    for e1,e2 in new_pair:\n",
        "        if e2 in rest_set_2:\n",
        "            rest_set_2.remove(e2)\n",
        "            \n",
        "    with open('/content/RREA/'+lang+\"_\"+run_name+'_train_pair'+str(turn)+'.pkl', 'wb') as f:  # Python 3: open(..., 'wb')\n",
        "        pickle.dump(train_pair, f)\n",
        "\n",
        "    #complete_graph(train_pair,2,10)\n",
        "    #match_relations()\n",
        "# for turn in range(5):\n",
        "#     files.download('/content/RREA/'+lang+\"_\"+run_name+'_train_pair'+str(turn)+'.pkl');\n",
        "# files.download('/content/RREA/'+lang+\"_\"+run_name+'.pkl') "
      ],
      "metadata": {
        "id": "pLYXVCI1iB4-",
        "colab": {
          "base_uri": "https://localhost:8080/"
        },
        "outputId": "963c7cd8-4866-4253-bb8d-e797c801be3f"
      },
      "execution_count": null,
      "outputs": [
        {
          "output_type": "stream",
          "name": "stdout",
          "text": [
            "entity alignment started for dataset rrk5-0-5 eER\n",
            "iteration 1 start.\n"
          ]
        },
        {
          "output_type": "stream",
          "name": "stderr",
          "text": [
            " 50%|████▉     | 99/200 [00:57<00:50,  2.01it/s]"
          ]
        },
        {
          "output_type": "stream",
          "name": "stdout",
          "text": [
            "accurate results: hits@[1, 5, 10] = [64.77 93.31 96.53], mr = 7.521, mrr = 0.768, time = 33.724 s \n"
          ]
        },
        {
          "output_type": "stream",
          "name": "stderr",
          "text": [
            "100%|██████████| 200/200 [02:24<00:00,  1.39it/s]\n"
          ]
        },
        {
          "output_type": "stream",
          "name": "stdout",
          "text": [
            "accurate results: hits@[1, 5, 10] = [65.44 94.12 97.07], mr = 6.287, mrr = 0.776, time = 32.685 s \n",
            "number of matched relation is :  1\n",
            "number of new pair , candidate pair, train pair:  3946 8114 5038\n",
            "iteration 2 start.\n"
          ]
        },
        {
          "output_type": "stream",
          "name": "stderr",
          "text": [
            "100%|██████████| 100/100 [00:50<00:00,  1.97it/s]\n"
          ]
        },
        {
          "output_type": "stream",
          "name": "stdout",
          "text": [
            "accurate results: hits@[1, 5, 10] = [67.65 95.18 97.86], mr = 4.805, mrr = 0.793, time = 32.551 s \n",
            "number of matched relation is :  1\n",
            "number of new pair , candidate pair, train pair:  505 4664 8984\n",
            "iteration 3 start.\n"
          ]
        },
        {
          "output_type": "stream",
          "name": "stderr",
          "text": [
            "100%|██████████| 100/100 [00:51<00:00,  1.92it/s]\n"
          ]
        },
        {
          "output_type": "stream",
          "name": "stdout",
          "text": [
            "accurate results: hits@[1, 5, 10] = [68.89 95.28 97.91], mr = 5.913, mrr = 0.801, time = 32.360 s \n",
            "number of matched relation is :  1\n",
            "number of new pair , candidate pair, train pair:  152 4319 9489\n",
            "iteration 4 start.\n"
          ]
        },
        {
          "output_type": "stream",
          "name": "stderr",
          "text": [
            "100%|██████████| 100/100 [00:51<00:00,  1.96it/s]\n"
          ]
        },
        {
          "output_type": "stream",
          "name": "stdout",
          "text": [
            "accurate results: hits@[1, 5, 10] = [69.58 95.35 97.98], mr = 7.031, mrr = 0.805, time = 34.609 s \n",
            "number of matched relation is :  1\n",
            "number of new pair , candidate pair, train pair:  60 4229 9641\n",
            "iteration 5 start.\n"
          ]
        },
        {
          "output_type": "stream",
          "name": "stderr",
          "text": [
            "100%|██████████| 100/100 [00:50<00:00,  1.97it/s]\n"
          ]
        },
        {
          "output_type": "stream",
          "name": "stdout",
          "text": [
            "accurate results: hits@[1, 5, 10] = [69.58 95.36 97.88], mr = 7.201, mrr = 0.805, time = 30.263 s \n",
            "number of matched relation is :  1\n",
            "number of new pair , candidate pair, train pair:  49 4160 9701\n",
            "iteration 6 start.\n"
          ]
        },
        {
          "output_type": "stream",
          "name": "stderr",
          "text": [
            "100%|██████████| 100/100 [00:51<00:00,  1.92it/s]\n"
          ]
        },
        {
          "output_type": "stream",
          "name": "stdout",
          "text": [
            "accurate results: hits@[1, 5, 10] = [69.94 95.28 97.89], mr = 7.341, mrr = 0.806, time = 32.377 s \n",
            "number of matched relation is :  1\n",
            "number of new pair , candidate pair, train pair:  28 4189 9750\n",
            "iteration 7 start.\n"
          ]
        },
        {
          "output_type": "stream",
          "name": "stderr",
          "text": [
            "100%|██████████| 100/100 [00:51<00:00,  1.96it/s]\n"
          ]
        },
        {
          "output_type": "stream",
          "name": "stdout",
          "text": [
            "accurate results: hits@[1, 5, 10] = [69.75 95.33 97.9 ], mr = 8.430, mrr = 0.806, time = 29.612 s \n",
            "number of matched relation is :  1\n",
            "number of new pair , candidate pair, train pair:  34 3831 10250\n",
            "iteration 8 start.\n"
          ]
        },
        {
          "output_type": "stream",
          "name": "stderr",
          "text": [
            "100%|██████████| 100/100 [00:51<00:00,  1.96it/s]\n"
          ]
        },
        {
          "output_type": "stream",
          "name": "stdout",
          "text": [
            "accurate results: hits@[1, 5, 10] = [70.42 95.44 97.91], mr = 10.874, mrr = 0.809, time = 33.360 s \n",
            "number of matched relation is :  1\n",
            "number of new pair , candidate pair, train pair:  26 3863 10284\n",
            "iteration 9 start.\n"
          ]
        },
        {
          "output_type": "stream",
          "name": "stderr",
          "text": [
            "100%|██████████| 100/100 [00:51<00:00,  1.95it/s]\n"
          ]
        },
        {
          "output_type": "stream",
          "name": "stdout",
          "text": [
            "accurate results: hits@[1, 5, 10] = [69.93 95.39 97.92], mr = 12.391, mrr = 0.808, time = 32.776 s \n",
            "number of matched relation is :  1\n",
            "number of new pair , candidate pair, train pair:  39 3541 10784\n",
            "iteration 10 start.\n"
          ]
        },
        {
          "output_type": "stream",
          "name": "stderr",
          "text": [
            "100%|██████████| 100/100 [00:51<00:00,  1.95it/s]\n"
          ]
        },
        {
          "output_type": "stream",
          "name": "stdout",
          "text": [
            "accurate results: hits@[1, 5, 10] = [70.26 95.51 97.87], mr = 14.152, mrr = 0.810, time = 33.792 s \n",
            "number of matched relation is :  1\n",
            "number of new pair , candidate pair, train pair:  13 3552 10823\n",
            "iteration 11 start.\n"
          ]
        },
        {
          "output_type": "stream",
          "name": "stderr",
          "text": [
            "100%|██████████| 100/100 [00:51<00:00,  1.94it/s]\n"
          ]
        },
        {
          "output_type": "stream",
          "name": "stdout",
          "text": [
            "accurate results: hits@[1, 5, 10] = [70.65 95.43 97.87], mr = 14.077, mrr = 0.812, time = 34.547 s \n",
            "number of matched relation is :  1\n",
            "number of new pair , candidate pair, train pair:  25 3242 11323\n",
            "iteration 12 start.\n"
          ]
        },
        {
          "output_type": "stream",
          "name": "stderr",
          "text": [
            "100%|██████████| 100/100 [00:50<00:00,  1.98it/s]\n"
          ]
        },
        {
          "output_type": "stream",
          "name": "stdout",
          "text": [
            "accurate results: hits@[1, 5, 10] = [70.91 95.42 97.92], mr = 12.632, mrr = 0.813, time = 31.710 s \n",
            "number of matched relation is :  1\n",
            "number of new pair , candidate pair, train pair:  36 2961 11823\n",
            "iteration 13 start.\n"
          ]
        },
        {
          "output_type": "stream",
          "name": "stderr",
          "text": [
            "100%|██████████| 100/100 [00:50<00:00,  1.98it/s]\n"
          ]
        },
        {
          "output_type": "stream",
          "name": "stdout",
          "text": [
            "accurate results: hits@[1, 5, 10] = [71.   95.52 97.92], mr = 13.584, mrr = 0.814, time = 34.178 s \n",
            "number of matched relation is :  1\n",
            "number of new pair , candidate pair, train pair:  13 2968 11859\n",
            "iteration 14 start.\n"
          ]
        },
        {
          "output_type": "stream",
          "name": "stderr",
          "text": [
            "100%|██████████| 100/100 [00:50<00:00,  1.96it/s]\n"
          ]
        },
        {
          "output_type": "stream",
          "name": "stdout",
          "text": [
            "accurate results: hits@[1, 5, 10] = [71.09 95.39 97.88], mr = 15.486, mrr = 0.814, time = 34.759 s \n",
            "number of matched relation is :  1\n",
            "number of new pair , candidate pair, train pair:  11 2630 12359\n",
            "iteration 15 start.\n"
          ]
        },
        {
          "output_type": "stream",
          "name": "stderr",
          "text": [
            "100%|██████████| 100/100 [00:51<00:00,  1.96it/s]\n"
          ]
        },
        {
          "output_type": "stream",
          "name": "stdout",
          "text": [
            "accurate results: hits@[1, 5, 10] = [71.27 95.45 97.87], mr = 14.642, mrr = 0.815, time = 29.654 s \n",
            "number of matched relation is :  1\n",
            "number of new pair , candidate pair, train pair:  21 2303 12859\n",
            "iteration 16 start.\n"
          ]
        },
        {
          "output_type": "stream",
          "name": "stderr",
          "text": [
            "100%|██████████| 100/100 [00:51<00:00,  1.92it/s]\n"
          ]
        },
        {
          "output_type": "stream",
          "name": "stdout",
          "text": [
            "accurate results: hits@[1, 5, 10] = [71.21 95.38 97.87], mr = 14.073, mrr = 0.815, time = 30.493 s \n",
            "number of matched relation is :  1\n",
            "number of new pair , candidate pair, train pair:  20 2016 13359\n",
            "iteration 17 start.\n"
          ]
        },
        {
          "output_type": "stream",
          "name": "stderr",
          "text": [
            "100%|██████████| 100/100 [00:51<00:00,  1.96it/s]\n"
          ]
        },
        {
          "output_type": "stream",
          "name": "stdout",
          "text": [
            "accurate results: hits@[1, 5, 10] = [71.86 95.55 97.87], mr = 14.006, mrr = 0.818, time = 30.961 s \n",
            "number of matched relation is :  1\n",
            "number of new pair , candidate pair, train pair:  21 1707 13859\n",
            "iteration 18 start.\n"
          ]
        },
        {
          "output_type": "stream",
          "name": "stderr",
          "text": [
            "100%|██████████| 100/100 [00:52<00:00,  1.91it/s]\n"
          ]
        },
        {
          "output_type": "stream",
          "name": "stdout",
          "text": [
            "accurate results: hits@[1, 5, 10] = [71.94 95.34 97.87], mr = 15.385, mrr = 0.818, time = 30.646 s \n",
            "number of matched relation is :  1\n",
            "number of new pair , candidate pair, train pair:  21 1385 14359\n",
            "iteration 19 start.\n"
          ]
        },
        {
          "output_type": "stream",
          "name": "stderr",
          "text": [
            "100%|██████████| 100/100 [00:51<00:00,  1.94it/s]\n"
          ]
        },
        {
          "output_type": "stream",
          "name": "stdout",
          "text": [
            "accurate results: hits@[1, 5, 10] = [71.75 95.54 97.94], mr = 15.068, mrr = 0.818, time = 30.378 s \n",
            "number of matched relation is :  1\n",
            "number of new pair , candidate pair, train pair:  21 1100 14859\n",
            "iteration 20 start.\n"
          ]
        },
        {
          "output_type": "stream",
          "name": "stderr",
          "text": [
            "100%|██████████| 100/100 [00:51<00:00,  1.94it/s]\n"
          ]
        },
        {
          "output_type": "stream",
          "name": "stdout",
          "text": [
            "accurate results: hits@[1, 5, 10] = [72.29 95.68 97.95], mr = 15.838, mrr = 0.821, time = 30.364 s \n",
            "number of matched relation is :  1\n",
            "number of new pair , candidate pair, train pair:  12 811 15359\n",
            "iteration 21 start.\n"
          ]
        },
        {
          "output_type": "stream",
          "name": "stderr",
          "text": [
            "100%|██████████| 100/100 [00:51<00:00,  1.92it/s]\n"
          ]
        },
        {
          "output_type": "stream",
          "name": "stdout",
          "text": [
            "accurate results: hits@[1, 5, 10] = [72.14 95.58 97.95], mr = 16.080, mrr = 0.821, time = 32.220 s \n",
            "number of matched relation is :  1\n",
            "number of new pair , candidate pair, train pair:  7 590 15764\n",
            "iteration 22 start.\n"
          ]
        },
        {
          "output_type": "stream",
          "name": "stderr",
          "text": [
            "100%|██████████| 100/100 [00:51<00:00,  1.93it/s]\n"
          ]
        },
        {
          "output_type": "stream",
          "name": "stdout",
          "text": [
            "accurate results: hits@[1, 5, 10] = [72.15 95.54 97.87], mr = 19.601, mrr = 0.821, time = 49.912 s \n",
            "number of matched relation is :  1\n",
            "number of new pair , candidate pair, train pair:  11 414 16059\n",
            "iteration 23 start.\n"
          ]
        },
        {
          "output_type": "stream",
          "name": "stderr",
          "text": [
            "100%|██████████| 100/100 [00:53<00:00,  1.87it/s]\n"
          ]
        },
        {
          "output_type": "stream",
          "name": "stdout",
          "text": [
            "accurate results: hits@[1, 5, 10] = [72.4  95.67 97.92], mr = 20.835, mrr = 0.823, time = 30.441 s \n",
            "number of matched relation is :  1\n",
            "number of new pair , candidate pair, train pair:  7 299 16266\n",
            "iteration 24 start.\n"
          ]
        },
        {
          "output_type": "stream",
          "name": "stderr",
          "text": [
            "100%|██████████| 100/100 [00:51<00:00,  1.93it/s]\n"
          ]
        },
        {
          "output_type": "stream",
          "name": "stdout",
          "text": [
            "accurate results: hits@[1, 5, 10] = [72.38 95.65 97.91], mr = 23.223, mrr = 0.823, time = 30.586 s \n",
            "number of matched relation is :  1\n",
            "number of new pair , candidate pair, train pair:  6 215 16415\n",
            "iteration 25 start.\n"
          ]
        },
        {
          "output_type": "stream",
          "name": "stderr",
          "text": [
            "100%|██████████| 100/100 [00:52<00:00,  1.92it/s]\n"
          ]
        },
        {
          "output_type": "stream",
          "name": "stdout",
          "text": [
            "accurate results: hits@[1, 5, 10] = [72.25 95.65 97.9 ], mr = 28.436, mrr = 0.821, time = 31.386 s \n",
            "number of matched relation is :  1\n",
            "number of new pair , candidate pair, train pair:  6 148 16522\n",
            "iteration 26 start.\n"
          ]
        },
        {
          "output_type": "stream",
          "name": "stderr",
          "text": [
            "100%|██████████| 100/100 [00:52<00:00,  1.92it/s]\n"
          ]
        },
        {
          "output_type": "stream",
          "name": "stdout",
          "text": [
            "accurate results: hits@[1, 5, 10] = [72.27 95.6  97.94], mr = 32.320, mrr = 0.822, time = 30.962 s \n",
            "number of matched relation is :  1\n",
            "number of new pair , candidate pair, train pair:  3 97 16622\n",
            "iteration 27 start.\n"
          ]
        },
        {
          "output_type": "stream",
          "name": "stderr",
          "text": [
            "100%|██████████| 100/100 [00:51<00:00,  1.93it/s]\n"
          ]
        },
        {
          "output_type": "stream",
          "name": "stdout",
          "text": [
            "accurate results: hits@[1, 5, 10] = [72.54 95.67 97.98], mr = 35.680, mrr = 0.823, time = 31.226 s \n",
            "number of matched relation is :  1\n",
            "number of new pair , candidate pair, train pair:  1 39 16719\n",
            "iteration 28 start.\n"
          ]
        },
        {
          "output_type": "stream",
          "name": "stderr",
          "text": [
            "100%|██████████| 100/100 [00:52<00:00,  1.90it/s]\n"
          ]
        },
        {
          "output_type": "stream",
          "name": "stdout",
          "text": [
            "accurate results: hits@[1, 5, 10] = [72.32 95.77 97.92], mr = 39.770, mrr = 0.822, time = 30.265 s \n",
            "number of matched relation is :  1\n",
            "number of new pair , candidate pair, train pair:  1 21 16758\n",
            "iteration 29 start.\n"
          ]
        },
        {
          "output_type": "stream",
          "name": "stderr",
          "text": [
            "100%|██████████| 100/100 [00:52<00:00,  1.92it/s]\n"
          ]
        },
        {
          "output_type": "stream",
          "name": "stdout",
          "text": [
            "accurate results: hits@[1, 5, 10] = [72.49 95.68 97.94], mr = 35.293, mrr = 0.823, time = 31.371 s \n",
            "number of matched relation is :  1\n",
            "number of new pair , candidate pair, train pair:  0 10 16779\n"
          ]
        }
      ]
    },
    {
      "cell_type": "code",
      "source": [
        "train_pair_main = []\n",
        "with open('/content/train_pair_main.txt','r') as f:\n",
        "    for line in f.readlines():\n",
        "        x,y = [item for item in line.split()]\n",
        "        train_pair_main.append([int(x),int(y)])\n",
        "\n",
        "dev_pair = []\n",
        "with open('/content/dev_pair.txt','r') as f:\n",
        "    for line in f.readlines():\n",
        "        x,y = [item for item in line.split()]\n",
        "        dev_pair.append([int(x),int(y)])\n",
        "\n",
        "train_pair= []\n",
        "with open('/content/train_pair.txt','r') as f:\n",
        "    for line in f.readlines():\n",
        "        x,y = [item for item in line.split()]\n",
        "        train_pair.append([int(x),int(y)])\n"
      ],
      "metadata": {
        "id": "AirN7e0608S1"
      },
      "execution_count": 12,
      "outputs": []
    },
    {
      "cell_type": "code",
      "source": [
        "dic_train_pair_main = dict()\n",
        "dic_dev_pair = dict()\n",
        "dic_train_pair = dict()\n",
        "with open('/content/train_pair_main.txt','w') as f:\n",
        "    for x,y in train_pair_main:\n",
        "        f.write(str(x)+'\\t'+str(y)+'\\n')\n",
        "        dic_train_pair_main[x] = y\n",
        "        dic_train_pair_main[y] = x\n",
        "with open('/content/dev_pair.txt','w') as f:\n",
        "    for x,y in dev_pair:\n",
        "        f.write(str(x)+'\\t'+str(y)+'\\n')\n",
        "        dic_dev_pair[x] = y\n",
        "        dic_dev_pair[y] = x\n",
        "with open('/content/train_pair.txt','w') as f:\n",
        "    for x,y in train_pair:\n",
        "        f.write(str(x)+'\\t'+str(y)+'\\n')\n",
        "        dic_train_pair[x] = y\n",
        "        dic_train_pair[y] = x"
      ],
      "metadata": {
        "id": "iz-n8WXSbtpw"
      },
      "execution_count": 13,
      "outputs": []
    },
    {
      "cell_type": "code",
      "source": [
        "import networkx as nx\n",
        "import matplotlib.pyplot as plt\n",
        "!pip install arabic-reshaper\n",
        "!pip install python-bidi\n",
        "import arabic_reshaper\n",
        "from bidi.algorithm import get_display"
      ],
      "metadata": {
        "id": "wS4RP1JBDAyV",
        "colab": {
          "base_uri": "https://localhost:8080/"
        },
        "outputId": "e1e57307-3d5a-4406-c135-7d5fca7f0d5d"
      },
      "execution_count": 14,
      "outputs": [
        {
          "output_type": "stream",
          "name": "stdout",
          "text": [
            "Looking in indexes: https://pypi.org/simple, https://us-python.pkg.dev/colab-wheels/public/simple/\n",
            "Collecting arabic-reshaper\n",
            "  Downloading arabic_reshaper-2.1.4-py3-none-any.whl (20 kB)\n",
            "Requirement already satisfied: future in /usr/local/lib/python3.7/dist-packages (from arabic-reshaper) (0.16.0)\n",
            "Installing collected packages: arabic-reshaper\n",
            "Successfully installed arabic-reshaper-2.1.4\n",
            "Looking in indexes: https://pypi.org/simple, https://us-python.pkg.dev/colab-wheels/public/simple/\n",
            "Collecting python-bidi\n",
            "  Downloading python_bidi-0.4.2-py2.py3-none-any.whl (30 kB)\n",
            "Requirement already satisfied: six in /usr/local/lib/python3.7/dist-packages (from python-bidi) (1.15.0)\n",
            "Installing collected packages: python-bidi\n",
            "Successfully installed python-bidi-0.4.2\n"
          ]
        }
      ]
    },
    {
      "cell_type": "code",
      "source": [
        "g1 = nx.Graph()\n",
        "int2label1 = dict()\n",
        "for h,r,t in triples1:\n",
        "    g1.add_edge(h,t)\n",
        "\n",
        "with open ('/content/GCN-Align/data/rrk5-0-5/ent_ids_1','r') as f:\n",
        "    for line in f.readlines():\n",
        "        e,name= [item for item in line.split()]\n",
        "        e = int(e)\n",
        "        name = name[name.index('/resource/', 1)+10:]\n",
        "        int2label1[e] = name\n",
        "        if(e > 10353):\n",
        "            g1.nodes[e]['color'] = 'red'\n",
        "        else:\n",
        "            g1.nodes[e]['color'] = 'lime'\n",
        "        \n",
        "        if(e in dic_train_pair_main):\n",
        "            g1.nodes[e]['train'] = 'blue'\n",
        "        elif(e in dic_train_pair and e in dic_dev_pair and dic_train_pair[e] == dic_dev_pair[e]):\n",
        "            g1.nodes[e]['train'] = 'green'\n",
        "        elif(e in dic_train_pair and e in dic_dev_pair and dic_train_pair[e] != dic_dev_pair[e]):\n",
        "            g1.nodes[e]['train'] = 'darkred'\n",
        "        else:\n",
        "            g1.nodes[e]['train'] = 'white'\n",
        "#g1 = nx.relabel_nodes(g1, int2label1)\n",
        "nx.write_graphml(g1,'rrk5-0-5-1.graphml')\n",
        "\n",
        "g2 = nx.Graph()\n",
        "int2label2 = dict()\n",
        "for h,r,t in triples2:\n",
        "    g2.add_edge(h,t)\n",
        "\n",
        "with open ('/content/GCN-Align/data/rrk5-0-5/ent_ids_2','r') as f:\n",
        "    for line in f.readlines():\n",
        "        e,name= [item for item in line.split()]\n",
        "        e = int(e)\n",
        "        name = name[name.index('/resource/', 1)+10:]\n",
        "        int2label2[e] = name\n",
        "        if(e > 27162):\n",
        "            g2.nodes[e]['color'] = 'red'\n",
        "        else:\n",
        "            g2.nodes[e]['color'] = 'lime'\n",
        "        \n",
        "        if(e in dic_train_pair_main):\n",
        "            g2.nodes[e]['train'] = 'blue'\n",
        "        elif(e in dic_train_pair and e in dic_dev_pair and dic_train_pair[e] == dic_dev_pair[e]):\n",
        "            g2.nodes[e]['train'] = 'green'\n",
        "        elif(e in dic_train_pair and e in dic_dev_pair and dic_train_pair[e] != dic_dev_pair[e]):\n",
        "            g2.nodes[e]['train'] = 'darkred'\n",
        "        else:\n",
        "            g2.nodes[e]['train'] = 'white'\n",
        "#g2 = nx.relabel_nodes(g2, int2label2)\n",
        "nx.write_graphml(g1,'rrk5-0-5-2.graphml')"
      ],
      "metadata": {
        "id": "M8eBxk74DEbO"
      },
      "execution_count": 24,
      "outputs": []
    },
    {
      "cell_type": "code",
      "source": [
        "e3_index =  random.randint(0,len(dev_pair))\n",
        "e3 = int(dev_pair[e3_index][0])\n",
        "e3prim = int(dev_pair[e3_index][1])\n",
        "print(e3_index,e3)\n",
        "z1 = [e3]\n",
        "z2 = [e3prim]\n",
        "\n",
        "depth = 3\n",
        "for x in range(depth):\n",
        "  N = []\n",
        "  for x in z1:\n",
        "     N.extend([x1 for x1 in g1.neighbors(x)])\n",
        "  N = list(set(N))\n",
        "  z1.extend(N)\n",
        "\n",
        "for x in range(depth):\n",
        "  N = []\n",
        "  for x in z2:\n",
        "     N.extend([x1 for x1 in g2.neighbors(x)])\n",
        "  N = list(set(N))\n",
        "  z2.extend(N)\n",
        "\n",
        "subg1 = g1.subgraph(z1)\n",
        "subg2 = g2.subgraph(z2)\n",
        "#set the argument 'with labels' to False so you have unlabeled graph\n",
        "pos1 = nx.spring_layout(subg1)\n",
        "pos2 = nx.spring_layout(subg2)\n",
        "\n",
        "d1 = {k:get_display(arabic_reshaper.reshape(v)) for k,v in int2label1.items() if k in z1}\n",
        "d2 = {k:get_display(arabic_reshaper.reshape(v)) for k,v in int2label2.items() if k in z2}\n",
        "c1 = [subg1.nodes[n]['color'] for n in subg1.nodes]\n",
        "c1_t = [subg1.nodes[n]['train'] for n in subg1.nodes]\n",
        "\n",
        "c2 = [subg2.nodes[n]['color'] for n in subg2.nodes]\n",
        "c2_t = [subg2.nodes[n]['train'] for n in subg2.nodes]\n",
        "\n",
        "plt.figure(1, figsize=(15, 15), dpi=60)\n",
        "#options = {\"edgecolors\": \"tab:gray\", \"node_size\": 800, \"alpha\": 0.9}\n",
        "nx.draw_networkx_nodes(subg1, pos1, node_color=c1_t,node_size=1000,alpha= 0.9)\n",
        "nx.draw(subg1,pos=pos1,node_color=c1,labels=d1, with_labels=True,node_size=1500)\n",
        "plt.show()\n",
        "\n",
        "# smaller nodes and fonts\n",
        "plt.figure(2, figsize=(15, 15), dpi=60)\n",
        "nx.draw_networkx_nodes(subg2, pos1, node_color=c2_t,node_size=1000,alpha= 0.9)\n",
        "nx.draw(subg2,pos = pos2, node_color=c2,labels=d2, with_labels=True,node_size=1500)\n",
        "plt.show()"
      ],
      "metadata": {
        "colab": {
          "base_uri": "https://localhost:8080/",
          "height": 1000
        },
        "id": "Q1ydPeSySjF0",
        "outputId": "80586b69-bd72-4f48-b40a-30c6655d929d"
      },
      "execution_count": 30,
      "outputs": [
        {
          "output_type": "stream",
          "name": "stdout",
          "text": [
            "5535 5049\n"
          ]
        },
        {
          "output_type": "display_data",
          "data": {
            "text/plain": [
              "<Figure size 900x900 with 1 Axes>"
            ],
            "image/png": "[encoded data removed]"
          },
          "metadata": {}
        },
        {
          "output_type": "error",
          "ename": "ValueError",
          "evalue": "ignored",
          "traceback": [
            "\u001b[0;31m---------------------------------------------------------------------------\u001b[0m",
            "\u001b[0;31mValueError\u001b[0m                                Traceback (most recent call last)",
            "\u001b[0;32m<ipython-input-30-e5813836e5af>\u001b[0m in \u001b[0;36m<module>\u001b[0;34m\u001b[0m\n\u001b[1;32m     43\u001b[0m \u001b[0;31m# smaller nodes and fonts\u001b[0m\u001b[0;34m\u001b[0m\u001b[0;34m\u001b[0m\u001b[0;34m\u001b[0m\u001b[0m\n\u001b[1;32m     44\u001b[0m \u001b[0mplt\u001b[0m\u001b[0;34m.\u001b[0m\u001b[0mfigure\u001b[0m\u001b[0;34m(\u001b[0m\u001b[0;36m2\u001b[0m\u001b[0;34m,\u001b[0m \u001b[0mfigsize\u001b[0m\u001b[0;34m=\u001b[0m\u001b[0;34m(\u001b[0m\u001b[0;36m15\u001b[0m\u001b[0;34m,\u001b[0m \u001b[0;36m15\u001b[0m\u001b[0;34m)\u001b[0m\u001b[0;34m,\u001b[0m \u001b[0mdpi\u001b[0m\u001b[0;34m=\u001b[0m\u001b[0;36m60\u001b[0m\u001b[0;34m)\u001b[0m\u001b[0;34m\u001b[0m\u001b[0;34m\u001b[0m\u001b[0m\n\u001b[0;32m---> 45\u001b[0;31m \u001b[0mnx\u001b[0m\u001b[0;34m.\u001b[0m\u001b[0mdraw_networkx_nodes\u001b[0m\u001b[0;34m(\u001b[0m\u001b[0msubg1\u001b[0m\u001b[0;34m,\u001b[0m \u001b[0mpos1\u001b[0m\u001b[0;34m,\u001b[0m \u001b[0mnode_color\u001b[0m\u001b[0;34m=\u001b[0m\u001b[0mc2_t\u001b[0m\u001b[0;34m,\u001b[0m\u001b[0mnode_size\u001b[0m\u001b[0;34m=\u001b[0m\u001b[0;36m1000\u001b[0m\u001b[0;34m,\u001b[0m\u001b[0malpha\u001b[0m\u001b[0;34m=\u001b[0m \u001b[0;36m0.9\u001b[0m\u001b[0;34m)\u001b[0m\u001b[0;34m\u001b[0m\u001b[0;34m\u001b[0m\u001b[0m\n\u001b[0m\u001b[1;32m     46\u001b[0m \u001b[0mnx\u001b[0m\u001b[0;34m.\u001b[0m\u001b[0mdraw\u001b[0m\u001b[0;34m(\u001b[0m\u001b[0msubg2\u001b[0m\u001b[0;34m,\u001b[0m\u001b[0mpos\u001b[0m \u001b[0;34m=\u001b[0m \u001b[0mpos2\u001b[0m\u001b[0;34m,\u001b[0m \u001b[0mnode_color\u001b[0m\u001b[0;34m=\u001b[0m\u001b[0mc2\u001b[0m\u001b[0;34m,\u001b[0m\u001b[0mlabels\u001b[0m\u001b[0;34m=\u001b[0m\u001b[0md2\u001b[0m\u001b[0;34m,\u001b[0m \u001b[0mwith_labels\u001b[0m\u001b[0;34m=\u001b[0m\u001b[0;32mTrue\u001b[0m\u001b[0;34m,\u001b[0m\u001b[0mnode_size\u001b[0m\u001b[0;34m=\u001b[0m\u001b[0;36m1500\u001b[0m\u001b[0;34m)\u001b[0m\u001b[0;34m\u001b[0m\u001b[0;34m\u001b[0m\u001b[0m\n\u001b[1;32m     47\u001b[0m \u001b[0mplt\u001b[0m\u001b[0;34m.\u001b[0m\u001b[0mshow\u001b[0m\u001b[0;34m(\u001b[0m\u001b[0;34m)\u001b[0m\u001b[0;34m\u001b[0m\u001b[0;34m\u001b[0m\u001b[0m\n",
            "\u001b[0;32m/usr/local/lib/python3.7/dist-packages/networkx/drawing/nx_pylab.py\u001b[0m in \u001b[0;36mdraw_networkx_nodes\u001b[0;34m(G, pos, nodelist, node_size, node_color, node_shape, alpha, cmap, vmin, vmax, ax, linewidths, edgecolors, label, margins)\u001b[0m\n\u001b[1;32m    472\u001b[0m         \u001b[0mlinewidths\u001b[0m\u001b[0;34m=\u001b[0m\u001b[0mlinewidths\u001b[0m\u001b[0;34m,\u001b[0m\u001b[0;34m\u001b[0m\u001b[0;34m\u001b[0m\u001b[0m\n\u001b[1;32m    473\u001b[0m         \u001b[0medgecolors\u001b[0m\u001b[0;34m=\u001b[0m\u001b[0medgecolors\u001b[0m\u001b[0;34m,\u001b[0m\u001b[0;34m\u001b[0m\u001b[0;34m\u001b[0m\u001b[0m\n\u001b[0;32m--> 474\u001b[0;31m         \u001b[0mlabel\u001b[0m\u001b[0;34m=\u001b[0m\u001b[0mlabel\u001b[0m\u001b[0;34m,\u001b[0m\u001b[0;34m\u001b[0m\u001b[0;34m\u001b[0m\u001b[0m\n\u001b[0m\u001b[1;32m    475\u001b[0m     )\n\u001b[1;32m    476\u001b[0m     ax.tick_params(\n",
            "\u001b[0;32m/usr/local/lib/python3.7/dist-packages/matplotlib/__init__.py\u001b[0m in \u001b[0;36minner\u001b[0;34m(ax, data, *args, **kwargs)\u001b[0m\n\u001b[1;32m   1563\u001b[0m     \u001b[0;32mdef\u001b[0m \u001b[0minner\u001b[0m\u001b[0;34m(\u001b[0m\u001b[0max\u001b[0m\u001b[0;34m,\u001b[0m \u001b[0;34m*\u001b[0m\u001b[0margs\u001b[0m\u001b[0;34m,\u001b[0m \u001b[0mdata\u001b[0m\u001b[0;34m=\u001b[0m\u001b[0;32mNone\u001b[0m\u001b[0;34m,\u001b[0m \u001b[0;34m**\u001b[0m\u001b[0mkwargs\u001b[0m\u001b[0;34m)\u001b[0m\u001b[0;34m:\u001b[0m\u001b[0;34m\u001b[0m\u001b[0;34m\u001b[0m\u001b[0m\n\u001b[1;32m   1564\u001b[0m         \u001b[0;32mif\u001b[0m \u001b[0mdata\u001b[0m \u001b[0;32mis\u001b[0m \u001b[0;32mNone\u001b[0m\u001b[0;34m:\u001b[0m\u001b[0;34m\u001b[0m\u001b[0;34m\u001b[0m\u001b[0m\n\u001b[0;32m-> 1565\u001b[0;31m             \u001b[0;32mreturn\u001b[0m \u001b[0mfunc\u001b[0m\u001b[0;34m(\u001b[0m\u001b[0max\u001b[0m\u001b[0;34m,\u001b[0m \u001b[0;34m*\u001b[0m\u001b[0mmap\u001b[0m\u001b[0;34m(\u001b[0m\u001b[0msanitize_sequence\u001b[0m\u001b[0;34m,\u001b[0m \u001b[0margs\u001b[0m\u001b[0;34m)\u001b[0m\u001b[0;34m,\u001b[0m \u001b[0;34m**\u001b[0m\u001b[0mkwargs\u001b[0m\u001b[0;34m)\u001b[0m\u001b[0;34m\u001b[0m\u001b[0;34m\u001b[0m\u001b[0m\n\u001b[0m\u001b[1;32m   1566\u001b[0m \u001b[0;34m\u001b[0m\u001b[0m\n\u001b[1;32m   1567\u001b[0m         \u001b[0mbound\u001b[0m \u001b[0;34m=\u001b[0m \u001b[0mnew_sig\u001b[0m\u001b[0;34m.\u001b[0m\u001b[0mbind\u001b[0m\u001b[0;34m(\u001b[0m\u001b[0max\u001b[0m\u001b[0;34m,\u001b[0m \u001b[0;34m*\u001b[0m\u001b[0margs\u001b[0m\u001b[0;34m,\u001b[0m \u001b[0;34m**\u001b[0m\u001b[0mkwargs\u001b[0m\u001b[0;34m)\u001b[0m\u001b[0;34m\u001b[0m\u001b[0;34m\u001b[0m\u001b[0m\n",
            "\u001b[0;32m/usr/local/lib/python3.7/dist-packages/matplotlib/cbook/deprecation.py\u001b[0m in \u001b[0;36mwrapper\u001b[0;34m(*args, **kwargs)\u001b[0m\n\u001b[1;32m    356\u001b[0m                 \u001b[0;34mf\"%(removal)s.  If any parameter follows {name!r}, they \"\u001b[0m\u001b[0;34m\u001b[0m\u001b[0;34m\u001b[0m\u001b[0m\n\u001b[1;32m    357\u001b[0m                 f\"should be pass as keyword, not positionally.\")\n\u001b[0;32m--> 358\u001b[0;31m         \u001b[0;32mreturn\u001b[0m \u001b[0mfunc\u001b[0m\u001b[0;34m(\u001b[0m\u001b[0;34m*\u001b[0m\u001b[0margs\u001b[0m\u001b[0;34m,\u001b[0m \u001b[0;34m**\u001b[0m\u001b[0mkwargs\u001b[0m\u001b[0;34m)\u001b[0m\u001b[0;34m\u001b[0m\u001b[0;34m\u001b[0m\u001b[0m\n\u001b[0m\u001b[1;32m    359\u001b[0m \u001b[0;34m\u001b[0m\u001b[0m\n\u001b[1;32m    360\u001b[0m     \u001b[0;32mreturn\u001b[0m \u001b[0mwrapper\u001b[0m\u001b[0;34m\u001b[0m\u001b[0;34m\u001b[0m\u001b[0m\n",
            "\u001b[0;32m/usr/local/lib/python3.7/dist-packages/matplotlib/axes/_axes.py\u001b[0m in \u001b[0;36mscatter\u001b[0;34m(self, x, y, s, c, marker, cmap, norm, vmin, vmax, alpha, linewidths, verts, edgecolors, plotnonfinite, **kwargs)\u001b[0m\n\u001b[1;32m   4401\u001b[0m             self._parse_scatter_color_args(\n\u001b[1;32m   4402\u001b[0m                 \u001b[0mc\u001b[0m\u001b[0;34m,\u001b[0m \u001b[0medgecolors\u001b[0m\u001b[0;34m,\u001b[0m \u001b[0mkwargs\u001b[0m\u001b[0;34m,\u001b[0m \u001b[0mx\u001b[0m\u001b[0;34m.\u001b[0m\u001b[0msize\u001b[0m\u001b[0;34m,\u001b[0m\u001b[0;34m\u001b[0m\u001b[0;34m\u001b[0m\u001b[0m\n\u001b[0;32m-> 4403\u001b[0;31m                 get_next_color_func=self._get_patches_for_fill.get_next_color)\n\u001b[0m\u001b[1;32m   4404\u001b[0m \u001b[0;34m\u001b[0m\u001b[0m\n\u001b[1;32m   4405\u001b[0m         \u001b[0;32mif\u001b[0m \u001b[0mplotnonfinite\u001b[0m \u001b[0;32mand\u001b[0m \u001b[0mcolors\u001b[0m \u001b[0;32mis\u001b[0m \u001b[0;32mNone\u001b[0m\u001b[0;34m:\u001b[0m\u001b[0;34m\u001b[0m\u001b[0;34m\u001b[0m\u001b[0m\n",
            "\u001b[0;32m/usr/local/lib/python3.7/dist-packages/matplotlib/axes/_axes.py\u001b[0m in \u001b[0;36m_parse_scatter_color_args\u001b[0;34m(c, edgecolors, kwargs, xsize, get_next_color_func)\u001b[0m\n\u001b[1;32m   4250\u001b[0m                     \u001b[0;31m# NB: remember that a single color is also acceptable.\u001b[0m\u001b[0;34m\u001b[0m\u001b[0;34m\u001b[0m\u001b[0;34m\u001b[0m\u001b[0m\n\u001b[1;32m   4251\u001b[0m                     \u001b[0;31m# Besides *colors* will be an empty array if c == 'none'.\u001b[0m\u001b[0;34m\u001b[0m\u001b[0;34m\u001b[0m\u001b[0;34m\u001b[0m\u001b[0m\n\u001b[0;32m-> 4252\u001b[0;31m                     \u001b[0;32mraise\u001b[0m \u001b[0minvalid_shape_exception\u001b[0m\u001b[0;34m(\u001b[0m\u001b[0mlen\u001b[0m\u001b[0;34m(\u001b[0m\u001b[0mcolors\u001b[0m\u001b[0;34m)\u001b[0m\u001b[0;34m,\u001b[0m \u001b[0mxsize\u001b[0m\u001b[0;34m)\u001b[0m\u001b[0;34m\u001b[0m\u001b[0;34m\u001b[0m\u001b[0m\n\u001b[0m\u001b[1;32m   4253\u001b[0m         \u001b[0;32melse\u001b[0m\u001b[0;34m:\u001b[0m\u001b[0;34m\u001b[0m\u001b[0;34m\u001b[0m\u001b[0m\n\u001b[1;32m   4254\u001b[0m             \u001b[0mcolors\u001b[0m \u001b[0;34m=\u001b[0m \u001b[0;32mNone\u001b[0m  \u001b[0;31m# use cmap, norm after collection is created\u001b[0m\u001b[0;34m\u001b[0m\u001b[0;34m\u001b[0m\u001b[0m\n",
            "\u001b[0;31mValueError\u001b[0m: 'c' argument has 47 elements, which is inconsistent with 'x' and 'y' with size 48."
          ]
        },
        {
          "output_type": "display_data",
          "data": {
            "text/plain": [
              "<Figure size 900x900 with 1 Axes>"
            ],
            "image/png": "[encoded data removed]"
          },
          "metadata": {
            "needs_background": "light"
          }
        }
      ]
    },
    {
      "cell_type": "code",
      "source": [],
      "metadata": {
        "id": "kjeLbrAR9df0"
      },
      "execution_count": null,
      "outputs": []
    },
    {
      "cell_type": "code",
      "source": [
        "print(z1)\n",
        "print(d1)\n",
        "print(pos)"
      ],
      "metadata": {
        "id": "qbFzFkoV4HTQ",
        "outputId": "fa1d8927-1602-4f43-d5da-680243737a84",
        "colab": {
          "base_uri": "https://localhost:8080/"
        }
      },
      "execution_count": null,
      "outputs": [
        {
          "output_type": "stream",
          "name": "stdout",
          "text": [
            "[11523, 6400, 7203, 7323, 589, 5297, 6391, 1051, 5020]\n",
            "{589: 'شرکت_سهامی_خاص_گروه_توسعه_سلامت_آتی_کیهان', 1051: 'شرکت_سهامی_خاص_گهر_سیوان_شرق', 5020: 'شرکت_سهامی_خاص_گهر_مکمل_شرق', 5297: 'شرکت_سهامی_خاص_گروه_آبکوه_سامان_تهران', 6391: 'شرکت_تعاونی_توسعه_گهر_ماکیان_ایرانیان', 6400: 'شرکت_تعاونی_گهر_بال_شرق', 7203: 'شرکت_تعاونی_گروه_تولیدی_و_بازرگانی_گهر_پروتئین_ایرانیان', 7323: 'شرکت_سهامی_خاص_گروه_توسعه_سرمایه_گذاری_تولیدی_بازرگانی_گهر_تجارت_شرق', 11523: 'رضا_صالحان'}\n",
            "{6400: array([-0.75609522, -0.65596322]), 7203: array([0.75190557, 0.65456565]), 11523: array([0.00132656, 0.00059015]), 1051: array([-0.99669562,  0.07091678]), 589: array([0.07032885, 0.99787689]), 5297: array([ 0.65972657, -0.7562667 ]), 6391: array([-0.65729899,  0.75765467]), 7323: array([ 0.99725375, -0.06937423]), 5020: array([-0.07045148, -1.        ])}\n"
          ]
        }
      ]
    },
    {
      "cell_type": "code",
      "source": [
        "\n",
        "text = \"رضایی زاده حسین\"\n",
        "\n"
      ],
      "metadata": {
        "id": "7Mf0WZ9K5wj5",
        "outputId": "4d978896-2c73-45ae-d885-bb61c22f3deb",
        "colab": {
          "base_uri": "https://localhost:8080/"
        }
      },
      "execution_count": null,
      "outputs": [
        {
          "output_type": "stream",
          "name": "stdout",
          "text": [
            "Looking in indexes: https://pypi.org/simple, https://us-python.pkg.dev/colab-wheels/public/simple/\n",
            "Requirement already satisfied: arabic-reshaper in /usr/local/lib/python3.7/dist-packages (2.1.4)\n",
            "Requirement already satisfied: future in /usr/local/lib/python3.7/dist-packages (from arabic-reshaper) (0.16.0)\n",
            "Looking in indexes: https://pypi.org/simple, https://us-python.pkg.dev/colab-wheels/public/simple/\n",
            "Requirement already satisfied: python-bidi in /usr/local/lib/python3.7/dist-packages (0.4.2)\n",
            "Requirement already satisfied: six in /usr/local/lib/python3.7/dist-packages (from python-bidi) (1.15.0)\n"
          ]
        }
      ]
    },
    {
      "cell_type": "code",
      "source": [
        "for x in d1:\n",
        "    d1[x] = "
      ],
      "metadata": {
        "id": "TRTbmMTU6Lck"
      },
      "execution_count": null,
      "outputs": []
    },
    {
      "cell_type": "code",
      "source": [
        "\n"
      ],
      "metadata": {
        "id": "qkOHTIC24qdh",
        "outputId": "ed613bba-0d46-4515-f83c-5cade3ac250d",
        "colab": {
          "base_uri": "https://localhost:8080/",
          "height": 319
        }
      },
      "execution_count": null,
      "outputs": [
        {
          "output_type": "display_data",
          "data": {
            "text/plain": [
              "<Figure size 432x288 with 1 Axes>"
            ],
            "image/png": "[encoded data removed]"
          },
          "metadata": {}
        }
      ]
    },
    {
      "cell_type": "code",
      "source": [
        "print(x)\n",
        "print(g1)"
      ],
      "metadata": {
        "colab": {
          "base_uri": "https://localhost:8080/"
        },
        "id": "2oy2PHOefVxl",
        "outputId": "0a750cc6-bb2e-4951-a409-009b0fdf7cb6"
      },
      "execution_count": null,
      "outputs": [
        {
          "output_type": "stream",
          "name": "stdout",
          "text": [
            "2547\n",
            "Graph with 15438 nodes and 24184 edges\n"
          ]
        }
      ]
    },
    {
      "cell_type": "code",
      "source": [
        "[n for n in g1.neighbors(0)]"
      ],
      "metadata": {
        "colab": {
          "base_uri": "https://localhost:8080/"
        },
        "id": "fNeNA2JTVMl5",
        "outputId": "cdd60b58-e6c7-4dab-f3aa-f750d15ec15c"
      },
      "execution_count": null,
      "outputs": [
        {
          "output_type": "execute_result",
          "data": {
            "text/plain": [
              "[10356]"
            ]
          },
          "metadata": {},
          "execution_count": 63
        }
      ]
    },
    {
      "cell_type": "code",
      "source": [],
      "metadata": {
        "id": "9YfYpys2UPk7"
      },
      "execution_count": null,
      "outputs": []
    }
  ],
  "metadata": {
    "colab": {
      "collapsed_sections": [],
      "name": "EA.ipynb",
      "provenance": [],
      "include_colab_link": true
    },
    "kernelspec": {
      "display_name": "Python 3",
      "name": "python3"
    },
    "language_info": {
      "name": "python"
    }
  },
  "nbformat": 4,
  "nbformat_minor": 0
}